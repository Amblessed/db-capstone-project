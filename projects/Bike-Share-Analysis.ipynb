{
 "cells": [
  {
   "cell_type": "code",
   "execution_count": 1,
   "id": "9cf25fd4-ac36-4f9d-936c-9b442c729b83",
   "metadata": {},
   "outputs": [],
   "source": [
    "import os, sys\n",
    "import mysql.connector as connector\n",
    "import subprocess\n",
    "import logging\n",
    "import csv\n",
    "sys.path.append(\"..\")\n",
    "from display.display_query import execute_display_query_results, select_all_query"
   ]
  },
  {
   "cell_type": "markdown",
   "id": "b0eaf8df-41ed-4716-9ed0-ae9cd952dcab",
   "metadata": {},
   "source": [
    "# Create logger"
   ]
  },
  {
   "cell_type": "code",
   "execution_count": 2,
   "id": "dc987cd6-4a9e-4aee-a22c-7d5823d45853",
   "metadata": {},
   "outputs": [],
   "source": [
    "logger = logging.getLogger(\"[BikeShare MySQL]\")\n",
    "if os.path.exists(\"../log/bikeshare.log\"):\n",
    "  os.remove(\"../log/bikeshare.log\")\n",
    "logging.basicConfig(filename='../log/bikeshare.log', encoding='utf-8', level=logging.DEBUG, format='%(asctime)s ==> %(message)s', datefmt='%m/%d/%Y %I:%M:%S')"
   ]
  },
  {
   "cell_type": "markdown",
   "id": "3a8fe084-2f39-4bef-8f1b-47e31c73df1d",
   "metadata": {},
   "source": [
    "# Create Connection and Cursor object"
   ]
  },
  {
   "cell_type": "code",
   "execution_count": 3,
   "id": "10ed2aa4-39d5-4a15-98be-e0ec7a04531e",
   "metadata": {},
   "outputs": [
    {
     "name": "stdout",
     "output_type": "stream",
     "text": [
      "Connection established between MySQL and Python\n",
      "Creating cursor object from connection\n",
      "Cursor object created to communicate with MySQL\n"
     ]
    }
   ],
   "source": [
    "logger.info(\"Creating a connection between MySQL and Python\")\n",
    "dbconfig={\"user\":\"root\", \"password\":os.environ[\"MYSQL_ROOT_PASSWORD\"], \"port\":33061, \"host\":\"localhost\"}\n",
    "connection=connector.connect(**dbconfig)\n",
    "print(\"Connection established between MySQL and Python\")\n",
    "logger.info(\"Connection established between MySQL and Python\")\n",
    "\n",
    "print(\"Creating cursor object from connection\")\n",
    "logger.info(\"Creating first cursor object from connection\")\n",
    "cursor = connection.cursor()\n",
    "print(\"Cursor object created to communicate with MySQL\")\n",
    "logger.info(\"Cursor object created to communicate with MySQL\")"
   ]
  },
  {
   "cell_type": "markdown",
   "id": "144604d1-c12f-4dbb-a4a5-8f776d1c868b",
   "metadata": {},
   "source": [
    "# Create Database and table"
   ]
  },
  {
   "cell_type": "code",
   "execution_count": 4,
   "id": "f588bd11-8a44-43d2-9d5f-207a9576d57c",
   "metadata": {},
   "outputs": [
    {
     "name": "stdout",
     "output_type": "stream",
     "text": [
      "Creating Database db_bikeshare.\n",
      "db_bikeshare Database created.\n",
      "Database 'db_bikeshare' was successfully created\n",
      "Database 'db_bikeshare' set for use.\n"
     ]
    }
   ],
   "source": [
    "database_name: str = \"db_bikeshare\"\n",
    "drop_database_query: str = f\"\"\"DROP DATABASE IF EXISTS {database_name}\"\"\"\n",
    "cursor.execute(drop_database_query)\n",
    "logger.info(f\"Dropping Database {database_name} if it already exists.\")\n",
    "\n",
    "create_database_query: str = f\"\"\"CREATE DATABASE IF NOT EXISTS {database_name}\"\"\"\n",
    "print(f\"Creating Database {database_name}.\")\n",
    "logger.info(f\"Creating Database {database_name}.\")\n",
    "cursor.execute(create_database_query)\n",
    "logger.info(f\"{database_name} Database created.\")\n",
    "print(f\"{database_name} Database created.\")\n",
    "\n",
    "\n",
    "# Check that database was created\n",
    "cursor.execute(\"SHOW DATABASES;\")\n",
    "databases = cursor.fetchall()\n",
    "isCreated = False\n",
    "for database in databases:\n",
    "    db_name: str = database[0]\n",
    "    if db_name == database_name:\n",
    "        isCreated = True\n",
    "        print(f\"Database '{database_name}' was successfully created\")\n",
    "        logger.info(f\"Database '{database_name}' was successfully created.\")\n",
    "        break\n",
    "\n",
    "if not isCreated:\n",
    "    print(f\"Database '{database_name}' was not successfully created\")\n",
    "    logger.info(f\"Database '{database_name}' was not successfully created.\")\n",
    "    sys.exit()\n",
    "\n",
    "# Set the new created database as the database to use\n",
    "cursor.execute(f\"USE {database_name}\")\n",
    "print(f\"Database '{database_name}' set for use.\")\n",
    "logger.info(f\"Database '{database_name}' set for use.\")"
   ]
  },
  {
   "cell_type": "code",
   "execution_count": 5,
   "id": "55400f85-058e-42c6-9b17-0552deb4b323",
   "metadata": {},
   "outputs": [
    {
     "name": "stdout",
     "output_type": "stream",
     "text": [
      "['dteday', 'season', 'yr', 'mnth', 'hr', 'holiday', 'weekday', 'workingday', 'weathersit', 'temp', 'atemp', 'hum', 'windspeed', 'rider_type', 'riders']\n",
      "['1/1/2021', '1', '0', '1', '0', '0', '6', '0', '1', '0.24', '0.2879', '0.81', '0', 'casual', '3']\n",
      "['1/1/2021', '1', '0', '1', '1', '0', '6', '0', '1', '0.22', '0.2727', '0.8', '0', 'casual', '8']\n",
      "['1/1/2021', '1', '0', '1', '2', '0', '6', '0', '1', '0.22', '0.2727', '0.8', '0', 'casual', '5']\n",
      "['1/1/2021', '1', '0', '1', '3', '0', '6', '0', '1', '0.24', '0.2879', '0.75', '0', 'casual', '3']\n",
      "['1/1/2021', '1', '0', '1', '4', '0', '6', '0', '1', '0.24', '0.2879', '0.75', '0', 'casual', '0']\n",
      "['1/1/2021', '1', '0', '1', '5', '0', '6', '0', '2', '0.24', '0.2576', '0.75', '0.0896', 'casual', '0']\n",
      "['1/1/2021', '1', '0', '1', '6', '0', '6', '0', '1', '0.22', '0.2727', '0.8', '0', 'casual', '2']\n",
      "['1/1/2021', '1', '0', '1', '7', '0', '6', '0', '1', '0.2', '0.2576', '0.86', '0', 'casual', '1']\n",
      "['1/1/2021', '1', '0', '1', '8', '0', '6', '0', '1', '0.24', '0.2879', '0.75', '0', 'casual', '1']\n"
     ]
    }
   ],
   "source": [
    "# Open the CSV file in read mode\n",
    "count = 0\n",
    "with open('./bike_share_yr_0.csv', 'r') as csvfile:\n",
    "    csv_reader = csv.reader(csvfile)\n",
    "    for row in csv_reader:\n",
    "        print(row)\n",
    "        count += 1\n",
    "        if count == 10:\n",
    "            break\n",
    "      "
   ]
  }
 ],
 "metadata": {
  "kernelspec": {
   "display_name": "Python 3 (ipykernel)",
   "language": "python",
   "name": "python3"
  },
  "language_info": {
   "codemirror_mode": {
    "name": "ipython",
    "version": 3
   },
   "file_extension": ".py",
   "mimetype": "text/x-python",
   "name": "python",
   "nbconvert_exporter": "python",
   "pygments_lexer": "ipython3",
   "version": "3.11.7"
  }
 },
 "nbformat": 4,
 "nbformat_minor": 5
}
