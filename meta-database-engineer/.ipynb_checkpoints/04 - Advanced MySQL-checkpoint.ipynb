{
 "cells": [
  {
   "cell_type": "markdown",
   "id": "ae42f5d4-797a-4bec-9bc5-ddce9d9a5ece",
   "metadata": {},
   "source": [
    "## Import the necessary modules"
   ]
  },
  {
   "cell_type": "code",
   "execution_count": 1,
   "id": "4ba5cc02-88ab-4881-b804-cc3189ee115e",
   "metadata": {},
   "outputs": [],
   "source": [
    "import os\n",
    "import mysql.connector as connector\n",
    "import logging"
   ]
  },
  {
   "cell_type": "markdown",
   "id": "bec37769-62f2-46c7-a034-3e6050f18aed",
   "metadata": {},
   "source": [
    "## Functions\n",
    "Stored procedures and functions wrap code within the body of a function or procedure for repeated use\n",
    "- Functions: used to return a specific value\n",
    "- Stored procedures: Processing, manipulating and modifying data\n",
    "- Variable: Used to pass values between SQL statements, or between a procedure and a SQL statement. They are created inside or outside a Stored procedure or SELECT statement\n",
    "\n",
    "## Variables syntax\n",
    "```sql\n",
    "@variable_name = value\n",
    "```\n",
    "\n",
    "**SET** command  \n",
    "Assigns a value to a variable within a stored procedure\n",
    "```sql\n",
    "SET @variable_name = value\n",
    "```\n",
    "To create a variable inside a stored procedure, use the ```declare``` command  \n",
    "\n",
    "Variables inside a SELECT command\n",
    "```sql\n",
    "SELECT @variable_name := value;\n",
    "SELECT @max_order := MAX(Cost) FROM Orders;\n",
    "SELECT @max_order\n",
    "SELECT function() INTO variable_name FROM table_name;\n",
    "SELECT AVG(Cost) INTO @average_cost FROM Orders;\n",
    "```\n",
    "\n",
    "\n",
    "## Parameters\n",
    "Pass arguments, or values, to a function or procedure from the outside\n",
    "- Types of Parameters: IN, OUT, INOUT\n",
    "\n",
    "OUT parameter syntax\n",
    "```sql\n",
    "CREATE PROCEDURE GetLowestCost (OUT LowestCost DECIMAL(6, 2))\n",
    "SELECT MIN(Cost) INTO LowestCost FROM Orders;\n",
    "\n",
    "CALL GetLowestCost(@order_lowest_cost)\n",
    "SELECT @order_lowest_cost\n",
    "```\n",
    "\n",
    "INOUT parameter syntax\n",
    "```sql\n",
    "CREATE PROCEDURE SquareAnumber(INOUT aNumber INT)\n",
    "BEGIN\n",
    "    SET aNumber = aNumber * aNumber;\n",
    "END\n",
    "\n",
    "SET @x_number = 5\n",
    "CALL SquareAnumber(@x_number)\n",
    "```\n",
    "\n",
    "## User-defined function syntax\n",
    "```sql\n",
    "CREATE FUNCTION function_name()\n",
    "RETURNS datatype DETERMINISTIC\n",
    "RETURN\n",
    "```"
   ]
  },
  {
   "cell_type": "markdown",
   "id": "82033c8a-069a-4379-9741-2b6b43849b76",
   "metadata": {},
   "source": [
    "# Triggers \n",
    "A Set of actions available in the form of a stored program invoked when an event occurs. Example includes INSERT, UPDATE AND DELETE. It is associated with a table\n",
    "```sql\n",
    "CREATE TRIGGER trigger_name\n",
    "TRIGGER TYPE\n",
    "ON table_name FOR EACH ROW\n",
    "BEGIN \n",
    "statement_one\n",
    "statement_two\n",
    "END\n",
    "```\n",
    "\n",
    "```sql\n",
    "DROP TRIGGER IF EXISTS schema_name.trigger_name\n",
    "```\n",
    "\n",
    "- Each trigger name must be unique within the database\n",
    "- Dropping a table from a database removes the related triggers\n",
    "- Useful for maintaining audit trails\n",
    "- Alternative to constraints: Maintain data integrity and run tasks\n",
    "\n",
    "## Types of Triggers\n",
    "- Row-level: Trigger invoked for each row. 100 rows ==> 100 row-level triggers ==> Table.  MySQL only supports this kind of trigger.\n",
    "- Statement-level: Trigger invoked for each statement. 100 rows ==> Single Trigger ==> Table. This is not supported by MySQL\n",
    "\n",
    "BEFORE  \n",
    "Trigger invoked before an action. BEFORE INSERT, BEFORE UPDATE, BEFORE DELETE  \n",
    "AFTER   \n",
    "Trigger innvoked after an action. AFTER INSERT, AFTER UPDATE, AFTER DELETE\n",
    "\n",
    "\n",
    "```sql\n",
    "CREATE TRIGGER OrderQtyCheck\n",
    "BEFORE INSERT ON Orders FOR EACH ROW\n",
    "BEGIN\n",
    "IF NEW.orderQty < 0 THEN\n",
    "SET NEW.orderQty = 0;\n",
    "END IF;\n",
    "END;\n",
    "```\n",
    "\n",
    "```sql\n",
    "CREATE TRIGGER LogNewOrderInsert\n",
    "AFTER INSERT ON Orders FOR EACH ROW\n",
    "BEGIN\n",
    "INSERT INTO Audits VALUES('AFTER', 'A new order was inserted', 'INSERT');\n",
    "END;\n",
    "```\n",
    "\n",
    "```sql\n",
    "CREATE TRIGGER AfterDeleteOrder\n",
    "AFTER INSERT ON Orders FOR EACH ROW\n",
    "BEGIN\n",
    "INSERT INTO Audits VALUES('AFTER', CONCAT('Order', OLD.OrderID, ' was deleted at ', CURRENT_TIME(), ' on ', CURRENT_DATE(), 'DELETE'));\n",
    "END;\n",
    "```\n",
    "\n",
    "\n",
    "# Working with MySQL Scheduled Events\n",
    "A scheduled event is a task that takes place at a specific time according to a schedule\n",
    "- All Events have a unique name\n",
    "- Each event contains one or more SQL statements\n",
    "- Events can occur once or multiple times\n",
    "\n",
    "```sql\n",
    "CREATE EVENT IF NOT EXISTS event_name\n",
    "ON SCHEDULE AT CURRENT_TIMESTAMP [+ INTERVAL]\n",
    "DO \n",
    "Event_body\n",
    "```\n",
    "\n",
    "```sql\n",
    "CREATE EVENT IF NOT EXISTS GenerateRevenueReport\n",
    "ON SCHEDULE AT CURRENT_TIMESTAMP + INTERVAL 12 HOUR\n",
    "DO \n",
    "BEGIN\n",
    "INSERT INTO ReportData (OrderID, ClientID, ProductID, Quantity, Cost, Date)\n",
    "SELECT * FROM Orders WHERE Date BETWEEN '2022-08-01' AND '2022-08-31'\n",
    "END\n",
    "```\n",
    "\n",
    "```sql\n",
    "CREATE EVENT IF NOT EXISTS GenerateRevenueReport\n",
    "ON SCHEDULE EVERY INTERVAL STARTS timestamp [+ INTERVAL] ENDS timestamp [+ INTERVAL]\n",
    "DO \n",
    "BEGIN\n",
    "INSERT INTO ReportData (OrderID, ClientID, ProductID, Quantity, Cost, Date)\n",
    "SELECT * FROM Orders WHERE Date BETWEEN '2022-08-01' AND '2022-08-31'\n",
    "END\n",
    "```\n",
    "\n",
    "```sql\n",
    "CREATE EVENT IF NOT EXISTS DailyRestock\n",
    "ON SCHEDULE EVERY 1 DAY\n",
    "DO \n",
    "BEGIN\n",
    "IF Products.NumberOfItems < 50 THEN \n",
    "UPDATE Products SET NumberOfItems = 50;\n",
    "END IF;\n",
    "END\n",
    "```"
   ]
  },
  {
   "cell_type": "markdown",
   "id": "fea41ea6-1318-488c-bdf1-bc46471267a5",
   "metadata": {},
   "source": [
    "# Labs\n",
    "## Create a logger"
   ]
  },
  {
   "cell_type": "code",
   "execution_count": 2,
   "id": "38129f64-f532-4d53-a3d0-14bef70e7d7a",
   "metadata": {},
   "outputs": [],
   "source": [
    "logger = logging.getLogger(\"[Advanced MySQL]\")\n",
    "if os.path.exists(\"log/advanced-mysql.log\"):\n",
    "  os.remove(\"log/advanced-mysql.log\")\n",
    "logging.basicConfig(filename='log/advanced-mysql.log', encoding='utf-8', level=logging.DEBUG, format='%(asctime)s ==> %(message)s', datefmt='%m/%d/%Y %I:%M:%S')"
   ]
  },
  {
   "cell_type": "markdown",
   "id": "0b6a9b67-1843-4b2c-a8d0-fb97f40a54c5",
   "metadata": {},
   "source": [
    "## Establish a connection using MySQLConnectionPool "
   ]
  },
  {
   "cell_type": "code",
   "execution_count": 3,
   "id": "b317b0b2-fe16-42b3-8b61-9f419f909d2c",
   "metadata": {},
   "outputs": [
    {
     "name": "stdout",
     "output_type": "stream",
     "text": [
      "Connection established between MySQL and Python\n"
     ]
    }
   ],
   "source": [
    "logger.info(\"Creating a connection between MySQL and Python\")\n",
    "dbconfig={\"user\":\"root\", \"password\":os.environ[\"MYSQL_PASSWORD\"], \"port\":33061, \"host\":\"localhost\"}\n",
    "connection=connector.connect(**dbconfig)\n",
    "print(\"Connection established between MySQL and Python\")\n",
    "logger.info(\"Connection established between MySQL and Python\")"
   ]
  },
  {
   "cell_type": "markdown",
   "id": "02d48dd4-bbf3-4e01-a8e1-0750b6b1f072",
   "metadata": {},
   "source": [
    "## Create a cursor objects"
   ]
  },
  {
   "cell_type": "code",
   "execution_count": 4,
   "id": "c6518dff-0bdb-4e21-b52d-ec62ddd1c1f2",
   "metadata": {},
   "outputs": [
    {
     "name": "stdout",
     "output_type": "stream",
     "text": [
      "Creating cursor object from connection\n",
      "Cursor object created to communicate with MySQL using Python.\n"
     ]
    }
   ],
   "source": [
    "print(\"Creating cursor object from connection\")\n",
    "logger.info(\"Creating first cursor object from connection\")\n",
    "cursor = connection.cursor()\n",
    "print(\"Cursor object created to communicate with MySQL using Python.\")\n",
    "logger.info(\"Cursor object created to communicate with MySQL using Python.\")"
   ]
  },
  {
   "cell_type": "markdown",
   "id": "5cd77945-bfca-4554-996f-83045e099093",
   "metadata": {},
   "source": [
    "## Create Database "
   ]
  },
  {
   "cell_type": "code",
   "execution_count": 5,
   "id": "35868d63-637d-452b-a90b-a9f8519498a0",
   "metadata": {},
   "outputs": [
    {
     "name": "stdout",
     "output_type": "stream",
     "text": [
      "Creating Database.\n",
      "Database created.\n"
     ]
    }
   ],
   "source": [
    "# Get a cursor object from the cursor pool\n",
    "database_name: str = \"db_meta_advanced_mysql\"\n",
    "drop_database_query: str = f\"\"\"DROP DATABASE IF EXISTS {database_name}\"\"\"\n",
    "cursor.execute(drop_database_query)\n",
    "logger.info(\"Dropping Database if it already exists.\")\n",
    "\n",
    "create_database_query: str = f\"\"\"CREATE DATABASE IF NOT EXISTS {database_name}\"\"\"\n",
    "print(\"Creating Database.\")\n",
    "logger.info(\"Creating Database.\")\n",
    "cursor.execute(create_database_query)\n",
    "logger.info(\"Database created.\")\n",
    "print(\"Database created.\")"
   ]
  },
  {
   "cell_type": "code",
   "execution_count": 6,
   "id": "b6a1198f-e5ee-4e72-a81e-f2868f667b0e",
   "metadata": {},
   "outputs": [
    {
     "ename": "NameError",
     "evalue": "name 'first_cursor' is not defined",
     "output_type": "error",
     "traceback": [
      "\u001b[0;31m---------------------------------------------------------------------------\u001b[0m",
      "\u001b[0;31mNameError\u001b[0m                                 Traceback (most recent call last)",
      "Cell \u001b[0;32mIn[6], line 4\u001b[0m\n\u001b[1;32m      2\u001b[0m list_of_databases: \u001b[38;5;28mlist\u001b[39m \u001b[38;5;241m=\u001b[39m []\n\u001b[1;32m      3\u001b[0m cursor\u001b[38;5;241m.\u001b[39mexecute(\u001b[38;5;124m\"\u001b[39m\u001b[38;5;124mSHOW DATABASES;\u001b[39m\u001b[38;5;124m\"\u001b[39m)\n\u001b[0;32m----> 4\u001b[0m databases \u001b[38;5;241m=\u001b[39m first_cursor\u001b[38;5;241m.\u001b[39mfetchall()\n\u001b[1;32m      5\u001b[0m \u001b[38;5;28;01mfor\u001b[39;00m database \u001b[38;5;129;01min\u001b[39;00m databases:\n\u001b[1;32m      6\u001b[0m     db_name: \u001b[38;5;28mstr\u001b[39m \u001b[38;5;241m=\u001b[39m database[\u001b[38;5;241m0\u001b[39m]\n",
      "\u001b[0;31mNameError\u001b[0m: name 'first_cursor' is not defined"
     ]
    }
   ],
   "source": [
    "# Check to see that the database was created\n",
    "list_of_databases: list = []\n",
    "cursor.execute(\"SHOW DATABASES;\")\n",
    "databases = cursor.fetchall()\n",
    "for database in databases:\n",
    "    db_name: str = database[0]\n",
    "    list_of_databases.append(db_name)\n",
    "    if db_name == database_name:\n",
    "        print(f\"Database '{database_name}' was successfully created\")\n",
    "        logger.info(f\"Database '{database_name}' was successfully created.\")\n",
    "        break\n",
    "\n",
    "# Set the new created database as the database to use\n",
    "cursor.execute(f\"USE {database_name}\")\n",
    "print(f\"Database '{database_name}' set for use.\")\n",
    "logger.info(f\"Database '{database_name}' set for use.\")"
   ]
  },
  {
   "cell_type": "markdown",
   "id": "fcf01c88-bca6-4ce4-9232-9460710e8f03",
   "metadata": {},
   "source": [
    "## Assert Database contains no Tables"
   ]
  },
  {
   "cell_type": "code",
   "execution_count": null,
   "id": "b226f1be-69aa-435c-b8a3-c492cafcc472",
   "metadata": {},
   "outputs": [],
   "source": [
    "## Expect an empty list to be returned \n",
    "show_tables_query = \"\"\"SHOW TABLES;\"\"\"\n",
    "cursor.execute(show_tables_query)\n",
    "results = cursor.rowcount\n",
    "assert results == 0"
   ]
  },
  {
   "cell_type": "markdown",
   "id": "8a5274ec-70cc-4188-8806-401bbd7e2c50",
   "metadata": {},
   "source": [
    "## Create Tables"
   ]
  },
  {
   "cell_type": "code",
   "execution_count": null,
   "id": "1131d285-6254-4cb0-a1d8-bc1680283d39",
   "metadata": {},
   "outputs": [],
   "source": [
    "create_orders_query = \"\"\"CREATE TABLE IF NOT EXISTS tbl_orders (OrderID INT NOT NULL PRIMARY KEY, ClientID VARCHAR(10), ProductID VARCHAR(10), Quantity INT, Cost DECIMAL(6,2), Date DATE);\"\"\"\n",
    "cursor.execute(create_orders_query)\n",
    "#logger.info(\"tbl_orders table created.\")\n",
    "\n",
    "create_products_query = \"\"\"CREATE TABLE IF NOT EXISTS tbl_products (ProductID VARCHAR(10), ProductName VARCHAR(100),BuyPrice DECIMAL(6,2), SellPrice DECIMAL(6,2), NumberOfItems INT);\"\"\"\n",
    "cursor.execute(create_products_query)\n",
    "#logger.info(\"tbl_products table created.\")\n",
    "\n",
    "create_notifications_query = \"\"\"CREATE TABLE IF NOT EXISTS tbl_notifications (NotificationID INT AUTO_INCREMENT, Notification VARCHAR(255), DateTime TIMESTAMP NOT NULL, PRIMARY KEY(NotificationID));\"\"\"\n",
    "cursor.execute(create_notifications_query)\n",
    "#logger.info(\"tbl_notifications table created.\")"
   ]
  },
  {
   "cell_type": "code",
   "execution_count": null,
   "id": "9484c2b3-e5d3-44d6-b40c-971e0710fe62",
   "metadata": {},
   "outputs": [],
   "source": [
    "insert_into_orders_query = \"\"\"INSERT INTO tbl_orders(OrderID, ClientID, ProductID , Quantity, Cost, Date) VALUES\n",
    "(1, \"Cl1\", \"P1\", 10, 500, \"2020-09-01\"),  \n",
    "(2, \"Cl2\", \"P2\", 5, 100, \"2020-09-05\"),  \n",
    "(3, \"Cl3\", \"P3\", 20, 800, \"2020-09-03\"),  \n",
    "(4, \"Cl4\", \"P4\", 15, 150, \"2020-09-07\"),  \n",
    "(5, \"Cl3\", \"P3\", 10, 450, \"2020-09-08\"),  \n",
    "(6, \"Cl2\", \"P2\", 5, 800, \"2020-09-09\"),  \n",
    "(7, \"Cl1\", \"P4\", 22, 1200, \"2020-09-10\"),  \n",
    "(8, \"Cl3\", \"P1\", 15, 150, \"2020-09-10\"),  \n",
    "(9, \"Cl1\", \"P1\", 10, 500, \"2020-09-12\"),  \n",
    "(10, \"Cl2\", \"P2\", 5, 100, \"2020-09-13\"),  \n",
    "(11, \"Cl4\", \"P5\", 5, 100, \"2020-09-15\"), \n",
    "(12, \"Cl1\", \"P1\", 10, 500, \"2022-09-01\"),  \n",
    "(13, \"Cl2\", \"P2\", 5, 100, \"2022-09-05\"),  \n",
    "(14, \"Cl3\", \"P3\", 20, 800, \"2022-09-03\"),  \n",
    "(15, \"Cl4\", \"P4\", 15, 150, \"2022-09-07\"),  \n",
    "(16, \"Cl3\", \"P3\", 10, 450, \"2022-09-08\"),  \n",
    "(17, \"Cl2\", \"P2\", 5, 800, \"2022-09-09\"),  \n",
    "(18, \"Cl1\", \"P4\", 22, 1200, \"2022-09-10\"),  \n",
    "(19, \"Cl3\", \"P1\", 15, 150, \"2022-09-10\"),  \n",
    "(20, \"Cl1\", \"P1\", 10, 500, \"2022-09-12\"),  \n",
    "(21, \"Cl2\", \"P2\", 5, 100, \"2022-09-13\"),   \n",
    "(22, \"Cl2\", \"P1\", 10, 500, \"2021-09-01\"),  \n",
    "(23, \"Cl2\", \"P2\", 5, 100, \"2021-09-05\"),  \n",
    "(24, \"Cl3\", \"P3\", 20, 800, \"2021-09-03\"),  \n",
    "(25, \"Cl4\", \"P4\", 15, 150, \"2021-09-07\"),  \n",
    "(26, \"Cl1\", \"P3\", 10, 450, \"2021-09-08\"),  \n",
    "(27, \"Cl2\", \"P1\", 20, 1000, \"2022-09-01\"),  \n",
    "(28, \"Cl2\", \"P2\", 10, 200, \"2022-09-05\"),  \n",
    "(29, \"Cl3\", \"P3\", 20, 800, \"2021-09-03\"),  \n",
    "(30, \"Cl1\", \"P1\", 10, 500, \"2022-09-01\");\n",
    "\"\"\"\n",
    "\n",
    "first_cursor.execute(insert_into_orders_query)\n",
    "first_connection.commit()\n",
    "\n",
    "\n",
    "insert_into_products_query = \"\"\"INSERT INTO tbl_products (ProductID, ProductName, BuyPrice, SellPrice, NumberOfItems)\n",
    "VALUES (\"P1\", \"Artificial grass bags \", 40, 50, 100),  \n",
    "(\"P2\", \"Wood panels\", 15, 20, 250),  \n",
    "(\"P3\", \"Patio slates\",35, 40, 60),  \n",
    "(\"P4\", \"Sycamore trees \", 7, 10, 50),  \n",
    "(\"P5\", \"Trees and Shrubs\", 35, 50, 75),  \n",
    "(\"P6\", \"Water fountain\", 65, 80, 15);\"\"\"\n",
    "\n",
    "cursor.execute(insert_into_products_query)\n",
    "connection.commit()"
   ]
  },
  {
   "cell_type": "markdown",
   "id": "8ce9af50-a769-4e35-9693-7fbdfa5d97bd",
   "metadata": {},
   "source": [
    "## Function to display results"
   ]
  },
  {
   "cell_type": "code",
   "execution_count": null,
   "id": "8d83324d-8f31-419e-a82d-7df6ba4f1461",
   "metadata": {},
   "outputs": [],
   "source": [
    "def select_all_query(table_name: str, logger):\n",
    "    query = f\"\"\"SELECT * FROM {table_name};\"\"\"\n",
    "    logger.info(\"Executing the query: \" + query)\n",
    "    return query\n",
    "\n",
    "\n",
    "def display_results(table_column_names: list, results: list):\n",
    "    table_columns_length = [len(x) for x in table_column_names]\n",
    "    for result in results:\n",
    "        for value in range(len(result)):\n",
    "            row_data = result[value]\n",
    "            if row_data:\n",
    "                row_data = str(row_data)\n",
    "                if len(row_data) > table_columns_length[value]:\n",
    "                    table_columns_length[value] = len(row_data)\n",
    "    dashes_plus = \"\"\n",
    "    for num in range(len(table_columns_length)):\n",
    "        dashes_plus = dashes_plus + \"+\" + '-'*(table_columns_length[num]+2)\n",
    "    dashes_plus = dashes_plus + \"+\"\n",
    "    \n",
    "    print(dashes_plus)\n",
    "    \n",
    "    table_headers = \"\"\n",
    "    for num in range(len(table_column_names)):\n",
    "        table_headers = table_headers + f\"| {table_column_names[num]:^{table_columns_length[num]}} \"\n",
    "    table_headers = table_headers + \"|\"\n",
    "    print(table_headers)\n",
    "    \n",
    "    print(dashes_plus)\n",
    "    \n",
    "    for result in results:\n",
    "        table_row = \"\"\n",
    "        for value in range(len(result)):\n",
    "            row_data = result[value]\n",
    "            if not row_data:\n",
    "                if \"Field\" in table_column_names:\n",
    "                    row_data = \" NULL\"\n",
    "                else:\n",
    "                    row_data = \"None\"\n",
    "            table_row = table_row + \"|\" + f\"{str(row_data):^{table_columns_length[value]+2}}\"\n",
    "        print(table_row + \"|\")\n",
    "    print(dashes_plus)\n",
    "\n",
    "def execute_display_query_results(query: str = \"\", table_column_names: list = [], results: list = []): \n",
    "    logger.info(f\"Executing the query: {query}\")\n",
    "    if len(query) > 2 and (table_column_names or results):\n",
    "        print(\"You can only pass in the query alone or the table_column_names and results list\")\n",
    "        assert False\n",
    "    if query and not table_column_names and not results:\n",
    "        cursor.execute(query)\n",
    "        results = cursor.fetchall()    \n",
    "        table_column_names = cursor.column_names\n",
    "    \n",
    "    display_results(table_column_names, results)"
   ]
  },
  {
   "cell_type": "code",
   "execution_count": null,
   "id": "663c9a05-fc52-4270-822f-74b52d33d36c",
   "metadata": {},
   "outputs": [],
   "source": [
    "execute_display_query_results(select_all_query(\"tbl_orders\"))\n",
    "\n",
    "print(\"\\n\\n\")\n",
    "execute_display_query_results(select_all_query(\"tbl_products\"))"
   ]
  },
  {
   "cell_type": "markdown",
   "id": "a9996e13-c452-4e0e-bb90-7b8a290c5806",
   "metadata": {},
   "source": [
    "## Task 1\n",
    "Create a SQL function that prints the cost value of a specific order based on the user input of the OrderID."
   ]
  },
  {
   "cell_type": "code",
   "execution_count": null,
   "id": "8db00a39-9743-403f-ab40-3c785ca25ceb",
   "metadata": {},
   "outputs": [],
   "source": [
    "create_function_query = \"\"\"CREATE FUNCTION FindCost(order_id INT) RETURNS DECIMAL(5,2) DETERMINISTIC\n",
    "RETURN (SELECT Cost FROM tbl_orders WHERE OrderID = order_id);\"\"\"\n",
    "\n",
    "cursor.execute(create_function_query)"
   ]
  },
  {
   "cell_type": "code",
   "execution_count": null,
   "id": "976b0199-efd2-4e79-af55-99d2c2a5de98",
   "metadata": {},
   "outputs": [],
   "source": [
    "select_query = \"SELECT FindCost(5);\"\n",
    "\n",
    "execute_display_query_results(select_query)"
   ]
  },
  {
   "cell_type": "markdown",
   "id": "b0028167-92e2-4ee4-915c-39026d27655a",
   "metadata": {},
   "source": [
    "## Task 2\n",
    "\n",
    "Create a stored procedure called GetDiscount(). This stored procedure must return the final cost of the customer’s order after the discount value has been deducted. The discount value is based on the order’s quantity. The stored procedure must have the following specifications:\n",
    "\n",
    "The procedure should take one parameter that accepts a user input value of an OrderID. \n",
    "\n",
    "The procedure must find the order quantity of the specificOrderID. \n",
    "\n",
    "If the value of the order quantity is more than or equal to 20 then the procedure should return the new cost after a 20% discount. \n",
    "\n",
    "If the value of the order quantity is less than 20 and more than or equal to 10 then the procedure should return the new cost after a 10% discount."
   ]
  },
  {
   "cell_type": "code",
   "execution_count": null,
   "id": "2ebe934f-adf9-4a37-8a65-7acecfbcf2c8",
   "metadata": {},
   "outputs": [],
   "source": [
    "create_procedure_query = \"\"\"CREATE Procedure GetDiscount(OrderIDInput INT) \n",
    "BEGIN \n",
    "DECLARE cost_after_discount DECIMAL(7,2); \n",
    "DECLARE current_cost DECIMAL(7,2); \n",
    "DECLARE order_quantity INT; \n",
    "SELECT Quantity INTO order_quantity FROM tbl_orders WHERE OrderID = OrderIDInput; \n",
    "SELECT Cost INTO current_cost FROM tbl_orders WHERE OrderID = OrderIDInput; \n",
    "IF order_quantity >= 20 THEN\n",
    "SET cost_after_discount = current_cost - (current_cost * 0.2);              \n",
    "ELSEIF order_quantity >= 10 THEN\n",
    "SET cost_after_discount = current_cost - (current_cost * 0.1); \n",
    "ELSE SET cost_after_discount = current_cost;\n",
    "END IF;\n",
    "SELECT cost_after_discount; \n",
    "END\n",
    "\"\"\"\n",
    "\n",
    "cursor.execute(create_procedure_query)"
   ]
  },
  {
   "cell_type": "code",
   "execution_count": null,
   "id": "02f75202-ad6c-4d5c-bab2-1ff4bedcb90e",
   "metadata": {},
   "outputs": [],
   "source": [
    "cursor.callproc(\"GetDiscount\", (5, ))\n",
    "\n",
    "results=next(first_cursor.stored_results())\n",
    "table_column_names = results.column_names\n",
    "dataset = results.fetchall()\n",
    "\n",
    "execute_display_query_results(table_column_names=table_column_names, results=dataset)"
   ]
  },
  {
   "cell_type": "markdown",
   "id": "f4467528-2d0b-4d28-adde-ba80c32e6969",
   "metadata": {},
   "source": [
    "## Task 3\n",
    "Create an INSERT trigger called ProductSellPriceInsertCheck. This trigger must check if the SellPrice of the product is less than the BuyPrice after a new product is inserted in the Products table. \n",
    "If this occurs, then a notification must be added to the Notifications table to inform the sales department. The sales department can then ensure that the incorrect values were not inserted by mistake.\n",
    "The notification message should be in the following format: A SellPrice less than the BuyPrice was inserted for ProductID + ProductID"
   ]
  },
  {
   "cell_type": "code",
   "execution_count": null,
   "id": "a42f63c2-b103-4881-b494-052fd6dac924",
   "metadata": {},
   "outputs": [],
   "source": [
    "create_trigger_query = \"\"\"CREATE TRIGGER ProductSellPriceInsertCheck\n",
    "AFTER INSERT ON tbl_products FOR EACH ROW\n",
    "BEGIN\n",
    "INSERT INTO tbl_notifications(Notification, DateTime) VALUES(CONCAT('A SellPrice same or less than the BuyPrice was inserted for ProductID ', NEW.ProductID), CURRENT_TIME());\n",
    "END\"\"\"\n",
    "first_cursor.execute(create_trigger_query)"
   ]
  },
  {
   "cell_type": "code",
   "execution_count": null,
   "id": "e0312c81-b598-4c62-aaef-91114e69c052",
   "metadata": {},
   "outputs": [],
   "source": [
    "insert_into_products_query = \"\"\"INSERT INTO tbl_products (ProductID, ProductName, BuyPrice, SellPrice, NumberOfItems) VALUES('P7', 'Product P7', 40, 40, 100);\"\"\"\n",
    "cursor.execute(insert_into_products_query)\n",
    "connection.commit()"
   ]
  },
  {
   "cell_type": "code",
   "execution_count": null,
   "id": "34478e26-90ec-45d5-b7c2-48582e49de51",
   "metadata": {},
   "outputs": [],
   "source": [
    "execute_display_query_results(select_all_query(\"tbl_products\", logger))\n",
    "print(\"\\n\")\n",
    "execute_display_query_results(select_all_query(\"tbl_notifications\", logger))"
   ]
  },
  {
   "cell_type": "markdown",
   "id": "001b2d8f-2ba5-4f72-b774-29967e65ca25",
   "metadata": {},
   "source": [
    "## Task 4\n",
    "Create an UPDATE trigger called ProductSellPriceUpdateCheck. This trigger must check that products are not updated with a SellPrice that is less than or equal to the BuyPrice. \n",
    "If this occurs, add a notification to the Notifications table for the sales department so they can ensure that product prices were not updated with the incorrect values. \n",
    "This trigger sends a notification to the Notifications table that warns the sales department of the issue.\n",
    "\n",
    "The notification message should be in the following format: ProductID + was updated with a SellPrice of  + SellPrice + which is the same or less than the BuyPrice"
   ]
  },
  {
   "cell_type": "code",
   "execution_count": null,
   "id": "d807c3b1-1d1a-47a9-8f9b-4b94fb1a6b71",
   "metadata": {},
   "outputs": [],
   "source": [
    "create_trigger_query = \"\"\"CREATE TRIGGER ProductSellPriceUpdateCheck\n",
    "AFTER UPDATE ON tbl_products FOR EACH ROW\n",
    "BEGIN\n",
    "IF NEW.SellPrice < OLD.BuyPrice THEN\n",
    "INSERT INTO tbl_notifications(Notification, DateTime) VALUES(CONCAT(OLD.ProductID, ' was updated with a SellPrice of ', NEW.SellPrice, ' which is the same or less than the BuyPrice'), CURRENT_TIME());\n",
    "END IF;\n",
    "END;\"\"\"\n",
    "cursor.execute(create_trigger_query)"
   ]
  },
  {
   "cell_type": "code",
   "execution_count": null,
   "id": "789f3242-30bd-4b23-8aaf-8f8f4440a661",
   "metadata": {},
   "outputs": [],
   "source": [
    "update_products_query = \"\"\"UPDATE tbl_products SET SellPrice = 60 WHERE ProductID = 'P6';\"\"\"\n",
    "cursor.execute(update_products_query)\n",
    "connection.commit()"
   ]
  },
  {
   "cell_type": "code",
   "execution_count": null,
   "id": "1bc026a9-7e68-41fd-a7b0-c3ce0cf92a1e",
   "metadata": {},
   "outputs": [],
   "source": [
    "execute_display_query_results(select_all_query(\"tbl_products\"))\n",
    "print(\"\\n\")\n",
    "execute_display_query_results(select_all_query(\"tbl_notifications\"))"
   ]
  },
  {
   "cell_type": "markdown",
   "id": "8304b144-1161-4701-9875-74c1846ee6d5",
   "metadata": {},
   "source": [
    "## Task 5:\n",
    "\n",
    "Create a DELETE trigger called NotifyProductDelete. This trigger must insert a notification in the Notifications table for the sales department after a product has been deleted from the Products table.\n",
    "\n",
    "The notification message should be in the following format: The product with a ProductID  + ProductID + was deleted"
   ]
  },
  {
   "cell_type": "code",
   "execution_count": null,
   "id": "a5c63dc7-fc02-4923-b641-cc565c20ed53",
   "metadata": {},
   "outputs": [],
   "source": [
    "create_trigger_query = \"\"\"CREATE TRIGGER NotifyProductDelete\n",
    "AFTER DELETE ON tbl_products FOR EACH ROW\n",
    "BEGIN\n",
    "INSERT INTO tbl_notifications(Notification, DateTime) VALUES(CONCAT('The product with the ProductID: ', OLD.ProductID, ' was deleted), CURRENT_TIME());\n",
    "END;\"\"\"\n",
    "cursor.execute(create_trigger_query)"
   ]
  },
  {
   "cell_type": "code",
   "execution_count": null,
   "id": "0638d959-894e-4736-a0e1-d585fe652488",
   "metadata": {},
   "outputs": [],
   "source": [
    "delete_from_products_query = \"\"\"DELETE FROM tbl_products WHERE ProductID = 'P7';\"\"\"\n",
    "cursor.execute(delete_from_products_query)\n",
    "connection.commit()"
   ]
  },
  {
   "cell_type": "code",
   "execution_count": null,
   "id": "d02be049-42a0-4e15-91e3-47cc1ab9be1b",
   "metadata": {},
   "outputs": [],
   "source": [
    "execute_display_query_results(select_all_query(\"tbl_products\"))\n",
    "print(\"\\n\")\n",
    "execute_display_query_results(select_all_query(\"tbl_notifications\"))"
   ]
  }
 ],
 "metadata": {
  "kernelspec": {
   "display_name": "Python 3 (ipykernel)",
   "language": "python",
   "name": "python3"
  },
  "language_info": {
   "codemirror_mode": {
    "name": "ipython",
    "version": 3
   },
   "file_extension": ".py",
   "mimetype": "text/x-python",
   "name": "python",
   "nbconvert_exporter": "python",
   "pygments_lexer": "ipython3",
   "version": "3.11.7"
  }
 },
 "nbformat": 4,
 "nbformat_minor": 5
}
