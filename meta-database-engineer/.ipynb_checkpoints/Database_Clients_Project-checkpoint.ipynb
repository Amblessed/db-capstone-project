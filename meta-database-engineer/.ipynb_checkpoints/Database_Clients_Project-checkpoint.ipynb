{
 "cells": [
  {
   "cell_type": "code",
   "execution_count": 1,
   "id": "eedf70dd-9ece-4a0c-8368-6bed10ff7661",
   "metadata": {},
   "outputs": [],
   "source": [
    "# Import MySQL Connector/Python \n",
    "import mysql.connector as connector\n",
    "import os\n",
    "import datetime as dt\n",
    "from mysql.connector.pooling import MySQLConnectionPool\n",
    "from mysql.connector import Error"
   ]
  },
  {
   "cell_type": "markdown",
   "id": "62ec3d30-c423-42fb-8549-05fbb0fa7a8b",
   "metadata": {},
   "source": [
    "## Step 1: Establish a connection "
   ]
  },
  {
   "cell_type": "code",
   "execution_count": 2,
   "id": "1c27c280-d46e-4393-ba9c-9975f8c7df6f",
   "metadata": {},
   "outputs": [
    {
     "name": "stdout",
     "output_type": "stream",
     "text": [
      "Connection between MySQL and Python is established.\n"
     ]
    }
   ],
   "source": [
    "dbconfig={\"database\":\"little_lemon_db\", \"user\":\"root\", \"password\":os.environ[\"MYSQL_PASSWORD\"]}\n",
    "connection=connector.connect(port=33061, **dbconfig)\n",
    "print(\"Connection between MySQL and Python is established.\")"
   ]
  },
  {
   "cell_type": "markdown",
   "id": "bf5f8c2b-faac-4df6-9e08-0b4801cf1743",
   "metadata": {},
   "source": [
    "## Step 2: Create a cursor"
   ]
  },
  {
   "cell_type": "code",
   "execution_count": 3,
   "id": "8c1bedc3-94f8-474d-8638-55fd00b4dda7",
   "metadata": {},
   "outputs": [
    {
     "name": "stdout",
     "output_type": "stream",
     "text": [
      "Cursor created to communicate with the MySQL using Python.\n",
      "\n"
     ]
    }
   ],
   "source": [
    "cursor = connection.cursor()\n",
    "print(\"Cursor created to communicate with the MySQL using Python.\\n\")"
   ]
  },
  {
   "cell_type": "markdown",
   "id": "2ea72fd1-84c6-4787-b24c-cd85a3b120fa",
   "metadata": {},
   "source": [
    "## Step 3: Create the database and set it for use"
   ]
  },
  {
   "cell_type": "code",
   "execution_count": 4,
   "id": "45266e99-89e3-473b-86fa-95aa37feebb9",
   "metadata": {},
   "outputs": [
    {
     "name": "stdout",
     "output_type": "stream",
     "text": [
      "The database little_lemon is created.\n",
      "The database little_lemon_db is set for use.\n"
     ]
    }
   ],
   "source": [
    "# If exist, drop the database first, and create again\n",
    "try:\n",
    "    cursor.execute(\"CREATE DATABASE little_lemon_db\") \n",
    "except:\n",
    "    cursor.execute(\"DROP DATABASE little_lemon_db\")\n",
    "    cursor.execute(\"CREATE DATABASE little_lemon_db\")\n",
    "print(\"The database little_lemon is created.\")  \n",
    "\n",
    "cursor.execute(\"USE little_lemon_db\")\n",
    "print(\"The database little_lemon_db is set for use.\")"
   ]
  },
  {
   "cell_type": "markdown",
   "id": "eef0ddf9-a259-4e83-be7f-be850b1178e0",
   "metadata": {},
   "source": [
    "## Step 4: Create tables"
   ]
  },
  {
   "cell_type": "code",
   "execution_count": 5,
   "id": "f318041e-ece5-4b05-ba87-73918d9a3b01",
   "metadata": {},
   "outputs": [],
   "source": [
    "#MenuItems table\n",
    "create_menuitem_table = \"\"\"CREATE TABLE MenuItems (\n",
    "ItemID INT AUTO_INCREMENT,\n",
    "Name VARCHAR(200),\n",
    "Type VARCHAR(100),\n",
    "Price INT,\n",
    "PRIMARY KEY (ItemID)\n",
    ");\"\"\"\n",
    "\n",
    "\n",
    "create_menu_table = \"\"\"CREATE TABLE Menus (\n",
    "MenuID INT,\n",
    "ItemID INT,\n",
    "Cuisine VARCHAR(100),\n",
    "PRIMARY KEY (MenuID,ItemID)\n",
    ");\"\"\"\n",
    "\n",
    "\n",
    "create_booking_table = \"\"\"CREATE TABLE Bookings (\n",
    "BookingID INT AUTO_INCREMENT,\n",
    "TableNo INT,\n",
    "GuestFirstName VARCHAR(100) NOT NULL,\n",
    "GuestLastName VARCHAR(100) NOT NULL,\n",
    "BookingSlot TIME NOT NULL,\n",
    "EmployeeID INT,\n",
    "PRIMARY KEY (BookingID)\n",
    ");\"\"\"\n",
    "\n",
    "create_orders_table = \"\"\"CREATE TABLE Orders (\n",
    "OrderID INT,\n",
    "TableNo INT,\n",
    "MenuID INT,\n",
    "BookingID INT,\n",
    "BillAmount INT,\n",
    "Quantity INT,\n",
    "PRIMARY KEY (OrderID,TableNo)\n",
    ");\"\"\"\n",
    "\n",
    "\n",
    "create_employees_table = \"\"\"CREATE TABLE Employees (\n",
    "EmployeeID INT AUTO_INCREMENT PRIMARY KEY,\n",
    "Name VARCHAR (255),\n",
    "Role VARCHAR (100),\n",
    "Address VARCHAR (255),\n",
    "Contact_Number INT,\n",
    "Email VARCHAR (255),\n",
    "Annual_Salary VARCHAR (100)\n",
    ");\"\"\""
   ]
  },
  {
   "cell_type": "code",
   "execution_count": 6,
   "id": "c539f2de-468f-49d1-83a5-ad68abd50101",
   "metadata": {},
   "outputs": [
    {
     "name": "stdout",
     "output_type": "stream",
     "text": [
      "Menu Item table created\n",
      "Menu table created\n",
      "Bookings table created\n",
      "Orders table created\n",
      "Employees table created\n"
     ]
    }
   ],
   "source": [
    "# Create MenuItems table\n",
    "cursor.execute(create_menuitem_table)\n",
    "print(\"Menu Item table created\")\n",
    "\n",
    "# Create Menu table\n",
    "cursor.execute(create_menu_table)\n",
    "print(\"Menu table created\")\n",
    "\n",
    "# Create Bookings table\n",
    "cursor.execute(create_booking_table)\n",
    "print(\"Bookings table created\")\n",
    "\n",
    "# Create Orders table\n",
    "cursor.execute(create_orders_table)\n",
    "print(\"Orders table created\")\n",
    "\n",
    "# Create Employees table\n",
    "cursor.execute(create_employees_table)\n",
    "print(\"Employees table created\")"
   ]
  },
  {
   "cell_type": "code",
   "execution_count": 7,
   "id": "c5a2d0b2-ac83-4b1d-96b6-95aa3344d62d",
   "metadata": {},
   "outputs": [],
   "source": [
    "#*******************************************************#\n",
    "# Insert query to populate \"MenuItems\" table:\n",
    "#*******************************************************#\n",
    "insert_menuitems=\"\"\"\n",
    "INSERT INTO MenuItems (ItemID, Name, Type, Price)\n",
    "VALUES\n",
    "(1, 'Olives','Starters',5),\n",
    "(2, 'Flatbread','Starters', 5),\n",
    "(3, 'Minestrone', 'Starters', 8),\n",
    "(4, 'Tomato bread','Starters', 8),\n",
    "(5, 'Falafel', 'Starters', 7),\n",
    "(6, 'Hummus', 'Starters', 5),\n",
    "(7, 'Greek salad', 'Main Courses', 15),\n",
    "(8, 'Bean soup', 'Main Courses', 12),\n",
    "(9, 'Pizza', 'Main Courses', 15),\n",
    "(10, 'Greek yoghurt','Desserts', 7),\n",
    "(11, 'Ice cream', 'Desserts', 6),\n",
    "(12, 'Cheesecake', 'Desserts', 4),\n",
    "(13, 'Athens White wine', 'Drinks', 25),\n",
    "(14, 'Corfu Red Wine', 'Drinks', 30),\n",
    "(15, 'Turkish Coffee', 'Drinks', 10),\n",
    "(16, 'Turkish Coffee', 'Drinks', 10),\n",
    "(17, 'Kabasa', 'Main Courses', 17);\"\"\"\n",
    "\n",
    "#*******************************************************#\n",
    "# Insert query to populate \"Menu\" table:\n",
    "#*******************************************************#\n",
    "insert_menu=\"\"\"\n",
    "INSERT INTO Menus (MenuID,ItemID,Cuisine)\n",
    "VALUES\n",
    "(1, 1, 'Greek'),\n",
    "(1, 7, 'Greek'),\n",
    "(1, 10, 'Greek'),\n",
    "(1, 13, 'Greek'),\n",
    "(2, 3, 'Italian'),\n",
    "(2, 9, 'Italian'),\n",
    "(2, 12, 'Italian'),\n",
    "(2, 15, 'Italian'),\n",
    "(3, 5, 'Turkish'),\n",
    "(3, 17, 'Turkish'),\n",
    "(3, 11, 'Turkish'),\n",
    "(3, 16, 'Turkish');\"\"\"\n",
    "\n",
    "#*******************************************************#\n",
    "# Insert query to populate \"Bookings\" table:\n",
    "#*******************************************************#\n",
    "insert_bookings=\"\"\"\n",
    "INSERT INTO Bookings (BookingID, TableNo, GuestFirstName, \n",
    "GuestLastName, BookingSlot, EmployeeID)\n",
    "VALUES\n",
    "(1, 12, 'Anna','Iversen','19:00:00',1),\n",
    "(2, 12, 'Joakim', 'Iversen', '19:00:00', 1),\n",
    "(3, 19, 'Vanessa', 'McCarthy', '15:00:00', 3),\n",
    "(4, 15, 'Marcos', 'Romero', '17:30:00', 4),\n",
    "(5, 5, 'Hiroki', 'Yamane', '18:30:00', 2),\n",
    "(6, 8, 'Diana', 'Pinto', '20:00:00', 5);\"\"\"\n",
    "\n",
    "#*******************************************************#\n",
    "# Insert query to populate \"Orders\" table:\n",
    "#*******************************************************#\n",
    "insert_orders=\"\"\"\n",
    "INSERT INTO Orders (OrderID, TableNo, MenuID, BookingID, Quantity, BillAmount)\n",
    "VALUES\n",
    "(1, 12, 1, 1, 2, 86),\n",
    "(2, 19, 2, 2, 1, 37),\n",
    "(3, 15, 2, 3, 1, 37),\n",
    "(4, 5, 3, 4, 1, 40),\n",
    "(5, 8, 1, 5, 1, 43);\"\"\"\n",
    "\n",
    "#*******************************************************#\n",
    "# Insert query to populate \"Employees\" table:\n",
    "#*******************************************************#\n",
    "insert_employees = \"\"\"\n",
    "INSERT INTO Employees (EmployeeID, Name, Role, Address, Contact_Number, Email, Annual_Salary)\n",
    "VALUES\n",
    "(01, 'Mario Gollini', 'Manager', '724, Parsley Lane, Old Town, Chicago, IL', 351258074, 'Mario.g@littlelemon.com', '$70,000'),\n",
    "(02, 'Adrian Gollini', 'Assistant Manager', '334, Dill Square, Lincoln Park, Chicago, IL', 351474048, 'Adrian.g@littlelemon.com', '$65,000'),\n",
    "(03,'Giorgos Dioudis','Head Chef','879 Sage Street, West Loop, Chicago, IL',351970582,'Giorgos.d@littlelemon.com','$50,000'),\n",
    "(04,'Fatma Kaya','Assistant Chef','132  Bay Lane, Chicago, IL',351963569,'Fatma.k@littlelemon.com','$45,000'),\n",
    "(05,'Elena Salvai','Head Waiter','989 Thyme Square, EdgeWater, Chicago, IL',351074198,'Elena.s@littlelemon.com','$40,000'),\n",
    "(06,'John Millar','Receptionist','245 Dill Square, Lincoln Park, Chicago, IL',351584508,'John.m@littlelemon.com','$35,000');\"\"\"\n"
   ]
  },
  {
   "cell_type": "code",
   "execution_count": 8,
   "id": "1797f57c-54ff-409e-9ff1-f4b11d817245",
   "metadata": {},
   "outputs": [
    {
     "name": "stdout",
     "output_type": "stream",
     "text": [
      "Inserting records into the Menu Items table\n",
      "Inserting records into the Menu table\n",
      "Inserting records into the Bookings table\n",
      "Inserting records into the Orders table\n",
      "Inserting records into the Employees table\n"
     ]
    }
   ],
   "source": [
    "# Populate MenuItems table\n",
    "print(\"Inserting records into the Menu Items table\")\n",
    "cursor.execute(insert_menuitems)\n",
    "connection.commit()\n",
    "\n",
    "# Populate Menu table\n",
    "print(\"Inserting records into the Menu table\")\n",
    "cursor.execute(insert_menu)\n",
    "connection.commit()\n",
    "\n",
    "# Populate Bookings table\n",
    "print(\"Inserting records into the Bookings table\")\n",
    "cursor.execute(insert_bookings)\n",
    "connection.commit()\n",
    "\n",
    "# Populate Orders table\n",
    "print(\"Inserting records into the Orders table\")\n",
    "cursor.execute(insert_orders)\n",
    "connection.commit()\n",
    "\n",
    "# Populate Employees table\n",
    "print(\"Inserting records into the Employees table\")\n",
    "cursor.execute(insert_employees)\n",
    "connection.commit()"
   ]
  },
  {
   "cell_type": "markdown",
   "id": "2d27cbc4-faa1-4591-bd57-e8617d7bd863",
   "metadata": {},
   "source": [
    "# Implement and query stored procedures"
   ]
  },
  {
   "cell_type": "markdown",
   "id": "c0df70d1-9dff-4bcf-ac99-a96f03c4e882",
   "metadata": {},
   "source": [
    "## Task 1: Establish a connection "
   ]
  },
  {
   "cell_type": "code",
   "execution_count": 9,
   "id": "18d200cc-2f28-4661-97e7-1e9d6e42089b",
   "metadata": {},
   "outputs": [
    {
     "name": "stdout",
     "output_type": "stream",
     "text": [
      "The connection pool is created with a name: pool_a\n",
      "The pool size is: 4\n",
      "Getting a connection from the pool\n",
      "Creating a cursor object\n"
     ]
    }
   ],
   "source": [
    "try:\n",
    "    pool = MySQLConnectionPool(pool_size=4, pool_name=\"pool_a\", host=\"localhost\", port=33061, **dbconfig)\n",
    "    print(f\"The connection pool is created with a name: {pool.pool_name}\")\n",
    "    print(f\"The pool size is: {pool.pool_size}\")\n",
    "except Error as err:\n",
    "    print(f\"Error code: {err.errno}\")\n",
    "    print(f\"Error message: {err.msg}\")\n",
    "\n",
    "print(\"Getting a connection from the pool\")\n",
    "conn = pool.get_connection()\n",
    "\n",
    "print(\"Creating a cursor object\")\n",
    "cursor = conn.cursor()"
   ]
  },
  {
   "cell_type": "markdown",
   "id": "e09b02b1-7918-46a3-968e-a19cf7b2a7a8",
   "metadata": {},
   "source": [
    "## Task 2: Implement a stored procedure called PeakHours\n",
    "Step one: Write a SQL CREATE PROCEDURE query for PeakHours\n",
    "- Use HOUR to extract the hour part from the BookingSlot.\n",
    "- Use COUNT on hour to count the number of bookings.\n",
    "- Use GROUP BY on booking hour.\n",
    "- Use ORDER BY on the number of bookings in descending order.\n",
    "\n",
    "Step two: Run the stored procedure query by invoking execute module on the cursor.\n",
    "\n",
    "Step three: Invoke callproc to call the stored procedure.\n",
    "\n",
    "Step four: Fetch the results in a variable called dataset.\n",
    "\n",
    "Step five: Extract the names of the columns.\n",
    "\n",
    "Step six: Print the names of the columns.\n",
    "\n",
    "Step seven: Print the sorted data using for loop."
   ]
  },
  {
   "cell_type": "code",
   "execution_count": 10,
   "id": "ca333bcc-9ec0-4a4f-a7a4-f66c4e95c5ad",
   "metadata": {},
   "outputs": [],
   "source": [
    "drop_procedure_query = \"\"\"\n",
    "DROP PROCEDURE IF EXISTS PeakHours\n",
    "\"\"\"\n",
    "cursor.execute(drop_procedure_query)\n",
    "connection.commit()\n",
    "\n",
    "stored_procedure_query = \"\"\"\n",
    "CREATE PROCEDURE PeakHours()\n",
    "BEGIN\n",
    "SELECT HOUR(BookingSlot) AS Hour, COUNT(HOUR(BookingSlot)) as N_Bookings\n",
    "FROM Bookings\n",
    "GROUP BY Hour\n",
    "ORDER BY N_Bookings DESC;\n",
    "END\n",
    "\"\"\""
   ]
  },
  {
   "cell_type": "code",
   "execution_count": 11,
   "id": "3483ddc2-2e7f-4ae4-beda-56a5ed492e0d",
   "metadata": {},
   "outputs": [
    {
     "name": "stdout",
     "output_type": "stream",
     "text": [
      "PROCEDURE PeakHours created\n",
      "\n",
      "Fetching the results\n",
      "('Hour', 'N_Bookings')\n",
      "(19, 2)\n",
      "(15, 1)\n",
      "(17, 1)\n",
      "(18, 1)\n",
      "(20, 1)\n"
     ]
    }
   ],
   "source": [
    "cursor.execute(stored_procedure_query)\n",
    "print(\"PROCEDURE PeakHours created\\n\")\n",
    "cursor.callproc(\"PeakHours\")\n",
    "\n",
    "print(\"Fetching the results\")\n",
    "results=next(cursor.stored_results())\n",
    "cols = results.column_names\n",
    "print(cols)\n",
    "dataset = results.fetchall()\n",
    "for data in dataset:\n",
    "    print(data)"
   ]
  },
  {
   "cell_type": "markdown",
   "id": "0a98166b-0e9c-4ea1-9884-ad3b595b91f2",
   "metadata": {},
   "source": [
    "## Task 3: Implement a stored procedure GuestStatus\n",
    "Step one: Write a SQL CREATE PROCEDURE query for GuestStatus.\n",
    "\n",
    "Step two: Combine the guest’s first and last name from the booking column using CONCAT. \n",
    "\n",
    "Step three: Use CASE to implement the following statuses for each guest’s order:\n",
    "- If the Role in the Employee table is Manager or Assistant Manager then the guest’s order status is Ready to pay\n",
    "- If the Role in the Employee table is Head Chef then the status is Ready to serve\n",
    "- If the Role in the Employee table is Assistant Chef then the status is Preparing Order\n",
    "- If the Role in the Employee table is Head Waiter then the status is Order served\n",
    "\n",
    "Step four: LEFT JOIN Bookings table with Employees ON EmployeeID\n",
    "\n",
    "Step five: Run the stored procedure query by invoking execute module on the cursor.\n",
    "\n",
    "Step six: Invoke callproc to call the stored procedure.\n",
    "\n",
    "Step seven: Fetch the results in a variable called dataset.\n",
    "\n",
    "Step eight: Extract the names of the columns.\n",
    "\n",
    "Step nine: Print the names of the columns.\n",
    "\n",
    "Step ten: Print the sorted data using for loop.\n",
    "\n",
    "Step eleven: Close the connection to return it back to the pool."
   ]
  },
  {
   "cell_type": "code",
   "execution_count": 12,
   "id": "475341d1-dd79-4668-80fe-a2e399b2c765",
   "metadata": {},
   "outputs": [],
   "source": [
    "drop_procedure_query = \"\"\"\n",
    "DROP PROCEDURE IF EXISTS GuestStatus\n",
    "\"\"\"\n",
    "cursor.execute(drop_procedure_query)\n",
    "connection.commit()\n",
    "\n",
    "stored_procedure_query = \"\"\"\n",
    "CREATE PROCEDURE GuestStatus()\n",
    "BEGIN\n",
    "SELECT CONCAT(Bookings.GuestFirstName, \" \", Bookings.GuestLastName) AS FullName,\n",
    "CASE\n",
    "WHEN Employees.Role in ('Manager', 'Assistant Manager') THEN \"Ready to pay\"\n",
    "WHEN Employees.Role in ('Head Chef') THEN \"Ready to serve\"\n",
    "WHEN Employees.Role in ('Assistant Chef') THEN \"Preparing Order\"\n",
    "WHEN Employees.Role in ('Head Waiter') THEN \"Order served\"\n",
    "ELSE \"In Queue\"\n",
    "END AS Status\n",
    "FROM Bookings\n",
    "LEFT JOIN Employees ON Bookings.EmployeeID = Employees.EmployeeID;\n",
    "END\n",
    "\"\"\""
   ]
  },
  {
   "cell_type": "code",
   "execution_count": 13,
   "id": "21ac4266-4784-46f2-9ca7-4067e8cb341f",
   "metadata": {},
   "outputs": [
    {
     "name": "stdout",
     "output_type": "stream",
     "text": [
      "PROCEDURE GuestStatus created\n",
      "\n",
      "('FullName', 'Status')\n",
      "('Anna Iversen', 'Ready to pay')\n",
      "('Joakim Iversen', 'Ready to pay')\n",
      "('Vanessa McCarthy', 'Ready to serve')\n",
      "('Marcos Romero', 'Preparing Order')\n",
      "('Hiroki Yamane', 'Ready to pay')\n",
      "('Diana Pinto', 'Order served')\n",
      "\n",
      "Closing the connection\n"
     ]
    }
   ],
   "source": [
    "cursor.execute(stored_procedure_query)\n",
    "print(\"PROCEDURE GuestStatus created\\n\")\n",
    "cursor.callproc(\"GuestStatus\")\n",
    "\n",
    "results=next(cursor.stored_results())\n",
    "cols = results.column_names\n",
    "print(cols)\n",
    "dataset = results.fetchall()\n",
    "for data in dataset:\n",
    "    print(data)\n",
    "\n",
    "\n",
    "print(\"\\nClosing the connection\")\n",
    "connection.close()"
   ]
  },
  {
   "cell_type": "markdown",
   "id": "2613be26-86be-4742-8e89-e1a282bb0888",
   "metadata": {},
   "source": [
    "# Little Lemon analysis and sales report"
   ]
  },
  {
   "cell_type": "markdown",
   "id": "1e439d1a-dd02-49dc-817f-71e17514b3ea",
   "metadata": {},
   "source": [
    "### Task 1:\n",
    "Complete the following steps to establish a connection pool:\n",
    "- To create a connection pool, import MySQLConnectionPool class from MySQL Connector/Python.\n",
    "- To find the information on the error, import the Error class from MySQL Connector/Python.\n",
    "- Define your database configurations as a Python dictionary object called dbconfig.\n",
    "- Establish a connection pool [pool_name = pool_b] with two connections.\n",
    "- Implement error handling using a try-except block in case the connection fails. "
   ]
  },
  {
   "cell_type": "code",
   "execution_count": 14,
   "id": "6bb3ee32-df95-4bea-9de8-7cb91cb43dc1",
   "metadata": {},
   "outputs": [
    {
     "name": "stdout",
     "output_type": "stream",
     "text": [
      "The connection pool is created with a name: pool_b\n",
      "The pool size is: 2\n"
     ]
    }
   ],
   "source": [
    "try:\n",
    "    pool = MySQLConnectionPool(pool_size=2, pool_name=\"pool_b\", host=\"localhost\", port=33061, **dbconfig)\n",
    "    print(f\"The connection pool is created with a name: {pool.pool_name}\")\n",
    "    print(f\"The pool size is: {pool.pool_size}\")\n",
    "except Error as err:\n",
    "    print(f\"Error code: {err.errno}\")\n",
    "    print(f\"Error message: {err.msg}\")"
   ]
  },
  {
   "cell_type": "markdown",
   "id": "9391b6eb-6d16-4db0-ac52-5a5116ae102e",
   "metadata": {},
   "source": [
    "### Task 2:\n",
    "Three guests are trying to book dinner slots simultaneously. Get the connections from pool_b and insert the following data in the Bookings table:  \n",
    "Guest 1:  \n",
    "Table Number: 8  \n",
    "First Name: Anees  \n",
    "Last Name: Java  \n",
    "Booking Time: 18:00  \n",
    "EmployeeID: 6  \n",
    "\n",
    "Guest 2:  \n",
    "Table Number: 5  \n",
    "First Name: Bald  \n",
    "Last Name: Vin  \n",
    "Booking Time: 19:00  \n",
    "EmployeeID: 6  \n",
    "\n",
    "Guest 3:  \n",
    "Table Number: 12  \n",
    "First Name: Jay  \n",
    "Last Name: Kon  \n",
    "Booking Time: 19:30    \n",
    "EmployeeID: 6  \n",
    "\n",
    "Return all the connections back to the pool. \n",
    "TIP: You need to add a connection to connect the third guest."
   ]
  },
  {
   "cell_type": "code",
   "execution_count": 15,
   "id": "aa82118e-8ac9-4c4c-8953-152d1eef0045",
   "metadata": {},
   "outputs": [
    {
     "name": "stdout",
     "output_type": "stream",
     "text": [
      "Getting connections from the pool\n",
      "Creating cursor objects from the connections\n",
      "Inserting records into the Database\n",
      "Bookings table modified. New record added to the table\n",
      "Bookings table modified. New record added to the table\n",
      "\n",
      "Adding a new connection to the pool\n",
      "A new connection is added in the pool.\n",
      "\n",
      "Creating cursor object from the third connection\n",
      "Bookings table modified. New record added to the table\n",
      "\n",
      "Connection is returned to the pool\n",
      "Connection is returned to the pool\n",
      "\n",
      "Connection can't be returned to the pool\n",
      "Error message: Failed adding connection; queue is full\n"
     ]
    }
   ],
   "source": [
    "print(\"Getting connections from the pool\")\n",
    "first_connection = pool.get_connection()\n",
    "second_connection = pool.get_connection()\n",
    "\n",
    "print(\"Creating cursor objects from the connections\")\n",
    "first_cursor = first_connection.cursor()\n",
    "second_cursor = second_connection.cursor()\n",
    "\n",
    "print(\"Inserting records into the Database\")\n",
    "first_insert_query=\"\"\"INSERT INTO Bookings \n",
    "(TableNo, GuestFirstName, GuestLastName, BookingSlot, EmployeeID)\n",
    "VALUES(8,'Anees','Java','18:00:00',6);\"\"\"\n",
    "\n",
    "second_insert_query=\"\"\"INSERT INTO Bookings \n",
    "(TableNo, GuestFirstName, GuestLastName, BookingSlot, EmployeeID)\n",
    "VALUES(5, 'Bald','Vin','19:00:00',6);\"\"\"\n",
    "\n",
    "first_cursor.execute(first_insert_query)\n",
    "first_connection.commit()\n",
    "print(\"Bookings table modified. New record added to the table\")\n",
    "\n",
    "second_cursor.execute(second_insert_query)\n",
    "second_connection.commit()\n",
    "print(\"Bookings table modified. New record added to the table\")\n",
    "\n",
    "try:\n",
    "    third_connection = pool.get_connection()\n",
    "    print(\"\\nThird Connection successful\")\n",
    "except Error as err:\n",
    "    print(\"\\nAdding a new connection to the pool\")\n",
    "    # Create a connection and add it to the pool\n",
    "    connection=connector.connect(port=33061, **dbconfig)\n",
    "    pool.add_connection(cnx=connection)\n",
    "    print(\"A new connection is added in the pool.\\n\")\n",
    "\n",
    "    third_connection = pool.get_connection()\n",
    "\n",
    "print(\"Creating cursor object from the third connection\")\n",
    "third_cursor = third_connection.cursor()\n",
    "\n",
    "third_insert_query=\"\"\"INSERT INTO Bookings \n",
    "(TableNo, GuestFirstName, GuestLastName, BookingSlot, EmployeeID)\n",
    "VALUES(12, 'Jay','Kon','19:30:00',6);\"\"\"\n",
    "\n",
    "third_cursor.execute(third_insert_query)\n",
    "third_connection.commit()\n",
    "print(\"Bookings table modified. New record added to the table\\n\")\n",
    "\n",
    "\n",
    "for connection in [first_connection, second_connection, third_connection]:\n",
    "    try:\n",
    "        connection.close()\n",
    "        print(\"Connection is returned to the pool\")\n",
    "    except Error as er:\n",
    "        print(\"\\nConnection can't be returned to the pool\")\n",
    "        print(\"Error message:\", er.msg)\n"
   ]
  },
  {
   "cell_type": "markdown",
   "id": "ba75e057-cce0-4a3d-8b5e-ced49893dc88",
   "metadata": {},
   "source": [
    "### Task 3:\n",
    "Create a report containing the following information:\n",
    "- The name and EmployeeID of the Little Lemon manager.\n",
    "- The name and role of the employee who receives the highest salary.\n",
    "- The number of guests booked between 18:00 and 20:00.\n",
    "- The full name and BookingID of all guests waiting to be seated with the receptionist in sorted order with respect to their BookingSlot."
   ]
  },
  {
   "cell_type": "code",
   "execution_count": 16,
   "id": "19fa8fe6-e01b-4055-907d-6935289025a3",
   "metadata": {},
   "outputs": [
    {
     "name": "stdout",
     "output_type": "stream",
     "text": [
      "Getting a connection from the pool\n",
      "Creating cursor object from the connection\n",
      "\n",
      "\n",
      "\n",
      "*************************Creating a select query for 'The name and EmployeeID of the Little Lemon manager.'*************************\n",
      "Executing the SQL query\n",
      "Fetching the query results\n",
      "Retrieving the column names\n",
      "\n",
      "('Name', 'EmployeeID')\n",
      "('Mario Gollini', 1)\n",
      "************************************************************************************************************************************\n",
      "\n",
      "\n",
      "\n",
      "\n",
      "*************************Creating a select query for 'The name and role of the employee who receives the highest salary.'*************************\n",
      "Executing the SQL query\n",
      "Fetching the query results\n",
      "Retrieving the column names\n",
      "\n",
      "('Name', 'Role')\n",
      "('Mario Gollini', 'Manager')\n",
      "**************************************************************************************************************************************************\n",
      "\n",
      "\n",
      "\n",
      "\n",
      "*************************Creating a select query for 'The number of guests booked between 18:00 and 20:00.'*************************\n",
      "Executing the SQL query\n",
      "Fetching the query results\n",
      "Retrieving the column names\n",
      "\n",
      "('no_guests_booked_btw_18_21',)\n",
      "(7,)\n",
      "************************************************************************************************************************************\n",
      "\n",
      "\n",
      "\n",
      "\n",
      "*************************Creating a select query for 'The full name and the BookingId of each guest waiting to be seated with the receptionist in sorted order with respect to their BookingSlot.'*************************\n",
      "Executing the SQL query\n",
      "Fetching the query results\n",
      "Retrieving the column names\n",
      "\n",
      "('BookingID', 'GuestFullName')\n",
      "(9, 'Jay Kon')\n",
      "(8, 'Bald Vin')\n",
      "(7, 'Anees Java')\n",
      "***************************************************************************************************************************************************************************************************************************\n",
      "\n",
      "\n",
      "Closing the connection\n"
     ]
    }
   ],
   "source": [
    "print(\"Getting a connection from the pool\")\n",
    "task_connection = pool.get_connection()\n",
    "\n",
    "print(\"Creating cursor object from the connection\")\n",
    "task_cursor = task_connection.cursor()\n",
    "print(\"\\n\\n\")\n",
    "\n",
    "message = \"*************************Creating a select query for 'The name and EmployeeID of the Little Lemon manager.'*************************\"\n",
    "print(message)\n",
    "select_query=\"\"\"SELECT Name, EmployeeID FROM Employees\n",
    "WHERE Role = 'Manager';\"\"\"\n",
    "\n",
    "print(\"Executing the SQL query\")\n",
    "task_cursor.execute(select_query)\n",
    "\n",
    "print(\"Fetching the query results\")\n",
    "results = task_cursor.fetchall()\n",
    "print(\"Retrieving the column names\\n\")\n",
    "cols = task_cursor.column_names\n",
    "print(cols)\n",
    "for result in results:\n",
    "    print(result)\n",
    "print(\"*\" * len(message))\n",
    "print(\"\\n\\n\\n\")\n",
    "\n",
    "\n",
    "message = \"*************************Creating a select query for 'The name and role of the employee who receives the highest salary.'*************************\"\n",
    "print(message)\n",
    "select_query=\"\"\"SELECT Name, Role FROM Employees\n",
    "WHERE Annual_Salary = (SELECT MAX(Annual_Salary) FROM Employees);\"\"\"\n",
    "\n",
    "print(\"Executing the SQL query\")\n",
    "task_cursor.execute(select_query)\n",
    "\n",
    "print(\"Fetching the query results\")\n",
    "results = task_cursor.fetchall()\n",
    "print(\"Retrieving the column names\\n\")\n",
    "cols = task_cursor.column_names\n",
    "print(cols)\n",
    "for result in results:\n",
    "    print(result)\n",
    "print(\"*\" * len(message))\n",
    "\n",
    "print(\"\\n\\n\\n\")\n",
    "\n",
    "\n",
    "message = \"*************************Creating a select query for 'The number of guests booked between 18:00 and 20:00.'*************************\"\n",
    "print(message)\n",
    "select_query=\"\"\"SELECT COUNT(BookingID) AS no_guests_booked_btw_18_21\n",
    "FROM Bookings WHERE BookingSlot BETWEEN '18:00' AND '20:00';\"\"\"\n",
    "\n",
    "print(\"Executing the SQL query\")\n",
    "task_cursor.execute(select_query)\n",
    "\n",
    "print(\"Fetching the query results\")\n",
    "results = task_cursor.fetchall()\n",
    "print(\"Retrieving the column names\\n\")\n",
    "cols = task_cursor.column_names\n",
    "print(cols)\n",
    "for result in results:\n",
    "    print(result)\n",
    "print(\"*\" * len(message))\n",
    "\n",
    "print(\"\\n\\n\\n\")\n",
    "\n",
    "\n",
    "message = \"*************************Creating a select query for 'The full name and the BookingId of each guest waiting to be seated with the receptionist in sorted order with respect to their BookingSlot.'*************************\"\n",
    "print(message)\n",
    "select_query=\"\"\"SELECT Bookings.BookingID, CONCAT(Bookings.GuestFirstName, \" \", Bookings.GuestLastName) AS GuestFullName\n",
    "FROM Bookings\n",
    "LEFT JOIN Employees\n",
    "ON Bookings.EmployeeID=Employees.EmployeeID\n",
    "WHERE Employees.Role = \"Receptionist\"\n",
    "ORDER BY Bookings.BookingSlot DESC;\"\"\"\n",
    "\n",
    "print(\"Executing the SQL query\")\n",
    "task_cursor.execute(select_query)\n",
    "\n",
    "print(\"Fetching the query results\")\n",
    "results = task_cursor.fetchall()\n",
    "print(\"Retrieving the column names\\n\")\n",
    "cols = task_cursor.column_names\n",
    "print(cols)\n",
    "for result in results:\n",
    "    print(result)\n",
    "print(\"*\" * len(message))\n",
    "\n",
    "\n",
    "\n",
    "print(\"\\n\\nClosing the connection\")\n",
    "task_connection.close()"
   ]
  },
  {
   "cell_type": "markdown",
   "id": "cee5b487-b077-4d46-b666-0eb2afe7bb60",
   "metadata": {},
   "source": [
    "### Task 4:\n",
    "Create a stored procedure named BasicSalesReport that returns the following statistics:\n",
    "- Total sales\n",
    "- Average sale\n",
    "- Minimum bill paid\n",
    "- Maximum bill paid"
   ]
  },
  {
   "cell_type": "code",
   "execution_count": 17,
   "id": "8eb00d2a-7e7c-4dbb-a2f7-4e500c98e12f",
   "metadata": {},
   "outputs": [
    {
     "name": "stdout",
     "output_type": "stream",
     "text": [
      "Getting a connection from the pool\n",
      "Creating cursor object from the connection\n"
     ]
    }
   ],
   "source": [
    "print(\"Getting a connection from the pool\")\n",
    "task_connection = pool.get_connection()\n",
    "\n",
    "print(\"Creating cursor object from the connection\")\n",
    "task_cursor = task_connection.cursor()\n",
    "\n",
    "drop_procedure_query = \"\"\"\n",
    "DROP PROCEDURE IF EXISTS BasicSalesReport\n",
    "\"\"\"\n",
    "task_cursor.execute(drop_procedure_query)\n",
    "task_connection.commit()"
   ]
  },
  {
   "cell_type": "code",
   "execution_count": 18,
   "id": "0683ecfa-1bdf-4953-8622-85bb359bc595",
   "metadata": {},
   "outputs": [],
   "source": [
    "stored_procedure_query = \"\"\"\n",
    "CREATE PROCEDURE BasicSalesReport()\n",
    "BEGIN\n",
    "SELECT SUM(BillAmount) AS TotalSales,\n",
    "AVG(BillAmount) AS AverageSales,\n",
    "MIN(BillAmount) AS MininiumBillAmount,\n",
    "MAX(BillAmount) AS MaximumBillAmount\n",
    "FROM Orders; \n",
    "END\n",
    "\"\"\""
   ]
  },
  {
   "cell_type": "code",
   "execution_count": 19,
   "id": "fa497698-b943-4869-ab09-41b47c2bf80e",
   "metadata": {},
   "outputs": [
    {
     "name": "stdout",
     "output_type": "stream",
     "text": [
      "Executing the Procedure Query\n",
      "Calling the Procedure\n"
     ]
    },
    {
     "data": {
      "text/plain": [
       "()"
      ]
     },
     "execution_count": 19,
     "metadata": {},
     "output_type": "execute_result"
    }
   ],
   "source": [
    "print(\"Executing the Procedure Query\")\n",
    "task_cursor.execute(stored_procedure_query)\n",
    "\n",
    "print(\"Calling the Procedure\")\n",
    "task_cursor.callproc(\"BasicSalesReport\")"
   ]
  },
  {
   "cell_type": "code",
   "execution_count": 20,
   "id": "5e09883b-edff-4058-bdeb-6431e0d78489",
   "metadata": {},
   "outputs": [
    {
     "name": "stdout",
     "output_type": "stream",
     "text": [
      "Retrieving the column names\n",
      "\n",
      "('TotalSales', 'AverageSales', 'MininiumBillAmount', 'MaximumBillAmount')\n",
      "Displaying the results\n",
      "(243, 48.6000, 37, 86)\n"
     ]
    }
   ],
   "source": [
    "results=next(task_cursor.stored_results())\n",
    "print(\"Retrieving the column names\\n\")\n",
    "cols = results.column_names\n",
    "print(cols)\n",
    "dataset = results.fetchall()\n",
    "print(\"Displaying the results\")\n",
    "print(f\"({dataset[0][0]}, {dataset[0][1]}, {dataset[0][2]}, {dataset[0][3]})\")\n",
    "\n",
    "task_connection.close()"
   ]
  },
  {
   "cell_type": "markdown",
   "id": "6058cc5e-7b3f-44e0-9fe6-567dd78c4847",
   "metadata": {},
   "source": [
    "### Task 5:\n",
    "Little Lemon needs to display the next three upcoming bookings from the Bookings table on the kitchen screen to notify their chefs which orders are due next. To complete this task, carry out the following steps:\n",
    "- Get a connection from the pool.\n",
    "- Create a buffered cursor.\n",
    "- Combine the data from the Bookings and the Employee tables. Sort the retrieved records in ascending order. Then display the information of the first three guests.\n",
    "- Returned the connection back to the pool."
   ]
  },
  {
   "cell_type": "code",
   "execution_count": 21,
   "id": "9ffbed5b-5902-405d-ba7a-190a0b1849ae",
   "metadata": {},
   "outputs": [
    {
     "name": "stdout",
     "output_type": "stream",
     "text": [
      "Executing the select query\n",
      "Retrieving the first 3 records from the results\n",
      "Displaying the results\n",
      "\n",
      "BookingSlot 15:00:00\n",
      "\tGuest_name: Vanessa McCarthy\n",
      "\tAssigned to: Giorgos Dioudis [Head Chef]\n",
      "\n",
      "BookingSlot 17:30:00\n",
      "\tGuest_name: Marcos Romero\n",
      "\tAssigned to: Fatma Kaya [Assistant Chef]\n",
      "\n",
      "BookingSlot 18:00:00\n",
      "\tGuest_name: Anees Java\n",
      "\tAssigned to: John Millar [Receptionist]\n"
     ]
    }
   ],
   "source": [
    "task_connection = pool.get_connection()\n",
    "task_cursor = task_connection.cursor(buffered=True)\n",
    "\n",
    "select_query=\"\"\"SELECT \n",
    "Bookings.BookingSlot,\n",
    "CONCAT(Bookings.GuestFirstName, \" \", Bookings.GuestLastName) AS GuestFullName,\n",
    "Employees.Name AS EmployeeName,\n",
    "Employees.Role AS EmpployeeRole\n",
    "FROM Bookings \n",
    "INNER JOIN \n",
    "Employees ON Bookings.EmployeeID = Employees.EmployeeID\n",
    "ORDER BY Bookings.BookingSlot ASC;\"\"\"\n",
    "\n",
    "print(\"Executing the select query\")\n",
    "task_cursor.execute(select_query)\n",
    "\n",
    "print(\"Retrieving the first 3 records from the results\")\n",
    "results=task_cursor.fetchmany(size=3)\n",
    "\n",
    "print(\"Displaying the results\")\n",
    "for result in results:\n",
    "    print(f\"\\nBookingSlot {result[0]}\")\n",
    "    print(f\"\\tGuest_name: {result[1]}\")\n",
    "    print(f\"\\tAssigned to: {result[2]} [{result[3]}]\")\n",
    "    \n",
    "task_connection.close()"
   ]
  },
  {
   "cell_type": "code",
   "execution_count": null,
   "id": "d7ba5664-4c73-4533-9531-d6a196f21565",
   "metadata": {},
   "outputs": [],
   "source": []
  }
 ],
 "metadata": {
  "kernelspec": {
   "display_name": "base",
   "language": "python",
   "name": "python3"
  },
  "language_info": {
   "codemirror_mode": {
    "name": "ipython",
    "version": 3
   },
   "file_extension": ".py",
   "mimetype": "text/x-python",
   "name": "python",
   "nbconvert_exporter": "python",
   "pygments_lexer": "ipython3",
   "version": "3.11.7"
  }
 },
 "nbformat": 4,
 "nbformat_minor": 5
}
