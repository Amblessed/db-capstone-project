{
 "cells": [
  {
   "cell_type": "code",
   "execution_count": 1,
   "id": "1f8cbde0-5847-46da-b478-e8cfd98e8a10",
   "metadata": {},
   "outputs": [],
   "source": [
    "import os, sys\n",
    "import mysql.connector as connector\n",
    "import subprocess\n",
    "import logging\n",
    "import getpass\n",
    "sys.path.append(\"..\")\n",
    "from display.display_query import execute_display_query_results, select_all_query"
   ]
  },
  {
   "cell_type": "code",
   "execution_count": 2,
   "id": "0af4586c-1e75-48ea-b9d5-94cf0a2a9e3e",
   "metadata": {},
   "outputs": [],
   "source": [
    "logger = logging.getLogger(\"[SET MySQL Specialist]\")\n",
    "if os.path.exists(\"../log/create_database.log\"):\n",
    "  os.remove(\"../log/create_database.log\")\n",
    "logging.basicConfig(filename='../log/create_database.log', encoding='utf-8', level=logging.DEBUG, format='%(asctime)s ==> %(message)s', datefmt='%m/%d/%Y %I:%M:%S')"
   ]
  },
  {
   "cell_type": "markdown",
   "id": "55c5d5a5-8f2a-4caf-9749-6f3b2c53a7db",
   "metadata": {},
   "source": [
    "## Create Connection and Cursor Object"
   ]
  },
  {
   "cell_type": "code",
   "execution_count": 3,
   "id": "147e415a-6f58-4172-98eb-3064457b2bcd",
   "metadata": {},
   "outputs": [
    {
     "name": "stdout",
     "output_type": "stream",
     "text": [
      "Connection established between MySQL and Python\n",
      "Creating cursor object from connection\n",
      "Cursor object created to communicate with MySQL\n"
     ]
    }
   ],
   "source": [
    "logger.info(\"Creating a connection between MySQL and Python\")\n",
    "dbconfig={\"user\":\"root\", \"password\":os.environ[\"MYSQL_ROOT_PASSWORD\"], \"port\":33061, \"host\":\"localhost\", \"database\": \"db_mavenmovies\"}\n",
    "connection=connector.connect(**dbconfig)\n",
    "print(\"Connection established between MySQL and Python\")\n",
    "logger.info(\"Connection established between MySQL and Python\")\n",
    "\n",
    "\n",
    "print(\"Creating cursor object from connection\")\n",
    "logger.info(\"Creating first cursor object from connection\")\n",
    "cursor = connection.cursor()\n",
    "print(\"Cursor object created to communicate with MySQL\")\n",
    "logger.info(\"Cursor object created to communicate with MySQL\")"
   ]
  },
  {
   "cell_type": "markdown",
   "id": "cade3b67-0f2a-44b6-a729-ff2890657844",
   "metadata": {},
   "source": [
    "# Show Tables"
   ]
  },
  {
   "cell_type": "code",
   "execution_count": 4,
   "id": "d4bc87f2-e3af-4963-bb90-9b5741fc0379",
   "metadata": {},
   "outputs": [
    {
     "name": "stdout",
     "output_type": "stream",
     "text": [
      "+---------------------------------+\n",
      "|    Tables_in_db_mavenmovies     |\n",
      "+---------------------------------+\n",
      "|            tbl_actor            |\n",
      "|         tbl_actor_award         |\n",
      "|           tbl_address           |\n",
      "|           tbl_advisor           |\n",
      "|          tbl_category           |\n",
      "|            tbl_city             |\n",
      "|           tbl_country           |\n",
      "|          tbl_customer           |\n",
      "|            tbl_film             |\n",
      "|         tbl_film_actor          |\n",
      "|        tbl_film_category        |\n",
      "|          tbl_film_text          |\n",
      "|          tbl_inventory          |\n",
      "|          tbl_investor           |\n",
      "|          tbl_language           |\n",
      "|           tbl_payment           |\n",
      "|           tbl_rental            |\n",
      "|            tbl_staff            |\n",
      "|            tbl_store            |\n",
      "|         view_actor_info         |\n",
      "|       view_customer_list        |\n",
      "|         view_film_list          |\n",
      "| view_nicer_but_slower_film_list |\n",
      "|   view_sales_by_film_category   |\n",
      "|       view_sales_by_store       |\n",
      "|         view_staff_list         |\n",
      "+---------------------------------+\n",
      "26 rows returned in time: (0.003 sec)\n"
     ]
    }
   ],
   "source": [
    "execute_display_query_results(query=\"SHOW TABLES;\", cursor=cursor)"
   ]
  },
  {
   "cell_type": "code",
   "execution_count": 5,
   "id": "7dc589bc-c9bb-4de4-98c9-b60ecd45cb39",
   "metadata": {},
   "outputs": [
    {
     "name": "stdout",
     "output_type": "stream",
     "text": [
      "+---------------------------------+\n",
      "|           TABLE_NAME            |\n",
      "+---------------------------------+\n",
      "|         view_actor_info         |\n",
      "|       view_customer_list        |\n",
      "|         view_film_list          |\n",
      "| view_nicer_but_slower_film_list |\n",
      "|   view_sales_by_film_category   |\n",
      "|       view_sales_by_store       |\n",
      "|         view_staff_list         |\n",
      "+---------------------------------+\n",
      "7 rows returned in time: (0.001 sec)\n"
     ]
    }
   ],
   "source": [
    "show_query = \"\"\"SELECT TABLE_NAME FROM information_schema.TABLES\n",
    "WHERE TABLE_SCHEMA = 'db_mavenmovies' AND TABLE_NAME NOT LIKE 'tbl_%';\"\"\"\n",
    "execute_display_query_results(query=show_query, cursor=cursor)"
   ]
  },
  {
   "cell_type": "code",
   "execution_count": 6,
   "id": "188bd1e5-a3bc-4e9c-a814-ad77c1c7c862",
   "metadata": {},
   "outputs": [
    {
     "name": "stdout",
     "output_type": "stream",
     "text": [
      "+-------------------+\n",
      "|    TABLE_NAME     |\n",
      "+-------------------+\n",
      "|     tbl_actor     |\n",
      "|  tbl_actor_award  |\n",
      "|    tbl_address    |\n",
      "|    tbl_advisor    |\n",
      "|   tbl_category    |\n",
      "|     tbl_city      |\n",
      "|    tbl_country    |\n",
      "|   tbl_customer    |\n",
      "|     tbl_film      |\n",
      "|  tbl_film_actor   |\n",
      "| tbl_film_category |\n",
      "|   tbl_film_text   |\n",
      "|   tbl_inventory   |\n",
      "|   tbl_investor    |\n",
      "|   tbl_language    |\n",
      "|    tbl_payment    |\n",
      "|    tbl_rental     |\n",
      "|     tbl_staff     |\n",
      "|     tbl_store     |\n",
      "+-------------------+\n",
      "19 rows returned in time: (0.001 sec)\n"
     ]
    }
   ],
   "source": [
    "show_query = \"\"\"SELECT TABLE_NAME FROM information_schema.TABLES\n",
    "WHERE TABLE_SCHEMA = 'db_mavenmovies' AND TABLE_NAME LIKE 'tbl_%';\"\"\"\n",
    "execute_display_query_results(query=show_query, cursor=cursor)"
   ]
  },
  {
   "cell_type": "code",
   "execution_count": null,
   "id": "f12a96f4-fb5a-4892-ae32-0800067f8554",
   "metadata": {},
   "outputs": [],
   "source": []
  }
 ],
 "metadata": {
  "kernelspec": {
   "display_name": "Python 3 (ipykernel)",
   "language": "python",
   "name": "python3"
  },
  "language_info": {
   "codemirror_mode": {
    "name": "ipython",
    "version": 3
   },
   "file_extension": ".py",
   "mimetype": "text/x-python",
   "name": "python",
   "nbconvert_exporter": "python",
   "pygments_lexer": "ipython3",
   "version": "3.11.7"
  }
 },
 "nbformat": 4,
 "nbformat_minor": 5
}
