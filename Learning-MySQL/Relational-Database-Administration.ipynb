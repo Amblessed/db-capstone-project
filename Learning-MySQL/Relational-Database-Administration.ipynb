{
 "cells": [
  {
   "cell_type": "code",
   "execution_count": 1,
   "id": "da07e339-4374-4488-830c-02c26213f725",
   "metadata": {},
   "outputs": [],
   "source": [
    "import os\n",
    "import mysql.connector as connector\n",
    "import logging\n",
    "from time import time"
   ]
  },
  {
   "cell_type": "code",
   "execution_count": 2,
   "id": "8d796ac1-ab29-4180-a6d8-3efde4380776",
   "metadata": {},
   "outputs": [],
   "source": [
    "logger = logging.getLogger(\"[Relational-Database-Administration MySQL]\")\n",
    "if os.path.exists(\"../log/rda-fxn-mysql.log\"):\n",
    "  os.remove(\"../log/rda-fxn-mysql.log\")\n",
    "logging.basicConfig(filename='../log/rda-fxn-mysql.log', encoding='utf-8', level=logging.DEBUG, format='%(asctime)s ==> %(message)s', datefmt='%m/%d/%Y %I:%M:%S')"
   ]
  },
  {
   "cell_type": "code",
   "execution_count": 3,
   "id": "b4f4ccc4-48ba-4ba7-a4de-e75867e3bd6a",
   "metadata": {},
   "outputs": [
    {
     "name": "stdout",
     "output_type": "stream",
     "text": [
      "Connection established between MySQL and Python\n"
     ]
    }
   ],
   "source": [
    "logger.info(\"Creating a connection between MySQL and Python\")\n",
    "dbconfig={\"user\":\"user_wsl\", \"password\":os.environ[\"MYSQL_USER_WSL_PASSWORD\"], \"port\":33061, \"host\":\"localhost\"}\n",
    "connection=connector.connect(**dbconfig)\n",
    "print(\"Connection established between MySQL and Python\")\n",
    "logger.info(\"Connection established between MySQL and Python\")"
   ]
  },
  {
   "cell_type": "code",
   "execution_count": 4,
   "id": "d8688ffc-4ab0-4525-8b06-28d3789dc168",
   "metadata": {},
   "outputs": [
    {
     "name": "stdout",
     "output_type": "stream",
     "text": [
      "Creating cursor object from the connection\n",
      "Cursor object created to communicate with MySQL using Python.\n"
     ]
    }
   ],
   "source": [
    "print(\"Creating cursor object from the connection\")\n",
    "logger.info(\"Creating cursor object from the connection\")\n",
    "cursor = connection.cursor(buffered=True)\n",
    "print(\"Cursor object created to communicate with MySQL using Python.\")\n",
    "logger.info(\"Cursor object created to communicate with MySQL using Python.\")"
   ]
  },
  {
   "cell_type": "code",
   "execution_count": 5,
   "id": "7f61d72c-5cb8-41a6-9676-618a36b426f3",
   "metadata": {},
   "outputs": [],
   "source": [
    "def select_all_query(table_name: str):\n",
    "    return f\"\"\"SELECT * FROM {table_name};\"\"\"\n",
    "\n",
    "\n",
    "def display_results(table_column_names: list, results: list, exec_time):\n",
    "    #start = timer()\n",
    "    table_columns_length = [len(x) for x in table_column_names]\n",
    "    for result in results:\n",
    "        for value in range(len(result)):\n",
    "            row_data = result[value]\n",
    "            if row_data:\n",
    "                row_data = str(row_data)\n",
    "                length_row_data = len(row_data)\n",
    "                if length_row_data > table_columns_length[value]:\n",
    "                    if length_row_data > 60:\n",
    "                        length_row_data = length_row_data + 10\n",
    "                    table_columns_length[value] = length_row_data\n",
    "    dashes_plus = \"\"\n",
    "    for num in range(len(table_columns_length)):\n",
    "        dashes_plus = dashes_plus + \"+\" + '-'*(table_columns_length[num]+2)\n",
    "    dashes_plus = dashes_plus + \"+\"\n",
    "    \n",
    "    print(dashes_plus)\n",
    "    \n",
    "    table_headers = \"\"\n",
    "    for num in range(len(table_column_names)):\n",
    "        table_headers = table_headers + f\"| {table_column_names[num]:^{table_columns_length[num]}} \"\n",
    "    table_headers = table_headers + \"|\"\n",
    "    print(table_headers)\n",
    "    \n",
    "    print(dashes_plus)\n",
    "    \n",
    "    for result in results:\n",
    "        table_row = \"\"\n",
    "        for value in range(len(result)):\n",
    "            row_data = result[value]\n",
    "            if row_data is None:\n",
    "                row_data = \"NULL\"            \n",
    "                #if \"Field\" in table_column_names or \"select_type\" in table_column_names:\n",
    "                    #row_data = None\n",
    "                #else:\n",
    "                    #row_data = None\n",
    "            table_row = table_row + \"|\" + f\"{str(row_data):^{table_columns_length[value]+2}}\"\n",
    "        print(table_row + \"|\")\n",
    "    print(dashes_plus)\n",
    "    num_rows: int = len(results)\n",
    "    message: str = \"row returned\" if num_rows == 1 else \"rows returned\"\n",
    "    print(f\"{num_rows} {message} in set: ({exec_time} sec)\")\n",
    "\n",
    "def execute_display_query_results(query: str = \"\", table_column_names: list = [], results: list = []): \n",
    "    logger.info(f\"Executing the query: {query}\")\n",
    "    if len(query) > 2 and (table_column_names or results):\n",
    "        print(\"You can only pass in the query alone or the table_column_names and results list\")\n",
    "        assert False\n",
    "    if query and not table_column_names and not results:\n",
    "        init_time = time()\n",
    "        cursor.execute(query)\n",
    "        end_time = time()\n",
    "        exec_time = end_time - init_time\n",
    "        results = cursor.fetchall()    \n",
    "        table_column_names = cursor.column_names\n",
    "        \n",
    "    \n",
    "    display_results(table_column_names, results, round(exec_time, 4))\n",
    "   "
   ]
  },
  {
   "cell_type": "code",
   "execution_count": 6,
   "id": "08c4978a-f5eb-46ef-9dcc-801a6da3a9ee",
   "metadata": {},
   "outputs": [
    {
     "name": "stdout",
     "output_type": "stream",
     "text": [
      "+------------------------+\n",
      "|        Database        |\n",
      "+------------------------+\n",
      "|          CVD           |\n",
      "|     LittleLemonDB      |\n",
      "|    STAFF_LOCATIONS     |\n",
      "|        billing         |\n",
      "|     classicmodels      |\n",
      "|      db_Exercise       |\n",
      "|    db_aggregate_fxn    |\n",
      "|         db_hr          |\n",
      "|       db_learner       |\n",
      "|    db_little_lemon     |\n",
      "|        db_meta         |\n",
      "| db_meta_advanced_mysql |\n",
      "|   db_meta_dsm_mysql    |\n",
      "|        db_music        |\n",
      "|     db_mysqladmin      |\n",
      "|     db_subqueries      |\n",
      "|        db_views        |\n",
      "|       employees        |\n",
      "|   global_super_store   |\n",
      "|   information_schema   |\n",
      "|      little_lemon      |\n",
      "|    little_lemon_db     |\n",
      "|      lucky_Shrub       |\n",
      "|     mangata_gallo      |\n",
      "|     mangata_jw_db      |\n",
      "|        meta_db         |\n",
      "|       mg_schema        |\n",
      "|         mysql          |\n",
      "|   performance_schema   |\n",
      "|         sakila         |\n",
      "|          sys           |\n",
      "|         world          |\n",
      "+------------------------+\n",
      "32 rows returned in set: (0.0178 sec)\n"
     ]
    }
   ],
   "source": [
    "show_version_query = \"\"\"SHOW DATABASES;\"\"\"\n",
    "execute_display_query_results(query=show_version_query)"
   ]
  },
  {
   "cell_type": "markdown",
   "id": "add8d65b-88c9-4b38-8059-7504b788466d",
   "metadata": {},
   "source": [
    "## Task 2.2.1: Restore MySQL server using a previous backup. "
   ]
  },
  {
   "cell_type": "code",
   "execution_count": 7,
   "id": "54679bcb-e04f-4bd2-a253-1f4e0f146666",
   "metadata": {},
   "outputs": [],
   "source": [
    "use_database_query = \"USE billing;\"\n",
    "cursor.execute(use_database_query)"
   ]
  },
  {
   "cell_type": "code",
   "execution_count": 8,
   "id": "63aeca67-a8fb-428c-a571-b858bda666d8",
   "metadata": {},
   "outputs": [
    {
     "name": "stdout",
     "output_type": "stream",
     "text": [
      "+-------------------+\n",
      "| Tables_in_billing |\n",
      "+-------------------+\n",
      "|     billdata      |\n",
      "+-------------------+\n",
      "1 row returned in set: (0.0212 sec)\n"
     ]
    }
   ],
   "source": [
    "show_tables_query = \"\"\"SHOW TABLES;\"\"\"\n",
    "execute_display_query_results(query=show_tables_query)"
   ]
  },
  {
   "cell_type": "markdown",
   "id": "f617c3d9-3c58-4800-be54-f39e8170e654",
   "metadata": {},
   "source": [
    "## Task 2.2.2 - Find the table data size"
   ]
  },
  {
   "cell_type": "code",
   "execution_count": 9,
   "id": "fa8a8035-8ed1-431f-8625-f963130cb8b6",
   "metadata": {},
   "outputs": [
    {
     "name": "stdout",
     "output_type": "stream",
     "text": [
      "+------------+----------------------------+\n",
      "| TABLE_NAME | data_length + index_length |\n",
      "+------------+----------------------------+\n",
      "|  billdata  |          6832128           |\n",
      "+------------+----------------------------+\n",
      "1 row returned in set: (0.0017 sec)\n"
     ]
    }
   ],
   "source": [
    "select_query = \"\"\"select table_name, data_length + index_length from information_schema.tables where table_name = 'billdata';\"\"\"\n",
    "execute_display_query_results(select_query)"
   ]
  },
  {
   "cell_type": "code",
   "execution_count": 10,
   "id": "df6ed30f-fa94-453b-98e1-46501c8fa814",
   "metadata": {},
   "outputs": [
    {
     "name": "stdout",
     "output_type": "stream",
     "text": [
      "+------------+-----------------------------------+\n",
      "| TABLE_NAME | (data_length + index_length)/1024 |\n",
      "+------------+-----------------------------------+\n",
      "|  billdata  |             6672.0000             |\n",
      "+------------+-----------------------------------+\n",
      "1 row returned in set: (0.0015 sec)\n"
     ]
    }
   ],
   "source": [
    "select_query = \"\"\"select table_name, (data_length + index_length)/1024 from information_schema.tables where table_name = 'billdata';\"\"\"\n",
    "execute_display_query_results(select_query)"
   ]
  },
  {
   "cell_type": "markdown",
   "id": "97efa436-4509-441f-b176-74a492aebeab",
   "metadata": {},
   "source": [
    "## Task 2.3.1 - Baseline query performance\n",
    "Write a query to select all rows with a billedamount > 19999 in table billdata."
   ]
  },
  {
   "cell_type": "code",
   "execution_count": 9,
   "id": "b1052542-8473-42f5-a8b0-1c29b5849694",
   "metadata": {},
   "outputs": [
    {
     "name": "stdout",
     "output_type": "stream",
     "text": [
      "+--------+------------+--------------+---------+\n",
      "| billid | customerid | billedamount | monthid |\n",
      "+--------+------------+--------------+---------+\n",
      "|  8509  |    285     |    20000     |  20096  |\n",
      "| 68268  |    559     |    20000     |  20146  |\n",
      "| 81622  |    643     |    20000     |  20157  |\n",
      "| 84858  |    317     |    20000     |  20161  |\n",
      "| 89353  |    871     |    20000     |  20163  |\n",
      "| 102682 |    937     |    20000     |  20174  |\n",
      "| 109574 |    386     |    20000     | 201810  |\n",
      "| 121844 |    777     |    20000     | 201910  |\n",
      "+--------+------------+--------------+---------+\n",
      "8 rows returned in set: (0.0016 sec)\n"
     ]
    }
   ],
   "source": [
    "select_query = \"\"\"select * from billdata where billedamount > 19999;\"\"\"\n",
    "execute_display_query_results(select_query)"
   ]
  },
  {
   "cell_type": "markdown",
   "id": "dee7567a-9fc6-4e73-ace4-a7b0149d91c9",
   "metadata": {},
   "source": [
    "## Task 2.3.2: Create an index. "
   ]
  },
  {
   "cell_type": "code",
   "execution_count": 18,
   "id": "fcd6a93f-356c-4928-8c8f-87e235b67569",
   "metadata": {
    "scrolled": true
   },
   "outputs": [
    {
     "ename": "ProgrammingError",
     "evalue": "1061 (42000): Duplicate key name 'idx_billedamount'",
     "output_type": "error",
     "traceback": [
      "\u001b[0;31m---------------------------------------------------------------------------\u001b[0m",
      "\u001b[0;31mMySQLInterfaceError\u001b[0m                       Traceback (most recent call last)",
      "File \u001b[0;32m~/anaconda3/lib/python3.11/site-packages/mysql/connector/connection_cext.py:705\u001b[0m, in \u001b[0;36mCMySQLConnection.cmd_query\u001b[0;34m(self, query, raw, buffered, raw_as_string)\u001b[0m\n\u001b[1;32m    704\u001b[0m         query \u001b[38;5;241m=\u001b[39m query\u001b[38;5;241m.\u001b[39mencode(\u001b[38;5;124m\"\u001b[39m\u001b[38;5;124mutf-8\u001b[39m\u001b[38;5;124m\"\u001b[39m)\n\u001b[0;32m--> 705\u001b[0m     \u001b[38;5;28mself\u001b[39m\u001b[38;5;241m.\u001b[39m_cmysql\u001b[38;5;241m.\u001b[39mquery(\n\u001b[1;32m    706\u001b[0m         query,\n\u001b[1;32m    707\u001b[0m         raw\u001b[38;5;241m=\u001b[39mraw,\n\u001b[1;32m    708\u001b[0m         buffered\u001b[38;5;241m=\u001b[39mbuffered,\n\u001b[1;32m    709\u001b[0m         raw_as_string\u001b[38;5;241m=\u001b[39mraw_as_string,\n\u001b[1;32m    710\u001b[0m         query_attrs\u001b[38;5;241m=\u001b[39m\u001b[38;5;28mself\u001b[39m\u001b[38;5;241m.\u001b[39mquery_attrs,\n\u001b[1;32m    711\u001b[0m     )\n\u001b[1;32m    712\u001b[0m \u001b[38;5;28;01mexcept\u001b[39;00m MySQLInterfaceError \u001b[38;5;28;01mas\u001b[39;00m err:\n",
      "\u001b[0;31mMySQLInterfaceError\u001b[0m: Duplicate key name 'idx_billedamount'",
      "\nThe above exception was the direct cause of the following exception:\n",
      "\u001b[0;31mProgrammingError\u001b[0m                          Traceback (most recent call last)",
      "Cell \u001b[0;32mIn[18], line 2\u001b[0m\n\u001b[1;32m      1\u001b[0m create_index_query \u001b[38;5;241m=\u001b[39m \u001b[38;5;124m\"\"\"\u001b[39m\u001b[38;5;124mCREATE INDEX idx_billedamount on billdata(billedamount);\u001b[39m\u001b[38;5;124m\"\"\"\u001b[39m\n\u001b[0;32m----> 2\u001b[0m cursor\u001b[38;5;241m.\u001b[39mexecute(create_index_query)\n",
      "File \u001b[0;32m~/anaconda3/lib/python3.11/site-packages/mysql/connector/cursor_cext.py:357\u001b[0m, in \u001b[0;36mCMySQLCursor.execute\u001b[0;34m(self, operation, params, multi)\u001b[0m\n\u001b[1;32m    352\u001b[0m             \u001b[38;5;28;01mraise\u001b[39;00m ProgrammingError(\n\u001b[1;32m    353\u001b[0m                 \u001b[38;5;124m\"\u001b[39m\u001b[38;5;124mNot all parameters were used in the SQL statement\u001b[39m\u001b[38;5;124m\"\u001b[39m\n\u001b[1;32m    354\u001b[0m             )\n\u001b[1;32m    356\u001b[0m \u001b[38;5;28;01mtry\u001b[39;00m:\n\u001b[0;32m--> 357\u001b[0m     result \u001b[38;5;241m=\u001b[39m \u001b[38;5;28mself\u001b[39m\u001b[38;5;241m.\u001b[39m_connection\u001b[38;5;241m.\u001b[39mcmd_query(\n\u001b[1;32m    358\u001b[0m         stmt,\n\u001b[1;32m    359\u001b[0m         raw\u001b[38;5;241m=\u001b[39m\u001b[38;5;28mself\u001b[39m\u001b[38;5;241m.\u001b[39m_raw,\n\u001b[1;32m    360\u001b[0m         buffered\u001b[38;5;241m=\u001b[39m\u001b[38;5;28mself\u001b[39m\u001b[38;5;241m.\u001b[39m_buffered,\n\u001b[1;32m    361\u001b[0m         raw_as_string\u001b[38;5;241m=\u001b[39m\u001b[38;5;28mself\u001b[39m\u001b[38;5;241m.\u001b[39m_raw_as_string,\n\u001b[1;32m    362\u001b[0m     )\n\u001b[1;32m    363\u001b[0m \u001b[38;5;28;01mexcept\u001b[39;00m MySQLInterfaceError \u001b[38;5;28;01mas\u001b[39;00m err:\n\u001b[1;32m    364\u001b[0m     \u001b[38;5;28;01mraise\u001b[39;00m get_mysql_exception(\n\u001b[1;32m    365\u001b[0m         msg\u001b[38;5;241m=\u001b[39merr\u001b[38;5;241m.\u001b[39mmsg, errno\u001b[38;5;241m=\u001b[39merr\u001b[38;5;241m.\u001b[39merrno, sqlstate\u001b[38;5;241m=\u001b[39merr\u001b[38;5;241m.\u001b[39msqlstate\n\u001b[1;32m    366\u001b[0m     ) \u001b[38;5;28;01mfrom\u001b[39;00m \u001b[38;5;21;01merr\u001b[39;00m\n",
      "File \u001b[0;32m~/anaconda3/lib/python3.11/site-packages/mysql/connector/opentelemetry/context_propagation.py:97\u001b[0m, in \u001b[0;36mwith_context_propagation.<locals>.wrapper\u001b[0;34m(cnx, *args, **kwargs)\u001b[0m\n\u001b[1;32m     95\u001b[0m \u001b[38;5;66;03m# pylint: disable=possibly-used-before-assignment\u001b[39;00m\n\u001b[1;32m     96\u001b[0m \u001b[38;5;28;01mif\u001b[39;00m \u001b[38;5;129;01mnot\u001b[39;00m OTEL_ENABLED \u001b[38;5;129;01mor\u001b[39;00m \u001b[38;5;129;01mnot\u001b[39;00m cnx\u001b[38;5;241m.\u001b[39motel_context_propagation:\n\u001b[0;32m---> 97\u001b[0m     \u001b[38;5;28;01mreturn\u001b[39;00m method(cnx, \u001b[38;5;241m*\u001b[39margs, \u001b[38;5;241m*\u001b[39m\u001b[38;5;241m*\u001b[39mkwargs)\n\u001b[1;32m     99\u001b[0m current_span \u001b[38;5;241m=\u001b[39m trace\u001b[38;5;241m.\u001b[39mget_current_span()\n\u001b[1;32m    100\u001b[0m tp_header \u001b[38;5;241m=\u001b[39m \u001b[38;5;28;01mNone\u001b[39;00m\n",
      "File \u001b[0;32m~/anaconda3/lib/python3.11/site-packages/mysql/connector/connection_cext.py:713\u001b[0m, in \u001b[0;36mCMySQLConnection.cmd_query\u001b[0;34m(self, query, raw, buffered, raw_as_string)\u001b[0m\n\u001b[1;32m    705\u001b[0m     \u001b[38;5;28mself\u001b[39m\u001b[38;5;241m.\u001b[39m_cmysql\u001b[38;5;241m.\u001b[39mquery(\n\u001b[1;32m    706\u001b[0m         query,\n\u001b[1;32m    707\u001b[0m         raw\u001b[38;5;241m=\u001b[39mraw,\n\u001b[0;32m   (...)\u001b[0m\n\u001b[1;32m    710\u001b[0m         query_attrs\u001b[38;5;241m=\u001b[39m\u001b[38;5;28mself\u001b[39m\u001b[38;5;241m.\u001b[39mquery_attrs,\n\u001b[1;32m    711\u001b[0m     )\n\u001b[1;32m    712\u001b[0m \u001b[38;5;28;01mexcept\u001b[39;00m MySQLInterfaceError \u001b[38;5;28;01mas\u001b[39;00m err:\n\u001b[0;32m--> 713\u001b[0m     \u001b[38;5;28;01mraise\u001b[39;00m get_mysql_exception(\n\u001b[1;32m    714\u001b[0m         err\u001b[38;5;241m.\u001b[39merrno, msg\u001b[38;5;241m=\u001b[39merr\u001b[38;5;241m.\u001b[39mmsg, sqlstate\u001b[38;5;241m=\u001b[39merr\u001b[38;5;241m.\u001b[39msqlstate\n\u001b[1;32m    715\u001b[0m     ) \u001b[38;5;28;01mfrom\u001b[39;00m \u001b[38;5;21;01merr\u001b[39;00m\n\u001b[1;32m    716\u001b[0m \u001b[38;5;28;01mexcept\u001b[39;00m \u001b[38;5;167;01mAttributeError\u001b[39;00m \u001b[38;5;28;01mas\u001b[39;00m err:\n\u001b[1;32m    717\u001b[0m     addr \u001b[38;5;241m=\u001b[39m (\n\u001b[1;32m    718\u001b[0m         \u001b[38;5;28mself\u001b[39m\u001b[38;5;241m.\u001b[39m_unix_socket \u001b[38;5;28;01mif\u001b[39;00m \u001b[38;5;28mself\u001b[39m\u001b[38;5;241m.\u001b[39m_unix_socket \u001b[38;5;28;01melse\u001b[39;00m \u001b[38;5;124mf\u001b[39m\u001b[38;5;124m\"\u001b[39m\u001b[38;5;132;01m{\u001b[39;00m\u001b[38;5;28mself\u001b[39m\u001b[38;5;241m.\u001b[39m_host\u001b[38;5;132;01m}\u001b[39;00m\u001b[38;5;124m:\u001b[39m\u001b[38;5;132;01m{\u001b[39;00m\u001b[38;5;28mself\u001b[39m\u001b[38;5;241m.\u001b[39m_port\u001b[38;5;132;01m}\u001b[39;00m\u001b[38;5;124m\"\u001b[39m\n\u001b[1;32m    719\u001b[0m     )\n",
      "\u001b[0;31mProgrammingError\u001b[0m: 1061 (42000): Duplicate key name 'idx_billedamount'"
     ]
    }
   ],
   "source": [
    "create_index_query = \"\"\"CREATE INDEX idx_billedamount on billdata(billedamount);\"\"\"\n",
    "cursor.execute(create_index_query)"
   ]
  },
  {
   "cell_type": "markdown",
   "id": "4082b7aa-7a1c-4794-934a-2d33a62ea10a",
   "metadata": {},
   "source": [
    "## Task 2.3.3: Document the improvement in query performance"
   ]
  },
  {
   "cell_type": "code",
   "execution_count": 53,
   "id": "3cea033b-6f28-4e18-a529-16c56b18fc81",
   "metadata": {},
   "outputs": [
    {
     "name": "stdout",
     "output_type": "stream",
     "text": [
      "+--------+------------+--------------+---------+\n",
      "| billid | customerid | billedamount | monthid |\n",
      "+--------+------------+--------------+---------+\n",
      "|  8509  |    285     |    20000     |  20096  |\n",
      "| 68268  |    559     |    20000     |  20146  |\n",
      "| 81622  |    643     |    20000     |  20157  |\n",
      "| 84858  |    317     |    20000     |  20161  |\n",
      "| 89353  |    871     |    20000     |  20163  |\n",
      "| 102682 |    937     |    20000     |  20174  |\n",
      "| 109574 |    386     |    20000     | 201810  |\n",
      "| 121844 |    777     |    20000     | 201910  |\n",
      "+--------+------------+--------------+---------+\n",
      "8 rows returned in set: (0.0018 sec)\n"
     ]
    }
   ],
   "source": [
    "select_query = \"\"\"select * from billdata where billedamount > 19999;\"\"\"\n",
    "execute_display_query_results(select_query)"
   ]
  },
  {
   "cell_type": "markdown",
   "id": "8ada558b-4d89-41dc-b22f-a86e0094bd3e",
   "metadata": {},
   "source": [
    "## Task 2.4.1: Find Supported Storage Engines"
   ]
  },
  {
   "cell_type": "code",
   "execution_count": 29,
   "id": "87318a08-9688-4842-9c25-78df04206ea3",
   "metadata": {},
   "outputs": [
    {
     "name": "stdout",
     "output_type": "stream",
     "text": [
      "+--------------------+---------+--------------------------------------------------------------------------+--------------+-----+------------+\n",
      "|       Engine       | Support |                                 Comment                                  | Transactions | XA  | Savepoints |\n",
      "+--------------------+---------+--------------------------------------------------------------------------+--------------+-----+------------+\n",
      "|      ARCHIVE       |   YES   |                          Archive storage engine                          |      NO      | NO  |     NO     |\n",
      "|     BLACKHOLE      |   YES   |      /dev/null storage engine (anything you write to it disappears)      |      NO      | NO  |     NO     |\n",
      "|     MRG_MYISAM     |   YES   |                  Collection of identical MyISAM tables                   |      NO      | NO  |     NO     |\n",
      "|     FEDERATED      |   NO    |                      Federated MySQL storage engine                      |     NULL     |NULL |    NULL    |\n",
      "|       MyISAM       |   YES   |                          MyISAM storage engine                           |      NO      | NO  |     NO     |\n",
      "| PERFORMANCE_SCHEMA |   YES   |                            Performance Schema                            |      NO      | NO  |     NO     |\n",
      "|       InnoDB       | DEFAULT |        Supports transactions, row-level locking, and foreign keys        |     YES      | YES |    YES     |\n",
      "|       MEMORY       |   YES   |        Hash based, stored in memory, useful for temporary tables         |      NO      | NO  |     NO     |\n",
      "|        CSV         |   YES   |                            CSV storage engine                            |      NO      | NO  |     NO     |\n",
      "+--------------------+---------+--------------------------------------------------------------------------+--------------+-----+------------+\n",
      "9 rows returned in set: (0.0015 sec)\n"
     ]
    }
   ],
   "source": [
    "show_engines_query = \"\"\"SHOW ENGINES;\"\"\"\n",
    "execute_display_query_results(query=show_engines_query)"
   ]
  },
  {
   "cell_type": "markdown",
   "id": "16ac08b1-19ed-4467-a17d-ca41c5bef4d8",
   "metadata": {},
   "source": [
    "## Task 2.4.2: Find Supported Storage Engine of a table"
   ]
  },
  {
   "cell_type": "code",
   "execution_count": 30,
   "id": "9c2e523d-5bf1-4cb8-a726-8c17c6878701",
   "metadata": {},
   "outputs": [
    {
     "name": "stdout",
     "output_type": "stream",
     "text": [
      "+------------+--------+\n",
      "| TABLE_NAME | ENGINE |\n",
      "+------------+--------+\n",
      "|  billdata  | InnoDB |\n",
      "+------------+--------+\n",
      "1 row returned in set: (0.0014 sec)\n"
     ]
    }
   ],
   "source": [
    "show_table_engine_query = \"\"\"SELECT TABLE_NAME, ENGINE FROM INFORMATION_SCHEMA.TABLES WHERE TABLE_NAME = 'billdata';\"\"\"\n",
    "execute_display_query_results(query=show_table_engine_query)"
   ]
  },
  {
   "cell_type": "code",
   "execution_count": null,
   "id": "02923f2d-1943-4212-ae3d-71f760b5fbe5",
   "metadata": {},
   "outputs": [],
   "source": [
    "use_database_query = \"USE information_schema;\"\n",
    "cursor.execute(use_database_query)\n",
    "\n",
    "show_tables_query = \"\"\"SHOW TABLES;\"\"\"\n",
    "execute_display_query_results(query=show_tables_query)"
   ]
  },
  {
   "cell_type": "code",
   "execution_count": null,
   "id": "ba92d4c3-4737-4975-96b9-6ca33374040a",
   "metadata": {},
   "outputs": [],
   "source": [
    "select_query = \"\"\"SELECT table_name, engine FROM INFORMATION_SCHEMA.TABLES WHERE table_schema = 'db_world';\"\"\"\n",
    "execute_display_query_results(query=select_query)"
   ]
  },
  {
   "cell_type": "code",
   "execution_count": null,
   "id": "e5d44e61-9df3-4e6e-8c7c-87ab13857fc5",
   "metadata": {},
   "outputs": [],
   "source": [
    "select_query = \"\"\"SELECT table_name, engine FROM tables WHERE table_schema = 'db_world';\"\"\"\n",
    "execute_display_query_results(query=select_query)"
   ]
  },
  {
   "cell_type": "code",
   "execution_count": null,
   "id": "208e088d-8d61-4eaa-8aa1-69357061adac",
   "metadata": {},
   "outputs": [],
   "source": [
    "show_tables_query = \"\"\"SHOW COLUMNS from columns;\"\"\"\n",
    "execute_display_query_results(query=show_tables_query)"
   ]
  },
  {
   "cell_type": "code",
   "execution_count": null,
   "id": "94ad9d2c-e4de-4450-9ede-a776bfc2e82a",
   "metadata": {},
   "outputs": [],
   "source": [
    "select_query = \"\"\"SELECT COLUMN_NAME FROM COLUMNS WHERE TABLE_NAME = 'country';\"\"\"\n",
    "execute_display_query_results(query=select_query)"
   ]
  },
  {
   "cell_type": "code",
   "execution_count": null,
   "id": "85629ca9-4f78-43f4-a1e0-3cc027069360",
   "metadata": {},
   "outputs": [],
   "source": [
    "select_query = \"\"\"SELECT DISTINCT TABLE_NAME FROM COLUMNS WHERE TABLE_SCHEMA = 'db_learner';\"\"\"\n",
    "execute_display_query_results(query=select_query)"
   ]
  },
  {
   "cell_type": "code",
   "execution_count": null,
   "id": "26349eee-5d3d-4da4-8202-e99d7c537674",
   "metadata": {},
   "outputs": [],
   "source": [
    "select_query = \"\"\"SELECT DISTINCT TABLE_NAME FROM COLUMNS WHERE TABLE_SCHEMA = 'db_meta_advanced_mysql';\"\"\"\n",
    "execute_display_query_results(query=select_query)"
   ]
  },
  {
   "cell_type": "code",
   "execution_count": null,
   "id": "482c19c9-1f5d-494e-a1d6-5001feebcf29",
   "metadata": {},
   "outputs": [],
   "source": [
    "select_query = \"\"\"SELECT table_name, (data_length + index_length)/1024 FROM INFORMATION_SCHEMA.TABLES \n",
    "WHERE table_name = 'country' OR table_name = 'city' \n",
    "OR table_name = 'countrylanguage' OR table_name = 'csv_test';\"\"\"\n",
    "\n",
    "execute_display_query_results(query=select_query)"
   ]
  },
  {
   "cell_type": "code",
   "execution_count": null,
   "id": "118cd190-0a17-4c38-b7b8-83d7e626accd",
   "metadata": {},
   "outputs": [],
   "source": [
    "select_query = \"\"\"SELECT TABLE_NAME FROM COLUMNS WHERE TABLE_SCHEMA = 'db_world';\"\"\"\n",
    "execute_display_query_results(query=select_query)"
   ]
  },
  {
   "cell_type": "code",
   "execution_count": null,
   "id": "034a6302-a08a-4cd0-95d1-f4b732b3e7d3",
   "metadata": {},
   "outputs": [],
   "source": [
    "select_query = \"\"\"SELECT TABLE_NAME, ENGINE FROM COLUMNS WHERE TABLE_SCHEMA = 'db_world';\"\"\"\n",
    "execute_display_query_results(query=select_query)"
   ]
  },
  {
   "cell_type": "code",
   "execution_count": null,
   "id": "97300cca-2d6a-4f7e-a740-b7458b608f80",
   "metadata": {},
   "outputs": [],
   "source": [
    "show_databases_query = \"\"\"SHOW DATABASES;\"\"\"\n",
    "cursor.execute(show_databases_query)\n",
    "databases = cursor.fetchall()\n",
    "for database in databases:\n",
    "    show_tables_query = f\"\"\"SHOW TABLES FROM {database[0]}\"\"\"\n",
    "    cursor.execute(show_tables_query)\n",
    "    tables = cursor.fetchall()\n",
    "    print(f\"{database[0]}:\")\n",
    "    for table in tables:\n",
    "        print(table[0], end = \",\")\n",
    "    print(\"\\n\")"
   ]
  },
  {
   "cell_type": "code",
   "execution_count": null,
   "id": "73afe73f-a4a7-4580-a1c3-ee20e34dca02",
   "metadata": {},
   "outputs": [],
   "source": []
  }
 ],
 "metadata": {
  "kernelspec": {
   "display_name": "Python 3 (ipykernel)",
   "language": "python",
   "name": "python3"
  },
  "language_info": {
   "codemirror_mode": {
    "name": "ipython",
    "version": 3
   },
   "file_extension": ".py",
   "mimetype": "text/x-python",
   "name": "python",
   "nbconvert_exporter": "python",
   "pygments_lexer": "ipython3",
   "version": "3.11.7"
  }
 },
 "nbformat": 4,
 "nbformat_minor": 5
}
