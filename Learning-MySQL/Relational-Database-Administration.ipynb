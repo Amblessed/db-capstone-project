{
 "cells": [
  {
   "cell_type": "code",
   "execution_count": 1,
   "id": "da07e339-4374-4488-830c-02c26213f725",
   "metadata": {},
   "outputs": [],
   "source": [
    "import os\n",
    "import mysql.connector as connector\n",
    "import logging\n",
    "from time import time"
   ]
  },
  {
   "cell_type": "code",
   "execution_count": 2,
   "id": "8d796ac1-ab29-4180-a6d8-3efde4380776",
   "metadata": {},
   "outputs": [],
   "source": [
    "logger = logging.getLogger(\"[Relational-Database-Administration MySQL]\")\n",
    "if os.path.exists(\"../log/rda-fxn-mysql.log\"):\n",
    "  os.remove(\"../log/rda-fxn-mysql.log\")\n",
    "logging.basicConfig(filename='../log/rda-fxn-mysql.log', encoding='utf-8', level=logging.DEBUG, format='%(asctime)s ==> %(message)s', datefmt='%m/%d/%Y %I:%M:%S')"
   ]
  },
  {
   "cell_type": "code",
   "execution_count": 3,
   "id": "b4f4ccc4-48ba-4ba7-a4de-e75867e3bd6a",
   "metadata": {},
   "outputs": [
    {
     "name": "stdout",
     "output_type": "stream",
     "text": [
      "Connection established between MySQL and Python\n"
     ]
    }
   ],
   "source": [
    "logger.info(\"Creating a connection between MySQL and Python\")\n",
    "dbconfig={\"user\":\"user_wsl\", \"password\":os.environ[\"MYSQL_USER_WSL_PASSWORD\"], \"port\":33061, \"host\":\"localhost\"}\n",
    "connection=connector.connect(**dbconfig)\n",
    "print(\"Connection established between MySQL and Python\")\n",
    "logger.info(\"Connection established between MySQL and Python\")"
   ]
  },
  {
   "cell_type": "code",
   "execution_count": 4,
   "id": "d8688ffc-4ab0-4525-8b06-28d3789dc168",
   "metadata": {},
   "outputs": [
    {
     "name": "stdout",
     "output_type": "stream",
     "text": [
      "Creating cursor object from the connection\n",
      "Cursor object created to communicate with MySQL using Python.\n"
     ]
    }
   ],
   "source": [
    "print(\"Creating cursor object from the connection\")\n",
    "logger.info(\"Creating cursor object from the connection\")\n",
    "cursor = connection.cursor(buffered=True)\n",
    "print(\"Cursor object created to communicate with MySQL using Python.\")\n",
    "logger.info(\"Cursor object created to communicate with MySQL using Python.\")"
   ]
  },
  {
   "cell_type": "code",
   "execution_count": 5,
   "id": "7f61d72c-5cb8-41a6-9676-618a36b426f3",
   "metadata": {},
   "outputs": [],
   "source": [
    "def select_all_query(table_name: str):\n",
    "    return f\"\"\"SELECT * FROM {table_name};\"\"\"\n",
    "\n",
    "\n",
    "def display_results(table_column_names: list, results: list, exec_time):\n",
    "    #start = timer()\n",
    "    table_columns_length = [len(x) for x in table_column_names]\n",
    "    for result in results:\n",
    "        for value in range(len(result)):\n",
    "            row_data = result[value]\n",
    "            if row_data:\n",
    "                row_data = str(row_data)\n",
    "                length_row_data = len(row_data)\n",
    "                if length_row_data > table_columns_length[value]:\n",
    "                    if length_row_data > 60:\n",
    "                        length_row_data = length_row_data + 10\n",
    "                    table_columns_length[value] = length_row_data\n",
    "    dashes_plus = \"\"\n",
    "    for num in range(len(table_columns_length)):\n",
    "        dashes_plus = dashes_plus + \"+\" + '-'*(table_columns_length[num]+2)\n",
    "    dashes_plus = dashes_plus + \"+\"\n",
    "    \n",
    "    print(dashes_plus)\n",
    "    \n",
    "    table_headers = \"\"\n",
    "    for num in range(len(table_column_names)):\n",
    "        table_headers = table_headers + f\"| {table_column_names[num]:^{table_columns_length[num]}} \"\n",
    "    table_headers = table_headers + \"|\"\n",
    "    print(table_headers)\n",
    "    \n",
    "    print(dashes_plus)\n",
    "    \n",
    "    for result in results:\n",
    "        table_row = \"\"\n",
    "        for value in range(len(result)):\n",
    "            row_data = result[value]\n",
    "            if row_data is None:\n",
    "                row_data = \"NULL\"            \n",
    "            table_row = table_row + \"|\" + f\"{str(row_data):^{table_columns_length[value]+2}}\"\n",
    "        print(table_row + \"|\")\n",
    "    print(dashes_plus)\n",
    "    num_rows: int = len(results)\n",
    "    message: str = \"row returned\" if num_rows == 1 else \"rows returned\"\n",
    "    print(f\"{num_rows} {message} in set: ({exec_time} sec)\")\n",
    "\n",
    "def execute_display_query_results(query: str = \"\", table_column_names: list = [], results: list = []): \n",
    "    logger.info(f\"Executing the query: {query}\")\n",
    "    if len(query) > 2 and (table_column_names or results):\n",
    "        print(\"You can only pass in the query alone or the table_column_names and results list\")\n",
    "        assert False\n",
    "    if query and not table_column_names and not results:\n",
    "        init_time = time()\n",
    "        cursor.execute(query)\n",
    "        end_time = time()\n",
    "        exec_time = end_time - init_time\n",
    "        results = cursor.fetchall()    \n",
    "        table_column_names = cursor.column_names\n",
    "        \n",
    "    \n",
    "    display_results(table_column_names, results, round(exec_time, 4))\n",
    "   "
   ]
  },
  {
   "cell_type": "code",
   "execution_count": 6,
   "id": "08c4978a-f5eb-46ef-9dcc-801a6da3a9ee",
   "metadata": {},
   "outputs": [
    {
     "name": "stdout",
     "output_type": "stream",
     "text": [
      "+------------------------+\n",
      "|        Database        |\n",
      "+------------------------+\n",
      "|          CVD           |\n",
      "|     LittleLemonDB      |\n",
      "|    STAFF_LOCATIONS     |\n",
      "|        billing         |\n",
      "|     classicmodels      |\n",
      "|      db_Exercise       |\n",
      "|         db_hr          |\n",
      "|       db_learner       |\n",
      "|    db_little_lemon     |\n",
      "|        db_meta         |\n",
      "| db_meta_advanced_mysql |\n",
      "|   db_meta_dsm_mysql    |\n",
      "|        db_music        |\n",
      "|     db_mysqladmin      |\n",
      "|     db_subqueries      |\n",
      "|        db_views        |\n",
      "|     db_window_fxn      |\n",
      "|       employees        |\n",
      "|   global_super_store   |\n",
      "|   information_schema   |\n",
      "|      little_lemon      |\n",
      "|    little_lemon_db     |\n",
      "|      lucky_Shrub       |\n",
      "|     mangata_gallo      |\n",
      "|     mangata_jw_db      |\n",
      "|        meta_db         |\n",
      "|       mg_schema        |\n",
      "|         mysql          |\n",
      "|   performance_schema   |\n",
      "|         sakila         |\n",
      "|          sys           |\n",
      "|         world          |\n",
      "+------------------------+\n",
      "32 rows returned in set: (0.027 sec)\n"
     ]
    }
   ],
   "source": [
    "show_version_query = \"\"\"SHOW DATABASES;\"\"\"\n",
    "execute_display_query_results(query=show_version_query)"
   ]
  },
  {
   "cell_type": "code",
   "execution_count": 7,
   "id": "f157706c-fc75-4f22-8407-a6541d42ac7b",
   "metadata": {},
   "outputs": [
    {
     "name": "stdout",
     "output_type": "stream",
     "text": [
      "+------------------------+\n",
      "|      SCHEMA_NAME       |\n",
      "+------------------------+\n",
      "|         mysql          |\n",
      "|   information_schema   |\n",
      "|   performance_schema   |\n",
      "|          sys           |\n",
      "|       db_learner       |\n",
      "|          CVD           |\n",
      "|         db_hr          |\n",
      "|    STAFF_LOCATIONS     |\n",
      "|        db_meta         |\n",
      "|      lucky_Shrub       |\n",
      "|      db_Exercise       |\n",
      "|         sakila         |\n",
      "|     db_mysqladmin      |\n",
      "|    db_little_lemon     |\n",
      "|      little_lemon      |\n",
      "|    little_lemon_db     |\n",
      "|        meta_db         |\n",
      "|       mg_schema        |\n",
      "|     mangata_gallo      |\n",
      "|     mangata_jw_db      |\n",
      "|     LittleLemonDB      |\n",
      "|   global_super_store   |\n",
      "|     classicmodels      |\n",
      "|   db_meta_dsm_mysql    |\n",
      "| db_meta_advanced_mysql |\n",
      "|     db_subqueries      |\n",
      "|        db_views        |\n",
      "|        db_music        |\n",
      "|       employees        |\n",
      "|         world          |\n",
      "|        billing         |\n",
      "|     db_window_fxn      |\n",
      "+------------------------+\n",
      "32 rows returned in set: (0.0012 sec)\n"
     ]
    }
   ],
   "source": [
    "show_query = \"\"\"SELECT schema_name\n",
    "FROM information_schema.schemata;\"\"\"\n",
    "execute_display_query_results(query=show_query)"
   ]
  },
  {
   "cell_type": "markdown",
   "id": "add8d65b-88c9-4b38-8059-7504b788466d",
   "metadata": {},
   "source": [
    "## Task 2.2.1: Restore MySQL server using a previous backup. "
   ]
  },
  {
   "cell_type": "code",
   "execution_count": 8,
   "id": "54679bcb-e04f-4bd2-a253-1f4e0f146666",
   "metadata": {},
   "outputs": [],
   "source": [
    "use_database_query = \"USE billing;\"\n",
    "cursor.execute(use_database_query)"
   ]
  },
  {
   "cell_type": "code",
   "execution_count": 9,
   "id": "63aeca67-a8fb-428c-a571-b858bda666d8",
   "metadata": {},
   "outputs": [
    {
     "name": "stdout",
     "output_type": "stream",
     "text": [
      "+-------------------+\n",
      "| Tables_in_billing |\n",
      "+-------------------+\n",
      "|     billdata      |\n",
      "+-------------------+\n",
      "1 row returned in set: (0.0117 sec)\n"
     ]
    }
   ],
   "source": [
    "show_tables_query = \"\"\"SHOW TABLES;\"\"\"\n",
    "execute_display_query_results(query=show_tables_query)"
   ]
  },
  {
   "cell_type": "markdown",
   "id": "f617c3d9-3c58-4800-be54-f39e8170e654",
   "metadata": {},
   "source": [
    "## Task 2.2.2 - Find the table data size"
   ]
  },
  {
   "cell_type": "code",
   "execution_count": 10,
   "id": "fa8a8035-8ed1-431f-8625-f963130cb8b6",
   "metadata": {},
   "outputs": [
    {
     "name": "stdout",
     "output_type": "stream",
     "text": [
      "+------------+----------------------------+\n",
      "| TABLE_NAME | data_length + index_length |\n",
      "+------------+----------------------------+\n",
      "|  billdata  |          6832128           |\n",
      "+------------+----------------------------+\n",
      "1 row returned in set: (0.0011 sec)\n"
     ]
    }
   ],
   "source": [
    "select_query = \"\"\"select table_name, data_length + index_length from information_schema.tables where table_name = 'billdata';\"\"\"\n",
    "execute_display_query_results(select_query)"
   ]
  },
  {
   "cell_type": "code",
   "execution_count": 11,
   "id": "df6ed30f-fa94-453b-98e1-46501c8fa814",
   "metadata": {},
   "outputs": [
    {
     "name": "stdout",
     "output_type": "stream",
     "text": [
      "+------------+-----------------------------------+\n",
      "| TABLE_NAME | (data_length + index_length)/1024 |\n",
      "+------------+-----------------------------------+\n",
      "|  billdata  |             6672.0000             |\n",
      "+------------+-----------------------------------+\n",
      "1 row returned in set: (0.0014 sec)\n"
     ]
    }
   ],
   "source": [
    "select_query = \"\"\"select table_name, (data_length + index_length)/1024 from information_schema.tables where table_name = 'billdata';\"\"\"\n",
    "execute_display_query_results(select_query)"
   ]
  },
  {
   "cell_type": "markdown",
   "id": "97efa436-4509-441f-b176-74a492aebeab",
   "metadata": {},
   "source": [
    "## Task 2.3.1 - Baseline query performance\n",
    "Write a query to select all rows with a billedamount > 19999 in table billdata."
   ]
  },
  {
   "cell_type": "code",
   "execution_count": 12,
   "id": "b1052542-8473-42f5-a8b0-1c29b5849694",
   "metadata": {},
   "outputs": [
    {
     "name": "stdout",
     "output_type": "stream",
     "text": [
      "+--------+------------+--------------+---------+\n",
      "| billid | customerid | billedamount | monthid |\n",
      "+--------+------------+--------------+---------+\n",
      "|  8509  |    285     |    20000     |  20096  |\n",
      "| 68268  |    559     |    20000     |  20146  |\n",
      "| 81622  |    643     |    20000     |  20157  |\n",
      "| 84858  |    317     |    20000     |  20161  |\n",
      "| 89353  |    871     |    20000     |  20163  |\n",
      "| 102682 |    937     |    20000     |  20174  |\n",
      "| 109574 |    386     |    20000     | 201810  |\n",
      "| 121844 |    777     |    20000     | 201910  |\n",
      "+--------+------------+--------------+---------+\n",
      "8 rows returned in set: (0.0011 sec)\n"
     ]
    }
   ],
   "source": [
    "select_query = \"\"\"select * from billdata where billedamount > 19999;\"\"\"\n",
    "execute_display_query_results(select_query)"
   ]
  },
  {
   "cell_type": "markdown",
   "id": "dee7567a-9fc6-4e73-ace4-a7b0149d91c9",
   "metadata": {},
   "source": [
    "## Task 2.3.2: Create an index. "
   ]
  },
  {
   "cell_type": "code",
   "execution_count": 13,
   "id": "fcd6a93f-356c-4928-8c8f-87e235b67569",
   "metadata": {
    "scrolled": true
   },
   "outputs": [],
   "source": [
    "drop_index_query = \"\"\"ALTER TABLE billdata DROP INDEX idx_billedamount;\"\"\"\n",
    "cursor.execute(drop_index_query)\n",
    "create_index_query = \"\"\"CREATE INDEX idx_billedamount on billdata(billedamount);\"\"\"\n",
    "cursor.execute(create_index_query)"
   ]
  },
  {
   "cell_type": "markdown",
   "id": "4082b7aa-7a1c-4794-934a-2d33a62ea10a",
   "metadata": {},
   "source": [
    "## Task 2.3.3: Document the improvement in query performance"
   ]
  },
  {
   "cell_type": "code",
   "execution_count": 14,
   "id": "3cea033b-6f28-4e18-a529-16c56b18fc81",
   "metadata": {},
   "outputs": [
    {
     "name": "stdout",
     "output_type": "stream",
     "text": [
      "+--------+------------+--------------+---------+\n",
      "| billid | customerid | billedamount | monthid |\n",
      "+--------+------------+--------------+---------+\n",
      "|  8509  |    285     |    20000     |  20096  |\n",
      "| 68268  |    559     |    20000     |  20146  |\n",
      "| 81622  |    643     |    20000     |  20157  |\n",
      "| 84858  |    317     |    20000     |  20161  |\n",
      "| 89353  |    871     |    20000     |  20163  |\n",
      "| 102682 |    937     |    20000     |  20174  |\n",
      "| 109574 |    386     |    20000     | 201810  |\n",
      "| 121844 |    777     |    20000     | 201910  |\n",
      "+--------+------------+--------------+---------+\n",
      "8 rows returned in set: (0.001 sec)\n"
     ]
    }
   ],
   "source": [
    "select_query = \"\"\"select * from billdata where billedamount > 19999;\"\"\"\n",
    "execute_display_query_results(select_query)"
   ]
  },
  {
   "cell_type": "markdown",
   "id": "8ada558b-4d89-41dc-b22f-a86e0094bd3e",
   "metadata": {},
   "source": [
    "## Task 2.4.1: Find Supported Storage Engines"
   ]
  },
  {
   "cell_type": "code",
   "execution_count": 15,
   "id": "87318a08-9688-4842-9c25-78df04206ea3",
   "metadata": {},
   "outputs": [
    {
     "name": "stdout",
     "output_type": "stream",
     "text": [
      "+--------------------+---------+--------------------------------------------------------------------------+--------------+-----+------------+\n",
      "|       Engine       | Support |                                 Comment                                  | Transactions | XA  | Savepoints |\n",
      "+--------------------+---------+--------------------------------------------------------------------------+--------------+-----+------------+\n",
      "|      ARCHIVE       |   YES   |                          Archive storage engine                          |      NO      | NO  |     NO     |\n",
      "|     BLACKHOLE      |   YES   |      /dev/null storage engine (anything you write to it disappears)      |      NO      | NO  |     NO     |\n",
      "|     MRG_MYISAM     |   YES   |                  Collection of identical MyISAM tables                   |      NO      | NO  |     NO     |\n",
      "|     FEDERATED      |   NO    |                      Federated MySQL storage engine                      |     NULL     |NULL |    NULL    |\n",
      "|       MyISAM       |   YES   |                          MyISAM storage engine                           |      NO      | NO  |     NO     |\n",
      "| PERFORMANCE_SCHEMA |   YES   |                            Performance Schema                            |      NO      | NO  |     NO     |\n",
      "|       InnoDB       | DEFAULT |        Supports transactions, row-level locking, and foreign keys        |     YES      | YES |    YES     |\n",
      "|       MEMORY       |   YES   |        Hash based, stored in memory, useful for temporary tables         |      NO      | NO  |     NO     |\n",
      "|        CSV         |   YES   |                            CSV storage engine                            |      NO      | NO  |     NO     |\n",
      "+--------------------+---------+--------------------------------------------------------------------------+--------------+-----+------------+\n",
      "9 rows returned in set: (0.0005 sec)\n"
     ]
    }
   ],
   "source": [
    "show_engines_query = \"\"\"SHOW ENGINES;\"\"\"\n",
    "execute_display_query_results(query=show_engines_query)"
   ]
  },
  {
   "cell_type": "markdown",
   "id": "16ac08b1-19ed-4467-a17d-ca41c5bef4d8",
   "metadata": {},
   "source": [
    "## Task 2.4.2: Find Supported Storage Engine of a table"
   ]
  },
  {
   "cell_type": "code",
   "execution_count": 16,
   "id": "9c2e523d-5bf1-4cb8-a726-8c17c6878701",
   "metadata": {},
   "outputs": [
    {
     "name": "stdout",
     "output_type": "stream",
     "text": [
      "+------------+--------+\n",
      "| TABLE_NAME | ENGINE |\n",
      "+------------+--------+\n",
      "|  billdata  | InnoDB |\n",
      "+------------+--------+\n",
      "1 row returned in set: (0.001 sec)\n"
     ]
    }
   ],
   "source": [
    "show_table_engine_query = \"\"\"SELECT TABLE_NAME, ENGINE FROM INFORMATION_SCHEMA.TABLES WHERE TABLE_NAME = 'billdata';\"\"\"\n",
    "execute_display_query_results(query=show_table_engine_query)"
   ]
  },
  {
   "cell_type": "code",
   "execution_count": 17,
   "id": "02923f2d-1943-4212-ae3d-71f760b5fbe5",
   "metadata": {},
   "outputs": [
    {
     "name": "stdout",
     "output_type": "stream",
     "text": [
      "+---------------------------------------+\n",
      "|     Tables_in_information_schema      |\n",
      "+---------------------------------------+\n",
      "|   ADMINISTRABLE_ROLE_AUTHORIZATIONS   |\n",
      "|           APPLICABLE_ROLES            |\n",
      "|            CHARACTER_SETS             |\n",
      "|           CHECK_CONSTRAINTS           |\n",
      "|              COLLATIONS               |\n",
      "| COLLATION_CHARACTER_SET_APPLICABILITY |\n",
      "|                COLUMNS                |\n",
      "|          COLUMNS_EXTENSIONS           |\n",
      "|           COLUMN_PRIVILEGES           |\n",
      "|           COLUMN_STATISTICS           |\n",
      "|             ENABLED_ROLES             |\n",
      "|                ENGINES                |\n",
      "|                EVENTS                 |\n",
      "|                 FILES                 |\n",
      "|          INNODB_BUFFER_PAGE           |\n",
      "|        INNODB_BUFFER_PAGE_LRU         |\n",
      "|       INNODB_BUFFER_POOL_STATS        |\n",
      "|         INNODB_CACHED_INDEXES         |\n",
      "|              INNODB_CMP               |\n",
      "|             INNODB_CMPMEM             |\n",
      "|          INNODB_CMPMEM_RESET          |\n",
      "|         INNODB_CMP_PER_INDEX          |\n",
      "|      INNODB_CMP_PER_INDEX_RESET       |\n",
      "|           INNODB_CMP_RESET            |\n",
      "|            INNODB_COLUMNS             |\n",
      "|           INNODB_DATAFILES            |\n",
      "|             INNODB_FIELDS             |\n",
      "|            INNODB_FOREIGN             |\n",
      "|          INNODB_FOREIGN_COLS          |\n",
      "|        INNODB_FT_BEING_DELETED        |\n",
      "|           INNODB_FT_CONFIG            |\n",
      "|      INNODB_FT_DEFAULT_STOPWORD       |\n",
      "|           INNODB_FT_DELETED           |\n",
      "|         INNODB_FT_INDEX_CACHE         |\n",
      "|         INNODB_FT_INDEX_TABLE         |\n",
      "|            INNODB_INDEXES             |\n",
      "|            INNODB_METRICS             |\n",
      "|    INNODB_SESSION_TEMP_TABLESPACES    |\n",
      "|             INNODB_TABLES             |\n",
      "|          INNODB_TABLESPACES           |\n",
      "|       INNODB_TABLESPACES_BRIEF        |\n",
      "|           INNODB_TABLESTATS           |\n",
      "|        INNODB_TEMP_TABLE_INFO         |\n",
      "|              INNODB_TRX               |\n",
      "|            INNODB_VIRTUAL             |\n",
      "|               KEYWORDS                |\n",
      "|           KEY_COLUMN_USAGE            |\n",
      "|            OPTIMIZER_TRACE            |\n",
      "|              PARAMETERS               |\n",
      "|              PARTITIONS               |\n",
      "|                PLUGINS                |\n",
      "|              PROCESSLIST              |\n",
      "|               PROFILING               |\n",
      "|        REFERENTIAL_CONSTRAINTS        |\n",
      "|            RESOURCE_GROUPS            |\n",
      "|          ROLE_COLUMN_GRANTS           |\n",
      "|          ROLE_ROUTINE_GRANTS          |\n",
      "|           ROLE_TABLE_GRANTS           |\n",
      "|               ROUTINES                |\n",
      "|               SCHEMATA                |\n",
      "|          SCHEMATA_EXTENSIONS          |\n",
      "|           SCHEMA_PRIVILEGES           |\n",
      "|              STATISTICS               |\n",
      "|          ST_GEOMETRY_COLUMNS          |\n",
      "|     ST_SPATIAL_REFERENCE_SYSTEMS      |\n",
      "|          ST_UNITS_OF_MEASURE          |\n",
      "|                TABLES                 |\n",
      "|              TABLESPACES              |\n",
      "|        TABLESPACES_EXTENSIONS         |\n",
      "|           TABLES_EXTENSIONS           |\n",
      "|           TABLE_CONSTRAINTS           |\n",
      "|     TABLE_CONSTRAINTS_EXTENSIONS      |\n",
      "|           TABLE_PRIVILEGES            |\n",
      "|               TRIGGERS                |\n",
      "|            USER_ATTRIBUTES            |\n",
      "|            USER_PRIVILEGES            |\n",
      "|                 VIEWS                 |\n",
      "|          VIEW_ROUTINE_USAGE           |\n",
      "|           VIEW_TABLE_USAGE            |\n",
      "+---------------------------------------+\n",
      "79 rows returned in set: (0.0012 sec)\n"
     ]
    }
   ],
   "source": [
    "use_database_query = \"USE information_schema;\"\n",
    "cursor.execute(use_database_query)\n",
    "\n",
    "show_tables_query = \"\"\"SHOW TABLES;\"\"\"\n",
    "execute_display_query_results(query=show_tables_query)"
   ]
  },
  {
   "cell_type": "code",
   "execution_count": 20,
   "id": "208e088d-8d61-4eaa-8aa1-69357061adac",
   "metadata": {},
   "outputs": [
    {
     "name": "stdout",
     "output_type": "stream",
     "text": [
      "+--------------------------+----------------------------+------+-----+---------+-------+\n",
      "|          Field           |            Type            | Null | Key | Default | Extra |\n",
      "+--------------------------+----------------------------+------+-----+---------+-------+\n",
      "|      TABLE_CATALOG       |        varchar(64)         |  NO  |     |  NULL   |       |\n",
      "|       TABLE_SCHEMA       |        varchar(64)         |  NO  |     |  NULL   |       |\n",
      "|        TABLE_NAME        |        varchar(64)         |  NO  |     |  NULL   |       |\n",
      "|       COLUMN_NAME        |        varchar(64)         | YES  |     |  NULL   |       |\n",
      "|     ORDINAL_POSITION     |        int unsigned        |  NO  |     |  NULL   |       |\n",
      "|      COLUMN_DEFAULT      |            text            | YES  |     |  NULL   |       |\n",
      "|       IS_NULLABLE        |         varchar(3)         |  NO  |     |         |       |\n",
      "|        DATA_TYPE         |          longtext          | YES  |     |  NULL   |       |\n",
      "| CHARACTER_MAXIMUM_LENGTH |           bigint           | YES  |     |  NULL   |       |\n",
      "|  CHARACTER_OCTET_LENGTH  |           bigint           | YES  |     |  NULL   |       |\n",
      "|    NUMERIC_PRECISION     |      bigint unsigned       | YES  |     |  NULL   |       |\n",
      "|      NUMERIC_SCALE       |      bigint unsigned       | YES  |     |  NULL   |       |\n",
      "|    DATETIME_PRECISION    |        int unsigned        | YES  |     |  NULL   |       |\n",
      "|    CHARACTER_SET_NAME    |        varchar(64)         | YES  |     |  NULL   |       |\n",
      "|      COLLATION_NAME      |        varchar(64)         | YES  |     |  NULL   |       |\n",
      "|       COLUMN_TYPE        |         mediumtext         |  NO  |     |  NULL   |       |\n",
      "|        COLUMN_KEY        | enum('','PRI','UNI','MUL') |  NO  |     |  NULL   |       |\n",
      "|          EXTRA           |        varchar(256)        | YES  |     |  NULL   |       |\n",
      "|        PRIVILEGES        |        varchar(154)        | YES  |     |  NULL   |       |\n",
      "|      COLUMN_COMMENT      |            text            |  NO  |     |  NULL   |       |\n",
      "|  GENERATION_EXPRESSION   |          longtext          |  NO  |     |  NULL   |       |\n",
      "|          SRS_ID          |        int unsigned        | YES  |     |  NULL   |       |\n",
      "+--------------------------+----------------------------+------+-----+---------+-------+\n",
      "22 rows returned in set: (0.0014 sec)\n"
     ]
    }
   ],
   "source": [
    "show_tables_query = \"\"\"SHOW COLUMNS from columns;\"\"\"\n",
    "execute_display_query_results(query=show_tables_query)"
   ]
  },
  {
   "cell_type": "code",
   "execution_count": 21,
   "id": "94ad9d2c-e4de-4450-9ede-a776bfc2e82a",
   "metadata": {},
   "outputs": [
    {
     "name": "stdout",
     "output_type": "stream",
     "text": [
      "+----------------+\n",
      "|  COLUMN_NAME   |\n",
      "+----------------+\n",
      "|   country_id   |\n",
      "|    country     |\n",
      "|  last_update   |\n",
      "|      Code      |\n",
      "|      Name      |\n",
      "|   Continent    |\n",
      "|     Region     |\n",
      "|  SurfaceArea   |\n",
      "|   IndepYear    |\n",
      "|   Population   |\n",
      "| LifeExpectancy |\n",
      "|      GNP       |\n",
      "|     GNPOld     |\n",
      "|   LocalName    |\n",
      "| GovernmentForm |\n",
      "|  HeadOfState   |\n",
      "|    Capital     |\n",
      "|     Code2      |\n",
      "+----------------+\n",
      "18 rows returned in set: (0.0017 sec)\n"
     ]
    }
   ],
   "source": [
    "select_query = \"\"\"SELECT COLUMN_NAME FROM COLUMNS WHERE TABLE_NAME = 'country';\"\"\"\n",
    "execute_display_query_results(query=select_query)"
   ]
  },
  {
   "cell_type": "code",
   "execution_count": 22,
   "id": "85629ca9-4f78-43f4-a1e0-3cc027069360",
   "metadata": {},
   "outputs": [
    {
     "name": "stdout",
     "output_type": "stream",
     "text": [
      "+--------------+\n",
      "|  TABLE_NAME  |\n",
      "+--------------+\n",
      "| BankAccounts |\n",
      "|  PETRESCUE   |\n",
      "|   PETSALE    |\n",
      "|   ShoeShop   |\n",
      "+--------------+\n",
      "4 rows returned in set: (0.0016 sec)\n"
     ]
    }
   ],
   "source": [
    "select_query = \"\"\"SELECT DISTINCT TABLE_NAME FROM COLUMNS WHERE TABLE_SCHEMA = 'db_learner';\"\"\"\n",
    "execute_display_query_results(query=select_query)"
   ]
  },
  {
   "cell_type": "code",
   "execution_count": 23,
   "id": "26349eee-5d3d-4da4-8202-e99d7c537674",
   "metadata": {},
   "outputs": [
    {
     "name": "stdout",
     "output_type": "stream",
     "text": [
      "+-------------------+\n",
      "|    TABLE_NAME     |\n",
      "+-------------------+\n",
      "|     customers     |\n",
      "|   tbl_customers   |\n",
      "| tbl_notifications |\n",
      "|    tbl_orders     |\n",
      "|   tbl_products    |\n",
      "+-------------------+\n",
      "5 rows returned in set: (0.0014 sec)\n"
     ]
    }
   ],
   "source": [
    "select_query = \"\"\"SELECT DISTINCT TABLE_NAME FROM COLUMNS WHERE TABLE_SCHEMA = 'db_meta_advanced_mysql';\"\"\"\n",
    "execute_display_query_results(query=select_query)"
   ]
  },
  {
   "cell_type": "code",
   "execution_count": 24,
   "id": "482c19c9-1f5d-494e-a1d6-5001feebcf29",
   "metadata": {},
   "outputs": [
    {
     "name": "stdout",
     "output_type": "stream",
     "text": [
      "+-----------------+-----------------------------------+\n",
      "|   TABLE_NAME    | (data_length + index_length)/1024 |\n",
      "+-----------------+-----------------------------------+\n",
      "|      city       |              64.0000              |\n",
      "|     country     |              16.0000              |\n",
      "|      city       |             496.0000              |\n",
      "|     country     |              96.0000              |\n",
      "| countrylanguage |             160.0000              |\n",
      "+-----------------+-----------------------------------+\n",
      "5 rows returned in set: (0.0025 sec)\n"
     ]
    }
   ],
   "source": [
    "select_query = \"\"\"SELECT table_name, (data_length + index_length)/1024 FROM INFORMATION_SCHEMA.TABLES \n",
    "WHERE table_name = 'country' OR table_name = 'city' \n",
    "OR table_name = 'countrylanguage' OR table_name = 'csv_test';\"\"\"\n",
    "\n",
    "execute_display_query_results(query=select_query)"
   ]
  },
  {
   "cell_type": "code",
   "execution_count": 25,
   "id": "97300cca-2d6a-4f7e-a740-b7458b608f80",
   "metadata": {},
   "outputs": [
    {
     "name": "stdout",
     "output_type": "stream",
     "text": [
      "CVD:\n",
      "MEDICAL_DEPARTMENTS,MEDICAL_HISTORY,MEDICAL_LOCATIONS,MEDICAL_PROCEDURES,PATIENTS,\n",
      "\n",
      "LittleLemonDB:\n",
      "Bookings,Customers,Menu,MenuItems,OrderDelivery,Orders,OrdersView,Staff,\n",
      "\n",
      "STAFF_LOCATIONS:\n",
      "staff_locations_view,\n",
      "\n",
      "billing:\n",
      "billdata,\n",
      "\n",
      "classicmodels:\n",
      "customers,employees,offices,orderdetails,orders,payments,productlines,products,\n",
      "\n",
      "db_Exercise:\n",
      "Bookings,Customers,FoodOrders,LowCostMenuItems,MenuItems,Menus,Staff,TableOrders,\n",
      "\n",
      "db_hr:\n",
      "DEPARTMENTS,EMPLOYEES,EMPSALARY,EMP_DEPT,JOBS,JOB_HISTORY,LOCATIONS,\n",
      "\n",
      "db_learner:\n",
      "BankAccounts,PETRESCUE,PETSALE,ShoeShop,\n",
      "\n",
      "db_little_lemon:\n",
      "Bookings,MenuItems,Menus,Orders,\n",
      "\n",
      "db_meta:\n",
      "Clients,ClientsCopy,ClientsCopyTwo,ClientsTest3,Orders,customers,devices,employee_orders,employees_tbl,feedback,orders_tbl,tbl_Orders,tbl_address,tbl_bookings,tbl_contact,tbl_customers,tbl_employees,tbl_invoice,tbl_stock,tbl_students,\n",
      "\n",
      "db_meta_advanced_mysql:\n",
      "customers,tbl_customers,tbl_notifications,tbl_orders,tbl_products,\n",
      "\n",
      "db_meta_dsm_mysql:\n",
      "BookingsView,bookings_tbl,orders_tbl,tbl_bookings,tbl_courses,tbl_customers,tbl_delivery_address,tbl_menu,tbl_menuitems,tbl_orders,tbl_tableorders,\n",
      "\n",
      "db_music:\n",
      "tbl_album,tbl_artist,tbl_played,tbl_track,\n",
      "\n",
      "db_mysqladmin:\n",
      "checklists,tasks,tbl_employee,tbl_tutorials,tbl_tutorials_autoID,\n",
      "\n",
      "db_subqueries:\n",
      "tbl_customers,tbl_employees,tbl_orders,tbl_products,\n",
      "\n",
      "db_views:\n",
      "Monthly_Summary,View_EU_OrderDetails,View_Germany_OrderDetails,View_OrderDetails,tbl_customers,tbl_employees,tbl_orders,tbl_products,\n",
      "\n",
      "db_window_fxn:\n",
      "tbl_customers,tbl_employees,tbl_orders,tbl_orders_archive,tbl_products,\n",
      "\n",
      "employees:\n",
      "current_dept_emp,departments,dept_emp,dept_emp_latest_date,dept_manager,employees,salaries,titles,\n",
      "\n",
      "global_super_store:\n",
      "Customers,DeliveryAddress,Orders,Products,Shipping,\n",
      "\n",
      "information_schema:\n",
      "ADMINISTRABLE_ROLE_AUTHORIZATIONS,APPLICABLE_ROLES,CHARACTER_SETS,CHECK_CONSTRAINTS,COLLATIONS,COLLATION_CHARACTER_SET_APPLICABILITY,COLUMNS,COLUMNS_EXTENSIONS,COLUMN_PRIVILEGES,COLUMN_STATISTICS,ENABLED_ROLES,ENGINES,EVENTS,FILES,INNODB_BUFFER_PAGE,INNODB_BUFFER_PAGE_LRU,INNODB_BUFFER_POOL_STATS,INNODB_CACHED_INDEXES,INNODB_CMP,INNODB_CMPMEM,INNODB_CMPMEM_RESET,INNODB_CMP_PER_INDEX,INNODB_CMP_PER_INDEX_RESET,INNODB_CMP_RESET,INNODB_COLUMNS,INNODB_DATAFILES,INNODB_FIELDS,INNODB_FOREIGN,INNODB_FOREIGN_COLS,INNODB_FT_BEING_DELETED,INNODB_FT_CONFIG,INNODB_FT_DEFAULT_STOPWORD,INNODB_FT_DELETED,INNODB_FT_INDEX_CACHE,INNODB_FT_INDEX_TABLE,INNODB_INDEXES,INNODB_METRICS,INNODB_SESSION_TEMP_TABLESPACES,INNODB_TABLES,INNODB_TABLESPACES,INNODB_TABLESPACES_BRIEF,INNODB_TABLESTATS,INNODB_TEMP_TABLE_INFO,INNODB_TRX,INNODB_VIRTUAL,KEYWORDS,KEY_COLUMN_USAGE,OPTIMIZER_TRACE,PARAMETERS,PARTITIONS,PLUGINS,PROCESSLIST,PROFILING,REFERENTIAL_CONSTRAINTS,RESOURCE_GROUPS,ROLE_COLUMN_GRANTS,ROLE_ROUTINE_GRANTS,ROLE_TABLE_GRANTS,ROUTINES,SCHEMATA,SCHEMATA_EXTENSIONS,SCHEMA_PRIVILEGES,STATISTICS,ST_GEOMETRY_COLUMNS,ST_SPATIAL_REFERENCE_SYSTEMS,ST_UNITS_OF_MEASURE,TABLES,TABLESPACES,TABLESPACES_EXTENSIONS,TABLES_EXTENSIONS,TABLE_CONSTRAINTS,TABLE_CONSTRAINTS_EXTENSIONS,TABLE_PRIVILEGES,TRIGGERS,USER_ATTRIBUTES,USER_PRIVILEGES,VIEWS,VIEW_ROUTINE_USAGE,VIEW_TABLE_USAGE,\n",
      "\n",
      "little_lemon:\n",
      "Bookings,MenuItems,Menus,Orders,\n",
      "\n",
      "little_lemon_db:\n",
      "Bookings,Employees,MenuItems,Menus,Orders,\n",
      "\n",
      "lucky_Shrub:\n",
      "Bookings,Customers,Starters,orders,\n",
      "\n",
      "mangata_gallo:\n",
      "Customer,Orders,\n",
      "\n",
      "mangata_jw_db:\n",
      "Address,Clients,Delivery,Orders,Products,orders_second_view,orders_view,\n",
      "\n",
      "meta_db:\n",
      "Notifications,Products,\n",
      "\n",
      "mg_schema:\n",
      "staff,staff_view,\n",
      "\n",
      "mysql:\n",
      "columns_priv,component,db,default_roles,engine_cost,func,general_log,global_grants,gtid_executed,help_category,help_keyword,help_relation,help_topic,innodb_index_stats,innodb_table_stats,password_history,plugin,procs_priv,proxies_priv,replication_asynchronous_connection_failover,replication_asynchronous_connection_failover_managed,replication_group_configuration_version,replication_group_member_actions,role_edges,server_cost,servers,slave_master_info,slave_relay_log_info,slave_worker_info,slow_log,tables_priv,time_zone,time_zone_leap_second,time_zone_name,time_zone_transition,time_zone_transition_type,user,\n",
      "\n",
      "performance_schema:\n",
      "accounts,binary_log_transaction_compression_stats,cond_instances,data_lock_waits,data_locks,error_log,events_errors_summary_by_account_by_error,events_errors_summary_by_host_by_error,events_errors_summary_by_thread_by_error,events_errors_summary_by_user_by_error,events_errors_summary_global_by_error,events_stages_current,events_stages_history,events_stages_history_long,events_stages_summary_by_account_by_event_name,events_stages_summary_by_host_by_event_name,events_stages_summary_by_thread_by_event_name,events_stages_summary_by_user_by_event_name,events_stages_summary_global_by_event_name,events_statements_current,events_statements_histogram_by_digest,events_statements_histogram_global,events_statements_history,events_statements_history_long,events_statements_summary_by_account_by_event_name,events_statements_summary_by_digest,events_statements_summary_by_host_by_event_name,events_statements_summary_by_program,events_statements_summary_by_thread_by_event_name,events_statements_summary_by_user_by_event_name,events_statements_summary_global_by_event_name,events_transactions_current,events_transactions_history,events_transactions_history_long,events_transactions_summary_by_account_by_event_name,events_transactions_summary_by_host_by_event_name,events_transactions_summary_by_thread_by_event_name,events_transactions_summary_by_user_by_event_name,events_transactions_summary_global_by_event_name,events_waits_current,events_waits_history,events_waits_history_long,events_waits_summary_by_account_by_event_name,events_waits_summary_by_host_by_event_name,events_waits_summary_by_instance,events_waits_summary_by_thread_by_event_name,events_waits_summary_by_user_by_event_name,events_waits_summary_global_by_event_name,file_instances,file_summary_by_event_name,file_summary_by_instance,global_status,global_variables,host_cache,hosts,innodb_redo_log_files,keyring_component_status,keyring_keys,log_status,memory_summary_by_account_by_event_name,memory_summary_by_host_by_event_name,memory_summary_by_thread_by_event_name,memory_summary_by_user_by_event_name,memory_summary_global_by_event_name,metadata_locks,mutex_instances,objects_summary_global_by_type,performance_timers,persisted_variables,prepared_statements_instances,processlist,replication_applier_configuration,replication_applier_filters,replication_applier_global_filters,replication_applier_status,replication_applier_status_by_coordinator,replication_applier_status_by_worker,replication_asynchronous_connection_failover,replication_asynchronous_connection_failover_managed,replication_connection_configuration,replication_connection_status,replication_group_member_stats,replication_group_members,rwlock_instances,session_account_connect_attrs,session_connect_attrs,session_status,session_variables,setup_actors,setup_consumers,setup_instruments,setup_objects,setup_threads,socket_instances,socket_summary_by_event_name,socket_summary_by_instance,status_by_account,status_by_host,status_by_thread,status_by_user,table_handles,table_io_waits_summary_by_index_usage,table_io_waits_summary_by_table,table_lock_waits_summary_by_table,threads,tls_channel_status,user_defined_functions,user_variables_by_thread,users,variables_by_thread,variables_info,\n",
      "\n",
      "sakila:\n",
      "actor,actor_info,address,category,city,country,customer,customer_list,film,film_actor,film_category,film_list,film_text,inventory,language,nicer_but_slower_film_list,payment,rental,sales_by_film_category,sales_by_store,staff,staff_list,store,\n",
      "\n",
      "sys:\n",
      "host_summary,host_summary_by_file_io,host_summary_by_file_io_type,host_summary_by_stages,host_summary_by_statement_latency,host_summary_by_statement_type,innodb_buffer_stats_by_schema,innodb_buffer_stats_by_table,innodb_lock_waits,io_by_thread_by_latency,io_global_by_file_by_bytes,io_global_by_file_by_latency,io_global_by_wait_by_bytes,io_global_by_wait_by_latency,latest_file_io,memory_by_host_by_current_bytes,memory_by_thread_by_current_bytes,memory_by_user_by_current_bytes,memory_global_by_current_bytes,memory_global_total,metrics,processlist,ps_check_lost_instrumentation,schema_auto_increment_columns,schema_index_statistics,schema_object_overview,schema_redundant_indexes,schema_table_lock_waits,schema_table_statistics,schema_table_statistics_with_buffer,schema_tables_with_full_table_scans,schema_unused_indexes,session,session_ssl_status,statement_analysis,statements_with_errors_or_warnings,statements_with_full_table_scans,statements_with_runtimes_in_95th_percentile,statements_with_sorting,statements_with_temp_tables,sys_config,user_summary,user_summary_by_file_io,user_summary_by_file_io_type,user_summary_by_stages,user_summary_by_statement_latency,user_summary_by_statement_type,version,wait_classes_global_by_avg_latency,wait_classes_global_by_latency,waits_by_host_by_latency,waits_by_user_by_latency,waits_global_by_latency,x$host_summary,x$host_summary_by_file_io,x$host_summary_by_file_io_type,x$host_summary_by_stages,x$host_summary_by_statement_latency,x$host_summary_by_statement_type,x$innodb_buffer_stats_by_schema,x$innodb_buffer_stats_by_table,x$innodb_lock_waits,x$io_by_thread_by_latency,x$io_global_by_file_by_bytes,x$io_global_by_file_by_latency,x$io_global_by_wait_by_bytes,x$io_global_by_wait_by_latency,x$latest_file_io,x$memory_by_host_by_current_bytes,x$memory_by_thread_by_current_bytes,x$memory_by_user_by_current_bytes,x$memory_global_by_current_bytes,x$memory_global_total,x$processlist,x$ps_digest_95th_percentile_by_avg_us,x$ps_digest_avg_latency_distribution,x$ps_schema_table_statistics_io,x$schema_flattened_keys,x$schema_index_statistics,x$schema_table_lock_waits,x$schema_table_statistics,x$schema_table_statistics_with_buffer,x$schema_tables_with_full_table_scans,x$session,x$statement_analysis,x$statements_with_errors_or_warnings,x$statements_with_full_table_scans,x$statements_with_runtimes_in_95th_percentile,x$statements_with_sorting,x$statements_with_temp_tables,x$user_summary,x$user_summary_by_file_io,x$user_summary_by_file_io_type,x$user_summary_by_stages,x$user_summary_by_statement_latency,x$user_summary_by_statement_type,x$wait_classes_global_by_avg_latency,x$wait_classes_global_by_latency,x$waits_by_host_by_latency,x$waits_by_user_by_latency,x$waits_global_by_latency,\n",
      "\n",
      "world:\n",
      "city,country,countrylanguage,\n",
      "\n"
     ]
    }
   ],
   "source": [
    "show_databases_query = \"\"\"SHOW DATABASES;\"\"\"\n",
    "cursor.execute(show_databases_query)\n",
    "databases = cursor.fetchall()\n",
    "for database in databases:\n",
    "    show_tables_query = f\"\"\"SHOW TABLES FROM {database[0]}\"\"\"\n",
    "    cursor.execute(show_tables_query)\n",
    "    tables = cursor.fetchall()\n",
    "    print(f\"{database[0]}:\")\n",
    "    for table in tables:\n",
    "        print(table[0], end = \",\")\n",
    "    print(\"\\n\")"
   ]
  },
  {
   "cell_type": "code",
   "execution_count": 26,
   "id": "73afe73f-a4a7-4580-a1c3-ee20e34dca02",
   "metadata": {},
   "outputs": [],
   "source": [
    "create_user_query = \"\"\"CREATE USER 'amblessed'@'localhost' IDENTIFIED WITH caching_sha2_password BY 'WSLuser##++24';\"\"\"\n",
    "grant_user_query = \"\"\"GRANT ALL PRIVILEGES ON *.* TO 'amblessed'@'localhost' WITH GRANT OPTION;\"\"\"\n",
    "\n",
    "cursor.execute(create_user_query)\n",
    "cursor.execute(grant_user_query)"
   ]
  },
  {
   "cell_type": "code",
   "execution_count": 28,
   "id": "14926538-8790-44fa-86d4-d7159f27e9ec",
   "metadata": {},
   "outputs": [
    {
     "ename": "ProgrammingError",
     "evalue": "1064 (42000): You have an error in your SQL syntax; check the manual that corresponds to your MySQL server version for the right syntax to use near 'mysql --version' at line 1",
     "output_type": "error",
     "traceback": [
      "\u001b[0;31m---------------------------------------------------------------------------\u001b[0m",
      "\u001b[0;31mMySQLInterfaceError\u001b[0m                       Traceback (most recent call last)",
      "File \u001b[0;32m~/anaconda3/lib/python3.11/site-packages/mysql/connector/connection_cext.py:705\u001b[0m, in \u001b[0;36mCMySQLConnection.cmd_query\u001b[0;34m(self, query, raw, buffered, raw_as_string)\u001b[0m\n\u001b[1;32m    704\u001b[0m         query \u001b[38;5;241m=\u001b[39m query\u001b[38;5;241m.\u001b[39mencode(\u001b[38;5;124m\"\u001b[39m\u001b[38;5;124mutf-8\u001b[39m\u001b[38;5;124m\"\u001b[39m)\n\u001b[0;32m--> 705\u001b[0m     \u001b[38;5;28mself\u001b[39m\u001b[38;5;241m.\u001b[39m_cmysql\u001b[38;5;241m.\u001b[39mquery(\n\u001b[1;32m    706\u001b[0m         query,\n\u001b[1;32m    707\u001b[0m         raw\u001b[38;5;241m=\u001b[39mraw,\n\u001b[1;32m    708\u001b[0m         buffered\u001b[38;5;241m=\u001b[39mbuffered,\n\u001b[1;32m    709\u001b[0m         raw_as_string\u001b[38;5;241m=\u001b[39mraw_as_string,\n\u001b[1;32m    710\u001b[0m         query_attrs\u001b[38;5;241m=\u001b[39m\u001b[38;5;28mself\u001b[39m\u001b[38;5;241m.\u001b[39mquery_attrs,\n\u001b[1;32m    711\u001b[0m     )\n\u001b[1;32m    712\u001b[0m \u001b[38;5;28;01mexcept\u001b[39;00m MySQLInterfaceError \u001b[38;5;28;01mas\u001b[39;00m err:\n",
      "\u001b[0;31mMySQLInterfaceError\u001b[0m: You have an error in your SQL syntax; check the manual that corresponds to your MySQL server version for the right syntax to use near 'mysql --version' at line 1",
      "\nThe above exception was the direct cause of the following exception:\n",
      "\u001b[0;31mProgrammingError\u001b[0m                          Traceback (most recent call last)",
      "Cell \u001b[0;32mIn[28], line 1\u001b[0m\n\u001b[0;32m----> 1\u001b[0m cursor\u001b[38;5;241m.\u001b[39mexecute(\u001b[38;5;124m\"\u001b[39m\u001b[38;5;124mmysql --version\u001b[39m\u001b[38;5;124m\"\u001b[39m)\n",
      "File \u001b[0;32m~/anaconda3/lib/python3.11/site-packages/mysql/connector/cursor_cext.py:357\u001b[0m, in \u001b[0;36mCMySQLCursor.execute\u001b[0;34m(self, operation, params, multi)\u001b[0m\n\u001b[1;32m    352\u001b[0m             \u001b[38;5;28;01mraise\u001b[39;00m ProgrammingError(\n\u001b[1;32m    353\u001b[0m                 \u001b[38;5;124m\"\u001b[39m\u001b[38;5;124mNot all parameters were used in the SQL statement\u001b[39m\u001b[38;5;124m\"\u001b[39m\n\u001b[1;32m    354\u001b[0m             )\n\u001b[1;32m    356\u001b[0m \u001b[38;5;28;01mtry\u001b[39;00m:\n\u001b[0;32m--> 357\u001b[0m     result \u001b[38;5;241m=\u001b[39m \u001b[38;5;28mself\u001b[39m\u001b[38;5;241m.\u001b[39m_connection\u001b[38;5;241m.\u001b[39mcmd_query(\n\u001b[1;32m    358\u001b[0m         stmt,\n\u001b[1;32m    359\u001b[0m         raw\u001b[38;5;241m=\u001b[39m\u001b[38;5;28mself\u001b[39m\u001b[38;5;241m.\u001b[39m_raw,\n\u001b[1;32m    360\u001b[0m         buffered\u001b[38;5;241m=\u001b[39m\u001b[38;5;28mself\u001b[39m\u001b[38;5;241m.\u001b[39m_buffered,\n\u001b[1;32m    361\u001b[0m         raw_as_string\u001b[38;5;241m=\u001b[39m\u001b[38;5;28mself\u001b[39m\u001b[38;5;241m.\u001b[39m_raw_as_string,\n\u001b[1;32m    362\u001b[0m     )\n\u001b[1;32m    363\u001b[0m \u001b[38;5;28;01mexcept\u001b[39;00m MySQLInterfaceError \u001b[38;5;28;01mas\u001b[39;00m err:\n\u001b[1;32m    364\u001b[0m     \u001b[38;5;28;01mraise\u001b[39;00m get_mysql_exception(\n\u001b[1;32m    365\u001b[0m         msg\u001b[38;5;241m=\u001b[39merr\u001b[38;5;241m.\u001b[39mmsg, errno\u001b[38;5;241m=\u001b[39merr\u001b[38;5;241m.\u001b[39merrno, sqlstate\u001b[38;5;241m=\u001b[39merr\u001b[38;5;241m.\u001b[39msqlstate\n\u001b[1;32m    366\u001b[0m     ) \u001b[38;5;28;01mfrom\u001b[39;00m \u001b[38;5;21;01merr\u001b[39;00m\n",
      "File \u001b[0;32m~/anaconda3/lib/python3.11/site-packages/mysql/connector/opentelemetry/context_propagation.py:97\u001b[0m, in \u001b[0;36mwith_context_propagation.<locals>.wrapper\u001b[0;34m(cnx, *args, **kwargs)\u001b[0m\n\u001b[1;32m     95\u001b[0m \u001b[38;5;66;03m# pylint: disable=possibly-used-before-assignment\u001b[39;00m\n\u001b[1;32m     96\u001b[0m \u001b[38;5;28;01mif\u001b[39;00m \u001b[38;5;129;01mnot\u001b[39;00m OTEL_ENABLED \u001b[38;5;129;01mor\u001b[39;00m \u001b[38;5;129;01mnot\u001b[39;00m cnx\u001b[38;5;241m.\u001b[39motel_context_propagation:\n\u001b[0;32m---> 97\u001b[0m     \u001b[38;5;28;01mreturn\u001b[39;00m method(cnx, \u001b[38;5;241m*\u001b[39margs, \u001b[38;5;241m*\u001b[39m\u001b[38;5;241m*\u001b[39mkwargs)\n\u001b[1;32m     99\u001b[0m current_span \u001b[38;5;241m=\u001b[39m trace\u001b[38;5;241m.\u001b[39mget_current_span()\n\u001b[1;32m    100\u001b[0m tp_header \u001b[38;5;241m=\u001b[39m \u001b[38;5;28;01mNone\u001b[39;00m\n",
      "File \u001b[0;32m~/anaconda3/lib/python3.11/site-packages/mysql/connector/connection_cext.py:713\u001b[0m, in \u001b[0;36mCMySQLConnection.cmd_query\u001b[0;34m(self, query, raw, buffered, raw_as_string)\u001b[0m\n\u001b[1;32m    705\u001b[0m     \u001b[38;5;28mself\u001b[39m\u001b[38;5;241m.\u001b[39m_cmysql\u001b[38;5;241m.\u001b[39mquery(\n\u001b[1;32m    706\u001b[0m         query,\n\u001b[1;32m    707\u001b[0m         raw\u001b[38;5;241m=\u001b[39mraw,\n\u001b[0;32m   (...)\u001b[0m\n\u001b[1;32m    710\u001b[0m         query_attrs\u001b[38;5;241m=\u001b[39m\u001b[38;5;28mself\u001b[39m\u001b[38;5;241m.\u001b[39mquery_attrs,\n\u001b[1;32m    711\u001b[0m     )\n\u001b[1;32m    712\u001b[0m \u001b[38;5;28;01mexcept\u001b[39;00m MySQLInterfaceError \u001b[38;5;28;01mas\u001b[39;00m err:\n\u001b[0;32m--> 713\u001b[0m     \u001b[38;5;28;01mraise\u001b[39;00m get_mysql_exception(\n\u001b[1;32m    714\u001b[0m         err\u001b[38;5;241m.\u001b[39merrno, msg\u001b[38;5;241m=\u001b[39merr\u001b[38;5;241m.\u001b[39mmsg, sqlstate\u001b[38;5;241m=\u001b[39merr\u001b[38;5;241m.\u001b[39msqlstate\n\u001b[1;32m    715\u001b[0m     ) \u001b[38;5;28;01mfrom\u001b[39;00m \u001b[38;5;21;01merr\u001b[39;00m\n\u001b[1;32m    716\u001b[0m \u001b[38;5;28;01mexcept\u001b[39;00m \u001b[38;5;167;01mAttributeError\u001b[39;00m \u001b[38;5;28;01mas\u001b[39;00m err:\n\u001b[1;32m    717\u001b[0m     addr \u001b[38;5;241m=\u001b[39m (\n\u001b[1;32m    718\u001b[0m         \u001b[38;5;28mself\u001b[39m\u001b[38;5;241m.\u001b[39m_unix_socket \u001b[38;5;28;01mif\u001b[39;00m \u001b[38;5;28mself\u001b[39m\u001b[38;5;241m.\u001b[39m_unix_socket \u001b[38;5;28;01melse\u001b[39;00m \u001b[38;5;124mf\u001b[39m\u001b[38;5;124m\"\u001b[39m\u001b[38;5;132;01m{\u001b[39;00m\u001b[38;5;28mself\u001b[39m\u001b[38;5;241m.\u001b[39m_host\u001b[38;5;132;01m}\u001b[39;00m\u001b[38;5;124m:\u001b[39m\u001b[38;5;132;01m{\u001b[39;00m\u001b[38;5;28mself\u001b[39m\u001b[38;5;241m.\u001b[39m_port\u001b[38;5;132;01m}\u001b[39;00m\u001b[38;5;124m\"\u001b[39m\n\u001b[1;32m    719\u001b[0m     )\n",
      "\u001b[0;31mProgrammingError\u001b[0m: 1064 (42000): You have an error in your SQL syntax; check the manual that corresponds to your MySQL server version for the right syntax to use near 'mysql --version' at line 1"
     ]
    }
   ],
   "source": [
    "cursor.execute(\"mysql --version\")"
   ]
  },
  {
   "cell_type": "code",
   "execution_count": null,
   "id": "806088f9-6867-413c-9742-9cf0bef8a970",
   "metadata": {},
   "outputs": [],
   "source": [
    "# Execute the mysqldump command\n",
    "backup_file = \"backup.sql\"\n",
    "pswd = getpass.getpass('Password:')\n",
    "\n",
    "command = f\"echo {pswd} | sudo -S mysqldump -h{dbconfig['host']} -u{dbconfig['user']} -p{dbconfig['password']} -P{dbconfig['port']} {database_name} > {backup_file}\"\n",
    "process = subprocess.run(command, shell=True)\n",
    "\n",
    "# Print out status messages based on the return code\n",
    "if process.returncode == 0:\n",
    "    print(\"Database backup completed successfully.\")\n",
    "else:\n",
    "    print(f\"Database backup failed with return code {process.returncode}.\")"
   ]
  }
 ],
 "metadata": {
  "kernelspec": {
   "display_name": "Python 3 (ipykernel)",
   "language": "python",
   "name": "python3"
  },
  "language_info": {
   "codemirror_mode": {
    "name": "ipython",
    "version": 3
   },
   "file_extension": ".py",
   "mimetype": "text/x-python",
   "name": "python",
   "nbconvert_exporter": "python",
   "pygments_lexer": "ipython3",
   "version": "3.11.7"
  }
 },
 "nbformat": 4,
 "nbformat_minor": 5
}
