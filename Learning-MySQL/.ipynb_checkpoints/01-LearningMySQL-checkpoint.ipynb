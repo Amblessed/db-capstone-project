{
 "cells": [
  {
   "cell_type": "markdown",
   "id": "a650d078-6298-4b9b-b187-e56fe70752fc",
   "metadata": {},
   "source": [
    "## Import the necessary modules"
   ]
  },
  {
   "cell_type": "code",
   "execution_count": 1,
   "id": "8310d2c5-d0a7-44bd-ac1e-57be9f99402a",
   "metadata": {},
   "outputs": [],
   "source": [
    "import os\n",
    "import mysql.connector as connector\n",
    "import logging\n",
    "from timeit import default_timer as timer\n",
    "from datetime import timedelta"
   ]
  },
  {
   "cell_type": "markdown",
   "id": "b1761947-9191-4aaf-8262-e067852df0de",
   "metadata": {},
   "source": [
    "## Create a logger"
   ]
  },
  {
   "cell_type": "code",
   "execution_count": 2,
   "id": "0285f71f-f321-4f39-a276-26f90cb14fc5",
   "metadata": {},
   "outputs": [],
   "source": [
    "logger = logging.getLogger(\"[Database Structures and Management with MySQL]\")\n",
    "if os.path.exists(\"../log/learning-mysql.log\"):\n",
    "  os.remove(\"../log/learning-mysql.log\")\n",
    "logging.basicConfig(filename='../log/learning-mysql.log', encoding='utf-8', level=logging.DEBUG, format='%(asctime)s ==> %(message)s', datefmt='%m/%d/%Y %I:%M:%S')"
   ]
  },
  {
   "cell_type": "markdown",
   "id": "5ef611b0-b132-4ae6-9fa6-88800c9292b1",
   "metadata": {},
   "source": [
    "## Establish a connection using MySQlConnectionPool "
   ]
  },
  {
   "cell_type": "code",
   "execution_count": 3,
   "id": "0349d826-9ba7-403f-82bc-838f30549b95",
   "metadata": {},
   "outputs": [
    {
     "name": "stdout",
     "output_type": "stream",
     "text": [
      "Connection established between MySQL and Python\n"
     ]
    }
   ],
   "source": [
    "logger.info(\"Creating a connection between MySQL and Python\")\n",
    "dbconfig={\"user\":\"user_wsl\", \"password\":\"Bright##++29\", \"port\":33061, \"host\":\"localhost\"}\n",
    "connection=connector.connect(**dbconfig)\n",
    "print(\"Connection established between MySQL and Python\")\n",
    "logger.info(\"Connection established between MySQL and Python\")"
   ]
  },
  {
   "cell_type": "markdown",
   "id": "1d1321c1-9e25-4dd1-866e-9129ce847940",
   "metadata": {},
   "source": [
    "## Create a cursor objects"
   ]
  },
  {
   "cell_type": "code",
   "execution_count": 4,
   "id": "c822cb1f-1521-4809-9daa-9603c1aa4daf",
   "metadata": {},
   "outputs": [
    {
     "name": "stdout",
     "output_type": "stream",
     "text": [
      "Creating cursor object from the connection\n",
      "Cursor object created to communicate with MySQL using Python.\n"
     ]
    }
   ],
   "source": [
    "print(\"Creating cursor object from the connection\")\n",
    "logger.info(\"Creating cursor object from the connection\")\n",
    "cursor = connection.cursor(buffered=True)\n",
    "print(\"Cursor object created to communicate with MySQL using Python.\")\n",
    "logger.info(\"Cursor object created to communicate with MySQL using Python.\")"
   ]
  },
  {
   "cell_type": "markdown",
   "id": "b1d8382c-7fcc-4e33-96b3-3fe3eb402a18",
   "metadata": {},
   "source": [
    "## Create a function to display results"
   ]
  },
  {
   "cell_type": "code",
   "execution_count": 31,
   "id": "411c6d4c-fde2-4032-89ae-6a77bf656aef",
   "metadata": {},
   "outputs": [],
   "source": [
    "def select_all_query(table_name: str):\n",
    "    return f\"\"\"SELECT * FROM {table_name};\"\"\"\n",
    "\n",
    "\n",
    "def display_results(table_column_names: list, results: list):\n",
    "    #start = timer()\n",
    "    table_columns_length = [len(x) for x in table_column_names]\n",
    "    for result in results:\n",
    "        for value in range(len(result)):\n",
    "            row_data = result[value]\n",
    "            if row_data:\n",
    "                row_data = str(row_data)\n",
    "                length_row_data = len(row_data)\n",
    "                if length_row_data > table_columns_length[value]:\n",
    "                    if length_row_data > 60:\n",
    "                        print(f\"{row_data} has a length of {length_row_data}\")\n",
    "                        length_row_data = length_row_data + 10\n",
    "                    table_columns_length[value] = length_row_data\n",
    "    dashes_plus = \"\"\n",
    "    for num in range(len(table_columns_length)):\n",
    "        dashes_plus = dashes_plus + \"+\" + '-'*(table_columns_length[num]+2)\n",
    "    dashes_plus = dashes_plus + \"+\"\n",
    "    \n",
    "    print(dashes_plus)\n",
    "    \n",
    "    table_headers = \"\"\n",
    "    for num in range(len(table_column_names)):\n",
    "        table_headers = table_headers + f\"| {table_column_names[num]:^{table_columns_length[num]}} \"\n",
    "    table_headers = table_headers + \"|\"\n",
    "    print(table_headers)\n",
    "    \n",
    "    print(dashes_plus)\n",
    "    \n",
    "    for result in results:\n",
    "        table_row = \"\"\n",
    "        for value in range(len(result)):\n",
    "            row_data = result[value]\n",
    "            if row_data is None:\n",
    "                row_data = \"NULL\"            \n",
    "                #if \"Field\" in table_column_names or \"select_type\" in table_column_names:\n",
    "                    #row_data = None\n",
    "                #else:\n",
    "                    #row_data = None\n",
    "            table_row = table_row + \"|\" + f\"{str(row_data):^{table_columns_length[value]+2}}\"\n",
    "        print(table_row + \"|\")\n",
    "    print(dashes_plus)\n",
    "    num_rows: int = len(results)\n",
    "    message: str = \"row returned\" if num_rows == 1 else \"rows returned\"\n",
    "    #end = timer()\n",
    "    #print(timedelta(seconds=end-start))\n",
    "    print(f\"{num_rows} {message}\")\n",
    "\n",
    "def execute_display_query_results(query: str = \"\", table_column_names: list = [], results: list = []): \n",
    "    logger.info(f\"Executing the query: {query}\")\n",
    "    if len(query) > 2 and (table_column_names or results):\n",
    "        print(\"You can only pass in the query alone or the table_column_names and results list\")\n",
    "        assert False\n",
    "    if query and not table_column_names and not results:\n",
    "        cursor.execute(query)\n",
    "        results = cursor.fetchall()    \n",
    "        table_column_names = cursor.column_names\n",
    "        \n",
    "    \n",
    "    display_results(table_column_names, results)\n",
    "   "
   ]
  },
  {
   "cell_type": "markdown",
   "id": "d33a26ae-a9c3-48c5-8f1d-fc67640f0a8d",
   "metadata": {},
   "source": [
    "## Show Version of MySQL"
   ]
  },
  {
   "cell_type": "code",
   "execution_count": 8,
   "id": "816dcc81-7fed-44ec-a013-ea983d35ef2f",
   "metadata": {},
   "outputs": [
    {
     "name": "stdout",
     "output_type": "stream",
     "text": [
      "+-------------------------+\n",
      "|         Version         |\n",
      "+-------------------------+\n",
      "| 8.0.39-0ubuntu0.22.04.1 |\n",
      "+-------------------------+\n",
      "1 row returned\n"
     ]
    }
   ],
   "source": [
    "show_version_query = \"\"\"SELECT VERSION() AS Version;\"\"\"\n",
    "execute_display_query_results(query=show_version_query)"
   ]
  },
  {
   "cell_type": "markdown",
   "id": "c9a65c3c-1665-4f4d-8d04-261dfe330050",
   "metadata": {},
   "source": [
    "## Show Database"
   ]
  },
  {
   "cell_type": "code",
   "execution_count": 9,
   "id": "630d878a-8ca4-4621-a06f-c86b2981c066",
   "metadata": {},
   "outputs": [
    {
     "name": "stdout",
     "output_type": "stream",
     "text": [
      "+------------------------+\n",
      "|        Database        |\n",
      "+------------------------+\n",
      "|          CVD           |\n",
      "|     LittleLemonDB      |\n",
      "|           PC           |\n",
      "|    STAFF_LOCATIONS     |\n",
      "|     classicmodels      |\n",
      "|      db_Exercise       |\n",
      "|    db_aggregate_fxn    |\n",
      "|         db_hr          |\n",
      "|       db_learner       |\n",
      "|    db_little_lemon     |\n",
      "|        db_meta         |\n",
      "| db_meta_advanced_mysql |\n",
      "|   db_meta_dsm_mysql    |\n",
      "|     db_mysqladmin      |\n",
      "|     db_subqueries      |\n",
      "|        db_views        |\n",
      "|        db_world        |\n",
      "|   global_super_store   |\n",
      "|   information_schema   |\n",
      "|      little_lemon      |\n",
      "|    little_lemon_db     |\n",
      "|      lucky_Shrub       |\n",
      "|     mangata_gallo      |\n",
      "|     mangata_jw_db      |\n",
      "|        meta_db         |\n",
      "|       mg_schema        |\n",
      "|         mysql          |\n",
      "|   performance_schema   |\n",
      "|         sakila         |\n",
      "|          sys           |\n",
      "+------------------------+\n",
      "30 rows returned\n"
     ]
    }
   ],
   "source": [
    "show_version_query = \"\"\"SHOW DATABASES;\"\"\"\n",
    "execute_display_query_results(query=show_version_query)"
   ]
  },
  {
   "cell_type": "markdown",
   "id": "9b5b0818-5abc-4248-b09f-08c9321aa4bd",
   "metadata": {},
   "source": [
    "# Show MySQL Users"
   ]
  },
  {
   "cell_type": "code",
   "execution_count": 10,
   "id": "7fbf7fd8-4c62-4522-a400-e3fd4856ae07",
   "metadata": {},
   "outputs": [
    {
     "name": "stdout",
     "output_type": "stream",
     "text": [
      "+----------+\n",
      "| COUNT(*) |\n",
      "+----------+\n",
      "|    7     |\n",
      "+----------+\n",
      "1 row returned\n"
     ]
    }
   ],
   "source": [
    "cursor.execute(\"USE mysql;\")\n",
    "execute_display_query_results(\"SELECT COUNT(*) FROM user;\")"
   ]
  },
  {
   "cell_type": "code",
   "execution_count": 32,
   "id": "a5c75c2e-5bcb-46fa-88f4-b6152d4efae6",
   "metadata": {},
   "outputs": [
    {
     "name": "stdout",
     "output_type": "stream",
     "text": [
      "$A$005$y?A*~%#*f8\f",
      "\u0002*fW=g\u0001QBaUbuAX.dqfly6t7siRO.kMbaWMvqu97oFkWD14vj133 has a length of 70\n",
      "+-----------+------------------+-----------------------+----------------------------------------------------------------------------------+\n",
      "|   Host    |       User       |        plugin         |                              authentication_string                               |\n",
      "+-----------+------------------+-----------------------+----------------------------------------------------------------------------------+\n",
      "| localhost |     db_user      | caching_sha2_password |      $A$005$y?A*~%#*f8\f",
      "\u0002*fW=g\u0001QBaUbuAX.dqfly6t7siRO.kMbaWMvqu97oFkWD14vj133      |\n",
      "| localhost | debian-sys-maint | caching_sha2_password |      $A$005$}}ev<)+\u000b",
      "K9WgU@%>)'\u0010b.N1PFqf6Pz0tJQob0B3QaGBGziu6X8RoXtjh0wnFFA      |\n",
      "| localhost | mysql.infoschema | caching_sha2_password |      $A$005$THISISACOMBINATIONOFINVALIDSALTANDPASSWORDTHATMUSTNEVERBRBEUSED      |\n",
      "| localhost |  mysql.session   | caching_sha2_password |      $A$005$THISISACOMBINATIONOFINVALIDSALTANDPASSWORDTHATMUSTNEVERBRBEUSED      |\n",
      "| localhost |    mysql.sys     | caching_sha2_password |      $A$005$THISISACOMBINATIONOFINVALIDSALTANDPASSWORDTHATMUSTNEVERBRBEUSED      |\n",
      "| localhost |       root       | mysql_native_password |                    *3F41383DCA5000B6BA551B72F98EDDAB12C7986A                     |\n",
      "| localhost |     user_wsl     | caching_sha2_password |      $A$005$\u0003~b\"f* ?\u0001g)=NA-\u0007]'\t\u0001cschq5yOvvE.Ef1D5usDYngQFCzqE5oiFrgxQA1Luo4      |\n",
      "+-----------+------------------+-----------------------+----------------------------------------------------------------------------------+\n",
      "7 rows returned\n"
     ]
    }
   ],
   "source": [
    "execute_display_query_results(\"SELECT Host, User, plugin, authentication_string FROM user;\")"
   ]
  },
  {
   "cell_type": "code",
   "execution_count": 33,
   "id": "4469d418-967e-496f-aa85-92c1f4f04356",
   "metadata": {},
   "outputs": [],
   "source": [
    "#dbconfig={\"user\":\"user_wsl\", \"password\":\"Bright##++29\", \"port\":33061, \"host\":\"localhost\"}\n",
    "#connection_1=mysql.connect(**dbconfig)\n",
    "#print(\"Connection established between MySQL and Python\")\n",
    "#logger.info(\"Connection established between MySQL and Python\")"
   ]
  },
  {
   "cell_type": "code",
   "execution_count": 34,
   "id": "46f2f511-7a02-4428-b6df-0d83d906e958",
   "metadata": {},
   "outputs": [],
   "source": [
    "#dbconfig={\"user\":\"user_wsl\", \"password\":\"Bright##++29\", \"port\":33061, \"host\":\"localhost\"}\n",
    "#connection_2=connector.connect(**dbconfig)\n",
    "#cursor_2 = connection_2.cursor(buffered=True)\n",
    "#print(\"Connection established between MySQL and Python\")\n",
    "#logger.info(\"Connection established between MySQL and Python\")"
   ]
  },
  {
   "cell_type": "markdown",
   "id": "8c57de54-1a36-4f50-91e5-d77209a5156f",
   "metadata": {},
   "source": [
    "# Create Database for use"
   ]
  },
  {
   "cell_type": "code",
   "execution_count": null,
   "id": "b43ad1dc-185b-4a21-a333-9aa7e1eee2f3",
   "metadata": {},
   "outputs": [],
   "source": [
    "dropDROP DATABASE IF EXISTS music;\n",
    "CREATE DATABASE music;\n",
    "USE music;\n",
    "\n",
    "CREATE TABLE artist (\n",
    "    artist_id SMALLINT(5) NOT NULL DEFAULT 0,\n",
    "    artist_name CHAR(128) DEFAULT NULL,\n",
    "    PRIMARY KEY (artist_id)\n",
    ") engine=innoDB;\n",
    "\n",
    "CREATE TABLE album (\n",
    "    artist_id SMALLINT(5) NOT NULL DEFAULT 0,\n",
    "    album_id SMALLINT(4) NOT NULL DEFAULT 0,\n",
    "    album_name CHAR(128) DEFAULT NULL,\n",
    "    PRIMARY KEY (artist_id,album_id),\n",
    "    FOREIGN KEY (artist_id) REFERENCES artist(artist_id)\n",
    ") engine=innoDB;\n",
    "\n",
    "CREATE TABLE track (\n",
    "    track_id SMALLINT(3) NOT NULL DEFAULT 0,\n",
    "    track_name CHAR(128) DEFAULT NULL,\n",
    "    artist_id SMALLINT(5) NOT NULL DEFAULT 0,\n",
    "    album_id SMALLINT(4) NOT NULL DEFAULT 0,\n",
    "    time DECIMAL(5,2) DEFAULT NULL,\n",
    "    PRIMARY KEY (artist_id,album_id,track_id),\n",
    "    FOREIGN KEY (artist_id)\t\t\t REFERENCES artist(artist_id),\n",
    "    FOREIGN KEY (artist_id,album_id) REFERENCES album(artist_id,album_id)\n",
    ") engine=innoDB;\n",
    "\n",
    "CREATE TABLE played (\n",
    "    artist_id SMALLINT(5) NOT NULL DEFAULT 0,\n",
    "    album_id SMALLINT(4) NOT NULL DEFAULT 0,\n",
    "    track_id SMALLINT(3) NOT NULL DEFAULT 0,\n",
    "    played TIMESTAMP NOT NULL DEFAULT CURRENT_TIMESTAMP on update CURRENT_TIMESTAMP,\n",
    "    PRIMARY KEY (artist_id,album_id,track_id,played),\n",
    "    FOREIGN KEY (artist_id)\t\t\t REFERENCES artist(artist_id),\n",
    "    FOREIGN KEY (artist_id,album_id) REFERENCES album(artist_id,album_id),\n",
    "    FOREIGN KEY (artist_id,album_id,track_id)\tREFERENCES track(artist_id,album_id,track_id)\n",
    ") engine=innoDB;\n",
    "\n",
    "\n",
    "INSERT INTO artist VALUES (1, \"New Order\");\n",
    "INSERT INTO artist VALUES (2, \"Nick Cave & The Bad Seeds\");\n",
    "INSERT INTO artist VALUES (3, \"Miles Davis\");\n",
    "INSERT INTO artist VALUES (4, \"The Rolling Stones\");\n",
    "INSERT INTO artist VALUES (5, \"The Stone Roses\");\n",
    "INSERT INTO artist VALUES (6, \"Kylie Minogue\");\n",
    "\n",
    "INSERT INTO album VALUES (2, 1, \"Let Love In\");\n",
    "INSERT INTO album VALUES (1, 1, \"Retro - John McCready FAN\");\n",
    "INSERT INTO album VALUES (1, 2, \"Substance (Disc 2)\");\n",
    "INSERT INTO album VALUES (1, 3, \"Retro - Miranda Sawyer POP\");\n",
    "INSERT INTO album VALUES (1, 4, \"Retro - New Order / Bobby Gillespie LIVE\");\n",
    "INSERT INTO album VALUES (3, 1, \"Live Around The World\");\n",
    "INSERT INTO album VALUES (3, 2, \"In A Silent Way\");\n",
    "INSERT INTO album VALUES (1, 5, \"Power, Corruption & Lies\");\n",
    "INSERT INTO album VALUES (4, 1, \"Exile On Main Street\");\n",
    "INSERT INTO album VALUES (1, 6, \"Substance 1987 (Disc 1)\");\n",
    "INSERT INTO album VALUES (5, 1, \"Second Coming\");\n",
    "INSERT INTO album VALUES (6, 1, \"Light Years\");\n",
    "INSERT INTO album VALUES (1, 7, \"Brotherhood\");\n",
    "\n",
    "INSERT INTO track VALUES (0,'Do You Love Me?',2,1,'5.95');\n",
    "INSERT INTO track VALUES (1,'Nobody\\'s Baby Now',2,1,'3.87');\n",
    "INSERT INTO track VALUES (2,'Loverman',2,1,'6.37');\n",
    "INSERT INTO track VALUES (3,'Jangling Jack',2,1,'2.78');\n",
    "INSERT INTO track VALUES (4,'Red Right Hand',2,1,'6.18');\n",
    "INSERT INTO track VALUES (5,'I Let Love In',2,1,'4.25');\n",
    "INSERT INTO track VALUES (6,'Thirsty Dog',2,1,'3.81');\n",
    "INSERT INTO track VALUES (7,'Ain\\'t Gonna Rain Anymore',2,1,'3.77');\n",
    "INSERT INTO track VALUES (8,'Lay Me Low',2,1,'5.15');\n",
    "INSERT INTO track VALUES (9,'Do You Love Me? (Part Two)',2,1,'6.23');\n",
    "INSERT INTO track VALUES (0,'Elegia',1,1,'4.93');\n",
    "INSERT INTO track VALUES (1,'In A Lonely Place',1,1,'6.26');\n",
    "INSERT INTO track VALUES (2,'Procession',1,1,'4.47');\n",
    "INSERT INTO track VALUES (3,'Your Silent Face',1,1,'5.99');\n",
    "INSERT INTO track VALUES (4,'Sunrise',1,1,'6.01');\n",
    "INSERT INTO track VALUES (5,'Let\\'s Go',1,1,'3.90');\n",
    "INSERT INTO track VALUES (6,'Broken Promise',1,1,'3.76');\n",
    "INSERT INTO track VALUES (7,'Dreams Never End',1,1,'3.20');\n",
    "INSERT INTO track VALUES (8,'Cries And Whispers',1,1,'3.42');\n",
    "INSERT INTO track VALUES (9,'All Day Long',1,1,'5.18');\n",
    "INSERT INTO track VALUES (10,'Sooner Than You Think',1,1,'5.21');\n",
    "INSERT INTO track VALUES (11,'Leave Me Alone',1,1,'4.67');\n",
    "INSERT INTO track VALUES (12,'Lonesome Tonight',1,1,'5.19');\n",
    "INSERT INTO track VALUES (13,'Every Little Counts',1,1,'4.47');\n",
    "INSERT INTO track VALUES (14,'Run Wild',1,1,'3.95');\n",
    "INSERT INTO track VALUES (0,'In A Lonely Place',1,2,'6.30');\n",
    "INSERT INTO track VALUES (1,'Procession',1,2,'4.46');\n",
    "INSERT INTO track VALUES (2,'Mesh',1,2,'3.44');\n",
    "INSERT INTO track VALUES (3,'Hurt',1,2,'6.98');\n",
    "INSERT INTO track VALUES (4,'The Beach',1,2,'7.32');\n",
    "INSERT INTO track VALUES (5,'Confusion',1,2,'7.64');\n",
    "INSERT INTO track VALUES (6,'Lonesome Tonight',1,2,'5.20');\n",
    "INSERT INTO track VALUES (7,'Murder',1,2,'3.93');\n",
    "INSERT INTO track VALUES (8,'Thieves Like Us',1,2,'6.95');\n",
    "INSERT INTO track VALUES (9,'Kiss Of Death',1,2,'7.05');\n",
    "INSERT INTO track VALUES (10,'Shame Of The Nation',1,2,'7.91');\n",
    "INSERT INTO track VALUES (11,'1963',1,2,'5.63');\n",
    "INSERT INTO track VALUES (0,'Fine Time',1,3,'4.71');\n",
    "INSERT INTO track VALUES (1,'Temptation',1,3,'8.71');\n",
    "INSERT INTO track VALUES (2,'True Faith',1,3,'5.88');\n",
    "INSERT INTO track VALUES (3,'The Perfect Kiss',1,3,'4.83');\n",
    "INSERT INTO track VALUES (4,'Ceremony',1,3,'4.41');\n",
    "INSERT INTO track VALUES (5,'Regret',1,3,'4.14');\n",
    "INSERT INTO track VALUES (6,'Crystal',1,3,'6.83');\n",
    "INSERT INTO track VALUES (7,'Bizarre Love Triangle',1,3,'4.35');\n",
    "INSERT INTO track VALUES (8,'Confusion',1,3,'8.22');\n",
    "INSERT INTO track VALUES (9,'Round And Round',1,3,'4.52');\n",
    "INSERT INTO track VALUES (10,'Blue Monday',1,3,'7.48');\n",
    "INSERT INTO track VALUES (11,'Brutal',1,3,'4.83');\n",
    "INSERT INTO track VALUES (12,'Slow Jam',1,3,'4.88');\n",
    "INSERT INTO track VALUES (13,'Everyone Everywhere',1,3,'4.43');\n",
    "INSERT INTO track VALUES (0,'Ceremony [Studio 54, Barcelona 7/7/84]',1,4,'4.82');\n",
    "INSERT INTO track VALUES (1,'Procession [Polytechnic of Central London, London 6/12/85]',1,4,'3.57');\n",
    "INSERT INTO track VALUES (2,'Everything\\'s Gone Green [Tolworth Recreation Centre, London 12/3/85]',1,4,'5.25');\n",
    "INSERT INTO track VALUES (3,'In A Lonely Place [Glastonbury Festival 20/6/81]',1,4,'5.55');\n",
    "INSERT INTO track VALUES (4,'Age Of Consent [Spectrum Arena, Warrington 1/3/86]',1,4,'5.04');\n",
    "INSERT INTO track VALUES (5,'Elegia [Glastonbury Festival 19/6/87]',1,4,'4.77');\n",
    "INSERT INTO track VALUES (6,'The Perfect Kiss [Glastonbury Festival 19/6/87]',1,4,'9.73');\n",
    "INSERT INTO track VALUES (7,'Fine Time [Popular Creek Music Theatre, Chicago 30/6/89]',1,4,'5.04');\n",
    "INSERT INTO track VALUES (8,'World [Starplex Amphitheatre, Dallas 21/7/93]',1,4,'4.81');\n",
    "INSERT INTO track VALUES (9,'Regret [Reading Festival 29/8/93]',1,4,'4.03');\n",
    "INSERT INTO track VALUES (10,'As It Is When It Was [Reading Festival 29/8/93]',1,4,'3.80');\n",
    "INSERT INTO track VALUES (11,'Intermission By Alan Wise [Olympia, Paris 12/11/01]',1,4,'1.34');\n",
    "INSERT INTO track VALUES (12,'Crystal [Big Day Out, Gold Coast 20/1/02]',1,4,'6.86');\n",
    "INSERT INTO track VALUES (13,'Turn My Way [Olympia, Liverpool 18/7/01]',1,4,'4.96');\n",
    "INSERT INTO track VALUES (14,'Temptation [Big Day Out, Gold Coast 20/1/02]',1,4,'7.79');\n",
    "INSERT INTO track VALUES (0,'In A Silent Way',3,1,'1.81');\n",
    "INSERT INTO track VALUES (1,'Intruder',3,1,'4.87');\n",
    "INSERT INTO track VALUES (2,'New Blues',3,1,'5.58');\n",
    "INSERT INTO track VALUES (3,'Human Nature',3,1,'12.80');\n",
    "INSERT INTO track VALUES (4,'Mr. Pastorius',3,1,'3.54');\n",
    "INSERT INTO track VALUES (5,'Amandla',3,1,'5.87');\n",
    "INSERT INTO track VALUES (6,'Wrinkle',3,1,'7.28');\n",
    "INSERT INTO track VALUES (7,'Tutu',3,1,'8.89');\n",
    "INSERT INTO track VALUES (8,'Full Nelson',3,1,'2.81');\n",
    "INSERT INTO track VALUES (9,'Time After Time',3,1,'9.98');\n",
    "INSERT INTO track VALUES (10,'Hannibal',3,1,'7.37');\n",
    "INSERT INTO track VALUES (0,'Shhh/Peaceful',3,2,'16.67');\n",
    "INSERT INTO track VALUES (1,'In A Silent Way/It\\'s About That Time',3,2,'16.67');\n",
    "INSERT INTO track VALUES (0,'Age Of Consent',1,5,'5.26');\n",
    "INSERT INTO track VALUES (1,'We All Stand',1,5,'5.24');\n",
    "INSERT INTO track VALUES (2,'The Village',1,5,'4.62');\n",
    "INSERT INTO track VALUES (3,'5 8 6',1,5,'7.52');\n",
    "INSERT INTO track VALUES (4,'Your Silent Face',1,5,'6.00');\n",
    "INSERT INTO track VALUES (5,'Ultraviolence',1,5,'4.87');\n",
    "INSERT INTO track VALUES (6,'Ecstasy',1,5,'4.42');\n",
    "INSERT INTO track VALUES (7,'Leave Me Alone',1,5,'4.69');\n",
    "INSERT INTO track VALUES (0,'Rocks Off',4,1,'4.54');\n",
    "INSERT INTO track VALUES (1,'Rip This Joint',4,1,'2.38');\n",
    "INSERT INTO track VALUES (2,'Shake Your Hips',4,1,'3.00');\n",
    "INSERT INTO track VALUES (3,'Casino Boogie',4,1,'3.57');\n",
    "INSERT INTO track VALUES (4,'Tumbling Dice',4,1,'3.79');\n",
    "INSERT INTO track VALUES (5,'Sweet Virginia',4,1,'4.44');\n",
    "INSERT INTO track VALUES (6,'Torn & Frayed',4,1,'4.30');\n",
    "INSERT INTO track VALUES (7,'Sweet Black Angel',4,1,'2.97');\n",
    "INSERT INTO track VALUES (8,'Loving Cup',4,1,'4.43');\n",
    "INSERT INTO track VALUES (9,'Happy',4,1,'3.08');\n",
    "INSERT INTO track VALUES (10,'Turd On The Run',4,1,'2.64');\n",
    "INSERT INTO track VALUES (11,'Ventilator Blues',4,1,'3.40');\n",
    "INSERT INTO track VALUES (12,'I Just Want To See His Face',4,1,'2.90');\n",
    "INSERT INTO track VALUES (13,'Let It Loose',4,1,'5.31');\n",
    "INSERT INTO track VALUES (14,'All Down The Line',4,1,'3.84');\n",
    "INSERT INTO track VALUES (15,'Stop Breaking Down',4,1,'4.57');\n",
    "INSERT INTO track VALUES (16,'Shine A Light',4,1,'4.28');\n",
    "INSERT INTO track VALUES (17,'Soul Survivor',4,1,'3.82');\n",
    "INSERT INTO track VALUES (0,'Ceremony',1,6,'4.42');\n",
    "INSERT INTO track VALUES (1,'Everything\\'s Gone Green',1,6,'5.51');\n",
    "INSERT INTO track VALUES (2,'Temptation',1,6,'6.99');\n",
    "INSERT INTO track VALUES (3,'Blue Monday',1,6,'7.49');\n",
    "INSERT INTO track VALUES (4,'Confusion',1,6,'4.72');\n",
    "INSERT INTO track VALUES (5,'Thieves Like Us',1,6,'6.61');\n",
    "INSERT INTO track VALUES (6,'Perfect Kiss',1,6,'8.04');\n",
    "INSERT INTO track VALUES (7,'Subculture',1,6,'4.80');\n",
    "INSERT INTO track VALUES (8,'Shellshock',1,6,'6.48');\n",
    "INSERT INTO track VALUES (9,'State of the Nation',1,6,'6.54');\n",
    "INSERT INTO track VALUES (10,'Bizarre Love Triangle',1,6,'6.74');\n",
    "INSERT INTO track VALUES (11,'True Faith',1,6,'5.93');\n",
    "INSERT INTO track VALUES (0,'Breaking Into Heaven',5,1,'11.37');\n",
    "INSERT INTO track VALUES (1,'Driving South',5,1,'5.17');\n",
    "INSERT INTO track VALUES (2,'Ten Storey Love Song',5,1,'4.50');\n",
    "INSERT INTO track VALUES (3,'Daybreak',5,1,'6.56');\n",
    "INSERT INTO track VALUES (4,'Your Star Will Shine',5,1,'2.99');\n",
    "INSERT INTO track VALUES (5,'Straight To The Man',5,1,'3.26');\n",
    "INSERT INTO track VALUES (6,'Begging You',5,1,'4.94');\n",
    "INSERT INTO track VALUES (7,'Tightrope',5,1,'4.45');\n",
    "INSERT INTO track VALUES (8,'Good Times',5,1,'5.67');\n",
    "INSERT INTO track VALUES (9,'Tears',5,1,'6.84');\n",
    "INSERT INTO track VALUES (10,'How Do You Sleep',5,1,'4.99');\n",
    "INSERT INTO track VALUES (11,'Love Spreads',5,1,'5.79');\n",
    "INSERT INTO track VALUES (12,'Untitled',5,1,'6.43');\n",
    "INSERT INTO track VALUES (0,'Spinning Around',6,1,'3.46');\n",
    "INSERT INTO track VALUES (1,'On A Night Like This',6,1,'3.55');\n",
    "INSERT INTO track VALUES (2,'So Now Goodbye',6,1,'3.62');\n",
    "INSERT INTO track VALUES (3,'Disco Down',6,1,'3.96');\n",
    "INSERT INTO track VALUES (4,'Loveboat',6,1,'4.18');\n",
    "INSERT INTO track VALUES (5,'Koocachoo',6,1,'4.00');\n",
    "INSERT INTO track VALUES (6,'Your Disco Needs You',6,1,'3.56');\n",
    "INSERT INTO track VALUES (7,'Please Stay',6,1,'4.14');\n",
    "INSERT INTO track VALUES (8,'Bittersweet Goodbye',6,1,'3.72');\n",
    "INSERT INTO track VALUES (9,'Butterfly',6,1,'4.16');\n",
    "INSERT INTO track VALUES (10,'Under The Influence Of Love',6,1,'3.40');\n",
    "INSERT INTO track VALUES (11,'I\\'m So High',6,1,'3.55');\n",
    "INSERT INTO track VALUES (12,'Kids',6,1,'4.34');\n",
    "INSERT INTO track VALUES (0,'State of the Nation',1,7,'6.56');\n",
    "INSERT INTO track VALUES (1,'Every Little Counts',1,7,'4.48');\n",
    "INSERT INTO track VALUES (2,'Angel Dust',1,7,'3.73');\n",
    "INSERT INTO track VALUES (3,'All Day Long',1,7,'5.21');\n",
    "INSERT INTO track VALUES (4,'Bizarre Love Triangle',1,7,'4.37');\n",
    "INSERT INTO track VALUES (5,'Way of Life',1,7,'4.11');\n",
    "INSERT INTO track VALUES (6,'Broken Promise',1,7,'3.80');\n",
    "INSERT INTO track VALUES (7,'As It Is When It Was',1,7,'3.77');\n",
    "INSERT INTO track VALUES (8,'Weirdo',1,7,'3.89');\n",
    "INSERT INTO track VALUES (9,'Paradise',1,7,'3.86');\n",
    "\n",
    "INSERT INTO played VALUES (1, 3, 0, \"20060814102103\");\n",
    "INSERT INTO played VALUES (1, 3, 1, \"20060814102522\");\n",
    "INSERT INTO played VALUES (1, 3, 2, \"20060814103025\");\n",
    "INSERT INTO played VALUES (1, 3, 3, \"20060814103654\");\n",
    "INSERT INTO played VALUES (1, 3, 4, \"20060814104143\");\n",
    "INSERT INTO played VALUES (1, 3, 5, \"20060814104337\");\n",
    "INSERT INTO played VALUES (1, 3, 6, \"20060814104721\");\n",
    "INSERT INTO played VALUES (1, 3, 7, \"20060814105402\");\n",
    "INSERT INTO played VALUES (3, 1, 0, \"20060815140003\");\n",
    "INSERT INTO played VALUES (3, 1, 1, \"20060815142612\");\n",
    "INSERT INTO played VALUES (3, 1, 2, \"20060815143357\");\n"
   ]
  }
 ],
 "metadata": {
  "kernelspec": {
   "display_name": "Python 3 (ipykernel)",
   "language": "python",
   "name": "python3"
  },
  "language_info": {
   "codemirror_mode": {
    "name": "ipython",
    "version": 3
   },
   "file_extension": ".py",
   "mimetype": "text/x-python",
   "name": "python",
   "nbconvert_exporter": "python",
   "pygments_lexer": "ipython3",
   "version": "3.11.7"
  }
 },
 "nbformat": 4,
 "nbformat_minor": 5
}
