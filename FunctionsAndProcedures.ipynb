{
 "cells": [
  {
   "cell_type": "code",
   "execution_count": 1,
   "id": "26f0aa69-82e9-405a-8785-678f7cdd40c7",
   "metadata": {},
   "outputs": [],
   "source": [
    "import mysql.connector as connector\n",
    "import os\n",
    "from mysql.connector import Error"
   ]
  },
  {
   "cell_type": "code",
   "execution_count": 2,
   "id": "4ee0263d-8068-46c2-89d8-9c539f6e6381",
   "metadata": {},
   "outputs": [
    {
     "name": "stdout",
     "output_type": "stream",
     "text": [
      "CVD\n",
      "Mangata_Gallo\n",
      "STAFF_LOCATIONS\n",
      "coffee_shop_products\n",
      "db_Exercise\n",
      "db_hr\n",
      "db_learner\n",
      "db_little_lemon\n",
      "db_meta\n",
      "db_mysqladmin\n",
      "db_sports_club\n",
      "db_talently\n",
      "db_world\n",
      "information_schema\n",
      "little_lemon\n",
      "little_lemon_db\n",
      "lucky_Shrub\n",
      "mysql\n",
      "performance_schema\n",
      "sakila\n",
      "sys\n"
     ]
    }
   ],
   "source": [
    "# Establish connection between Python and MySQL database via connector API\n",
    "connection=connector.connect(user=\"root\", password=os.environ[\"MYSQL_PASSWORD\"], port=33061)\n",
    "\n",
    "# Create cursor object to communicate with entire MySQL database\n",
    "cursor = connection.cursor()\n",
    "\n",
    "cursor.execute(\"show databases\")\n",
    "for database in cursor:\n",
    "    print(database[0])"
   ]
  },
  {
   "cell_type": "code",
   "execution_count": 3,
   "id": "ba6ba669-e6ea-4644-b43a-fed24d56ee14",
   "metadata": {},
   "outputs": [],
   "source": [
    "#cursor = connection.cursor()\n",
    "cursor.execute(\"USE lucky_Shrub\")"
   ]
  },
  {
   "cell_type": "code",
   "execution_count": 4,
   "id": "7f2f2d32-3f21-4265-9f20-77ac7ca5d839",
   "metadata": {},
   "outputs": [
    {
     "name": "stdout",
     "output_type": "stream",
     "text": [
      "('Bookings',)\n",
      "('Customers',)\n",
      "('Starters',)\n",
      "('orders',)\n"
     ]
    }
   ],
   "source": [
    "cursor.execute(\"SHOW TABLES;\")\n",
    "for table in cursor:\n",
    "    print(table)"
   ]
  },
  {
   "cell_type": "markdown",
   "id": "1d988eee-2359-4350-b1e0-feb892d2119e",
   "metadata": {},
   "source": [
    "# Functions\n",
    "\n",
    "Wrap code within the body of a function or procedure for repeated use\n",
    "\n",
    "`Functions`-> Accept only input parameters  \n",
    "`Stored Procedure` -> Accept both input and output parameters\n",
    "\n",
    "\n",
    "### Variables and Parameters\n",
    "`Variable` -> Used to pass values between SQL statements, or between a procedure and a SQL statement\n",
    "\n",
    "In Stored Procedure -> Variables are created inside or outside of a stored prodedure\n",
    "In Select Statement -> Variables are created inside or outside of a select statement\n",
    "\n",
    "`@variable_name` = value;\n",
    "\n",
    "In Stored Procedure: Use the `SET` command: Assigns a value to a variable within a stored procedure  \n",
    "`SET @variable_name` = value;  \n",
    "SET @order_id = 3;  \n",
    "SELECT * FROM Orders WHERE OrderID = @order_id\n",
    "\n",
    "\n",
    "Using the DECLARE command variables  \n",
    "`DECLARE variable_name DATATYPE DEFAULT VALUE`    \n",
    "DECLARE minimum_order_cost DECIMAL(5, 2) DEFAULT 0;\n",
    "\n",
    "\n",
    "\n",
    "In Select Statement: \n",
    "```sql\n",
    "SELECT @variable_name := value;  \n",
    "SELECT @max_order := MAX(Cost) FROM Orders; \n",
    "SELECT @max_order  \n",
    "SELECT function() INTO variable_name FROM table_name;  \n",
    "SELECT AVG(COST)  INTO @average_cost FROM Orders;  \n",
    "```\n",
    "\n",
    "\n",
    "`Parameters` -> Pass arguments, or values, to a function or procedure from the outside  \n",
    "Types of Parameters: IN, OUT, INOUT\n",
    "\n",
    "**IN parameter syntax** \n",
    "```sql\n",
    "CREATE PROCEDURE procedure_name(IN logic(value1, value2)) SELECT logic;  \n",
    "CREATE PROCEDURE CalculateTax(IN Salary DECIMAL(10, 2)) SELECT Salary * 0.2 AS TAX; \n",
    "\n",
    "CALL CalculateTax(10000)  \n",
    "```\n",
    "\n",
    "**OUT parameter syntax**  \n",
    "```sql\n",
    "CREATE PROCEDURE GetLowestCost (OUT LowestCost DECIMAL(6, 2))  \n",
    "SELECT MIN(Cost) INTO LowestCost FROM Orders  \n",
    "    \n",
    "CALL GetLowestCost(@order_lowest_cost)  \n",
    "SELECT @order_lowest_cost  \n",
    "```\n",
    "\n",
    "\n",
    "\n",
    "\n",
    "**INOUT parameter syntax**   \n",
    "```sql\n",
    "CREATE PROCEDURE SquareAnumber(INOUT aNumber INT)      \n",
    "BEGIN       \n",
    "      set aNumber = aNumber * aNumber     \n",
    "END\n",
    "\n",
    "SET @x_number = 5;\n",
    "\n",
    "CALL SquareAnumber(@x_number);\n",
    "\n",
    "SELECT @x_number;\n",
    "```\n",
    "\n",
    "\n",
    "\n",
    "**CREATING A FUNCTION**\n",
    "```sql\n",
    "CREATE FUNCTION function_name()\n",
    "RETURNS datatype DETERMINISTIC\n",
    "RETURN\n",
    "```\n"
   ]
  },
  {
   "cell_type": "code",
   "execution_count": 5,
   "id": "a06b8014-8952-4315-883c-bca3ebd9f79e",
   "metadata": {},
   "outputs": [
    {
     "name": "stdout",
     "output_type": "stream",
     "text": [
      "400.00\n"
     ]
    }
   ],
   "source": [
    "create_function = \"\"\"\n",
    "CREATE FUNCTION GetTotalCost(Cost DECIMAL(5,2))\n",
    "RETURNS DECIMAL(5, 2) DETERMINISTIC\n",
    "BEGIN\n",
    "IF (Cost >= 100 AND Cost < 500) THEN SET Cost = Cost - (Cost * 0.1);\n",
    "ELSEIF (Cost >= 500) THEN SET Cost = Cost - (Cost * 0.2);\n",
    "END IF;\n",
    "RETURN (Cost);\n",
    "END\n",
    "\"\"\"\n",
    "cursor.execute(\"DROP FUNCTION IF EXISTS GetTotalCost\")\n",
    "\n",
    "cursor.execute(create_function)\n",
    "\n",
    "cursor.execute(\"SELECT GetTotalCost(500)\")\n",
    "result = cursor.fetchone()\n",
    "print(result[0])"
   ]
  },
  {
   "cell_type": "code",
   "execution_count": 6,
   "id": "5cb13384-945d-4b0f-ad5f-acc151284645",
   "metadata": {},
   "outputs": [
    {
     "name": "stdout",
     "output_type": "stream",
     "text": [
      "FUNCTION lucky_Shrub.GetTotalCost does not exist\n"
     ]
    }
   ],
   "source": [
    "cursor.execute(\"DROP FUNCTION GetTotalCost\")\n",
    "\n",
    "try:\n",
    "    cursor.execute(\"SELECT GetTotalCost(500)\")\n",
    "    result = cursor.fetchone()\n",
    "    print(result[0])\n",
    "except Error as err:\n",
    "    print(err.msg)"
   ]
  },
  {
   "cell_type": "code",
   "execution_count": 7,
   "id": "aec2d0bc-13c5-4a86-8428-feb4a08644e8",
   "metadata": {},
   "outputs": [],
   "source": [
    "create_function = \"\"\"\n",
    "CREATE FUNCTION FindCost(order_id INT)\n",
    "RETURNS DECIMAL(5, 2) DETERMINISTIC\n",
    "RETURN (SELECT Cost FROM orders WHERE OrderID = order_id);\n",
    "\"\"\"\n",
    "cursor.execute(\"DROP FUNCTION IF EXISTS FindCost\")"
   ]
  },
  {
   "cell_type": "code",
   "execution_count": 8,
   "id": "2082ee06-ef10-4777-ac72-084ee0dd7b9c",
   "metadata": {},
   "outputs": [],
   "source": [
    "cursor.execute(create_function)"
   ]
  },
  {
   "cell_type": "code",
   "execution_count": 9,
   "id": "1f3fb56c-e457-4f05-804c-64f3c9eb9a06",
   "metadata": {},
   "outputs": [
    {
     "name": "stdout",
     "output_type": "stream",
     "text": [
      "450.00\n"
     ]
    }
   ],
   "source": [
    "cursor.execute(\"SELECT FindCost(5)\")\n",
    "result = cursor.fetchone()\n",
    "print(result[0])"
   ]
  },
  {
   "cell_type": "markdown",
   "id": "f1b8c74a-cecf-46d9-8da6-c0d9cc460e58",
   "metadata": {},
   "source": [
    "# Prodecure "
   ]
  },
  {
   "cell_type": "code",
   "execution_count": 10,
   "id": "97b8d0c1-c48b-42c6-9529-f6066c1c77e2",
   "metadata": {},
   "outputs": [
    {
     "data": {
      "text/plain": [
       "(5,)"
      ]
     },
     "execution_count": 10,
     "metadata": {},
     "output_type": "execute_result"
    }
   ],
   "source": [
    "stored_procedure_query = \"\"\"\n",
    "CREATE Procedure GetDiscount(OrderIDInput INT) \n",
    "BEGIN \n",
    "DECLARE cost_after_discount DECIMAL(7,2); \n",
    "DECLARE current_cost DECIMAL(7,2); \n",
    "DECLARE order_quantity INT; \n",
    "SELECT Quantity INTO order_quantity FROM orders WHERE OrderID = OrderIDInput; \n",
    "SELECT Cost INTO current_cost FROM orders WHERE OrderID = OrderIDInput; \n",
    "IF order_quantity >= 20 THEN\n",
    "SET cost_after_discount = current_cost - (current_cost * 0.2);              \n",
    "ELSEIF order_quantity >= 10 THEN\n",
    "SET cost_after_discount = current_cost - (current_cost * 0.1); \n",
    "ELSE SET cost_after_discount = current_cost;\n",
    "END IF;\n",
    "SELECT cost_after_discount; \n",
    "END\n",
    "\"\"\"\n",
    "drop_procedure_query = \"\"\"\n",
    "DROP PROCEDURE IF EXISTS GetDiscount\n",
    "\"\"\"\n",
    "cursor.execute(drop_procedure_query)\n",
    "connection.commit()\n",
    "\n",
    "cursor.execute(stored_procedure_query)\n",
    "cursor.callproc(\"GetDiscount\", (5,))"
   ]
  },
  {
   "cell_type": "code",
   "execution_count": 11,
   "id": "1b546158-3b9a-4161-842c-d9cb9fbb5788",
   "metadata": {},
   "outputs": [
    {
     "name": "stdout",
     "output_type": "stream",
     "text": [
      "(Decimal('405.00'),)\n"
     ]
    }
   ],
   "source": [
    "results=next(cursor.stored_results())\n",
    "dataset = results.fetchall()\n",
    "for data in dataset:\n",
    "    print(data)"
   ]
  },
  {
   "cell_type": "markdown",
   "id": "c13a50ff-12e2-4bfc-91a7-0ac88a15e108",
   "metadata": {},
   "source": [
    "# Triggers\n",
    "A set of actions available in the form of a stored program invoked when an event occurs e.g INSERT, UPDATE, DELETE. MySQL only supports Row-level Triggers\n",
    "\n",
    "```sql\n",
    "CREATE TRIGGER trigger_name\n",
    "TRIGGER TYPE\n",
    "ON table_name FOR EACH ROW\n",
    "BEGIN\n",
    "    statement_one\n",
    "    statement_two\n",
    "END\n",
    "\n",
    "\n",
    "DROP TRIGGER IF EXISTS schema_name.trigger_name\n",
    "```\n",
    "\n",
    "Keeping a log of records: useful for maintaining audit trails  \n",
    "Alternative to constraints: Maintain data integrity and run tasks\n",
    "\n",
    "\n",
    "**Types of Triggers**\n",
    "- Row-level: Trigger invoked for each row\n",
    "- Statement-level: Trigger invoked for each statement\n",
    "\n",
    "```sql\n",
    "CREATE TRIGGER AfterDeleteOrder\n",
    "AFTER DELETE\n",
    "ON Orders FOR EACH ROW\n",
    "INSERT INTO Audits\n",
    "VALUES('AFTER', CONCAT('Order', OLD.OrderID, 'was deleted at', CURRENT_TIME(), 'on', CURRENT_DATE()), 'DELETE')\n",
    "```\n",
    "\n",
    "\n",
    "```sql\n",
    "CREATE TRIGGER OrderQtyCheck\n",
    "BEFORE INSERT \n",
    "ON Orders FOR EACH ROW\n",
    "BEGIN\n",
    "    IF NEW.Quantity < 0 THEN SET NEW.QUANTITY = 0;\n",
    "    END IF;\n",
    "END\n",
    "```\n",
    "\n",
    "\n",
    "**Scheduled Events***\n",
    "A task that takes place at a specific time according to a schedule\n",
    "\n",
    "```sql\n",
    "CREATE EVENT IF NOT EXISTS event_name\n",
    "ON SCHEDULE schedule_logic\n",
    "DO \n",
    "Event_body\n",
    "```\n",
    "\n",
    "\n",
    "```sql\n",
    "CREATE EVENT IF NOT EXISTS event_name\n",
    "ON SCHEDULE AT CURRENT_TIMESTAMP [+ INTERVAL]\n",
    "DO \n",
    "Event_body\n",
    "```\n",
    "\n",
    "```sql\n",
    "CREATE EVENT GenerateRevenueReport\n",
    "ON SCHEDULE AT CURRENT_TIMESTAMP + INTERVAL 12 HOUR\n",
    "DO\n",
    "    BEGIN\n",
    "        INSERT INTO ReportData (OrderID, ClientID, ProductID, Quantity, Cost, Date)\n",
    "        SELECT * FROM Orders WHERE Date BETWEEN '2022-08-01' AND '2022-08-31';\n",
    "    END\n",
    "```"
   ]
  },
  {
   "cell_type": "code",
   "execution_count": 12,
   "id": "5a9a54b7-e12f-4564-98ae-1a0a495c2adb",
   "metadata": {},
   "outputs": [
    {
     "name": "stdout",
     "output_type": "stream",
     "text": [
      "CVD\n",
      "Mangata_Gallo\n",
      "STAFF_LOCATIONS\n",
      "coffee_shop_products\n",
      "db_Exercise\n",
      "db_hr\n",
      "db_learner\n",
      "db_little_lemon\n",
      "db_meta\n",
      "db_mysqladmin\n",
      "db_sports_club\n",
      "db_talently\n",
      "db_world\n",
      "information_schema\n",
      "little_lemon\n",
      "little_lemon_db\n",
      "lucky_Shrub\n",
      "meta_db\n",
      "mysql\n",
      "performance_schema\n",
      "sakila\n",
      "sys\n"
     ]
    }
   ],
   "source": [
    "cursor.execute(\"create database if not exists meta_db;\")\n",
    "cursor.execute(\"show databases;\")\n",
    "for database in cursor:\n",
    "    print(database[0])"
   ]
  },
  {
   "cell_type": "code",
   "execution_count": 13,
   "id": "2f7e572a-e281-4b36-97c4-c68b3dffc4fd",
   "metadata": {},
   "outputs": [],
   "source": [
    "cursor.execute(\"USE meta_db;\")"
   ]
  },
  {
   "cell_type": "code",
   "execution_count": 14,
   "id": "07e5eccb-c0a9-409e-af00-d8966ea18f41",
   "metadata": {},
   "outputs": [],
   "source": [
    "cursor.execute(\"SHOW TABLES;\")\n",
    "for table in cursor:\n",
    "    print(table)"
   ]
  },
  {
   "cell_type": "code",
   "execution_count": 15,
   "id": "f1f6bed3-39ef-4670-bdbc-0e8714a17889",
   "metadata": {},
   "outputs": [],
   "source": [
    "create_product = \"\"\"CREATE TABLE Products (ProductID VARCHAR(10), ProductName VARCHAR(100), BuyPrice DECIMAL(6,2), SellPrice DECIMAL(6,2), NumberOfItems INT);\"\"\"\n",
    "cursor.execute(create_product)"
   ]
  },
  {
   "cell_type": "code",
   "execution_count": 16,
   "id": "445e3eb3-521d-432d-833c-d6a17ceab8a9",
   "metadata": {},
   "outputs": [],
   "source": [
    "insert_query = \"\"\" INSERT INTO Products (ProductID, ProductName, BuyPrice, SellPrice, NumberOfItems)\n",
    "VALUES (\"P1\", \"Artificial grass bags \", 40, 50, 100),  \n",
    "(\"P2\", \"Wood panels\", 15, 20, 250),  \n",
    "(\"P3\", \"Patio slates\",35, 40, 60),  \n",
    "(\"P4\", \"Sycamore trees \", 7, 10, 50),  \n",
    "(\"P5\", \"Trees and Shrubs\", 35, 50, 75),  \n",
    "(\"P6\", \"Water fountain\", 65, 80, 15);\n",
    "\"\"\"\n",
    "\n",
    "cursor.execute(insert_query)\n",
    "connection.commit()"
   ]
  },
  {
   "cell_type": "code",
   "execution_count": 17,
   "id": "2487a667-ede9-42e1-9d9d-4f4158e83a3f",
   "metadata": {},
   "outputs": [
    {
     "name": "stdout",
     "output_type": "stream",
     "text": [
      "('P1', 'Artificial grass bags ', Decimal('40.00'), Decimal('50.00'), 100)\n",
      "('P2', 'Wood panels', Decimal('15.00'), Decimal('20.00'), 250)\n",
      "('P3', 'Patio slates', Decimal('35.00'), Decimal('40.00'), 60)\n",
      "('P4', 'Sycamore trees ', Decimal('7.00'), Decimal('10.00'), 50)\n",
      "('P5', 'Trees and Shrubs', Decimal('35.00'), Decimal('50.00'), 75)\n",
      "('P6', 'Water fountain', Decimal('65.00'), Decimal('80.00'), 15)\n"
     ]
    }
   ],
   "source": [
    "cursor.execute(\"SELECT * FROM Products;\")\n",
    "results = cursor.fetchall()\n",
    "for result in results:\n",
    "    print(result)"
   ]
  },
  {
   "cell_type": "code",
   "execution_count": 18,
   "id": "93b2d26e-3e66-4e48-8cee-54afd7778243",
   "metadata": {},
   "outputs": [
    {
     "name": "stdout",
     "output_type": "stream",
     "text": [
      "('Notifications',)\n",
      "('Products',)\n"
     ]
    }
   ],
   "source": [
    "create_notifications = \"\"\"CREATE TABLE IF NOT EXISTS Notifications (NotificationID INT AUTO_INCREMENT, Notification VARCHAR(255), DateTime TIMESTAMP NOT NULL, PRIMARY KEY(NotificationID));\"\"\"\n",
    "cursor.execute(create_notifications)\n",
    "cursor.execute(\"SHOW TABLES;\")\n",
    "for table in cursor:\n",
    "    print(table)"
   ]
  },
  {
   "cell_type": "markdown",
   "id": "bbd87587-19e7-48c6-a739-e114db67028d",
   "metadata": {},
   "source": [
    "### Task 1:\n",
    "\n",
    "\n",
    "<div class=\"alert alert-info\" style=\"margin-top: 15px\">\n",
    "<p>Create an INSERT trigger called <strong>ProductSellPriceInsertCheck</strong>. This trigger must check if the SellPrice of the product is less than the BuyPrice after a new product is inserted in the Products table. If this occurs, then a notification must be added to the Notifications table to inform the sales department. The sales department can then ensure that the incorrect values were not inserted by mistake.</p>\n",
    "<p>The notification message should be in the following format: A SellPrice less than the BuyPrice was inserted for ProductID + ProductID</p>\n",
    "</div>\n",
    "\n",
    "\n",
    "\n"
   ]
  },
  {
   "cell_type": "code",
   "execution_count": 19,
   "id": "1252126a-ecd5-42b1-8cc7-ca2b01829056",
   "metadata": {},
   "outputs": [],
   "source": [
    "drop_query = \"\"\"DROP TRIGGER IF EXISTS meta_db.ProductSellPriceInsertCheck\"\"\"\n",
    "cursor.execute(drop_query)\n",
    "connection.commit()\n",
    "\n",
    "\n",
    "\n",
    "create_trigger_query = \"\"\"\n",
    "CREATE TRIGGER ProductSellPriceInsertCheck\n",
    "AFTER INSERT\n",
    "ON Products FOR EACH ROW\n",
    "BEGIN\n",
    "    IF New.SellPrice < New.BuyPrice THEN\n",
    "    INSERT INTO Notifications(Notification, DateTime)\n",
    "    VALUES(CONCAT('A SellPrice less than the BuyPrice was inserted for ProductID ',  New.ProductID), NOW());\n",
    "    END IF;\n",
    "END\n",
    "\"\"\"\n",
    "cursor.execute(create_trigger_query)"
   ]
  },
  {
   "cell_type": "code",
   "execution_count": 20,
   "id": "5a7ceeb4-2319-4075-9f56-ec3df8f5d995",
   "metadata": {},
   "outputs": [
    {
     "name": "stdout",
     "output_type": "stream",
     "text": [
      "('Notifications',)\n",
      "('Products',)\n"
     ]
    }
   ],
   "source": [
    "cursor.execute(\"SHOW TABLES;\")\n",
    "for table in cursor:\n",
    "    print(table)"
   ]
  },
  {
   "cell_type": "code",
   "execution_count": 21,
   "id": "815435f9-7ef6-47e0-96b5-c8be2e281456",
   "metadata": {},
   "outputs": [],
   "source": [
    "insert_query = \"\"\"INSERT INTO meta_db.Products(ProductID, ProductName, BuyPrice, SellPrice, NumberOfItems) VALUES (\"P7\", \"Product p7\", 45, 40, 100);\"\"\"\n",
    "cursor.execute(insert_query)\n",
    "connection.commit()"
   ]
  },
  {
   "cell_type": "code",
   "execution_count": 22,
   "id": "65ea3bae-c654-49c8-b79a-48a7578dfec4",
   "metadata": {},
   "outputs": [
    {
     "name": "stdout",
     "output_type": "stream",
     "text": [
      "('P1', 'Artificial grass bags ', Decimal('40.00'), Decimal('50.00'), 100)\n",
      "('P2', 'Wood panels', Decimal('15.00'), Decimal('20.00'), 250)\n",
      "('P3', 'Patio slates', Decimal('35.00'), Decimal('40.00'), 60)\n",
      "('P4', 'Sycamore trees ', Decimal('7.00'), Decimal('10.00'), 50)\n",
      "('P5', 'Trees and Shrubs', Decimal('35.00'), Decimal('50.00'), 75)\n",
      "('P6', 'Water fountain', Decimal('65.00'), Decimal('80.00'), 15)\n",
      "('P7', 'Product p7', Decimal('45.00'), Decimal('40.00'), 100)\n"
     ]
    }
   ],
   "source": [
    "cursor.execute(\"SELECT * FROM Products;\")\n",
    "results = cursor.fetchall()\n",
    "for result in results:\n",
    "    print(result)"
   ]
  },
  {
   "cell_type": "code",
   "execution_count": 23,
   "id": "76bdef36-1bc3-438c-9b3f-6ff9072789e1",
   "metadata": {},
   "outputs": [
    {
     "name": "stdout",
     "output_type": "stream",
     "text": [
      "(1, 'A SellPrice less than the BuyPrice was inserted for ProductID P7', datetime.datetime(2024, 10, 5, 3, 51, 53))\n"
     ]
    }
   ],
   "source": [
    "cursor.execute(\"SELECT * FROM Notifications;\")\n",
    "results = cursor.fetchall()\n",
    "for result in results:\n",
    "    print(result)"
   ]
  },
  {
   "cell_type": "markdown",
   "id": "68984a8c-39d9-4e5d-8c50-6cc38b90b2c9",
   "metadata": {},
   "source": [
    "## Task 2:\n",
    "\n",
    "<div class=\"alert alert-info\" style=\"margin-top: 15px\">\n",
    "<p>Create an UPDATE trigger called <strong>ProductSellPriceUpdateCheck</strong>. This trigger must check that products are not updated with a SellPrice that is less than or equal to the BuyPrice. If this occurs, add a notification to the Notifications table for the sales department so they can ensure that product prices were not updated with the incorrect values. This trigger sends a notification to the Notifications table that warns the sales department of the issue.</p>\n",
    "<p>The notification message should be in the following format: ProductID + was updated with a SellPrice of  + SellPrice + which is the same or less than the BuyPrice</p>\n",
    "</div>"
   ]
  },
  {
   "cell_type": "code",
   "execution_count": 24,
   "id": "99f7f6f7-507e-4b69-948f-4bf0ede46b43",
   "metadata": {},
   "outputs": [],
   "source": [
    "drop_query = \"\"\"DROP TRIGGER IF EXISTS ProductSellPriceUpdateCheck\"\"\"\n",
    "cursor.execute(drop_query)\n",
    "connection.commit()\n",
    "\n",
    "\n",
    "create_trigger_query = \"\"\"\n",
    "CREATE TRIGGER ProductSellPriceUpdateCheck\n",
    "AFTER UPDATE\n",
    "ON Products FOR EACH ROW\n",
    "BEGIN\n",
    "    IF New.SellPrice <= New.BuyPrice THEN\n",
    "    INSERT INTO Notifications(Notification, DateTime)\n",
    "    VALUES(CONCAT(New.ProductID, ' was updated with a SellPrice of ',  New.SellPrice, ' which is the same or less than the BuyPrice'), NOW());\n",
    "    END IF;\n",
    "END\n",
    "\"\"\"\n",
    "cursor.execute(create_trigger_query)"
   ]
  },
  {
   "cell_type": "code",
   "execution_count": 25,
   "id": "84ecb0a6-06b2-47fd-9573-1d614686a8f7",
   "metadata": {},
   "outputs": [
    {
     "name": "stdout",
     "output_type": "stream",
     "text": [
      "('P1', 'Artificial grass bags ', Decimal('40.00'), Decimal('50.00'), 100)\n",
      "('P2', 'Wood panels', Decimal('15.00'), Decimal('20.00'), 250)\n",
      "('P3', 'Patio slates', Decimal('35.00'), Decimal('40.00'), 60)\n",
      "('P4', 'Sycamore trees ', Decimal('7.00'), Decimal('10.00'), 50)\n",
      "('P5', 'Trees and Shrubs', Decimal('35.00'), Decimal('50.00'), 75)\n",
      "('P6', 'Water fountain', Decimal('65.00'), Decimal('80.00'), 15)\n",
      "('P7', 'Product p7', Decimal('45.00'), Decimal('40.00'), 100)\n"
     ]
    }
   ],
   "source": [
    "cursor.execute(\"SELECT * FROM Products;\")\n",
    "results = cursor.fetchall()\n",
    "for result in results:\n",
    "    print(result)"
   ]
  },
  {
   "cell_type": "code",
   "execution_count": 26,
   "id": "2fb47754-10b9-4edb-b965-f6960173b42a",
   "metadata": {},
   "outputs": [],
   "source": [
    "update_query = \"\"\"UPDATE Products SET SellPrice = 60 WHERE ProductID = 'P6';\"\"\"\n",
    "cursor.execute(update_query)\n",
    "connection.commit()"
   ]
  },
  {
   "cell_type": "code",
   "execution_count": 27,
   "id": "48b7a556-89eb-42aa-88db-bc5dd3b481dd",
   "metadata": {},
   "outputs": [
    {
     "name": "stdout",
     "output_type": "stream",
     "text": [
      "('P1', 'Artificial grass bags ', Decimal('40.00'), Decimal('50.00'), 100)\n",
      "('P2', 'Wood panels', Decimal('15.00'), Decimal('20.00'), 250)\n",
      "('P3', 'Patio slates', Decimal('35.00'), Decimal('40.00'), 60)\n",
      "('P4', 'Sycamore trees ', Decimal('7.00'), Decimal('10.00'), 50)\n",
      "('P5', 'Trees and Shrubs', Decimal('35.00'), Decimal('50.00'), 75)\n",
      "('P6', 'Water fountain', Decimal('65.00'), Decimal('60.00'), 15)\n",
      "('P7', 'Product p7', Decimal('45.00'), Decimal('40.00'), 100)\n"
     ]
    }
   ],
   "source": [
    "cursor.execute(\"SELECT * FROM Products;\")\n",
    "results = cursor.fetchall()\n",
    "for result in results:\n",
    "    print(result)"
   ]
  },
  {
   "cell_type": "code",
   "execution_count": 28,
   "id": "b4fe9d56-6ba5-4929-b3fa-afc4b83c38f9",
   "metadata": {},
   "outputs": [
    {
     "name": "stdout",
     "output_type": "stream",
     "text": [
      "(1, 'A SellPrice less than the BuyPrice was inserted for ProductID P7', datetime.datetime(2024, 10, 5, 3, 51, 53))\n",
      "(2, 'P6 was updated with a SellPrice of 60.00 which is the same or less than the BuyPrice', datetime.datetime(2024, 10, 5, 3, 51, 54))\n"
     ]
    }
   ],
   "source": [
    "cursor.execute(\"SELECT * FROM Notifications;\")\n",
    "results = cursor.fetchall()\n",
    "for result in results:\n",
    "    print(result)"
   ]
  },
  {
   "cell_type": "markdown",
   "id": "69322bb4-34d1-431e-806a-f5dc1feff457",
   "metadata": {},
   "source": [
    "## Task 3:\n",
    "\n",
    "<div class=\"alert alert-info\" style=\"margin-top: 15px\">\n",
    "<p>Create a DELETE trigger called <strong>NotifyProductDelete</strong>. This trigger must insert a notification in the Notifications table for the sales department after a product has been deleted from the Products table.</p>\n",
    "<p>The notification message should be in the following format: The product with a ProductID  + ProductID + was deleted</p>\n",
    "</div>"
   ]
  },
  {
   "cell_type": "code",
   "execution_count": 29,
   "id": "e4e843b0-15c6-4463-b430-88c8d0f6e942",
   "metadata": {},
   "outputs": [],
   "source": [
    "drop_query = \"\"\"DROP TRIGGER IF EXISTS NotifyProductDelete\"\"\"\n",
    "cursor.execute(drop_query)\n",
    "connection.commit()\n",
    "\n",
    "\n",
    "create_trigger_query = \"\"\"CREATE TRIGGER NotifyProductDelete\n",
    "AFTER DELETE\n",
    "ON Products FOR EACH ROW\n",
    "BEGIN\n",
    "    INSERT INTO Notifications(Notification, DateTime)\n",
    "    VALUES(CONCAT('The product with a ProductID ', OLD.ProductID,' was deleted'), NOW());\n",
    "END\n",
    "\"\"\"\n",
    "cursor.execute(create_trigger_query)"
   ]
  },
  {
   "cell_type": "code",
   "execution_count": 30,
   "id": "b0a6d3b9-90d0-4c56-b776-1092a5e1115a",
   "metadata": {},
   "outputs": [],
   "source": [
    "delete_query = \"\"\"DELETE FROM Products WHERE ProductID = 'P7';\"\"\"\n",
    "cursor.execute(delete_query)\n",
    "connection.commit()"
   ]
  },
  {
   "cell_type": "code",
   "execution_count": 31,
   "id": "e0308c5b-7f52-4db7-b5d4-7d4e1b5f5c7c",
   "metadata": {},
   "outputs": [
    {
     "name": "stdout",
     "output_type": "stream",
     "text": [
      "('P1', 'Artificial grass bags ', Decimal('40.00'), Decimal('50.00'), 100)\n",
      "('P2', 'Wood panels', Decimal('15.00'), Decimal('20.00'), 250)\n",
      "('P3', 'Patio slates', Decimal('35.00'), Decimal('40.00'), 60)\n",
      "('P4', 'Sycamore trees ', Decimal('7.00'), Decimal('10.00'), 50)\n",
      "('P5', 'Trees and Shrubs', Decimal('35.00'), Decimal('50.00'), 75)\n",
      "('P6', 'Water fountain', Decimal('65.00'), Decimal('60.00'), 15)\n"
     ]
    }
   ],
   "source": [
    "cursor.execute(\"SELECT * FROM Products;\")\n",
    "results = cursor.fetchall()\n",
    "for result in results:\n",
    "    print(result)"
   ]
  },
  {
   "cell_type": "code",
   "execution_count": 32,
   "id": "f7d3fd31-b049-4e55-ade5-c44aac903c0b",
   "metadata": {},
   "outputs": [
    {
     "name": "stdout",
     "output_type": "stream",
     "text": [
      "(1, 'A SellPrice less than the BuyPrice was inserted for ProductID P7', datetime.datetime(2024, 10, 5, 3, 51, 53))\n",
      "(2, 'P6 was updated with a SellPrice of 60.00 which is the same or less than the BuyPrice', datetime.datetime(2024, 10, 5, 3, 51, 54))\n",
      "(3, 'The product with a ProductID P7 was deleted', datetime.datetime(2024, 10, 5, 3, 51, 54))\n"
     ]
    }
   ],
   "source": [
    "cursor.execute(\"SELECT * FROM Notifications;\")\n",
    "results = cursor.fetchall()\n",
    "for result in results:\n",
    "    print(result)"
   ]
  },
  {
   "cell_type": "code",
   "execution_count": 33,
   "id": "181c4bba-736a-48c8-aa28-14e9cadf4143",
   "metadata": {},
   "outputs": [],
   "source": [
    "connection.close()"
   ]
  },
  {
   "cell_type": "code",
   "execution_count": null,
   "id": "901dceaf-f612-4323-965e-70f2ea5ff42c",
   "metadata": {},
   "outputs": [],
   "source": []
  }
 ],
 "metadata": {
  "kernelspec": {
   "display_name": "Python 3 (ipykernel)",
   "language": "python",
   "name": "python3"
  },
  "language_info": {
   "codemirror_mode": {
    "name": "ipython",
    "version": 3
   },
   "file_extension": ".py",
   "mimetype": "text/x-python",
   "name": "python",
   "nbconvert_exporter": "python",
   "pygments_lexer": "ipython3",
   "version": "3.11.7"
  }
 },
 "nbformat": 4,
 "nbformat_minor": 5
}
