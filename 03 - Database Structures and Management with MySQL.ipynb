{
 "cells": [
  {
   "cell_type": "markdown",
   "id": "a650d078-6298-4b9b-b187-e56fe70752fc",
   "metadata": {},
   "source": [
    "## Import the necessary modules"
   ]
  },
  {
   "cell_type": "code",
   "execution_count": 1,
   "id": "8310d2c5-d0a7-44bd-ac1e-57be9f99402a",
   "metadata": {},
   "outputs": [],
   "source": [
    "import os\n",
    "from mysql.connector.pooling import MySQLConnectionPool\n",
    "from mysql.connector import Error\n",
    "import logging"
   ]
  },
  {
   "cell_type": "markdown",
   "id": "b1761947-9191-4aaf-8262-e067852df0de",
   "metadata": {},
   "source": [
    "## Create a logger"
   ]
  },
  {
   "cell_type": "code",
   "execution_count": 2,
   "id": "0285f71f-f321-4f39-a276-26f90cb14fc5",
   "metadata": {},
   "outputs": [],
   "source": [
    "logger = logging.getLogger(\"[Database Structures and Management with MySQL]\")\n",
    "if os.path.exists(\"log/management-with-mysql.log\"):\n",
    "  os.remove(\"log/management-with-mysql.log\")\n",
    "logging.basicConfig(filename='log/management-with-mysql.log', encoding='utf-8', level=logging.DEBUG, format='%(asctime)s ==> %(message)s', datefmt='%m/%d/%Y %I:%M:%S')"
   ]
  },
  {
   "cell_type": "markdown",
   "id": "5ef611b0-b132-4ae6-9fa6-88800c9292b1",
   "metadata": {},
   "source": [
    "## Establish a connection using MySQlConnectionPool "
   ]
  },
  {
   "cell_type": "code",
   "execution_count": 3,
   "id": "0349d826-9ba7-403f-82bc-838f30549b95",
   "metadata": {},
   "outputs": [
    {
     "name": "stdout",
     "output_type": "stream",
     "text": [
      "The connection pool is created with a name: pool_b\n",
      "The pool size is: 4\n"
     ]
    }
   ],
   "source": [
    "dbconfig={\"user\":\"root\", \"password\":os.environ[\"MYSQL_PASSWORD\"], \"port\":33061, \"host\":\"localhost\"}\n",
    "try:\n",
    "    logger.info(\"Creating connection pools\")\n",
    "    pool = MySQLConnectionPool(pool_size=4, pool_name=\"pool_b\", **dbconfig)\n",
    "    print(f\"The connection pool is created with a name: {pool.pool_name}\")\n",
    "    logger.info(f\"The connection pool is created with a name: {pool.pool_name}\")\n",
    "    print(f\"The pool size is: {pool.pool_size}\")\n",
    "    logger.info(f\"The pool size is: {pool.pool_size}\")\n",
    "except Error as err:\n",
    "    print(f\"Error code: {err.errno}\")\n",
    "    logger.info(f\"Error code: {err.errno}\")\n",
    "    print(f\"Error message: {err.msg}\")\n",
    "    logger.info(f\"Error message: {err.msg}\")"
   ]
  },
  {
   "cell_type": "markdown",
   "id": "194a55bd-8baf-4966-9880-6ffdd19af8f6",
   "metadata": {},
   "source": [
    "## Creating a connection from the connection pool"
   ]
  },
  {
   "cell_type": "code",
   "execution_count": 4,
   "id": "4d4a9c2e-825b-4b74-86d3-085d16d08253",
   "metadata": {},
   "outputs": [
    {
     "name": "stdout",
     "output_type": "stream",
     "text": [
      "First connections established between MySQL and Python\n"
     ]
    }
   ],
   "source": [
    "first_connection = pool.get_connection()\n",
    "print(\"First connections established between MySQL and Python\")\n",
    "logger.info(\"First connections established between MySQL and Python\")"
   ]
  },
  {
   "cell_type": "markdown",
   "id": "1d1321c1-9e25-4dd1-866e-9129ce847940",
   "metadata": {},
   "source": [
    "## Create a cursor objects"
   ]
  },
  {
   "cell_type": "code",
   "execution_count": 5,
   "id": "c822cb1f-1521-4809-9daa-9603c1aa4daf",
   "metadata": {},
   "outputs": [
    {
     "name": "stdout",
     "output_type": "stream",
     "text": [
      "Creating first cursor object from the first connection\n",
      "First Cursor object created to communicate with MySQL using Python.\n"
     ]
    }
   ],
   "source": [
    "print(\"Creating first cursor object from the first connection\")\n",
    "logger.info(\"Creating first cursor object from the first connection\")\n",
    "first_cursor = first_connection.cursor(buffered=True)\n",
    "print(\"First Cursor object created to communicate with MySQL using Python.\")\n",
    "logger.info(\"First Cursor object created to communicate with MySQL using Python.\")"
   ]
  },
  {
   "cell_type": "markdown",
   "id": "d197aa7f-4a61-4b87-a75f-36cb7284886c",
   "metadata": {},
   "source": [
    "## Create Database "
   ]
  },
  {
   "cell_type": "code",
   "execution_count": 6,
   "id": "04c0b856-36ab-4c06-8ad5-e32e9e87441d",
   "metadata": {},
   "outputs": [
    {
     "name": "stdout",
     "output_type": "stream",
     "text": [
      "Creating Database.\n",
      "Database created.\n"
     ]
    }
   ],
   "source": [
    "# Get a cursor object from the cursor pool\n",
    "database_name = \"db_meta_dsm_mysql\"\n",
    "drop_database_query = f\"\"\"DROP DATABASE IF EXISTS {database_name}\"\"\"\n",
    "first_cursor.execute(drop_database_query)\n",
    "logger.info(\"Dropping Database if it already exists.\")\n",
    "\n",
    "create_database_query: str = f\"\"\"CREATE DATABASE IF NOT EXISTS {database_name}\"\"\"\n",
    "print(\"Creating Database.\")\n",
    "logger.info(\"Creating Database.\")\n",
    "first_cursor.execute(create_database_query)\n",
    "logger.info(\"Database created.\")\n",
    "print(\"Database created.\")"
   ]
  },
  {
   "cell_type": "code",
   "execution_count": 7,
   "id": "b50b68f8-ad72-4346-ad88-93cc7a267b9c",
   "metadata": {},
   "outputs": [
    {
     "name": "stdout",
     "output_type": "stream",
     "text": [
      "Database 'db_meta_dsm_mysql' was successfully created\n",
      "['CVD', 'LittleLemonDB', 'PC', 'STAFF_LOCATIONS', 'classicmodels', 'db_Exercise', 'db_hr', 'db_learner', 'db_little_lemon', 'db_meta', 'db_meta_advanced_mysql', 'db_meta_dsm_mysql']\n"
     ]
    }
   ],
   "source": [
    "# Check to see that the database was created\n",
    "list_of_databases: list = []\n",
    "first_cursor.execute(\"SHOW DATABASES;\")\n",
    "databases = first_cursor.fetchall()\n",
    "for database in databases:\n",
    "    db_name: str = database[0]\n",
    "    list_of_databases.append(db_name)\n",
    "    if db_name == database_name:\n",
    "        print(f\"Database '{database_name}' was successfully created\")\n",
    "        logger.info(f\"Database '{database_name}' was successfully created.\")\n",
    "        break\n",
    "print(list_of_databases)\n",
    "logger.info(list_of_databases)"
   ]
  },
  {
   "cell_type": "code",
   "execution_count": 8,
   "id": "71d5c5dc-e2c5-412b-917f-7ee5179c066a",
   "metadata": {},
   "outputs": [
    {
     "name": "stdout",
     "output_type": "stream",
     "text": [
      "Database 'db_meta_dsm_mysql' is set for use.\n"
     ]
    }
   ],
   "source": [
    "# Set the new created database as the database to use\n",
    "first_cursor.execute(f\"USE {database_name}\")\n",
    "print(f\"Database '{database_name}' is set for use.\")\n",
    "logger.info(f\"Database '{database_name}' is set for use.\")"
   ]
  },
  {
   "cell_type": "markdown",
   "id": "a34e4b84-be69-4bf1-8a92-6e7319134848",
   "metadata": {},
   "source": [
    "## Assert Database contains no Tables"
   ]
  },
  {
   "cell_type": "code",
   "execution_count": 9,
   "id": "aca462d1-c795-4092-ae3e-8697215fdbbf",
   "metadata": {},
   "outputs": [],
   "source": [
    "## Expect an empty list to be returned \n",
    "show_tables_query = \"\"\"SHOW TABLES;\"\"\"\n",
    "first_cursor.execute(show_tables_query)\n",
    "results = first_cursor.rowcount\n",
    "assert results == 0"
   ]
  },
  {
   "cell_type": "markdown",
   "id": "88ce950d-f34b-4b66-a3e9-8d57c49d570a",
   "metadata": {},
   "source": [
    "## Create Table"
   ]
  },
  {
   "cell_type": "code",
   "execution_count": 10,
   "id": "66094b15-7e35-4563-a10d-ae5033f69051",
   "metadata": {},
   "outputs": [
    {
     "name": "stdout",
     "output_type": "stream",
     "text": [
      "Table tbl_orders successfully created\n"
     ]
    }
   ],
   "source": [
    "create_table_query = \"\"\"CREATE TABLE IF NOT EXISTS tbl_orders (OrderID INT NOT NULL PRIMARY KEY, ClientID VARCHAR(10),  ProductID VARCHAR(10),  Quantity INT, Cost DECIMAL(6,2));\"\"\"\n",
    "first_cursor.execute(create_table_query)\n",
    "print(\"Table tbl_orders successfully created\")\n",
    "logger.info(\"Table tbl_orders successfully created\")"
   ]
  },
  {
   "cell_type": "markdown",
   "id": "3b246ef8-dd37-4773-abae-6678995cdead",
   "metadata": {},
   "source": [
    "## Populate the table with data"
   ]
  },
  {
   "cell_type": "code",
   "execution_count": 11,
   "id": "2a6f8f02-0b3c-4465-bc17-6498296b5a3a",
   "metadata": {},
   "outputs": [
    {
     "name": "stdout",
     "output_type": "stream",
     "text": [
      "Inserting records into the tbl_orders table\n"
     ]
    }
   ],
   "source": [
    "insert_into_tbl_order_query = \"\"\"INSERT INTO tbl_orders (OrderID, ClientID, ProductID , Quantity, Cost) VALUES (1, \"Cl1\", \"P1\", 10, 500), (2, \"Cl2\", \"P2\", 5, 100), (3, \"Cl3\", \"P3\", 20, 800), (4, \"Cl4\", \"P4\", 15, 150),\n",
    "(5, \"Cl3\", \"P3\", 10, 450), (6, \"Cl2\", \"P2\", 5, 800), (7, \"Cl1\", \"P4\", 22, 1200), (8, \"Cl3\", \"P1\", 15, 150), (9, \"Cl1\", \"P1\", 10, 500), (10, \"Cl2\", \"P2\", 5, 100);\"\"\"\n",
    "\n",
    "# Populate Menu table\n",
    "print(\"Inserting records into the tbl_orders table\")\n",
    "logger.info(\"Inserting records into the tbl_orders table\")\n",
    "first_cursor.execute(insert_into_tbl_order_query)\n",
    "first_connection.commit()"
   ]
  },
  {
   "cell_type": "markdown",
   "id": "b1d8382c-7fcc-4e33-96b3-3fe3eb402a18",
   "metadata": {},
   "source": [
    "## Create a function to display results"
   ]
  },
  {
   "cell_type": "code",
   "execution_count": 12,
   "id": "411c6d4c-fde2-4032-89ae-6a77bf656aef",
   "metadata": {},
   "outputs": [],
   "source": [
    "def select_all_query(table_name: str):\n",
    "    return f\"\"\"SELECT * FROM {table_name};\"\"\"\n",
    "\n",
    "\n",
    "def display_results(table_column_names: list, results: list):\n",
    "    table_columns_length = [len(x) for x in table_column_names]\n",
    "    for result in results:\n",
    "        for value in range(len(result)):\n",
    "            row_data = result[value]\n",
    "            if row_data:\n",
    "                row_data = str(row_data)\n",
    "                if len(row_data) > table_columns_length[value]:\n",
    "                    table_columns_length[value] = len(row_data)\n",
    "    dashes_plus = \"\"\n",
    "    for num in range(len(table_columns_length)):\n",
    "        dashes_plus = dashes_plus + \"+\" + '-'*(table_columns_length[num]+2)\n",
    "    dashes_plus = dashes_plus + \"+\"\n",
    "    \n",
    "    print(dashes_plus)\n",
    "    \n",
    "    table_headers = \"\"\n",
    "    for num in range(len(table_column_names)):\n",
    "        table_headers = table_headers + f\"| {table_column_names[num]:^{table_columns_length[num]}} \"\n",
    "    table_headers = table_headers + \"|\"\n",
    "    print(table_headers)\n",
    "    \n",
    "    print(dashes_plus)\n",
    "    \n",
    "    for result in results:\n",
    "        table_row = \"\"\n",
    "        for value in range(len(result)):\n",
    "            row_data = result[value]\n",
    "            if not row_data:\n",
    "                if \"Field\" in table_column_names:\n",
    "                    row_data = \" NULL\"\n",
    "                else:\n",
    "                    row_data = \"None\"\n",
    "            table_row = table_row + \"|\" + f\"{str(row_data):^{table_columns_length[value]+2}}\"\n",
    "        print(table_row + \"|\")\n",
    "    print(dashes_plus)\n",
    "\n",
    "def execute_display_query_results(query: str = \"\", table_column_names: list = [], results: list = []): \n",
    "    logger.info(f\"Executing the query: {query}\")\n",
    "    if len(query) > 2 and (table_column_names or results):\n",
    "        print(\"You can only pass in the query alone or the table_column_names and results list\")\n",
    "        assert False\n",
    "    if query and not table_column_names and not results:\n",
    "        first_cursor.execute(query)\n",
    "        results = first_cursor.fetchall()    \n",
    "        table_column_names = first_cursor.column_names\n",
    "    \n",
    "    display_results(table_column_names, results)"
   ]
  },
  {
   "cell_type": "code",
   "execution_count": 13,
   "id": "23a947df-f1ba-49c1-b7f4-a8ece456e89d",
   "metadata": {},
   "outputs": [
    {
     "name": "stdout",
     "output_type": "stream",
     "text": [
      "+-----------+--------------+------+-----+---------+-------+\n",
      "|   Field   |     Type     | Null | Key | Default | Extra |\n",
      "+-----------+--------------+------+-----+---------+-------+\n",
      "|  OrderID  |     int      |  NO  | PRI |   NULL  |  NULL |\n",
      "| ClientID  | varchar(10)  | YES  | NULL|   NULL  |  NULL |\n",
      "| ProductID | varchar(10)  | YES  | NULL|   NULL  |  NULL |\n",
      "| Quantity  |     int      | YES  | NULL|   NULL  |  NULL |\n",
      "|   Cost    | decimal(6,2) | YES  | NULL|   NULL  |  NULL |\n",
      "+-----------+--------------+------+-----+---------+-------+\n"
     ]
    }
   ],
   "source": [
    "## Show columns for table tbl_orders\n",
    "show_query = \"SHOW COLUMNS FROM tbl_orders;\"\n",
    "execute_display_query_results(show_query)"
   ]
  },
  {
   "cell_type": "code",
   "execution_count": 14,
   "id": "aee2a78a-8e4e-4599-925a-8fff00cea0ea",
   "metadata": {},
   "outputs": [
    {
     "name": "stdout",
     "output_type": "stream",
     "text": [
      "+---------+----------+-----------+----------+---------+\n",
      "| OrderID | ClientID | ProductID | Quantity |  Cost   |\n",
      "+---------+----------+-----------+----------+---------+\n",
      "|    1    |   Cl1    |    P1     |    10    | 500.00  |\n",
      "|    2    |   Cl2    |    P2     |    5     | 100.00  |\n",
      "|    3    |   Cl3    |    P3     |    20    | 800.00  |\n",
      "|    4    |   Cl4    |    P4     |    15    | 150.00  |\n",
      "|    5    |   Cl3    |    P3     |    10    | 450.00  |\n",
      "|    6    |   Cl2    |    P2     |    5     | 800.00  |\n",
      "|    7    |   Cl1    |    P4     |    22    | 1200.00 |\n",
      "|    8    |   Cl3    |    P1     |    15    | 150.00  |\n",
      "|    9    |   Cl1    |    P1     |    10    | 500.00  |\n",
      "|   10    |   Cl2    |    P2     |    5     | 100.00  |\n",
      "+---------+----------+-----------+----------+---------+\n"
     ]
    }
   ],
   "source": [
    "## Show all the records in the table\n",
    "execute_display_query_results(select_all_query(\"tbl_orders\"))"
   ]
  },
  {
   "cell_type": "markdown",
   "id": "ad64cfcf-7daf-483b-b499-532a26b0b1c9",
   "metadata": {},
   "source": [
    "# Filtering Task"
   ]
  },
  {
   "cell_type": "markdown",
   "id": "f39b9b6c-8a05-4320-b46d-f62e84066595",
   "metadata": {},
   "source": [
    "## Task 1\n",
    "Write a SQL statement to print all records of orders where the cost is $250 or less."
   ]
  },
  {
   "cell_type": "code",
   "execution_count": 15,
   "id": "52fd154c-0765-45a9-a462-74d4048641d1",
   "metadata": {},
   "outputs": [
    {
     "name": "stdout",
     "output_type": "stream",
     "text": [
      "+---------+----------+-----------+----------+--------+\n",
      "| OrderID | ClientID | ProductID | Quantity |  Cost  |\n",
      "+---------+----------+-----------+----------+--------+\n",
      "|    2    |   Cl2    |    P2     |    5     | 100.00 |\n",
      "|    4    |   Cl4    |    P4     |    15    | 150.00 |\n",
      "|    8    |   Cl3    |    P1     |    15    | 150.00 |\n",
      "|   10    |   Cl2    |    P2     |    5     | 100.00 |\n",
      "+---------+----------+-----------+----------+--------+\n"
     ]
    }
   ],
   "source": [
    "select_query = \"SELECT * FROM tbl_orders WHERE Cost <= 250;\"\n",
    "execute_display_query_results(select_query)"
   ]
  },
  {
   "cell_type": "markdown",
   "id": "6ae88d89-10e0-4d6b-9c06-f8063aac634e",
   "metadata": {},
   "source": [
    "## Task 2\n",
    "Write a SQL statement to print all records of orders where the cost is between \\\\$50 and \\\\$750."
   ]
  },
  {
   "cell_type": "code",
   "execution_count": 16,
   "id": "9f617bd9-7379-4354-a074-5fcbe41e9acd",
   "metadata": {},
   "outputs": [
    {
     "name": "stdout",
     "output_type": "stream",
     "text": [
      "+---------+----------+-----------+----------+--------+\n",
      "| OrderID | ClientID | ProductID | Quantity |  Cost  |\n",
      "+---------+----------+-----------+----------+--------+\n",
      "|    1    |   Cl1    |    P1     |    10    | 500.00 |\n",
      "|    2    |   Cl2    |    P2     |    5     | 100.00 |\n",
      "|    4    |   Cl4    |    P4     |    15    | 150.00 |\n",
      "|    5    |   Cl3    |    P3     |    10    | 450.00 |\n",
      "|    8    |   Cl3    |    P1     |    15    | 150.00 |\n",
      "|    9    |   Cl1    |    P1     |    10    | 500.00 |\n",
      "|   10    |   Cl2    |    P2     |    5     | 100.00 |\n",
      "+---------+----------+-----------+----------+--------+\n"
     ]
    }
   ],
   "source": [
    "select_query = \"SELECT * FROM tbl_orders WHERE Cost BETWEEN 50 and 750;\"\n",
    "execute_display_query_results(select_query)"
   ]
  },
  {
   "cell_type": "markdown",
   "id": "409e881a-0b74-4be1-afd3-bd864b29a7cb",
   "metadata": {},
   "source": [
    "## Task 3\n",
    "Write a SQL statement to print all records of orders that have been placed by the client with the id of Cl3 and where the cost of the order is more than $100."
   ]
  },
  {
   "cell_type": "code",
   "execution_count": 17,
   "id": "4b1f2a87-168a-4d53-b5aa-0e4e3bed830d",
   "metadata": {},
   "outputs": [
    {
     "name": "stdout",
     "output_type": "stream",
     "text": [
      "+---------+----------+-----------+----------+--------+\n",
      "| OrderID | ClientID | ProductID | Quantity |  Cost  |\n",
      "+---------+----------+-----------+----------+--------+\n",
      "|    3    |   Cl3    |    P3     |    20    | 800.00 |\n",
      "|    5    |   Cl3    |    P3     |    10    | 450.00 |\n",
      "|    8    |   Cl3    |    P1     |    15    | 150.00 |\n",
      "+---------+----------+-----------+----------+--------+\n"
     ]
    }
   ],
   "source": [
    "select_query = \"SELECT * FROM tbl_orders WHERE ClientID = 'Cl3' AND Cost > 100;\"\n",
    "execute_display_query_results(select_query)"
   ]
  },
  {
   "cell_type": "markdown",
   "id": "89bd1932-62da-4bce-a1c9-33e86a251d15",
   "metadata": {},
   "source": [
    "## Task 4\n",
    "Write a SQL statement to print all records of orders that have a product id of p1 or p2 and the order quantity is more than 2. "
   ]
  },
  {
   "cell_type": "code",
   "execution_count": 18,
   "id": "ade674a1-8c5a-4bca-9a4f-b06b84b5fecf",
   "metadata": {},
   "outputs": [
    {
     "name": "stdout",
     "output_type": "stream",
     "text": [
      "+---------+----------+-----------+----------+--------+\n",
      "| OrderID | ClientID | ProductID | Quantity |  Cost  |\n",
      "+---------+----------+-----------+----------+--------+\n",
      "|    1    |   Cl1    |    P1     |    10    | 500.00 |\n",
      "|    2    |   Cl2    |    P2     |    5     | 100.00 |\n",
      "|    6    |   Cl2    |    P2     |    5     | 800.00 |\n",
      "|    8    |   Cl3    |    P1     |    15    | 150.00 |\n",
      "|    9    |   Cl1    |    P1     |    10    | 500.00 |\n",
      "|   10    |   Cl2    |    P2     |    5     | 100.00 |\n",
      "+---------+----------+-----------+----------+--------+\n"
     ]
    }
   ],
   "source": [
    "select_query = \"SELECT * FROM tbl_orders WHERE ProductID IN ('P1', 'P2') AND Quantity > 2;\"\n",
    "execute_display_query_results(select_query)"
   ]
  },
  {
   "cell_type": "markdown",
   "id": "efe60fc4-3dbe-4b40-ba8e-b8cbdf86e5c1",
   "metadata": {},
   "source": [
    "# Create Additional Tables"
   ]
  },
  {
   "cell_type": "code",
   "execution_count": 19,
   "id": "c53b1338-a5ba-4aca-8105-654a62237d2d",
   "metadata": {},
   "outputs": [
    {
     "name": "stdout",
     "output_type": "stream",
     "text": [
      "Table tbl_customers successfully created\n",
      "Table tbl_bookings successfully created\n",
      "Table tbl_courses successfully created\n"
     ]
    }
   ],
   "source": [
    "## Create additional tables\n",
    "create_table_customers_query = \"\"\"CREATE TABLE IF NOT EXISTS tbl_customers(CustomerID INT NOT NULL PRIMARY KEY, FullName VARCHAR(100) NOT NULL, PhoneNumber INT NOT NULL UNIQUE);\"\"\"\n",
    "\n",
    "create_table_bookings_query = \"\"\"CREATE TABLE IF NOT EXISTS tbl_bookings (BookingID INT NOT NULL PRIMARY KEY,  BookingDate DATE NOT NULL, TableNumber INT NOT NULL, NumberOfGuests INT NOT NULL CHECK (NumberOfGuests <= 8), \n",
    "CustomerID INT NOT NULL, FOREIGN KEY (CustomerID) REFERENCES tbl_customers (CustomerID) ON DELETE CASCADE ON UPDATE CASCADE);\"\"\"\n",
    "\n",
    "create_table_courses_query = \"\"\"CREATE TABLE IF NOT EXISTS tbl_courses (CourseName VARCHAR(255) PRIMARY KEY, Cost Decimal(4,2));\"\"\"\n",
    "\n",
    "\n",
    "first_cursor.execute(create_table_customers_query)\n",
    "print(\"Table tbl_customers successfully created\")\n",
    "logger.info(\"Table tbl_customers successfully created\")\n",
    "\n",
    "first_cursor.execute(create_table_bookings_query)\n",
    "print(\"Table tbl_bookings successfully created\")\n",
    "logger.info(\"Table tbl_bookings successfully created\")\n",
    "\n",
    "first_cursor.execute(create_table_courses_query)\n",
    "print(\"Table tbl_courses successfully created\")\n",
    "logger.info(\"Table tbl_courses successfully created\")"
   ]
  },
  {
   "cell_type": "code",
   "execution_count": 20,
   "id": "6dfda026-5111-407e-8254-89a0e7ca73e6",
   "metadata": {},
   "outputs": [],
   "source": [
    "## Populate the tables with Data\n",
    "insert_into_tbl_customers = \"\"\"INSERT INTO tbl_customers(CustomerID, FullName, PhoneNumber) VALUES \n",
    "(1, \"Vanessa McCarthy\", 0757536378), (2, \"Marcos Romero\", 0757536379), (3, \"Hiroki Yamane\", 0757536376), (4, \"Anna Iversen\", 0757536375), (5, \"Diana Pinto\", 0757536374),     \n",
    "(6, \"Altay Ayhan\", 0757636378), (7, \"Jane Murphy\", 0753536379), (8, \"Laurina Delgado\", 0754536376), (9, \"Mike Edwards\", 0757236375), (10, \"Karl Pederson\", 0757936374);\"\"\"\n",
    "logger.info(\"Inserting records into the tbl_customers table\")\n",
    "first_cursor.execute(insert_into_tbl_customers)\n",
    "first_connection.commit()\n",
    "\n",
    "insert_into_tbl_bookings = \"\"\"INSERT INTO tbl_bookings (BookingID, BookingDate, TableNumber, NumberOfGuests, CustomerID) VALUES (10, '2021-11-10', 7, 5, 1), (11, '2021-11-10', 5, 2, 2),  \n",
    "(12, '2021-11-10', 3, 2, 4), (13, '2021-11-11', 2, 5, 5),  (14, '2021-11-11', 5, 2, 6), (15, '2021-11-11', 3, 2, 7), (16, '2021-11-11', 3, 5, 1),  (17, '2021-11-12', 5, 2, 2),  \n",
    "(18, '2021-11-12', 3, 2, 4), (19, '2021-11-13', 7, 5, 6),  (20, '2021-11-14', 5, 2, 3), (21, '2021-11-14', 3, 2, 4);\"\"\"\n",
    "logger.info(\"Inserting records into the tbl_bookings table\")\n",
    "first_cursor.execute(insert_into_tbl_bookings)\n",
    "first_connection.commit()\n",
    "\n",
    "insert_into_tbl_courses = \"\"\"INSERT INTO tbl_courses (CourseName, Cost) VALUES (\"Greek salad\", 15.50), (\"Bean soup\", 12.25), (\"Pizza\", 15.00), \n",
    "(\"Carbonara\", 12.50), (\"Kabasa\", 17.00), (\"Shawarma\", 11.30);\"\"\"\n",
    "logger.info(\"Inserting records into the tbl_courses table\")\n",
    "first_cursor.execute(insert_into_tbl_courses)\n",
    "first_connection.commit()"
   ]
  },
  {
   "cell_type": "code",
   "execution_count": 21,
   "id": "ff5cb9af-2f37-426f-a696-ab345e6574b0",
   "metadata": {},
   "outputs": [
    {
     "name": "stdout",
     "output_type": "stream",
     "text": [
      "+------------+------------------+-------------+\n",
      "| CustomerID |     FullName     | PhoneNumber |\n",
      "+------------+------------------+-------------+\n",
      "|     1      | Vanessa McCarthy |  757536378  |\n",
      "|     2      |  Marcos Romero   |  757536379  |\n",
      "|     3      |  Hiroki Yamane   |  757536376  |\n",
      "|     4      |   Anna Iversen   |  757536375  |\n",
      "|     5      |   Diana Pinto    |  757536374  |\n",
      "|     6      |   Altay Ayhan    |  757636378  |\n",
      "|     7      |   Jane Murphy    |  753536379  |\n",
      "|     8      | Laurina Delgado  |  754536376  |\n",
      "|     9      |   Mike Edwards   |  757236375  |\n",
      "|     10     |  Karl Pederson   |  757936374  |\n",
      "+------------+------------------+-------------+\n",
      "\n",
      "\n",
      "+-----------+-------------+-------------+----------------+------------+\n",
      "| BookingID | BookingDate | TableNumber | NumberOfGuests | CustomerID |\n",
      "+-----------+-------------+-------------+----------------+------------+\n",
      "|    10     | 2021-11-10  |      7      |       5        |     1      |\n",
      "|    11     | 2021-11-10  |      5      |       2        |     2      |\n",
      "|    12     | 2021-11-10  |      3      |       2        |     4      |\n",
      "|    13     | 2021-11-11  |      2      |       5        |     5      |\n",
      "|    14     | 2021-11-11  |      5      |       2        |     6      |\n",
      "|    15     | 2021-11-11  |      3      |       2        |     7      |\n",
      "|    16     | 2021-11-11  |      3      |       5        |     1      |\n",
      "|    17     | 2021-11-12  |      5      |       2        |     2      |\n",
      "|    18     | 2021-11-12  |      3      |       2        |     4      |\n",
      "|    19     | 2021-11-13  |      7      |       5        |     6      |\n",
      "|    20     | 2021-11-14  |      5      |       2        |     3      |\n",
      "|    21     | 2021-11-14  |      3      |       2        |     4      |\n",
      "+-----------+-------------+-------------+----------------+------------+\n",
      "\n",
      "\n",
      "+-------------+-------+\n",
      "| CourseName  | Cost  |\n",
      "+-------------+-------+\n",
      "|  Bean soup  | 12.25 |\n",
      "|  Carbonara  | 12.50 |\n",
      "| Greek salad | 15.50 |\n",
      "|   Kabasa    | 17.00 |\n",
      "|    Pizza    | 15.00 |\n",
      "|  Shawarma   | 11.30 |\n",
      "+-------------+-------+\n"
     ]
    }
   ],
   "source": [
    "execute_display_query_results(select_all_query(\"tbl_customers\"))\n",
    "print(\"\\n\")\n",
    "execute_display_query_results(select_all_query(\"tbl_bookings\"))\n",
    "print(\"\\n\")\n",
    "execute_display_query_results(select_all_query(\"tbl_courses\"))"
   ]
  },
  {
   "cell_type": "markdown",
   "id": "d72b16e5-cbbb-471b-93f0-ad051c4ae9ae",
   "metadata": {},
   "source": [
    "# Joins"
   ]
  },
  {
   "cell_type": "markdown",
   "id": "28f3df8e-33bb-4a1b-98e4-d8d3b9cd10d6",
   "metadata": {},
   "source": [
    "## Task 1\n",
    "Write an INNER JOIN SQL statement to combine the full name and the phone number of each customer from the Customers table with the related booking date and 'number of guests' from the Bookings table. "
   ]
  },
  {
   "cell_type": "code",
   "execution_count": 22,
   "id": "21c8c433-92a8-4aa1-8f44-6493185d69f5",
   "metadata": {},
   "outputs": [
    {
     "name": "stdout",
     "output_type": "stream",
     "text": [
      "+------------------+-------------+-------------+----------------+\n",
      "|     FullName     | PhoneNumber | BookingDate | NumberOfGuests |\n",
      "+------------------+-------------+-------------+----------------+\n",
      "| Vanessa McCarthy |  757536378  | 2021-11-10  |       5        |\n",
      "| Vanessa McCarthy |  757536378  | 2021-11-11  |       5        |\n",
      "|  Marcos Romero   |  757536379  | 2021-11-10  |       2        |\n",
      "|  Marcos Romero   |  757536379  | 2021-11-12  |       2        |\n",
      "|  Hiroki Yamane   |  757536376  | 2021-11-14  |       2        |\n",
      "|   Anna Iversen   |  757536375  | 2021-11-10  |       2        |\n",
      "|   Anna Iversen   |  757536375  | 2021-11-12  |       2        |\n",
      "|   Anna Iversen   |  757536375  | 2021-11-14  |       2        |\n",
      "|   Diana Pinto    |  757536374  | 2021-11-11  |       5        |\n",
      "|   Altay Ayhan    |  757636378  | 2021-11-11  |       2        |\n",
      "|   Altay Ayhan    |  757636378  | 2021-11-13  |       5        |\n",
      "|   Jane Murphy    |  753536379  | 2021-11-11  |       2        |\n",
      "+------------------+-------------+-------------+----------------+\n"
     ]
    }
   ],
   "source": [
    "inner_join_query = \"\"\"SELECT FullName, PhoneNumber, BookingDate, NumberOfGuests FROM tbl_customers\n",
    "INNER JOIN tbl_bookings ON tbl_customers.CustomerID = tbl_bookings.CustomerID;\"\"\"\n",
    "execute_display_query_results(inner_join_query)"
   ]
  },
  {
   "cell_type": "markdown",
   "id": "b808b6e3-7369-444d-bac9-9f490ddab83b",
   "metadata": {},
   "source": [
    "## Task 2\n",
    "Write a LEFT JOIN SQL statement to view the customer id from Customers table and the related booking id from the Bookings table."
   ]
  },
  {
   "cell_type": "code",
   "execution_count": 23,
   "id": "1d8aa1e1-45e9-43d0-8ddb-27c64d1cc5f9",
   "metadata": {},
   "outputs": [
    {
     "name": "stdout",
     "output_type": "stream",
     "text": [
      "+------------+-----------+\n",
      "| CustomerID | BookingID |\n",
      "+------------+-----------+\n",
      "|     7      |    15     |\n",
      "|     8      |   None    |\n",
      "|     9      |   None    |\n",
      "|     5      |    13     |\n",
      "|     4      |    12     |\n",
      "|     4      |    18     |\n",
      "|     4      |    21     |\n",
      "|     3      |    20     |\n",
      "|     1      |    10     |\n",
      "|     1      |    16     |\n",
      "|     2      |    11     |\n",
      "|     2      |    17     |\n",
      "|     6      |    14     |\n",
      "|     6      |    19     |\n",
      "|     10     |   None    |\n",
      "+------------+-----------+\n"
     ]
    }
   ],
   "source": [
    "left_join_query = \"\"\"SELECT tbl_customers.CustomerID, BookingID FROM tbl_customers\n",
    "LEFT JOIN tbl_bookings ON tbl_customers.CustomerID = tbl_bookings.CustomerID;\"\"\"\n",
    "execute_display_query_results(left_join_query)"
   ]
  },
  {
   "cell_type": "markdown",
   "id": "a6ef1a6c-e5da-4bd1-a59d-f2e85fe4cde0",
   "metadata": {},
   "source": [
    "# Group By"
   ]
  },
  {
   "cell_type": "code",
   "execution_count": 24,
   "id": "323d40c1-4779-420d-a840-b1c11dd6c344",
   "metadata": {},
   "outputs": [
    {
     "name": "stdout",
     "output_type": "stream",
     "text": [
      "Table orders_tbl successfully created\n"
     ]
    }
   ],
   "source": [
    "create_new_order_table = \"\"\"CREATE TABLE IF NOT EXISTS orders_tbl(OrderID INT, Department VARCHAR(100), OrderDate DATE, OrderQty INT, OrderTotal INT, PRIMARY KEY(OrderID));\"\"\"\n",
    "first_cursor.execute(create_new_order_table)\n",
    "print(\"Table orders_tbl successfully created\")\n",
    "logger.info(\"Table orders_tbl successfully created\")"
   ]
  },
  {
   "cell_type": "code",
   "execution_count": 25,
   "id": "31a443fa-1ef3-45de-93af-64ad1680abdf",
   "metadata": {},
   "outputs": [],
   "source": [
    "insert_into_new_table = \"\"\"INSERT INTO orders_tbl VALUES(1,'Lawn Care','2022-05-05',12,500),(2,'Decking','2022-05-22',150,1450),(3,'Compost and Stones','2022-05-27',20,780),(4,'Trees and Shrubs','2022-06-01',15,400),(5,'Garden Decor','2022-06-10',2,1250),\n",
    "(6,'Lawn Care','2022-06-10',12,500),(7,'Decking','2022-06-25',150,1450),(8,'Compost and Stones','2022-05-29',20,780),(9,'Trees and Shrubs','2022-06-10',15,400),(10,'Garden Decor','2022-06-10',2,1250),(11,'Lawn Care','2022-06-25',10,400), \n",
    "(12,'Decking','2022-06-25',100,1400),(13,'Compost and Stones','2022-05-30',15,700),(14,'Trees and Shrubs','2022-06-15',10,300),(15,'Garden Decor','2022-06-11',2,1250),(16,'Lawn Care','2022-06-10',12,500),\n",
    "(17,'Decking','2022-06-25',150,1450),(18,'Trees and Shrubs','2022-06-10',15,400),(19,'Lawn Care','2022-06-10',12,500),(20,'Decking','2022-06-25',150,1450),(21,'Decking','2022-06-25',150,1450);\"\"\"\n",
    "\n",
    "\n",
    "logger.info(\"Inserting records into the orders_tbl table\")\n",
    "first_cursor.execute(insert_into_new_table)\n",
    "first_connection.commit()"
   ]
  },
  {
   "cell_type": "code",
   "execution_count": 26,
   "id": "f07e5d56-8342-404f-9df3-03009f81834c",
   "metadata": {},
   "outputs": [
    {
     "name": "stdout",
     "output_type": "stream",
     "text": [
      "+---------+--------------------+------------+----------+------------+\n",
      "| OrderID |     Department     | OrderDate  | OrderQty | OrderTotal |\n",
      "+---------+--------------------+------------+----------+------------+\n",
      "|    1    |     Lawn Care      | 2022-05-05 |    12    |    500     |\n",
      "|    2    |      Decking       | 2022-05-22 |   150    |    1450    |\n",
      "|    3    | Compost and Stones | 2022-05-27 |    20    |    780     |\n",
      "|    4    |  Trees and Shrubs  | 2022-06-01 |    15    |    400     |\n",
      "|    5    |    Garden Decor    | 2022-06-10 |    2     |    1250    |\n",
      "|    6    |     Lawn Care      | 2022-06-10 |    12    |    500     |\n",
      "|    7    |      Decking       | 2022-06-25 |   150    |    1450    |\n",
      "|    8    | Compost and Stones | 2022-05-29 |    20    |    780     |\n",
      "|    9    |  Trees and Shrubs  | 2022-06-10 |    15    |    400     |\n",
      "|   10    |    Garden Decor    | 2022-06-10 |    2     |    1250    |\n",
      "|   11    |     Lawn Care      | 2022-06-25 |    10    |    400     |\n",
      "|   12    |      Decking       | 2022-06-25 |   100    |    1400    |\n",
      "|   13    | Compost and Stones | 2022-05-30 |    15    |    700     |\n",
      "|   14    |  Trees and Shrubs  | 2022-06-15 |    10    |    300     |\n",
      "|   15    |    Garden Decor    | 2022-06-11 |    2     |    1250    |\n",
      "|   16    |     Lawn Care      | 2022-06-10 |    12    |    500     |\n",
      "|   17    |      Decking       | 2022-06-25 |   150    |    1450    |\n",
      "|   18    |  Trees and Shrubs  | 2022-06-10 |    15    |    400     |\n",
      "|   19    |     Lawn Care      | 2022-06-10 |    12    |    500     |\n",
      "|   20    |      Decking       | 2022-06-25 |   150    |    1450    |\n",
      "|   21    |      Decking       | 2022-06-25 |   150    |    1450    |\n",
      "+---------+--------------------+------------+----------+------------+\n"
     ]
    }
   ],
   "source": [
    "execute_display_query_results(select_all_query(\"orders_tbl\"))"
   ]
  },
  {
   "cell_type": "markdown",
   "id": "697e914d-07f8-4d2e-9bce-d190f5d480fb",
   "metadata": {},
   "source": [
    "## Task 1\n",
    "Write a SQL SELECT statement to group all records that have the same order date."
   ]
  },
  {
   "cell_type": "code",
   "execution_count": 27,
   "id": "26ddfe37-f43b-4f75-b75e-b69be41a9012",
   "metadata": {},
   "outputs": [
    {
     "name": "stdout",
     "output_type": "stream",
     "text": [
      "+------------+\n",
      "| OrderDate  |\n",
      "+------------+\n",
      "| 2022-05-05 |\n",
      "| 2022-05-22 |\n",
      "| 2022-05-27 |\n",
      "| 2022-06-01 |\n",
      "| 2022-06-10 |\n",
      "| 2022-06-25 |\n",
      "| 2022-05-29 |\n",
      "| 2022-05-30 |\n",
      "| 2022-06-15 |\n",
      "| 2022-06-11 |\n",
      "+------------+\n"
     ]
    }
   ],
   "source": [
    "select_query = \"SELECT OrderDate FROM orders_tbl GROUP BY OrderDate\"\n",
    "execute_display_query_results(select_query)"
   ]
  },
  {
   "cell_type": "markdown",
   "id": "946a2300-19e4-44f3-a19d-deaf8530a007",
   "metadata": {},
   "source": [
    "## Task 2\n",
    "Write a SQL SELECT statement to retrieve the number of orders placed on the same day."
   ]
  },
  {
   "cell_type": "code",
   "execution_count": 28,
   "id": "6c32afdf-4503-4af1-9c3c-eefebdadaaef",
   "metadata": {},
   "outputs": [
    {
     "name": "stdout",
     "output_type": "stream",
     "text": [
      "+------------+---------------+\n",
      "| OrderDate  | OrderQuantity |\n",
      "+------------+---------------+\n",
      "| 2022-05-05 |       1       |\n",
      "| 2022-05-22 |       1       |\n",
      "| 2022-05-27 |       1       |\n",
      "| 2022-06-01 |       1       |\n",
      "| 2022-06-10 |       7       |\n",
      "| 2022-06-25 |       6       |\n",
      "| 2022-05-29 |       1       |\n",
      "| 2022-05-30 |       1       |\n",
      "| 2022-06-15 |       1       |\n",
      "| 2022-06-11 |       1       |\n",
      "+------------+---------------+\n"
     ]
    }
   ],
   "source": [
    "select_query = \"SELECT OrderDate, Count(OrderQty) AS OrderQuantity FROM orders_tbl GROUP BY OrderDate\"\n",
    "execute_display_query_results(select_query)"
   ]
  },
  {
   "cell_type": "markdown",
   "id": "aaf8e67b-f5a9-47d7-83f2-d79ae18acce7",
   "metadata": {},
   "source": [
    "## Task 3\n",
    "Write a SQL SELECT statement to retrieve the total order quantities placed by each department."
   ]
  },
  {
   "cell_type": "code",
   "execution_count": 29,
   "id": "a678bba5-b25d-44be-a36c-bfc4ae7c1d81",
   "metadata": {},
   "outputs": [
    {
     "name": "stdout",
     "output_type": "stream",
     "text": [
      "+--------------------+---------------+\n",
      "|     Department     | OrderQuantity |\n",
      "+--------------------+---------------+\n",
      "|     Lawn Care      |      58       |\n",
      "|      Decking       |      850      |\n",
      "| Compost and Stones |      55       |\n",
      "|  Trees and Shrubs  |      55       |\n",
      "|    Garden Decor    |       6       |\n",
      "+--------------------+---------------+\n"
     ]
    }
   ],
   "source": [
    "select_query = \"SELECT Department, Sum(OrderQty) AS OrderQuantity FROM orders_tbl GROUP BY Department\"\n",
    "execute_display_query_results(select_query)"
   ]
  },
  {
   "cell_type": "markdown",
   "id": "015db161-0d40-416f-a280-897d4a4661da",
   "metadata": {},
   "source": [
    "## Task 4\n",
    "Write a SQL SELECT statement to retrieve the number of orders placed on the same day between the following dates: 1st June 2022 and 30th June 2022."
   ]
  },
  {
   "cell_type": "code",
   "execution_count": 30,
   "id": "7870d14e-9455-4ff0-a0cd-f1accd37bad7",
   "metadata": {},
   "outputs": [
    {
     "name": "stdout",
     "output_type": "stream",
     "text": [
      "+------------+---------------+\n",
      "| OrderDate  | OrderQuantity |\n",
      "+------------+---------------+\n",
      "| 2022-06-01 |       1       |\n",
      "| 2022-06-10 |       7       |\n",
      "| 2022-06-25 |       6       |\n",
      "| 2022-06-15 |       1       |\n",
      "| 2022-06-11 |       1       |\n",
      "+------------+---------------+\n"
     ]
    }
   ],
   "source": [
    "select_query = \"SELECT OrderDate, Count(OrderQty) AS OrderQuantity FROM orders_tbl WHERE OrderDate BETWEEN '2022-06-01' AND '2022-06-30' GROUP BY OrderDate\"\n",
    "execute_display_query_results(select_query)"
   ]
  },
  {
   "cell_type": "markdown",
   "id": "052b0257-baa0-4536-81b6-18e3b55d6f0c",
   "metadata": {},
   "source": [
    "# Replace Into\n",
    "How the REPLACE INTO statement works\n",
    "The REPLACE statement checks whether the intended data record's unique key value already exists in the table before inserting it as a new record or updating it. \n",
    "\n",
    "The REPLACE INTO statement attempts to insert a new record or modify an existing record. In both cases, it checks whether the unique key of the proposed record already exists in the table. Suppose a value of NO or FALSE is returned. In that case, the REPLACE statement inserts the record similar to the INSERT INTO statement.\n",
    "\n",
    "Suppose the key value already exists in the table (in other words, a duplicate key). In that case, the REPLACE statement deletes the existing record of data and replaces it with a new record of data. This happens regardless of whether you use the first or the second REPLACE statement syntax.\n",
    "\n",
    "```sql\n",
    "REPLACE INTO table_name (column1name, column2name, ...) \n",
    "VALUES (value1, value2, ...);\n",
    "```\n",
    "\n",
    "\n",
    "```sql\n",
    "REPLACE INTO table_name SET column1name = value, column2name = value, ... ;\n",
    "```"
   ]
  },
  {
   "cell_type": "code",
   "execution_count": 31,
   "id": "931c4093-4fbc-48a5-899a-910be033821f",
   "metadata": {},
   "outputs": [
    {
     "name": "stdout",
     "output_type": "stream",
     "text": [
      "+---------+----------+-----------+----------+---------+\n",
      "| OrderID | ClientID | ProductID | Quantity |  Cost   |\n",
      "+---------+----------+-----------+----------+---------+\n",
      "|    1    |   Cl1    |    P1     |    10    | 500.00  |\n",
      "|    2    |   Cl2    |    P2     |    5     | 100.00  |\n",
      "|    3    |   Cl3    |    P3     |    20    | 800.00  |\n",
      "|    4    |   Cl4    |    P4     |    15    | 150.00  |\n",
      "|    5    |   Cl3    |    P3     |    10    | 450.00  |\n",
      "|    6    |   Cl2    |    P2     |    5     | 800.00  |\n",
      "|    7    |   Cl1    |    P4     |    22    | 1200.00 |\n",
      "|    8    |   Cl3    |    P1     |    15    | 150.00  |\n",
      "|    9    |   Cl1    |    P1     |    10    | 500.00  |\n",
      "|   10    |   Cl2    |    P2     |    5     | 100.00  |\n",
      "+---------+----------+-----------+----------+---------+\n"
     ]
    }
   ],
   "source": [
    "select_query = \"SELECT * FROM tbl_orders\"\n",
    "execute_display_query_results(select_query)"
   ]
  },
  {
   "cell_type": "markdown",
   "id": "3a1f3362-4ba6-43d7-846a-6b3f1c8c7925",
   "metadata": {},
   "source": [
    "## Task 1\n",
    "Write a SQL REPLACE statement that inserts two new orders with the following details:\n",
    "\n",
    "Order 11 data:\n",
    "- OrderID = 11, \n",
    "- ClientID = \"Cl2\", \n",
    "- ProductID = \"P3\", \n",
    "- Quantity = 50, \n",
    "- Cost = 5000\n",
    "\n",
    "Order 12 data:\n",
    "- OrderID = 12, \n",
    "- ClientID = \"Cl2\", \n",
    "- ProductID = \"P2\", \n",
    "- Quantity = 25, \n",
    "- Cost = 1000"
   ]
  },
  {
   "cell_type": "code",
   "execution_count": 32,
   "id": "1b1bc481-14ff-407f-bfe5-ed018a605d70",
   "metadata": {},
   "outputs": [],
   "source": [
    "replace_query = \"\"\"REPLACE INTO tbl_orders (OrderID, ClientID, ProductID, Quantity, Cost) \n",
    "VALUES (11, 'Cl2', 'P3', 50, 5000), (12, 'Cl2', 'P2', 25, 1000);\"\"\"\n",
    "\n",
    "first_cursor.execute(replace_query)\n",
    "first_connection.commit()"
   ]
  },
  {
   "cell_type": "code",
   "execution_count": 33,
   "id": "2e89491e-e988-40cb-83fc-1f700298db80",
   "metadata": {},
   "outputs": [
    {
     "name": "stdout",
     "output_type": "stream",
     "text": [
      "+---------+----------+-----------+----------+---------+\n",
      "| OrderID | ClientID | ProductID | Quantity |  Cost   |\n",
      "+---------+----------+-----------+----------+---------+\n",
      "|    1    |   Cl1    |    P1     |    10    | 500.00  |\n",
      "|    2    |   Cl2    |    P2     |    5     | 100.00  |\n",
      "|    3    |   Cl3    |    P3     |    20    | 800.00  |\n",
      "|    4    |   Cl4    |    P4     |    15    | 150.00  |\n",
      "|    5    |   Cl3    |    P3     |    10    | 450.00  |\n",
      "|    6    |   Cl2    |    P2     |    5     | 800.00  |\n",
      "|    7    |   Cl1    |    P4     |    22    | 1200.00 |\n",
      "|    8    |   Cl3    |    P1     |    15    | 150.00  |\n",
      "|    9    |   Cl1    |    P1     |    10    | 500.00  |\n",
      "|   10    |   Cl2    |    P2     |    5     | 100.00  |\n",
      "|   11    |   Cl2    |    P3     |    50    | 5000.00 |\n",
      "|   12    |   Cl2    |    P2     |    25    | 1000.00 |\n",
      "+---------+----------+-----------+----------+---------+\n"
     ]
    }
   ],
   "source": [
    "# select_query = \"SELECT * FROM tbl_orders\"\n",
    "execute_display_query_results(select_all_query(\"tbl_orders\"))"
   ]
  },
  {
   "cell_type": "markdown",
   "id": "1ff297be-8beb-4480-89fe-ba707f5029fe",
   "metadata": {},
   "source": [
    "## Task 2\n",
    "It was noticed that the cost of order number 11 is \\\\\\$5000. This is a mistake. The order must cost \\\\$500. You must help them to change it to \\\\$500 by writing a relevant REPLACE statement. "
   ]
  },
  {
   "cell_type": "code",
   "execution_count": 34,
   "id": "255ad013-02c2-4227-927f-38f6a537e08d",
   "metadata": {},
   "outputs": [],
   "source": [
    "replace_query_set = \"\"\"REPLACE INTO tbl_orders SET OrderID = 11, ClientID = 'Cl2', ProductID = 'P3', Quantity = 50, Cost = 500;\"\"\"\n",
    "first_cursor.execute(replace_query_set)\n",
    "first_connection.commit()"
   ]
  },
  {
   "cell_type": "code",
   "execution_count": 35,
   "id": "5d88e9f0-c038-4a39-964a-0152b0c5f543",
   "metadata": {},
   "outputs": [
    {
     "name": "stdout",
     "output_type": "stream",
     "text": [
      "+---------+----------+-----------+----------+---------+\n",
      "| OrderID | ClientID | ProductID | Quantity |  Cost   |\n",
      "+---------+----------+-----------+----------+---------+\n",
      "|    1    |   Cl1    |    P1     |    10    | 500.00  |\n",
      "|    2    |   Cl2    |    P2     |    5     | 100.00  |\n",
      "|    3    |   Cl3    |    P3     |    20    | 800.00  |\n",
      "|    4    |   Cl4    |    P4     |    15    | 150.00  |\n",
      "|    5    |   Cl3    |    P3     |    10    | 450.00  |\n",
      "|    6    |   Cl2    |    P2     |    5     | 800.00  |\n",
      "|    7    |   Cl1    |    P4     |    22    | 1200.00 |\n",
      "|    8    |   Cl3    |    P1     |    15    | 150.00  |\n",
      "|    9    |   Cl1    |    P1     |    10    | 500.00  |\n",
      "|   10    |   Cl2    |    P2     |    5     | 100.00  |\n",
      "|   11    |   Cl2    |    P3     |    50    | 500.00  |\n",
      "|   12    |   Cl2    |    P2     |    25    | 1000.00 |\n",
      "+---------+----------+-----------+----------+---------+\n"
     ]
    }
   ],
   "source": [
    "execute_display_query_results(select_all_query(\"tbl_orders\"))"
   ]
  },
  {
   "cell_type": "markdown",
   "id": "686b3605-30b1-4331-9531-58f1b94a39a1",
   "metadata": {},
   "source": [
    "# Subqueries"
   ]
  },
  {
   "cell_type": "code",
   "execution_count": 36,
   "id": "ea436416-1eb4-4906-a769-7283896d6a5c",
   "metadata": {},
   "outputs": [],
   "source": [
    "create_menu_items_table = \"\"\"CREATE TABLE IF NOT EXISTS tbl_menuitems (ItemID INT, Name VARCHAR(200), Type VARCHAR(100), Price INT, PRIMARY KEY (ItemID));\"\"\"\n",
    "first_cursor.execute(create_menu_items_table)\n",
    "\n",
    "create_menu_table = \"\"\"CREATE TABLE IF NOT EXISTS tbl_menu (MenuID INT, ItemID INT, Cuisine VARCHAR(100), PRIMARY KEY (MenuID, ItemID));\"\"\"\n",
    "first_cursor.execute(create_menu_table)\n",
    "\n",
    "create_bookings_table = \"\"\"CREATE TABLE IF NOT EXISTS bookings_tbl (BookingID INT, TableNo INT, GuestFirstName VARCHAR(100), GuestLastName VARCHAR(100), BookingSlot TIME, EmployeeID INT, PRIMARY KEY (BookingID));\"\"\"\n",
    "first_cursor.execute(create_bookings_table)\n",
    "\n",
    "create_table_orders_table = \"\"\"CREATE TABLE IF NOT EXISTS tbl_tableorders (OrderID INT, TableNo INT, MenuID INT, BookingID INT, BillAmount INT, Quantity INT, PRIMARY KEY (OrderID,TableNo));\"\"\"\n",
    "first_cursor.execute(create_table_orders_table)"
   ]
  },
  {
   "cell_type": "code",
   "execution_count": 37,
   "id": "31d70771-620a-402c-8c06-f0ad3571d3c0",
   "metadata": {},
   "outputs": [],
   "source": [
    "insert_into_menuitems_query = \"\"\"INSERT INTO tbl_menuitems VALUES\n",
    "(1,'Olives','Starters', 5), (2,'Flatbread','Starters', 5),(3, 'Minestrone', 'Starters', 8), (4, 'Tomato bread','Starters', 8), (5, 'Falafel', 'Starters', 7), \n",
    "(6, 'Hummus', 'Starters', 5), (7, 'Greek salad', 'Main Courses', 15), (8, 'Bean soup', 'Main Courses', 12), (9, 'Pizza', 'Main Courses', 15), \n",
    "(10,'Greek yoghurt','Desserts', 7), (11, 'Ice cream', 'Desserts', 6),(12, 'Cheesecake', 'Desserts', 4), \n",
    "(13, 'Athens White wine', 'Drinks', 25), (14, 'Corfu Red Wine', 'Drinks', 30), (15, 'Turkish Coffee', 'Drinks', 10), \n",
    "(16, 'Turkish Coffee', 'Drinks', 10), (17, 'Kabasa', 'Main Courses', 17);\"\"\"\n",
    "first_cursor.execute(insert_into_menuitems_query)\n",
    "first_connection.commit()\n",
    "\n",
    "\n",
    "insert_into_menu_query = \"\"\"INSERT INTO tbl_menu VALUES(1, 1, 'Greek'), (1, 7, 'Greek'), (1, 10, 'Greek'), (1, 13, 'Greek'), (2, 3, 'Italian'), (2, 9, 'Italian'), (2, 12, 'Italian'), \n",
    "(2, 15, 'Italian'), (3, 5, 'Turkish'), (3, 17, 'Turkish'), (3, 11, 'Turkish'), (3, 16, 'Turkish');\"\"\"\n",
    "first_cursor.execute(insert_into_menu_query)\n",
    "first_connection.commit()\n",
    "\n",
    "\n",
    "insert_into_bookings_query = \"\"\"INSERT INTO bookings_tbl VALUES(1,12,'Anna','Iversen','19:00:00',1),  \n",
    "(2, 12, 'Joakim', 'Iversen', '19:00:00', 1), (3, 19, 'Vanessa', 'McCarthy', '15:00:00', 3), \n",
    "(4, 15, 'Marcos', 'Romero', '17:30:00', 4), (5, 5, 'Hiroki', 'Yamane', '18:30:00', 2),\n",
    "(6, 8, 'Diana', 'Pinto', '20:00:00', 5);\"\"\"\n",
    "first_cursor.execute(insert_into_bookings_query)\n",
    "first_connection.commit()\n",
    "\n",
    "\n",
    "insert_into_tableorders_query = \"\"\"INSERT INTO tbl_tableorders VALUES(1, 12, 1, 1, 2, 86), (2, 19, 2, 2, 1, 37), (3, 15, 2, 3, 1, 37), (4, 5, 3, 4, 1, 40), (5, 8, 1, 5, 1, 43);\"\"\"\n",
    "first_cursor.execute(insert_into_tableorders_query)\n",
    "first_connection.commit()"
   ]
  },
  {
   "cell_type": "code",
   "execution_count": 38,
   "id": "cd711ef5-ed53-4833-8593-bb821ca63116",
   "metadata": {},
   "outputs": [
    {
     "name": "stdout",
     "output_type": "stream",
     "text": [
      "+--------+-------------------+--------------+-------+\n",
      "| ItemID |       Name        |     Type     | Price |\n",
      "+--------+-------------------+--------------+-------+\n",
      "|   1    |      Olives       |   Starters   |   5   |\n",
      "|   2    |     Flatbread     |   Starters   |   5   |\n",
      "|   3    |    Minestrone     |   Starters   |   8   |\n",
      "|   4    |   Tomato bread    |   Starters   |   8   |\n",
      "|   5    |      Falafel      |   Starters   |   7   |\n",
      "|   6    |      Hummus       |   Starters   |   5   |\n",
      "|   7    |    Greek salad    | Main Courses |  15   |\n",
      "|   8    |     Bean soup     | Main Courses |  12   |\n",
      "|   9    |       Pizza       | Main Courses |  15   |\n",
      "|   10   |   Greek yoghurt   |   Desserts   |   7   |\n",
      "|   11   |     Ice cream     |   Desserts   |   6   |\n",
      "|   12   |    Cheesecake     |   Desserts   |   4   |\n",
      "|   13   | Athens White wine |    Drinks    |  25   |\n",
      "|   14   |  Corfu Red Wine   |    Drinks    |  30   |\n",
      "|   15   |  Turkish Coffee   |    Drinks    |  10   |\n",
      "|   16   |  Turkish Coffee   |    Drinks    |  10   |\n",
      "|   17   |      Kabasa       | Main Courses |  17   |\n",
      "+--------+-------------------+--------------+-------+\n"
     ]
    }
   ],
   "source": [
    "execute_display_query_results(select_all_query(\"tbl_menuitems\"))"
   ]
  },
  {
   "cell_type": "code",
   "execution_count": 39,
   "id": "95030639-914d-4b56-9f7b-5868360b4abd",
   "metadata": {},
   "outputs": [
    {
     "name": "stdout",
     "output_type": "stream",
     "text": [
      "+--------+--------+---------+\n",
      "| MenuID | ItemID | Cuisine |\n",
      "+--------+--------+---------+\n",
      "|   1    |   1    |  Greek  |\n",
      "|   1    |   7    |  Greek  |\n",
      "|   1    |   10   |  Greek  |\n",
      "|   1    |   13   |  Greek  |\n",
      "|   2    |   3    | Italian |\n",
      "|   2    |   9    | Italian |\n",
      "|   2    |   12   | Italian |\n",
      "|   2    |   15   | Italian |\n",
      "|   3    |   5    | Turkish |\n",
      "|   3    |   11   | Turkish |\n",
      "|   3    |   16   | Turkish |\n",
      "|   3    |   17   | Turkish |\n",
      "+--------+--------+---------+\n"
     ]
    }
   ],
   "source": [
    "execute_display_query_results(select_all_query(\"tbl_menu\"))"
   ]
  },
  {
   "cell_type": "code",
   "execution_count": 40,
   "id": "8dd843ee-1812-4787-9f23-9bde7e45d6be",
   "metadata": {},
   "outputs": [
    {
     "name": "stdout",
     "output_type": "stream",
     "text": [
      "+-----------+---------+----------------+---------------+-------------+------------+\n",
      "| BookingID | TableNo | GuestFirstName | GuestLastName | BookingSlot | EmployeeID |\n",
      "+-----------+---------+----------------+---------------+-------------+------------+\n",
      "|     1     |   12    |      Anna      |    Iversen    |  19:00:00   |     1      |\n",
      "|     2     |   12    |     Joakim     |    Iversen    |  19:00:00   |     1      |\n",
      "|     3     |   19    |    Vanessa     |   McCarthy    |  15:00:00   |     3      |\n",
      "|     4     |   15    |     Marcos     |    Romero     |  17:30:00   |     4      |\n",
      "|     5     |    5    |     Hiroki     |    Yamane     |  18:30:00   |     2      |\n",
      "|     6     |    8    |     Diana      |     Pinto     |  20:00:00   |     5      |\n",
      "+-----------+---------+----------------+---------------+-------------+------------+\n"
     ]
    }
   ],
   "source": [
    "execute_display_query_results(select_all_query(\"bookings_tbl\"))"
   ]
  },
  {
   "cell_type": "code",
   "execution_count": 41,
   "id": "175e1f01-4f77-4ff3-a0af-3399b2852e78",
   "metadata": {},
   "outputs": [
    {
     "name": "stdout",
     "output_type": "stream",
     "text": [
      "+---------+---------+--------+-----------+------------+----------+\n",
      "| OrderID | TableNo | MenuID | BookingID | BillAmount | Quantity |\n",
      "+---------+---------+--------+-----------+------------+----------+\n",
      "|    1    |   12    |   1    |     1     |     2      |    86    |\n",
      "|    2    |   19    |   2    |     2     |     1      |    37    |\n",
      "|    3    |   15    |   2    |     3     |     1      |    37    |\n",
      "|    4    |    5    |   3    |     4     |     1      |    40    |\n",
      "|    5    |    8    |   1    |     5     |     1      |    43    |\n",
      "+---------+---------+--------+-----------+------------+----------+\n"
     ]
    }
   ],
   "source": [
    "execute_display_query_results(select_all_query(\"tbl_tableorders\"))"
   ]
  },
  {
   "cell_type": "markdown",
   "id": "29f69d4f-b9eb-4f97-bedd-5b71fed511a8",
   "metadata": {},
   "source": [
    "## Task 1\n",
    "Write a SQL SELECT query to find all bookings that are due after the booking of the guest ‘Vanessa McCarthy’."
   ]
  },
  {
   "cell_type": "code",
   "execution_count": 42,
   "id": "6cc9e52a-c5f1-4af9-b197-833b9815c0a5",
   "metadata": {},
   "outputs": [
    {
     "name": "stdout",
     "output_type": "stream",
     "text": [
      "+-----------+---------+----------------+---------------+-------------+------------+\n",
      "| BookingID | TableNo | GuestFirstName | GuestLastName | BookingSlot | EmployeeID |\n",
      "+-----------+---------+----------------+---------------+-------------+------------+\n",
      "|     1     |   12    |      Anna      |    Iversen    |  19:00:00   |     1      |\n",
      "|     2     |   12    |     Joakim     |    Iversen    |  19:00:00   |     1      |\n",
      "|     4     |   15    |     Marcos     |    Romero     |  17:30:00   |     4      |\n",
      "|     5     |    5    |     Hiroki     |    Yamane     |  18:30:00   |     2      |\n",
      "|     6     |    8    |     Diana      |     Pinto     |  20:00:00   |     5      |\n",
      "+-----------+---------+----------------+---------------+-------------+------------+\n"
     ]
    }
   ],
   "source": [
    "select_query = \"\"\"SELECT * FROM bookings_tbl WHERE BookingSlot > ANY (SELECT BookingSlot FROM bookings_tbl WHERE GuestFirstName = 'Vanessa' AND GuestLastName = 'McCarthy');\"\"\"\n",
    "execute_display_query_results(select_query)"
   ]
  },
  {
   "cell_type": "markdown",
   "id": "1b1a4dca-3ae6-4fe9-8325-1eaae755c90d",
   "metadata": {},
   "source": [
    "## Task 2\n",
    "Write a SQL SELECT query to find the menu items that are more expensive than all the 'Starters' and 'Desserts' menu item types."
   ]
  },
  {
   "cell_type": "code",
   "execution_count": 43,
   "id": "6568a840-6c95-48e9-8de4-1daa02396f15",
   "metadata": {},
   "outputs": [
    {
     "name": "stdout",
     "output_type": "stream",
     "text": [
      "+--------+-------------------+--------------+-------+\n",
      "| ItemID |       Name        |     Type     | Price |\n",
      "+--------+-------------------+--------------+-------+\n",
      "|   7    |    Greek salad    | Main Courses |  15   |\n",
      "|   8    |     Bean soup     | Main Courses |  12   |\n",
      "|   9    |       Pizza       | Main Courses |  15   |\n",
      "|   13   | Athens White wine |    Drinks    |  25   |\n",
      "|   14   |  Corfu Red Wine   |    Drinks    |  30   |\n",
      "|   15   |  Turkish Coffee   |    Drinks    |  10   |\n",
      "|   16   |  Turkish Coffee   |    Drinks    |  10   |\n",
      "|   17   |      Kabasa       | Main Courses |  17   |\n",
      "+--------+-------------------+--------------+-------+\n"
     ]
    }
   ],
   "source": [
    "select_query = \"\"\"SELECT * FROM tbl_menuitems WHERE Price > ALL (SELECT Price FROM tbl_menuitems WHERE Type IN ('Starters', 'Desserts'));\"\"\"\n",
    "execute_display_query_results(select_query)"
   ]
  },
  {
   "cell_type": "markdown",
   "id": "8728c191-f5ba-4381-abab-b8f459be9793",
   "metadata": {},
   "source": [
    "## Task 3\n",
    "Write a SQL SELECT query to find the menu items that costs the same as the starter menu items that are Italian cuisine."
   ]
  },
  {
   "cell_type": "code",
   "execution_count": 44,
   "id": "4422a5a7-32e3-4ac6-bc78-641712303b43",
   "metadata": {},
   "outputs": [
    {
     "name": "stdout",
     "output_type": "stream",
     "text": [
      "+--------+--------------+----------+-------+\n",
      "| ItemID |     Name     |   Type   | Price |\n",
      "+--------+--------------+----------+-------+\n",
      "|   3    |  Minestrone  | Starters |   8   |\n",
      "|   4    | Tomato bread | Starters |   8   |\n",
      "+--------+--------------+----------+-------+\n"
     ]
    }
   ],
   "source": [
    "select_query = \"\"\"SELECT * FROM tbl_menuitems WHERE Price = (SELECT Price FROM tbl_menuitems INNER JOIN tbl_menu ON tbl_menuitems.ItemID = tbl_menu.ItemID WHERE tbl_menu.Cuisine = 'Italian' AND tbl_menuitems.Type = 'Starters');\"\"\"\n",
    "execute_display_query_results(select_query)"
   ]
  },
  {
   "cell_type": "markdown",
   "id": "d2a0e8be-a6ae-4ccb-85e3-059af494fb7e",
   "metadata": {},
   "source": [
    "## Task 4\n",
    "Write a SQL SELECT query to find the menu items that were not ordered by the guests who placed bookings."
   ]
  },
  {
   "cell_type": "code",
   "execution_count": 45,
   "id": "c428b261-1231-4449-8176-6eaa6b6f22a7",
   "metadata": {},
   "outputs": [
    {
     "name": "stdout",
     "output_type": "stream",
     "text": [
      "+--------+----------------+--------------+-------+\n",
      "| ItemID |      Name      |     Type     | Price |\n",
      "+--------+----------------+--------------+-------+\n",
      "|   2    |   Flatbread    |   Starters   |   5   |\n",
      "|   4    |  Tomato bread  |   Starters   |   8   |\n",
      "|   6    |     Hummus     |   Starters   |   5   |\n",
      "|   8    |   Bean soup    | Main Courses |  12   |\n",
      "|   14   | Corfu Red Wine |    Drinks    |  30   |\n",
      "+--------+----------------+--------------+-------+\n"
     ]
    }
   ],
   "source": [
    "select_query = \"\"\"SELECT * FROM tbl_menuitems WHERE ItemID != ALL (SELECT ItemID FROM tbl_menu INNER JOIN tbl_tableorders ON tbl_menu.MenuID = tbl_tableorders.MenuID);\"\"\"\n",
    "execute_display_query_results(select_query)"
   ]
  },
  {
   "cell_type": "markdown",
   "id": "55be002c-e92a-46de-8eb9-b33028f2c2f9",
   "metadata": {},
   "source": [
    "# Views\n",
    "Virtual tables used for accessing and manipulatin data with MySQL"
   ]
  },
  {
   "cell_type": "code",
   "execution_count": 46,
   "id": "5ca5b6d0-9d6e-4c9c-8935-c9b258933396",
   "metadata": {},
   "outputs": [
    {
     "name": "stdout",
     "output_type": "stream",
     "text": [
      "+---------+----------+-----------+----------+---------+\n",
      "| OrderID | ClientID | ProductID | Quantity |  Cost   |\n",
      "+---------+----------+-----------+----------+---------+\n",
      "|    1    |   Cl1    |    P1     |    10    | 500.00  |\n",
      "|    2    |   Cl2    |    P2     |    5     | 100.00  |\n",
      "|    3    |   Cl3    |    P3     |    20    | 800.00  |\n",
      "|    4    |   Cl4    |    P4     |    15    | 150.00  |\n",
      "|    5    |   Cl3    |    P3     |    10    | 450.00  |\n",
      "|    6    |   Cl2    |    P2     |    5     | 800.00  |\n",
      "|    7    |   Cl1    |    P4     |    22    | 1200.00 |\n",
      "|    8    |   Cl3    |    P1     |    15    | 150.00  |\n",
      "|    9    |   Cl1    |    P1     |    10    | 500.00  |\n",
      "|   10    |   Cl2    |    P2     |    5     | 100.00  |\n",
      "|   11    |   Cl2    |    P3     |    50    | 500.00  |\n",
      "|   12    |   Cl2    |    P2     |    25    | 1000.00 |\n",
      "+---------+----------+-----------+----------+---------+\n"
     ]
    }
   ],
   "source": [
    "execute_display_query_results(select_all_query(\"tbl_orders\"))"
   ]
  },
  {
   "cell_type": "markdown",
   "id": "cb2abcbe-1f4f-4447-bef3-0f57aa09cf43",
   "metadata": {},
   "source": [
    "## Task 1\n",
    "Write a SQL statement to create the OrdersView Virtual table based on the Orders table. The table must include the following columns: Order ID, Quantity and Cost. Once you have executed the query, select all data from the OrdersView table. "
   ]
  },
  {
   "cell_type": "code",
   "execution_count": 47,
   "id": "c4599e51-176b-41b1-b9f9-2c56538a381a",
   "metadata": {},
   "outputs": [],
   "source": [
    "create_view_query = \"\"\"CREATE VIEW OrdersView AS SELECT OrderID, Quantity, Cost FROM tbl_orders;\"\"\"\n",
    "first_cursor.execute(create_view_query)"
   ]
  },
  {
   "cell_type": "code",
   "execution_count": 48,
   "id": "f9bb2b46-b4c3-4c15-9e83-9927544db6ea",
   "metadata": {},
   "outputs": [
    {
     "name": "stdout",
     "output_type": "stream",
     "text": [
      "+---------+----------+---------+\n",
      "| OrderID | Quantity |  Cost   |\n",
      "+---------+----------+---------+\n",
      "|    1    |    10    | 500.00  |\n",
      "|    2    |    5     | 100.00  |\n",
      "|    3    |    20    | 800.00  |\n",
      "|    4    |    15    | 150.00  |\n",
      "|    5    |    10    | 450.00  |\n",
      "|    6    |    5     | 800.00  |\n",
      "|    7    |    22    | 1200.00 |\n",
      "|    8    |    15    | 150.00  |\n",
      "|    9    |    10    | 500.00  |\n",
      "|   10    |    5     | 100.00  |\n",
      "|   11    |    50    | 500.00  |\n",
      "|   12    |    25    | 1000.00 |\n",
      "+---------+----------+---------+\n"
     ]
    }
   ],
   "source": [
    "select_view_query = \"\"\"SELECT * FROM OrdersView;\"\"\"\n",
    "execute_display_query_results(select_view_query)"
   ]
  },
  {
   "cell_type": "markdown",
   "id": "2b909ee6-5d4d-410c-8adc-cfedf0b9f936",
   "metadata": {},
   "source": [
    "## Task 2\n",
    "Write a SQL statement that utilizes the ‘OrdersView’ virtual table to Update the base Orders table. In the UPDATE TABLE statement, change the cost to 200 where the order id equals 2. Once you have executed the query, select all data from the OrdersView table. "
   ]
  },
  {
   "cell_type": "code",
   "execution_count": 49,
   "id": "72d40c94-8dc3-4e06-84fa-ec14aaa19a6d",
   "metadata": {},
   "outputs": [],
   "source": [
    "update_orders_view_query = \"\"\"UPDATE OrdersView SET Cost = 200 WHERE OrderID = 2;\"\"\"\n",
    "first_cursor.execute(update_orders_view_query)"
   ]
  },
  {
   "cell_type": "code",
   "execution_count": 50,
   "id": "3bbdd520-a107-4eb8-a98e-1cd027eb5a70",
   "metadata": {},
   "outputs": [
    {
     "name": "stdout",
     "output_type": "stream",
     "text": [
      "+---------+----------+---------+\n",
      "| OrderID | Quantity |  Cost   |\n",
      "+---------+----------+---------+\n",
      "|    1    |    10    | 500.00  |\n",
      "|    2    |    5     | 200.00  |\n",
      "|    3    |    20    | 800.00  |\n",
      "|    4    |    15    | 150.00  |\n",
      "|    5    |    10    | 450.00  |\n",
      "|    6    |    5     | 800.00  |\n",
      "|    7    |    22    | 1200.00 |\n",
      "|    8    |    15    | 150.00  |\n",
      "|    9    |    10    | 500.00  |\n",
      "|   10    |    5     | 100.00  |\n",
      "|   11    |    50    | 500.00  |\n",
      "|   12    |    25    | 1000.00 |\n",
      "+---------+----------+---------+\n"
     ]
    }
   ],
   "source": [
    "select_view_query = \"\"\"SELECT * FROM OrdersView;\"\"\"\n",
    "execute_display_query_results(select_view_query)"
   ]
  },
  {
   "cell_type": "code",
   "execution_count": 51,
   "id": "5757381e-3fcd-4a90-8f09-94c54ded51c7",
   "metadata": {},
   "outputs": [
    {
     "name": "stdout",
     "output_type": "stream",
     "text": [
      "+---------+----------+-----------+----------+---------+\n",
      "| OrderID | ClientID | ProductID | Quantity |  Cost   |\n",
      "+---------+----------+-----------+----------+---------+\n",
      "|    1    |   Cl1    |    P1     |    10    | 500.00  |\n",
      "|    2    |   Cl2    |    P2     |    5     | 200.00  |\n",
      "|    3    |   Cl3    |    P3     |    20    | 800.00  |\n",
      "|    4    |   Cl4    |    P4     |    15    | 150.00  |\n",
      "|    5    |   Cl3    |    P3     |    10    | 450.00  |\n",
      "|    6    |   Cl2    |    P2     |    5     | 800.00  |\n",
      "|    7    |   Cl1    |    P4     |    22    | 1200.00 |\n",
      "|    8    |   Cl3    |    P1     |    15    | 150.00  |\n",
      "|    9    |   Cl1    |    P1     |    10    | 500.00  |\n",
      "|   10    |   Cl2    |    P2     |    5     | 100.00  |\n",
      "|   11    |   Cl2    |    P3     |    50    | 500.00  |\n",
      "|   12    |   Cl2    |    P2     |    25    | 1000.00 |\n",
      "+---------+----------+-----------+----------+---------+\n"
     ]
    }
   ],
   "source": [
    "execute_display_query_results(select_all_query(\"tbl_orders\"))"
   ]
  },
  {
   "cell_type": "markdown",
   "id": "39b22b13-0c34-4c8b-961b-87adea4de921",
   "metadata": {},
   "source": [
    "## Task 3\n",
    "Write a SQL statement that changes the name of the ‘OrdersView’ virtual table to ClientsOrdersView."
   ]
  },
  {
   "cell_type": "code",
   "execution_count": 52,
   "id": "df66ce8c-c82f-44dc-9052-274c91683d10",
   "metadata": {},
   "outputs": [],
   "source": [
    "rename_view_query = \"\"\"RENAME TABLE OrdersView TO ClientsOrdersView;\"\"\"\n",
    "first_cursor.execute(rename_view_query)"
   ]
  },
  {
   "cell_type": "code",
   "execution_count": 53,
   "id": "f99b1b7b-e7e4-482f-a0aa-73b84ecd0822",
   "metadata": {},
   "outputs": [
    {
     "name": "stdout",
     "output_type": "stream",
     "text": [
      "+---------+----------+---------+\n",
      "| OrderID | Quantity |  Cost   |\n",
      "+---------+----------+---------+\n",
      "|    1    |    10    | 500.00  |\n",
      "|    2    |    5     | 200.00  |\n",
      "|    3    |    20    | 800.00  |\n",
      "|    4    |    15    | 150.00  |\n",
      "|    5    |    10    | 450.00  |\n",
      "|    6    |    5     | 800.00  |\n",
      "|    7    |    22    | 1200.00 |\n",
      "|    8    |    15    | 150.00  |\n",
      "|    9    |    10    | 500.00  |\n",
      "|   10    |    5     | 100.00  |\n",
      "|   11    |    50    | 500.00  |\n",
      "|   12    |    25    | 1000.00 |\n",
      "+---------+----------+---------+\n"
     ]
    }
   ],
   "source": [
    "select_view_query = \"\"\"SELECT * FROM ClientsOrdersView;\"\"\"\n",
    "execute_display_query_results(select_view_query)"
   ]
  },
  {
   "cell_type": "markdown",
   "id": "794685e8-9cc4-48f7-b5d3-c8f9d116a21c",
   "metadata": {},
   "source": [
    "## Task 4\n",
    "Write a SQL statement to delete the Orders virtual table."
   ]
  },
  {
   "cell_type": "code",
   "execution_count": 54,
   "id": "5a59c6fb-9bd9-451f-953a-0b7136787a78",
   "metadata": {},
   "outputs": [],
   "source": [
    "drop_view_query = \"\"\"DROP VIEW ClientsOrdersView;\"\"\"\n",
    "first_cursor.execute(drop_view_query)"
   ]
  },
  {
   "cell_type": "markdown",
   "id": "e9fe1636-e17a-4e44-8f38-5f6d165b27e3",
   "metadata": {},
   "source": [
    "# Procedures"
   ]
  },
  {
   "cell_type": "markdown",
   "id": "ee622a71-7db9-43c4-b6e3-3ec0a7e55acc",
   "metadata": {},
   "source": [
    "## Task 1 \n",
    "Write a SQL statement that creates a stored procedure called 'GetOrdersData' which retrieves all data from the Orders table."
   ]
  },
  {
   "cell_type": "code",
   "execution_count": 55,
   "id": "28f0990c-868e-41a6-a7b1-7dc3ddff5f83",
   "metadata": {},
   "outputs": [],
   "source": [
    "create_procedure_query = \"\"\"CREATE PROCEDURE GetOrdersData() SELECT * FROM tbl_orders;\"\"\"\n",
    "first_cursor.execute(create_procedure_query)"
   ]
  },
  {
   "cell_type": "code",
   "execution_count": 56,
   "id": "cc2d88b7-a830-42ef-82fc-32ea02695b98",
   "metadata": {},
   "outputs": [
    {
     "name": "stdout",
     "output_type": "stream",
     "text": [
      "+---------+----------+-----------+----------+---------+\n",
      "| OrderID | ClientID | ProductID | Quantity |  Cost   |\n",
      "+---------+----------+-----------+----------+---------+\n",
      "|    1    |   Cl1    |    P1     |    10    | 500.00  |\n",
      "|    2    |   Cl2    |    P2     |    5     | 200.00  |\n",
      "|    3    |   Cl3    |    P3     |    20    | 800.00  |\n",
      "|    4    |   Cl4    |    P4     |    15    | 150.00  |\n",
      "|    5    |   Cl3    |    P3     |    10    | 450.00  |\n",
      "|    6    |   Cl2    |    P2     |    5     | 800.00  |\n",
      "|    7    |   Cl1    |    P4     |    22    | 1200.00 |\n",
      "|    8    |   Cl3    |    P1     |    15    | 150.00  |\n",
      "|    9    |   Cl1    |    P1     |    10    | 500.00  |\n",
      "|   10    |   Cl2    |    P2     |    5     | 100.00  |\n",
      "|   11    |   Cl2    |    P3     |    50    | 500.00  |\n",
      "|   12    |   Cl2    |    P2     |    25    | 1000.00 |\n",
      "+---------+----------+-----------+----------+---------+\n"
     ]
    }
   ],
   "source": [
    "first_cursor.callproc(\"GetOrdersData\")\n",
    "\n",
    "results=next(first_cursor.stored_results())\n",
    "table_column_names = results.column_names\n",
    "dataset = results.fetchall()\n",
    "\n",
    "execute_display_query_results(table_column_names=table_column_names, results=dataset)"
   ]
  },
  {
   "cell_type": "code",
   "execution_count": null,
   "id": "57f6dca2-1b6d-41dc-b1d4-653353996a60",
   "metadata": {},
   "outputs": [],
   "source": []
  },
  {
   "cell_type": "code",
   "execution_count": null,
   "id": "ff4c669a-90f0-4515-a899-d66ac4c5c5a0",
   "metadata": {},
   "outputs": [],
   "source": []
  },
  {
   "cell_type": "code",
   "execution_count": null,
   "id": "9883c41a-2747-420b-8dc5-b79618f3f008",
   "metadata": {},
   "outputs": [],
   "source": []
  },
  {
   "cell_type": "markdown",
   "id": "879ae0e3-b579-4fee-b8e6-28d993579916",
   "metadata": {},
   "source": [
    "# Project"
   ]
  },
  {
   "cell_type": "markdown",
   "id": "9efef3a7-81ea-4622-bed4-162264d791cd",
   "metadata": {},
   "source": [
    "## Task 1: Filter data using the WHERE clause and logical operators.  \n",
    "Create SQL statement to print all records from tbl_bookings table for the following bookings dates using the BETWEEN operator: 2021-11-11, 2021-11-12 and 2021-11-13. "
   ]
  },
  {
   "cell_type": "code",
   "execution_count": 57,
   "id": "4022e1b8-a23f-41c9-ab46-2adec461a531",
   "metadata": {},
   "outputs": [
    {
     "name": "stdout",
     "output_type": "stream",
     "text": [
      "+-----------+-------------+-------------+----------------+------------+\n",
      "| BookingID | BookingDate | TableNumber | NumberOfGuests | CustomerID |\n",
      "+-----------+-------------+-------------+----------------+------------+\n",
      "|    13     | 2021-11-11  |      2      |       5        |     5      |\n",
      "|    14     | 2021-11-11  |      5      |       2        |     6      |\n",
      "|    15     | 2021-11-11  |      3      |       2        |     7      |\n",
      "|    16     | 2021-11-11  |      3      |       5        |     1      |\n",
      "|    17     | 2021-11-12  |      5      |       2        |     2      |\n",
      "|    18     | 2021-11-12  |      3      |       2        |     4      |\n",
      "|    19     | 2021-11-13  |      7      |       5        |     6      |\n",
      "+-----------+-------------+-------------+----------------+------------+\n"
     ]
    }
   ],
   "source": [
    "select_query = \"\"\"SELECT * FROM tbl_bookings WHERE BookingDate BETWEEN '2021-11-11' AND '2021-11-13'\"\"\"\n",
    "execute_display_query_results(select_query)"
   ]
  },
  {
   "cell_type": "markdown",
   "id": "93265566-a1a3-4250-9be7-bf94918a97ca",
   "metadata": {},
   "source": [
    "## Task 2: Create a JOIN query.  \n",
    "Create a JOIN SQL statement on the Customers and Bookings tables. The statement must print the customers full names and related bookings IDs from the date 2021-11-11."
   ]
  },
  {
   "cell_type": "code",
   "execution_count": 58,
   "id": "70ec4d0e-43df-46c1-b0c0-3890a7d560ff",
   "metadata": {},
   "outputs": [
    {
     "name": "stdout",
     "output_type": "stream",
     "text": [
      "+------------------+-----------+----------------+\n",
      "|     FullName     | BookingID | NumberOfGuests |\n",
      "+------------------+-----------+----------------+\n",
      "|   Diana Pinto    |    13     |       5        |\n",
      "|   Altay Ayhan    |    14     |       2        |\n",
      "|   Jane Murphy    |    15     |       2        |\n",
      "| Vanessa McCarthy |    16     |       5        |\n",
      "+------------------+-----------+----------------+\n"
     ]
    }
   ],
   "source": [
    "join_query = \"\"\"SELECT FullName, BookingID, NumberOfGuests FROM tbl_customers\n",
    "INNER JOIN tbl_bookings ON tbl_customers.CustomerID = tbl_bookings.CustomerID WHERE BookingDate = '2021-11-11';\"\"\"\n",
    "execute_display_query_results(join_query)"
   ]
  },
  {
   "cell_type": "markdown",
   "id": "cf3436f1-15ab-4bf7-ae16-209b0dbc598b",
   "metadata": {},
   "source": [
    "## Task 3: Create a GROUP BY query.  \n",
    "Create a SQL statement to print the bookings dates from Bookings table. The statement must show the total number of bookings placed on each of the printed dates using the GROUP BY BookingDate. "
   ]
  },
  {
   "cell_type": "code",
   "execution_count": 59,
   "id": "a5f184fc-f486-440c-857f-3194978cf872",
   "metadata": {},
   "outputs": [
    {
     "name": "stdout",
     "output_type": "stream",
     "text": [
      "+-------------+------------------+\n",
      "| BookingDate | NumberOfBookings |\n",
      "+-------------+------------------+\n",
      "| 2021-11-10  |        3         |\n",
      "| 2021-11-11  |        4         |\n",
      "| 2021-11-12  |        2         |\n",
      "| 2021-11-13  |        1         |\n",
      "| 2021-11-14  |        2         |\n",
      "+-------------+------------------+\n"
     ]
    }
   ],
   "source": [
    "groupby_query: str = \"SELECT BookingDate, COUNT(BookingDate) AS NumberOfBookings FROM tbl_bookings GROUP BY BookingDate\"\n",
    "execute_display_query_results(groupby_query)"
   ]
  },
  {
   "cell_type": "markdown",
   "id": "b216f18f-c56e-4f75-b941-04388f205334",
   "metadata": {},
   "source": [
    "## Task 4: Create a REPLACE statement.  \n",
    "Create a SQL REPLACE statement that updates the cost of the Kabsa course from \\\\$17.00 to \\\\$20.00."
   ]
  },
  {
   "cell_type": "code",
   "execution_count": 60,
   "id": "525c68a6-b3b8-4197-be5a-f48c7af978d8",
   "metadata": {},
   "outputs": [],
   "source": [
    "replace_query_set = \"\"\"REPLACE INTO tbl_courses SET CourseName = 'Kabasa', Cost = '20.50';\"\"\"\n",
    "first_cursor.execute(replace_query_set)\n",
    "first_connection.commit()"
   ]
  },
  {
   "cell_type": "code",
   "execution_count": 61,
   "id": "a7b49d13-3b58-4d8c-ad2b-22ec8e344742",
   "metadata": {},
   "outputs": [
    {
     "name": "stdout",
     "output_type": "stream",
     "text": [
      "+-------------+-------+\n",
      "| CourseName  | Cost  |\n",
      "+-------------+-------+\n",
      "|  Bean soup  | 12.25 |\n",
      "|  Carbonara  | 12.50 |\n",
      "| Greek salad | 15.50 |\n",
      "|   Kabasa    | 20.50 |\n",
      "|    Pizza    | 15.00 |\n",
      "|  Shawarma   | 11.30 |\n",
      "+-------------+-------+\n"
     ]
    }
   ],
   "source": [
    "# select_query = \"SELECT * FROM tbl_courses\"\n",
    "execute_display_query_results(select_all_query(\"tbl_courses\"))"
   ]
  },
  {
   "cell_type": "markdown",
   "id": "c8ca81d0-1109-4221-a85a-14dcef744b7b",
   "metadata": {},
   "source": [
    "## Task 5: Create constraints\n",
    "\n",
    "Create a new table called \"DeliveryAddress\" in the Little Lemon database with the following columns and constraints:  \n",
    "- ID: INT PRIMARY KEY\n",
    "- Address: VARCHAR(255) NOT NULL\n",
    "- Type: NOT NULL DEFAULT \"Private\"\n",
    "- CustomerID: INT NOT NULL FOREIGN KEY referencing CustomerID in the Customers table"
   ]
  },
  {
   "cell_type": "code",
   "execution_count": 62,
   "id": "0e748214-a7fa-4852-9f05-ae32e840278f",
   "metadata": {},
   "outputs": [],
   "source": [
    "create_table_deliveryaddress_query = \"\"\"CREATE TABLE IF NOT EXISTS tbl_delivery_address (ID INT NOT NULL PRIMARY KEY, Address VARCHAR(255) NOT NULL, TYPE VARCHAR(100) NOT NULL DEFAULT \"PRIVATE\",  \n",
    "CustomerID INT NOT NULL, FOREIGN KEY (CustomerID) REFERENCES tbl_customers (CustomerID) ON DELETE CASCADE ON UPDATE CASCADE);\"\"\"\n",
    "\n",
    "first_cursor.execute(create_table_deliveryaddress_query)"
   ]
  },
  {
   "cell_type": "code",
   "execution_count": 63,
   "id": "ff616ffa-72ce-4439-98ee-6c5ce5861c4e",
   "metadata": {},
   "outputs": [
    {
     "name": "stdout",
     "output_type": "stream",
     "text": [
      "+------------+--------------+------+-----+---------+-------+\n",
      "|   Field    |     Type     | Null | Key | Default | Extra |\n",
      "+------------+--------------+------+-----+---------+-------+\n",
      "|     ID     |     int      |  NO  | PRI |   NULL  |  NULL |\n",
      "|  Address   | varchar(255) |  NO  | NULL|   NULL  |  NULL |\n",
      "|    TYPE    | varchar(100) |  NO  | NULL| PRIVATE |  NULL |\n",
      "| CustomerID |     int      |  NO  | MUL |   NULL  |  NULL |\n",
      "+------------+--------------+------+-----+---------+-------+\n"
     ]
    }
   ],
   "source": [
    "show_query = \"SHOW COLUMNS FROM tbl_delivery_address\"\n",
    "execute_display_query_results(show_query)"
   ]
  },
  {
   "cell_type": "markdown",
   "id": "432830da-ce43-4d74-80d5-ae9f10e70741",
   "metadata": {},
   "source": [
    "## Task 6: Alter table structure\n",
    "Create a SQL statement that adds a new column called 'Ingredients' to the Courses table.\n",
    "- Ingredients: VARCHAR(255)"
   ]
  },
  {
   "cell_type": "code",
   "execution_count": 64,
   "id": "6eb0982c-8997-4559-b21b-e0cea4aa57cd",
   "metadata": {},
   "outputs": [],
   "source": [
    "alter_table_query = \"\"\"ALTER TABLE tbl_courses ADD COLUMN Ingredients VARCHAR(255);\"\"\"\n",
    "first_cursor.execute(alter_table_query)"
   ]
  },
  {
   "cell_type": "code",
   "execution_count": 65,
   "id": "867186a8-131f-4ee3-8eeb-21c6819d3a47",
   "metadata": {},
   "outputs": [
    {
     "name": "stdout",
     "output_type": "stream",
     "text": [
      "+-------------+--------------+------+-----+---------+-------+\n",
      "|    Field    |     Type     | Null | Key | Default | Extra |\n",
      "+-------------+--------------+------+-----+---------+-------+\n",
      "| CourseName  | varchar(255) |  NO  | PRI |   NULL  |  NULL |\n",
      "|    Cost     | decimal(4,2) | YES  | NULL|   NULL  |  NULL |\n",
      "| Ingredients | varchar(255) | YES  | NULL|   NULL  |  NULL |\n",
      "+-------------+--------------+------+-----+---------+-------+\n"
     ]
    }
   ],
   "source": [
    "show_query = \"SHOW COLUMNS FROM tbl_courses\"\n",
    "execute_display_query_results(show_query)"
   ]
  },
  {
   "cell_type": "markdown",
   "id": "417d5bf4-795c-4722-92b9-062f50b88049",
   "metadata": {},
   "source": [
    "## Task 7: Create a subquery  \n",
    "Create a SQL statement with a subquery that prints the full names of all customers who made bookings in the restaurant on the following date: 2021-11-11."
   ]
  },
  {
   "cell_type": "code",
   "execution_count": 66,
   "id": "76dd47e1-36e0-448c-adcd-19812a116450",
   "metadata": {},
   "outputs": [
    {
     "name": "stdout",
     "output_type": "stream",
     "text": [
      "+------------------+\n",
      "|     FullName     |\n",
      "+------------------+\n",
      "|   Diana Pinto    |\n",
      "|   Altay Ayhan    |\n",
      "|   Jane Murphy    |\n",
      "| Vanessa McCarthy |\n",
      "+------------------+\n"
     ]
    }
   ],
   "source": [
    "subquery_query: str = \"\"\"SELECT FullName FROM tbl_customers WHERE CustomerID = ANY (SELECT CustomerID FROM tbl_bookings WHERE BookingDate = '2021-11-11');\"\"\"\n",
    "execute_display_query_results(subquery_query)"
   ]
  },
  {
   "cell_type": "markdown",
   "id": "faecd979-56c3-44f0-ba1e-805e54131c43",
   "metadata": {},
   "source": [
    "## Task 8: Create a virtual table  \n",
    "Create the \"BookingsView\" virtual table to print all bookings IDs, bookings dates and the number of guests for bookings made in the restaurant before 2021-11-13 and where number of guests is larger than 3."
   ]
  },
  {
   "cell_type": "code",
   "execution_count": 67,
   "id": "bbc00879-7cc1-4076-b235-fb5358f14713",
   "metadata": {},
   "outputs": [
    {
     "name": "stdout",
     "output_type": "stream",
     "text": [
      "+-----------+-------------+----------------+\n",
      "| BookingID | BookingDate | NumberOfGuests |\n",
      "+-----------+-------------+----------------+\n",
      "|    10     | 2021-11-10  |       5        |\n",
      "|    13     | 2021-11-11  |       5        |\n",
      "|    16     | 2021-11-11  |       5        |\n",
      "+-----------+-------------+----------------+\n"
     ]
    }
   ],
   "source": [
    "create_view_query: str = \"\"\"CREATE VIEW BookingsView AS SELECT BookingID, BookingDate, NumberOfGuests FROM tbl_bookings WHERE BookingDate < '2021-11-13' AND NumberOfGuests > 3;\"\"\"\n",
    "first_cursor.execute(create_view_query)\n",
    "\n",
    "select_query = \"\"\"SELECT * FROM BookingsView;\"\"\"\n",
    "execute_display_query_results(select_query)"
   ]
  },
  {
   "cell_type": "markdown",
   "id": "6b04105d-86c7-4d86-b57c-da29eb243d6f",
   "metadata": {},
   "source": [
    "## Task 9: Create a stored procedure\n",
    "\n",
    "Create a stored procedure called 'GetBookingsData'. The procedure must contain one date parameter called \"InputDate\". This parameter retrieves all data from the Bookings table based on the user input of the date."
   ]
  },
  {
   "cell_type": "code",
   "execution_count": 68,
   "id": "1d8fd048-5f60-4d31-a755-9f3a7cbbd247",
   "metadata": {},
   "outputs": [],
   "source": [
    "stored_procedure_query = \"\"\"\n",
    "CREATE PROCEDURE GetBookingsData(IN inputDate DATE)\n",
    "BEGIN\n",
    "SELECT BookingID, BookingDate, TableNumber, NumberOfGuests, tbl_bookings.CustomerID\n",
    "FROM tbl_bookings\n",
    "INNER JOIN tbl_customers ON tbl_bookings.CustomerID = tbl_customers.CustomerID\n",
    "WHERE BookingDate = inputDate;\n",
    "END\n",
    "\"\"\"\n",
    "first_cursor.execute(stored_procedure_query)"
   ]
  },
  {
   "cell_type": "code",
   "execution_count": 69,
   "id": "6b874a91-1521-471a-9757-499bb5b92b16",
   "metadata": {},
   "outputs": [
    {
     "name": "stdout",
     "output_type": "stream",
     "text": [
      "+-----------+-------------+-------------+----------------+------------+\n",
      "| BookingID | BookingDate | TableNumber | NumberOfGuests | CustomerID |\n",
      "+-----------+-------------+-------------+----------------+------------+\n",
      "|    19     | 2021-11-13  |      7      |       5        |     6      |\n",
      "+-----------+-------------+-------------+----------------+------------+\n"
     ]
    }
   ],
   "source": [
    "first_cursor.callproc(\"GetBookingsData\", ('2021-11-13', ))\n",
    "logger.info(\"Called the GetBookingsData procedure with parameters: ('2021-11-13', )\")\n",
    "results=next(first_cursor.stored_results())\n",
    "table_column_names = results.column_names\n",
    "dataset = results.fetchall()\n",
    "\n",
    "execute_display_query_results(table_column_names=table_column_names, results=dataset)"
   ]
  },
  {
   "cell_type": "markdown",
   "id": "66baae2f-93b1-4e14-865d-a14c011b1f42",
   "metadata": {},
   "source": [
    "## Task 10: Use the String function\n",
    "\n",
    "Create a SQL SELECT query using appropriate MySQL string function to list \"Booking Details\" including booking ID, booking date and number of guests. The data must be listed in the same format as the following example:\n",
    "\n",
    "- ID: 10, \n",
    "- Date: 2021-11-10, \n",
    "- Number of guests: 5"
   ]
  },
  {
   "cell_type": "code",
   "execution_count": 70,
   "id": "c9c9f01a-7fec-4506-a4c6-3f35902fec0c",
   "metadata": {},
   "outputs": [
    {
     "name": "stdout",
     "output_type": "stream",
     "text": [
      "+-----------------------------------------------+\n",
      "|                Booking Details                |\n",
      "+-----------------------------------------------+\n",
      "| ID: 10, Date: 2021-11-10, Number of guests: 5 |\n",
      "| ID: 11, Date: 2021-11-10, Number of guests: 2 |\n",
      "| ID: 12, Date: 2021-11-10, Number of guests: 2 |\n",
      "| ID: 13, Date: 2021-11-11, Number of guests: 5 |\n",
      "| ID: 14, Date: 2021-11-11, Number of guests: 2 |\n",
      "| ID: 15, Date: 2021-11-11, Number of guests: 2 |\n",
      "| ID: 16, Date: 2021-11-11, Number of guests: 5 |\n",
      "| ID: 17, Date: 2021-11-12, Number of guests: 2 |\n",
      "| ID: 18, Date: 2021-11-12, Number of guests: 2 |\n",
      "| ID: 19, Date: 2021-11-13, Number of guests: 5 |\n",
      "| ID: 20, Date: 2021-11-14, Number of guests: 2 |\n",
      "| ID: 21, Date: 2021-11-14, Number of guests: 2 |\n",
      "+-----------------------------------------------+\n"
     ]
    }
   ],
   "source": [
    "select_query = \"\"\"SELECT CONCAT(\"ID: \", BookingID, \", Date: \", BookingDate, \", Number of guests: \", NumberOfGuests) AS 'Booking Details' FROM tbl_bookings;\"\"\"\n",
    "execute_display_query_results(select_query)"
   ]
  },
  {
   "cell_type": "code",
   "execution_count": 71,
   "id": "f9a9ef0b-7504-4f91-b1d5-5f817d87dde1",
   "metadata": {},
   "outputs": [],
   "source": [
    "first_cursor.close()\n",
    "first_connection.close()"
   ]
  },
  {
   "cell_type": "markdown",
   "id": "dd19f317-568c-4163-96e1-9f3001153705",
   "metadata": {},
   "source": [
    "I enjoyed building a database schema from scratch and writing SQL queries to retrieve meaningful insights from data.\n",
    "Seeing how data can be structured and manipulated was exciting.\n",
    "\n",
    "I developed strong skills in SQL, including query writing, creating tables, and database normalization. Additionally, \n",
    "I improved my problem-solving abilities related to relational databases.\n"
   ]
  },
  {
   "cell_type": "code",
   "execution_count": null,
   "id": "e9e4fd1c-be9b-41e1-b28f-62cb2b18a5bb",
   "metadata": {},
   "outputs": [],
   "source": []
  }
 ],
 "metadata": {
  "kernelspec": {
   "display_name": "Python 3 (ipykernel)",
   "language": "python",
   "name": "python3"
  },
  "language_info": {
   "codemirror_mode": {
    "name": "ipython",
    "version": 3
   },
   "file_extension": ".py",
   "mimetype": "text/x-python",
   "name": "python",
   "nbconvert_exporter": "python",
   "pygments_lexer": "ipython3",
   "version": "3.11.7"
  }
 },
 "nbformat": 4,
 "nbformat_minor": 5
}
