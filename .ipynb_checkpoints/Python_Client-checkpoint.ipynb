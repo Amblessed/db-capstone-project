{
 "cells": [
  {
   "cell_type": "markdown",
   "id": "236b5a31-5fad-45a1-9694-afaea8b1e019",
   "metadata": {},
   "source": [
    "## Check python version"
   ]
  },
  {
   "cell_type": "code",
   "execution_count": 1,
   "id": "b96e917b-661d-4382-85ce-3b8d3c0eb40c",
   "metadata": {},
   "outputs": [
    {
     "name": "stdout",
     "output_type": "stream",
     "text": [
      "Python 3.11.7\n"
     ]
    }
   ],
   "source": [
    "!python --version"
   ]
  },
  {
   "cell_type": "code",
   "execution_count": 1,
   "id": "7959a8b7-b5f5-43e1-bb9d-b269c1a42656",
   "metadata": {},
   "outputs": [],
   "source": [
    "# Import MySQL Connector/Python \n",
    "import mysql.connector as connector\n",
    "import os\n",
    "import datetime as dt\n",
    "from mysql.connector.pooling import MySQLConnectionPool\n",
    "from mysql.connector import Error\n",
    "import logging"
   ]
  },
  {
   "cell_type": "markdown",
   "id": "13acda66-566a-4f7b-9042-83c13f62fb40",
   "metadata": {},
   "source": [
    "## Establish a connection "
   ]
  },
  {
   "cell_type": "code",
   "execution_count": 2,
   "id": "49527b72-ae4d-4f42-bedb-d45b2ddf594e",
   "metadata": {},
   "outputs": [
    {
     "name": "stdout",
     "output_type": "stream",
     "text": [
      "Connection between MySQL and Python is established.\n"
     ]
    }
   ],
   "source": [
    "logger = logging.getLogger(\"[Python Database Client]\")\n",
    "logging.basicConfig(filename='application.log', encoding='utf-8', level=logging.DEBUG, format='%(asctime)s ==> %(message)s', datefmt='%m/%d/%Y %I:%M:%S')\n",
    "dbconfig={\"database\":\"LittleLemonDB\", \"user\":\"root\", \"password\":os.environ[\"MYSQL_PASSWORD\"]}\n",
    "connection=connector.connect(port=33061, **dbconfig)\n",
    "print(\"Connection between MySQL and Python is established.\")\n",
    "logger.info(\"Connection between MySQL and Python is established.\")"
   ]
  },
  {
   "cell_type": "markdown",
   "id": "afe64bf4-1776-4ee4-bca6-4937a0be365e",
   "metadata": {},
   "source": [
    "## Create a cursor"
   ]
  },
  {
   "cell_type": "code",
   "execution_count": 3,
   "id": "f26de6b7-25cc-45da-93e1-ab2952d81458",
   "metadata": {},
   "outputs": [
    {
     "name": "stdout",
     "output_type": "stream",
     "text": [
      "Cursor created to communicate with the MySQL using Python.\n",
      "\n"
     ]
    }
   ],
   "source": [
    "cursor = connection.cursor()\n",
    "print(\"Cursor created to communicate with the MySQL using Python.\\n\")\n",
    "logger.info(\"Cursor created to communicate with the MySQL using Python.\")"
   ]
  },
  {
   "cell_type": "markdown",
   "id": "b44b48d0-e52c-4617-ae54-014f993f796e",
   "metadata": {},
   "source": [
    "## Show Tables "
   ]
  },
  {
   "cell_type": "code",
   "execution_count": 6,
   "id": "180c6c9f-bc0c-42f2-97b0-1c4e5c50f761",
   "metadata": {},
   "outputs": [
    {
     "name": "stdout",
     "output_type": "stream",
     "text": [
      "Bookings\n",
      "Customers\n",
      "Menu\n",
      "MenuItems\n",
      "OrderDelivery\n",
      "Orders\n",
      "OrdersView\n",
      "Staff\n"
     ]
    }
   ],
   "source": [
    "tables_database: list = []\n",
    "cursor.execute(\"SHOW TABLES;\")\n",
    "results = cursor.fetchall()\n",
    "for table in results:\n",
    "    tables_database.append(table[0])\n",
    "    print(table[0])\n",
    "logger.info(tables_database)   "
   ]
  },
  {
   "cell_type": "markdown",
   "id": "8caa1927-505c-4fef-b943-9ac6c91b5544",
   "metadata": {},
   "source": [
    "## Execute CheckBooking Procedure"
   ]
  },
  {
   "cell_type": "code",
   "execution_count": 11,
   "id": "ef3d4c0b-ae49-4003-a09c-0478640ecb3c",
   "metadata": {},
   "outputs": [
    {
     "name": "stdout",
     "output_type": "stream",
     "text": [
      "Booking Status\n",
      "Table 3 is already booked\n"
     ]
    }
   ],
   "source": [
    "cursor.callproc(\"CheckBooking\", ('2022-11-12', 3))\n",
    "logger.info(\"Called the CheckBooking procedure with parameters: ('2022-11-12', 3)\")\n",
    "results=next(cursor.stored_results())\n",
    "cols = results.column_names\n",
    "print(cols[0])\n",
    "dataset = results.fetchall()\n",
    "for data in dataset:\n",
    "    print(data[0])\n",
    "logger.info('CheckBooking procedure result: %s :: %s', cols[0], data[0])"
   ]
  },
  {
   "cell_type": "markdown",
   "id": "5b03b229-8943-46e1-aaa5-32bfb8b1356d",
   "metadata": {},
   "source": [
    "## Execute AddValidBooking Procedure "
   ]
  },
  {
   "cell_type": "code",
   "execution_count": 12,
   "id": "0e28139b-f3ad-4df9-bf6f-c0633404a010",
   "metadata": {},
   "outputs": [
    {
     "name": "stdout",
     "output_type": "stream",
     "text": [
      "Booking Status\n",
      "Table 6 is already booked - booking cancelled\n"
     ]
    }
   ],
   "source": [
    "cursor.callproc(\"AddValidBooking\", ('2022-12-17', 6))\n",
    "logger.info(\"Called the AddValidBooking procedure with parameters: ('2022-12-17', 6)\")\n",
    "results=next(cursor.stored_results())\n",
    "cols = results.column_names\n",
    "print(cols[0])\n",
    "dataset = results.fetchall()\n",
    "for data in dataset:\n",
    "    print(data[0])\n",
    "logger.info('AddValidBooking procedure result: %s :: %s', cols[0], data[0])"
   ]
  },
  {
   "cell_type": "markdown",
   "id": "835c4c51-87a4-4ace-8e15-d968024f0b3e",
   "metadata": {},
   "source": [
    "## Execute AddBooking Procedure "
   ]
  },
  {
   "cell_type": "code",
   "execution_count": 14,
   "id": "96692664-9928-4b33-9b81-a2fb25ee4980",
   "metadata": {},
   "outputs": [
    {
     "name": "stdout",
     "output_type": "stream",
     "text": [
      "Confirmation\n",
      "New Booking Confirmed\n"
     ]
    }
   ],
   "source": [
    "cursor.callproc(\"AddBooking\", (9, 3, '2022-12-30', 4))\n",
    "logger.info(\"Called the AddBooking procedure with parameters: (9, 3, '2022-12-30', 4)\")\n",
    "results=next(cursor.stored_results())\n",
    "cols = results.column_names\n",
    "print(cols[0])\n",
    "dataset = results.fetchall()\n",
    "for data in dataset:\n",
    "    print(data[0])\n",
    "logger.info('AddBooking procedure result: %s :: %s', cols[0], data[0])"
   ]
  },
  {
   "cell_type": "markdown",
   "id": "9628e6c9-82c2-42a1-a46d-37cb08532cdf",
   "metadata": {},
   "source": [
    "## Execute UpdateBooking Procedure "
   ]
  },
  {
   "cell_type": "code",
   "execution_count": 16,
   "id": "5c4d480c-5873-43a1-b057-933c1522288f",
   "metadata": {},
   "outputs": [
    {
     "name": "stdout",
     "output_type": "stream",
     "text": [
      "Confirmation\n",
      "Booking 9 updated\n"
     ]
    }
   ],
   "source": [
    "cursor.callproc(\"UpdateBooking\", (9, '2022-12-17'))\n",
    "logger.info(\"Called the UpdateBooking procedure with parameters: (9, '2022-12-17')\")\n",
    "results=next(cursor.stored_results())\n",
    "cols = results.column_names\n",
    "print(cols[0])\n",
    "dataset = results.fetchall()\n",
    "for data in dataset:\n",
    "    print(data[0])\n",
    "logger.info('UpdateBooking procedure result: %s :: %s', cols[0], data[0])"
   ]
  },
  {
   "cell_type": "markdown",
   "id": "edf9e0a9-c3b9-45e3-b5de-785bf1766467",
   "metadata": {},
   "source": [
    "## Execute CancelBooking Procedure"
   ]
  },
  {
   "cell_type": "code",
   "execution_count": 17,
   "id": "8410e863-0a4c-4abc-8832-f61c9b38419d",
   "metadata": {},
   "outputs": [
    {
     "name": "stdout",
     "output_type": "stream",
     "text": [
      "Confirmation\n",
      "Booking 9 cancelled\n"
     ]
    }
   ],
   "source": [
    "cursor.callproc(\"CancelBooking\", (9, ))\n",
    "logger.info(\"Called the CancelBooking procedure with parameters: (9, )\")\n",
    "results=next(cursor.stored_results())\n",
    "cols = results.column_names\n",
    "print(cols[0])\n",
    "dataset = results.fetchall()\n",
    "for data in dataset:\n",
    "    print(data[0])\n",
    "logger.info('CancelBooking procedure result: %s :: %s', cols[0], data[0])"
   ]
  }
 ],
 "metadata": {
  "kernelspec": {
   "display_name": "Python 3 (ipykernel)",
   "language": "python",
   "name": "python3"
  },
  "language_info": {
   "codemirror_mode": {
    "name": "ipython",
    "version": 3
   },
   "file_extension": ".py",
   "mimetype": "text/x-python",
   "name": "python",
   "nbconvert_exporter": "python",
   "pygments_lexer": "ipython3",
   "version": "3.11.7"
  }
 },
 "nbformat": 4,
 "nbformat_minor": 5
}
