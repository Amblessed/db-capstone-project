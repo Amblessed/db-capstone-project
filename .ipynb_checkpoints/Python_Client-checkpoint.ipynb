{
 "cells": [
  {
   "cell_type": "markdown",
   "id": "236b5a31-5fad-45a1-9694-afaea8b1e019",
   "metadata": {},
   "source": [
    "## Check python version"
   ]
  },
  {
   "cell_type": "code",
   "execution_count": 16,
   "id": "b96e917b-661d-4382-85ce-3b8d3c0eb40c",
   "metadata": {},
   "outputs": [
    {
     "name": "stdout",
     "output_type": "stream",
     "text": [
      "Python 3.11.7\n"
     ]
    }
   ],
   "source": [
    "!python --version"
   ]
  },
  {
   "cell_type": "code",
   "execution_count": 17,
   "id": "7959a8b7-b5f5-43e1-bb9d-b269c1a42656",
   "metadata": {},
   "outputs": [],
   "source": [
    "# Import MySQL Connector/Python \n",
    "import mysql.connector as connector\n",
    "import os\n",
    "import datetime as dt\n",
    "from mysql.connector.pooling import MySQLConnectionPool\n",
    "from mysql.connector import Error\n",
    "import logging"
   ]
  },
  {
   "cell_type": "markdown",
   "id": "13acda66-566a-4f7b-9042-83c13f62fb40",
   "metadata": {},
   "source": [
    "## Establish a connection "
   ]
  },
  {
   "cell_type": "code",
   "execution_count": 20,
   "id": "49527b72-ae4d-4f42-bedb-d45b2ddf594e",
   "metadata": {},
   "outputs": [
    {
     "name": "stdout",
     "output_type": "stream",
     "text": [
      "Connection between MySQL and Python is established.\n"
     ]
    }
   ],
   "source": [
    "logger = logging.getLogger(\"Python Database Client\")\n",
    "logging.basicConfig(filename='application.log', encoding='utf-8', level=logging.DEBUG)\n",
    "dbconfig={\"database\":\"little_lemon_db\", \"user\":\"root\", \"password\":os.environ[\"MYSQL_PASSWORD\"]}\n",
    "connection=connector.connect(port=33061, **dbconfig)\n",
    "print(\"Connection between MySQL and Python is established.\")\n",
    "logger.info(\"Connection between MySQL and Python is established.\")"
   ]
  },
  {
   "cell_type": "markdown",
   "id": "afe64bf4-1776-4ee4-bca6-4937a0be365e",
   "metadata": {},
   "source": [
    "## Create a cursor"
   ]
  },
  {
   "cell_type": "code",
   "execution_count": 21,
   "id": "f26de6b7-25cc-45da-93e1-ab2952d81458",
   "metadata": {},
   "outputs": [
    {
     "name": "stdout",
     "output_type": "stream",
     "text": [
      "Cursor created to communicate with the MySQL using Python.\n",
      "\n"
     ]
    }
   ],
   "source": [
    "cursor = connection.cursor()\n",
    "print(\"Cursor created to communicate with the MySQL using Python.\\n\")\n",
    "logger.info(\"Cursor created to communicate with the MySQL using Python.\")"
   ]
  },
  {
   "cell_type": "code",
   "execution_count": null,
   "id": "53d13bf0-77e2-4eba-86b5-17651c57010f",
   "metadata": {},
   "outputs": [],
   "source": []
  }
 ],
 "metadata": {
  "kernelspec": {
   "display_name": "Python 3 (ipykernel)",
   "language": "python",
   "name": "python3"
  },
  "language_info": {
   "codemirror_mode": {
    "name": "ipython",
    "version": 3
   },
   "file_extension": ".py",
   "mimetype": "text/x-python",
   "name": "python",
   "nbconvert_exporter": "python",
   "pygments_lexer": "ipython3",
   "version": "3.11.7"
  }
 },
 "nbformat": 4,
 "nbformat_minor": 5
}
