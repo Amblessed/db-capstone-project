


import os, sys
import mysql.connector as connector
sys.path.append("..")
from display.display_query import *





print("Creating a connection between MySQL and Python")
dbconfig={"user":"root", "password":os.environ["MYSQL_ROOT_PASSWORD"], "port":33061, "host":"localhost", "database": "db_mavenmovies"}
connection=connector.connect(**dbconfig)
print("Connection established between MySQL and Python")

print("Creating cursor object from connection")
cursor = connection.cursor()
print("Cursor object created to communicate with MySQL")





show_tables_query = """SHOW TABLES;"""
execute_display_query_results(query=show_tables_query, cursor_object=cursor)





query = "SHOW TABLES;"
cursor.execute(query)
tables = cursor.fetchall()
for table in tables:
    tbl = table[0]
    column_query = f"""SHOW COLUMNS FROM {tbl}"""
    print(f"{tbl}:")
    execute_display_query_results(query=column_query, cursor_object=cursor)





select_query = """SELECT first_name, last_name, email, store_id FROM tbl_staff;"""
execute_display_query_results(query=select_query, cursor_object=cursor)





select_query = """SELECT DISTINCT(store_id),
COUNT(inventory_id) OVER(PARTITION BY store_id) AS CountInventory
FROM tbl_inventory;"""
execute_display_query_results(query=select_query, cursor_object=cursor)





select_query = """SELECT DISTINCT store_id, countactive FROM 
(SELECT store_id,
COUNT(active) OVER(PARTITION BY store_id ORDER BY store_id) AS CountActive
FROM tbl_customer WHERE active = 1) as t;"""
execute_display_query_results(query=select_query, cursor_object=cursor)

select_query = """SELECT count(DISTINCT email) AS CountEmail FROM tbl_customer;"""
execute_display_query_results(query=select_query, cursor_object=cursor)





select_query = """SELECT store_id,
COUNT(DISTINCT film_id) AS CountFilmTitle 
FROM tbl_inventory
GROUP BY store_id;"""
execute_display_query_results(query=select_query, cursor_object=cursor)

select_query = """SELECT COUNT(DISTINCT name) AS CountCategory FROM tbl_category;"""
execute_display_query_results(query=select_query, cursor_object=cursor)





select_query = """SELECT 
MIN(replacement_cost) AS MinReplacementCost, 
MAX(replacement_cost) AS MaxReplacementCost,
ROUND(AVG(replacement_cost), 2) AS AvgReplacementCost 
FROM tbl_film;"""
execute_display_query_results(query=select_query, cursor_object=cursor)





select_query = """SELECT 
ROUND(AVG(amount), 2) AS AvgAmountProcessed,
MAX(amount) AS MaxAmountProcessed
FROM tbl_payment;"""
execute_display_query_results(query=select_query, cursor_object=cursor)





select_query = """SELECT DISTINCT(c.customer_id), t.count, c.first_name, c.last_name FROM 
(SELECT customer_id, COUNT(customer_id) OVER(PARTITION BY customer_id) AS Count FROM tbl_rental) as t
INNER JOIN tbl_customer c ON c.customer_id = t.customer_id
ORDER BY count DESC LIMIT 30;"""
execute_display_query_results(query=select_query, cursor_object=cursor)





select_query = """SELECT * FROM tbl_store;"""
execute_display_query_results(query=select_query, cursor_object=cursor)

select_query = """SELECT staff_id, first_name, last_name, address_id, store_id FROM tbl_staff;"""
execute_display_query_results(query=select_query, cursor_object=cursor)

select_query = """SELECT * FROM tbl_address LIMIT 5;"""
execute_display_query_results(query=select_query, cursor_object=cursor)

select_query = """SELECT * FROM tbl_city LIMIT 5;"""
execute_display_query_results(query=select_query, cursor_object=cursor)

select_query = """SELECT * FROM tbl_country LIMIT 5;"""
execute_display_query_results(query=select_query, cursor_object=cursor)

select_query = """SELECT first_name, last_name, address, district, city, country
FROM tbl_staff AS sf
INNER JOIN tbl_store AS st ON st.store_id = sf.store_id
INNER JOIN tbl_address AS ad ON ad.address_id = sf.address_id
INNER JOIN tbl_city AS c ON c.city_id = ad.city_id
INNER JOIN tbl_country AS co ON c.country_id = co.country_id;"""
execute_display_query_results(query=select_query, cursor_object=cursor)





#Results limited to 30 to avoid very large output
select_query = """SELECT store_id, inventory_id, title, rating, rental_rate, replacement_cost
FROM tbl_film AS f
INNER JOIN tbl_inventory AS i ON i.film_id = f.film_id LIMIT 30;"""
execute_display_query_results(query=select_query, cursor_object=cursor)





select_query = """SELECT DISTINCT(rating), 
COUNT(inventory_id) OVER(PARTITION BY rating) AS CountInventory FROM 
(SELECT store_id, inventory_id, title, rating, rental_rate, replacement_cost
FROM tbl_film AS f
INNER JOIN tbl_inventory AS i ON i.film_id = f.film_id) AS t
ORDER BY CountInventory DESC;"""
execute_display_query_results(query=select_query, cursor_object=cursor)



