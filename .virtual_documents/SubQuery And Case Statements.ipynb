import os
import mysql.connector as connector
import logging


logger = logging.getLogger("[Subqueries MySQL]")
if os.path.exists("log/subqueries-mysql.log"):
  os.remove("log/subqueries-mysql.log")
logging.basicConfig(filename='log/subqueries-mysql.log', encoding='utf-8', level=logging.DEBUG, format='%(asctime)s ==> %(message)s', datefmt='%m/%d/%Y %I:%M:%S')


logger.info("Creating a connection between MySQL and Python")
dbconfig={"user":"root", "password":os.environ["MYSQL_PASSWORD"], "port":33061, "host":"localhost"}
connection=connector.connect(**dbconfig)
print("Connection established between MySQL and Python")
logger.info("Connection established between MySQL and Python")


print("Creating cursor object from connection")
logger.info("Creating first cursor object from connection")
cursor = connection.cursor()
print("Cursor object created to communicate with MySQL using Python.")
logger.info("Cursor object created to communicate with MySQL using Python.")


# Get a cursor object from the cursor pool
database_name: str = "db_subqueries"
drop_database_query: str = f"""DROP DATABASE IF EXISTS {database_name}"""
cursor.execute(drop_database_query)
logger.info("Dropping Database if it already exists.")

create_database_query: str = f"""CREATE DATABASE IF NOT EXISTS {database_name}"""
print("Creating Database.")
logger.info("Creating Database.")
cursor.execute(create_database_query)
logger.info("Database created.")
print("Database created.")


# Check to see that the database was created
list_of_databases: list = []
cursor.execute("SHOW DATABASES;")
databases = cursor.fetchall()
for database in databases:
    db_name: str = database[0]
    list_of_databases.append(db_name)
    if db_name == database_name:
        print(f"Database '{database_name}' was successfully created")
        logger.info(f"Database '{database_name}' was successfully created.")
        break

# Set the new created database as the database to use
cursor.execute(f"USE {database_name}")
print(f"Database '{database_name}' set for use.")
logger.info(f"Database '{database_name}' set for use.")


create_orders_query = """CREATE TABLE IF NOT EXISTS tbl_orders (OrderID INT NOT NULL PRIMARY KEY, ProductID INT, CustomerID INT, SalesPersonID INT, OrderDate Date, ShipDate DATE, OrderStatus VARCHAR(50), ShipAddress VARCHAR(255), BillAddress VARCHAR(255), 
Quantity INT, Sales INT, CreationTime TimeStamp);"""
cursor.execute(create_orders_query)
logger.info("tbl_orders table created.")

create_products_query = """CREATE TABLE IF NOT EXISTS tbl_products (ProductID INT NOT NULL PRIMARY KEY, Product VARCHAR(50), Category VARCHAR(50), Price INT);"""
cursor.execute(create_products_query)
logger.info("tbl_products table created.")

create_customers_query = """CREATE TABLE IF NOT EXISTS tbl_customers (CustomerID INT NOT NULL PRIMARY KEY, FirstName VARCHAR(50), LastName VARCHAR(50), Country VARCHAR(50), Score INT);"""
cursor.execute(create_customers_query)
logger.info("tbl_customers table created.")

create_employees_query = """CREATE TABLE IF NOT EXISTS tbl_employees (EmployeeID INT NOT NULL PRIMARY KEY, FirstName VARCHAR(50), LastName VARCHAR(50), Department VARCHAR(50), BirthDate Date, Gender CHAR(1), Salary INT, ManagerID INT);"""
cursor.execute(create_employees_query)
logger.info("tbl_employees table created.")


insert_into_orders_query = """INSERT INTO tbl_orders(OrderID, ProductID, CustomerID, SalesPersonID, OrderDate, ShipDate, OrderStatus, ShipAddress, BillAddress, Quantity, Sales, CreationTime) VALUES
(1, 101, 2, 3, '2025-01-01', '2025-01-05', 'Delivered', '9833 Mt. Dias Blv.', '1226 Shoe St.', 1, 10, '2025-01-01 12:34:56.0000000'),  
(2, 102, 3,	3, '2025-01-05', '2025-01-10', 'Shipped', '250 Race Court', NULL, 1, 15, '2025-01-05 23:22:04.0000000'),
(3, 101, 1,	5, '2025-01-10', '2025-01-25', 'Delivered', '8157 W. Book', '8157 W. Book', 2, 20, '2025-01-10 18:24:08.0000000'),
(4, 105, 1, 3, '2025-01-20', '2025-01-25', 'Shipped', '5724 Victory Lane', '',	2, 60, '2025-01-20 05:50:33.0000000'),
(5, 104, 2, 5, '2025-02-01', '2025-02-05', 'Delivered', NULL , NULL , 1, 25, '2025-02-01 14:02:41.0000000'),
(6, 104, 3, 5, '2025-02-05', '2025-02-10', 'Delivered', '1792 Belmont Rd.',NULL , 2, 50, '2025-02-06 15:34:57.0000000'),
(7, 102, 1, 1, '2025-02-15', '2025-02-27', 'Delivered', '136 Balboa Court', '' , 2, 30, '2025-02-16 06:22:01.0000000'),
(8, 101, 4, 3, '2025-02-18', '2025-02-27', 'Shipped', '2947 Vine Lane', '4311 Clay Rd', 3, 90, '2025-02-18 10:45:22.0000000'),
(9, 101, 2, 3, '2025-03-10', '2025-03-15', 'Shipped', '3768 Door Way', '', 2, 20, '2025-03-10 12:59:04.0000000'),
(10, 102, 3, 5, '2025-03-15', '2025-03-20', 'Shipped', NULL , NULL, 0, 60, '2025-03-16 23:25:15.0000000');"""

cursor.execute(insert_into_orders_query)
connection.commit()

insert_into_products_query = """INSERT INTO tbl_products(ProductID, Product, Category, Price) VALUES
(101, 'Bottle', 'Accessories', 10),  
(102, 'Tire', 'Accessories', 15),
(103, 'Socks', 'Clothing', 20),  
(104, 'Caps', 'Clothing', 25),
(105, 'Gloves', 'Clothing', 30);"""

value = None

cursor.execute(insert_into_products_query)
connection.commit()


insert_into_customers_query = """INSERT INTO tbl_customers(CustomerID, FirstName, LastName, Country, Score) VALUES
(1, 'Jossef', 'Goldberg', 'Germany', 350),
(2, 'Kevin', 'Brown', 'USA', 900),
(3, 'Mary', NULL, 'USA', 750),
(4, 'Mark', 'Schwarz', 'Germany', 500),
(5, 'Anna', 'Adams', 'USA', NULL);"""

cursor.execute(insert_into_customers_query)
connection.commit()

insert_into_employees_query = """INSERT INTO tbl_employees(EmployeeID, FirstName, LastName, Department, BirthDate, Gender, Salary, ManagerID) VALUES
(1, 'Frank', 'Lee', 'Marketing', '1988-12-05', 'M', 55000, NULL),
(2, 'Kevin', 'Brown', 'Marketing', '1972-11-25', 'M', 65000, 1),
(3, 'Mary', NULL, 'Sales', '1986-01-05', 'F', 75000, 1), 
(4, 'Michael', 'Ray', 'Sales', '1977-02-10', 'M', 90000, 2), 
(5, 'Carol', 'Baker', 'Sales', '1982-02-11', 'F', 55000, 3);"""

cursor.execute(insert_into_employees_query)
connection.commit()





def select_all_query(table_name: str):
    query = f"""SELECT * FROM {table_name};"""
    return query


def display_results(table_column_names: list, results: list):
    table_columns_length = [len(x) for x in table_column_names]
    for result in results:
        for value in range(len(result)):
            row_data = result[value]
            if row_data:
                row_data = str(row_data)
                if len(row_data) > table_columns_length[value]:
                    table_columns_length[value] = len(row_data)
    dashes_plus = ""
    for num in range(len(table_columns_length)):
        dashes_plus = dashes_plus + "+" + '-'*(table_columns_length[num]+2)
    dashes_plus = dashes_plus + "+"
    
    print(dashes_plus)
    
    table_headers = ""
    for num in range(len(table_column_names)):
        table_headers = table_headers + f"| {table_column_names[num]:^{table_columns_length[num]}} "
    table_headers = table_headers + "|"
    print(table_headers)
    
    print(dashes_plus)
    
    for result in results:
        table_row = ""
        for value in range(len(result)):
            row_data = result[value]
            if row_data is None:
                row_data = "NULL"            
                #if "Field" in table_column_names or "select_type" in table_column_names:
                    #row_data = None
                #else:
                    #row_data = None
            table_row = table_row + "|" + f"{str(row_data):^{table_columns_length[value]+2}}"
        print(table_row + "|")
    print(dashes_plus)
    print(f"{len(results)} rows returned")

def execute_display_query_results(query: str = "", table_column_names: list = [], results: list = []): 
    if query:
        logger.info(f"Executing the query: {query}")
    if len(query) > 2 and (table_column_names or results):
        print("You can only pass in the query alone or the table_column_names and results list")
        assert False
    if query and not table_column_names and not results:
        cursor.execute(query)
        results = cursor.fetchall()    
        table_column_names = cursor.column_names
    
    display_results(table_column_names, results)


execute_display_query_results(select_all_query("tbl_orders"))
print("\n")
execute_display_query_results(select_all_query("tbl_products"))
print("\n")
execute_display_query_results(select_all_query("tbl_customers"))








select_query = """SELECT * FROM (SELECT ProductID, Price, AVG(Price) OVER() AS AvgPrice FROM tbl_products) AS t WHERE Price > AvgPrice;"""
execute_display_query_results(select_query)





select_query = """SELECT *,
RANK() OVER(ORDER BY TotalSales DESC) AS CustomerRank
FROM (SELECT CustomerID, SUM(Sales) AS TotalSales FROM tbl_orders GROUP BY CustomerID) AS TotalSalesTable;"""

execute_display_query_results(select_query)








select_query = """SELECT ProductID, Product, price, (SELECT COUNT(*) FROM tbl_orders) AS TotalNumberOfOrders FROM tbl_products;"""
execute_display_query_results(select_query)


select_query = """SELECT Product, price, (SELECT COUNT(*) FROM tbl_orders WHERE ProductID = 101) AS TotalNumberOfOrders FROM tbl_products WHERE ProductID = 101;"""
execute_display_query_results(select_query)


select_query = """SELECT Product, price, (SELECT COUNT(*) FROM tbl_orders WHERE ProductID = 102) AS TotalNumberOfOrders FROM tbl_products WHERE ProductID = 102;"""
execute_display_query_results(select_query)


select_query = """SELECT Product, price, (SELECT COUNT(*) FROM tbl_orders WHERE ProductID = 103) AS TotalNumberOfOrders FROM tbl_products WHERE ProductID = 103;"""
execute_display_query_results(select_query)


select_query = """SELECT Product, price, (SELECT COUNT(*) FROM tbl_orders WHERE ProductID = 104) AS TotalNumberOfOrders FROM tbl_products WHERE ProductID = 104;"""
execute_display_query_results(select_query)


select_query = """SELECT Product, price, (SELECT COUNT(*) FROM tbl_orders WHERE ProductID = 105) AS TotalNumberOfOrders FROM tbl_products WHERE ProductID = 105;"""
execute_display_query_results(select_query)





execute_display_query_results(select_all_query("tbl_orders"))
print("\n")
execute_display_query_results(select_query)


select_query = "SELECT CustomerID, COUNT(*) FROM tbl_orders GROUP BY CustomerID;"
execute_display_query_results(select_query)


select_query = """SELECT tbl_customers.*, Orders.TotalOrders FROM tbl_customers
LEFT JOIN (SELECT CustomerID, COUNT(*) AS TotalOrders FROM tbl_orders GROUP BY CustomerID) AS Orders
ON tbl_customers.CustomerID = Orders.CustomerID;"""
execute_display_query_results(select_query)





select_query = """SELECT *, (SELECT AVG(Price) FROM tbl_products) AS AvgPrice FROM tbl_products WHERE Price > (SELECT AVG(Price) AS AvgPrice FROM tbl_products);"""
execute_display_query_results(select_query)





select_query = "SELECT * FROM tbl_customers WHERE Country = 'Germany';"
execute_display_query_results(select_query)


select_query = """SELECT * FROM tbl_orders 
WHERE CustomerID IN 
(SELECT CustomerID FROM tbl_customers WHERE Country = 'Germany');"""
execute_display_query_results(select_query)


# Show the details of orders made by customers in Germany
select_query = """SELECT * FROM tbl_orders 
WHERE CustomerID IN 
(SELECT CustomerID FROM tbl_customers WHERE Country <> 'Germany');"""
execute_display_query_results(select_query)


# Show the details of orders made by customers in Germany
select_query = """SELECT * FROM tbl_orders 
WHERE CustomerID NOT IN 
(SELECT CustomerID FROM tbl_customers WHERE Country = 'Germany');"""
execute_display_query_results(select_query)





select_query = """SELECT * FROM tbl_employees;"""
execute_display_query_results(select_query)


select_query = """SELECT * FROM tbl_employees 
WHERE Gender = 'F' AND Salary > ANY(SELECT SALARY FROM tbl_employees WHERE Gender = 'M');"""
execute_display_query_results(select_query)





select_query = """SELECT * FROM tbl_employees 
WHERE Gender = 'F' AND Salary > ALL(SELECT SALARY FROM tbl_employees WHERE Gender = 'M');"""
execute_display_query_results(select_query)





execute_display_query_results(select_all_query("tbl_customers"))
print("\n")
execute_display_query_results(select_all_query("tbl_orders"))


select_query = """SELECT *, (SELECT Count(*) FROM tbl_orders WHERE tbl_orders.CustomerID = tbl_customers.CustomerID) AS TotalSales FROM tbl_customers;"""
execute_display_query_results(select_query)





#Show the details of orders made by customers in Germany
select_query = """SELECT * FROM tbl_orders WHERE EXISTS (SELECT 1 FROM tbl_customers WHERE tbl_customers.CustomerID = tbl_orders.CustomerID AND Country = 'Germany')"""
execute_display_query_results(select_query)








select_case_query = """SELECT OrderID, Sales, 
CASE 
WHEN Sales > 50 THEN 'High'
WHEN Sales BETWEEN 21 AND 50 THEN 'Medium'
ELSE 'Low'
END AS Category
FROM tbl_orders
"""

execute_display_query_results(select_case_query)


select_case_query = """SELECT Category, SUM(Sales) AS TotalSales FROM
(SELECT OrderID, Sales,
CASE 
WHEN Sales > 50 THEN 'High'
WHEN Sales BETWEEN 21 AND 50 THEN 'Medium'
ELSE 'Low'
END AS Category
FROM tbl_orders) AS T
GROUP BY Category
ORDER BY TotalSales DESC;
"""

execute_display_query_results(select_case_query)





select_case_query = """SELECT * FROM
(SELECT *, 
CASE 
WHEN Gender = 'F' THEN 'Female'
WHEN Gender = 'M' THEN 'Male'
ELSE 'Other'
END AS GenderFullText
FROM tbl_employees) AS T;
"""

execute_display_query_results(select_case_query)





execute_display_query_results(select_all_query("tbl_customers"))


select_case_query = """SELECT DISTINCT Country FROM tbl_customers;
"""

execute_display_query_results(select_case_query)


select_case_query = """SELECT * FROM
(SELECT *, 
CASE 
WHEN Country = 'Germany' THEN 'DE'
WHEN Country = 'USA' THEN 'US'
ELSE 'Other'
END AS CountryAbb
FROM tbl_customers) AS T;
"""

execute_display_query_results(select_case_query)


## This form is only used when the operator is equal

select_case_query = """SELECT * FROM
(SELECT *, 
CASE Gender
WHEN 'F' THEN 'Female'
WHEN 'M' THEN 'Male'
ELSE 'Other'
END AS GenderFullText
FROM tbl_employees) AS T;
"""

execute_display_query_results(select_case_query)





select_case_query = """SELECT *, AVG(Score) OVER() AS AverageScore FROM
(SELECT *, 
CASE 
WHEN Country = 'Germany' THEN 'DE'
WHEN Country = 'USA' THEN 'US'
ELSE 'Other'
END AS CountryAbb
FROM tbl_customers) AS T;
"""

execute_display_query_results(select_case_query)


select_case_query = """SELECT *,
CASE 
WHEN Score IS NULL THEN 0
ELSE Score
End ScoreClean,
AVG(SCORE) OVER() AS AverageScore
FROM tbl_customers;
"""

execute_display_query_results(select_case_query)


select_case_query = """SELECT *,
AVG(
    CASE 
        WHEN Score IS NULL THEN 0
        ELSE Score
    End) OVER() AverageScoreClean,
AVG(SCORE) OVER() AS AverageScore
FROM tbl_customers;
"""

execute_display_query_results(select_case_query)


# Conditional Aggregation
# Apply aggregate functions only on subsets that fulfill certain conditions





select_query = """SELECT OrderID, CustomerID, Sales FROM tbl_orders ORDER BY CustomerID"""

execute_display_query_results(select_query)


select_query = """SELECT OrderID, CustomerID, Sales,
CASE 
WHEN Sales > 30 THEN 1
ELSE 0
END AS SalesFlag
FROM tbl_orders ORDER BY CustomerID"""
execute_display_query_results(select_query)


select_query = """SELECT CustomerID, 
SUM(CASE 
WHEN Sales > 30 THEN 1
ELSE 0
END) AS TotalOrders
FROM tbl_orders GROUP BY CustomerID"""
execute_display_query_results(select_query)


select_query = """SELECT CustomerID, 
SUM(CASE 
WHEN Sales > 30 THEN 1
ELSE 0
END) AS TotalOrdersHigh,
COUNT(*) As TotalOrders
FROM tbl_orders GROUP BY CustomerID"""
execute_display_query_results(select_query)



