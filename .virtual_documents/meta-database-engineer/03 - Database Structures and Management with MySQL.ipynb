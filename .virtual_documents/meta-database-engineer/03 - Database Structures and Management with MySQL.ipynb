


import os
from mysql.connector.pooling import MySQLConnectionPool
from mysql.connector import Error
import logging





logger = logging.getLogger("[Database Structures and Management with MySQL]")
if os.path.exists("log/management-with-mysql.log"):
  os.remove("log/management-with-mysql.log")
logging.basicConfig(filename='log/management-with-mysql.log', encoding='utf-8', level=logging.DEBUG, format='%(asctime)s ==> %(message)s', datefmt='%m/%d/%Y %I:%M:%S')





dbconfig={"user":"root", "password":os.environ["MYSQL_PASSWORD"], "port":33061, "host":"localhost"}
try:
    logger.info("Creating connection pools")
    pool = MySQLConnectionPool(pool_size=4, pool_name="pool_b", **dbconfig)
    print(f"The connection pool is created with a name: {pool.pool_name}")
    logger.info(f"The connection pool is created with a name: {pool.pool_name}")
    print(f"The pool size is: {pool.pool_size}")
    logger.info(f"The pool size is: {pool.pool_size}")
except Error as err:
    print(f"Error code: {err.errno}")
    logger.info(f"Error code: {err.errno}")
    print(f"Error message: {err.msg}")
    logger.info(f"Error message: {err.msg}")





first_connection = pool.get_connection()
print("First connections established between MySQL and Python")
logger.info("First connections established between MySQL and Python")





print("Creating first cursor object from the first connection")
logger.info("Creating first cursor object from the first connection")
first_cursor = first_connection.cursor(buffered=True)
print("First Cursor object created to communicate with MySQL using Python.")
logger.info("First Cursor object created to communicate with MySQL using Python.")





# Get a cursor object from the cursor pool
database_name = "db_meta_dsm_mysql"
drop_database_query = f"""DROP DATABASE IF EXISTS {database_name}"""
first_cursor.execute(drop_database_query)
logger.info("Dropping Database if it already exists.")

create_database_query: str = f"""CREATE DATABASE IF NOT EXISTS {database_name}"""
print("Creating Database.")
logger.info("Creating Database.")
first_cursor.execute(create_database_query)
logger.info("Database created.")
print("Database created.")


# Check to see that the database was created
list_of_databases: list = []
first_cursor.execute("SHOW DATABASES;")
databases = first_cursor.fetchall()
for database in databases:
    db_name: str = database[0]
    list_of_databases.append(db_name)
    if db_name == database_name:
        print(f"Database '{database_name}' was successfully created")
        logger.info(f"Database '{database_name}' was successfully created.")
        break
print(list_of_databases)
logger.info(list_of_databases)


# Set the new created database as the database to use
first_cursor.execute(f"USE {database_name}")
print(f"Database '{database_name}' is set for use.")
logger.info(f"Database '{database_name}' is set for use.")





## Expect an empty list to be returned 
show_tables_query = """SHOW TABLES;"""
first_cursor.execute(show_tables_query)
results = first_cursor.rowcount
assert results == 0





create_table_query = """CREATE TABLE IF NOT EXISTS tbl_orders (OrderID INT NOT NULL PRIMARY KEY, ClientID VARCHAR(10),  ProductID VARCHAR(10),  Quantity INT, Cost DECIMAL(6,2));"""
first_cursor.execute(create_table_query)
print("Table tbl_orders successfully created")
logger.info("Table tbl_orders successfully created")





insert_into_tbl_order_query = """INSERT INTO tbl_orders (OrderID, ClientID, ProductID , Quantity, Cost) VALUES (1, "Cl1", "P1", 10, 500), (2, "Cl2", "P2", 5, 100), (3, "Cl3", "P3", 20, 800), (4, "Cl4", "P4", 15, 150),
(5, "Cl3", "P3", 10, 450), (6, "Cl2", "P2", 5, 800), (7, "Cl1", "P4", 22, 1200), (8, "Cl3", "P1", 15, 150), (9, "Cl1", "P1", 10, 500), (10, "Cl2", "P2", 5, 100);"""

# Populate Menu table
print("Inserting records into the tbl_orders table")
logger.info("Inserting records into the tbl_orders table")
first_cursor.execute(insert_into_tbl_order_query)
first_connection.commit()





def select_all_query(table_name: str):
    return f"""SELECT * FROM {table_name};"""


def display_results(table_column_names: list, results: list):
    table_columns_length = [len(x) for x in table_column_names]
    for result in results:
        for value in range(len(result)):
            row_data = result[value]
            if row_data:
                row_data = str(row_data)
                if len(row_data) > table_columns_length[value]:
                    table_columns_length[value] = len(row_data)
    dashes_plus = ""
    for num in range(len(table_columns_length)):
        dashes_plus = dashes_plus + "+" + '-'*(table_columns_length[num]+2)
    dashes_plus = dashes_plus + "+"
    
    print(dashes_plus)
    
    table_headers = ""
    for num in range(len(table_column_names)):
        table_headers = table_headers + f"| {table_column_names[num]:^{table_columns_length[num]}} "
    table_headers = table_headers + "|"
    print(table_headers)
    
    print(dashes_plus)
    
    for result in results:
        table_row = ""
        for value in range(len(result)):
            row_data = result[value]
            if not row_data:
                if "Field" in table_column_names:
                    row_data = " NULL"
                else:
                    row_data = "None"
            table_row = table_row + "|" + f"{str(row_data):^{table_columns_length[value]+2}}"
        print(table_row + "|")
    print(dashes_plus)

def execute_display_query_results(query: str = "", table_column_names: list = [], results: list = []): 
    logger.info(f"Executing the query: {query}")
    if len(query) > 2 and (table_column_names or results):
        print("You can only pass in the query alone or the table_column_names and results list")
        assert False
    if query and not table_column_names and not results:
        first_cursor.execute(query)
        results = first_cursor.fetchall()    
        table_column_names = first_cursor.column_names
    
    display_results(table_column_names, results)


## Show columns for table tbl_orders
show_query = "SHOW COLUMNS FROM tbl_orders;"
execute_display_query_results(show_query)


## Show all the records in the table
execute_display_query_results(select_all_query("tbl_orders"))








select_query = "SELECT * FROM tbl_orders WHERE Cost <= 250;"
execute_display_query_results(select_query)





select_query = "SELECT * FROM tbl_orders WHERE Cost BETWEEN 50 and 750;"
execute_display_query_results(select_query)





select_query = "SELECT * FROM tbl_orders WHERE ClientID = 'Cl3' AND Cost > 100;"
execute_display_query_results(select_query)





select_query = "SELECT * FROM tbl_orders WHERE ProductID IN ('P1', 'P2') AND Quantity > 2;"
execute_display_query_results(select_query)





## Create additional tables
create_table_customers_query = """CREATE TABLE IF NOT EXISTS tbl_customers(CustomerID INT NOT NULL PRIMARY KEY, FullName VARCHAR(100) NOT NULL, PhoneNumber INT NOT NULL UNIQUE);"""

create_table_bookings_query = """CREATE TABLE IF NOT EXISTS tbl_bookings (BookingID INT NOT NULL PRIMARY KEY,  BookingDate DATE NOT NULL, TableNumber INT NOT NULL, NumberOfGuests INT NOT NULL CHECK (NumberOfGuests <= 8), 
CustomerID INT NOT NULL, FOREIGN KEY (CustomerID) REFERENCES tbl_customers (CustomerID) ON DELETE CASCADE ON UPDATE CASCADE);"""

create_table_courses_query = """CREATE TABLE IF NOT EXISTS tbl_courses (CourseName VARCHAR(255) PRIMARY KEY, Cost Decimal(4,2));"""


first_cursor.execute(create_table_customers_query)
print("Table tbl_customers successfully created")
logger.info("Table tbl_customers successfully created")

first_cursor.execute(create_table_bookings_query)
print("Table tbl_bookings successfully created")
logger.info("Table tbl_bookings successfully created")

first_cursor.execute(create_table_courses_query)
print("Table tbl_courses successfully created")
logger.info("Table tbl_courses successfully created")


## Populate the tables with Data
insert_into_tbl_customers = """INSERT INTO tbl_customers(CustomerID, FullName, PhoneNumber) VALUES 
(1, "Vanessa McCarthy", 0757536378), (2, "Marcos Romero", 0757536379), (3, "Hiroki Yamane", 0757536376), (4, "Anna Iversen", 0757536375), (5, "Diana Pinto", 0757536374),     
(6, "Altay Ayhan", 0757636378), (7, "Jane Murphy", 0753536379), (8, "Laurina Delgado", 0754536376), (9, "Mike Edwards", 0757236375), (10, "Karl Pederson", 0757936374);"""
logger.info("Inserting records into the tbl_customers table")
first_cursor.execute(insert_into_tbl_customers)
first_connection.commit()

insert_into_tbl_bookings = """INSERT INTO tbl_bookings (BookingID, BookingDate, TableNumber, NumberOfGuests, CustomerID) VALUES (10, '2021-11-10', 7, 5, 1), (11, '2021-11-10', 5, 2, 2),  
(12, '2021-11-10', 3, 2, 4), (13, '2021-11-11', 2, 5, 5),  (14, '2021-11-11', 5, 2, 6), (15, '2021-11-11', 3, 2, 7), (16, '2021-11-11', 3, 5, 1),  (17, '2021-11-12', 5, 2, 2),  
(18, '2021-11-12', 3, 2, 4), (19, '2021-11-13', 7, 5, 6),  (20, '2021-11-14', 5, 2, 3), (21, '2021-11-14', 3, 2, 4);"""
logger.info("Inserting records into the tbl_bookings table")
first_cursor.execute(insert_into_tbl_bookings)
first_connection.commit()

insert_into_tbl_courses = """INSERT INTO tbl_courses (CourseName, Cost) VALUES ("Greek salad", 15.50), ("Bean soup", 12.25), ("Pizza", 15.00), 
("Carbonara", 12.50), ("Kabasa", 17.00), ("Shawarma", 11.30);"""
logger.info("Inserting records into the tbl_courses table")
first_cursor.execute(insert_into_tbl_courses)
first_connection.commit()


execute_display_query_results(select_all_query("tbl_customers"))
print("\n")
execute_display_query_results(select_all_query("tbl_bookings"))
print("\n")
execute_display_query_results(select_all_query("tbl_courses"))








inner_join_query = """SELECT FullName, PhoneNumber, BookingDate, NumberOfGuests FROM tbl_customers
INNER JOIN tbl_bookings ON tbl_customers.CustomerID = tbl_bookings.CustomerID;"""
execute_display_query_results(inner_join_query)





left_join_query = """SELECT tbl_customers.CustomerID, BookingID FROM tbl_customers
LEFT JOIN tbl_bookings ON tbl_customers.CustomerID = tbl_bookings.CustomerID;"""
execute_display_query_results(left_join_query)





create_new_order_table = """CREATE TABLE IF NOT EXISTS orders_tbl(OrderID INT, Department VARCHAR(100), OrderDate DATE, OrderQty INT, OrderTotal INT, PRIMARY KEY(OrderID));"""
first_cursor.execute(create_new_order_table)
print("Table orders_tbl successfully created")
logger.info("Table orders_tbl successfully created")


insert_into_new_table = """INSERT INTO orders_tbl VALUES(1,'Lawn Care','2022-05-05',12,500),(2,'Decking','2022-05-22',150,1450),(3,'Compost and Stones','2022-05-27',20,780),(4,'Trees and Shrubs','2022-06-01',15,400),(5,'Garden Decor','2022-06-10',2,1250),
(6,'Lawn Care','2022-06-10',12,500),(7,'Decking','2022-06-25',150,1450),(8,'Compost and Stones','2022-05-29',20,780),(9,'Trees and Shrubs','2022-06-10',15,400),(10,'Garden Decor','2022-06-10',2,1250),(11,'Lawn Care','2022-06-25',10,400), 
(12,'Decking','2022-06-25',100,1400),(13,'Compost and Stones','2022-05-30',15,700),(14,'Trees and Shrubs','2022-06-15',10,300),(15,'Garden Decor','2022-06-11',2,1250),(16,'Lawn Care','2022-06-10',12,500),
(17,'Decking','2022-06-25',150,1450),(18,'Trees and Shrubs','2022-06-10',15,400),(19,'Lawn Care','2022-06-10',12,500),(20,'Decking','2022-06-25',150,1450),(21,'Decking','2022-06-25',150,1450);"""


logger.info("Inserting records into the orders_tbl table")
first_cursor.execute(insert_into_new_table)
first_connection.commit()


execute_display_query_results(select_all_query("orders_tbl"))





select_query = "SELECT OrderDate FROM orders_tbl GROUP BY OrderDate"
execute_display_query_results(select_query)





select_query = "SELECT OrderDate, Count(OrderQty) AS OrderQuantity FROM orders_tbl GROUP BY OrderDate"
execute_display_query_results(select_query)





select_query = "SELECT Department, Sum(OrderQty) AS OrderQuantity FROM orders_tbl GROUP BY Department"
execute_display_query_results(select_query)





select_query = "SELECT OrderDate, Count(OrderQty) AS OrderQuantity FROM orders_tbl WHERE OrderDate BETWEEN '2022-06-01' AND '2022-06-30' GROUP BY OrderDate"
execute_display_query_results(select_query)





select_query = "SELECT * FROM tbl_orders"
execute_display_query_results(select_query)





replace_query = """REPLACE INTO tbl_orders (OrderID, ClientID, ProductID, Quantity, Cost) 
VALUES (11, 'Cl2', 'P3', 50, 5000), (12, 'Cl2', 'P2', 25, 1000);"""

first_cursor.execute(replace_query)
first_connection.commit()


# select_query = "SELECT * FROM tbl_orders"
execute_display_query_results(select_all_query("tbl_orders"))





replace_query_set = """REPLACE INTO tbl_orders SET OrderID = 11, ClientID = 'Cl2', ProductID = 'P3', Quantity = 50, Cost = 500;"""
first_cursor.execute(replace_query_set)
first_connection.commit()


execute_display_query_results(select_all_query("tbl_orders"))





create_menu_items_table = """CREATE TABLE IF NOT EXISTS tbl_menuitems (ItemID INT, Name VARCHAR(200), Type VARCHAR(100), Price INT, PRIMARY KEY (ItemID));"""
first_cursor.execute(create_menu_items_table)

create_menu_table = """CREATE TABLE IF NOT EXISTS tbl_menu (MenuID INT, ItemID INT, Cuisine VARCHAR(100), PRIMARY KEY (MenuID, ItemID));"""
first_cursor.execute(create_menu_table)

create_bookings_table = """CREATE TABLE IF NOT EXISTS bookings_tbl (BookingID INT, TableNo INT, GuestFirstName VARCHAR(100), GuestLastName VARCHAR(100), BookingSlot TIME, EmployeeID INT, PRIMARY KEY (BookingID));"""
first_cursor.execute(create_bookings_table)

create_table_orders_table = """CREATE TABLE IF NOT EXISTS tbl_tableorders (OrderID INT, TableNo INT, MenuID INT, BookingID INT, BillAmount INT, Quantity INT, PRIMARY KEY (OrderID,TableNo));"""
first_cursor.execute(create_table_orders_table)


insert_into_menuitems_query = """INSERT INTO tbl_menuitems VALUES
(1,'Olives','Starters', 5), (2,'Flatbread','Starters', 5),(3, 'Minestrone', 'Starters', 8), (4, 'Tomato bread','Starters', 8), (5, 'Falafel', 'Starters', 7), 
(6, 'Hummus', 'Starters', 5), (7, 'Greek salad', 'Main Courses', 15), (8, 'Bean soup', 'Main Courses', 12), (9, 'Pizza', 'Main Courses', 15), 
(10,'Greek yoghurt','Desserts', 7), (11, 'Ice cream', 'Desserts', 6),(12, 'Cheesecake', 'Desserts', 4), 
(13, 'Athens White wine', 'Drinks', 25), (14, 'Corfu Red Wine', 'Drinks', 30), (15, 'Turkish Coffee', 'Drinks', 10), 
(16, 'Turkish Coffee', 'Drinks', 10), (17, 'Kabasa', 'Main Courses', 17);"""
first_cursor.execute(insert_into_menuitems_query)
first_connection.commit()


insert_into_menu_query = """INSERT INTO tbl_menu VALUES(1, 1, 'Greek'), (1, 7, 'Greek'), (1, 10, 'Greek'), (1, 13, 'Greek'), (2, 3, 'Italian'), (2, 9, 'Italian'), (2, 12, 'Italian'), 
(2, 15, 'Italian'), (3, 5, 'Turkish'), (3, 17, 'Turkish'), (3, 11, 'Turkish'), (3, 16, 'Turkish');"""
first_cursor.execute(insert_into_menu_query)
first_connection.commit()


insert_into_bookings_query = """INSERT INTO bookings_tbl VALUES(1,12,'Anna','Iversen','19:00:00',1),  
(2, 12, 'Joakim', 'Iversen', '19:00:00', 1), (3, 19, 'Vanessa', 'McCarthy', '15:00:00', 3), 
(4, 15, 'Marcos', 'Romero', '17:30:00', 4), (5, 5, 'Hiroki', 'Yamane', '18:30:00', 2),
(6, 8, 'Diana', 'Pinto', '20:00:00', 5);"""
first_cursor.execute(insert_into_bookings_query)
first_connection.commit()


insert_into_tableorders_query = """INSERT INTO tbl_tableorders VALUES(1, 12, 1, 1, 2, 86), (2, 19, 2, 2, 1, 37), (3, 15, 2, 3, 1, 37), (4, 5, 3, 4, 1, 40), (5, 8, 1, 5, 1, 43);"""
first_cursor.execute(insert_into_tableorders_query)
first_connection.commit()


execute_display_query_results(select_all_query("tbl_menuitems"))


execute_display_query_results(select_all_query("tbl_menu"))


execute_display_query_results(select_all_query("bookings_tbl"))


execute_display_query_results(select_all_query("tbl_tableorders"))





select_query = """SELECT * FROM bookings_tbl WHERE BookingSlot > ANY (SELECT BookingSlot FROM bookings_tbl WHERE GuestFirstName = 'Vanessa' AND GuestLastName = 'McCarthy');"""
execute_display_query_results(select_query)





select_query = """SELECT * FROM tbl_menuitems WHERE Price > ALL (SELECT Price FROM tbl_menuitems WHERE Type IN ('Starters', 'Desserts'));"""
execute_display_query_results(select_query)





select_query = """SELECT * FROM tbl_menuitems WHERE Price = (SELECT Price FROM tbl_menuitems INNER JOIN tbl_menu ON tbl_menuitems.ItemID = tbl_menu.ItemID WHERE tbl_menu.Cuisine = 'Italian' AND tbl_menuitems.Type = 'Starters');"""
execute_display_query_results(select_query)





select_query = """SELECT * FROM tbl_menuitems WHERE ItemID != ALL (SELECT ItemID FROM tbl_menu INNER JOIN tbl_tableorders ON tbl_menu.MenuID = tbl_tableorders.MenuID);"""
execute_display_query_results(select_query)





execute_display_query_results(select_all_query("tbl_orders"))





create_view_query = """CREATE VIEW OrdersView AS SELECT OrderID, Quantity, Cost FROM tbl_orders;"""
first_cursor.execute(create_view_query)


select_view_query = """SELECT * FROM OrdersView;"""
execute_display_query_results(select_view_query)





update_orders_view_query = """UPDATE OrdersView SET Cost = 200 WHERE OrderID = 2;"""
first_cursor.execute(update_orders_view_query)


select_view_query = """SELECT * FROM OrdersView;"""
execute_display_query_results(select_view_query)


execute_display_query_results(select_all_query("tbl_orders"))





rename_view_query = """RENAME TABLE OrdersView TO ClientsOrdersView;"""
first_cursor.execute(rename_view_query)


select_view_query = """SELECT * FROM ClientsOrdersView;"""
execute_display_query_results(select_view_query)





drop_view_query = """DROP VIEW ClientsOrdersView;"""
first_cursor.execute(drop_view_query)








create_procedure_query = """CREATE PROCEDURE GetOrdersData() SELECT * FROM tbl_orders;"""
first_cursor.execute(create_procedure_query)


first_cursor.callproc("GetOrdersData")

results=next(first_cursor.stored_results())
table_column_names = results.column_names
dataset = results.fetchall()

execute_display_query_results(table_column_names=table_column_names, results=dataset)








select_query = """SELECT * FROM tbl_bookings WHERE BookingDate BETWEEN '2021-11-11' AND '2021-11-13'"""
execute_display_query_results(select_query)





join_query = """SELECT FullName, BookingID, NumberOfGuests FROM tbl_customers
INNER JOIN tbl_bookings ON tbl_customers.CustomerID = tbl_bookings.CustomerID WHERE BookingDate = '2021-11-11';"""
execute_display_query_results(join_query)





groupby_query: str = "SELECT BookingDate, COUNT(BookingDate) AS NumberOfBookings FROM tbl_bookings GROUP BY BookingDate"
execute_display_query_results(groupby_query)





replace_query_set = """REPLACE INTO tbl_courses SET CourseName = 'Kabasa', Cost = '20.50';"""
first_cursor.execute(replace_query_set)
first_connection.commit()


# select_query = "SELECT * FROM tbl_courses"
execute_display_query_results(select_all_query("tbl_courses"))





create_table_deliveryaddress_query = """CREATE TABLE IF NOT EXISTS tbl_delivery_address (ID INT NOT NULL PRIMARY KEY, Address VARCHAR(255) NOT NULL, TYPE VARCHAR(100) NOT NULL DEFAULT "PRIVATE",  
CustomerID INT NOT NULL, FOREIGN KEY (CustomerID) REFERENCES tbl_customers (CustomerID) ON DELETE CASCADE ON UPDATE CASCADE);"""

first_cursor.execute(create_table_deliveryaddress_query)


show_query = "SHOW COLUMNS FROM tbl_delivery_address"
execute_display_query_results(show_query)





alter_table_query = """ALTER TABLE tbl_courses ADD COLUMN Ingredients VARCHAR(255);"""
first_cursor.execute(alter_table_query)


show_query = "SHOW COLUMNS FROM tbl_courses"
execute_display_query_results(show_query)





subquery_query: str = """SELECT FullName FROM tbl_customers WHERE CustomerID = ANY (SELECT CustomerID FROM tbl_bookings WHERE BookingDate = '2021-11-11');"""
execute_display_query_results(subquery_query)





create_view_query: str = """CREATE VIEW BookingsView AS SELECT BookingID, BookingDate, NumberOfGuests FROM tbl_bookings WHERE BookingDate < '2021-11-13' AND NumberOfGuests > 3;"""
first_cursor.execute(create_view_query)

select_query = """SELECT * FROM BookingsView;"""
execute_display_query_results(select_query)





stored_procedure_query = """
CREATE PROCEDURE GetBookingsData(IN inputDate DATE)
BEGIN
SELECT BookingID, BookingDate, TableNumber, NumberOfGuests, tbl_bookings.CustomerID
FROM tbl_bookings
INNER JOIN tbl_customers ON tbl_bookings.CustomerID = tbl_customers.CustomerID
WHERE BookingDate = inputDate;
END
"""
first_cursor.execute(stored_procedure_query)


first_cursor.callproc("GetBookingsData", ('2021-11-13', ))
logger.info("Called the GetBookingsData procedure with parameters: ('2021-11-13', )")
results=next(first_cursor.stored_results())
table_column_names = results.column_names
dataset = results.fetchall()

execute_display_query_results(table_column_names=table_column_names, results=dataset)





select_query = """SELECT CONCAT("ID: ", BookingID, ", Date: ", BookingDate, ", Number of guests: ", NumberOfGuests) AS 'Booking Details' FROM tbl_bookings;"""
execute_display_query_results(select_query)


first_cursor.close()
first_connection.close()






