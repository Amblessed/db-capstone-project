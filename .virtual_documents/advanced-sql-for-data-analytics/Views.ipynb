import os
import mysql.connector as connector
import logging


logger = logging.getLogger("[Views MySQL]")
if os.path.exists("../log/views-mysql.log"):
  os.remove("../log/views-mysql.log")
logging.basicConfig(filename='../log/views-mysql.log', encoding='utf-8', level=logging.DEBUG, format='%(asctime)s ==> %(message)s', datefmt='%m/%d/%Y %I:%M:%S')


logger.info("Creating a connection between MySQL and Python")
dbconfig={"user":"root", "password":os.environ["MYSQL_PASSWORD"], "port":33061, "host":"localhost"}
connection=connector.connect(**dbconfig)
print("Connection established between MySQL and Python")
logger.info("Connection established between MySQL and Python")


print("Creating cursor object from connection")
logger.info("Creating first cursor object from connection")
cursor = connection.cursor()
print("Cursor object created to communicate with MySQL using Python.")
logger.info("Cursor object created to communicate with MySQL using Python.")


# Get a cursor object from the cursor pool
database_name: str = "db_views"
drop_database_query: str = f"""DROP DATABASE IF EXISTS {database_name}"""
cursor.execute(drop_database_query)
logger.info("Dropping Database if it already exists.")

create_database_query: str = f"""CREATE DATABASE IF NOT EXISTS {database_name}"""
print("Creating Database.")
logger.info("Creating Database.")
cursor.execute(create_database_query)
logger.info("Database created.")
print("Database created.")


# Check to see that the database was created
list_of_databases: list = []
cursor.execute("SHOW DATABASES;")
databases = cursor.fetchall()
for database in databases:
    db_name: str = database[0]
    list_of_databases.append(db_name)
    if db_name == database_name:
        print(f"Database '{database_name}' was successfully created")
        logger.info(f"Database '{database_name}' was successfully created.")
        break

# Set the new created database as the database to use
cursor.execute(f"USE {database_name}")
print(f"Database '{database_name}' set for use.")
logger.info(f"Database '{database_name}' set for use.")


create_orders_query = """CREATE TABLE IF NOT EXISTS tbl_orders (OrderID INT NOT NULL PRIMARY KEY, ProductID INT, CustomerID INT, SalesPersonID INT, OrderDate Date, ShipDate DATE, OrderStatus VARCHAR(50), ShipAddress VARCHAR(255), BillAddress VARCHAR(255), 
Quantity INT, Sales INT, CreationTime TimeStamp);"""
cursor.execute(create_orders_query)
logger.info("tbl_orders table created.")

create_products_query = """CREATE TABLE IF NOT EXISTS tbl_products (ProductID INT NOT NULL PRIMARY KEY, Product VARCHAR(50), Category VARCHAR(50), Price INT);"""
cursor.execute(create_products_query)
logger.info("tbl_products table created.")

create_customers_query = """CREATE TABLE IF NOT EXISTS tbl_customers (CustomerID INT NOT NULL PRIMARY KEY, FirstName VARCHAR(50), LastName VARCHAR(50), Country VARCHAR(50), Score INT);"""
cursor.execute(create_customers_query)
logger.info("tbl_customers table created.")

create_employees_query = """CREATE TABLE IF NOT EXISTS tbl_employees (EmployeeID INT NOT NULL PRIMARY KEY, FirstName VARCHAR(50), LastName VARCHAR(50), Department VARCHAR(50), BirthDate Date, Gender CHAR(1), Salary INT, ManagerID INT);"""
cursor.execute(create_employees_query)
logger.info("tbl_employees table created.")


insert_into_orders_query = """INSERT INTO tbl_orders(OrderID, ProductID, CustomerID, SalesPersonID, OrderDate, ShipDate, OrderStatus, ShipAddress, BillAddress, Quantity, Sales, CreationTime) VALUES
(1, 101, 2, 3, '2025-01-01', '2025-01-05', 'Delivered', '9833 Mt. Dias Blv.', '1226 Shoe St.', 1, 10, '2025-01-01 12:34:56.0000000'),  
(2, 102, 3,	3, '2025-01-05', '2025-01-10', 'Shipped', '250 Race Court', NULL, 1, 15, '2025-01-05 23:22:04.0000000'),
(3, 101, 1,	5, '2025-01-10', '2025-01-25', 'Delivered', '8157 W. Book', '8157 W. Book', 2, 20, '2025-01-10 18:24:08.0000000'),
(4, 105, 1, 3, '2025-01-20', '2025-01-25', 'Shipped', '5724 Victory Lane', '',	2, 60, '2025-01-20 05:50:33.0000000'),
(5, 104, 2, 5, '2025-02-01', '2025-02-05', 'Delivered', NULL , NULL , 1, 25, '2025-02-01 14:02:41.0000000'),
(6, 104, 3, 5, '2025-02-05', '2025-02-10', 'Delivered', '1792 Belmont Rd.',NULL , 2, 50, '2025-02-06 15:34:57.0000000'),
(7, 102, 1, 1, '2025-02-15', '2025-02-27', 'Delivered', '136 Balboa Court', '' , 2, 30, '2025-02-16 06:22:01.0000000'),
(8, 101, 4, 3, '2025-02-18', '2025-02-27', 'Shipped', '2947 Vine Lane', '4311 Clay Rd', 3, 90, '2025-02-18 10:45:22.0000000'),
(9, 101, 2, 3, '2025-03-10', '2025-03-15', 'Shipped', '3768 Door Way', '', 2, 20, '2025-03-10 12:59:04.0000000'),
(10, 102, 3, 5, '2025-03-15', '2025-03-20', 'Shipped', NULL , NULL, 0, 60, '2025-03-16 23:25:15.0000000');"""

cursor.execute(insert_into_orders_query)
connection.commit()

insert_into_products_query = """INSERT INTO tbl_products(ProductID, Product, Category, Price) VALUES
(101, 'Bottle', 'Accessories', 10),  
(102, 'Tire', 'Accessories', 15),
(103, 'Socks', 'Clothing', 20),  
(104, 'Caps', 'Clothing', 25),
(105, 'Gloves', 'Clothing', 30);"""

value = None

cursor.execute(insert_into_products_query)
connection.commit()


insert_into_customers_query = """INSERT INTO tbl_customers(CustomerID, FirstName, LastName, Country, Score) VALUES
(1, 'Jossef', 'Goldberg', 'Germany', 350),
(2, 'Kevin', 'Brown', 'USA', 900),
(3, 'Mary', NULL, 'USA', 750),
(4, 'Mark', 'Schwarz', 'Germany', 500),
(5, 'Anna', 'Adams', 'USA', NULL);"""

cursor.execute(insert_into_customers_query)
connection.commit()

insert_into_employees_query = """INSERT INTO tbl_employees(EmployeeID, FirstName, LastName, Department, BirthDate, Gender, Salary, ManagerID) VALUES
(1, 'Frank', 'Lee', 'Marketing', '1988-12-05', 'M', 55000, NULL),
(2, 'Kevin', 'Brown', 'Marketing', '1972-11-25', 'M', 65000, 1),
(3, 'Mary', NULL, 'Sales', '1986-01-05', 'F', 75000, 1), 
(4, 'Michael', 'Ray', 'Sales', '1977-02-10', 'M', 90000, 2), 
(5, 'Carol', 'Baker', 'Sales', '1982-02-11', 'F', 55000, 3);"""

cursor.execute(insert_into_employees_query)
connection.commit()





def select_all_query(table_name: str):
    query = f"""SELECT * FROM {table_name};"""
    return query


def display_results(table_column_names: list, results: list):
    table_columns_length = [len(x) for x in table_column_names]
    for result in results:
        for value in range(len(result)):
            row_data = result[value]
            if row_data:
                row_data = str(row_data)
                if len(row_data) > table_columns_length[value]:
                    table_columns_length[value] = len(row_data)
    dashes_plus = ""
    for num in range(len(table_columns_length)):
        dashes_plus = dashes_plus + "+" + '-'*(table_columns_length[num]+2)
    dashes_plus = dashes_plus + "+"
    
    print(dashes_plus)
    
    table_headers = ""
    for num in range(len(table_column_names)):
        table_headers = table_headers + f"| {table_column_names[num]:^{table_columns_length[num]}} "
    table_headers = table_headers + "|"
    print(table_headers)
    
    print(dashes_plus)
    
    for result in results:
        table_row = ""
        for value in range(len(result)):
            row_data = result[value]
            if row_data is None:
                row_data = "NULL"            
                #if "Field" in table_column_names or "select_type" in table_column_names:
                    #row_data = None
                #else:
                    #row_data = None
            table_row = table_row + "|" + f"{str(row_data):^{table_columns_length[value]+2}}"
        print(table_row + "|")
    print(dashes_plus)
    print(f"{len(results)} rows returned")

def execute_display_query_results(query: str = "", table_column_names: list = [], results: list = []): 
    if query:
        logger.info(f"Executing the query: {query}")
    if len(query) > 2 and (table_column_names or results):
        print("You can only pass in the query alone or the table_column_names and results list")
        assert False
    if query and not table_column_names and not results:
        cursor.execute(query)
        results = cursor.fetchall()    
        table_column_names = cursor.column_names
    
    display_results(table_column_names, results)


execute_display_query_results(select_all_query("tbl_orders"))
print("\n")
execute_display_query_results(select_all_query("tbl_products"))
print("\n")
execute_display_query_results(select_all_query("tbl_customers"))











select_query = """SELECT DATE_FORMAT(OrderDate, '%Y-%m-01') AS OrderMonth, 
SUM(Sales) AS TotalSales,
COUNT(OrderID) AS TotalOrders,
SUM(Quantity) AS TotalQuantity
FROM tbl_orders
GROUP BY DATE_FORMAT(OrderDate, '%Y-%m-01')
"""
execute_display_query_results(select_query)


select_query = """WITH CTE_Monthly_Summary AS (SELECT DATE_FORMAT(OrderDate, '%Y-%m-01') AS OrderMonth, SUM(Sales) AS TotalSales
FROM tbl_orders
GROUP BY DATE_FORMAT(OrderDate, '%Y-%m-01'))

SELECT OrderMonth, TotalSales,
SUM(TotalSales) OVER (ORDER BY OrderMonth) AS RunningTotal
FROM CTE_Monthly_Summary
"""
execute_display_query_results(select_query)


create_view_query = """CREATE VIEW Monthly_Summary AS 
(SELECT DATE_FORMAT(OrderDate, '%Y-%m-01') AS OrderMonth, SUM(Sales) AS TotalSales
FROM tbl_orders
GROUP BY DATE_FORMAT(OrderDate, '%Y-%m-01'))
"""
cursor.execute(create_view_query)


execute_display_query_results("SELECT * FROM Monthly_Summary")


select_query = """SELECT OrderMonth, TotalSales,
SUM(TotalSales) OVER (ORDER BY OrderMonth) AS RunningTotal
FROM Monthly_Summary
"""
execute_display_query_results(select_query)





create_view_query = """ALTER ALGORITHM=MERGE VIEW Monthly_Summary AS 
(SELECT DATE_FORMAT(OrderDate, '%Y-%m-01') AS OrderMonth, 
SUM(Sales) AS TotalSales,
SUM(Quantity) AS TotalQuantity
FROM tbl_orders
GROUP BY DATE_FORMAT(OrderDate, '%Y-%m-01'))
"""
cursor.execute(create_view_query)


select_query = """SELECT *, SUM(TotalSales) OVER () AS RunningTotal
FROM Monthly_Summary
"""
execute_display_query_results(select_query)


select_query = """SELECT *, SUM(TotalSales) OVER (ORDER BY OrderMonth) AS RunningTotal
FROM Monthly_Summary
"""
execute_display_query_results(select_query)


create_view_query = """CREATE OR REPLACE VIEW Monthly_Summary AS 
(SELECT DATE_FORMAT(OrderDate, '%Y-%m-01') AS OrderMonth, 
SUM(Sales) AS TotalSales,
SUM(Quantity) AS TotalSalesQuantity
FROM tbl_orders
GROUP BY DATE_FORMAT(OrderDate, '%Y-%m-01'))
"""
cursor.execute(create_view_query)


select_query = """SELECT *, SUM(TotalSales) OVER (ORDER BY OrderMonth) AS RunningTotal
FROM Monthly_Summary
"""
execute_display_query_results(select_query)








# COALESCE() Function: Return the first non-null value in a list:
#-- CONCAT(COALESCE(e.FirstName, ''), ' ', COALESCE(e.LastName, '')) AS EmployeeName,
select_query = """SELECT OrderID, OrderDate, Sales, Quantity, Product, Category, Price, 
CONCAT(COALESCE(c.FirstName, ''), ' ', COALESCE(c.LastName, '')) AS CustomerName,
CONCAT(COALESCE(e.FirstName, ''), ' ', COALESCE(e.LastName, '')) AS EmployeeName,
Department
FROM tbl_orders o
LEFT JOIN tbl_products USING(ProductID)
LEFT JOIN tbl_customers c USING(CustomerID)
LEFT JOIN tbl_employees e ON e.EmployeeID = o.SalesPersonID
"""
execute_display_query_results(select_query)


create_view_query = """CREATE OR REPLACE VIEW View_OrderDetails AS (SELECT OrderID, OrderDate, Sales, Quantity, Product, Category, Price, 
CONCAT(COALESCE(c.FirstName, ''), ' ', COALESCE(c.LastName, '')) AS CustomerName,
CONCAT(COALESCE(e.FirstName, ''), ' ', COALESCE(e.LastName, '')) AS EmployeeName,
Department
FROM tbl_orders o
LEFT JOIN tbl_products USING(ProductID)
LEFT JOIN tbl_customers c USING(CustomerID)
LEFT JOIN tbl_employees e ON e.EmployeeID = o.SalesPersonID);
"""
cursor.execute(create_view_query)


select_query = """SELECT * FROM View_OrderDetails
"""
execute_display_query_results(select_query)





select_query = """SELECT * FROM tbl_customers;"""
execute_display_query_results(select_query)


create_view_query = """CREATE OR REPLACE VIEW View_EU_OrderDetails AS (SELECT OrderID, OrderDate, Sales, Quantity, Product, Category, Price, 
CONCAT(COALESCE(c.FirstName, ''), ' ', COALESCE(c.LastName, '')) AS CustomerName,
CONCAT(COALESCE(e.FirstName, ''), ' ', COALESCE(e.LastName, '')) AS EmployeeName,
Department
FROM tbl_orders o
LEFT JOIN tbl_products USING(ProductID)
LEFT JOIN tbl_customers c USING(CustomerID)
LEFT JOIN tbl_employees e ON e.EmployeeID = o.SalesPersonID
WHERE c.Country != 'USA');
"""
cursor.execute(create_view_query)


select_query = """SELECT * FROM View_EU_OrderDetails
"""
execute_display_query_results(select_query)


create_view_query = """CREATE OR REPLACE VIEW View_Germany_OrderDetails AS (SELECT OrderID AS BestellNr, OrderDate AS Bestelldatum, Sales AS Umstaz, Quantity AS Menge, Product AS Produkt, Category AS Kategorie, Price AS Kosten, 
CONCAT(COALESCE(c.FirstName, ''), ' ', COALESCE(c.LastName, '')) AS KundenName,
CONCAT(COALESCE(e.FirstName, ''), ' ', COALESCE(e.LastName, '')) AS MitarbeiterName,
Department AS Abteilung
FROM tbl_orders o
LEFT JOIN tbl_products USING(ProductID)
LEFT JOIN tbl_customers c USING(CustomerID)
LEFT JOIN tbl_employees e ON e.EmployeeID = o.SalesPersonID
WHERE c.Country = 'Germany');
"""
cursor.execute(create_view_query)


select_query = """SELECT * FROM View_Germany_OrderDetails
"""
execute_display_query_results(select_query)



