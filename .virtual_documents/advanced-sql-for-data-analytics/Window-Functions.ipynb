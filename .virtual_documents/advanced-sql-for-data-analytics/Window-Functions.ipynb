import os
import mysql.connector as connector
import logging
from time import time





logger = logging.getLogger("[Window Functions MySQL]")
if os.path.exists("../log/window-fxn.log"):
  os.remove("../log/window-fxn.log")
logging.basicConfig(filename='../log/window-fxn.log', encoding='utf-8', level=logging.DEBUG, format='%(asctime)s ==> %(message)s', datefmt='%m/%d/%Y %I:%M:%S')





logger.info("Creating a connection between MySQL and Python")
dbconfig={"user":"root", "password":os.environ["MYSQL_ROOT_PASSWORD"], "port":33061, "host":"localhost"}
connection=connector.connect(**dbconfig)
print("Connection established between MySQL and Python")
logger.info("Connection established between MySQL and Python")





print("Creating cursor object from connection")
logger.info("Creating first cursor object from connection")
cursor = connection.cursor()
print("Cursor object created to communicate with MySQL")
logger.info("Cursor object created to communicate with MySQL")





database_name: str = "db_window_fxn"
drop_database_query: str = f"""DROP DATABASE IF EXISTS {database_name}"""
cursor.execute(drop_database_query)
logger.info(f"Dropping Database {database_name} if it already exists.")

create_database_query: str = f"""CREATE DATABASE IF NOT EXISTS {database_name}"""
print(f"Creating Database {database_name}.")
logger.info(f"Creating Database {database_name}.")
cursor.execute(create_database_query)
logger.info(f"{database_name} Database created.")
print(f"{database_name} Database created.")





cursor.execute("SHOW DATABASES;")
databases = cursor.fetchall()
isCreated = False
for database in databases:
    db_name: str = database[0]
    if db_name == database_name:
        isCreated = True
        print(f"Database '{database_name}' was successfully created")
        logger.info(f"Database '{database_name}' was successfully created.")
        break

if not isCreated:
    print(f"Database '{database_name}' was not successfully created")
    logger.info(f"Database '{database_name}' was not successfully created.")
    sys.exit()





# Set the new created database as the database to use
cursor.execute(f"USE {database_name}")
print(f"Database '{database_name}' set for use.")
logger.info(f"Database '{database_name}' set for use.")





create_orders_query = """CREATE TABLE IF NOT EXISTS tbl_orders (OrderID INT NOT NULL PRIMARY KEY, ProductID INT, CustomerID INT, SalesPersonID INT, OrderDate Date, ShipDate DATE, OrderStatus VARCHAR(50), ShipAddress VARCHAR(255), BillAddress VARCHAR(255), 
Quantity INT, Sales INT, CreationTime TimeStamp);"""
cursor.execute(create_orders_query)
logger.info("tbl_orders table created.")

create_orders_archive_query = """CREATE TABLE IF NOT EXISTS tbl_orders_archive (OrderID INT NOT NULL, ProductID INT, CustomerID INT, SalesPersonID INT, OrderDate Date, ShipDate DATE, OrderStatus VARCHAR(50), ShipAddress VARCHAR(255), BillAddress VARCHAR(255), 
Quantity INT, Sales INT, CreationTime TimeStamp);"""
cursor.execute(create_orders_archive_query)
logger.info("tbl_orders table created.")

create_products_query = """CREATE TABLE IF NOT EXISTS tbl_products (ProductID INT NOT NULL PRIMARY KEY, Product VARCHAR(50), Category VARCHAR(50), Price INT);"""
cursor.execute(create_products_query)
logger.info("tbl_products table created.")

create_customers_query = """CREATE TABLE IF NOT EXISTS tbl_customers (CustomerID INT NOT NULL PRIMARY KEY, FirstName VARCHAR(50), LastName VARCHAR(50), Country VARCHAR(50), Score INT);"""
cursor.execute(create_customers_query)
logger.info("tbl_customers table created.")

create_employees_query = """CREATE TABLE IF NOT EXISTS tbl_employees (EmployeeID INT NOT NULL PRIMARY KEY, FirstName VARCHAR(50), LastName VARCHAR(50), Department VARCHAR(50), BirthDate Date, Gender CHAR(1), Salary INT, ManagerID INT);"""
cursor.execute(create_employees_query)
logger.info("tbl_employees table created.")





insert_into_orders_query = """INSERT INTO tbl_orders(OrderID, ProductID, CustomerID, SalesPersonID, OrderDate, ShipDate, OrderStatus, ShipAddress, BillAddress, Quantity, Sales, CreationTime) VALUES
(1, 101, 2, 3, '2025-01-01', '2025-01-05', 'Delivered', '9833 Mt. Dias Blv.', '1226 Shoe St.', 1, 10, '2025-01-01 12:34:56.0000000'),  
(2, 102, 3,	3, '2025-01-05', '2025-01-10', 'Shipped', '250 Race Court', NULL, 1, 15, '2025-01-05 23:22:04.0000000'),
(3, 101, 1,	5, '2025-01-10', '2025-01-25', 'Delivered', '8157 W. Book', '8157 W. Book', 2, 20, '2025-01-10 18:24:08.0000000'),
(4, 105, 1, 3, '2025-01-20', '2025-01-25', 'Shipped', '5724 Victory Lane', '',	2, 60, '2025-01-20 05:50:33.0000000'),
(5, 104, 2, 5, '2025-02-01', '2025-02-05', 'Delivered', NULL , NULL , 1, 25, '2025-02-01 14:02:41.0000000'),
(6, 104, 3, 5, '2025-02-05', '2025-02-10', 'Delivered', '1792 Belmont Rd.',NULL , 2, 50, '2025-02-06 15:34:57.0000000'),
(7, 102, 1, 1, '2025-02-15', '2025-02-27', 'Delivered', '136 Balboa Court', '' , 2, 30, '2025-02-16 06:22:01.0000000'),
(8, 101, 4, 3, '2025-02-18', '2025-02-27', 'Shipped', '2947 Vine Lane', '4311 Clay Rd', 3, 90, '2025-02-18 10:45:22.0000000'),
(9, 101, 2, 3, '2025-03-10', '2025-03-15', 'Shipped', '3768 Door Way', '', 2, 20, '2025-03-10 12:59:04.0000000'),
(10, 102, 3, 5, '2025-03-15', '2025-03-20', 'Shipped', NULL , NULL, 0, 60, '2025-03-16 23:25:15.0000000');"""
cursor.execute(insert_into_orders_query)

insert_into_orders_archive_query = """INSERT INTO tbl_orders_archive(OrderID, ProductID, CustomerID, SalesPersonID, OrderDate, ShipDate, OrderStatus, ShipAddress, BillAddress, Quantity, Sales, CreationTime) VALUES
(1, 101, 2, 3, '2025-01-01', '2025-01-05', 'Delivered', '9833 Mt. Dias Blv.', '1226 Shoe St.', 1, 10, '2025-01-01 12:34:56.0000000'),  
(2, 102, 3,	3, '2025-01-05', '2025-01-10', 'Shipped', '250 Race Court', NULL, 1, 15, '2025-01-05 23:22:04.0000000'),
(3, 101, 1,	5, '2025-01-10', '2025-01-25', 'Delivered', '8157 W. Book', '8157 W. Book', 2, 20, '2025-01-10 18:24:08.0000000'),
(4, 105, 1, 3, '2025-01-20', '2025-01-25', 'Shipped', '5724 Victory Lane', '',	2, 60, '2025-01-20 05:50:33.0000000'),
(4, 104, 2, 5, '2025-02-01', '2025-02-05', 'Delivered', NULL , NULL , 1, 25, '2025-02-01 14:02:41.0000000'),
(5, 104, 3, 5, '2025-02-05', '2025-02-10', 'Delivered', '1792 Belmont Rd.',NULL , 2, 50, '2025-02-06 15:34:57.0000000'),
(6, 102, 1, 1, '2025-02-15', '2025-02-27', 'Delivered', '136 Balboa Court', '' , 2, 30, '2025-02-16 06:22:01.0000000'),
(6, 101, 4, 3, '2025-02-18', '2025-02-27', 'Shipped', '2947 Vine Lane', '4311 Clay Rd', 3, 90, '2025-02-18 10:45:22.0000000'),
(6, 101, 2, 3, '2025-03-10', '2025-03-15', 'Shipped', '3768 Door Way', '', 2, 20, '2025-03-10 12:59:04.0000000'),
(7, 102, 3, 5, '2025-03-15', '2025-03-20', 'Shipped', NULL , NULL, 0, 60, '2025-03-16 23:25:15.0000000');"""
cursor.execute(insert_into_orders_archive_query)


insert_into_products_query = """INSERT INTO tbl_products(ProductID, Product, Category, Price) VALUES
(101, 'Bottle', 'Accessories', 10),  
(102, 'Tire', 'Accessories', 15),
(103, 'Socks', 'Clothing', 20),  
(104, 'Caps', 'Clothing', 25),
(105, 'Gloves', 'Clothing', 30);"""
cursor.execute(insert_into_products_query)


insert_into_customers_query = """INSERT INTO tbl_customers(CustomerID, FirstName, LastName, Country, Score) VALUES
(1, 'Jossef', 'Goldberg', 'Germany', 350),
(2, 'Kevin', 'Brown', 'USA', 900),
(3, 'Mary', NULL, 'USA', 750),
(4, 'Mark', 'Schwarz', 'Germany', 500),
(5, 'Anna', 'Adams', 'USA', NULL);"""
cursor.execute(insert_into_customers_query)


insert_into_employees_query = """INSERT INTO tbl_employees(EmployeeID, FirstName, LastName, Department, BirthDate, Gender, Salary, ManagerID) VALUES
(1, 'Frank', 'Lee', 'Marketing', '1988-12-05', 'M', 55000, NULL),
(2, 'Kevin', 'Brown', 'Marketing', '1972-11-25', 'M', 65000, 1),
(3, 'Mary', NULL, 'Sales', '1986-01-05', 'F', 75000, 1), 
(4, 'Michael', 'Ray', 'Sales', '1977-02-10', 'M', 90000, 2), 
(5, 'Carol', 'Baker', 'Sales', '1982-02-11', 'F', 55000, 3);"""

cursor.execute(insert_into_employees_query)


connection.commit()





def select_all_query(table_name: str):
    query = f"""SELECT * FROM {table_name};"""
    return query


def display_results(table_column_names: list, results: list, exec_time):
    table_columns_length = [len(x) for x in table_column_names]
    for result in results:
        for value in range(len(result)):
            row_data = result[value]
            if row_data:
                row_data = str(row_data)
                if len(row_data) > table_columns_length[value]:
                    table_columns_length[value] = len(row_data)
    dashes_plus = ""
    for num in range(len(table_columns_length)):
        dashes_plus = dashes_plus + "+" + '-'*(table_columns_length[num]+2)
    dashes_plus = dashes_plus + "+"
    
    print(dashes_plus)
    
    table_headers = ""
    for num in range(len(table_column_names)):
        table_headers = table_headers + f"| {table_column_names[num]:^{table_columns_length[num]}} "
    table_headers = table_headers + "|"
    print(table_headers)
    
    print(dashes_plus)
    
    for result in results:
        table_row = ""
        for value in range(len(result)):
            row_data = result[value]
            if row_data is None:
                row_data = "NULL"            
            table_row = table_row + "|" + f"{str(row_data):^{table_columns_length[value]+2}}"
        print(table_row + "|")
    print(dashes_plus)
    num_rows: int = len(results)
    message: str = "row returned" if num_rows == 1 else "rows returned"
    print(f"{num_rows} {message} in set: ({exec_time} sec)")

def execute_display_query_results(query: str = "", table_column_names: list = [], results: list = []): 
    if len(query) > 0 and (table_column_names or results):
        print("You can only pass in the query alone or the table_column_names and results list")
        assert False
    if query and not table_column_names and not results:
        logger.info(f"Executing the query: {query}")
        init_time = time()
        cursor.execute(query)
        end_time = time()
        exec_time = end_time - init_time
        results = cursor.fetchall()    
        table_column_names = cursor.column_names
    
    display_results(table_column_names, results, round(exec_time, 3))


print("\ntbl_orders")
execute_display_query_results(select_all_query("tbl_orders"))
print("\ntbl_products")
execute_display_query_results(select_all_query("tbl_products"))
print("\ntbl_customers")
execute_display_query_results(select_all_query("tbl_customers"))
print("\ntbl_employees")
execute_display_query_results(select_all_query("tbl_employees"))











select_query = """SELECT SUM(Sales) AS TotalSales FROM tbl_orders;"""
execute_display_query_results(select_query)





select_query = """SELECT productid, SUM(sales) AS TotalSales FROM tbl_orders GROUP BY productid;"""
execute_display_query_results(select_query)





select_query = """SELECT OrderID, OrderDate, ProductID, SUM(Sales) AS TotalSales FROM tbl_orders GROUP BY OrderID, OrderDate, ProductID;"""
execute_display_query_results(select_query)

## Group By limits: Can't do aggregations and provide details at same time


# Using OVER indicates that it is a window function. Window functions returns a result for each row
select_query = """SELECT SUM(Sales) OVER() AS TotalSales FROM tbl_orders;"""
execute_display_query_results(select_query)


select_query = """SELECT SUM(Sales) OVER(PARTITION BY productid) AS TotalSalesByProduct FROM tbl_orders;"""
execute_display_query_results(select_query)


select_query = """SELECT orderid, orderdate, productid, SUM(Sales) OVER(PARTITION BY productid) AS TotalSalesByProduct FROM tbl_orders;"""
execute_display_query_results(select_query)





select_query = """SELECT orderid, orderdate, productid, sales, orderstatus,
SUM(sales) OVER() AS TotalSales,
SUM(Sales) OVER(PARTITION BY productid) AS TotalSalesByProduct, 
SUM(Sales) OVER(PARTITION BY productid, orderstatus) AS TotalSalesByProductsAndStatus 
FROM tbl_orders;"""
execute_display_query_results(select_query)


# Find the total sales for each combination of product and order status
select_query = """SELECT orderid, orderdate, sales, productid, orderstatus,
SUM(Sales) OVER(PARTITION BY productid, orderstatus) AS TotalSalesByProductsAndStatus 
FROM tbl_orders;"""
execute_display_query_results(select_query)





# With RANK(), we *must* use the Order By Clause

select_query = """SELECT orderid, orderdate, productid, sales, orderstatus,
RANK() OVER(ORDER BY sales DESC) AS RankSales
FROM tbl_orders;"""
execute_display_query_results(select_query)





select_query = """SELECT orderid, orderdate, productid, sales, orderstatus,
SUM(sales) OVER(PARTITION BY ProductID ORDER BY orderdate ROWS BETWEEN UNBOUNDED PRECEDING AND CURRENT ROW) AS TotalSalesByProduct
FROM tbl_orders;"""
execute_display_query_results(select_query)


select_query = """SELECT orderid, orderdate, productid, sales, orderstatus,
SUM(sales) OVER(PARTITION BY orderstatus ORDER BY orderdate ROWS BETWEEN CURRENT ROW AND 2 FOLLOWING) AS TotalSalesByOrderStatus
FROM tbl_orders;"""
execute_display_query_results(select_query)


select_query = """SELECT orderid, orderdate, productid, sales, orderstatus,
SUM(sales) OVER(PARTITION BY ProductID ORDER BY orderdate ROWS BETWEEN UNBOUNDED PRECEDING AND UNBOUNDED FOLLOWING) AS TotalSalesByProduct
FROM tbl_orders;"""
execute_display_query_results(select_query)


select_query = """SELECT orderid, orderdate, productid, sales, orderstatus,
SUM(sales) OVER(PARTITION BY orderstatus ORDER BY orderdate ROWS BETWEEN UNBOUNDED PRECEDING AND CURRENT ROW) AS TotalSales
FROM tbl_orders;"""
execute_display_query_results(select_query)


#filter the result for only shipped
select_query = """SELECT orderid, orderdate, productid, sales, orderstatus,
SUM(sales) OVER(PARTITION BY orderstatus ORDER BY orderdate ROWS BETWEEN UNBOUNDED PRECEDING AND CURRENT ROW) AS TotalSales
FROM tbl_orders WHERE orderstatus = 'Shipped';"""
execute_display_query_results(select_query)

print("\n")

#filter the result for only delivered
select_query = """SELECT orderid, orderdate, productid, sales, orderstatus,
SUM(sales) OVER(PARTITION BY orderstatus ORDER BY orderdate ROWS BETWEEN UNBOUNDED PRECEDING AND CURRENT ROW) AS TotalSales
FROM tbl_orders WHERE orderstatus = 'Delivered';"""
execute_display_query_results(select_query)





select_query = """SELECT orderid, orderdate, productid, sales, orderstatus,
SUM(sales) OVER(PARTITION BY orderstatus) AS TotalSales
FROM tbl_orders
ORDER BY SUM(sales) OVER(PARTITION BY orderstatus);"""
execute_display_query_results(select_query)


execute_display_query_results(select_all_query("tbl_orders"))


## Rank Customers based on their total sales
# With RANK(), we *must* use the Order By Clause

select_query = """SELECT customerid, 
SUM(Sales) AS TotalSalesByCustomer,
RANK() OVER(Order By SUM(Sales) DESC) AS RankCustomersBySales 
FROM tbl_orders
GROUP BY customerid;"""
execute_display_query_results(select_query)


select_query = """SELECT customerid, orderid, orderdate, productid, sales, orderstatus,
RANK() OVER(ORDER BY sales DESC) AS RankSales
FROM tbl_orders;"""
execute_display_query_results(select_query)


select_query = """SELECT customerid, SUM(sales),
RANK() OVER(ORDER BY SUM(sales) DESC) AS RankCustomersBySales 
FROM tbl_orders
GROUP BY customerid;"""
execute_display_query_results(select_query)


#  Perform a group by before the ranking. Use a column in the group by to perform the rank
select_query = """SELECT customerid, SUM(sales)
FROM tbl_orders
GROUP BY customerid;"""
execute_display_query_results(select_query)

print("\n")

select_query = """SELECT customerid, SUM(sales),
RANK() OVER(ORDER BY SUM(sales) DESC) AS RankCustomersBySales 
FROM tbl_orders
GROUP BY customerid;"""
execute_display_query_results(select_query)





select_query = """SELECT orderstatus, COUNT(orderstatus) OVER (PARTITION BY orderstatus) AS CountOrderStatus
FROM tbl_orders;"""
execute_display_query_results(select_query)

print("\n")

select_query = """SELECT productid, COUNT(productid) OVER (PARTITION BY productid) AS CountProducts
FROM tbl_orders;"""
execute_display_query_results(select_query)


select_query = """SELECT productid, COUNT(*) AS CountProducts
FROM tbl_orders
GROUP BY productid;"""
execute_display_query_results(select_query)


select_query = """SELECT count(productid) AS CountProductID, COUNT(*) AS CountProducts
FROM tbl_orders;"""
execute_display_query_results(select_query)


select_query = """SELECT orderid, orderdate, COUNT(*) OVER() AS TotalOrders
FROM tbl_orders;"""
execute_display_query_results(select_query)


## Find the total orders for each customers
select_query = """SELECT orderid, orderdate,
COUNT(*) OVER() AS TotalOrders,
customerid,
COUNT(*) OVER(PARTITION BY customerid) AS TotalOrdersByCustomers
FROM tbl_orders;"""
execute_display_query_results(select_query)


## Find the total number of customers, additionally provide all customer details
select_query = """SELECT *
FROM tbl_customers;"""
execute_display_query_results(select_query)

print("\n")

select_query = """SELECT *, COUNT(*) OVER() AS TotalCustomers
FROM tbl_customers;"""
execute_display_query_results(select_query)

print("\n")
#Find the total number of scores for the customers. Here we need to ignore the null value hence the count would be performed on the score column
#Can used to check for nulls
select_query = """SELECT *, 
COUNT(*) OVER() AS TotalCustomers,
COUNT(score) OVER() AS TotalScores
FROM tbl_customers;"""
execute_display_query_results(select_query)


## Data Quality Issue. Duplicates leads to inaccuracies in analysis
# COUNT() can be used to identify duplicates
# Check whether the table 'Orders' contains any duplicate

select_query = """SELECT orderid, 
COUNT(orderid) OVER(PARTITION BY orderid) AS CheckPrimaryKey
FROM tbl_orders;"""
execute_display_query_results(select_query)


select_query = """SELECT orderid, 
COUNT(orderid) OVER(PARTITION BY orderid) AS CheckPrimaryKey
FROM tbl_orders_archive;"""
execute_display_query_results(select_query)

print("\n")

select_query = """
SELECT * FROM 
(SELECT orderid, 
COUNT(orderid) OVER(PARTITION BY orderid) AS CheckPrimaryKey
FROM tbl_orders_archive) AS T
WHERE CheckPrimaryKey > 1;"""
execute_display_query_results(select_query)





# Find the total sales across all orders
# And the total sales for each product. Provide additional details such as orderid, orderdate

select_query = """SELECT orderid, orderdate, sales, productid, orderstatus,
SUM(sales) OVER(PARTITION BY productid) AS TotalSalesByProduct,
SUM(sales) OVER(PARTITION BY productid, orderstatus) AS TotalSalesByProductAndOrderStatus,
SUM(sales) OVER() AS TotalSales
FROM tbl_orders;"""
execute_display_query_results(select_query)


# Find the percentage contribution of each order to the total sales
select_query = """SELECT orderid, orderdate, sales, productid, orderstatus,
SUM(sales) OVER(PARTITION BY productid) AS TotalSalesByProduct,
SUM(sales) OVER(PARTITION BY productid, orderstatus) AS TotalSalesByProductAndOrderStatus,
SUM(sales) OVER() AS TotalSales,
(sales / SUM(sales) OVER()) * 100 AS PercentageContribution
FROM tbl_orders
ORDER BY PercentageContribution DESC;"""
execute_display_query_results(select_query)





# Find the average sales for each product
select_query = """SELECT orderid, orderdate, sales, productid, orderstatus,
ROUND(AVG(sales) OVER(), 2) AS AverageSales, 
ROUND(AVG(sales) OVER(PARTITION BY productid), 2) AS AverageSalesByProduct
FROM tbl_orders;"""
execute_display_query_results(select_query)


#AVG(COALESCE(Sales, 0)) OVER(PARTITION BY productid) --> This is to handle the case of null values
# Find the average sales for each product
select_query = """SELECT orderid, orderdate, sales, productid, orderstatus,
ROUND(AVG(COALESCE(sales, 0)) OVER(PARTITION BY productid), 2) AS AverageSalesByProduct
FROM tbl_orders;"""
execute_display_query_results(select_query)


# Find the average score for customers. Provide additional details.
select_query = """SELECT *,
SUM(score) OVER() AS TotalScore,
(SUM(score) OVER()) / COUNT(customerid) OVER() AS CalculatedAverageScore,
ROUND(AVG(score) OVER(), 2) AS AverageScoreWithNull,
ROUND(AVG(COALESCE(score, 0)) OVER(), 2) AS AverageScore
FROM tbl_customers;"""
execute_display_query_results(select_query)


## Find all orders where sales are higher than the average sales across all orders
select_query = """SELECT orderid, sales, productid, quantity FROM 
tbl_orders WHERE Sales > 
(SELECT ROUND(AVG(COALESCE(sales, 0)), 2) AS AverageSale FROM tbl_orders);"""
execute_display_query_results(select_query)

print("\n")

select_query = """SELECT * FROM 
(SELECT orderid, sales, productid, quantity, ROUND(AVG(COALESCE(sales, 0)) OVER(), 2) AS AverageSale 
FROM tbl_orders) AS T
WHERE Sales > AverageSale;"""
execute_display_query_results(select_query)





# Find the highest and lowest sales across all orders and the highest & lowest sales for each product. Additionally provide details such as order íd and order date
select_query = """SELECT orderid, orderdate, orderstatus, productid, quantity,sales,
MIN(Sales) OVER() AS LowestSale,
MAX(Sales) OVER() AS HighestSale,
MIN(Sales) OVER(PARTITION BY productid) AS LowestProductSale,
MAX(Sales) OVER(PARTITION BY productid) AS HighestProductSale
FROM tbl_orders;"""
execute_display_query_results(select_query)


# Find the employees with the highest salaries
select_query = """SELECT *, 
MAX(salary) OVER() AS HighestSalary
FROM tbl_employees;"""
execute_display_query_results(select_query)


select_query = """SELECT * FROM 
tbl_employees
WHERE Salary = (SELECT MAX(salary) FROM tbl_employees);"""
execute_display_query_results(select_query)


# Find the employees with the highest salaries
select_query = """SELECT * FROM 
(SELECT *, MAX(salary) OVER() AS HighestSalary
FROM tbl_employees) AS T
WHERE salary = highestsalary;"""
execute_display_query_results(select_query)


## Find the deviation of each sales from the minimum and maximum sales amount
select_query = """SELECT orderid, orderdate, orderstatus, productid, quantity,sales,
MIN(Sales) OVER() AS LowestSale,
MAX(Sales) OVER() AS HighestSale,
Sales - MIN(Sales) OVER() AS DeviationFromMin,
MAX(Sales) OVER() - Sales AS DeviationFromMax
FROM tbl_orders;"""
execute_display_query_results(select_query)





## Calculate the moving average of sales for each product over time
select_query = """SELECT orderid, orderdate, orderstatus, productid, quantity,sales,
ROUND(AVG(Sales) OVER(PARTITION BY productid), 2) AS AverageSalesByProduct,
ROUND(AVG(Sales) OVER(PARTITION BY productid ORDER BY orderdate ASC), 2) AS MovingAverage
FROM tbl_orders;"""
execute_display_query_results(select_query)


## Calculate the moving average of sales for each product over time, including only the next order
select_query = """SELECT orderid, orderdate, orderstatus, productid, quantity,sales,
ROUND(AVG(Sales) OVER(PARTITION BY productid), 2) AS AverageSalesByProduct,
ROUND(AVG(Sales) OVER(PARTITION BY productid ORDER BY orderdate ASC ROWS BETWEEN CURRENT ROW AND 1 FOLLOWING), 2) AS MovingAverage
FROM tbl_orders;"""
execute_display_query_results(select_query)



