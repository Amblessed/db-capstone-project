


import os
import mysql.connector as connector
import logging











logger = logging.getLogger("[Advanced MySQL]")
if os.path.exists("log/advanced-mysql.log"):
  os.remove("log/advanced-mysql.log")
logging.basicConfig(filename='log/advanced-mysql.log', encoding='utf-8', level=logging.DEBUG, format='%(asctime)s ==> %(message)s', datefmt='%m/%d/%Y %I:%M:%S')





logger.info("Creating a connection between MySQL and Python")
dbconfig={"user":"root", "password":os.environ["MYSQL_PASSWORD"], "port":33061, "host":"localhost"}
connection=connector.connect(**dbconfig)
print("Connection established between MySQL and Python")
logger.info("Connection established between MySQL and Python")





print("Creating cursor object from connection")
logger.info("Creating first cursor object from connection")
cursor = connection.cursor()
print("Cursor object created to communicate with MySQL using Python.")
logger.info("Cursor object created to communicate with MySQL using Python.")





# Get a cursor object from the cursor pool
database_name: str = "db_meta_advanced_mysql"
drop_database_query: str = f"""DROP DATABASE IF EXISTS {database_name}"""
cursor.execute(drop_database_query)
logger.info("Dropping Database if it already exists.")

create_database_query: str = f"""CREATE DATABASE IF NOT EXISTS {database_name}"""
print("Creating Database.")
logger.info("Creating Database.")
cursor.execute(create_database_query)
logger.info("Database created.")
print("Database created.")


# Check to see that the database was created
list_of_databases: list = []
cursor.execute("SHOW DATABASES;")
databases = cursor.fetchall()
for database in databases:
    db_name: str = database[0]
    list_of_databases.append(db_name)
    if db_name == database_name:
        print(f"Database '{database_name}' was successfully created")
        logger.info(f"Database '{database_name}' was successfully created.")
        break

# Set the new created database as the database to use
cursor.execute(f"USE {database_name}")
print(f"Database '{database_name}' set for use.")
logger.info(f"Database '{database_name}' set for use.")





## Expect an empty list to be returned 
show_tables_query = """SHOW TABLES;"""
cursor.execute(show_tables_query)
results = cursor.fetchall()
assert len(results) == 0





create_orders_query = """CREATE TABLE IF NOT EXISTS tbl_orders (OrderID INT NOT NULL PRIMARY KEY, ClientID VARCHAR(10), ProductID VARCHAR(10), Quantity INT, Cost DECIMAL(6,2), Date DATE);"""
cursor.execute(create_orders_query)
logger.info("tbl_orders table created.")

create_products_query = """CREATE TABLE IF NOT EXISTS tbl_products (ProductID VARCHAR(10), ProductName VARCHAR(100),BuyPrice DECIMAL(6,2), SellPrice DECIMAL(6,2), NumberOfItems INT);"""
cursor.execute(create_products_query)
logger.info("tbl_products table created.")

create_notifications_query = """CREATE TABLE IF NOT EXISTS tbl_notifications (NotificationID INT AUTO_INCREMENT, Notification VARCHAR(255), UpdatedBy VARCHAR(45) NOT NULL,
DateTime TIMESTAMP NOT NULL DEFAULT CURRENT_TIMESTAMP, PRIMARY KEY(NotificationID));"""
cursor.execute(create_notifications_query)
logger.info("tbl_notifications table created.")
#ON UPDATE CURRENT_TIMESTAMP,


insert_into_orders_query = """INSERT INTO tbl_orders(OrderID, ClientID, ProductID , Quantity, Cost, Date) VALUES
(1, "Cl1", "P1", 10, 500, "2020-09-01"),  
(2, "Cl2", "P2", 5, 100, "2020-09-05"),  
(3, "Cl3", "P3", 20, 800, "2020-09-03"),  
(4, "Cl4", "P4", 15, 150, "2020-09-07"),  
(5, "Cl3", "P3", 10, 450, "2020-09-08"),  
(6, "Cl2", "P2", 5, 800, "2020-09-09"),  
(7, "Cl1", "P4", 22, 1200, "2020-09-10"),  
(8, "Cl3", "P1", 15, 150, "2020-09-10"),  
(9, "Cl1", "P1", 10, 500, "2020-09-12"),  
(10, "Cl2", "P2", 5, 100, "2020-09-13"),  
(11, "Cl4", "P5", 5, 100, "2020-09-15"), 
(12, "Cl1", "P1", 10, 500, "2022-09-01"),  
(13, "Cl2", "P2", 5, 100, "2022-09-05"),  
(14, "Cl3", "P3", 20, 800, "2022-09-03"),  
(15, "Cl4", "P4", 15, 150, "2022-09-07"),  
(16, "Cl3", "P3", 10, 450, "2022-09-08"),  
(17, "Cl2", "P2", 5, 800, "2022-09-09"),  
(18, "Cl1", "P4", 22, 1200, "2022-09-10"),  
(19, "Cl3", "P1", 15, 150, "2022-09-10"),  
(20, "Cl1", "P1", 10, 500, "2022-09-12"),  
(21, "Cl2", "P2", 5, 100, "2022-09-13"),   
(22, "Cl2", "P1", 10, 500, "2021-09-01"),  
(23, "Cl2", "P2", 5, 100, "2021-09-05"),  
(24, "Cl3", "P3", 20, 800, "2021-09-03"),  
(25, "Cl4", "P4", 15, 150, "2021-09-07"),  
(26, "Cl1", "P3", 10, 450, "2021-09-08"),  
(27, "Cl2", "P1", 20, 1000, "2022-09-01"),  
(28, "Cl2", "P2", 10, 200, "2022-09-05"),  
(29, "Cl3", "P3", 20, 800, "2021-09-03"),  
(30, "Cl1", "P1", 10, 500, "2022-09-01");
"""

cursor.execute(insert_into_orders_query)
connection.commit()


insert_into_products_query = """INSERT INTO tbl_products (ProductID, ProductName, BuyPrice, SellPrice, NumberOfItems)
VALUES ("P1", "Artificial grass bags ", 40, 50, 100),  
("P2", "Wood panels", 15, 20, 250),  
("P3", "Patio slates",35, 40, 60),  
("P4", "Sycamore trees ", 7, 10, 50),  
("P5", "Trees and Shrubs", 35, 50, 75),  
("P6", "Water fountain", 65, 80, 15);"""

cursor.execute(insert_into_products_query)
connection.commit()





def select_all_query(table_name: str):
    query = f"""SELECT * FROM {table_name};"""
    return query


def display_results(table_column_names: list, results: list):
    table_columns_length = [len(x) for x in table_column_names]
    for result in results:
        for value in range(len(result)):
            row_data = result[value]
            if row_data:
                row_data = str(row_data)
                if len(row_data) > table_columns_length[value]:
                    table_columns_length[value] = len(row_data)
    dashes_plus = ""
    for num in range(len(table_columns_length)):
        dashes_plus = dashes_plus + "+" + '-'*(table_columns_length[num]+2)
    dashes_plus = dashes_plus + "+"
    
    print(dashes_plus)
    
    table_headers = ""
    for num in range(len(table_column_names)):
        table_headers = table_headers + f"| {table_column_names[num]:^{table_columns_length[num]}} "
    table_headers = table_headers + "|"
    print(table_headers)
    
    print(dashes_plus)
    
    for result in results:
        table_row = ""
        for value in range(len(result)):
            row_data = result[value]
            if not row_data:
                if "Field" in table_column_names:
                    row_data = " NULL"
                else:
                    row_data = "None"
            table_row = table_row + "|" + f"{str(row_data):^{table_columns_length[value]+2}}"
        print(table_row + "|")
    print(dashes_plus)
    print(f"{len(results)} rows returned")

def execute_display_query_results(query: str = "", table_column_names: list = [], results: list = []): 
    if query:
        logger.info(f"Executing the query: {query}")
    if len(query) > 2 and (table_column_names or results):
        print("You can only pass in the query alone or the table_column_names and results list")
        assert False
    if query and not table_column_names and not results:
        cursor.execute(query)
        results = cursor.fetchall()    
        table_column_names = cursor.column_names
    
    display_results(table_column_names, results)



execute_display_query_results(select_all_query("tbl_orders"))

print("\n\n")
execute_display_query_results(select_all_query("tbl_products"))





create_function_query = """CREATE FUNCTION FindCost(order_id INT) RETURNS DECIMAL(5,2) DETERMINISTIC
RETURN (SELECT Cost FROM tbl_orders WHERE OrderID = order_id);"""

cursor.execute(create_function_query)


select_query = "SELECT FindCost(5);"

execute_display_query_results(select_query)





create_procedure_query = """CREATE Procedure GetDiscount(OrderIDInput INT) 
BEGIN 
DECLARE cost_after_discount DECIMAL(7,2); 
DECLARE current_cost DECIMAL(7,2); 
DECLARE order_quantity INT; 
SELECT Quantity INTO order_quantity FROM tbl_orders WHERE OrderID = OrderIDInput; 
SELECT Cost INTO current_cost FROM tbl_orders WHERE OrderID = OrderIDInput; 
IF order_quantity >= 20 THEN
SET cost_after_discount = current_cost - (current_cost * 0.2);              
ELSEIF order_quantity >= 10 THEN
SET cost_after_discount = current_cost - (current_cost * 0.1); 
ELSE SET cost_after_discount = current_cost;
END IF;
SELECT cost_after_discount; 
END
"""

cursor.execute(create_procedure_query)


cursor.callproc("GetDiscount", (5, ))
logger.info("Procedure GetDiscount called with value 5")
results=next(cursor.stored_results())
table_column_names = results.column_names
dataset = results.fetchall()

execute_display_query_results(table_column_names=table_column_names, results=dataset)





create_trigger_query = """CREATE TRIGGER ProductSellPriceInsertCheck
AFTER INSERT ON tbl_products FOR EACH ROW
BEGIN
INSERT INTO tbl_notifications(Notification, UpdatedBy) VALUES(CONCAT('A SellPrice same or less than the BuyPrice was inserted for ProductID ', NEW.ProductID), USER());
END"""
cursor.execute(create_trigger_query)


insert_into_products_query = """INSERT INTO tbl_products (ProductID, ProductName, BuyPrice, SellPrice, NumberOfItems) VALUES('P7', 'Product P7', 40, 40, 100);"""
cursor.execute(insert_into_products_query)
connection.commit()

execute_display_query_results(select_all_query("tbl_products"))
print("\n")
execute_display_query_results(select_all_query("tbl_notifications"))





create_trigger_query = """CREATE TRIGGER ProductSellPriceUpdateCheck
AFTER UPDATE ON tbl_products FOR EACH ROW
BEGIN
IF NEW.SellPrice < OLD.BuyPrice THEN
INSERT INTO tbl_notifications(Notification, UpdatedBy) VALUES(CONCAT(OLD.ProductID, ' was updated with a SellPrice of ', NEW.SellPrice, ' which is the same or less than the BuyPrice'), USER());
END IF;
END;"""
cursor.execute(create_trigger_query)


update_products_query = """UPDATE tbl_products SET SellPrice = 60 WHERE ProductID = 'P6';"""
cursor.execute(update_products_query)
connection.commit()

execute_display_query_results(select_all_query("tbl_products"))
print("\n")
execute_display_query_results(select_all_query("tbl_notifications"))





create_trigger_query = """CREATE TRIGGER NotifyProductDelete
AFTER DELETE ON tbl_products FOR EACH ROW
BEGIN
INSERT INTO tbl_notifications(Notification, UpdatedBy) VALUES(CONCAT('The product with the ProductID: ', OLD.ProductID, ' was deleted'), USER());
END;"""
cursor.execute(create_trigger_query)


delete_from_products_query = """DELETE FROM tbl_products WHERE ProductID = 'P7';"""
cursor.execute(delete_from_products_query)
connection.commit()

execute_display_query_results(select_all_query("tbl_products"))
print("\n")
execute_display_query_results(select_all_query("tbl_notifications"))


insert_into_products_query = """INSERT INTO tbl_products (ProductID, ProductName, BuyPrice, SellPrice, NumberOfItems) 
VALUES ('P8', 'Product P8', 40, 40, 100),
('P9', 'Product P9', 40, 40, 100);"""
cursor.execute(insert_into_products_query)
connection.commit()

execute_display_query_results(select_all_query("tbl_products"))
print("\n")
execute_display_query_results(select_all_query("tbl_notifications"))


update_products_query = """UPDATE tbl_products SET SellPrice = 25 WHERE ProductID = 'P3';"""
cursor.execute(update_products_query)
connection.commit()


execute_display_query_results(select_all_query("tbl_products"))
print("\n")
execute_display_query_results(select_all_query("tbl_notifications"))



