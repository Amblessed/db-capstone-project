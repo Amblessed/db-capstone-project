{
 "cells": [
  {
   "cell_type": "code",
   "execution_count": 1,
   "id": "85b79e87-1322-4463-808f-8261a3b40baf",
   "metadata": {},
   "outputs": [],
   "source": [
    "import os, sys\n",
    "import mysql.connector as connector\n",
    "import subprocess\n",
    "import logging\n",
    "import getpass\n",
    "from time import time\n",
    "sys.path.append(\"..\")\n",
    "from display.display_query import execute_display_query_results, select_all_query"
   ]
  },
  {
   "cell_type": "markdown",
   "id": "214a30f3-2cff-4944-b14a-aa97af4bcd49",
   "metadata": {},
   "source": [
    "## Create logger"
   ]
  },
  {
   "cell_type": "code",
   "execution_count": 2,
   "id": "b74d3be5-66c1-4f6e-abed-030cfe7610cf",
   "metadata": {},
   "outputs": [],
   "source": [
    "logger = logging.getLogger(\"[SET Operators MySQL]\")\n",
    "if os.path.exists(\"../log/sets.log\"):\n",
    "  os.remove(\"../log/sets.log\")\n",
    "logging.basicConfig(filename='../log/sets.log', encoding='utf-8', level=logging.DEBUG, format='%(asctime)s ==> %(message)s', datefmt='%m/%d/%Y %I:%M:%S')"
   ]
  },
  {
   "cell_type": "markdown",
   "id": "46f1789d-2af8-4555-b531-305983aaff9e",
   "metadata": {},
   "source": [
    "## Create Connection"
   ]
  },
  {
   "cell_type": "code",
   "execution_count": 3,
   "id": "2637450b-a465-466f-b234-eacead1da526",
   "metadata": {},
   "outputs": [
    {
     "name": "stdout",
     "output_type": "stream",
     "text": [
      "Connection established between MySQL and Python\n"
     ]
    }
   ],
   "source": [
    "logger.info(\"Creating a connection between MySQL and Python\")\n",
    "dbconfig={\"user\":\"root\", \"password\":os.environ[\"MYSQL_ROOT_PASSWORD\"], \"port\":33061, \"host\":\"localhost\", \"database\": \"db_advanced_sql_baraa\"}\n",
    "connection=connector.connect(**dbconfig)\n",
    "print(\"Connection established between MySQL and Python\")\n",
    "logger.info(\"Connection established between MySQL and Python\")"
   ]
  },
  {
   "cell_type": "markdown",
   "id": "83286d41-7ca8-461b-8441-1aea616d2c29",
   "metadata": {},
   "source": [
    "## Create Cursor Object"
   ]
  },
  {
   "cell_type": "code",
   "execution_count": 4,
   "id": "3847717f-b57f-46c9-8fe7-1a60fe6aa8a4",
   "metadata": {},
   "outputs": [
    {
     "name": "stdout",
     "output_type": "stream",
     "text": [
      "Creating cursor object from connection\n",
      "Cursor object created to communicate with MySQL\n"
     ]
    }
   ],
   "source": [
    "print(\"Creating cursor object from connection\")\n",
    "logger.info(\"Creating first cursor object from connection\")\n",
    "cursor = connection.cursor()\n",
    "print(\"Cursor object created to communicate with MySQL\")\n",
    "logger.info(\"Cursor object created to communicate with MySQL\")"
   ]
  },
  {
   "attachments": {},
   "cell_type": "markdown",
   "id": "0823e136-6b97-4d13-866a-a961101983ca",
   "metadata": {},
   "source": [
    "# Set  Operators\n",
    "Set Opetations in SQL combine the results of multiple queries into a single result set\n",
    "<div style=\"text-align:center\">\n",
    "<img src=\"./joins_sets.png\" alt=\"drawing\" width=\"1000\"/>\n",
    "</div>\n",
    "\n",
    "## Rule One\n",
    "- SET Operator can be used almost in all clauses WHERE | JOIN | GROUP BY | HAVING\n",
    "- ORDER BY is allowed only once at the end of the query\n",
    "<div style=\"text-align:center\">\n",
    "<img src=\"./rule_one.png\" alt=\"rule_one\" width=\"1000\"/>\n",
    "</div>\n",
    "\n",
    "## Rule Two\n",
    "- The number of columns in each query must be the same"
   ]
  },
  {
   "cell_type": "code",
   "execution_count": 5,
   "id": "4e97555d-f0e6-45b0-b43c-1908f8f65bba",
   "metadata": {},
   "outputs": [
    {
     "name": "stdout",
     "output_type": "stream",
     "text": [
      "\n",
      "tbl_orders\n",
      "+---------+-----------+------------+---------------+------------+------------+-------------+--------------------+---------------+----------+-------+---------------------+\n",
      "| OrderID | ProductID | CustomerID | SalesPersonID | OrderDate  |  ShipDate  | OrderStatus |    ShipAddress     |  BillAddress  | Quantity | Sales |    CreationTime     |\n",
      "+---------+-----------+------------+---------------+------------+------------+-------------+--------------------+---------------+----------+-------+---------------------+\n",
      "|    1    |    101    |     2      |       3       | 2025-01-01 | 2025-01-05 |  Delivered  | 9833 Mt. Dias Blv. | 1226 Shoe St. |    1     |  10   | 2025-01-01 12:34:56 |\n",
      "|    2    |    102    |     3      |       3       | 2025-01-05 | 2025-01-10 |   Shipped   |   250 Race Court   |     NULL      |    1     |  15   | 2025-01-05 23:22:04 |\n",
      "|    3    |    101    |     1      |       5       | 2025-01-10 | 2025-01-25 |  Delivered  |    8157 W. Book    | 8157 W. Book  |    2     |  20   | 2025-01-10 18:24:08 |\n",
      "|    4    |    105    |     1      |       3       | 2025-01-20 | 2025-01-25 |   Shipped   | 5724 Victory Lane  |               |    2     |  60   | 2025-01-20 05:50:33 |\n",
      "|    5    |    104    |     2      |       5       | 2025-02-01 | 2025-02-05 |  Delivered  |        NULL        |     NULL      |    1     |  25   | 2025-02-01 14:02:41 |\n",
      "|    6    |    104    |     3      |       5       | 2025-02-05 | 2025-02-10 |  Delivered  |  1792 Belmont Rd.  |     NULL      |    2     |  50   | 2025-02-06 15:34:57 |\n",
      "|    7    |    102    |     1      |       1       | 2025-02-15 | 2025-02-27 |  Delivered  |  136 Balboa Court  |               |    2     |  30   | 2025-02-16 06:22:01 |\n",
      "|    8    |    101    |     4      |       3       | 2025-02-18 | 2025-02-27 |   Shipped   |   2947 Vine Lane   | 4311 Clay Rd  |    3     |  90   | 2025-02-18 10:45:22 |\n",
      "|    9    |    101    |     2      |       3       | 2025-03-10 | 2025-03-15 |   Shipped   |   3768 Door Way    |               |    2     |  20   | 2025-03-10 12:59:04 |\n",
      "|   10    |    102    |     3      |       5       | 2025-03-15 | 2025-03-20 |   Shipped   |        NULL        |     NULL      |    0     |  60   | 2025-03-16 23:25:15 |\n",
      "+---------+-----------+------------+---------------+------------+------------+-------------+--------------------+---------------+----------+-------+---------------------+\n",
      "10 rows returned in time: (0.007 sec)\n",
      "\n",
      "tbl_products\n",
      "+-----------+---------+-------------+-------+\n",
      "| ProductID | Product |  Category   | Price |\n",
      "+-----------+---------+-------------+-------+\n",
      "|    101    | Bottle  | Accessories |  10   |\n",
      "|    102    |  Tire   | Accessories |  15   |\n",
      "|    103    |  Socks  |  Clothing   |  20   |\n",
      "|    104    |  Caps   |  Clothing   |  25   |\n",
      "|    105    | Gloves  |  Clothing   |  30   |\n",
      "+-----------+---------+-------------+-------+\n",
      "5 rows returned in time: (0.0 sec)\n",
      "\n",
      "tbl_customers\n",
      "+------------+-----------+----------+---------+-------+\n",
      "| CustomerID | FirstName | LastName | Country | Score |\n",
      "+------------+-----------+----------+---------+-------+\n",
      "|     1      |  Jossef   | Goldberg | Germany |  350  |\n",
      "|     2      |   Kevin   |  Brown   |   USA   |  900  |\n",
      "|     3      |   Mary    |   NULL   |   USA   |  750  |\n",
      "|     4      |   Mark    | Schwarz  | Germany |  500  |\n",
      "|     5      |   Anna    |  Adams   |   USA   | NULL  |\n",
      "+------------+-----------+----------+---------+-------+\n",
      "5 rows returned in time: (0.003 sec)\n",
      "\n",
      "tbl_employees\n",
      "+------------+-----------+----------+------------+------------+--------+--------+-----------+\n",
      "| EmployeeID | FirstName | LastName | Department | BirthDate  | Gender | Salary | ManagerID |\n",
      "+------------+-----------+----------+------------+------------+--------+--------+-----------+\n",
      "|     1      |   Frank   |   Lee    | Marketing  | 1988-12-05 |   M    | 55000  |   NULL    |\n",
      "|     2      |   Kevin   |  Brown   | Marketing  | 1972-11-25 |   M    | 65000  |     1     |\n",
      "|     3      |   Mary    |   NULL   |   Sales    | 1986-01-05 |   F    | 75000  |     1     |\n",
      "|     4      |  Michael  |   Ray    |   Sales    | 1977-02-10 |   M    | 90000  |     2     |\n",
      "|     5      |   Carol   |  Baker   |   Sales    | 1982-02-11 |   F    | 55000  |     3     |\n",
      "+------------+-----------+----------+------------+------------+--------+--------+-----------+\n",
      "5 rows returned in time: (0.004 sec)\n"
     ]
    }
   ],
   "source": [
    "print(\"\\ntbl_orders\")\n",
    "execute_display_query_results(select_all_query(\"tbl_orders\"), cursor)\n",
    "print(\"\\ntbl_products\")\n",
    "execute_display_query_results(select_all_query(\"tbl_products\"), cursor)\n",
    "print(\"\\ntbl_customers\")\n",
    "execute_display_query_results(select_all_query(\"tbl_customers\"), cursor)\n",
    "print(\"\\ntbl_employees\")\n",
    "execute_display_query_results(select_all_query(\"tbl_employees\"), cursor)"
   ]
  }
 ],
 "metadata": {
  "kernelspec": {
   "display_name": "Python 3 (ipykernel)",
   "language": "python",
   "name": "python3"
  },
  "language_info": {
   "codemirror_mode": {
    "name": "ipython",
    "version": 3
   },
   "file_extension": ".py",
   "mimetype": "text/x-python",
   "name": "python",
   "nbconvert_exporter": "python",
   "pygments_lexer": "ipython3",
   "version": "3.11.7"
  }
 },
 "nbformat": 4,
 "nbformat_minor": 5
}
