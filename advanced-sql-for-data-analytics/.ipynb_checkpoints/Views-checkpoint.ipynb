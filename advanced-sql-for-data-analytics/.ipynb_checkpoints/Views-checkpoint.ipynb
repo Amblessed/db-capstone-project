{
 "cells": [
  {
   "cell_type": "code",
   "execution_count": 1,
   "id": "7481abca-2eb4-4c4a-a8a5-d739aaca2000",
   "metadata": {},
   "outputs": [],
   "source": [
    "import os\n",
    "import mysql.connector as connector\n",
    "import logging"
   ]
  },
  {
   "cell_type": "code",
   "execution_count": 3,
   "id": "5e19f373-9dfa-4b5a-a678-6da8591d4d3c",
   "metadata": {},
   "outputs": [],
   "source": [
    "logger = logging.getLogger(\"[Views MySQL]\")\n",
    "if os.path.exists(\"../log/views-mysql.log\"):\n",
    "  os.remove(\"../log/views-mysql.log\")\n",
    "logging.basicConfig(filename='../log/views-mysql.log', encoding='utf-8', level=logging.DEBUG, format='%(asctime)s ==> %(message)s', datefmt='%m/%d/%Y %I:%M:%S')"
   ]
  },
  {
   "cell_type": "code",
   "execution_count": 50,
   "id": "ec26b2fd-855f-4b2d-baec-79dc9fe343b8",
   "metadata": {},
   "outputs": [
    {
     "name": "stdout",
     "output_type": "stream",
     "text": [
      "Connection established between MySQL and Python\n"
     ]
    }
   ],
   "source": [
    "logger.info(\"Creating a connection between MySQL and Python\")\n",
    "dbconfig={\"user\":\"root\", \"password\":os.environ[\"MYSQL_PASSWORD\"], \"port\":33061, \"host\":\"localhost\"}\n",
    "connection=connector.connect(**dbconfig)\n",
    "print(\"Connection established between MySQL and Python\")\n",
    "logger.info(\"Connection established between MySQL and Python\")"
   ]
  },
  {
   "cell_type": "code",
   "execution_count": 51,
   "id": "36973388-a94c-42d3-9613-c383c491efeb",
   "metadata": {},
   "outputs": [
    {
     "name": "stdout",
     "output_type": "stream",
     "text": [
      "Creating cursor object from connection\n",
      "Cursor object created to communicate with MySQL using Python.\n"
     ]
    }
   ],
   "source": [
    "print(\"Creating cursor object from connection\")\n",
    "logger.info(\"Creating first cursor object from connection\")\n",
    "cursor = connection.cursor()\n",
    "print(\"Cursor object created to communicate with MySQL using Python.\")\n",
    "logger.info(\"Cursor object created to communicate with MySQL using Python.\")"
   ]
  },
  {
   "cell_type": "code",
   "execution_count": 52,
   "id": "b86e37bf-1208-4764-beac-7315ef304c97",
   "metadata": {},
   "outputs": [
    {
     "name": "stdout",
     "output_type": "stream",
     "text": [
      "Creating Database.\n",
      "Database created.\n"
     ]
    }
   ],
   "source": [
    "# Get a cursor object from the cursor pool\n",
    "database_name: str = \"db_views\"\n",
    "drop_database_query: str = f\"\"\"DROP DATABASE IF EXISTS {database_name}\"\"\"\n",
    "cursor.execute(drop_database_query)\n",
    "logger.info(\"Dropping Database if it already exists.\")\n",
    "\n",
    "create_database_query: str = f\"\"\"CREATE DATABASE IF NOT EXISTS {database_name}\"\"\"\n",
    "print(\"Creating Database.\")\n",
    "logger.info(\"Creating Database.\")\n",
    "cursor.execute(create_database_query)\n",
    "logger.info(\"Database created.\")\n",
    "print(\"Database created.\")"
   ]
  },
  {
   "cell_type": "code",
   "execution_count": 53,
   "id": "51ea4889-c4d2-4ad8-bc09-7bce507b0aaf",
   "metadata": {},
   "outputs": [
    {
     "name": "stdout",
     "output_type": "stream",
     "text": [
      "Database 'db_subqueries' was successfully created\n",
      "Database 'db_subqueries' set for use.\n"
     ]
    }
   ],
   "source": [
    "# Check to see that the database was created\n",
    "list_of_databases: list = []\n",
    "cursor.execute(\"SHOW DATABASES;\")\n",
    "databases = cursor.fetchall()\n",
    "for database in databases:\n",
    "    db_name: str = database[0]\n",
    "    list_of_databases.append(db_name)\n",
    "    if db_name == database_name:\n",
    "        print(f\"Database '{database_name}' was successfully created\")\n",
    "        logger.info(f\"Database '{database_name}' was successfully created.\")\n",
    "        break\n",
    "\n",
    "# Set the new created database as the database to use\n",
    "cursor.execute(f\"USE {database_name}\")\n",
    "print(f\"Database '{database_name}' set for use.\")\n",
    "logger.info(f\"Database '{database_name}' set for use.\")"
   ]
  },
  {
   "cell_type": "code",
   "execution_count": 54,
   "id": "26b96b8b-d62c-496e-9250-0f0216b26f86",
   "metadata": {},
   "outputs": [],
   "source": [
    "create_orders_query = \"\"\"CREATE TABLE IF NOT EXISTS tbl_orders (OrderID INT NOT NULL PRIMARY KEY, ProductID INT, CustomerID INT, SalesPersonID INT, OrderDate Date, ShipDate DATE, OrderStatus VARCHAR(50), ShipAddress VARCHAR(255), BillAddress VARCHAR(255), \n",
    "Quantity INT, Sales INT, CreationTime TimeStamp);\"\"\"\n",
    "cursor.execute(create_orders_query)\n",
    "logger.info(\"tbl_orders table created.\")\n",
    "\n",
    "create_products_query = \"\"\"CREATE TABLE IF NOT EXISTS tbl_products (ProductID INT NOT NULL PRIMARY KEY, Product VARCHAR(50), Category VARCHAR(50), Price INT);\"\"\"\n",
    "cursor.execute(create_products_query)\n",
    "logger.info(\"tbl_products table created.\")\n",
    "\n",
    "create_customers_query = \"\"\"CREATE TABLE IF NOT EXISTS tbl_customers (CustomerID INT NOT NULL PRIMARY KEY, FirstName VARCHAR(50), LastName VARCHAR(50), Country VARCHAR(50), Score INT);\"\"\"\n",
    "cursor.execute(create_customers_query)\n",
    "logger.info(\"tbl_customers table created.\")\n",
    "\n",
    "create_employees_query = \"\"\"CREATE TABLE IF NOT EXISTS tbl_employees (EmployeeID INT NOT NULL PRIMARY KEY, FirstName VARCHAR(50), LastName VARCHAR(50), Department VARCHAR(50), BirthDate Date, Gender CHAR(1), Salary INT, ManagerID INT);\"\"\"\n",
    "cursor.execute(create_employees_query)\n",
    "logger.info(\"tbl_employees table created.\")"
   ]
  },
  {
   "cell_type": "code",
   "execution_count": 55,
   "id": "2df56108-9c55-4611-916a-057b48105cf5",
   "metadata": {},
   "outputs": [],
   "source": [
    "insert_into_orders_query = \"\"\"INSERT INTO tbl_orders(OrderID, ProductID, CustomerID, SalesPersonID, OrderDate, ShipDate, OrderStatus, ShipAddress, BillAddress, Quantity, Sales, CreationTime) VALUES\n",
    "(1, 101, 2, 3, '2025-01-01', '2025-01-05', 'Delivered', '9833 Mt. Dias Blv.', '1226 Shoe St.', 1, 10, '2025-01-01 12:34:56.0000000'),  \n",
    "(2, 102, 3,\t3, '2025-01-05', '2025-01-10', 'Shipped', '250 Race Court', NULL, 1, 15, '2025-01-05 23:22:04.0000000'),\n",
    "(3, 101, 1,\t5, '2025-01-10', '2025-01-25', 'Delivered', '8157 W. Book', '8157 W. Book', 2, 20, '2025-01-10 18:24:08.0000000'),\n",
    "(4, 105, 1, 3, '2025-01-20', '2025-01-25', 'Shipped', '5724 Victory Lane', '',\t2, 60, '2025-01-20 05:50:33.0000000'),\n",
    "(5, 104, 2, 5, '2025-02-01', '2025-02-05', 'Delivered', NULL , NULL , 1, 25, '2025-02-01 14:02:41.0000000'),\n",
    "(6, 104, 3, 5, '2025-02-05', '2025-02-10', 'Delivered', '1792 Belmont Rd.',NULL , 2, 50, '2025-02-06 15:34:57.0000000'),\n",
    "(7, 102, 1, 1, '2025-02-15', '2025-02-27', 'Delivered', '136 Balboa Court', '' , 2, 30, '2025-02-16 06:22:01.0000000'),\n",
    "(8, 101, 4, 3, '2025-02-18', '2025-02-27', 'Shipped', '2947 Vine Lane', '4311 Clay Rd', 3, 90, '2025-02-18 10:45:22.0000000'),\n",
    "(9, 101, 2, 3, '2025-03-10', '2025-03-15', 'Shipped', '3768 Door Way', '', 2, 20, '2025-03-10 12:59:04.0000000'),\n",
    "(10, 102, 3, 5, '2025-03-15', '2025-03-20', 'Shipped', NULL , NULL, 0, 60, '2025-03-16 23:25:15.0000000');\"\"\"\n",
    "\n",
    "cursor.execute(insert_into_orders_query)\n",
    "connection.commit()\n",
    "\n",
    "insert_into_products_query = \"\"\"INSERT INTO tbl_products(ProductID, Product, Category, Price) VALUES\n",
    "(101, 'Bottle', 'Accessories', 10),  \n",
    "(102, 'Tire', 'Accessories', 15),\n",
    "(103, 'Socks', 'Clothing', 20),  \n",
    "(104, 'Caps', 'Clothing', 25),\n",
    "(105, 'Gloves', 'Clothing', 30);\"\"\"\n",
    "\n",
    "value = None\n",
    "\n",
    "cursor.execute(insert_into_products_query)\n",
    "connection.commit()\n",
    "\n",
    "\n",
    "insert_into_customers_query = \"\"\"INSERT INTO tbl_customers(CustomerID, FirstName, LastName, Country, Score) VALUES\n",
    "(1, 'Jossef', 'Goldberg', 'Germany', 350),\n",
    "(2, 'Kevin', 'Brown', 'USA', 900),\n",
    "(3, 'Mary', NULL, 'USA', 750),\n",
    "(4, 'Mark', 'Schwarz', 'Germany', 500),\n",
    "(5, 'Anna', 'Adams', 'USA', NULL);\"\"\"\n",
    "\n",
    "cursor.execute(insert_into_customers_query)\n",
    "connection.commit()\n",
    "\n",
    "insert_into_employees_query = \"\"\"INSERT INTO tbl_employees(EmployeeID, FirstName, LastName, Department, BirthDate, Gender, Salary, ManagerID) VALUES\n",
    "(1, 'Frank', 'Lee', 'Marketing', '1988-12-05', 'M', 55000, NULL),\n",
    "(2, 'Kevin', 'Brown', 'Marketing', '1972-11-25', 'M', 65000, 1),\n",
    "(3, 'Mary', NULL, 'Sales', '1986-01-05', 'F', 75000, 1), \n",
    "(4, 'Michael', 'Ray', 'Sales', '1977-02-10', 'M', 90000, 2), \n",
    "(5, 'Carol', 'Baker', 'Sales', '1982-02-11', 'F', 55000, 3);\"\"\"\n",
    "\n",
    "cursor.execute(insert_into_employees_query)\n",
    "connection.commit()"
   ]
  },
  {
   "cell_type": "markdown",
   "id": "d6db7100-065b-4637-855a-b0be973edbb8",
   "metadata": {},
   "source": [
    "## Function to Display results"
   ]
  },
  {
   "cell_type": "code",
   "execution_count": 56,
   "id": "52fa0f3e-71a7-42cc-8361-174ea272ec41",
   "metadata": {},
   "outputs": [],
   "source": [
    "def select_all_query(table_name: str):\n",
    "    query = f\"\"\"SELECT * FROM {table_name};\"\"\"\n",
    "    return query\n",
    "\n",
    "\n",
    "def display_results(table_column_names: list, results: list):\n",
    "    table_columns_length = [len(x) for x in table_column_names]\n",
    "    for result in results:\n",
    "        for value in range(len(result)):\n",
    "            row_data = result[value]\n",
    "            if row_data:\n",
    "                row_data = str(row_data)\n",
    "                if len(row_data) > table_columns_length[value]:\n",
    "                    table_columns_length[value] = len(row_data)\n",
    "    dashes_plus = \"\"\n",
    "    for num in range(len(table_columns_length)):\n",
    "        dashes_plus = dashes_plus + \"+\" + '-'*(table_columns_length[num]+2)\n",
    "    dashes_plus = dashes_plus + \"+\"\n",
    "    \n",
    "    print(dashes_plus)\n",
    "    \n",
    "    table_headers = \"\"\n",
    "    for num in range(len(table_column_names)):\n",
    "        table_headers = table_headers + f\"| {table_column_names[num]:^{table_columns_length[num]}} \"\n",
    "    table_headers = table_headers + \"|\"\n",
    "    print(table_headers)\n",
    "    \n",
    "    print(dashes_plus)\n",
    "    \n",
    "    for result in results:\n",
    "        table_row = \"\"\n",
    "        for value in range(len(result)):\n",
    "            row_data = result[value]\n",
    "            if row_data is None:\n",
    "                row_data = \"NULL\"            \n",
    "                #if \"Field\" in table_column_names or \"select_type\" in table_column_names:\n",
    "                    #row_data = None\n",
    "                #else:\n",
    "                    #row_data = None\n",
    "            table_row = table_row + \"|\" + f\"{str(row_data):^{table_columns_length[value]+2}}\"\n",
    "        print(table_row + \"|\")\n",
    "    print(dashes_plus)\n",
    "    print(f\"{len(results)} rows returned\")\n",
    "\n",
    "def execute_display_query_results(query: str = \"\", table_column_names: list = [], results: list = []): \n",
    "    if query:\n",
    "        logger.info(f\"Executing the query: {query}\")\n",
    "    if len(query) > 2 and (table_column_names or results):\n",
    "        print(\"You can only pass in the query alone or the table_column_names and results list\")\n",
    "        assert False\n",
    "    if query and not table_column_names and not results:\n",
    "        cursor.execute(query)\n",
    "        results = cursor.fetchall()    \n",
    "        table_column_names = cursor.column_names\n",
    "    \n",
    "    display_results(table_column_names, results)"
   ]
  },
  {
   "cell_type": "code",
   "execution_count": 57,
   "id": "b7107fa8-d3a5-4128-bd80-6cf263e2a01a",
   "metadata": {},
   "outputs": [
    {
     "name": "stdout",
     "output_type": "stream",
     "text": [
      "+---------+-----------+------------+---------------+------------+------------+-------------+--------------------+---------------+----------+-------+---------------------+\n",
      "| OrderID | ProductID | CustomerID | SalesPersonID | OrderDate  |  ShipDate  | OrderStatus |    ShipAddress     |  BillAddress  | Quantity | Sales |    CreationTime     |\n",
      "+---------+-----------+------------+---------------+------------+------------+-------------+--------------------+---------------+----------+-------+---------------------+\n",
      "|    1    |    101    |     2      |       3       | 2025-01-01 | 2025-01-05 |  Delivered  | 9833 Mt. Dias Blv. | 1226 Shoe St. |    1     |  10   | 2025-01-01 12:34:56 |\n",
      "|    2    |    102    |     3      |       3       | 2025-01-05 | 2025-01-10 |   Shipped   |   250 Race Court   |     NULL      |    1     |  15   | 2025-01-05 23:22:04 |\n",
      "|    3    |    101    |     1      |       5       | 2025-01-10 | 2025-01-25 |  Delivered  |    8157 W. Book    | 8157 W. Book  |    2     |  20   | 2025-01-10 18:24:08 |\n",
      "|    4    |    105    |     1      |       3       | 2025-01-20 | 2025-01-25 |   Shipped   | 5724 Victory Lane  |               |    2     |  60   | 2025-01-20 05:50:33 |\n",
      "|    5    |    104    |     2      |       5       | 2025-02-01 | 2025-02-05 |  Delivered  |        NULL        |     NULL      |    1     |  25   | 2025-02-01 14:02:41 |\n",
      "|    6    |    104    |     3      |       5       | 2025-02-05 | 2025-02-10 |  Delivered  |  1792 Belmont Rd.  |     NULL      |    2     |  50   | 2025-02-06 15:34:57 |\n",
      "|    7    |    102    |     1      |       1       | 2025-02-15 | 2025-02-27 |  Delivered  |  136 Balboa Court  |               |    2     |  30   | 2025-02-16 06:22:01 |\n",
      "|    8    |    101    |     4      |       3       | 2025-02-18 | 2025-02-27 |   Shipped   |   2947 Vine Lane   | 4311 Clay Rd  |    3     |  90   | 2025-02-18 10:45:22 |\n",
      "|    9    |    101    |     2      |       3       | 2025-03-10 | 2025-03-15 |   Shipped   |   3768 Door Way    |               |    2     |  20   | 2025-03-10 12:59:04 |\n",
      "|   10    |    102    |     3      |       5       | 2025-03-15 | 2025-03-20 |   Shipped   |        NULL        |     NULL      |    0     |  60   | 2025-03-16 23:25:15 |\n",
      "+---------+-----------+------------+---------------+------------+------------+-------------+--------------------+---------------+----------+-------+---------------------+\n",
      "10 rows returned\n",
      "\n",
      "\n",
      "+-----------+---------+-------------+-------+\n",
      "| ProductID | Product |  Category   | Price |\n",
      "+-----------+---------+-------------+-------+\n",
      "|    101    | Bottle  | Accessories |  10   |\n",
      "|    102    |  Tire   | Accessories |  15   |\n",
      "|    103    |  Socks  |  Clothing   |  20   |\n",
      "|    104    |  Caps   |  Clothing   |  25   |\n",
      "|    105    | Gloves  |  Clothing   |  30   |\n",
      "+-----------+---------+-------------+-------+\n",
      "5 rows returned\n",
      "\n",
      "\n",
      "+------------+-----------+----------+---------+-------+\n",
      "| CustomerID | FirstName | LastName | Country | Score |\n",
      "+------------+-----------+----------+---------+-------+\n",
      "|     1      |  Jossef   | Goldberg | Germany |  350  |\n",
      "|     2      |   Kevin   |  Brown   |   USA   |  900  |\n",
      "|     3      |   Mary    |   NULL   |   USA   |  750  |\n",
      "|     4      |   Mark    | Schwarz  | Germany |  500  |\n",
      "|     5      |   Anna    |  Adams   |   USA   | NULL  |\n",
      "+------------+-----------+----------+---------+-------+\n",
      "5 rows returned\n"
     ]
    }
   ],
   "source": [
    "execute_display_query_results(select_all_query(\"tbl_orders\"))\n",
    "print(\"\\n\")\n",
    "execute_display_query_results(select_all_query(\"tbl_products\"))\n",
    "print(\"\\n\")\n",
    "execute_display_query_results(select_all_query(\"tbl_customers\"))"
   ]
  },
  {
   "cell_type": "markdown",
   "id": "b8a588d9-02a4-48b2-8f8b-258cd037be9d",
   "metadata": {},
   "source": [
    "# Database Server\n",
    "This stores, manages, and provides access to databases for users or applications\n",
    "\n",
    "## Table\n",
    "This a place where data is stored and organized into rows and columns\n",
    "\n",
    "## Views \n",
    "This is a virtual table that shows data without storing it physically. It is based on the result set of a query. Views are persisted SQL queries in the database\n",
    "They are used to store central, complex query logic in the database for access by multiple queries, reducing project complexity\n",
    "\n",
    "## DDL - Data Definition Language\n",
    "A set of commands that allows us to define and manage the structure of a database. **CREATE**, **ALTER**, **DROP**\n",
    "\n",
    "## Physical Level\n",
    "Lowest level. This stores Data Files, Partitions, Logs, Catalog, Blocks, Caches\n",
    "\n",
    "\n"
   ]
  },
  {
   "cell_type": "markdown",
   "id": "cc7b009e-9fbe-46ee-8160-55cf710f06d4",
   "metadata": {},
   "source": [
    "# Subqueries"
   ]
  },
  {
   "cell_type": "markdown",
   "id": "8e2983d6-795c-4a30-a149-a826640d557f",
   "metadata": {},
   "source": [
    "## Task 1\n",
    "Find the products that have a price higher than the average proce of all products"
   ]
  },
  {
   "cell_type": "code",
   "execution_count": 58,
   "id": "3a867917-dbac-4b55-ab64-286134f008fc",
   "metadata": {},
   "outputs": [
    {
     "name": "stdout",
     "output_type": "stream",
     "text": [
      "+-----------+-------+----------+\n",
      "| ProductID | Price | AvgPrice |\n",
      "+-----------+-------+----------+\n",
      "|    104    |  25   | 20.0000  |\n",
      "|    105    |  30   | 20.0000  |\n",
      "+-----------+-------+----------+\n",
      "2 rows returned\n"
     ]
    }
   ],
   "source": [
    "select_query = \"\"\"SELECT * FROM (SELECT ProductID, Price, AVG(Price) OVER() AS AvgPrice FROM tbl_products) AS t WHERE Price > AvgPrice;\"\"\"\n",
    "execute_display_query_results(select_query)"
   ]
  },
  {
   "cell_type": "markdown",
   "id": "5d189976-20fb-4049-ab32-5ca1c0126579",
   "metadata": {},
   "source": [
    "## Task 2\n",
    "-- Rank the customers based on their total amount of sales"
   ]
  },
  {
   "cell_type": "code",
   "execution_count": 59,
   "id": "3455d306-0493-4104-98e9-68e39f07e5e6",
   "metadata": {},
   "outputs": [
    {
     "name": "stdout",
     "output_type": "stream",
     "text": [
      "+------------+------------+--------------+\n",
      "| CustomerID | TotalSales | CustomerRank |\n",
      "+------------+------------+--------------+\n",
      "|     3      |    125     |      1       |\n",
      "|     1      |    110     |      2       |\n",
      "|     4      |     90     |      3       |\n",
      "|     2      |     55     |      4       |\n",
      "+------------+------------+--------------+\n",
      "4 rows returned\n"
     ]
    }
   ],
   "source": [
    "select_query = \"\"\"SELECT *,\n",
    "RANK() OVER(ORDER BY TotalSales DESC) AS CustomerRank\n",
    "FROM (SELECT CustomerID, SUM(Sales) AS TotalSales FROM tbl_orders GROUP BY CustomerID) AS TotalSalesTable;\"\"\"\n",
    "\n",
    "execute_display_query_results(select_query)"
   ]
  },
  {
   "cell_type": "markdown",
   "id": "6849a52a-29c9-480b-b7cc-fead360b40e2",
   "metadata": {},
   "source": [
    "## Select Subquery\n",
    "Used to aggregate data side by side with the main query's data, allowing for direct comparison\n",
    "```sql\n",
    "-- In this case, only Scalar subqueries are allowed to be used\n",
    "SELECT Column1, (SELECT column FROM table1 where condition) AS alias\n",
    "FROM table1\n",
    "```"
   ]
  },
  {
   "cell_type": "markdown",
   "id": "30c2cfc9-43c1-457c-a395-54c64f440588",
   "metadata": {},
   "source": [
    "## Task 3\n",
    "Show the product IDs, names, prices, and total number of orders"
   ]
  },
  {
   "cell_type": "code",
   "execution_count": 60,
   "id": "f1341ad1-1fcb-444f-8f3b-99f3cd8d1bca",
   "metadata": {},
   "outputs": [
    {
     "name": "stdout",
     "output_type": "stream",
     "text": [
      "+-----------+---------+-------+---------------------+\n",
      "| ProductID | Product | price | TotalNumberOfOrders |\n",
      "+-----------+---------+-------+---------------------+\n",
      "|    101    | Bottle  |  10   |         10          |\n",
      "|    102    |  Tire   |  15   |         10          |\n",
      "|    103    |  Socks  |  20   |         10          |\n",
      "|    104    |  Caps   |  25   |         10          |\n",
      "|    105    | Gloves  |  30   |         10          |\n",
      "+-----------+---------+-------+---------------------+\n",
      "5 rows returned\n"
     ]
    }
   ],
   "source": [
    "select_query = \"\"\"SELECT ProductID, Product, price, (SELECT COUNT(*) FROM tbl_orders) AS TotalNumberOfOrders FROM tbl_products;\"\"\"\n",
    "execute_display_query_results(select_query)"
   ]
  },
  {
   "cell_type": "code",
   "execution_count": 61,
   "id": "2fc2f9cd-b3c1-4de3-b7bc-0dfce713c28d",
   "metadata": {},
   "outputs": [
    {
     "name": "stdout",
     "output_type": "stream",
     "text": [
      "+---------+-------+---------------------+\n",
      "| Product | price | TotalNumberOfOrders |\n",
      "+---------+-------+---------------------+\n",
      "| Bottle  |  10   |          4          |\n",
      "+---------+-------+---------------------+\n",
      "1 rows returned\n"
     ]
    }
   ],
   "source": [
    "select_query = \"\"\"SELECT Product, price, (SELECT COUNT(*) FROM tbl_orders WHERE ProductID = 101) AS TotalNumberOfOrders FROM tbl_products WHERE ProductID = 101;\"\"\"\n",
    "execute_display_query_results(select_query)"
   ]
  },
  {
   "cell_type": "code",
   "execution_count": 62,
   "id": "87f0a2e7-72c4-4f6c-81d8-fd4f3c979034",
   "metadata": {},
   "outputs": [
    {
     "name": "stdout",
     "output_type": "stream",
     "text": [
      "+---------+-------+---------------------+\n",
      "| Product | price | TotalNumberOfOrders |\n",
      "+---------+-------+---------------------+\n",
      "|  Tire   |  15   |          3          |\n",
      "+---------+-------+---------------------+\n",
      "1 rows returned\n"
     ]
    }
   ],
   "source": [
    "select_query = \"\"\"SELECT Product, price, (SELECT COUNT(*) FROM tbl_orders WHERE ProductID = 102) AS TotalNumberOfOrders FROM tbl_products WHERE ProductID = 102;\"\"\"\n",
    "execute_display_query_results(select_query)"
   ]
  },
  {
   "cell_type": "code",
   "execution_count": 63,
   "id": "3dfe4914-f47f-4d25-9899-14e8c146e59e",
   "metadata": {},
   "outputs": [
    {
     "name": "stdout",
     "output_type": "stream",
     "text": [
      "+---------+-------+---------------------+\n",
      "| Product | price | TotalNumberOfOrders |\n",
      "+---------+-------+---------------------+\n",
      "|  Socks  |  20   |          0          |\n",
      "+---------+-------+---------------------+\n",
      "1 rows returned\n"
     ]
    }
   ],
   "source": [
    "select_query = \"\"\"SELECT Product, price, (SELECT COUNT(*) FROM tbl_orders WHERE ProductID = 103) AS TotalNumberOfOrders FROM tbl_products WHERE ProductID = 103;\"\"\"\n",
    "execute_display_query_results(select_query)"
   ]
  },
  {
   "cell_type": "code",
   "execution_count": 64,
   "id": "4b934888-90c7-404b-af6b-6ceaefa486c1",
   "metadata": {},
   "outputs": [
    {
     "name": "stdout",
     "output_type": "stream",
     "text": [
      "+---------+-------+---------------------+\n",
      "| Product | price | TotalNumberOfOrders |\n",
      "+---------+-------+---------------------+\n",
      "|  Caps   |  25   |          2          |\n",
      "+---------+-------+---------------------+\n",
      "1 rows returned\n"
     ]
    }
   ],
   "source": [
    "select_query = \"\"\"SELECT Product, price, (SELECT COUNT(*) FROM tbl_orders WHERE ProductID = 104) AS TotalNumberOfOrders FROM tbl_products WHERE ProductID = 104;\"\"\"\n",
    "execute_display_query_results(select_query)"
   ]
  },
  {
   "cell_type": "code",
   "execution_count": 65,
   "id": "e5737349-21fb-49fc-8043-ce683cebdbe6",
   "metadata": {},
   "outputs": [
    {
     "name": "stdout",
     "output_type": "stream",
     "text": [
      "+---------+-------+---------------------+\n",
      "| Product | price | TotalNumberOfOrders |\n",
      "+---------+-------+---------------------+\n",
      "| Gloves  |  30   |          1          |\n",
      "+---------+-------+---------------------+\n",
      "1 rows returned\n"
     ]
    }
   ],
   "source": [
    "select_query = \"\"\"SELECT Product, price, (SELECT COUNT(*) FROM tbl_orders WHERE ProductID = 105) AS TotalNumberOfOrders FROM tbl_products WHERE ProductID = 105;\"\"\"\n",
    "execute_display_query_results(select_query)"
   ]
  },
  {
   "cell_type": "markdown",
   "id": "39cb0999-adcd-46ac-bd65-bb2301c6bbdb",
   "metadata": {},
   "source": [
    "## Task 4: Subquery in JOIN Clause\n",
    "Show all customer details and find the total orders for each customer"
   ]
  },
  {
   "cell_type": "code",
   "execution_count": 66,
   "id": "f78a8409-069c-4885-98f8-3e4c80903540",
   "metadata": {},
   "outputs": [
    {
     "name": "stdout",
     "output_type": "stream",
     "text": [
      "+---------+-----------+------------+---------------+------------+------------+-------------+--------------------+---------------+----------+-------+---------------------+\n",
      "| OrderID | ProductID | CustomerID | SalesPersonID | OrderDate  |  ShipDate  | OrderStatus |    ShipAddress     |  BillAddress  | Quantity | Sales |    CreationTime     |\n",
      "+---------+-----------+------------+---------------+------------+------------+-------------+--------------------+---------------+----------+-------+---------------------+\n",
      "|    1    |    101    |     2      |       3       | 2025-01-01 | 2025-01-05 |  Delivered  | 9833 Mt. Dias Blv. | 1226 Shoe St. |    1     |  10   | 2025-01-01 12:34:56 |\n",
      "|    2    |    102    |     3      |       3       | 2025-01-05 | 2025-01-10 |   Shipped   |   250 Race Court   |     NULL      |    1     |  15   | 2025-01-05 23:22:04 |\n",
      "|    3    |    101    |     1      |       5       | 2025-01-10 | 2025-01-25 |  Delivered  |    8157 W. Book    | 8157 W. Book  |    2     |  20   | 2025-01-10 18:24:08 |\n",
      "|    4    |    105    |     1      |       3       | 2025-01-20 | 2025-01-25 |   Shipped   | 5724 Victory Lane  |               |    2     |  60   | 2025-01-20 05:50:33 |\n",
      "|    5    |    104    |     2      |       5       | 2025-02-01 | 2025-02-05 |  Delivered  |        NULL        |     NULL      |    1     |  25   | 2025-02-01 14:02:41 |\n",
      "|    6    |    104    |     3      |       5       | 2025-02-05 | 2025-02-10 |  Delivered  |  1792 Belmont Rd.  |     NULL      |    2     |  50   | 2025-02-06 15:34:57 |\n",
      "|    7    |    102    |     1      |       1       | 2025-02-15 | 2025-02-27 |  Delivered  |  136 Balboa Court  |               |    2     |  30   | 2025-02-16 06:22:01 |\n",
      "|    8    |    101    |     4      |       3       | 2025-02-18 | 2025-02-27 |   Shipped   |   2947 Vine Lane   | 4311 Clay Rd  |    3     |  90   | 2025-02-18 10:45:22 |\n",
      "|    9    |    101    |     2      |       3       | 2025-03-10 | 2025-03-15 |   Shipped   |   3768 Door Way    |               |    2     |  20   | 2025-03-10 12:59:04 |\n",
      "|   10    |    102    |     3      |       5       | 2025-03-15 | 2025-03-20 |   Shipped   |        NULL        |     NULL      |    0     |  60   | 2025-03-16 23:25:15 |\n",
      "+---------+-----------+------------+---------------+------------+------------+-------------+--------------------+---------------+----------+-------+---------------------+\n",
      "10 rows returned\n",
      "\n",
      "\n",
      "+---------+-------+---------------------+\n",
      "| Product | price | TotalNumberOfOrders |\n",
      "+---------+-------+---------------------+\n",
      "| Gloves  |  30   |          1          |\n",
      "+---------+-------+---------------------+\n",
      "1 rows returned\n"
     ]
    }
   ],
   "source": [
    "execute_display_query_results(select_all_query(\"tbl_orders\"))\n",
    "print(\"\\n\")\n",
    "execute_display_query_results(select_query)"
   ]
  },
  {
   "cell_type": "code",
   "execution_count": 67,
   "id": "353d4703-5aaf-4fda-9faf-fae947e5f65b",
   "metadata": {},
   "outputs": [
    {
     "name": "stdout",
     "output_type": "stream",
     "text": [
      "+------------+----------+\n",
      "| CustomerID | COUNT(*) |\n",
      "+------------+----------+\n",
      "|     2      |    3     |\n",
      "|     3      |    3     |\n",
      "|     1      |    3     |\n",
      "|     4      |    1     |\n",
      "+------------+----------+\n",
      "4 rows returned\n"
     ]
    }
   ],
   "source": [
    "select_query = \"SELECT CustomerID, COUNT(*) FROM tbl_orders GROUP BY CustomerID;\"\n",
    "execute_display_query_results(select_query)"
   ]
  },
  {
   "cell_type": "code",
   "execution_count": 68,
   "id": "1a6dda2b-a9ed-4831-b9a9-9106e6134875",
   "metadata": {},
   "outputs": [
    {
     "name": "stdout",
     "output_type": "stream",
     "text": [
      "+------------+-----------+----------+---------+-------+-------------+\n",
      "| CustomerID | FirstName | LastName | Country | Score | TotalOrders |\n",
      "+------------+-----------+----------+---------+-------+-------------+\n",
      "|     1      |  Jossef   | Goldberg | Germany |  350  |      3      |\n",
      "|     2      |   Kevin   |  Brown   |   USA   |  900  |      3      |\n",
      "|     3      |   Mary    |   NULL   |   USA   |  750  |      3      |\n",
      "|     4      |   Mark    | Schwarz  | Germany |  500  |      1      |\n",
      "|     5      |   Anna    |  Adams   |   USA   | NULL  |    NULL     |\n",
      "+------------+-----------+----------+---------+-------+-------------+\n",
      "5 rows returned\n"
     ]
    }
   ],
   "source": [
    "select_query = \"\"\"SELECT tbl_customers.*, Orders.TotalOrders FROM tbl_customers\n",
    "LEFT JOIN (SELECT CustomerID, COUNT(*) AS TotalOrders FROM tbl_orders GROUP BY CustomerID) AS Orders\n",
    "ON tbl_customers.CustomerID = Orders.CustomerID;\"\"\"\n",
    "execute_display_query_results(select_query)"
   ]
  },
  {
   "cell_type": "markdown",
   "id": "b8571e47-3932-4aa6-bd76-ccc7c96f54b9",
   "metadata": {},
   "source": [
    "## Task 5: Subquery in WHERE Clause\n",
    "Find the products that have a price higher than the average proce of all products"
   ]
  },
  {
   "cell_type": "code",
   "execution_count": 69,
   "id": "586eca96-0094-4eea-a1a9-4e4ba0b3a3c5",
   "metadata": {},
   "outputs": [
    {
     "name": "stdout",
     "output_type": "stream",
     "text": [
      "+-----------+---------+----------+-------+----------+\n",
      "| ProductID | Product | Category | Price | AvgPrice |\n",
      "+-----------+---------+----------+-------+----------+\n",
      "|    104    |  Caps   | Clothing |  25   | 20.0000  |\n",
      "|    105    | Gloves  | Clothing |  30   | 20.0000  |\n",
      "+-----------+---------+----------+-------+----------+\n",
      "2 rows returned\n"
     ]
    }
   ],
   "source": [
    "select_query = \"\"\"SELECT *, (SELECT AVG(Price) FROM tbl_products) AS AvgPrice FROM tbl_products WHERE Price > (SELECT AVG(Price) AS AvgPrice FROM tbl_products);\"\"\"\n",
    "execute_display_query_results(select_query)"
   ]
  },
  {
   "cell_type": "markdown",
   "id": "38b1d806-cf2b-4d67-8dd8-01b441100c3a",
   "metadata": {},
   "source": [
    "## Task 6: Subquery in IN Operator\n",
    "Show the details of orders made by customers in Germany"
   ]
  },
  {
   "cell_type": "code",
   "execution_count": 70,
   "id": "7e7035b0-5216-47e8-a329-aeee48893de7",
   "metadata": {},
   "outputs": [
    {
     "name": "stdout",
     "output_type": "stream",
     "text": [
      "+------------+-----------+----------+---------+-------+\n",
      "| CustomerID | FirstName | LastName | Country | Score |\n",
      "+------------+-----------+----------+---------+-------+\n",
      "|     1      |  Jossef   | Goldberg | Germany |  350  |\n",
      "|     4      |   Mark    | Schwarz  | Germany |  500  |\n",
      "+------------+-----------+----------+---------+-------+\n",
      "2 rows returned\n"
     ]
    }
   ],
   "source": [
    "select_query = \"SELECT * FROM tbl_customers WHERE Country = 'Germany';\"\n",
    "execute_display_query_results(select_query)"
   ]
  },
  {
   "cell_type": "code",
   "execution_count": 71,
   "id": "0856dc76-641d-4ad1-93cc-25b5f9747b29",
   "metadata": {},
   "outputs": [
    {
     "name": "stdout",
     "output_type": "stream",
     "text": [
      "+---------+-----------+------------+---------------+------------+------------+-------------+-------------------+--------------+----------+-------+---------------------+\n",
      "| OrderID | ProductID | CustomerID | SalesPersonID | OrderDate  |  ShipDate  | OrderStatus |    ShipAddress    | BillAddress  | Quantity | Sales |    CreationTime     |\n",
      "+---------+-----------+------------+---------------+------------+------------+-------------+-------------------+--------------+----------+-------+---------------------+\n",
      "|    3    |    101    |     1      |       5       | 2025-01-10 | 2025-01-25 |  Delivered  |   8157 W. Book    | 8157 W. Book |    2     |  20   | 2025-01-10 18:24:08 |\n",
      "|    4    |    105    |     1      |       3       | 2025-01-20 | 2025-01-25 |   Shipped   | 5724 Victory Lane |              |    2     |  60   | 2025-01-20 05:50:33 |\n",
      "|    7    |    102    |     1      |       1       | 2025-02-15 | 2025-02-27 |  Delivered  | 136 Balboa Court  |              |    2     |  30   | 2025-02-16 06:22:01 |\n",
      "|    8    |    101    |     4      |       3       | 2025-02-18 | 2025-02-27 |   Shipped   |  2947 Vine Lane   | 4311 Clay Rd |    3     |  90   | 2025-02-18 10:45:22 |\n",
      "+---------+-----------+------------+---------------+------------+------------+-------------+-------------------+--------------+----------+-------+---------------------+\n",
      "4 rows returned\n"
     ]
    }
   ],
   "source": [
    "select_query = \"\"\"SELECT * FROM tbl_orders \n",
    "WHERE CustomerID IN \n",
    "(SELECT CustomerID FROM tbl_customers WHERE Country = 'Germany');\"\"\"\n",
    "execute_display_query_results(select_query)"
   ]
  },
  {
   "cell_type": "code",
   "execution_count": 72,
   "id": "3630e9b4-0e71-4f8a-90e6-500d32345fb0",
   "metadata": {},
   "outputs": [
    {
     "name": "stdout",
     "output_type": "stream",
     "text": [
      "+---------+-----------+------------+---------------+------------+------------+-------------+--------------------+---------------+----------+-------+---------------------+\n",
      "| OrderID | ProductID | CustomerID | SalesPersonID | OrderDate  |  ShipDate  | OrderStatus |    ShipAddress     |  BillAddress  | Quantity | Sales |    CreationTime     |\n",
      "+---------+-----------+------------+---------------+------------+------------+-------------+--------------------+---------------+----------+-------+---------------------+\n",
      "|    1    |    101    |     2      |       3       | 2025-01-01 | 2025-01-05 |  Delivered  | 9833 Mt. Dias Blv. | 1226 Shoe St. |    1     |  10   | 2025-01-01 12:34:56 |\n",
      "|    2    |    102    |     3      |       3       | 2025-01-05 | 2025-01-10 |   Shipped   |   250 Race Court   |     NULL      |    1     |  15   | 2025-01-05 23:22:04 |\n",
      "|    5    |    104    |     2      |       5       | 2025-02-01 | 2025-02-05 |  Delivered  |        NULL        |     NULL      |    1     |  25   | 2025-02-01 14:02:41 |\n",
      "|    6    |    104    |     3      |       5       | 2025-02-05 | 2025-02-10 |  Delivered  |  1792 Belmont Rd.  |     NULL      |    2     |  50   | 2025-02-06 15:34:57 |\n",
      "|    9    |    101    |     2      |       3       | 2025-03-10 | 2025-03-15 |   Shipped   |   3768 Door Way    |               |    2     |  20   | 2025-03-10 12:59:04 |\n",
      "|   10    |    102    |     3      |       5       | 2025-03-15 | 2025-03-20 |   Shipped   |        NULL        |     NULL      |    0     |  60   | 2025-03-16 23:25:15 |\n",
      "+---------+-----------+------------+---------------+------------+------------+-------------+--------------------+---------------+----------+-------+---------------------+\n",
      "6 rows returned\n"
     ]
    }
   ],
   "source": [
    "# Show the details of orders made by customers in Germany\n",
    "select_query = \"\"\"SELECT * FROM tbl_orders \n",
    "WHERE CustomerID IN \n",
    "(SELECT CustomerID FROM tbl_customers WHERE Country <> 'Germany');\"\"\"\n",
    "execute_display_query_results(select_query)"
   ]
  },
  {
   "cell_type": "code",
   "execution_count": 73,
   "id": "c0e09179-601b-4e56-9a20-a375289a35ba",
   "metadata": {},
   "outputs": [
    {
     "name": "stdout",
     "output_type": "stream",
     "text": [
      "+---------+-----------+------------+---------------+------------+------------+-------------+--------------------+---------------+----------+-------+---------------------+\n",
      "| OrderID | ProductID | CustomerID | SalesPersonID | OrderDate  |  ShipDate  | OrderStatus |    ShipAddress     |  BillAddress  | Quantity | Sales |    CreationTime     |\n",
      "+---------+-----------+------------+---------------+------------+------------+-------------+--------------------+---------------+----------+-------+---------------------+\n",
      "|    1    |    101    |     2      |       3       | 2025-01-01 | 2025-01-05 |  Delivered  | 9833 Mt. Dias Blv. | 1226 Shoe St. |    1     |  10   | 2025-01-01 12:34:56 |\n",
      "|    2    |    102    |     3      |       3       | 2025-01-05 | 2025-01-10 |   Shipped   |   250 Race Court   |     NULL      |    1     |  15   | 2025-01-05 23:22:04 |\n",
      "|    5    |    104    |     2      |       5       | 2025-02-01 | 2025-02-05 |  Delivered  |        NULL        |     NULL      |    1     |  25   | 2025-02-01 14:02:41 |\n",
      "|    6    |    104    |     3      |       5       | 2025-02-05 | 2025-02-10 |  Delivered  |  1792 Belmont Rd.  |     NULL      |    2     |  50   | 2025-02-06 15:34:57 |\n",
      "|    9    |    101    |     2      |       3       | 2025-03-10 | 2025-03-15 |   Shipped   |   3768 Door Way    |               |    2     |  20   | 2025-03-10 12:59:04 |\n",
      "|   10    |    102    |     3      |       5       | 2025-03-15 | 2025-03-20 |   Shipped   |        NULL        |     NULL      |    0     |  60   | 2025-03-16 23:25:15 |\n",
      "+---------+-----------+------------+---------------+------------+------------+-------------+--------------------+---------------+----------+-------+---------------------+\n",
      "6 rows returned\n"
     ]
    }
   ],
   "source": [
    "# Show the details of orders made by customers in Germany\n",
    "select_query = \"\"\"SELECT * FROM tbl_orders \n",
    "WHERE CustomerID NOT IN \n",
    "(SELECT CustomerID FROM tbl_customers WHERE Country = 'Germany');\"\"\"\n",
    "execute_display_query_results(select_query)"
   ]
  },
  {
   "cell_type": "markdown",
   "id": "3ab33424-8ade-4b8d-8eac-a8d11418b848",
   "metadata": {},
   "source": [
    "## Task 7: Subquery in WHERE Clause ANY Operator\n",
    "Find female employees whose salaries are greater than the salaries of any male employees"
   ]
  },
  {
   "cell_type": "code",
   "execution_count": 74,
   "id": "c75ae69d-c832-4cb7-862d-38df43cd35c6",
   "metadata": {},
   "outputs": [
    {
     "name": "stdout",
     "output_type": "stream",
     "text": [
      "+------------+-----------+----------+------------+------------+--------+--------+-----------+\n",
      "| EmployeeID | FirstName | LastName | Department | BirthDate  | Gender | Salary | ManagerID |\n",
      "+------------+-----------+----------+------------+------------+--------+--------+-----------+\n",
      "|     1      |   Frank   |   Lee    | Marketing  | 1988-12-05 |   M    | 55000  |   NULL    |\n",
      "|     2      |   Kevin   |  Brown   | Marketing  | 1972-11-25 |   M    | 65000  |     1     |\n",
      "|     3      |   Mary    |   NULL   |   Sales    | 1986-01-05 |   F    | 75000  |     1     |\n",
      "|     4      |  Michael  |   Ray    |   Sales    | 1977-02-10 |   M    | 90000  |     2     |\n",
      "|     5      |   Carol   |  Baker   |   Sales    | 1982-02-11 |   F    | 55000  |     3     |\n",
      "+------------+-----------+----------+------------+------------+--------+--------+-----------+\n",
      "5 rows returned\n"
     ]
    }
   ],
   "source": [
    "select_query = \"\"\"SELECT * FROM tbl_employees;\"\"\"\n",
    "execute_display_query_results(select_query)"
   ]
  },
  {
   "cell_type": "code",
   "execution_count": 75,
   "id": "0dafae02-d3a6-494d-84c1-fd77f51287a1",
   "metadata": {},
   "outputs": [
    {
     "name": "stdout",
     "output_type": "stream",
     "text": [
      "+------------+-----------+----------+------------+------------+--------+--------+-----------+\n",
      "| EmployeeID | FirstName | LastName | Department | BirthDate  | Gender | Salary | ManagerID |\n",
      "+------------+-----------+----------+------------+------------+--------+--------+-----------+\n",
      "|     3      |   Mary    |   NULL   |   Sales    | 1986-01-05 |   F    | 75000  |     1     |\n",
      "+------------+-----------+----------+------------+------------+--------+--------+-----------+\n",
      "1 rows returned\n"
     ]
    }
   ],
   "source": [
    "select_query = \"\"\"SELECT * FROM tbl_employees \n",
    "WHERE Gender = 'F' AND Salary > ANY(SELECT SALARY FROM tbl_employees WHERE Gender = 'M');\"\"\"\n",
    "execute_display_query_results(select_query)"
   ]
  },
  {
   "cell_type": "markdown",
   "id": "48605798-76e8-4a94-869f-b135339985fa",
   "metadata": {},
   "source": [
    "## Task 8: Subquery in WHERE Clause ALL Operator\n",
    "The ALL Operator checks if a value matches ALL values within a List  \n",
    "Find female employees whose salaries are greater than the salaries of all male employees"
   ]
  },
  {
   "cell_type": "code",
   "execution_count": 76,
   "id": "5611f264-d167-42f3-b8c6-d24b06b374a4",
   "metadata": {},
   "outputs": [
    {
     "name": "stdout",
     "output_type": "stream",
     "text": [
      "+------------+-----------+----------+------------+-----------+--------+--------+-----------+\n",
      "| EmployeeID | FirstName | LastName | Department | BirthDate | Gender | Salary | ManagerID |\n",
      "+------------+-----------+----------+------------+-----------+--------+--------+-----------+\n",
      "+------------+-----------+----------+------------+-----------+--------+--------+-----------+\n",
      "0 rows returned\n"
     ]
    }
   ],
   "source": [
    "select_query = \"\"\"SELECT * FROM tbl_employees \n",
    "WHERE Gender = 'F' AND Salary > ALL(SELECT SALARY FROM tbl_employees WHERE Gender = 'M');\"\"\"\n",
    "execute_display_query_results(select_query)"
   ]
  },
  {
   "cell_type": "markdown",
   "id": "3dd1a658-fa9e-4f35-99c1-27f68657a82f",
   "metadata": {},
   "source": [
    "## Task 9: Subquery in WHERE Clause EXISTS Operator\n",
    "Show the details of orders made by customers in Germany"
   ]
  },
  {
   "cell_type": "code",
   "execution_count": 77,
   "id": "05b51da8-3dc9-467a-8211-137574b4dd1c",
   "metadata": {},
   "outputs": [
    {
     "name": "stdout",
     "output_type": "stream",
     "text": [
      "+------------+-----------+----------+---------+-------+\n",
      "| CustomerID | FirstName | LastName | Country | Score |\n",
      "+------------+-----------+----------+---------+-------+\n",
      "|     1      |  Jossef   | Goldberg | Germany |  350  |\n",
      "|     2      |   Kevin   |  Brown   |   USA   |  900  |\n",
      "|     3      |   Mary    |   NULL   |   USA   |  750  |\n",
      "|     4      |   Mark    | Schwarz  | Germany |  500  |\n",
      "|     5      |   Anna    |  Adams   |   USA   | NULL  |\n",
      "+------------+-----------+----------+---------+-------+\n",
      "5 rows returned\n",
      "\n",
      "\n",
      "+---------+-----------+------------+---------------+------------+------------+-------------+--------------------+---------------+----------+-------+---------------------+\n",
      "| OrderID | ProductID | CustomerID | SalesPersonID | OrderDate  |  ShipDate  | OrderStatus |    ShipAddress     |  BillAddress  | Quantity | Sales |    CreationTime     |\n",
      "+---------+-----------+------------+---------------+------------+------------+-------------+--------------------+---------------+----------+-------+---------------------+\n",
      "|    1    |    101    |     2      |       3       | 2025-01-01 | 2025-01-05 |  Delivered  | 9833 Mt. Dias Blv. | 1226 Shoe St. |    1     |  10   | 2025-01-01 12:34:56 |\n",
      "|    2    |    102    |     3      |       3       | 2025-01-05 | 2025-01-10 |   Shipped   |   250 Race Court   |     NULL      |    1     |  15   | 2025-01-05 23:22:04 |\n",
      "|    3    |    101    |     1      |       5       | 2025-01-10 | 2025-01-25 |  Delivered  |    8157 W. Book    | 8157 W. Book  |    2     |  20   | 2025-01-10 18:24:08 |\n",
      "|    4    |    105    |     1      |       3       | 2025-01-20 | 2025-01-25 |   Shipped   | 5724 Victory Lane  |               |    2     |  60   | 2025-01-20 05:50:33 |\n",
      "|    5    |    104    |     2      |       5       | 2025-02-01 | 2025-02-05 |  Delivered  |        NULL        |     NULL      |    1     |  25   | 2025-02-01 14:02:41 |\n",
      "|    6    |    104    |     3      |       5       | 2025-02-05 | 2025-02-10 |  Delivered  |  1792 Belmont Rd.  |     NULL      |    2     |  50   | 2025-02-06 15:34:57 |\n",
      "|    7    |    102    |     1      |       1       | 2025-02-15 | 2025-02-27 |  Delivered  |  136 Balboa Court  |               |    2     |  30   | 2025-02-16 06:22:01 |\n",
      "|    8    |    101    |     4      |       3       | 2025-02-18 | 2025-02-27 |   Shipped   |   2947 Vine Lane   | 4311 Clay Rd  |    3     |  90   | 2025-02-18 10:45:22 |\n",
      "|    9    |    101    |     2      |       3       | 2025-03-10 | 2025-03-15 |   Shipped   |   3768 Door Way    |               |    2     |  20   | 2025-03-10 12:59:04 |\n",
      "|   10    |    102    |     3      |       5       | 2025-03-15 | 2025-03-20 |   Shipped   |        NULL        |     NULL      |    0     |  60   | 2025-03-16 23:25:15 |\n",
      "+---------+-----------+------------+---------------+------------+------------+-------------+--------------------+---------------+----------+-------+---------------------+\n",
      "10 rows returned\n"
     ]
    }
   ],
   "source": [
    "execute_display_query_results(select_all_query(\"tbl_customers\"))\n",
    "print(\"\\n\")\n",
    "execute_display_query_results(select_all_query(\"tbl_orders\"))"
   ]
  },
  {
   "cell_type": "code",
   "execution_count": 78,
   "id": "2b521e75-d659-4b78-aa77-f0092dd7d113",
   "metadata": {},
   "outputs": [
    {
     "name": "stdout",
     "output_type": "stream",
     "text": [
      "+------------+-----------+----------+---------+-------+------------+\n",
      "| CustomerID | FirstName | LastName | Country | Score | TotalSales |\n",
      "+------------+-----------+----------+---------+-------+------------+\n",
      "|     1      |  Jossef   | Goldberg | Germany |  350  |     3      |\n",
      "|     2      |   Kevin   |  Brown   |   USA   |  900  |     3      |\n",
      "|     3      |   Mary    |   NULL   |   USA   |  750  |     3      |\n",
      "|     4      |   Mark    | Schwarz  | Germany |  500  |     1      |\n",
      "|     5      |   Anna    |  Adams   |   USA   | NULL  |     0      |\n",
      "+------------+-----------+----------+---------+-------+------------+\n",
      "5 rows returned\n"
     ]
    }
   ],
   "source": [
    "select_query = \"\"\"SELECT *, (SELECT Count(*) FROM tbl_orders WHERE tbl_orders.CustomerID = tbl_customers.CustomerID) AS TotalSales FROM tbl_customers;\"\"\"\n",
    "execute_display_query_results(select_query)"
   ]
  },
  {
   "cell_type": "markdown",
   "id": "894b0f7e-a9ac-4d2a-8575-18f6a2c074de",
   "metadata": {},
   "source": [
    "```sql\n",
    "SELECT col1, col2 FROM table2 WHERE EXISTS (SELECT 1 FROM table1 WHERE table1.ID = table2.ID)\n",
    "```\n",
    "For each row in the mainn query, run the subquery. NO Result? Exclude Row of MainQuery in Final Result"
   ]
  },
  {
   "cell_type": "code",
   "execution_count": 79,
   "id": "5580f6e7-60d0-4832-8cc7-21ed57ad6194",
   "metadata": {},
   "outputs": [
    {
     "name": "stdout",
     "output_type": "stream",
     "text": [
      "+---------+-----------+------------+---------------+------------+------------+-------------+-------------------+--------------+----------+-------+---------------------+\n",
      "| OrderID | ProductID | CustomerID | SalesPersonID | OrderDate  |  ShipDate  | OrderStatus |    ShipAddress    | BillAddress  | Quantity | Sales |    CreationTime     |\n",
      "+---------+-----------+------------+---------------+------------+------------+-------------+-------------------+--------------+----------+-------+---------------------+\n",
      "|    3    |    101    |     1      |       5       | 2025-01-10 | 2025-01-25 |  Delivered  |   8157 W. Book    | 8157 W. Book |    2     |  20   | 2025-01-10 18:24:08 |\n",
      "|    4    |    105    |     1      |       3       | 2025-01-20 | 2025-01-25 |   Shipped   | 5724 Victory Lane |              |    2     |  60   | 2025-01-20 05:50:33 |\n",
      "|    7    |    102    |     1      |       1       | 2025-02-15 | 2025-02-27 |  Delivered  | 136 Balboa Court  |              |    2     |  30   | 2025-02-16 06:22:01 |\n",
      "|    8    |    101    |     4      |       3       | 2025-02-18 | 2025-02-27 |   Shipped   |  2947 Vine Lane   | 4311 Clay Rd |    3     |  90   | 2025-02-18 10:45:22 |\n",
      "+---------+-----------+------------+---------------+------------+------------+-------------+-------------------+--------------+----------+-------+---------------------+\n",
      "4 rows returned\n"
     ]
    }
   ],
   "source": [
    "#Show the details of orders made by customers in Germany\n",
    "select_query = \"\"\"SELECT * FROM tbl_orders WHERE EXISTS (SELECT 1 FROM tbl_customers WHERE tbl_customers.CustomerID = tbl_orders.CustomerID AND Country = 'Germany')\"\"\"\n",
    "execute_display_query_results(select_query)"
   ]
  },
  {
   "cell_type": "markdown",
   "id": "cdc93cdc-3011-4d9a-bb38-a0d88fe5ec8b",
   "metadata": {},
   "source": [
    "# Case Statements\n",
    "Evaluates a list of conditions and returns a value when the first condition is met\n",
    "```sql\n",
    "CASE \n",
    "    WHEN condition1 THEN result1\n",
    "    WHEN condition2 THEN result2\n",
    "    .....\n",
    "    ELSE resultn --optional\n",
    "END\n",
    "```\n",
    "Main purpose is Data Transformation. Create New Columns based on Existing Columns.\n",
    "- Categorizing Data\n",
    "- Mapping Values: F - Female, Male -> Male\n",
    "\n",
    "Rules: The data type of the results must be matching"
   ]
  },
  {
   "cell_type": "markdown",
   "id": "5ba810da-91d6-4bc2-860c-7f99f28810f8",
   "metadata": {},
   "source": [
    "## Task 1 \n",
    "Generate a report showing the total sales for each category \n",
    "- High: If sales higher than 50\n",
    "- Medium: If sales is between 21 and 50\n",
    "- low: If the above conditions are not met"
   ]
  },
  {
   "cell_type": "code",
   "execution_count": 80,
   "id": "8c8bac11-4fe7-448b-a9f1-e5df2b14d377",
   "metadata": {},
   "outputs": [
    {
     "name": "stdout",
     "output_type": "stream",
     "text": [
      "+---------+-------+----------+\n",
      "| OrderID | Sales | Category |\n",
      "+---------+-------+----------+\n",
      "|    1    |  10   |   Low    |\n",
      "|    2    |  15   |   Low    |\n",
      "|    3    |  20   |   Low    |\n",
      "|    4    |  60   |   High   |\n",
      "|    5    |  25   |  Medium  |\n",
      "|    6    |  50   |  Medium  |\n",
      "|    7    |  30   |  Medium  |\n",
      "|    8    |  90   |   High   |\n",
      "|    9    |  20   |   Low    |\n",
      "|   10    |  60   |   High   |\n",
      "+---------+-------+----------+\n",
      "10 rows returned\n"
     ]
    }
   ],
   "source": [
    "select_case_query = \"\"\"SELECT OrderID, Sales, \n",
    "CASE \n",
    "WHEN Sales > 50 THEN 'High'\n",
    "WHEN Sales BETWEEN 21 AND 50 THEN 'Medium'\n",
    "ELSE 'Low'\n",
    "END AS Category\n",
    "FROM tbl_orders\n",
    "\"\"\"\n",
    "\n",
    "execute_display_query_results(select_case_query)"
   ]
  },
  {
   "cell_type": "code",
   "execution_count": 81,
   "id": "aa8e4f5f-99c2-42a1-8440-2ac020913732",
   "metadata": {},
   "outputs": [
    {
     "name": "stdout",
     "output_type": "stream",
     "text": [
      "+----------+------------+\n",
      "| Category | TotalSales |\n",
      "+----------+------------+\n",
      "|   High   |    210     |\n",
      "|  Medium  |    105     |\n",
      "|   Low    |     65     |\n",
      "+----------+------------+\n",
      "3 rows returned\n"
     ]
    }
   ],
   "source": [
    "select_case_query = \"\"\"SELECT Category, SUM(Sales) AS TotalSales FROM\n",
    "(SELECT OrderID, Sales,\n",
    "CASE \n",
    "WHEN Sales > 50 THEN 'High'\n",
    "WHEN Sales BETWEEN 21 AND 50 THEN 'Medium'\n",
    "ELSE 'Low'\n",
    "END AS Category\n",
    "FROM tbl_orders) AS T\n",
    "GROUP BY Category\n",
    "ORDER BY TotalSales DESC;\n",
    "\"\"\"\n",
    "\n",
    "execute_display_query_results(select_case_query)"
   ]
  },
  {
   "cell_type": "markdown",
   "id": "09bb4a5b-8cd5-4cf9-91da-724c87631f2d",
   "metadata": {},
   "source": [
    "## Task 2\n",
    "Retrieve employee details with gender displayed as full text"
   ]
  },
  {
   "cell_type": "code",
   "execution_count": 82,
   "id": "8710adef-a314-4e93-8627-98fb03c12ba4",
   "metadata": {},
   "outputs": [
    {
     "name": "stdout",
     "output_type": "stream",
     "text": [
      "+------------+-----------+----------+------------+------------+--------+--------+-----------+----------------+\n",
      "| EmployeeID | FirstName | LastName | Department | BirthDate  | Gender | Salary | ManagerID | GenderFullText |\n",
      "+------------+-----------+----------+------------+------------+--------+--------+-----------+----------------+\n",
      "|     1      |   Frank   |   Lee    | Marketing  | 1988-12-05 |   M    | 55000  |   NULL    |      Male      |\n",
      "|     2      |   Kevin   |  Brown   | Marketing  | 1972-11-25 |   M    | 65000  |     1     |      Male      |\n",
      "|     3      |   Mary    |   NULL   |   Sales    | 1986-01-05 |   F    | 75000  |     1     |     Female     |\n",
      "|     4      |  Michael  |   Ray    |   Sales    | 1977-02-10 |   M    | 90000  |     2     |      Male      |\n",
      "|     5      |   Carol   |  Baker   |   Sales    | 1982-02-11 |   F    | 55000  |     3     |     Female     |\n",
      "+------------+-----------+----------+------------+------------+--------+--------+-----------+----------------+\n",
      "5 rows returned\n"
     ]
    }
   ],
   "source": [
    "select_case_query = \"\"\"SELECT * FROM\n",
    "(SELECT *, \n",
    "CASE \n",
    "WHEN Gender = 'F' THEN 'Female'\n",
    "WHEN Gender = 'M' THEN 'Male'\n",
    "ELSE 'Other'\n",
    "END AS GenderFullText\n",
    "FROM tbl_employees) AS T;\n",
    "\"\"\"\n",
    "\n",
    "execute_display_query_results(select_case_query)"
   ]
  },
  {
   "cell_type": "markdown",
   "id": "eb29b311-f851-4a1a-a84c-f3747b17f1d1",
   "metadata": {},
   "source": [
    "## Task 3\n",
    "Retrieve customer details with abbreviated country code"
   ]
  },
  {
   "cell_type": "code",
   "execution_count": 83,
   "id": "86b0f63d-c652-48a0-9e6a-a85e33464e20",
   "metadata": {},
   "outputs": [
    {
     "name": "stdout",
     "output_type": "stream",
     "text": [
      "+------------+-----------+----------+---------+-------+\n",
      "| CustomerID | FirstName | LastName | Country | Score |\n",
      "+------------+-----------+----------+---------+-------+\n",
      "|     1      |  Jossef   | Goldberg | Germany |  350  |\n",
      "|     2      |   Kevin   |  Brown   |   USA   |  900  |\n",
      "|     3      |   Mary    |   NULL   |   USA   |  750  |\n",
      "|     4      |   Mark    | Schwarz  | Germany |  500  |\n",
      "|     5      |   Anna    |  Adams   |   USA   | NULL  |\n",
      "+------------+-----------+----------+---------+-------+\n",
      "5 rows returned\n"
     ]
    }
   ],
   "source": [
    "execute_display_query_results(select_all_query(\"tbl_customers\"))"
   ]
  },
  {
   "cell_type": "code",
   "execution_count": 84,
   "id": "f5e0af04-a8ba-4658-b0d5-758efbace808",
   "metadata": {},
   "outputs": [
    {
     "name": "stdout",
     "output_type": "stream",
     "text": [
      "+---------+\n",
      "| Country |\n",
      "+---------+\n",
      "| Germany |\n",
      "|   USA   |\n",
      "+---------+\n",
      "2 rows returned\n"
     ]
    }
   ],
   "source": [
    "select_case_query = \"\"\"SELECT DISTINCT Country FROM tbl_customers;\n",
    "\"\"\"\n",
    "\n",
    "execute_display_query_results(select_case_query)"
   ]
  },
  {
   "cell_type": "code",
   "execution_count": 85,
   "id": "10d9ec85-0e8f-44b1-81b4-582e03813fb7",
   "metadata": {},
   "outputs": [
    {
     "name": "stdout",
     "output_type": "stream",
     "text": [
      "+------------+-----------+----------+---------+-------+------------+\n",
      "| CustomerID | FirstName | LastName | Country | Score | CountryAbb |\n",
      "+------------+-----------+----------+---------+-------+------------+\n",
      "|     1      |  Jossef   | Goldberg | Germany |  350  |     DE     |\n",
      "|     2      |   Kevin   |  Brown   |   USA   |  900  |     US     |\n",
      "|     3      |   Mary    |   NULL   |   USA   |  750  |     US     |\n",
      "|     4      |   Mark    | Schwarz  | Germany |  500  |     DE     |\n",
      "|     5      |   Anna    |  Adams   |   USA   | NULL  |     US     |\n",
      "+------------+-----------+----------+---------+-------+------------+\n",
      "5 rows returned\n"
     ]
    }
   ],
   "source": [
    "select_case_query = \"\"\"SELECT * FROM\n",
    "(SELECT *, \n",
    "CASE \n",
    "WHEN Country = 'Germany' THEN 'DE'\n",
    "WHEN Country = 'USA' THEN 'US'\n",
    "ELSE 'Other'\n",
    "END AS CountryAbb\n",
    "FROM tbl_customers) AS T;\n",
    "\"\"\"\n",
    "\n",
    "execute_display_query_results(select_case_query)"
   ]
  },
  {
   "cell_type": "code",
   "execution_count": 86,
   "id": "10efeffc-c807-4f97-88d1-2e7a71e8ce2e",
   "metadata": {},
   "outputs": [
    {
     "name": "stdout",
     "output_type": "stream",
     "text": [
      "+------------+-----------+----------+------------+------------+--------+--------+-----------+----------------+\n",
      "| EmployeeID | FirstName | LastName | Department | BirthDate  | Gender | Salary | ManagerID | GenderFullText |\n",
      "+------------+-----------+----------+------------+------------+--------+--------+-----------+----------------+\n",
      "|     1      |   Frank   |   Lee    | Marketing  | 1988-12-05 |   M    | 55000  |   NULL    |      Male      |\n",
      "|     2      |   Kevin   |  Brown   | Marketing  | 1972-11-25 |   M    | 65000  |     1     |      Male      |\n",
      "|     3      |   Mary    |   NULL   |   Sales    | 1986-01-05 |   F    | 75000  |     1     |     Female     |\n",
      "|     4      |  Michael  |   Ray    |   Sales    | 1977-02-10 |   M    | 90000  |     2     |      Male      |\n",
      "|     5      |   Carol   |  Baker   |   Sales    | 1982-02-11 |   F    | 55000  |     3     |     Female     |\n",
      "+------------+-----------+----------+------------+------------+--------+--------+-----------+----------------+\n",
      "5 rows returned\n"
     ]
    }
   ],
   "source": [
    "## This form is only used when the operator is equal\n",
    "\n",
    "select_case_query = \"\"\"SELECT * FROM\n",
    "(SELECT *, \n",
    "CASE Gender\n",
    "WHEN 'F' THEN 'Female'\n",
    "WHEN 'M' THEN 'Male'\n",
    "ELSE 'Other'\n",
    "END AS GenderFullText\n",
    "FROM tbl_employees) AS T;\n",
    "\"\"\"\n",
    "\n",
    "execute_display_query_results(select_case_query)"
   ]
  },
  {
   "cell_type": "markdown",
   "id": "0c22f6be-6fa1-457d-8aac-950c595ecdbb",
   "metadata": {},
   "source": [
    "## Task 4\n",
    "Find the average scores of customers and treat Nulls as 0. Additional provide details such as CustomerID & LastName"
   ]
  },
  {
   "cell_type": "code",
   "execution_count": 87,
   "id": "82a649b6-fa9f-4e12-a168-363775c464d3",
   "metadata": {},
   "outputs": [
    {
     "name": "stdout",
     "output_type": "stream",
     "text": [
      "+------------+-----------+----------+---------+-------+------------+--------------+\n",
      "| CustomerID | FirstName | LastName | Country | Score | CountryAbb | AverageScore |\n",
      "+------------+-----------+----------+---------+-------+------------+--------------+\n",
      "|     1      |  Jossef   | Goldberg | Germany |  350  |     DE     |   625.0000   |\n",
      "|     2      |   Kevin   |  Brown   |   USA   |  900  |     US     |   625.0000   |\n",
      "|     3      |   Mary    |   NULL   |   USA   |  750  |     US     |   625.0000   |\n",
      "|     4      |   Mark    | Schwarz  | Germany |  500  |     DE     |   625.0000   |\n",
      "|     5      |   Anna    |  Adams   |   USA   | NULL  |     US     |   625.0000   |\n",
      "+------------+-----------+----------+---------+-------+------------+--------------+\n",
      "5 rows returned\n"
     ]
    }
   ],
   "source": [
    "select_case_query = \"\"\"SELECT *, AVG(Score) OVER() AS AverageScore FROM\n",
    "(SELECT *, \n",
    "CASE \n",
    "WHEN Country = 'Germany' THEN 'DE'\n",
    "WHEN Country = 'USA' THEN 'US'\n",
    "ELSE 'Other'\n",
    "END AS CountryAbb\n",
    "FROM tbl_customers) AS T;\n",
    "\"\"\"\n",
    "\n",
    "execute_display_query_results(select_case_query)"
   ]
  },
  {
   "cell_type": "code",
   "execution_count": 88,
   "id": "7a60de75-22d9-4d66-aac2-fd2cadb1ec86",
   "metadata": {},
   "outputs": [
    {
     "name": "stdout",
     "output_type": "stream",
     "text": [
      "+------------+-----------+----------+---------+-------+------------+--------------+\n",
      "| CustomerID | FirstName | LastName | Country | Score | ScoreClean | AverageScore |\n",
      "+------------+-----------+----------+---------+-------+------------+--------------+\n",
      "|     1      |  Jossef   | Goldberg | Germany |  350  |    350     |   625.0000   |\n",
      "|     2      |   Kevin   |  Brown   |   USA   |  900  |    900     |   625.0000   |\n",
      "|     3      |   Mary    |   NULL   |   USA   |  750  |    750     |   625.0000   |\n",
      "|     4      |   Mark    | Schwarz  | Germany |  500  |    500     |   625.0000   |\n",
      "|     5      |   Anna    |  Adams   |   USA   | NULL  |     0      |   625.0000   |\n",
      "+------------+-----------+----------+---------+-------+------------+--------------+\n",
      "5 rows returned\n"
     ]
    }
   ],
   "source": [
    "select_case_query = \"\"\"SELECT *,\n",
    "CASE \n",
    "WHEN Score IS NULL THEN 0\n",
    "ELSE Score\n",
    "End ScoreClean,\n",
    "AVG(SCORE) OVER() AS AverageScore\n",
    "FROM tbl_customers;\n",
    "\"\"\"\n",
    "\n",
    "execute_display_query_results(select_case_query)"
   ]
  },
  {
   "cell_type": "code",
   "execution_count": 89,
   "id": "020e20c9-5622-4fba-875e-e7099fb308b7",
   "metadata": {},
   "outputs": [
    {
     "name": "stdout",
     "output_type": "stream",
     "text": [
      "+------------+-----------+----------+---------+-------+-------------------+--------------+\n",
      "| CustomerID | FirstName | LastName | Country | Score | AverageScoreClean | AverageScore |\n",
      "+------------+-----------+----------+---------+-------+-------------------+--------------+\n",
      "|     1      |  Jossef   | Goldberg | Germany |  350  |     500.0000      |   625.0000   |\n",
      "|     2      |   Kevin   |  Brown   |   USA   |  900  |     500.0000      |   625.0000   |\n",
      "|     3      |   Mary    |   NULL   |   USA   |  750  |     500.0000      |   625.0000   |\n",
      "|     4      |   Mark    | Schwarz  | Germany |  500  |     500.0000      |   625.0000   |\n",
      "|     5      |   Anna    |  Adams   |   USA   | NULL  |     500.0000      |   625.0000   |\n",
      "+------------+-----------+----------+---------+-------+-------------------+--------------+\n",
      "5 rows returned\n"
     ]
    }
   ],
   "source": [
    "select_case_query = \"\"\"SELECT *,\n",
    "AVG(\n",
    "    CASE \n",
    "        WHEN Score IS NULL THEN 0\n",
    "        ELSE Score\n",
    "    End) OVER() AverageScoreClean,\n",
    "AVG(SCORE) OVER() AS AverageScore\n",
    "FROM tbl_customers;\n",
    "\"\"\"\n",
    "\n",
    "execute_display_query_results(select_case_query)"
   ]
  },
  {
   "cell_type": "code",
   "execution_count": 90,
   "id": "924067b7-b896-44d3-8210-3512c784d9bc",
   "metadata": {},
   "outputs": [],
   "source": [
    "# Conditional Aggregation\n",
    "# Apply aggregate functions only on subsets that fulfill certain conditions"
   ]
  },
  {
   "cell_type": "markdown",
   "id": "2de23fd0-6a2d-4bc1-9fc0-4ea5a330a427",
   "metadata": {},
   "source": [
    "## Task 5\n",
    "Count how many times each customer has made an order with sale greater than 30"
   ]
  },
  {
   "cell_type": "code",
   "execution_count": 91,
   "id": "2a7a8ee0-7614-40db-8149-537f74365f8f",
   "metadata": {},
   "outputs": [
    {
     "name": "stdout",
     "output_type": "stream",
     "text": [
      "+---------+------------+-------+\n",
      "| OrderID | CustomerID | Sales |\n",
      "+---------+------------+-------+\n",
      "|    3    |     1      |  20   |\n",
      "|    4    |     1      |  60   |\n",
      "|    7    |     1      |  30   |\n",
      "|    1    |     2      |  10   |\n",
      "|    5    |     2      |  25   |\n",
      "|    9    |     2      |  20   |\n",
      "|    2    |     3      |  15   |\n",
      "|    6    |     3      |  50   |\n",
      "|   10    |     3      |  60   |\n",
      "|    8    |     4      |  90   |\n",
      "+---------+------------+-------+\n",
      "10 rows returned\n"
     ]
    }
   ],
   "source": [
    "select_query = \"\"\"SELECT OrderID, CustomerID, Sales FROM tbl_orders ORDER BY CustomerID\"\"\"\n",
    "\n",
    "execute_display_query_results(select_query)"
   ]
  },
  {
   "cell_type": "code",
   "execution_count": 92,
   "id": "d4c3c572-2aa1-4c9e-a221-d470fadb098f",
   "metadata": {},
   "outputs": [
    {
     "name": "stdout",
     "output_type": "stream",
     "text": [
      "+---------+------------+-------+-----------+\n",
      "| OrderID | CustomerID | Sales | SalesFlag |\n",
      "+---------+------------+-------+-----------+\n",
      "|    3    |     1      |  20   |     0     |\n",
      "|    4    |     1      |  60   |     1     |\n",
      "|    7    |     1      |  30   |     0     |\n",
      "|    1    |     2      |  10   |     0     |\n",
      "|    5    |     2      |  25   |     0     |\n",
      "|    9    |     2      |  20   |     0     |\n",
      "|    2    |     3      |  15   |     0     |\n",
      "|    6    |     3      |  50   |     1     |\n",
      "|   10    |     3      |  60   |     1     |\n",
      "|    8    |     4      |  90   |     1     |\n",
      "+---------+------------+-------+-----------+\n",
      "10 rows returned\n"
     ]
    }
   ],
   "source": [
    "select_query = \"\"\"SELECT OrderID, CustomerID, Sales,\n",
    "CASE \n",
    "WHEN Sales > 30 THEN 1\n",
    "ELSE 0\n",
    "END AS SalesFlag\n",
    "FROM tbl_orders ORDER BY CustomerID\"\"\"\n",
    "execute_display_query_results(select_query)"
   ]
  },
  {
   "cell_type": "code",
   "execution_count": 93,
   "id": "81f99307-d2b8-465d-a161-2ef9c4225430",
   "metadata": {},
   "outputs": [
    {
     "name": "stdout",
     "output_type": "stream",
     "text": [
      "+------------+-------------+\n",
      "| CustomerID | TotalOrders |\n",
      "+------------+-------------+\n",
      "|     2      |      0      |\n",
      "|     3      |      2      |\n",
      "|     1      |      1      |\n",
      "|     4      |      1      |\n",
      "+------------+-------------+\n",
      "4 rows returned\n"
     ]
    }
   ],
   "source": [
    "select_query = \"\"\"SELECT CustomerID, \n",
    "SUM(CASE \n",
    "WHEN Sales > 30 THEN 1\n",
    "ELSE 0\n",
    "END) AS TotalOrders\n",
    "FROM tbl_orders GROUP BY CustomerID\"\"\"\n",
    "execute_display_query_results(select_query)"
   ]
  },
  {
   "cell_type": "code",
   "execution_count": 94,
   "id": "f4268113-6d4d-4a96-9b6d-3798a15ef949",
   "metadata": {},
   "outputs": [
    {
     "name": "stdout",
     "output_type": "stream",
     "text": [
      "+------------+-----------------+-------------+\n",
      "| CustomerID | TotalOrdersHigh | TotalOrders |\n",
      "+------------+-----------------+-------------+\n",
      "|     2      |        0        |      3      |\n",
      "|     3      |        2        |      3      |\n",
      "|     1      |        1        |      3      |\n",
      "|     4      |        1        |      1      |\n",
      "+------------+-----------------+-------------+\n",
      "4 rows returned\n"
     ]
    }
   ],
   "source": [
    "select_query = \"\"\"SELECT CustomerID, \n",
    "SUM(CASE \n",
    "WHEN Sales > 30 THEN 1\n",
    "ELSE 0\n",
    "END) AS TotalOrdersHigh,\n",
    "COUNT(*) As TotalOrders\n",
    "FROM tbl_orders GROUP BY CustomerID\"\"\"\n",
    "execute_display_query_results(select_query)"
   ]
  },
  {
   "cell_type": "code",
   "execution_count": null,
   "id": "6ebba08d-88bd-4b62-ac74-a156a200f7e9",
   "metadata": {},
   "outputs": [],
   "source": []
  }
 ],
 "metadata": {
  "kernelspec": {
   "display_name": "Python 3 (ipykernel)",
   "language": "python",
   "name": "python3"
  },
  "language_info": {
   "codemirror_mode": {
    "name": "ipython",
    "version": 3
   },
   "file_extension": ".py",
   "mimetype": "text/x-python",
   "name": "python",
   "nbconvert_exporter": "python",
   "pygments_lexer": "ipython3",
   "version": "3.11.7"
  }
 },
 "nbformat": 4,
 "nbformat_minor": 5
}
