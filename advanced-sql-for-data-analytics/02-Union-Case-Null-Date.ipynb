{
 "cells": [
  {
   "cell_type": "code",
   "execution_count": 1,
   "id": "85b79e87-1322-4463-808f-8261a3b40baf",
   "metadata": {},
   "outputs": [],
   "source": [
    "import os, sys\n",
    "import mysql.connector as connector\n",
    "import subprocess\n",
    "import logging\n",
    "import getpass\n",
    "sys.path.append(\"..\")\n",
    "from display.display_query import execute_display_query_results, select_all_query"
   ]
  },
  {
   "cell_type": "markdown",
   "id": "214a30f3-2cff-4944-b14a-aa97af4bcd49",
   "metadata": {},
   "source": [
    "## Create logger"
   ]
  },
  {
   "cell_type": "code",
   "execution_count": 2,
   "id": "b74d3be5-66c1-4f6e-abed-030cfe7610cf",
   "metadata": {},
   "outputs": [],
   "source": [
    "logger = logging.getLogger(\"[SET Operators MySQL]\")\n",
    "if os.path.exists(\"../log/sets.log\"):\n",
    "  os.remove(\"../log/sets.log\")\n",
    "logging.basicConfig(filename='../log/sets.log', encoding='utf-8', level=logging.DEBUG, format='%(asctime)s ==> %(message)s', datefmt='%m/%d/%Y %I:%M:%S')"
   ]
  },
  {
   "cell_type": "markdown",
   "id": "46f1789d-2af8-4555-b531-305983aaff9e",
   "metadata": {},
   "source": [
    "## Create Connection"
   ]
  },
  {
   "cell_type": "code",
   "execution_count": 3,
   "id": "2637450b-a465-466f-b234-eacead1da526",
   "metadata": {},
   "outputs": [
    {
     "name": "stdout",
     "output_type": "stream",
     "text": [
      "Connection established between MySQL and Python\n"
     ]
    }
   ],
   "source": [
    "logger.info(\"Creating a connection between MySQL and Python\")\n",
    "dbconfig={\"user\":\"root\", \"password\":os.environ[\"MYSQL_ROOT_PASSWORD\"], \"port\":33061, \"host\":\"localhost\", \"database\": \"db_advanced_sql_baraa\"}\n",
    "connection=connector.connect(**dbconfig)\n",
    "print(\"Connection established between MySQL and Python\")\n",
    "logger.info(\"Connection established between MySQL and Python\")"
   ]
  },
  {
   "cell_type": "markdown",
   "id": "83286d41-7ca8-461b-8441-1aea616d2c29",
   "metadata": {},
   "source": [
    "## Create Cursor Object"
   ]
  },
  {
   "cell_type": "code",
   "execution_count": 4,
   "id": "3847717f-b57f-46c9-8fe7-1a60fe6aa8a4",
   "metadata": {},
   "outputs": [
    {
     "name": "stdout",
     "output_type": "stream",
     "text": [
      "Creating cursor object from connection\n",
      "Cursor object created to communicate with MySQL\n"
     ]
    }
   ],
   "source": [
    "print(\"Creating cursor object from connection\")\n",
    "logger.info(\"Creating first cursor object from connection\")\n",
    "cursor = connection.cursor()\n",
    "print(\"Cursor object created to communicate with MySQL\")\n",
    "logger.info(\"Cursor object created to communicate with MySQL\")"
   ]
  },
  {
   "attachments": {},
   "cell_type": "markdown",
   "id": "0823e136-6b97-4d13-866a-a961101983ca",
   "metadata": {},
   "source": [
    "# Set  Operators\n",
    "Set Opetations in SQL combine the results of multiple queries into a single result set\n",
    "<div style=\"text-align:center\">\n",
    "<img src=\"./joins_sets.png\" alt=\"drawing\" width=\"1000\"/>\n",
    "</div>\n",
    "\n",
    "<div style=\"text-align:center\">\n",
    "<img src=\"./set_operators.png\" alt=\"operators\" width=\"1000\"/>\n",
    "</div>\n",
    "\n",
    "## Rule One\n",
    "- SET Operator can be used almost in all clauses WHERE | JOIN | GROUP BY | HAVING\n",
    "- ORDER BY is allowed only once at the end of the query\n",
    "<div style=\"text-align:center\">\n",
    "<img src=\"./rule_one.png\" alt=\"rule_one\" width=\"1000\"/>\n",
    "</div>\n",
    "\n",
    "## Rule Two\n",
    "- The number of columns in each query must be the same\n",
    "\n",
    "## Rule Three \n",
    "- Data types of columns in each query must be compatible\n",
    "\n",
    "## Rule Four \n",
    "- The order of the columns in each query must be the same\n",
    "\n",
    "## Rule Five \n",
    "- The column names in the result set are determined by the column names specified in the first query\n",
    "\n",
    "## Rule Six \n",
    "- Even if all rules are met and SQL shows no errors, the result may be incorrect. Incorrect column selection leads to inaccurate results. "
   ]
  },
  {
   "cell_type": "code",
   "execution_count": 5,
   "id": "4e97555d-f0e6-45b0-b43c-1908f8f65bba",
   "metadata": {},
   "outputs": [
    {
     "name": "stdout",
     "output_type": "stream",
     "text": [
      "\n",
      "tbl_orders\n",
      "+---------+-----------+------------+---------------+------------+------------+-------------+--------------------+---------------+----------+-------+---------------------+\n",
      "| OrderID | ProductID | CustomerID | SalesPersonID | OrderDate  |  ShipDate  | OrderStatus |    ShipAddress     |  BillAddress  | Quantity | Sales |    CreationTime     |\n",
      "+---------+-----------+------------+---------------+------------+------------+-------------+--------------------+---------------+----------+-------+---------------------+\n",
      "|    1    |    101    |     2      |       3       | 2025-01-01 | 2025-01-05 |  Delivered  | 9833 Mt. Dias Blv. | 1226 Shoe St. |    1     |  10   | 2025-01-01 12:34:56 |\n",
      "|    2    |    102    |     3      |       3       | 2025-01-05 | 2025-01-10 |   Shipped   |   250 Race Court   |     NULL      |    1     |  15   | 2025-01-05 23:22:04 |\n",
      "|    3    |    101    |     1      |       5       | 2025-01-10 | 2025-01-25 |  Delivered  |    8157 W. Book    | 8157 W. Book  |    2     |  20   | 2025-01-10 18:24:08 |\n",
      "|    4    |    105    |     1      |       3       | 2025-01-20 | 2025-01-25 |   Shipped   | 5724 Victory Lane  |               |    2     |  60   | 2025-01-20 05:50:33 |\n",
      "|    5    |    104    |     2      |       5       | 2025-02-01 | 2025-02-05 |  Delivered  |        NULL        |     NULL      |    1     |  25   | 2025-02-01 14:02:41 |\n",
      "|    6    |    104    |     3      |       5       | 2025-02-05 | 2025-02-10 |  Delivered  |  1792 Belmont Rd.  |     NULL      |    2     |  50   | 2025-02-06 15:34:57 |\n",
      "|    7    |    102    |     1      |       1       | 2025-02-15 | 2025-02-27 |  Delivered  |  136 Balboa Court  |               |    2     |  30   | 2025-02-16 06:22:01 |\n",
      "|    8    |    101    |     4      |       3       | 2025-02-18 | 2025-02-27 |   Shipped   |   2947 Vine Lane   | 4311 Clay Rd  |    3     |  90   | 2025-02-18 10:45:22 |\n",
      "|    9    |    101    |     2      |       3       | 2025-03-10 | 2025-03-15 |   Shipped   |   3768 Door Way    |               |    2     |  20   | 2025-03-10 12:59:04 |\n",
      "|   10    |    102    |     3      |       5       | 2025-03-15 | 2025-03-20 |   Shipped   |        NULL        |     NULL      |    0     |  60   | 2025-03-16 23:25:15 |\n",
      "+---------+-----------+------------+---------------+------------+------------+-------------+--------------------+---------------+----------+-------+---------------------+\n",
      "10 rows returned in time: (0.03 sec)\n",
      "\n",
      "tbl_products\n",
      "+-----------+---------+-------------+-------+\n",
      "| ProductID | Product |  Category   | Price |\n",
      "+-----------+---------+-------------+-------+\n",
      "|    101    | Bottle  | Accessories |  10   |\n",
      "|    102    |  Tire   | Accessories |  15   |\n",
      "|    103    |  Socks  |  Clothing   |  20   |\n",
      "|    104    |  Caps   |  Clothing   |  25   |\n",
      "|    105    | Gloves  |  Clothing   |  30   |\n",
      "+-----------+---------+-------------+-------+\n",
      "5 rows returned in time: (0.003 sec)\n",
      "\n",
      "tbl_customers\n",
      "+------------+-----------+----------+---------+-------+\n",
      "| CustomerID | FirstName | LastName | Country | Score |\n",
      "+------------+-----------+----------+---------+-------+\n",
      "|     1      |  Jossef   | Goldberg | Germany |  350  |\n",
      "|     2      |   Kevin   |  Brown   |   USA   |  900  |\n",
      "|     3      |   Mary    |   NULL   |   USA   |  750  |\n",
      "|     4      |   Mark    | Schwarz  | Germany |  500  |\n",
      "|     5      |   Anna    |  Adams   |   USA   | NULL  |\n",
      "+------------+-----------+----------+---------+-------+\n",
      "5 rows returned in time: (0.003 sec)\n",
      "\n",
      "tbl_employees\n",
      "+------------+-----------+----------+------------+------------+--------+--------+-----------+\n",
      "| EmployeeID | FirstName | LastName | Department | BirthDate  | Gender | Salary | ManagerID |\n",
      "+------------+-----------+----------+------------+------------+--------+--------+-----------+\n",
      "|     1      |   Frank   |   Lee    | Marketing  | 1988-12-05 |   M    | 55000  |   NULL    |\n",
      "|     2      |   Kevin   |  Brown   | Marketing  | 1972-11-25 |   M    | 65000  |     1     |\n",
      "|     3      |   Mary    |   NULL   |   Sales    | 1986-01-05 |   F    | 75000  |     1     |\n",
      "|     4      |  Michael  |   Ray    |   Sales    | 1977-02-10 |   M    | 90000  |     2     |\n",
      "|     5      |   Carol   |  Baker   |   Sales    | 1982-02-11 |   F    | 55000  |     3     |\n",
      "+------------+-----------+----------+------------+------------+--------+--------+-----------+\n",
      "5 rows returned in time: (0.002 sec)\n"
     ]
    }
   ],
   "source": [
    "print(\"\\ntbl_orders\")\n",
    "execute_display_query_results(select_all_query(\"tbl_orders\"), cursor)\n",
    "print(\"\\ntbl_products\")\n",
    "execute_display_query_results(select_all_query(\"tbl_products\"), cursor)\n",
    "print(\"\\ntbl_customers\")\n",
    "execute_display_query_results(select_all_query(\"tbl_customers\"), cursor)\n",
    "print(\"\\ntbl_employees\")\n",
    "execute_display_query_results(select_all_query(\"tbl_employees\"), cursor)"
   ]
  },
  {
   "cell_type": "code",
   "execution_count": 6,
   "id": "3b6812e8-1c99-4262-bb1d-29221bd44d3b",
   "metadata": {},
   "outputs": [
    {
     "name": "stdout",
     "output_type": "stream",
     "text": [
      "+-----------+----------+\n",
      "| firstname | lastname |\n",
      "+-----------+----------+\n",
      "|  Jossef   | Goldberg |\n",
      "|   Kevin   |  Brown   |\n",
      "|   Mary    |   NULL   |\n",
      "|   Mark    | Schwarz  |\n",
      "|   Anna    |  Adams   |\n",
      "|   Frank   |   Lee    |\n",
      "|  Michael  |   Ray    |\n",
      "|   Carol   |  Baker   |\n",
      "+-----------+----------+\n",
      "8 rows returned in time: (0.01 sec)\n"
     ]
    }
   ],
   "source": [
    "select_query = \"\"\"SELECT firstname, lastname FROM tbl_customers\n",
    "UNION \n",
    "SELECT firstname, lastname FROM tbl_employees;\n",
    "\"\"\"\n",
    "execute_display_query_results(select_query, cursor)"
   ]
  },
  {
   "cell_type": "code",
   "execution_count": 7,
   "id": "89a35bff-21eb-4973-81b9-6a067f13019d",
   "metadata": {},
   "outputs": [
    {
     "name": "stdout",
     "output_type": "stream",
     "text": [
      "+------------+-------------+------+-----+---------+-------+\n",
      "|   Field    |    Type     | Null | Key | Default | Extra |\n",
      "+------------+-------------+------+-----+---------+-------+\n",
      "| CustomerID |     int     |  NO  | PRI |  NULL   |       |\n",
      "| FirstName  | varchar(50) | YES  |     |  NULL   |       |\n",
      "|  LastName  | varchar(50) | YES  |     |  NULL   |       |\n",
      "|  Country   | varchar(50) | YES  |     |  NULL   |       |\n",
      "|   Score    |     int     | YES  |     |  NULL   |       |\n",
      "+------------+-------------+------+-----+---------+-------+\n",
      "5 rows returned in time: (0.036 sec)\n",
      "\n",
      "\n",
      "+------------+-------------+------+-----+---------+-------+\n",
      "|   Field    |    Type     | Null | Key | Default | Extra |\n",
      "+------------+-------------+------+-----+---------+-------+\n",
      "| EmployeeID |     int     |  NO  | PRI |  NULL   |       |\n",
      "| FirstName  | varchar(50) | YES  |     |  NULL   |       |\n",
      "|  LastName  | varchar(50) | YES  |     |  NULL   |       |\n",
      "| Department | varchar(50) | YES  |     |  NULL   |       |\n",
      "| BirthDate  |    date     | YES  |     |  NULL   |       |\n",
      "|   Gender   |   char(1)   | YES  |     |  NULL   |       |\n",
      "|   Salary   |     int     | YES  |     |  NULL   |       |\n",
      "| ManagerID  |     int     | YES  |     |  NULL   |       |\n",
      "+------------+-------------+------+-----+---------+-------+\n",
      "8 rows returned in time: (0.001 sec)\n"
     ]
    }
   ],
   "source": [
    "show_query = \"\"\"SHOW COLUMNS FROM tbl_customers;\"\"\"\n",
    "execute_display_query_results(show_query, cursor)\n",
    "print(\"\\n\")\n",
    "show_query = \"\"\"SHOW COLUMNS FROM tbl_employees;\"\"\"\n",
    "execute_display_query_results(show_query, cursor)"
   ]
  },
  {
   "cell_type": "code",
   "execution_count": 8,
   "id": "274d09b4-8f6b-43f9-b3e3-f740a055e647",
   "metadata": {},
   "outputs": [
    {
     "name": "stdout",
     "output_type": "stream",
     "text": [
      "+----+-----------+----------+\n",
      "| id | firstname | lastname |\n",
      "+----+-----------+----------+\n",
      "| 1  |  Jossef   | Goldberg |\n",
      "| 2  |   Kevin   |  Brown   |\n",
      "| 3  |   Mary    |   NULL   |\n",
      "| 4  |   Mark    | Schwarz  |\n",
      "| 5  |   Anna    |  Adams   |\n",
      "| 1  |   Frank   |   Lee    |\n",
      "| 4  |  Michael  |   Ray    |\n",
      "| 5  |   Carol   |  Baker   |\n",
      "+----+-----------+----------+\n",
      "8 rows returned in time: (0.001 sec)\n"
     ]
    }
   ],
   "source": [
    "# Rule Five\n",
    "select_query = \"\"\"SELECT customerid as id, firstname, lastname FROM tbl_customers\n",
    "UNION \n",
    "SELECT employeeid, firstname, lastname FROM tbl_employees;\n",
    "\"\"\"\n",
    "execute_display_query_results(select_query, cursor)"
   ]
  },
  {
   "cell_type": "code",
   "execution_count": 9,
   "id": "46d5360b-6554-4e46-87f9-e671cb83540a",
   "metadata": {},
   "outputs": [
    {
     "name": "stdout",
     "output_type": "stream",
     "text": [
      "+----+-----------+----------+\n",
      "| id | firstname | lastname |\n",
      "+----+-----------+----------+\n",
      "| 1  |  Jossef   | Goldberg |\n",
      "| 2  |   Kevin   |  Brown   |\n",
      "| 3  |   Mary    |   NULL   |\n",
      "| 4  |   Mark    | Schwarz  |\n",
      "| 5  |   Anna    |  Adams   |\n",
      "| 1  |   Frank   |   Lee    |\n",
      "| 4  |  Michael  |   Ray    |\n",
      "| 5  |   Carol   |  Baker   |\n",
      "+----+-----------+----------+\n",
      "8 rows returned in time: (0.001 sec)\n"
     ]
    }
   ],
   "source": [
    "# Combine the data from employees and customers into one table\n",
    "select_query = \"\"\"SELECT customerid as id, firstname, lastname FROM tbl_customers\n",
    "UNION \n",
    "SELECT employeeid, firstname, lastname FROM tbl_employees;\n",
    "\"\"\"\n",
    "execute_display_query_results(select_query, cursor)"
   ]
  },
  {
   "cell_type": "markdown",
   "id": "6fcef303-7bd1-4f7f-a451-0680bf993776",
   "metadata": {},
   "source": [
    "# Union All: \n",
    "Returns all rows from both queries, including duplicates.  \n",
    "It is generally faster than UNION"
   ]
  },
  {
   "cell_type": "code",
   "execution_count": 10,
   "id": "7bddc0cc-4a2d-4f6c-8ed1-20435f227cd8",
   "metadata": {},
   "outputs": [
    {
     "name": "stdout",
     "output_type": "stream",
     "text": [
      "+----+-----------+----------+\n",
      "| id | firstname | lastname |\n",
      "+----+-----------+----------+\n",
      "| 1  |  Jossef   | Goldberg |\n",
      "| 2  |   Kevin   |  Brown   |\n",
      "| 3  |   Mary    |   NULL   |\n",
      "| 4  |   Mark    | Schwarz  |\n",
      "| 5  |   Anna    |  Adams   |\n",
      "| 1  |   Frank   |   Lee    |\n",
      "| 2  |   Kevin   |  Brown   |\n",
      "| 3  |   Mary    |   NULL   |\n",
      "| 4  |  Michael  |   Ray    |\n",
      "| 5  |   Carol   |  Baker   |\n",
      "+----+-----------+----------+\n",
      "10 rows returned in time: (0.001 sec)\n"
     ]
    }
   ],
   "source": [
    "# Combine the data from employees and customers into one table including duplicates\n",
    "select_query = \"\"\"SELECT customerid as id, firstname, lastname FROM tbl_customers\n",
    "UNION ALL\n",
    "SELECT employeeid, firstname, lastname FROM tbl_employees;\n",
    "\"\"\"\n",
    "execute_display_query_results(select_query, cursor)"
   ]
  },
  {
   "cell_type": "markdown",
   "id": "ea64fc3f-ae8f-43ae-9a36-75b29a1e465e",
   "metadata": {},
   "source": [
    "# Except \n",
    "- Returns all ***distinct*** rows from the ***first query*** that are not found in the ***second query***"
   ]
  },
  {
   "cell_type": "code",
   "execution_count": 11,
   "id": "b1e0e004-fc1a-42e0-9296-1e3e5a9e430c",
   "metadata": {},
   "outputs": [
    {
     "name": "stdout",
     "output_type": "stream",
     "text": [
      "+----+-----------+----------+\n",
      "| id | firstname | lastname |\n",
      "+----+-----------+----------+\n",
      "| 1  |  Jossef   | Goldberg |\n",
      "| 4  |   Mark    | Schwarz  |\n",
      "| 5  |   Anna    |  Adams   |\n",
      "+----+-----------+----------+\n",
      "3 rows returned in time: (0.001 sec)\n",
      "\n",
      "\n",
      "+----+-----------+----------+\n",
      "| id | firstname | lastname |\n",
      "+----+-----------+----------+\n",
      "| 1  |   Frank   |   Lee    |\n",
      "| 4  |  Michael  |   Ray    |\n",
      "| 5  |   Carol   |  Baker   |\n",
      "+----+-----------+----------+\n",
      "3 rows returned in time: (0.0 sec)\n"
     ]
    }
   ],
   "source": [
    "# Combine the data from employees and customers into one table including duplicates\n",
    "select_query = \"\"\"SELECT customerid as id, firstname, lastname FROM tbl_customers\n",
    "EXCEPT\n",
    "SELECT employeeid, firstname, lastname FROM tbl_employees;\n",
    "\"\"\"\n",
    "execute_display_query_results(select_query, cursor)\n",
    "\n",
    "print(\"\\n\")\n",
    "\n",
    "select_query = \"\"\"SELECT employeeid as id, firstname, lastname FROM tbl_employees\n",
    "EXCEPT\n",
    "SELECT customerid, firstname, lastname FROM tbl_customers;\n",
    "\"\"\"\n",
    "execute_display_query_results(select_query, cursor)"
   ]
  },
  {
   "cell_type": "markdown",
   "id": "721e6ee7-44f4-4852-8439-31dc2866221e",
   "metadata": {},
   "source": [
    "# Intersect\n",
    "Returns only the rows that are common in both queries"
   ]
  },
  {
   "cell_type": "code",
   "execution_count": 12,
   "id": "e27473e6-1a72-4c6c-9d47-fd96189ca99b",
   "metadata": {},
   "outputs": [
    {
     "name": "stdout",
     "output_type": "stream",
     "text": [
      "+----+-----------+----------+\n",
      "| id | firstname | lastname |\n",
      "+----+-----------+----------+\n",
      "| 2  |   Kevin   |  Brown   |\n",
      "| 3  |   Mary    |   NULL   |\n",
      "+----+-----------+----------+\n",
      "2 rows returned in time: (0.001 sec)\n",
      "\n",
      "\n",
      "+----+-----------+----------+\n",
      "| id | firstname | lastname |\n",
      "+----+-----------+----------+\n",
      "| 2  |   Kevin   |  Brown   |\n",
      "| 3  |   Mary    |   NULL   |\n",
      "+----+-----------+----------+\n",
      "2 rows returned in time: (0.0 sec)\n"
     ]
    }
   ],
   "source": [
    "# Combine the data from employees and customers into one table including duplicates\n",
    "select_query = \"\"\"SELECT customerid as id, firstname, lastname FROM tbl_customers\n",
    "INTERSECT\n",
    "SELECT employeeid, firstname, lastname FROM tbl_employees;\n",
    "\"\"\"\n",
    "execute_display_query_results(select_query, cursor)\n",
    "\n",
    "print(\"\\n\")\n",
    "\n",
    "select_query = \"\"\"SELECT employeeid as id, firstname, lastname FROM tbl_employees\n",
    "INTERSECT\n",
    "SELECT customerid, firstname, lastname FROM tbl_customers;\n",
    "\"\"\"\n",
    "execute_display_query_results(select_query, cursor)"
   ]
  },
  {
   "cell_type": "code",
   "execution_count": 13,
   "id": "d1532200-0ccc-4efd-9401-55da44f50511",
   "metadata": {},
   "outputs": [
    {
     "name": "stdout",
     "output_type": "stream",
     "text": [
      "+---------------+---------+-----------+------------+------------+-------------+----------+-------+\n",
      "|  SourceTable  | orderid | productid | customerid | orderdate  | orderstatus | quantity | sales |\n",
      "+---------------+---------+-----------+------------+------------+-------------+----------+-------+\n",
      "|    orders     |    1    |    101    |     2      | 2025-01-01 |  Delivered  |    1     |  10   |\n",
      "|    orders     |    2    |    102    |     3      | 2025-01-05 |   Shipped   |    1     |  15   |\n",
      "|    orders     |    3    |    101    |     1      | 2025-01-10 |  Delivered  |    2     |  20   |\n",
      "|    orders     |    4    |    105    |     1      | 2025-01-20 |   Shipped   |    2     |  60   |\n",
      "|    orders     |    5    |    104    |     2      | 2025-02-01 |  Delivered  |    1     |  25   |\n",
      "|    orders     |    6    |    104    |     3      | 2025-02-05 |  Delivered  |    2     |  50   |\n",
      "|    orders     |    7    |    102    |     1      | 2025-02-15 |  Delivered  |    2     |  30   |\n",
      "|    orders     |    8    |    101    |     4      | 2025-02-18 |   Shipped   |    3     |  90   |\n",
      "|    orders     |    9    |    101    |     2      | 2025-03-10 |   Shipped   |    2     |  20   |\n",
      "|    orders     |   10    |    102    |     3      | 2025-03-15 |   Shipped   |    0     |  60   |\n",
      "| ordersarchive |    1    |    101    |     2      | 2025-01-01 |  Delivered  |    1     |  10   |\n",
      "| ordersarchive |    2    |    102    |     3      | 2025-01-05 |   Shipped   |    1     |  15   |\n",
      "| ordersarchive |    3    |    101    |     1      | 2025-01-10 |  Delivered  |    2     |  20   |\n",
      "| ordersarchive |    4    |    105    |     1      | 2025-01-20 |   Shipped   |    2     |  60   |\n",
      "| ordersarchive |    4    |    104    |     2      | 2025-02-01 |  Delivered  |    1     |  25   |\n",
      "| ordersarchive |    5    |    104    |     3      | 2025-02-05 |  Delivered  |    2     |  50   |\n",
      "| ordersarchive |    6    |    102    |     1      | 2025-02-15 |  Delivered  |    2     |  30   |\n",
      "| ordersarchive |    6    |    101    |     4      | 2025-02-18 |   Shipped   |    3     |  90   |\n",
      "| ordersarchive |    6    |    101    |     2      | 2025-03-10 |   Shipped   |    2     |  20   |\n",
      "| ordersarchive |    7    |    102    |     3      | 2025-03-15 |   Shipped   |    0     |  60   |\n",
      "+---------------+---------+-----------+------------+------------+-------------+----------+-------+\n",
      "20 rows returned in time: (0.002 sec)\n"
     ]
    }
   ],
   "source": [
    "# Combine similar results before doing analysis\n",
    "select_query = \"\"\"SELECT 'orders' as SourceTable, orderid, productid, customerid, orderdate, orderstatus, quantity, sales FROM tbl_orders\n",
    "UNION\n",
    "SELECT 'ordersarchive' as SourceTable, orderid, productid, customerid, orderdate, orderstatus,  quantity, sales FROM tbl_orders_archive;\n",
    "\"\"\"\n",
    "execute_display_query_results(select_query, cursor)"
   ]
  },
  {
   "cell_type": "code",
   "execution_count": 14,
   "id": "43411fe6-6d15-49b5-8daf-a08946f43b1d",
   "metadata": {},
   "outputs": [
    {
     "name": "stdout",
     "output_type": "stream",
     "text": [
      "+---------------+---------+-----------+------------+------------+-------------+----------+-------+\n",
      "|  SourceTable  | orderid | productid | customerid | orderdate  | orderstatus | quantity | sales |\n",
      "+---------------+---------+-----------+------------+------------+-------------+----------+-------+\n",
      "|    orders     |    1    |    101    |     2      | 2025-01-01 |  Delivered  |    1     |  10   |\n",
      "| ordersarchive |    1    |    101    |     2      | 2025-01-01 |  Delivered  |    1     |  10   |\n",
      "|    orders     |    2    |    102    |     3      | 2025-01-05 |   Shipped   |    1     |  15   |\n",
      "| ordersarchive |    2    |    102    |     3      | 2025-01-05 |   Shipped   |    1     |  15   |\n",
      "|    orders     |    3    |    101    |     1      | 2025-01-10 |  Delivered  |    2     |  20   |\n",
      "| ordersarchive |    3    |    101    |     1      | 2025-01-10 |  Delivered  |    2     |  20   |\n",
      "|    orders     |    4    |    105    |     1      | 2025-01-20 |   Shipped   |    2     |  60   |\n",
      "| ordersarchive |    4    |    105    |     1      | 2025-01-20 |   Shipped   |    2     |  60   |\n",
      "| ordersarchive |    4    |    104    |     2      | 2025-02-01 |  Delivered  |    1     |  25   |\n",
      "|    orders     |    5    |    104    |     2      | 2025-02-01 |  Delivered  |    1     |  25   |\n",
      "| ordersarchive |    5    |    104    |     3      | 2025-02-05 |  Delivered  |    2     |  50   |\n",
      "|    orders     |    6    |    104    |     3      | 2025-02-05 |  Delivered  |    2     |  50   |\n",
      "| ordersarchive |    6    |    102    |     1      | 2025-02-15 |  Delivered  |    2     |  30   |\n",
      "| ordersarchive |    6    |    101    |     4      | 2025-02-18 |   Shipped   |    3     |  90   |\n",
      "| ordersarchive |    6    |    101    |     2      | 2025-03-10 |   Shipped   |    2     |  20   |\n",
      "|    orders     |    7    |    102    |     1      | 2025-02-15 |  Delivered  |    2     |  30   |\n",
      "| ordersarchive |    7    |    102    |     3      | 2025-03-15 |   Shipped   |    0     |  60   |\n",
      "|    orders     |    8    |    101    |     4      | 2025-02-18 |   Shipped   |    3     |  90   |\n",
      "|    orders     |    9    |    101    |     2      | 2025-03-10 |   Shipped   |    2     |  20   |\n",
      "|    orders     |   10    |    102    |     3      | 2025-03-15 |   Shipped   |    0     |  60   |\n",
      "+---------------+---------+-----------+------------+------------+-------------+----------+-------+\n",
      "20 rows returned in time: (0.004 sec)\n"
     ]
    }
   ],
   "source": [
    "select_query = \"\"\"SELECT 'orders' as SourceTable, orderid, productid, customerid, orderdate, orderstatus, quantity, sales FROM tbl_orders\n",
    "UNION\n",
    "SELECT 'ordersarchive' as SourceTable, orderid, productid, customerid, orderdate, orderstatus,  quantity, sales FROM tbl_orders_archive\n",
    "ORDER BY orderid;\n",
    "\"\"\"\n",
    "execute_display_query_results(select_query, cursor)"
   ]
  },
  {
   "cell_type": "markdown",
   "id": "54f165b4-5e7d-4baa-a8e0-f6fd632da416",
   "metadata": {},
   "source": [
    "# Case Statements\n",
    "Evaluates a list of conditions and returns a value when the first condition is met\n",
    "```sql\n",
    "CASE \n",
    "    WHEN condition1 THEN result1\n",
    "    WHEN condition2 THEN result2\n",
    "    .....\n",
    "    ELSE resultn --optional\n",
    "END\n",
    "```\n",
    "Main purpose is Data Transformation. Create New Columns based on Existing Columns.\n",
    "- Categorizing Data\n",
    "- Mapping Values: F - Female, Male -> Male\n",
    "\n",
    "Rules: The data type of the results must be matching\n",
    "\n",
    "## Task 1 \n",
    "Generate a report showing the total sales for each category \n",
    "- High: If sales higher than 50\n",
    "- Medium: If sales is between 21 and 50\n",
    "- low: If the above conditions are not met"
   ]
  },
  {
   "cell_type": "code",
   "execution_count": 16,
   "id": "3c6ac788-c7dc-40a5-9200-ecd6ab43d54d",
   "metadata": {},
   "outputs": [
    {
     "name": "stdout",
     "output_type": "stream",
     "text": [
      "+---------+-------+----------+\n",
      "| OrderID | Sales | Category |\n",
      "+---------+-------+----------+\n",
      "|    1    |  10   |   Low    |\n",
      "|    2    |  15   |   Low    |\n",
      "|    3    |  20   |   Low    |\n",
      "|    4    |  60   |   High   |\n",
      "|    5    |  25   |  Medium  |\n",
      "|    6    |  50   |  Medium  |\n",
      "|    7    |  30   |  Medium  |\n",
      "|    8    |  90   |   High   |\n",
      "|    9    |  20   |   Low    |\n",
      "|   10    |  60   |   High   |\n",
      "+---------+-------+----------+\n",
      "10 rows returned in time: (0.003 sec)\n"
     ]
    }
   ],
   "source": [
    "select_case_query = \"\"\"SELECT OrderID, Sales, \n",
    "CASE \n",
    "WHEN Sales > 50 THEN 'High'\n",
    "WHEN Sales BETWEEN 21 AND 50 THEN 'Medium'\n",
    "ELSE 'Low'\n",
    "END AS Category\n",
    "FROM tbl_orders\n",
    "\"\"\"\n",
    "\n",
    "execute_display_query_results(select_case_query, cursor)"
   ]
  },
  {
   "cell_type": "code",
   "execution_count": 17,
   "id": "9199ff62-a5bd-4de4-ad19-4e31b1d97f52",
   "metadata": {},
   "outputs": [
    {
     "name": "stdout",
     "output_type": "stream",
     "text": [
      "+----------+------------+\n",
      "| Category | TotalSales |\n",
      "+----------+------------+\n",
      "|   High   |    210     |\n",
      "|  Medium  |    105     |\n",
      "|   Low    |     65     |\n",
      "+----------+------------+\n",
      "3 rows returned in time: (0.009 sec)\n"
     ]
    }
   ],
   "source": [
    "select_case_query = \"\"\"SELECT Category, SUM(Sales) AS TotalSales FROM\n",
    "(SELECT OrderID, Sales,\n",
    "CASE \n",
    "WHEN Sales > 50 THEN 'High'\n",
    "WHEN Sales BETWEEN 21 AND 50 THEN 'Medium'\n",
    "ELSE 'Low'\n",
    "END AS Category\n",
    "FROM tbl_orders) AS T\n",
    "GROUP BY Category\n",
    "ORDER BY TotalSales DESC;\n",
    "\"\"\"\n",
    "\n",
    "execute_display_query_results(select_case_query, cursor)"
   ]
  },
  {
   "cell_type": "markdown",
   "id": "c7b4b0c5-af81-4d9a-83eb-5541759709e6",
   "metadata": {},
   "source": [
    "## Task 2\n",
    "Retrieve employee details with gender displayed as full text"
   ]
  },
  {
   "cell_type": "code",
   "execution_count": 18,
   "id": "fd71b306-4ff8-460a-83a6-0062fe28df23",
   "metadata": {},
   "outputs": [
    {
     "name": "stdout",
     "output_type": "stream",
     "text": [
      "+------------+-----------+----------+------------+------------+--------+--------+-----------+----------------+\n",
      "| EmployeeID | FirstName | LastName | Department | BirthDate  | Gender | Salary | ManagerID | GenderFullText |\n",
      "+------------+-----------+----------+------------+------------+--------+--------+-----------+----------------+\n",
      "|     1      |   Frank   |   Lee    | Marketing  | 1988-12-05 |   M    | 55000  |   NULL    |      Male      |\n",
      "|     2      |   Kevin   |  Brown   | Marketing  | 1972-11-25 |   M    | 65000  |     1     |      Male      |\n",
      "|     3      |   Mary    |   NULL   |   Sales    | 1986-01-05 |   F    | 75000  |     1     |     Female     |\n",
      "|     4      |  Michael  |   Ray    |   Sales    | 1977-02-10 |   M    | 90000  |     2     |      Male      |\n",
      "|     5      |   Carol   |  Baker   |   Sales    | 1982-02-11 |   F    | 55000  |     3     |     Female     |\n",
      "+------------+-----------+----------+------------+------------+--------+--------+-----------+----------------+\n",
      "5 rows returned in time: (0.001 sec)\n"
     ]
    }
   ],
   "source": [
    "select_case_query = \"\"\"SELECT * FROM\n",
    "(SELECT *, \n",
    "CASE \n",
    "WHEN Gender = 'F' THEN 'Female'\n",
    "WHEN Gender = 'M' THEN 'Male'\n",
    "ELSE 'Other'\n",
    "END AS GenderFullText\n",
    "FROM tbl_employees) AS T;\n",
    "\"\"\"\n",
    "\n",
    "execute_display_query_results(select_case_query, cursor)"
   ]
  },
  {
   "cell_type": "markdown",
   "id": "96b37f90-5559-4d38-b284-a94d133d967c",
   "metadata": {},
   "source": [
    "## Task 3\n",
    "Retrieve customer details with abbreviated country code"
   ]
  },
  {
   "cell_type": "code",
   "execution_count": 19,
   "id": "8da1b8bb-92b5-42e7-a16e-5b81b329bc39",
   "metadata": {},
   "outputs": [
    {
     "name": "stdout",
     "output_type": "stream",
     "text": [
      "+------------+-----------+----------+---------+-------+\n",
      "| CustomerID | FirstName | LastName | Country | Score |\n",
      "+------------+-----------+----------+---------+-------+\n",
      "|     1      |  Jossef   | Goldberg | Germany |  350  |\n",
      "|     2      |   Kevin   |  Brown   |   USA   |  900  |\n",
      "|     3      |   Mary    |   NULL   |   USA   |  750  |\n",
      "|     4      |   Mark    | Schwarz  | Germany |  500  |\n",
      "|     5      |   Anna    |  Adams   |   USA   | NULL  |\n",
      "+------------+-----------+----------+---------+-------+\n",
      "5 rows returned in time: (0.004 sec)\n"
     ]
    }
   ],
   "source": [
    "execute_display_query_results(select_all_query(\"tbl_customers\"), cursor)"
   ]
  },
  {
   "cell_type": "code",
   "execution_count": 22,
   "id": "fbdb6396-289b-4d20-8cec-645a6cc573d9",
   "metadata": {},
   "outputs": [
    {
     "name": "stdout",
     "output_type": "stream",
     "text": [
      "+---------+\n",
      "| Country |\n",
      "+---------+\n",
      "| Germany |\n",
      "|   USA   |\n",
      "+---------+\n",
      "2 rows returned in time: (0.001 sec)\n",
      "\n",
      "\n",
      "+------------+-----------+----------+---------+-------+------------+\n",
      "| CustomerID | FirstName | LastName | Country | Score | CountryAbb |\n",
      "+------------+-----------+----------+---------+-------+------------+\n",
      "|     1      |  Jossef   | Goldberg | Germany |  350  |     DE     |\n",
      "|     2      |   Kevin   |  Brown   |   USA   |  900  |     US     |\n",
      "|     3      |   Mary    |   NULL   |   USA   |  750  |     US     |\n",
      "|     4      |   Mark    | Schwarz  | Germany |  500  |     DE     |\n",
      "|     5      |   Anna    |  Adams   |   USA   | NULL  |     US     |\n",
      "+------------+-----------+----------+---------+-------+------------+\n",
      "5 rows returned in time: (0.001 sec)\n"
     ]
    }
   ],
   "source": [
    "select_case_query = \"\"\"SELECT DISTINCT Country FROM tbl_customers;\"\"\"\n",
    "execute_display_query_results(select_case_query, cursor)\n",
    "\n",
    "print(\"\\n\")\n",
    "\n",
    "select_case_query = \"\"\"SELECT * FROM\n",
    "(SELECT *, \n",
    "CASE \n",
    "WHEN Country = 'Germany' THEN 'DE'\n",
    "WHEN Country = 'USA' THEN 'US'\n",
    "ELSE 'Other'\n",
    "END AS CountryAbb\n",
    "FROM tbl_customers) AS T;\n",
    "\"\"\"\n",
    "\n",
    "execute_display_query_results(select_case_query, cursor)"
   ]
  },
  {
   "cell_type": "code",
   "execution_count": 23,
   "id": "7cfe6aec-a172-4162-9d5c-b1a0ceed16f8",
   "metadata": {},
   "outputs": [
    {
     "name": "stdout",
     "output_type": "stream",
     "text": [
      "+------------+-----------+----------+------------+------------+--------+--------+-----------+----------------+\n",
      "| EmployeeID | FirstName | LastName | Department | BirthDate  | Gender | Salary | ManagerID | GenderFullText |\n",
      "+------------+-----------+----------+------------+------------+--------+--------+-----------+----------------+\n",
      "|     1      |   Frank   |   Lee    | Marketing  | 1988-12-05 |   M    | 55000  |   NULL    |      Male      |\n",
      "|     2      |   Kevin   |  Brown   | Marketing  | 1972-11-25 |   M    | 65000  |     1     |      Male      |\n",
      "|     3      |   Mary    |   NULL   |   Sales    | 1986-01-05 |   F    | 75000  |     1     |     Female     |\n",
      "|     4      |  Michael  |   Ray    |   Sales    | 1977-02-10 |   M    | 90000  |     2     |      Male      |\n",
      "|     5      |   Carol   |  Baker   |   Sales    | 1982-02-11 |   F    | 55000  |     3     |     Female     |\n",
      "+------------+-----------+----------+------------+------------+--------+--------+-----------+----------------+\n",
      "5 rows returned in time: (0.001 sec)\n"
     ]
    }
   ],
   "source": [
    "## This form is only used when the operator is equal\n",
    "\n",
    "select_case_query = \"\"\"SELECT * FROM\n",
    "(SELECT *, \n",
    "CASE Gender\n",
    "WHEN 'F' THEN 'Female'\n",
    "WHEN 'M' THEN 'Male'\n",
    "ELSE 'Other'\n",
    "END AS GenderFullText\n",
    "FROM tbl_employees) AS T;\n",
    "\"\"\"\n",
    "\n",
    "execute_display_query_results(select_case_query, cursor)"
   ]
  },
  {
   "cell_type": "markdown",
   "id": "dee81cdb-4435-4c51-9a4f-0096ba867bc6",
   "metadata": {},
   "source": [
    "## Task 4\n",
    "Find the average scores of customers and treat Nulls as 0. Additional provide details such as CustomerID & LastName"
   ]
  },
  {
   "cell_type": "code",
   "execution_count": 26,
   "id": "2e2ee8a0-c18b-41fa-982f-be96b877d7af",
   "metadata": {},
   "outputs": [
    {
     "name": "stdout",
     "output_type": "stream",
     "text": [
      "+------------+-----------+----------+---------+-------+------------+--------------+\n",
      "| CustomerID | FirstName | LastName | Country | Score | CountryAbb | AverageScore |\n",
      "+------------+-----------+----------+---------+-------+------------+--------------+\n",
      "|     1      |  Jossef   | Goldberg | Germany |  350  |     DE     |   625.0000   |\n",
      "|     2      |   Kevin   |  Brown   |   USA   |  900  |     US     |   625.0000   |\n",
      "|     3      |   Mary    |   NULL   |   USA   |  750  |     US     |   625.0000   |\n",
      "|     4      |   Mark    | Schwarz  | Germany |  500  |     DE     |   625.0000   |\n",
      "|     5      |   Anna    |  Adams   |   USA   | NULL  |     US     |   625.0000   |\n",
      "+------------+-----------+----------+---------+-------+------------+--------------+\n",
      "5 rows returned in time: (0.002 sec)\n",
      "\n",
      "\n",
      "+------------+-----------+----------+---------+-------+------------+--------------+\n",
      "| CustomerID | FirstName | LastName | Country | Score | ScoreClean | AverageScore |\n",
      "+------------+-----------+----------+---------+-------+------------+--------------+\n",
      "|     1      |  Jossef   | Goldberg | Germany |  350  |    350     |   625.0000   |\n",
      "|     2      |   Kevin   |  Brown   |   USA   |  900  |    900     |   625.0000   |\n",
      "|     3      |   Mary    |   NULL   |   USA   |  750  |    750     |   625.0000   |\n",
      "|     4      |   Mark    | Schwarz  | Germany |  500  |    500     |   625.0000   |\n",
      "|     5      |   Anna    |  Adams   |   USA   | NULL  |     0      |   625.0000   |\n",
      "+------------+-----------+----------+---------+-------+------------+--------------+\n",
      "5 rows returned in time: (0.001 sec)\n"
     ]
    }
   ],
   "source": [
    "select_case_query = \"\"\"SELECT *, AVG(Score) OVER() AS AverageScore FROM\n",
    "(SELECT *, \n",
    "CASE \n",
    "WHEN Country = 'Germany' THEN 'DE'\n",
    "WHEN Country = 'USA' THEN 'US'\n",
    "ELSE 'Other'\n",
    "END AS CountryAbb\n",
    "FROM tbl_customers) AS T;\n",
    "\"\"\"\n",
    "execute_display_query_results(select_case_query, cursor)\n",
    "\n",
    "print(\"\\n\")\n",
    "\n",
    "select_case_query = \"\"\"SELECT *,\n",
    "CASE \n",
    "WHEN Score IS NULL THEN 0\n",
    "ELSE Score\n",
    "End ScoreClean,\n",
    "AVG(SCORE) OVER() AS AverageScore\n",
    "FROM tbl_customers;\n",
    "\"\"\"\n",
    "execute_display_query_results(select_case_query, cursor)"
   ]
  },
  {
   "cell_type": "code",
   "execution_count": 27,
   "id": "17df4179-1dac-42f3-ab90-8d8dfed8f63d",
   "metadata": {},
   "outputs": [
    {
     "name": "stdout",
     "output_type": "stream",
     "text": [
      "+------------+-----------+----------+---------+-------+-------------------+--------------+\n",
      "| CustomerID | FirstName | LastName | Country | Score | AverageScoreClean | AverageScore |\n",
      "+------------+-----------+----------+---------+-------+-------------------+--------------+\n",
      "|     1      |  Jossef   | Goldberg | Germany |  350  |     500.0000      |   625.0000   |\n",
      "|     2      |   Kevin   |  Brown   |   USA   |  900  |     500.0000      |   625.0000   |\n",
      "|     3      |   Mary    |   NULL   |   USA   |  750  |     500.0000      |   625.0000   |\n",
      "|     4      |   Mark    | Schwarz  | Germany |  500  |     500.0000      |   625.0000   |\n",
      "|     5      |   Anna    |  Adams   |   USA   | NULL  |     500.0000      |   625.0000   |\n",
      "+------------+-----------+----------+---------+-------+-------------------+--------------+\n",
      "5 rows returned in time: (0.003 sec)\n"
     ]
    }
   ],
   "source": [
    "select_case_query = \"\"\"SELECT *,\n",
    "AVG(\n",
    "    CASE \n",
    "        WHEN Score IS NULL THEN 0\n",
    "        ELSE Score\n",
    "    End) OVER() AverageScoreClean,\n",
    "AVG(SCORE) OVER() AS AverageScore\n",
    "FROM tbl_customers;\n",
    "\"\"\"\n",
    "\n",
    "execute_display_query_results(select_case_query, cursor)"
   ]
  },
  {
   "cell_type": "code",
   "execution_count": 29,
   "id": "1686ad0e-99ed-4ef2-ae64-67487f2a057e",
   "metadata": {},
   "outputs": [
    {
     "name": "stdout",
     "output_type": "stream",
     "text": [
      "+------------+-----------+----------+---------+-------+------------+-------------------+\n",
      "| CustomerID | FirstName | LastName | Country | Score | ScoreClean | AverageScoreClean |\n",
      "+------------+-----------+----------+---------+-------+------------+-------------------+\n",
      "|     1      |  Jossef   | Goldberg | Germany |  350  |    350     |     500.0000      |\n",
      "|     2      |   Kevin   |  Brown   |   USA   |  900  |    900     |     500.0000      |\n",
      "|     3      |   Mary    |   NULL   |   USA   |  750  |    750     |     500.0000      |\n",
      "|     4      |   Mark    | Schwarz  | Germany |  500  |    500     |     500.0000      |\n",
      "|     5      |   Anna    |  Adams   |   USA   | NULL  |     0      |     500.0000      |\n",
      "+------------+-----------+----------+---------+-------+------------+-------------------+\n",
      "5 rows returned in time: (0.001 sec)\n"
     ]
    }
   ],
   "source": [
    "select_case_query = \"\"\"SELECT * , AVG(ScoreClean) OVER() AS AverageScoreClean FROM \n",
    "(SELECT *,\n",
    "CASE \n",
    "WHEN Score IS NULL THEN 0\n",
    "ELSE Score\n",
    "End ScoreClean\n",
    "FROM tbl_customers) AS T;\n",
    "\"\"\"\n",
    "execute_display_query_results(select_case_query, cursor)"
   ]
  },
  {
   "cell_type": "markdown",
   "id": "b3b65c52-7637-44f7-85df-b00d79528a4b",
   "metadata": {},
   "source": [
    "## Task 5\n",
    "Count how many times each customer has made an order with sale greater than 30"
   ]
  },
  {
   "cell_type": "code",
   "execution_count": 30,
   "id": "ee5bd379-01cd-45d0-94ef-303eeed88589",
   "metadata": {},
   "outputs": [
    {
     "name": "stdout",
     "output_type": "stream",
     "text": [
      "+------------+-------------+\n",
      "| CustomerID | TotalOrders |\n",
      "+------------+-------------+\n",
      "|     2      |      0      |\n",
      "|     3      |      2      |\n",
      "|     1      |      1      |\n",
      "|     4      |      1      |\n",
      "+------------+-------------+\n",
      "4 rows returned in time: (0.001 sec)\n"
     ]
    }
   ],
   "source": [
    "select_query = \"\"\"SELECT CustomerID, \n",
    "SUM(CASE \n",
    "WHEN Sales > 30 THEN 1\n",
    "ELSE 0\n",
    "END) AS TotalOrders\n",
    "FROM tbl_orders GROUP BY CustomerID\"\"\"\n",
    "execute_display_query_results(select_query, cursor)"
   ]
  },
  {
   "cell_type": "code",
   "execution_count": 31,
   "id": "3fce1bc1-b378-4638-aa71-0f59f67c0f3d",
   "metadata": {},
   "outputs": [
    {
     "name": "stdout",
     "output_type": "stream",
     "text": [
      "+------------+-----------------+-------------+\n",
      "| CustomerID | TotalOrdersHigh | TotalOrders |\n",
      "+------------+-----------------+-------------+\n",
      "|     2      |        0        |      3      |\n",
      "|     3      |        2        |      3      |\n",
      "|     1      |        1        |      3      |\n",
      "|     4      |        1        |      1      |\n",
      "+------------+-----------------+-------------+\n",
      "4 rows returned in time: (0.001 sec)\n"
     ]
    }
   ],
   "source": [
    "select_query = \"\"\"SELECT CustomerID, \n",
    "SUM(CASE \n",
    "WHEN Sales > 30 THEN 1\n",
    "ELSE 0\n",
    "END) AS TotalOrdersHigh,\n",
    "COUNT(*) As TotalOrders\n",
    "FROM tbl_orders GROUP BY CustomerID\"\"\"\n",
    "execute_display_query_results(select_query, cursor)"
   ]
  },
  {
   "cell_type": "markdown",
   "id": "feae7a7b-3657-4dc1-8ee6-4f1ef5850b4f",
   "metadata": {},
   "source": [
    "# Nulls\n",
    "<div style=\"text-align:center\">\n",
    "<img src=\"./null_functions.png\" alt=\"drawing\" width=\"1000\"/>\n",
    "</div>\n",
    "\n",
    "```sql\n",
    "IFNULL(value, replacement_value)      ---- fast\n",
    "IFNULL(ShippingAddress, 'N/A')\n",
    "IFNULL(ShippingAddress, BillingAddress)\n",
    "```\n",
    "\n",
    "\n",
    "```sql\n",
    "COALESCE(value1, value2, value3, ....)\n",
    "COALESCE(ShippingAddress, \"unknown\")          ---- slow\n",
    "COALESCE(ShippingAddress, BillingAddress)\n",
    "COALESCE(ShippingAddress, BillingAddress, \"unknown\")\n",
    "```"
   ]
  },
  {
   "cell_type": "code",
   "execution_count": 35,
   "id": "0cca78b9-c2c7-43f8-bb83-6b6e52cb94a6",
   "metadata": {},
   "outputs": [
    {
     "name": "stdout",
     "output_type": "stream",
     "text": [
      "+------------+-------+--------------+---------------+---------------+\n",
      "| customerid | score | AverageScore | AverageScore2 | AverageScore3 |\n",
      "+------------+-------+--------------+---------------+---------------+\n",
      "|     1      |  350  |   625.0000   |   500.0000    |   500.0000    |\n",
      "|     2      |  900  |   625.0000   |   500.0000    |   500.0000    |\n",
      "|     3      |  750  |   625.0000   |   500.0000    |   500.0000    |\n",
      "|     4      |  500  |   625.0000   |   500.0000    |   500.0000    |\n",
      "|     5      | NULL  |   625.0000   |   500.0000    |   500.0000    |\n",
      "+------------+-------+--------------+---------------+---------------+\n",
      "5 rows returned in time: (0.001 sec)\n"
     ]
    }
   ],
   "source": [
    "select_case_query = \"\"\"SELECT customerid, score, \n",
    "AVG(SCORE) OVER() AS AverageScore,\n",
    "AVG(COALESCE(SCORE, 0)) OVER() AS AverageScore2,\n",
    "AVG(IFNULL(SCORE, 0)) OVER() AS AverageScore3\n",
    "FROM tbl_customers;\n",
    "\"\"\"\n",
    "execute_display_query_results(select_case_query, cursor)"
   ]
  },
  {
   "cell_type": "markdown",
   "id": "ae396f5a-4aa1-4ca8-ba27-bb1f33cbc9a9",
   "metadata": {},
   "source": [
    "# Task 1\n",
    "Display the full name of customers in a single field by merging their first and last names, and add 10 bonus points to each customer's score"
   ]
  },
  {
   "cell_type": "code",
   "execution_count": 40,
   "id": "78514410-782b-45f1-81af-7c8424a5ed41",
   "metadata": {},
   "outputs": [
    {
     "name": "stdout",
     "output_type": "stream",
     "text": [
      "+------------+-----------+----------+---------+-------+\n",
      "| CustomerID | FirstName | LastName | Country | Score |\n",
      "+------------+-----------+----------+---------+-------+\n",
      "|     1      |  Jossef   | Goldberg | Germany |  350  |\n",
      "|     2      |   Kevin   |  Brown   |   USA   |  900  |\n",
      "|     3      |   Mary    |   NULL   |   USA   |  750  |\n",
      "|     4      |   Mark    | Schwarz  | Germany |  500  |\n",
      "|     5      |   Anna    |  Adams   |   USA   | NULL  |\n",
      "+------------+-----------+----------+---------+-------+\n",
      "5 rows returned in time: (0.001 sec)\n",
      "\n",
      "\n",
      "+------------+-----------+----------+---------+-------+-----------------+------------+\n",
      "| CustomerID | FirstName | LastName | Country | Score |    fullname     | BonusScore |\n",
      "+------------+-----------+----------+---------+-------+-----------------+------------+\n",
      "|     1      |  Jossef   | Goldberg | Germany |  350  | Jossef Goldberg |    360     |\n",
      "|     2      |   Kevin   |  Brown   |   USA   |  900  |   Kevin Brown   |    910     |\n",
      "|     3      |   Mary    |   NULL   |   USA   |  750  |      NULL       |    760     |\n",
      "|     4      |   Mark    | Schwarz  | Germany |  500  |  Mark Schwarz   |    510     |\n",
      "|     5      |   Anna    |  Adams   |   USA   | NULL  |   Anna Adams    |    NULL    |\n",
      "+------------+-----------+----------+---------+-------+-----------------+------------+\n",
      "5 rows returned in time: (0.001 sec)\n",
      "\n",
      "\n",
      "+------------+-----------+----------+---------+-------+-----------------+------------+\n",
      "| CustomerID | FirstName | LastName | Country | Score |    fullname     | BonusScore |\n",
      "+------------+-----------+----------+---------+-------+-----------------+------------+\n",
      "|     1      |  Jossef   | Goldberg | Germany |  350  | Jossef Goldberg |    360     |\n",
      "|     2      |   Kevin   |  Brown   |   USA   |  900  |   Kevin Brown   |    910     |\n",
      "|     3      |   Mary    |   NULL   |   USA   |  750  |      Mary       |    760     |\n",
      "|     4      |   Mark    | Schwarz  | Germany |  500  |  Mark Schwarz   |    510     |\n",
      "|     5      |   Anna    |  Adams   |   USA   | NULL  |   Anna Adams    |     10     |\n",
      "+------------+-----------+----------+---------+-------+-----------------+------------+\n",
      "5 rows returned in time: (0.0 sec)\n"
     ]
    }
   ],
   "source": [
    "select_case_query = \"\"\"SELECT *\n",
    "FROM tbl_customers;\n",
    "\"\"\"\n",
    "execute_display_query_results(select_case_query, cursor)\n",
    "\n",
    "print(\"\\n\")\n",
    "\n",
    "select_case_query = \"\"\"SELECT *,\n",
    "CONCAT(firstname, ' ', lastname) AS fullname,\n",
    "(score + 10) AS BonusScore\n",
    "FROM tbl_customers;\n",
    "\"\"\"\n",
    "execute_display_query_results(select_case_query, cursor)\n",
    "\n",
    "print(\"\\n\")\n",
    "\n",
    "select_case_query = \"\"\"SELECT *,\n",
    "CONCAT(COALESCE(firstname, ''), ' ', COALESCE(lastname, '')) AS fullname,\n",
    "(COALESCE(score, 0) + 10) AS BonusScore\n",
    "FROM tbl_customers;\n",
    "\"\"\"\n",
    "execute_display_query_results(select_case_query, cursor)"
   ]
  },
  {
   "cell_type": "markdown",
   "id": "b5b65dfa-df21-4579-ac89-b8ca8d1c1a4c",
   "metadata": {},
   "source": [
    "# Task 2\n",
    "Sort the customers from lowest to highest with NULLs appearing last"
   ]
  },
  {
   "cell_type": "code",
   "execution_count": 55,
   "id": "01aad9aa-ba6e-430b-8e61-fd439b803f7b",
   "metadata": {},
   "outputs": [
    {
     "name": "stdout",
     "output_type": "stream",
     "text": [
      "+------------+-----------+----------+---------+-------+\n",
      "| CustomerID | FirstName | LastName | Country | Score |\n",
      "+------------+-----------+----------+---------+-------+\n",
      "|     5      |   Anna    |  Adams   |   USA   | NULL  |\n",
      "|     1      |  Jossef   | Goldberg | Germany |  350  |\n",
      "|     4      |   Mark    | Schwarz  | Germany |  500  |\n",
      "|     3      |   Mary    |   NULL   |   USA   |  750  |\n",
      "|     2      |   Kevin   |  Brown   |   USA   |  900  |\n",
      "+------------+-----------+----------+---------+-------+\n",
      "5 rows returned in time: (0.001 sec)\n",
      "\n",
      "\n",
      "+------------+-----------+----------+---------+-------+--------------------------+\n",
      "| CustomerID | FirstName | LastName | Country | Score | COALESCE(Score, 9999999) |\n",
      "+------------+-----------+----------+---------+-------+--------------------------+\n",
      "|     1      |  Jossef   | Goldberg | Germany |  350  |           350            |\n",
      "|     4      |   Mark    | Schwarz  | Germany |  500  |           500            |\n",
      "|     3      |   Mary    |   NULL   |   USA   |  750  |           750            |\n",
      "|     2      |   Kevin   |  Brown   |   USA   |  900  |           900            |\n",
      "|     5      |   Anna    |  Adams   |   USA   | NULL  |         9999999          |\n",
      "+------------+-----------+----------+---------+-------+--------------------------+\n",
      "5 rows returned in time: (0.0 sec)\n",
      "\n",
      "\n",
      "+------------+-----------+----------+---------+-------+\n",
      "| customerid | firstname | lastname | country | score |\n",
      "+------------+-----------+----------+---------+-------+\n",
      "|     1      |  Jossef   | Goldberg | Germany |  350  |\n",
      "|     4      |   Mark    | Schwarz  | Germany |  500  |\n",
      "|     3      |   Mary    |   NULL   |   USA   |  750  |\n",
      "|     2      |   Kevin   |  Brown   |   USA   |  900  |\n",
      "|     5      |   Anna    |  Adams   |   USA   | NULL  |\n",
      "+------------+-----------+----------+---------+-------+\n",
      "5 rows returned in time: (0.001 sec)\n"
     ]
    }
   ],
   "source": [
    "select_case_query = \"\"\"SELECT *\n",
    "FROM tbl_customers\n",
    "ORDER BY score;\n",
    "\"\"\"\n",
    "execute_display_query_results(select_case_query, cursor)\n",
    "\n",
    "print(\"\\n\")\n",
    "\n",
    "select_case_query = \"\"\"SELECT *,\n",
    "COALESCE(Score, 9999999)\n",
    "FROM tbl_customers\n",
    "ORDER BY COALESCE(Score, 9999999);\n",
    "\"\"\"\n",
    "execute_display_query_results(select_case_query, cursor)\n",
    "\n",
    "print(\"\\n\")\n",
    "\n",
    "select_case_query = \"\"\"SELECT customerid, firstname, lastname, country, score FROM \n",
    "(SELECT *, \n",
    "MAX(Score) OVER() AS MaxScore\n",
    "FROM tbl_customers) AS T\n",
    "ORDER BY COALESCE(Score, MaxScore + 20);\n",
    "\"\"\"\n",
    "execute_display_query_results(select_case_query, cursor)"
   ]
  },
  {
   "cell_type": "markdown",
   "id": "bd77cd6c-c4a9-4be2-9b16-8f6b8487d87a",
   "metadata": {},
   "source": [
    "# NULLIF(value1, value2)\n",
    "Compares two expressions returns:\n",
    "- NULL, if they are equal\n",
    "- First Values, if they are not equal"
   ]
  },
  {
   "cell_type": "code",
   "execution_count": 58,
   "id": "7b761acc-2aa7-46c0-bd48-89268bf9339c",
   "metadata": {},
   "outputs": [
    {
     "name": "stdout",
     "output_type": "stream",
     "text": [
      "+---------+-------+----------+-------+\n",
      "| orderid | sales | quantity | Price |\n",
      "+---------+-------+----------+-------+\n",
      "|    1    |  10   |    1     | 10.00 |\n",
      "|    2    |  15   |    1     | 15.00 |\n",
      "|    3    |  20   |    2     | 10.00 |\n",
      "|    4    |  60   |    2     | 30.00 |\n",
      "|    5    |  25   |    1     | 25.00 |\n",
      "|    6    |  50   |    2     | 25.00 |\n",
      "|    7    |  30   |    2     | 15.00 |\n",
      "|    8    |  90   |    3     | 30.00 |\n",
      "|    9    |  20   |    2     | 10.00 |\n",
      "|   10    |  60   |    0     | NULL  |\n",
      "+---------+-------+----------+-------+\n",
      "10 rows returned in time: (0.004 sec)\n"
     ]
    }
   ],
   "source": [
    "# Find the sales price for each order by dividing sales by quantity\n",
    "select_case_query = \"\"\"SELECT orderid, sales, quantity, ROUND(sales / quantity, 2) AS Price FROM \n",
    "tbl_orders;\n",
    "\"\"\"\n",
    "execute_display_query_results(select_case_query, cursor)"
   ]
  },
  {
   "cell_type": "code",
   "execution_count": 60,
   "id": "f541bb7c-8594-4725-a849-8539c83153b5",
   "metadata": {},
   "outputs": [
    {
     "name": "stdout",
     "output_type": "stream",
     "text": [
      "+------------+-----------+----------+---------+-------+\n",
      "| CustomerID | FirstName | LastName | Country | Score |\n",
      "+------------+-----------+----------+---------+-------+\n",
      "|     5      |   Anna    |  Adams   |   USA   | NULL  |\n",
      "+------------+-----------+----------+---------+-------+\n",
      "1 row returned in time: (0.001 sec)\n",
      "\n",
      "\n",
      "+------------+-----------+----------+---------+-------+\n",
      "| CustomerID | FirstName | LastName | Country | Score |\n",
      "+------------+-----------+----------+---------+-------+\n",
      "|     1      |  Jossef   | Goldberg | Germany |  350  |\n",
      "|     2      |   Kevin   |  Brown   |   USA   |  900  |\n",
      "|     3      |   Mary    |   NULL   |   USA   |  750  |\n",
      "|     4      |   Mark    | Schwarz  | Germany |  500  |\n",
      "+------------+-----------+----------+---------+-------+\n",
      "4 rows returned in time: (0.0 sec)\n"
     ]
    }
   ],
   "source": [
    "# Find the customers who have no scores\n",
    "select_case_query = \"\"\"SELECT * FROM \n",
    "tbl_customers\n",
    "WHERE score IS NULL;\n",
    "\"\"\"\n",
    "execute_display_query_results(select_case_query, cursor)\n",
    "\n",
    "print(\"\\n\")\n",
    "\n",
    "select_case_query = \"\"\"SELECT * FROM \n",
    "tbl_customers\n",
    "WHERE score IS NOT NULL;\n",
    "\"\"\"\n",
    "execute_display_query_results(select_case_query, cursor)"
   ]
  },
  {
   "cell_type": "code",
   "execution_count": 66,
   "id": "134f4432-1156-4e26-80ff-cc143e34923d",
   "metadata": {},
   "outputs": [
    {
     "name": "stdout",
     "output_type": "stream",
     "text": [
      "+---------+-----------+------------+---------------+------------+------------+-------------+--------------------+---------------+----------+-------+---------------------+\n",
      "| OrderID | ProductID | CustomerID | SalesPersonID | OrderDate  |  ShipDate  | OrderStatus |    ShipAddress     |  BillAddress  | Quantity | Sales |    CreationTime     |\n",
      "+---------+-----------+------------+---------------+------------+------------+-------------+--------------------+---------------+----------+-------+---------------------+\n",
      "|    1    |    101    |     2      |       3       | 2025-01-01 | 2025-01-05 |  Delivered  | 9833 Mt. Dias Blv. | 1226 Shoe St. |    1     |  10   | 2025-01-01 12:34:56 |\n",
      "|    2    |    102    |     3      |       3       | 2025-01-05 | 2025-01-10 |   Shipped   |   250 Race Court   |     NULL      |    1     |  15   | 2025-01-05 23:22:04 |\n",
      "|    3    |    101    |     1      |       5       | 2025-01-10 | 2025-01-25 |  Delivered  |    8157 W. Book    | 8157 W. Book  |    2     |  20   | 2025-01-10 18:24:08 |\n",
      "|    4    |    105    |     1      |       3       | 2025-01-20 | 2025-01-25 |   Shipped   | 5724 Victory Lane  |               |    2     |  60   | 2025-01-20 05:50:33 |\n",
      "|    5    |    104    |     2      |       5       | 2025-02-01 | 2025-02-05 |  Delivered  |        NULL        |     NULL      |    1     |  25   | 2025-02-01 14:02:41 |\n",
      "|    6    |    104    |     3      |       5       | 2025-02-05 | 2025-02-10 |  Delivered  |  1792 Belmont Rd.  |     NULL      |    2     |  50   | 2025-02-06 15:34:57 |\n",
      "|    7    |    102    |     1      |       1       | 2025-02-15 | 2025-02-27 |  Delivered  |  136 Balboa Court  |               |    2     |  30   | 2025-02-16 06:22:01 |\n",
      "|    8    |    101    |     4      |       3       | 2025-02-18 | 2025-02-27 |   Shipped   |   2947 Vine Lane   | 4311 Clay Rd  |    3     |  90   | 2025-02-18 10:45:22 |\n",
      "|    9    |    101    |     2      |       3       | 2025-03-10 | 2025-03-15 |   Shipped   |   3768 Door Way    |               |    2     |  20   | 2025-03-10 12:59:04 |\n",
      "|   10    |    102    |     3      |       5       | 2025-03-15 | 2025-03-20 |   Shipped   |        NULL        |     NULL      |    0     |  60   | 2025-03-16 23:25:15 |\n",
      "+---------+-----------+------------+---------------+------------+------------+-------------+--------------------+---------------+----------+-------+---------------------+\n",
      "10 rows returned in time: (0.001 sec)\n",
      "\n",
      "\n",
      "+------------+-----------+----------+---------+-------+---------+\n",
      "| CustomerID | FirstName | LastName | Country | Score | orderid |\n",
      "+------------+-----------+----------+---------+-------+---------+\n",
      "|     5      |   Anna    |  Adams   |   USA   | NULL  |  NULL   |\n",
      "+------------+-----------+----------+---------+-------+---------+\n",
      "1 row returned in time: (0.002 sec)\n"
     ]
    }
   ],
   "source": [
    "# Lsit all details for customers who have not placed any orders\n",
    "select_case_query = \"\"\"SELECT * FROM \n",
    "tbl_orders;\n",
    "\"\"\"\n",
    "execute_display_query_results(select_case_query, cursor)\n",
    "\n",
    "print(\"\\n\")\n",
    "\n",
    "select_case_query = \"\"\"SELECT c.*, o.orderid FROM \n",
    "tbl_customers c LEFT JOIN tbl_orders o\n",
    "ON c.customerid = o.customerid\n",
    "WHERE o.orderid IS NULL;\n",
    "\"\"\"\n",
    "execute_display_query_results(select_case_query, cursor)"
   ]
  },
  {
   "cell_type": "code",
   "execution_count": 68,
   "id": "75273b02-46b8-4f5e-a5f6-54f217a8d565",
   "metadata": {},
   "outputs": [
    {
     "name": "stdout",
     "output_type": "stream",
     "text": [
      "+------------+-----------+----------+---------+-------+---------+-------+----------+-------------+\n",
      "| CustomerID | FirstName | LastName | Country | Score | orderid | sales | quantity | orderstatus |\n",
      "+------------+-----------+----------+---------+-------+---------+-------+----------+-------------+\n",
      "|     2      |   Kevin   |  Brown   |   USA   |  900  |    1    |  10   |    1     |  Delivered  |\n",
      "|     3      |   Mary    |   NULL   |   USA   |  750  |    2    |  15   |    1     |   Shipped   |\n",
      "|     1      |  Jossef   | Goldberg | Germany |  350  |    3    |  20   |    2     |  Delivered  |\n",
      "|     1      |  Jossef   | Goldberg | Germany |  350  |    4    |  60   |    2     |   Shipped   |\n",
      "|     2      |   Kevin   |  Brown   |   USA   |  900  |    5    |  25   |    1     |  Delivered  |\n",
      "|     3      |   Mary    |   NULL   |   USA   |  750  |    6    |  50   |    2     |  Delivered  |\n",
      "|     1      |  Jossef   | Goldberg | Germany |  350  |    7    |  30   |    2     |  Delivered  |\n",
      "|     4      |   Mark    | Schwarz  | Germany |  500  |    8    |  90   |    3     |   Shipped   |\n",
      "|     2      |   Kevin   |  Brown   |   USA   |  900  |    9    |  20   |    2     |   Shipped   |\n",
      "|     3      |   Mary    |   NULL   |   USA   |  750  |   10    |  60   |    0     |   Shipped   |\n",
      "+------------+-----------+----------+---------+-------+---------+-------+----------+-------------+\n",
      "10 rows returned in time: (0.002 sec)\n"
     ]
    }
   ],
   "source": [
    "select_case_query = \"\"\"SELECT c.*, o.orderid, o.sales, o.quantity, o.orderstatus FROM \n",
    "tbl_customers c INNER JOIN tbl_orders o\n",
    "ON c.customerid = o.customerid;\n",
    "\"\"\"\n",
    "execute_display_query_results(select_case_query, cursor)"
   ]
  },
  {
   "cell_type": "code",
   "execution_count": null,
   "id": "8ed1ddef-0ed3-4ae5-bebb-03fb8f277c77",
   "metadata": {},
   "outputs": [],
   "source": []
  }
 ],
 "metadata": {
  "kernelspec": {
   "display_name": "Python 3 (ipykernel)",
   "language": "python",
   "name": "python3"
  },
  "language_info": {
   "codemirror_mode": {
    "name": "ipython",
    "version": 3
   },
   "file_extension": ".py",
   "mimetype": "text/x-python",
   "name": "python",
   "nbconvert_exporter": "python",
   "pygments_lexer": "ipython3",
   "version": "3.11.7"
  }
 },
 "nbformat": 4,
 "nbformat_minor": 5
}
