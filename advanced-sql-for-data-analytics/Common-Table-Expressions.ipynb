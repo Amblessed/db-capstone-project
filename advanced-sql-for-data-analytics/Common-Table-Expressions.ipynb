{
 "cells": [
  {
   "cell_type": "code",
   "execution_count": 1,
   "id": "3f8aaa78-863c-4036-a4a7-fc7106affb4b",
   "metadata": {},
   "outputs": [],
   "source": [
    "import os\n",
    "import mysql.connector as connector\n",
    "import logging"
   ]
  },
  {
   "cell_type": "code",
   "execution_count": 2,
   "id": "b740e1ca-ea4a-4715-bba7-dabcb84b19c3",
   "metadata": {},
   "outputs": [],
   "source": [
    "logger = logging.getLogger(\"[CTE MySQL]\")\n",
    "if os.path.exists(\"../log/cte-mysql.log\"):\n",
    "  os.remove(\"../log/cte-mysql.log\")\n",
    "logging.basicConfig(filename='../log/cte-mysql.log', encoding='utf-8', level=logging.DEBUG, format='%(asctime)s ==> %(message)s', datefmt='%m/%d/%Y %I:%M:%S')"
   ]
  },
  {
   "cell_type": "code",
   "execution_count": 3,
   "id": "5a7d06cd-c454-41bf-8f23-1b1255934155",
   "metadata": {},
   "outputs": [
    {
     "name": "stdout",
     "output_type": "stream",
     "text": [
      "Connection established between MySQL and Python\n"
     ]
    }
   ],
   "source": [
    "logger.info(\"Creating a connection between MySQL and Python\")\n",
    "dbconfig={\"user\":\"root\", \"password\":os.environ[\"MYSQL_PASSWORD\"], \"port\":33061, \"host\":\"localhost\", \"database\": \"db_subqueries\"}\n",
    "connection=connector.connect(**dbconfig)\n",
    "print(\"Connection established between MySQL and Python\")\n",
    "logger.info(\"Connection established between MySQL and Python\")"
   ]
  },
  {
   "cell_type": "code",
   "execution_count": 4,
   "id": "c59df7e4-e4df-444e-89b8-1194dd6ef312",
   "metadata": {},
   "outputs": [
    {
     "name": "stdout",
     "output_type": "stream",
     "text": [
      "Creating cursor object from connection\n",
      "Cursor object created to communicate with MySQL using Python.\n"
     ]
    }
   ],
   "source": [
    "print(\"Creating cursor object from connection\")\n",
    "logger.info(\"Creating first cursor object from connection\")\n",
    "cursor = connection.cursor()\n",
    "print(\"Cursor object created to communicate with MySQL using Python.\")\n",
    "logger.info(\"Cursor object created to communicate with MySQL using Python.\")"
   ]
  },
  {
   "cell_type": "code",
   "execution_count": 5,
   "id": "006e6366-9762-4a46-bf4a-a9804d143612",
   "metadata": {},
   "outputs": [],
   "source": [
    "def select_all_query(table_name: str):\n",
    "    query = f\"\"\"SELECT * FROM {table_name};\"\"\"\n",
    "    return query\n",
    "\n",
    "\n",
    "def display_results(table_column_names: list, results: list):\n",
    "    table_columns_length = [len(x) for x in table_column_names]\n",
    "    for result in results:\n",
    "        for value in range(len(result)):\n",
    "            row_data = result[value]\n",
    "            if row_data:\n",
    "                row_data = str(row_data)\n",
    "                if len(row_data) > table_columns_length[value]:\n",
    "                    table_columns_length[value] = len(row_data)\n",
    "    dashes_plus = \"\"\n",
    "    for num in range(len(table_columns_length)):\n",
    "        dashes_plus = dashes_plus + \"+\" + '-'*(table_columns_length[num]+2)\n",
    "    dashes_plus = dashes_plus + \"+\"\n",
    "    \n",
    "    print(dashes_plus)\n",
    "    \n",
    "    table_headers = \"\"\n",
    "    for num in range(len(table_column_names)):\n",
    "        table_headers = table_headers + f\"| {table_column_names[num]:^{table_columns_length[num]}} \"\n",
    "    table_headers = table_headers + \"|\"\n",
    "    print(table_headers)\n",
    "    \n",
    "    print(dashes_plus)\n",
    "    \n",
    "    for result in results:\n",
    "        table_row = \"\"\n",
    "        for value in range(len(result)):\n",
    "            row_data = result[value]\n",
    "            if row_data is None:\n",
    "                row_data = \"NULL\"            \n",
    "                #if \"Field\" in table_column_names or \"select_type\" in table_column_names:\n",
    "                    #row_data = None\n",
    "                #else:\n",
    "                    #row_data = None\n",
    "            table_row = table_row + \"|\" + f\"{str(row_data):^{table_columns_length[value]+2}}\"\n",
    "        print(table_row + \"|\")\n",
    "    print(dashes_plus)\n",
    "    print(f\"{len(results)} rows returned\")\n",
    "\n",
    "def execute_display_query_results(query: str = \"\", table_column_names: list = [], results: list = []): \n",
    "    if query:\n",
    "        logger.info(f\"Executing the query: {query}\")\n",
    "    if len(query) > 2 and (table_column_names or results):\n",
    "        print(\"You can only pass in the query alone or the table_column_names and results list\")\n",
    "        assert False\n",
    "    if query and not table_column_names and not results:\n",
    "        cursor.execute(query)\n",
    "        results = cursor.fetchall()    \n",
    "        table_column_names = cursor.column_names\n",
    "    \n",
    "    display_results(table_column_names, results)"
   ]
  },
  {
   "cell_type": "code",
   "execution_count": 6,
   "id": "17f88adc-81f6-43c9-afed-cbb9ece057b9",
   "metadata": {},
   "outputs": [
    {
     "name": "stdout",
     "output_type": "stream",
     "text": [
      "tbl_customers\n",
      "+------------+-----------+----------+---------+-------+\n",
      "| CustomerID | FirstName | LastName | Country | Score |\n",
      "+------------+-----------+----------+---------+-------+\n",
      "|     1      |  Jossef   | Goldberg | Germany |  350  |\n",
      "|     2      |   Kevin   |  Brown   |   USA   |  900  |\n",
      "|     3      |   Mary    |   NULL   |   USA   |  750  |\n",
      "|     4      |   Mark    | Schwarz  | Germany |  500  |\n",
      "|     5      |   Anna    |  Adams   |   USA   | NULL  |\n",
      "+------------+-----------+----------+---------+-------+\n",
      "5 rows returned\n",
      "\n",
      "\n",
      "tbl_employees\n",
      "+------------+-----------+----------+------------+------------+--------+--------+-----------+\n",
      "| EmployeeID | FirstName | LastName | Department | BirthDate  | Gender | Salary | ManagerID |\n",
      "+------------+-----------+----------+------------+------------+--------+--------+-----------+\n",
      "|     1      |   Frank   |   Lee    | Marketing  | 1988-12-05 |   M    | 55000  |   NULL    |\n",
      "|     2      |   Kevin   |  Brown   | Marketing  | 1972-11-25 |   M    | 65000  |     1     |\n",
      "|     3      |   Mary    |   NULL   |   Sales    | 1986-01-05 |   F    | 75000  |     1     |\n",
      "|     4      |  Michael  |   Ray    |   Sales    | 1977-02-10 |   M    | 90000  |     2     |\n",
      "|     5      |   Carol   |  Baker   |   Sales    | 1982-02-11 |   F    | 55000  |     3     |\n",
      "+------------+-----------+----------+------------+------------+--------+--------+-----------+\n",
      "5 rows returned\n",
      "\n",
      "\n",
      "tbl_orders\n",
      "+---------+-----------+------------+---------------+------------+------------+-------------+--------------------+---------------+----------+-------+---------------------+\n",
      "| OrderID | ProductID | CustomerID | SalesPersonID | OrderDate  |  ShipDate  | OrderStatus |    ShipAddress     |  BillAddress  | Quantity | Sales |    CreationTime     |\n",
      "+---------+-----------+------------+---------------+------------+------------+-------------+--------------------+---------------+----------+-------+---------------------+\n",
      "|    1    |    101    |     2      |       3       | 2025-01-01 | 2025-01-05 |  Delivered  | 9833 Mt. Dias Blv. | 1226 Shoe St. |    1     |  10   | 2025-01-01 12:34:56 |\n",
      "|    2    |    102    |     3      |       3       | 2025-01-05 | 2025-01-10 |   Shipped   |   250 Race Court   |     NULL      |    1     |  15   | 2025-01-05 23:22:04 |\n",
      "|    3    |    101    |     1      |       5       | 2025-01-10 | 2025-01-25 |  Delivered  |    8157 W. Book    | 8157 W. Book  |    2     |  20   | 2025-01-10 18:24:08 |\n",
      "|    4    |    105    |     1      |       3       | 2025-01-20 | 2025-01-25 |   Shipped   | 5724 Victory Lane  |               |    2     |  60   | 2025-01-20 05:50:33 |\n",
      "|    5    |    104    |     2      |       5       | 2025-02-01 | 2025-02-05 |  Delivered  |        NULL        |     NULL      |    1     |  25   | 2025-02-01 14:02:41 |\n",
      "|    6    |    104    |     3      |       5       | 2025-02-05 | 2025-02-10 |  Delivered  |  1792 Belmont Rd.  |     NULL      |    2     |  50   | 2025-02-06 15:34:57 |\n",
      "|    7    |    102    |     1      |       1       | 2025-02-15 | 2025-02-27 |  Delivered  |  136 Balboa Court  |               |    2     |  30   | 2025-02-16 06:22:01 |\n",
      "|    8    |    101    |     4      |       3       | 2025-02-18 | 2025-02-27 |   Shipped   |   2947 Vine Lane   | 4311 Clay Rd  |    3     |  90   | 2025-02-18 10:45:22 |\n",
      "|    9    |    101    |     2      |       3       | 2025-03-10 | 2025-03-15 |   Shipped   |   3768 Door Way    |               |    2     |  20   | 2025-03-10 12:59:04 |\n",
      "|   10    |    102    |     3      |       5       | 2025-03-15 | 2025-03-20 |   Shipped   |        NULL        |     NULL      |    0     |  60   | 2025-03-16 23:25:15 |\n",
      "+---------+-----------+------------+---------------+------------+------------+-------------+--------------------+---------------+----------+-------+---------------------+\n",
      "10 rows returned\n",
      "\n",
      "\n",
      "tbl_products\n",
      "+-----------+---------+-------------+-------+\n",
      "| ProductID | Product |  Category   | Price |\n",
      "+-----------+---------+-------------+-------+\n",
      "|    101    | Bottle  | Accessories |  10   |\n",
      "|    102    |  Tire   | Accessories |  15   |\n",
      "|    103    |  Socks  |  Clothing   |  20   |\n",
      "|    104    |  Caps   |  Clothing   |  25   |\n",
      "|    105    | Gloves  |  Clothing   |  30   |\n",
      "+-----------+---------+-------------+-------+\n",
      "5 rows returned\n",
      "\n",
      "\n"
     ]
    }
   ],
   "source": [
    "cursor.execute(\"SHOW TABLES;\")\n",
    "tables = cursor.fetchall()\n",
    "for table in tables:\n",
    "    print(table[0])\n",
    "    execute_display_query_results(select_all_query(table[0]))\n",
    "    print(\"\\n\")"
   ]
  },
  {
   "cell_type": "markdown",
   "id": "428dfd00-51d0-4e4d-8325-e645059a146e",
   "metadata": {},
   "source": [
    "## Common Table Expression\n",
    "This are temporary, named result set (virtual table) that can be used multiple times within your query to simplify and organize complex query\n",
    "\n",
    "- Standalone CTE: Defined and used independently. Runs independently as it's self-contained and doesn't rely on other CTEs or queries\n",
    "- Nested CTE\n",
    "  \n",
    "```sql\n",
    "WITH CTE-NAME AS\n",
    "(\n",
    "   SELECT *\n",
    "   FROM tbl_name\n",
    "   WHERE \n",
    ")\n",
    "```\n",
    "\n",
    "\n",
    "```sql\n",
    "SELECT ... FROM CTE-NAME \n",
    "WHERE.....\n",
    "```"
   ]
  },
  {
   "cell_type": "markdown",
   "id": "9a700af7-3fa1-4710-815d-3599db107ddb",
   "metadata": {},
   "source": [
    "## Task 1 \n",
    "Find the total sales per customer"
   ]
  },
  {
   "cell_type": "code",
   "execution_count": 7,
   "id": "8925f85e-6cfe-4029-baa7-03b43bad1376",
   "metadata": {},
   "outputs": [
    {
     "name": "stdout",
     "output_type": "stream",
     "text": [
      "+------------+------------+\n",
      "| CustomerID | TotalSales |\n",
      "+------------+------------+\n",
      "|     2      |     55     |\n",
      "|     3      |    125     |\n",
      "|     1      |    110     |\n",
      "|     4      |     90     |\n",
      "+------------+------------+\n",
      "4 rows returned\n"
     ]
    }
   ],
   "source": [
    "select_query = \"SELECT CustomerID, SUM(Sales) AS TotalSales FROM tbl_orders GROUP BY CustomerID\"\n",
    "execute_display_query_results(select_query)"
   ]
  },
  {
   "cell_type": "code",
   "execution_count": 8,
   "id": "8f33d364-c162-4a29-ba57-25c213890dc5",
   "metadata": {},
   "outputs": [
    {
     "name": "stdout",
     "output_type": "stream",
     "text": [
      "+------------+-----------+----------+------------+\n",
      "| CustomerID | FirstName | LastName | TotalSales |\n",
      "+------------+-----------+----------+------------+\n",
      "|     1      |  Jossef   | Goldberg |    110     |\n",
      "|     2      |   Kevin   |  Brown   |     55     |\n",
      "|     3      |   Mary    |   NULL   |    125     |\n",
      "|     4      |   Mark    | Schwarz  |     90     |\n",
      "|     5      |   Anna    |  Adams   |    NULL    |\n",
      "+------------+-----------+----------+------------+\n",
      "5 rows returned\n"
     ]
    }
   ],
   "source": [
    "## Order BY is not allowed in the CTE\n",
    "cte_select_query = \"\"\"WITH CTE_Total_Sales AS \n",
    "(\n",
    "SELECT CustomerID, SUM(Sales) AS TotalSales \n",
    "FROM tbl_orders \n",
    "GROUP BY CustomerID\n",
    ")\n",
    "\n",
    "SELECT c.CustomerID, c.FirstName, c.LastName, cts.TotalSales FROM tbl_customers AS c LEFT JOIN CTE_Total_Sales cts ON c.CustomerID = cts.CustomerID;\n",
    "\"\"\"\n",
    "execute_display_query_results(cte_select_query)"
   ]
  },
  {
   "cell_type": "markdown",
   "id": "e31a0f26-b2d2-4bfd-9305-123adbfab85e",
   "metadata": {},
   "source": [
    "## Task 2\n",
    "Find the last order date for each customer"
   ]
  },
  {
   "cell_type": "code",
   "execution_count": 10,
   "id": "75f2c2d0-3a1a-4f4f-a659-9ada85b4f8a6",
   "metadata": {},
   "outputs": [
    {
     "name": "stdout",
     "output_type": "stream",
     "text": [
      "+------------+-----------+----------+------------+------------+\n",
      "| CustomerID | FirstName | LastName | TotalSales | last_Order |\n",
      "+------------+-----------+----------+------------+------------+\n",
      "|     1      |  Jossef   | Goldberg |    110     | 2025-02-15 |\n",
      "|     2      |   Kevin   |  Brown   |     55     | 2025-03-10 |\n",
      "|     3      |   Mary    |   NULL   |    125     | 2025-03-15 |\n",
      "|     4      |   Mark    | Schwarz  |     90     | 2025-02-18 |\n",
      "|     5      |   Anna    |  Adams   |    NULL    |    NULL    |\n",
      "+------------+-----------+----------+------------+------------+\n",
      "5 rows returned\n"
     ]
    }
   ],
   "source": [
    "cte_select_query = \"\"\"WITH CTE_Total_Sales AS \n",
    "(\n",
    "SELECT CustomerID, SUM(Sales) AS TotalSales \n",
    "FROM tbl_orders \n",
    "GROUP BY CustomerID\n",
    "),\n",
    "\n",
    "CTE_Last_Order AS (\n",
    "SELECT CustomerID, MAX(OrderDate) AS Last_Order\n",
    "FROM tbl_orders\n",
    "GROUP BY CustomerID\n",
    ")\n",
    "\n",
    "SELECT c.CustomerID, c.FirstName, c.LastName, cts.TotalSales, clo.last_Order FROM tbl_customers AS c \n",
    "LEFT JOIN CTE_Total_Sales cts ON c.CustomerID = cts.CustomerID\n",
    "LEFT JOIN CTE_Last_Order AS clo ON c.CustomerID = clo.CustomerID;\n",
    "\"\"\"\n",
    "execute_display_query_results(cte_select_query)"
   ]
  },
  {
   "cell_type": "code",
   "execution_count": 11,
   "id": "3bea0c9a-174f-432c-9ab0-7ed3172b2c4f",
   "metadata": {},
   "outputs": [
    {
     "name": "stdout",
     "output_type": "stream",
     "text": [
      "+------------+-----------+----------+------------+------------+\n",
      "| CustomerID | FirstName | LastName | TotalSales | last_Order |\n",
      "+------------+-----------+----------+------------+------------+\n",
      "|     1      |  Jossef   | Goldberg |    110     | 2025-02-15 |\n",
      "|     2      |   Kevin   |  Brown   |     55     | 2025-03-10 |\n",
      "|     3      |   Mary    |   NULL   |    125     | 2025-03-15 |\n",
      "|     4      |   Mark    | Schwarz  |     90     | 2025-02-18 |\n",
      "|     5      |   Anna    |  Adams   |    NULL    |    NULL    |\n",
      "+------------+-----------+----------+------------+------------+\n",
      "5 rows returned\n"
     ]
    }
   ],
   "source": [
    "cte_select_query = \"\"\"WITH CTE_Total_Sales AS \n",
    "(\n",
    "SELECT CustomerID, SUM(Sales) AS TotalSales \n",
    "FROM tbl_orders \n",
    "GROUP BY CustomerID\n",
    "),\n",
    "\n",
    "CTE_Last_Order AS (\n",
    "SELECT CustomerID, MAX(OrderDate) AS Last_Order\n",
    "FROM tbl_orders\n",
    "GROUP BY CustomerID\n",
    ")\n",
    "\n",
    "SELECT tbl_customers.CustomerID, FirstName, LastName, TotalSales, last_Order FROM tbl_customers  \n",
    "LEFT JOIN CTE_Total_Sales USING(CustomerID)\n",
    "LEFT JOIN CTE_Last_Order USING(CustomerID);\n",
    "\"\"\"\n",
    "execute_display_query_results(cte_select_query)"
   ]
  },
  {
   "cell_type": "code",
   "execution_count": null,
   "id": "e6310212-b638-46f5-b515-1df7b6c5bb55",
   "metadata": {},
   "outputs": [],
   "source": []
  }
 ],
 "metadata": {
  "kernelspec": {
   "display_name": "Python 3 (ipykernel)",
   "language": "python",
   "name": "python3"
  },
  "language_info": {
   "codemirror_mode": {
    "name": "ipython",
    "version": 3
   },
   "file_extension": ".py",
   "mimetype": "text/x-python",
   "name": "python",
   "nbconvert_exporter": "python",
   "pygments_lexer": "ipython3",
   "version": "3.11.7"
  }
 },
 "nbformat": 4,
 "nbformat_minor": 5
}
