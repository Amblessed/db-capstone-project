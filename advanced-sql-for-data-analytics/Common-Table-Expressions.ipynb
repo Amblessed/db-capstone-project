{
 "cells": [
  {
   "cell_type": "code",
   "execution_count": 1,
   "id": "3f8aaa78-863c-4036-a4a7-fc7106affb4b",
   "metadata": {},
   "outputs": [],
   "source": [
    "import os\n",
    "import mysql.connector as connector\n",
    "import logging"
   ]
  },
  {
   "cell_type": "code",
   "execution_count": 2,
   "id": "b740e1ca-ea4a-4715-bba7-dabcb84b19c3",
   "metadata": {},
   "outputs": [],
   "source": [
    "logger = logging.getLogger(\"[CTE MySQL]\")\n",
    "if os.path.exists(\"../log/cte-mysql.log\"):\n",
    "  os.remove(\"../log/cte-mysql.log\")\n",
    "logging.basicConfig(filename='../log/cte-mysql.log', encoding='utf-8', level=logging.DEBUG, format='%(asctime)s ==> %(message)s', datefmt='%m/%d/%Y %I:%M:%S')"
   ]
  },
  {
   "cell_type": "code",
   "execution_count": 3,
   "id": "5a7d06cd-c454-41bf-8f23-1b1255934155",
   "metadata": {},
   "outputs": [
    {
     "name": "stdout",
     "output_type": "stream",
     "text": [
      "Connection established between MySQL and Python\n"
     ]
    }
   ],
   "source": [
    "logger.info(\"Creating a connection between MySQL and Python\")\n",
    "dbconfig={\"user\":\"root\", \"password\":os.environ[\"MYSQL_PASSWORD\"], \"port\":33061, \"host\":\"localhost\", \"database\": \"db_subqueries\"}\n",
    "connection=connector.connect(**dbconfig)\n",
    "print(\"Connection established between MySQL and Python\")\n",
    "logger.info(\"Connection established between MySQL and Python\")"
   ]
  },
  {
   "cell_type": "code",
   "execution_count": 4,
   "id": "c59df7e4-e4df-444e-89b8-1194dd6ef312",
   "metadata": {},
   "outputs": [
    {
     "name": "stdout",
     "output_type": "stream",
     "text": [
      "Creating cursor object from connection\n",
      "Cursor object created to communicate with MySQL using Python.\n"
     ]
    }
   ],
   "source": [
    "print(\"Creating cursor object from connection\")\n",
    "logger.info(\"Creating first cursor object from connection\")\n",
    "cursor = connection.cursor()\n",
    "print(\"Cursor object created to communicate with MySQL using Python.\")\n",
    "logger.info(\"Cursor object created to communicate with MySQL using Python.\")"
   ]
  },
  {
   "cell_type": "code",
   "execution_count": 5,
   "id": "006e6366-9762-4a46-bf4a-a9804d143612",
   "metadata": {},
   "outputs": [],
   "source": [
    "def select_all_query(table_name: str):\n",
    "    query = f\"\"\"SELECT * FROM {table_name};\"\"\"\n",
    "    return query\n",
    "\n",
    "\n",
    "def display_results(table_column_names: list, results: list):\n",
    "    table_columns_length = [len(x) for x in table_column_names]\n",
    "    for result in results:\n",
    "        for value in range(len(result)):\n",
    "            row_data = result[value]\n",
    "            if row_data:\n",
    "                row_data = str(row_data)\n",
    "                if len(row_data) > table_columns_length[value]:\n",
    "                    table_columns_length[value] = len(row_data)\n",
    "    dashes_plus = \"\"\n",
    "    for num in range(len(table_columns_length)):\n",
    "        dashes_plus = dashes_plus + \"+\" + '-'*(table_columns_length[num]+2)\n",
    "    dashes_plus = dashes_plus + \"+\"\n",
    "    \n",
    "    print(dashes_plus)\n",
    "    \n",
    "    table_headers = \"\"\n",
    "    for num in range(len(table_column_names)):\n",
    "        table_headers = table_headers + f\"| {table_column_names[num]:^{table_columns_length[num]}} \"\n",
    "    table_headers = table_headers + \"|\"\n",
    "    print(table_headers)\n",
    "    \n",
    "    print(dashes_plus)\n",
    "    \n",
    "    for result in results:\n",
    "        table_row = \"\"\n",
    "        for value in range(len(result)):\n",
    "            row_data = result[value]\n",
    "            if row_data is None:\n",
    "                row_data = \"NULL\"            \n",
    "                #if \"Field\" in table_column_names or \"select_type\" in table_column_names:\n",
    "                    #row_data = None\n",
    "                #else:\n",
    "                    #row_data = None\n",
    "            table_row = table_row + \"|\" + f\"{str(row_data):^{table_columns_length[value]+2}}\"\n",
    "        print(table_row + \"|\")\n",
    "    print(dashes_plus)\n",
    "    print(f\"{len(results)} rows returned\")\n",
    "\n",
    "def execute_display_query_results(query: str = \"\", table_column_names: list = [], results: list = []): \n",
    "    if query:\n",
    "        logger.info(f\"Executing the query: {query}\")\n",
    "    if len(query) > 2 and (table_column_names or results):\n",
    "        print(\"You can only pass in the query alone or the table_column_names and results list\")\n",
    "        assert False\n",
    "    if query and not table_column_names and not results:\n",
    "        cursor.execute(query)\n",
    "        results = cursor.fetchall()    \n",
    "        table_column_names = cursor.column_names\n",
    "    \n",
    "    display_results(table_column_names, results)"
   ]
  },
  {
   "cell_type": "code",
   "execution_count": 6,
   "id": "17f88adc-81f6-43c9-afed-cbb9ece057b9",
   "metadata": {},
   "outputs": [
    {
     "name": "stdout",
     "output_type": "stream",
     "text": [
      "tbl_customers\n",
      "+------------+-----------+----------+---------+-------+\n",
      "| CustomerID | FirstName | LastName | Country | Score |\n",
      "+------------+-----------+----------+---------+-------+\n",
      "|     1      |  Jossef   | Goldberg | Germany |  350  |\n",
      "|     2      |   Kevin   |  Brown   |   USA   |  900  |\n",
      "|     3      |   Mary    |   NULL   |   USA   |  750  |\n",
      "|     4      |   Mark    | Schwarz  | Germany |  500  |\n",
      "|     5      |   Anna    |  Adams   |   USA   | NULL  |\n",
      "+------------+-----------+----------+---------+-------+\n",
      "5 rows returned\n",
      "\n",
      "\n",
      "tbl_employees\n",
      "+------------+-----------+----------+------------+------------+--------+--------+-----------+\n",
      "| EmployeeID | FirstName | LastName | Department | BirthDate  | Gender | Salary | ManagerID |\n",
      "+------------+-----------+----------+------------+------------+--------+--------+-----------+\n",
      "|     1      |   Frank   |   Lee    | Marketing  | 1988-12-05 |   M    | 55000  |   NULL    |\n",
      "|     2      |   Kevin   |  Brown   | Marketing  | 1972-11-25 |   M    | 65000  |     1     |\n",
      "|     3      |   Mary    |   NULL   |   Sales    | 1986-01-05 |   F    | 75000  |     1     |\n",
      "|     4      |  Michael  |   Ray    |   Sales    | 1977-02-10 |   M    | 90000  |     2     |\n",
      "|     5      |   Carol   |  Baker   |   Sales    | 1982-02-11 |   F    | 55000  |     3     |\n",
      "+------------+-----------+----------+------------+------------+--------+--------+-----------+\n",
      "5 rows returned\n",
      "\n",
      "\n",
      "tbl_orders\n",
      "+---------+-----------+------------+---------------+------------+------------+-------------+--------------------+---------------+----------+-------+---------------------+\n",
      "| OrderID | ProductID | CustomerID | SalesPersonID | OrderDate  |  ShipDate  | OrderStatus |    ShipAddress     |  BillAddress  | Quantity | Sales |    CreationTime     |\n",
      "+---------+-----------+------------+---------------+------------+------------+-------------+--------------------+---------------+----------+-------+---------------------+\n",
      "|    1    |    101    |     2      |       3       | 2025-01-01 | 2025-01-05 |  Delivered  | 9833 Mt. Dias Blv. | 1226 Shoe St. |    1     |  10   | 2025-01-01 12:34:56 |\n",
      "|    2    |    102    |     3      |       3       | 2025-01-05 | 2025-01-10 |   Shipped   |   250 Race Court   |     NULL      |    1     |  15   | 2025-01-05 23:22:04 |\n",
      "|    3    |    101    |     1      |       5       | 2025-01-10 | 2025-01-25 |  Delivered  |    8157 W. Book    | 8157 W. Book  |    2     |  20   | 2025-01-10 18:24:08 |\n",
      "|    4    |    105    |     1      |       3       | 2025-01-20 | 2025-01-25 |   Shipped   | 5724 Victory Lane  |               |    2     |  60   | 2025-01-20 05:50:33 |\n",
      "|    5    |    104    |     2      |       5       | 2025-02-01 | 2025-02-05 |  Delivered  |        NULL        |     NULL      |    1     |  25   | 2025-02-01 14:02:41 |\n",
      "|    6    |    104    |     3      |       5       | 2025-02-05 | 2025-02-10 |  Delivered  |  1792 Belmont Rd.  |     NULL      |    2     |  50   | 2025-02-06 15:34:57 |\n",
      "|    7    |    102    |     1      |       1       | 2025-02-15 | 2025-02-27 |  Delivered  |  136 Balboa Court  |               |    2     |  30   | 2025-02-16 06:22:01 |\n",
      "|    8    |    101    |     4      |       3       | 2025-02-18 | 2025-02-27 |   Shipped   |   2947 Vine Lane   | 4311 Clay Rd  |    3     |  90   | 2025-02-18 10:45:22 |\n",
      "|    9    |    101    |     2      |       3       | 2025-03-10 | 2025-03-15 |   Shipped   |   3768 Door Way    |               |    2     |  20   | 2025-03-10 12:59:04 |\n",
      "|   10    |    102    |     3      |       5       | 2025-03-15 | 2025-03-20 |   Shipped   |        NULL        |     NULL      |    0     |  60   | 2025-03-16 23:25:15 |\n",
      "+---------+-----------+------------+---------------+------------+------------+-------------+--------------------+---------------+----------+-------+---------------------+\n",
      "10 rows returned\n",
      "\n",
      "\n",
      "tbl_products\n",
      "+-----------+---------+-------------+-------+\n",
      "| ProductID | Product |  Category   | Price |\n",
      "+-----------+---------+-------------+-------+\n",
      "|    101    | Bottle  | Accessories |  10   |\n",
      "|    102    |  Tire   | Accessories |  15   |\n",
      "|    103    |  Socks  |  Clothing   |  20   |\n",
      "|    104    |  Caps   |  Clothing   |  25   |\n",
      "|    105    | Gloves  |  Clothing   |  30   |\n",
      "+-----------+---------+-------------+-------+\n",
      "5 rows returned\n",
      "\n",
      "\n"
     ]
    }
   ],
   "source": [
    "cursor.execute(\"SHOW TABLES;\")\n",
    "tables = cursor.fetchall()\n",
    "for table in tables:\n",
    "    print(table[0])\n",
    "    execute_display_query_results(select_all_query(table[0]))\n",
    "    print(\"\\n\")"
   ]
  },
  {
   "cell_type": "markdown",
   "id": "428dfd00-51d0-4e4d-8325-e645059a146e",
   "metadata": {},
   "source": [
    "## Common Table Expression\n",
    "This are temporary, named result set (virtual table) that can be used multiple times within your query to simplify and organize complex query\n",
    "\n",
    "- Standalone CTE: Defined and used independently. Runs independently as it's self-contained and doesn't rely on other CTEs or queries\n",
    "- Nested CTE\n",
    "  \n",
    "```sql\n",
    "WITH CTE-NAME AS\n",
    "(\n",
    "   SELECT *\n",
    "   FROM tbl_name\n",
    "   WHERE \n",
    ")\n",
    "```\n",
    "\n",
    "\n",
    "```sql\n",
    "SELECT ... FROM CTE-NAME \n",
    "WHERE.....\n",
    "```"
   ]
  },
  {
   "cell_type": "markdown",
   "id": "9a700af7-3fa1-4710-815d-3599db107ddb",
   "metadata": {},
   "source": [
    "## Task 1 \n",
    "Find the total sales per customer"
   ]
  },
  {
   "cell_type": "code",
   "execution_count": 7,
   "id": "8925f85e-6cfe-4029-baa7-03b43bad1376",
   "metadata": {},
   "outputs": [
    {
     "name": "stdout",
     "output_type": "stream",
     "text": [
      "+------------+------------+\n",
      "| CustomerID | TotalSales |\n",
      "+------------+------------+\n",
      "|     2      |     55     |\n",
      "|     3      |    125     |\n",
      "|     1      |    110     |\n",
      "|     4      |     90     |\n",
      "+------------+------------+\n",
      "4 rows returned\n"
     ]
    }
   ],
   "source": [
    "select_query = \"SELECT CustomerID, SUM(Sales) AS TotalSales FROM tbl_orders GROUP BY CustomerID\"\n",
    "execute_display_query_results(select_query)"
   ]
  },
  {
   "cell_type": "code",
   "execution_count": 8,
   "id": "8f33d364-c162-4a29-ba57-25c213890dc5",
   "metadata": {},
   "outputs": [
    {
     "name": "stdout",
     "output_type": "stream",
     "text": [
      "+------------+-----------+----------+------------+\n",
      "| CustomerID | FirstName | LastName | TotalSales |\n",
      "+------------+-----------+----------+------------+\n",
      "|     1      |  Jossef   | Goldberg |    110     |\n",
      "|     2      |   Kevin   |  Brown   |     55     |\n",
      "|     3      |   Mary    |   NULL   |    125     |\n",
      "|     4      |   Mark    | Schwarz  |     90     |\n",
      "|     5      |   Anna    |  Adams   |    NULL    |\n",
      "+------------+-----------+----------+------------+\n",
      "5 rows returned\n"
     ]
    }
   ],
   "source": [
    "## Order BY is not allowed in the CTE\n",
    "cte_select_query = \"\"\"WITH CTE_Total_Sales AS \n",
    "(\n",
    "SELECT CustomerID, SUM(Sales) AS TotalSales \n",
    "FROM tbl_orders \n",
    "GROUP BY CustomerID\n",
    ")\n",
    "\n",
    "SELECT c.CustomerID, c.FirstName, c.LastName, cts.TotalSales FROM tbl_customers AS c LEFT JOIN CTE_Total_Sales cts ON c.CustomerID = cts.CustomerID;\n",
    "\"\"\"\n",
    "execute_display_query_results(cte_select_query)"
   ]
  },
  {
   "cell_type": "markdown",
   "id": "e31a0f26-b2d2-4bfd-9305-123adbfab85e",
   "metadata": {},
   "source": [
    "## Task 2\n",
    "Find the last order date for each customer"
   ]
  },
  {
   "cell_type": "code",
   "execution_count": 10,
   "id": "75f2c2d0-3a1a-4f4f-a659-9ada85b4f8a6",
   "metadata": {},
   "outputs": [
    {
     "name": "stdout",
     "output_type": "stream",
     "text": [
      "+------------+-----------+----------+------------+------------+\n",
      "| CustomerID | FirstName | LastName | TotalSales | last_Order |\n",
      "+------------+-----------+----------+------------+------------+\n",
      "|     1      |  Jossef   | Goldberg |    110     | 2025-02-15 |\n",
      "|     2      |   Kevin   |  Brown   |     55     | 2025-03-10 |\n",
      "|     3      |   Mary    |   NULL   |    125     | 2025-03-15 |\n",
      "|     4      |   Mark    | Schwarz  |     90     | 2025-02-18 |\n",
      "|     5      |   Anna    |  Adams   |    NULL    |    NULL    |\n",
      "+------------+-----------+----------+------------+------------+\n",
      "5 rows returned\n"
     ]
    }
   ],
   "source": [
    "cte_select_query = \"\"\"WITH CTE_Total_Sales AS \n",
    "(\n",
    "SELECT CustomerID, SUM(Sales) AS TotalSales \n",
    "FROM tbl_orders \n",
    "GROUP BY CustomerID\n",
    "),\n",
    "\n",
    "CTE_Last_Order AS (\n",
    "SELECT CustomerID, MAX(OrderDate) AS Last_Order\n",
    "FROM tbl_orders\n",
    "GROUP BY CustomerID\n",
    ")\n",
    "\n",
    "SELECT c.CustomerID, c.FirstName, c.LastName, cts.TotalSales, clo.last_Order FROM tbl_customers AS c \n",
    "LEFT JOIN CTE_Total_Sales cts ON c.CustomerID = cts.CustomerID\n",
    "LEFT JOIN CTE_Last_Order AS clo ON c.CustomerID = clo.CustomerID;\n",
    "\"\"\"\n",
    "execute_display_query_results(cte_select_query)"
   ]
  },
  {
   "cell_type": "code",
   "execution_count": 12,
   "id": "3bea0c9a-174f-432c-9ab0-7ed3172b2c4f",
   "metadata": {},
   "outputs": [
    {
     "name": "stdout",
     "output_type": "stream",
     "text": [
      "+------------+-----------+----------+------------+------------+\n",
      "| CustomerID | FirstName | LastName | TotalSales | Last_Order |\n",
      "+------------+-----------+----------+------------+------------+\n",
      "|     1      |  Jossef   | Goldberg |    110     | 2025-02-15 |\n",
      "|     2      |   Kevin   |  Brown   |     55     | 2025-03-10 |\n",
      "|     3      |   Mary    |   NULL   |    125     | 2025-03-15 |\n",
      "|     4      |   Mark    | Schwarz  |     90     | 2025-02-18 |\n",
      "|     5      |   Anna    |  Adams   |    NULL    |    NULL    |\n",
      "+------------+-----------+----------+------------+------------+\n",
      "5 rows returned\n"
     ]
    }
   ],
   "source": [
    "cte_select_query = \"\"\"WITH CTE_Total_Sales AS \n",
    "(\n",
    "SELECT CustomerID, SUM(Sales) AS TotalSales \n",
    "FROM tbl_orders \n",
    "GROUP BY CustomerID\n",
    "),\n",
    "\n",
    "CTE_Last_Order AS (\n",
    "SELECT CustomerID, MAX(OrderDate) AS Last_Order\n",
    "FROM tbl_orders\n",
    "GROUP BY CustomerID\n",
    ")\n",
    "\n",
    "SELECT tbl_customers.CustomerID, FirstName, LastName, TotalSales, Last_Order FROM tbl_customers  \n",
    "LEFT JOIN CTE_Total_Sales USING(CustomerID)\n",
    "LEFT JOIN CTE_Last_Order USING(CustomerID);\n",
    "\"\"\"\n",
    "execute_display_query_results(cte_select_query)"
   ]
  },
  {
   "cell_type": "markdown",
   "id": "088cba5b-05de-43bc-bacf-27d95ab497db",
   "metadata": {},
   "source": [
    "## Nested CTE\n",
    "CTE inside another CTE. A nested CTE uses the result of another CTE so it can't run independently\n",
    "\n",
    "```sql\n",
    "WITH CTE-Name1 AS\n",
    "(\n",
    "   SELECT *\n",
    "   FROM tbl_name\n",
    "   WHERE \n",
    "),\n",
    "WITH CTE-Name2 AS\n",
    "(\n",
    "   SELECT *\n",
    "   FROM CTE-Name1\n",
    "   WHERE \n",
    ")\n",
    "    \n",
    "SELECT ... FROM CTE-Name2\n",
    "WHERE.....\n",
    "```"
   ]
  },
  {
   "cell_type": "markdown",
   "id": "fa3e88e1-6d24-4e80-b63d-c32610b6ae00",
   "metadata": {},
   "source": [
    "## Task 1\n",
    "- Find the total sales per customer\n",
    "- Find the last order date for each customer\n",
    "- Rank Customers based on total sales per customer"
   ]
  },
  {
   "cell_type": "code",
   "execution_count": 21,
   "id": "ba3009b7-aa7e-4c35-b85b-c84211665f9c",
   "metadata": {},
   "outputs": [
    {
     "name": "stdout",
     "output_type": "stream",
     "text": [
      "+------------+-----------+----------+------------+------------+--------------+\n",
      "| CustomerID | FirstName | LastName | TotalSales | Last_Order | CustomerRank |\n",
      "+------------+-----------+----------+------------+------------+--------------+\n",
      "|     3      |   Mary    |   NULL   |    125     | 2025-03-15 |      1       |\n",
      "|     1      |  Jossef   | Goldberg |    110     | 2025-02-15 |      2       |\n",
      "|     4      |   Mark    | Schwarz  |     90     | 2025-02-18 |      3       |\n",
      "|     2      |   Kevin   |  Brown   |     55     | 2025-03-10 |      4       |\n",
      "|     5      |   Anna    |  Adams   |    NULL    |    NULL    |     NULL     |\n",
      "+------------+-----------+----------+------------+------------+--------------+\n",
      "5 rows returned\n"
     ]
    }
   ],
   "source": [
    "cte_select_query = \"\"\"WITH CTE_Total_Sales AS \n",
    "(\n",
    "SELECT CustomerID, SUM(Sales) AS TotalSales \n",
    "FROM tbl_orders \n",
    "GROUP BY CustomerID\n",
    "),\n",
    "\n",
    "CTE_Customer_Rank AS (\n",
    "SELECT CustomerID, RANK() OVER(ORDER BY TotalSales DESC) AS CustomerRank\n",
    "FROM CTE_Total_Sales\n",
    "),\n",
    "\n",
    "CTE_Last_Order AS (\n",
    "SELECT CustomerID, MAX(OrderDate) AS Last_Order\n",
    "FROM tbl_orders\n",
    "GROUP BY CustomerID\n",
    ")\n",
    "\n",
    "SELECT tbl_customers.CustomerID, FirstName, LastName, TotalSales, Last_Order, CustomerRank FROM tbl_customers  \n",
    "LEFT JOIN CTE_Total_Sales USING(CustomerID)\n",
    "LEFT JOIN CTE_Customer_Rank USING(CustomerID)\n",
    "LEFT JOIN CTE_Last_Order USING(CustomerID)\n",
    "ORDER BY TotalSales DESC;\n",
    "\"\"\"\n",
    "execute_display_query_results(cte_select_query)"
   ]
  },
  {
   "cell_type": "markdown",
   "id": "ec9d71d0-bd35-434d-9c22-c0bfe6e32757",
   "metadata": {},
   "source": [
    "## Task 2\n",
    "- Find the total sales per customer\n",
    "- Find the last order date for each customer\n",
    "- Rank Customers based on total sales per customer\n",
    "- Segment customers based on their total sales"
   ]
  },
  {
   "cell_type": "code",
   "execution_count": 25,
   "id": "832545f1-702b-4f92-b3c8-a46f6dad67b7",
   "metadata": {},
   "outputs": [
    {
     "name": "stdout",
     "output_type": "stream",
     "text": [
      "+------------+-----------+----------+------------+------------+--------------+------------------+\n",
      "| CustomerID | FirstName | LastName | TotalSales | Last_Order | CustomerRank | CustomerSegments |\n",
      "+------------+-----------+----------+------------+------------+--------------+------------------+\n",
      "|     3      |   Mary    |   NULL   |    125     | 2025-03-15 |      1       |       High       |\n",
      "|     1      |  Jossef   | Goldberg |    110     | 2025-02-15 |      2       |       High       |\n",
      "|     4      |   Mark    | Schwarz  |     90     | 2025-02-18 |      3       |      Medium      |\n",
      "|     2      |   Kevin   |  Brown   |     55     | 2025-03-10 |      4       |      Medium      |\n",
      "|     5      |   Anna    |  Adams   |    NULL    |    NULL    |     NULL     |       NULL       |\n",
      "+------------+-----------+----------+------------+------------+--------------+------------------+\n",
      "5 rows returned\n"
     ]
    }
   ],
   "source": [
    "cte_select_query = \"\"\"WITH CTE_Total_Sales AS \n",
    "(\n",
    "SELECT CustomerID, SUM(Sales) AS TotalSales \n",
    "FROM tbl_orders \n",
    "GROUP BY CustomerID\n",
    "),\n",
    "\n",
    "-- Step 2: Find the last order date for each customer (Standalone CTE)\n",
    "CTE_Last_Order AS (\n",
    "SELECT CustomerID, MAX(OrderDate) AS Last_Order\n",
    "FROM tbl_orders\n",
    "GROUP BY CustomerID\n",
    "),\n",
    "\n",
    "-- Step 3: Rank Customers based on Total Sales Per Customer (Nested CTE)\n",
    "CTE_Customer_Rank AS (\n",
    "SELECT CustomerID, RANK() OVER(ORDER BY TotalSales DESC) AS CustomerRank\n",
    "FROM CTE_Total_Sales\n",
    "),\n",
    "\n",
    "CTE_Customer_Segments AS (\n",
    "SELECT CustomerID,\n",
    "CASE \n",
    "WHEN TotalSales > 100 THEN 'High'\n",
    "WHEN TotalSales > 50 THEN 'Medium'\n",
    "ELSE 'Low'\n",
    "END CustomerSegments\n",
    "FROM CTE_Total_Sales\n",
    ")\n",
    "\n",
    "SELECT tbl_customers.CustomerID, FirstName, LastName, TotalSales, Last_Order, CustomerRank, CustomerSegments FROM tbl_customers  \n",
    "LEFT JOIN CTE_Total_Sales USING(CustomerID)\n",
    "LEFT JOIN CTE_Customer_Rank USING(CustomerID)\n",
    "LEFT JOIN CTE_Last_Order USING(CustomerID)\n",
    "LEFT JOIN CTE_Customer_Segments USING(CustomerID)\n",
    "ORDER BY TotalSales DESC;\n",
    "\"\"\"\n",
    "execute_display_query_results(cte_select_query)"
   ]
  },
  {
   "cell_type": "markdown",
   "id": "6fdac10a-5cdc-4375-913a-5cd614a4ffd5",
   "metadata": {},
   "source": [
    "## Recursive CTE\n",
    "\n",
    "```sql\n",
    "WITH CTE-Name1 AS\n",
    "(\n",
    "    -- Anchor Query\n",
    "   SELECT *\n",
    "   FROM tbl_name\n",
    "   WHERE \n",
    "   UNION ALL\n",
    "    -- Recursive Query \n",
    "   SELECT *\n",
    "   FROM CTE-Name1\n",
    "   WHERE [Break Condition]\n",
    ")\n",
    "```"
   ]
  },
  {
   "cell_type": "markdown",
   "id": "a9f316c8-10d6-45c8-b6c4-22cddcf48b92",
   "metadata": {},
   "source": [
    "## Task 1\n",
    "Generate a Sequence of numbers from 1 to 20"
   ]
  },
  {
   "cell_type": "code",
   "execution_count": 31,
   "id": "8cca0242-f5e1-49cf-b489-123c99c2af63",
   "metadata": {},
   "outputs": [
    {
     "ename": "ProgrammingError",
     "evalue": "1146 (42S02): Table 'db_subqueries.Series' doesn't exist",
     "output_type": "error",
     "traceback": [
      "\u001b[0;31m---------------------------------------------------------------------------\u001b[0m",
      "\u001b[0;31mMySQLInterfaceError\u001b[0m                       Traceback (most recent call last)",
      "File \u001b[0;32m~/anaconda3/lib/python3.11/site-packages/mysql/connector/connection_cext.py:705\u001b[0m, in \u001b[0;36mCMySQLConnection.cmd_query\u001b[0;34m(self, query, raw, buffered, raw_as_string)\u001b[0m\n\u001b[1;32m    704\u001b[0m         query \u001b[38;5;241m=\u001b[39m query\u001b[38;5;241m.\u001b[39mencode(\u001b[38;5;124m\"\u001b[39m\u001b[38;5;124mutf-8\u001b[39m\u001b[38;5;124m\"\u001b[39m)\n\u001b[0;32m--> 705\u001b[0m     \u001b[38;5;28mself\u001b[39m\u001b[38;5;241m.\u001b[39m_cmysql\u001b[38;5;241m.\u001b[39mquery(\n\u001b[1;32m    706\u001b[0m         query,\n\u001b[1;32m    707\u001b[0m         raw\u001b[38;5;241m=\u001b[39mraw,\n\u001b[1;32m    708\u001b[0m         buffered\u001b[38;5;241m=\u001b[39mbuffered,\n\u001b[1;32m    709\u001b[0m         raw_as_string\u001b[38;5;241m=\u001b[39mraw_as_string,\n\u001b[1;32m    710\u001b[0m         query_attrs\u001b[38;5;241m=\u001b[39m\u001b[38;5;28mself\u001b[39m\u001b[38;5;241m.\u001b[39mquery_attrs,\n\u001b[1;32m    711\u001b[0m     )\n\u001b[1;32m    712\u001b[0m \u001b[38;5;28;01mexcept\u001b[39;00m MySQLInterfaceError \u001b[38;5;28;01mas\u001b[39;00m err:\n",
      "\u001b[0;31mMySQLInterfaceError\u001b[0m: Table 'db_subqueries.Series' doesn't exist",
      "\nThe above exception was the direct cause of the following exception:\n",
      "\u001b[0;31mProgrammingError\u001b[0m                          Traceback (most recent call last)",
      "Cell \u001b[0;32mIn[31], line 13\u001b[0m\n\u001b[1;32m      1\u001b[0m select_query \u001b[38;5;241m=\u001b[39m \u001b[38;5;124m\"\"\"\u001b[39m\u001b[38;5;124mWITH Series AS\u001b[39m\n\u001b[1;32m      2\u001b[0m \u001b[38;5;124m(\u001b[39m\n\u001b[1;32m      3\u001b[0m \u001b[38;5;124mSELECT 1 AS MyNumber\u001b[39m\n\u001b[0;32m   (...)\u001b[0m\n\u001b[1;32m     10\u001b[0m \u001b[38;5;124mSELECT * FROM Series\u001b[39m\n\u001b[1;32m     11\u001b[0m \u001b[38;5;124m\"\"\"\u001b[39m\n\u001b[0;32m---> 13\u001b[0m execute_display_query_results(select_query)\n",
      "Cell \u001b[0;32mIn[5], line 52\u001b[0m, in \u001b[0;36mexecute_display_query_results\u001b[0;34m(query, table_column_names, results)\u001b[0m\n\u001b[1;32m     50\u001b[0m     \u001b[38;5;28;01massert\u001b[39;00m \u001b[38;5;28;01mFalse\u001b[39;00m\n\u001b[1;32m     51\u001b[0m \u001b[38;5;28;01mif\u001b[39;00m query \u001b[38;5;129;01mand\u001b[39;00m \u001b[38;5;129;01mnot\u001b[39;00m table_column_names \u001b[38;5;129;01mand\u001b[39;00m \u001b[38;5;129;01mnot\u001b[39;00m results:\n\u001b[0;32m---> 52\u001b[0m     cursor\u001b[38;5;241m.\u001b[39mexecute(query)\n\u001b[1;32m     53\u001b[0m     results \u001b[38;5;241m=\u001b[39m cursor\u001b[38;5;241m.\u001b[39mfetchall()    \n\u001b[1;32m     54\u001b[0m     table_column_names \u001b[38;5;241m=\u001b[39m cursor\u001b[38;5;241m.\u001b[39mcolumn_names\n",
      "File \u001b[0;32m~/anaconda3/lib/python3.11/site-packages/mysql/connector/cursor_cext.py:357\u001b[0m, in \u001b[0;36mCMySQLCursor.execute\u001b[0;34m(self, operation, params, multi)\u001b[0m\n\u001b[1;32m    352\u001b[0m             \u001b[38;5;28;01mraise\u001b[39;00m ProgrammingError(\n\u001b[1;32m    353\u001b[0m                 \u001b[38;5;124m\"\u001b[39m\u001b[38;5;124mNot all parameters were used in the SQL statement\u001b[39m\u001b[38;5;124m\"\u001b[39m\n\u001b[1;32m    354\u001b[0m             )\n\u001b[1;32m    356\u001b[0m \u001b[38;5;28;01mtry\u001b[39;00m:\n\u001b[0;32m--> 357\u001b[0m     result \u001b[38;5;241m=\u001b[39m \u001b[38;5;28mself\u001b[39m\u001b[38;5;241m.\u001b[39m_connection\u001b[38;5;241m.\u001b[39mcmd_query(\n\u001b[1;32m    358\u001b[0m         stmt,\n\u001b[1;32m    359\u001b[0m         raw\u001b[38;5;241m=\u001b[39m\u001b[38;5;28mself\u001b[39m\u001b[38;5;241m.\u001b[39m_raw,\n\u001b[1;32m    360\u001b[0m         buffered\u001b[38;5;241m=\u001b[39m\u001b[38;5;28mself\u001b[39m\u001b[38;5;241m.\u001b[39m_buffered,\n\u001b[1;32m    361\u001b[0m         raw_as_string\u001b[38;5;241m=\u001b[39m\u001b[38;5;28mself\u001b[39m\u001b[38;5;241m.\u001b[39m_raw_as_string,\n\u001b[1;32m    362\u001b[0m     )\n\u001b[1;32m    363\u001b[0m \u001b[38;5;28;01mexcept\u001b[39;00m MySQLInterfaceError \u001b[38;5;28;01mas\u001b[39;00m err:\n\u001b[1;32m    364\u001b[0m     \u001b[38;5;28;01mraise\u001b[39;00m get_mysql_exception(\n\u001b[1;32m    365\u001b[0m         msg\u001b[38;5;241m=\u001b[39merr\u001b[38;5;241m.\u001b[39mmsg, errno\u001b[38;5;241m=\u001b[39merr\u001b[38;5;241m.\u001b[39merrno, sqlstate\u001b[38;5;241m=\u001b[39merr\u001b[38;5;241m.\u001b[39msqlstate\n\u001b[1;32m    366\u001b[0m     ) \u001b[38;5;28;01mfrom\u001b[39;00m \u001b[38;5;21;01merr\u001b[39;00m\n",
      "File \u001b[0;32m~/anaconda3/lib/python3.11/site-packages/mysql/connector/opentelemetry/context_propagation.py:97\u001b[0m, in \u001b[0;36mwith_context_propagation.<locals>.wrapper\u001b[0;34m(cnx, *args, **kwargs)\u001b[0m\n\u001b[1;32m     95\u001b[0m \u001b[38;5;66;03m# pylint: disable=possibly-used-before-assignment\u001b[39;00m\n\u001b[1;32m     96\u001b[0m \u001b[38;5;28;01mif\u001b[39;00m \u001b[38;5;129;01mnot\u001b[39;00m OTEL_ENABLED \u001b[38;5;129;01mor\u001b[39;00m \u001b[38;5;129;01mnot\u001b[39;00m cnx\u001b[38;5;241m.\u001b[39motel_context_propagation:\n\u001b[0;32m---> 97\u001b[0m     \u001b[38;5;28;01mreturn\u001b[39;00m method(cnx, \u001b[38;5;241m*\u001b[39margs, \u001b[38;5;241m*\u001b[39m\u001b[38;5;241m*\u001b[39mkwargs)\n\u001b[1;32m     99\u001b[0m current_span \u001b[38;5;241m=\u001b[39m trace\u001b[38;5;241m.\u001b[39mget_current_span()\n\u001b[1;32m    100\u001b[0m tp_header \u001b[38;5;241m=\u001b[39m \u001b[38;5;28;01mNone\u001b[39;00m\n",
      "File \u001b[0;32m~/anaconda3/lib/python3.11/site-packages/mysql/connector/connection_cext.py:713\u001b[0m, in \u001b[0;36mCMySQLConnection.cmd_query\u001b[0;34m(self, query, raw, buffered, raw_as_string)\u001b[0m\n\u001b[1;32m    705\u001b[0m     \u001b[38;5;28mself\u001b[39m\u001b[38;5;241m.\u001b[39m_cmysql\u001b[38;5;241m.\u001b[39mquery(\n\u001b[1;32m    706\u001b[0m         query,\n\u001b[1;32m    707\u001b[0m         raw\u001b[38;5;241m=\u001b[39mraw,\n\u001b[0;32m   (...)\u001b[0m\n\u001b[1;32m    710\u001b[0m         query_attrs\u001b[38;5;241m=\u001b[39m\u001b[38;5;28mself\u001b[39m\u001b[38;5;241m.\u001b[39mquery_attrs,\n\u001b[1;32m    711\u001b[0m     )\n\u001b[1;32m    712\u001b[0m \u001b[38;5;28;01mexcept\u001b[39;00m MySQLInterfaceError \u001b[38;5;28;01mas\u001b[39;00m err:\n\u001b[0;32m--> 713\u001b[0m     \u001b[38;5;28;01mraise\u001b[39;00m get_mysql_exception(\n\u001b[1;32m    714\u001b[0m         err\u001b[38;5;241m.\u001b[39merrno, msg\u001b[38;5;241m=\u001b[39merr\u001b[38;5;241m.\u001b[39mmsg, sqlstate\u001b[38;5;241m=\u001b[39merr\u001b[38;5;241m.\u001b[39msqlstate\n\u001b[1;32m    715\u001b[0m     ) \u001b[38;5;28;01mfrom\u001b[39;00m \u001b[38;5;21;01merr\u001b[39;00m\n\u001b[1;32m    716\u001b[0m \u001b[38;5;28;01mexcept\u001b[39;00m \u001b[38;5;167;01mAttributeError\u001b[39;00m \u001b[38;5;28;01mas\u001b[39;00m err:\n\u001b[1;32m    717\u001b[0m     addr \u001b[38;5;241m=\u001b[39m (\n\u001b[1;32m    718\u001b[0m         \u001b[38;5;28mself\u001b[39m\u001b[38;5;241m.\u001b[39m_unix_socket \u001b[38;5;28;01mif\u001b[39;00m \u001b[38;5;28mself\u001b[39m\u001b[38;5;241m.\u001b[39m_unix_socket \u001b[38;5;28;01melse\u001b[39;00m \u001b[38;5;124mf\u001b[39m\u001b[38;5;124m\"\u001b[39m\u001b[38;5;132;01m{\u001b[39;00m\u001b[38;5;28mself\u001b[39m\u001b[38;5;241m.\u001b[39m_host\u001b[38;5;132;01m}\u001b[39;00m\u001b[38;5;124m:\u001b[39m\u001b[38;5;132;01m{\u001b[39;00m\u001b[38;5;28mself\u001b[39m\u001b[38;5;241m.\u001b[39m_port\u001b[38;5;132;01m}\u001b[39;00m\u001b[38;5;124m\"\u001b[39m\n\u001b[1;32m    719\u001b[0m     )\n",
      "\u001b[0;31mProgrammingError\u001b[0m: 1146 (42S02): Table 'db_subqueries.Series' doesn't exist"
     ]
    }
   ],
   "source": [
    "select_query = \"\"\"WITH Series AS\n",
    "(\n",
    "SELECT 1 AS MyNumber\n",
    "UNION ALL\n",
    "SELECT MyNumber + 1 \n",
    "FROM Series\n",
    "WHERE MyNumber < 20\n",
    ")\n",
    "-- Main Query\n",
    "SELECT * FROM Series\n",
    "\"\"\"\n",
    "\n",
    "execute_display_query_results(select_query)"
   ]
  },
  {
   "cell_type": "code",
   "execution_count": null,
   "id": "0471fe1d-ca92-4ea4-862f-e9fe3c3cac71",
   "metadata": {},
   "outputs": [],
   "source": []
  }
 ],
 "metadata": {
  "kernelspec": {
   "display_name": "Python 3 (ipykernel)",
   "language": "python",
   "name": "python3"
  },
  "language_info": {
   "codemirror_mode": {
    "name": "ipython",
    "version": 3
   },
   "file_extension": ".py",
   "mimetype": "text/x-python",
   "name": "python",
   "nbconvert_exporter": "python",
   "pygments_lexer": "ipython3",
   "version": "3.11.7"
  }
 },
 "nbformat": 4,
 "nbformat_minor": 5
}
