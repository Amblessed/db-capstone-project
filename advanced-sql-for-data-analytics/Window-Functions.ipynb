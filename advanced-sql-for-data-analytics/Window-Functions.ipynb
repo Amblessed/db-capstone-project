{
 "cells": [
  {
   "cell_type": "code",
   "execution_count": 1,
   "id": "f09aee95-5a91-4e71-bb10-8a24323d8763",
   "metadata": {},
   "outputs": [],
   "source": [
    "import os\n",
    "import mysql.connector as connector\n",
    "import logging\n",
    "from time import time"
   ]
  },
  {
   "cell_type": "markdown",
   "id": "fcdb40ae-233c-4330-b6d2-de6a9c0fa57c",
   "metadata": {},
   "source": [
    "## Create logger"
   ]
  },
  {
   "cell_type": "code",
   "execution_count": 2,
   "id": "51188e56-7676-4f1f-b410-6fb7c5a86e59",
   "metadata": {},
   "outputs": [],
   "source": [
    "logger = logging.getLogger(\"[Window Functions MySQL]\")\n",
    "if os.path.exists(\"../log/window-fxn.log\"):\n",
    "  os.remove(\"../log/window-fxn.log\")\n",
    "logging.basicConfig(filename='../log/window-fxn.log', encoding='utf-8', level=logging.DEBUG, format='%(asctime)s ==> %(message)s', datefmt='%m/%d/%Y %I:%M:%S')"
   ]
  },
  {
   "cell_type": "markdown",
   "id": "d6a74a27-e3a4-4679-9a90-b3c0ec2a25f5",
   "metadata": {},
   "source": [
    "## Create Connection"
   ]
  },
  {
   "cell_type": "code",
   "execution_count": 3,
   "id": "88c80307-0b1a-4f2f-a32e-419b58073e8d",
   "metadata": {},
   "outputs": [
    {
     "name": "stdout",
     "output_type": "stream",
     "text": [
      "Connection established between MySQL and Python\n"
     ]
    }
   ],
   "source": [
    "logger.info(\"Creating a connection between MySQL and Python\")\n",
    "dbconfig={\"user\":\"root\", \"password\":os.environ[\"MYSQL_ROOT_PASSWORD\"], \"port\":33061, \"host\":\"localhost\"}\n",
    "connection=connector.connect(**dbconfig)\n",
    "print(\"Connection established between MySQL and Python\")\n",
    "logger.info(\"Connection established between MySQL and Python\")"
   ]
  },
  {
   "cell_type": "markdown",
   "id": "435ddebc-fe41-4c4b-bc4d-fc79547fbb88",
   "metadata": {},
   "source": [
    "## Create Cursor Object"
   ]
  },
  {
   "cell_type": "code",
   "execution_count": 4,
   "id": "f2a43a3e-7735-455e-a7d8-74a487001015",
   "metadata": {},
   "outputs": [
    {
     "name": "stdout",
     "output_type": "stream",
     "text": [
      "Creating cursor object from connection\n",
      "Cursor object created to communicate with MySQL\n"
     ]
    }
   ],
   "source": [
    "print(\"Creating cursor object from connection\")\n",
    "logger.info(\"Creating first cursor object from connection\")\n",
    "cursor = connection.cursor()\n",
    "print(\"Cursor object created to communicate with MySQL\")\n",
    "logger.info(\"Cursor object created to communicate with MySQL\")"
   ]
  },
  {
   "cell_type": "markdown",
   "id": "1c4470e2-984b-43e6-bdda-d1ea34092e17",
   "metadata": {},
   "source": [
    "## Create Database"
   ]
  },
  {
   "cell_type": "code",
   "execution_count": 5,
   "id": "c348f5f5-0022-48ab-b1e2-6efe057cd25b",
   "metadata": {},
   "outputs": [
    {
     "name": "stdout",
     "output_type": "stream",
     "text": [
      "Creating Database db_window_fxn.\n",
      "db_window_fxn Database created.\n"
     ]
    }
   ],
   "source": [
    "database_name: str = \"db_window_fxn\"\n",
    "drop_database_query: str = f\"\"\"DROP DATABASE IF EXISTS {database_name}\"\"\"\n",
    "cursor.execute(drop_database_query)\n",
    "logger.info(f\"Dropping Database {database_name} if it already exists.\")\n",
    "\n",
    "create_database_query: str = f\"\"\"CREATE DATABASE IF NOT EXISTS {database_name}\"\"\"\n",
    "print(f\"Creating Database {database_name}.\")\n",
    "logger.info(f\"Creating Database {database_name}.\")\n",
    "cursor.execute(create_database_query)\n",
    "logger.info(f\"{database_name} Database created.\")\n",
    "print(f\"{database_name} Database created.\")"
   ]
  },
  {
   "cell_type": "markdown",
   "id": "e9d69756-186f-4e3f-9e47-da0ecd3d2aca",
   "metadata": {},
   "source": [
    "## Confirm that database was actually created"
   ]
  },
  {
   "cell_type": "code",
   "execution_count": 6,
   "id": "46a1ba24-336c-4b60-b537-af9fabafa187",
   "metadata": {},
   "outputs": [
    {
     "name": "stdout",
     "output_type": "stream",
     "text": [
      "Database 'db_window_fxn' was successfully created\n"
     ]
    }
   ],
   "source": [
    "cursor.execute(\"SHOW DATABASES;\")\n",
    "databases = cursor.fetchall()\n",
    "isCreated = False\n",
    "for database in databases:\n",
    "    db_name: str = database[0]\n",
    "    if db_name == database_name:\n",
    "        isCreated = True\n",
    "        print(f\"Database '{database_name}' was successfully created\")\n",
    "        logger.info(f\"Database '{database_name}' was successfully created.\")\n",
    "        break\n",
    "\n",
    "if not isCreated:\n",
    "    print(f\"Database '{database_name}' was not successfully created\")\n",
    "    logger.info(f\"Database '{database_name}' was not successfully created.\")\n",
    "    sys.exit()"
   ]
  },
  {
   "cell_type": "markdown",
   "id": "e89db2a9-0bd4-4f1c-a9e4-8bf9c07f3920",
   "metadata": {},
   "source": [
    "## Set new created database as database to use"
   ]
  },
  {
   "cell_type": "code",
   "execution_count": 7,
   "id": "101568a3-3891-46fe-8313-996ce6449c6c",
   "metadata": {},
   "outputs": [
    {
     "name": "stdout",
     "output_type": "stream",
     "text": [
      "Database 'db_window_fxn' set for use.\n"
     ]
    }
   ],
   "source": [
    "# Set the new created database as the database to use\n",
    "cursor.execute(f\"USE {database_name}\")\n",
    "print(f\"Database '{database_name}' set for use.\")\n",
    "logger.info(f\"Database '{database_name}' set for use.\")"
   ]
  },
  {
   "cell_type": "markdown",
   "id": "b7da70b8-5743-4591-b585-cee59bf56067",
   "metadata": {},
   "source": [
    "## Create tables"
   ]
  },
  {
   "cell_type": "code",
   "execution_count": 8,
   "id": "88525e97-8a6e-401f-9918-1fce0b91e476",
   "metadata": {},
   "outputs": [],
   "source": [
    "create_orders_query = \"\"\"CREATE TABLE IF NOT EXISTS tbl_orders (OrderID INT NOT NULL PRIMARY KEY, ProductID INT, CustomerID INT, SalesPersonID INT, OrderDate Date, ShipDate DATE, OrderStatus VARCHAR(50), ShipAddress VARCHAR(255), BillAddress VARCHAR(255), \n",
    "Quantity INT, Sales INT, CreationTime TimeStamp);\"\"\"\n",
    "cursor.execute(create_orders_query)\n",
    "logger.info(\"tbl_orders table created.\")\n",
    "\n",
    "create_orders_archive_query = \"\"\"CREATE TABLE IF NOT EXISTS tbl_orders_archive (OrderID INT NOT NULL, ProductID INT, CustomerID INT, SalesPersonID INT, OrderDate Date, ShipDate DATE, OrderStatus VARCHAR(50), ShipAddress VARCHAR(255), BillAddress VARCHAR(255), \n",
    "Quantity INT, Sales INT, CreationTime TimeStamp);\"\"\"\n",
    "cursor.execute(create_orders_archive_query)\n",
    "logger.info(\"tbl_orders table created.\")\n",
    "\n",
    "create_products_query = \"\"\"CREATE TABLE IF NOT EXISTS tbl_products (ProductID INT NOT NULL PRIMARY KEY, Product VARCHAR(50), Category VARCHAR(50), Price INT);\"\"\"\n",
    "cursor.execute(create_products_query)\n",
    "logger.info(\"tbl_products table created.\")\n",
    "\n",
    "create_customers_query = \"\"\"CREATE TABLE IF NOT EXISTS tbl_customers (CustomerID INT NOT NULL PRIMARY KEY, FirstName VARCHAR(50), LastName VARCHAR(50), Country VARCHAR(50), Score INT);\"\"\"\n",
    "cursor.execute(create_customers_query)\n",
    "logger.info(\"tbl_customers table created.\")\n",
    "\n",
    "create_employees_query = \"\"\"CREATE TABLE IF NOT EXISTS tbl_employees (EmployeeID INT NOT NULL PRIMARY KEY, FirstName VARCHAR(50), LastName VARCHAR(50), Department VARCHAR(50), BirthDate Date, Gender CHAR(1), Salary INT, ManagerID INT);\"\"\"\n",
    "cursor.execute(create_employees_query)\n",
    "logger.info(\"tbl_employees table created.\")"
   ]
  },
  {
   "cell_type": "markdown",
   "id": "4a732b20-4267-4b5b-af3a-e59b94cf9f57",
   "metadata": {},
   "source": [
    "## Insert records into table"
   ]
  },
  {
   "cell_type": "code",
   "execution_count": 9,
   "id": "86f01aa5-c434-45a2-acbc-21b5f2caa4c6",
   "metadata": {},
   "outputs": [],
   "source": [
    "insert_into_orders_query = \"\"\"INSERT INTO tbl_orders(OrderID, ProductID, CustomerID, SalesPersonID, OrderDate, ShipDate, OrderStatus, ShipAddress, BillAddress, Quantity, Sales, CreationTime) VALUES\n",
    "(1, 101, 2, 3, '2025-01-01', '2025-01-05', 'Delivered', '9833 Mt. Dias Blv.', '1226 Shoe St.', 1, 10, '2025-01-01 12:34:56.0000000'),  \n",
    "(2, 102, 3,\t3, '2025-01-05', '2025-01-10', 'Shipped', '250 Race Court', NULL, 1, 15, '2025-01-05 23:22:04.0000000'),\n",
    "(3, 101, 1,\t5, '2025-01-10', '2025-01-25', 'Delivered', '8157 W. Book', '8157 W. Book', 2, 20, '2025-01-10 18:24:08.0000000'),\n",
    "(4, 105, 1, 3, '2025-01-20', '2025-01-25', 'Shipped', '5724 Victory Lane', '',\t2, 60, '2025-01-20 05:50:33.0000000'),\n",
    "(5, 104, 2, 5, '2025-02-01', '2025-02-05', 'Delivered', NULL , NULL , 1, 25, '2025-02-01 14:02:41.0000000'),\n",
    "(6, 104, 3, 5, '2025-02-05', '2025-02-10', 'Delivered', '1792 Belmont Rd.',NULL , 2, 50, '2025-02-06 15:34:57.0000000'),\n",
    "(7, 102, 1, 1, '2025-02-15', '2025-02-27', 'Delivered', '136 Balboa Court', '' , 2, 30, '2025-02-16 06:22:01.0000000'),\n",
    "(8, 101, 4, 3, '2025-02-18', '2025-02-27', 'Shipped', '2947 Vine Lane', '4311 Clay Rd', 3, 90, '2025-02-18 10:45:22.0000000'),\n",
    "(9, 101, 2, 3, '2025-03-10', '2025-03-15', 'Shipped', '3768 Door Way', '', 2, 20, '2025-03-10 12:59:04.0000000'),\n",
    "(10, 102, 3, 5, '2025-03-15', '2025-03-20', 'Shipped', NULL , NULL, 0, 60, '2025-03-16 23:25:15.0000000');\"\"\"\n",
    "cursor.execute(insert_into_orders_query)\n",
    "\n",
    "insert_into_orders_archive_query = \"\"\"INSERT INTO tbl_orders_archive(OrderID, ProductID, CustomerID, SalesPersonID, OrderDate, ShipDate, OrderStatus, ShipAddress, BillAddress, Quantity, Sales, CreationTime) VALUES\n",
    "(1, 101, 2, 3, '2025-01-01', '2025-01-05', 'Delivered', '9833 Mt. Dias Blv.', '1226 Shoe St.', 1, 10, '2025-01-01 12:34:56.0000000'),  \n",
    "(2, 102, 3,\t3, '2025-01-05', '2025-01-10', 'Shipped', '250 Race Court', NULL, 1, 15, '2025-01-05 23:22:04.0000000'),\n",
    "(3, 101, 1,\t5, '2025-01-10', '2025-01-25', 'Delivered', '8157 W. Book', '8157 W. Book', 2, 20, '2025-01-10 18:24:08.0000000'),\n",
    "(4, 105, 1, 3, '2025-01-20', '2025-01-25', 'Shipped', '5724 Victory Lane', '',\t2, 60, '2025-01-20 05:50:33.0000000'),\n",
    "(4, 104, 2, 5, '2025-02-01', '2025-02-05', 'Delivered', NULL , NULL , 1, 25, '2025-02-01 14:02:41.0000000'),\n",
    "(5, 104, 3, 5, '2025-02-05', '2025-02-10', 'Delivered', '1792 Belmont Rd.',NULL , 2, 50, '2025-02-06 15:34:57.0000000'),\n",
    "(6, 102, 1, 1, '2025-02-15', '2025-02-27', 'Delivered', '136 Balboa Court', '' , 2, 30, '2025-02-16 06:22:01.0000000'),\n",
    "(6, 101, 4, 3, '2025-02-18', '2025-02-27', 'Shipped', '2947 Vine Lane', '4311 Clay Rd', 3, 90, '2025-02-18 10:45:22.0000000'),\n",
    "(6, 101, 2, 3, '2025-03-10', '2025-03-15', 'Shipped', '3768 Door Way', '', 2, 20, '2025-03-10 12:59:04.0000000'),\n",
    "(7, 102, 3, 5, '2025-03-15', '2025-03-20', 'Shipped', NULL , NULL, 0, 60, '2025-03-16 23:25:15.0000000');\"\"\"\n",
    "cursor.execute(insert_into_orders_archive_query)\n",
    "\n",
    "\n",
    "insert_into_products_query = \"\"\"INSERT INTO tbl_products(ProductID, Product, Category, Price) VALUES\n",
    "(101, 'Bottle', 'Accessories', 10),  \n",
    "(102, 'Tire', 'Accessories', 15),\n",
    "(103, 'Socks', 'Clothing', 20),  \n",
    "(104, 'Caps', 'Clothing', 25),\n",
    "(105, 'Gloves', 'Clothing', 30);\"\"\"\n",
    "cursor.execute(insert_into_products_query)\n",
    "\n",
    "\n",
    "insert_into_customers_query = \"\"\"INSERT INTO tbl_customers(CustomerID, FirstName, LastName, Country, Score) VALUES\n",
    "(1, 'Jossef', 'Goldberg', 'Germany', 350),\n",
    "(2, 'Kevin', 'Brown', 'USA', 900),\n",
    "(3, 'Mary', NULL, 'USA', 750),\n",
    "(4, 'Mark', 'Schwarz', 'Germany', 500),\n",
    "(5, 'Anna', 'Adams', 'USA', NULL);\"\"\"\n",
    "cursor.execute(insert_into_customers_query)\n",
    "\n",
    "\n",
    "insert_into_employees_query = \"\"\"INSERT INTO tbl_employees(EmployeeID, FirstName, LastName, Department, BirthDate, Gender, Salary, ManagerID) VALUES\n",
    "(1, 'Frank', 'Lee', 'Marketing', '1988-12-05', 'M', 55000, NULL),\n",
    "(2, 'Kevin', 'Brown', 'Marketing', '1972-11-25', 'M', 65000, 1),\n",
    "(3, 'Mary', NULL, 'Sales', '1986-01-05', 'F', 75000, 1), \n",
    "(4, 'Michael', 'Ray', 'Sales', '1977-02-10', 'M', 90000, 2), \n",
    "(5, 'Carol', 'Baker', 'Sales', '1982-02-11', 'F', 55000, 3);\"\"\"\n",
    "\n",
    "cursor.execute(insert_into_employees_query)\n",
    "\n",
    "\n",
    "connection.commit()"
   ]
  },
  {
   "cell_type": "markdown",
   "id": "cdf544a7-0a42-40f8-a6b3-613dc7e05d88",
   "metadata": {},
   "source": [
    "## Function to Display results\n",
    "This function is to display the outputs of the mysql query in a nice format similar to that obtained when running the query in mysql cli"
   ]
  },
  {
   "cell_type": "code",
   "execution_count": 59,
   "id": "62d024a9-a2df-4c63-ac85-eeeb1fd51a57",
   "metadata": {},
   "outputs": [],
   "source": [
    "def select_all_query(table_name: str):\n",
    "    query = f\"\"\"SELECT * FROM {table_name} LIMIT 10;\"\"\"\n",
    "    return query\n",
    "\n",
    "\n",
    "def display_results(table_column_names: list, results: list, exec_time):\n",
    "    table_columns_length = [len(x) for x in table_column_names]\n",
    "    for result in results:\n",
    "        for value in range(len(result)):\n",
    "            row_data = result[value]\n",
    "            if row_data:\n",
    "                row_data = str(row_data)\n",
    "                if len(row_data) > table_columns_length[value]:\n",
    "                    table_columns_length[value] = len(row_data)\n",
    "    dashes_plus = \"\"\n",
    "    for num in range(len(table_columns_length)):\n",
    "        dashes_plus = dashes_plus + \"+\" + '-'*(table_columns_length[num]+2)\n",
    "    dashes_plus = dashes_plus + \"+\"\n",
    "    \n",
    "    print(dashes_plus)\n",
    "    \n",
    "    table_headers = \"\"\n",
    "    for num in range(len(table_column_names)):\n",
    "        table_headers = table_headers + f\"| {table_column_names[num]:^{table_columns_length[num]}} \"\n",
    "    table_headers = table_headers + \"|\"\n",
    "    print(table_headers)\n",
    "    \n",
    "    print(dashes_plus)\n",
    "    \n",
    "    for result in results:\n",
    "        table_row = \"\"\n",
    "        for value in range(len(result)):\n",
    "            row_data = result[value]\n",
    "            if row_data is None:\n",
    "                row_data = \"NULL\"            \n",
    "            table_row = table_row + \"|\" + f\"{str(row_data):^{table_columns_length[value]+2}}\"\n",
    "        print(table_row + \"|\")\n",
    "    print(dashes_plus)\n",
    "    num_rows: int = len(results)\n",
    "    message: str = \"row returned\" if num_rows == 1 else \"rows returned\"\n",
    "    print(f\"{num_rows} {message} in set: ({exec_time} sec)\")\n",
    "\n",
    "def execute_display_query_results(query: str = \"\", table_column_names: list = [], results: list = []): \n",
    "    if len(query) > 0 and (table_column_names or results):\n",
    "        print(\"You can only pass in the query alone or the table_column_names and results list\")\n",
    "        assert False\n",
    "    if query and not table_column_names and not results:\n",
    "        logger.info(f\"Executing the query: {query}\")\n",
    "        init_time = time()\n",
    "        cursor.execute(query)\n",
    "        end_time = time()\n",
    "        exec_time = end_time - init_time\n",
    "        results = cursor.fetchall()    \n",
    "        table_column_names = cursor.column_names\n",
    "    \n",
    "    display_results(table_column_names, results, round(exec_time, 3))"
   ]
  },
  {
   "cell_type": "code",
   "execution_count": 11,
   "id": "17f2cb5f-3f4f-46ef-818c-f1036b6c8d18",
   "metadata": {},
   "outputs": [
    {
     "name": "stdout",
     "output_type": "stream",
     "text": [
      "\n",
      "tbl_orders\n",
      "+---------+-----------+------------+---------------+------------+------------+-------------+--------------------+---------------+----------+-------+---------------------+\n",
      "| OrderID | ProductID | CustomerID | SalesPersonID | OrderDate  |  ShipDate  | OrderStatus |    ShipAddress     |  BillAddress  | Quantity | Sales |    CreationTime     |\n",
      "+---------+-----------+------------+---------------+------------+------------+-------------+--------------------+---------------+----------+-------+---------------------+\n",
      "|    1    |    101    |     2      |       3       | 2025-01-01 | 2025-01-05 |  Delivered  | 9833 Mt. Dias Blv. | 1226 Shoe St. |    1     |  10   | 2025-01-01 12:34:56 |\n",
      "|    2    |    102    |     3      |       3       | 2025-01-05 | 2025-01-10 |   Shipped   |   250 Race Court   |     NULL      |    1     |  15   | 2025-01-05 23:22:04 |\n",
      "|    3    |    101    |     1      |       5       | 2025-01-10 | 2025-01-25 |  Delivered  |    8157 W. Book    | 8157 W. Book  |    2     |  20   | 2025-01-10 18:24:08 |\n",
      "|    4    |    105    |     1      |       3       | 2025-01-20 | 2025-01-25 |   Shipped   | 5724 Victory Lane  |               |    2     |  60   | 2025-01-20 05:50:33 |\n",
      "|    5    |    104    |     2      |       5       | 2025-02-01 | 2025-02-05 |  Delivered  |        NULL        |     NULL      |    1     |  25   | 2025-02-01 14:02:41 |\n",
      "|    6    |    104    |     3      |       5       | 2025-02-05 | 2025-02-10 |  Delivered  |  1792 Belmont Rd.  |     NULL      |    2     |  50   | 2025-02-06 15:34:57 |\n",
      "|    7    |    102    |     1      |       1       | 2025-02-15 | 2025-02-27 |  Delivered  |  136 Balboa Court  |               |    2     |  30   | 2025-02-16 06:22:01 |\n",
      "|    8    |    101    |     4      |       3       | 2025-02-18 | 2025-02-27 |   Shipped   |   2947 Vine Lane   | 4311 Clay Rd  |    3     |  90   | 2025-02-18 10:45:22 |\n",
      "|    9    |    101    |     2      |       3       | 2025-03-10 | 2025-03-15 |   Shipped   |   3768 Door Way    |               |    2     |  20   | 2025-03-10 12:59:04 |\n",
      "|   10    |    102    |     3      |       5       | 2025-03-15 | 2025-03-20 |   Shipped   |        NULL        |     NULL      |    0     |  60   | 2025-03-16 23:25:15 |\n",
      "+---------+-----------+------------+---------------+------------+------------+-------------+--------------------+---------------+----------+-------+---------------------+\n",
      "10 rows returned in set: (0.001 sec)\n",
      "\n",
      "tbl_products\n",
      "+-----------+---------+-------------+-------+\n",
      "| ProductID | Product |  Category   | Price |\n",
      "+-----------+---------+-------------+-------+\n",
      "|    101    | Bottle  | Accessories |  10   |\n",
      "|    102    |  Tire   | Accessories |  15   |\n",
      "|    103    |  Socks  |  Clothing   |  20   |\n",
      "|    104    |  Caps   |  Clothing   |  25   |\n",
      "|    105    | Gloves  |  Clothing   |  30   |\n",
      "+-----------+---------+-------------+-------+\n",
      "5 rows returned in set: (0.0 sec)\n",
      "\n",
      "tbl_customers\n",
      "+------------+-----------+----------+---------+-------+\n",
      "| CustomerID | FirstName | LastName | Country | Score |\n",
      "+------------+-----------+----------+---------+-------+\n",
      "|     1      |  Jossef   | Goldberg | Germany |  350  |\n",
      "|     2      |   Kevin   |  Brown   |   USA   |  900  |\n",
      "|     3      |   Mary    |   NULL   |   USA   |  750  |\n",
      "|     4      |   Mark    | Schwarz  | Germany |  500  |\n",
      "|     5      |   Anna    |  Adams   |   USA   | NULL  |\n",
      "+------------+-----------+----------+---------+-------+\n",
      "5 rows returned in set: (0.0 sec)\n",
      "\n",
      "tbl_employees\n",
      "+------------+-----------+----------+------------+------------+--------+--------+-----------+\n",
      "| EmployeeID | FirstName | LastName | Department | BirthDate  | Gender | Salary | ManagerID |\n",
      "+------------+-----------+----------+------------+------------+--------+--------+-----------+\n",
      "|     1      |   Frank   |   Lee    | Marketing  | 1988-12-05 |   M    | 55000  |   NULL    |\n",
      "|     2      |   Kevin   |  Brown   | Marketing  | 1972-11-25 |   M    | 65000  |     1     |\n",
      "|     3      |   Mary    |   NULL   |   Sales    | 1986-01-05 |   F    | 75000  |     1     |\n",
      "|     4      |  Michael  |   Ray    |   Sales    | 1977-02-10 |   M    | 90000  |     2     |\n",
      "|     5      |   Carol   |  Baker   |   Sales    | 1982-02-11 |   F    | 55000  |     3     |\n",
      "+------------+-----------+----------+------------+------------+--------+--------+-----------+\n",
      "5 rows returned in set: (0.001 sec)\n"
     ]
    }
   ],
   "source": [
    "print(\"\\ntbl_orders\")\n",
    "execute_display_query_results(select_all_query(\"tbl_orders\"))\n",
    "print(\"\\ntbl_products\")\n",
    "execute_display_query_results(select_all_query(\"tbl_products\"))\n",
    "print(\"\\ntbl_customers\")\n",
    "execute_display_query_results(select_all_query(\"tbl_customers\"))\n",
    "print(\"\\ntbl_employees\")\n",
    "execute_display_query_results(select_all_query(\"tbl_employees\"))"
   ]
  },
  {
   "cell_type": "markdown",
   "id": "079de0b3-2544-4191-8488-6238f2bbcf2f",
   "metadata": {},
   "source": [
    "# Window Functions\n",
    "Perform calculations (e.g aggregation) on a specific subset of data, without losing the level of details of the rows\n",
    "- **GroupBy**: Returns a single for each group. Changes the granularity. ```**AGGREGATE FXNS**```(COUNT(expr), SUM(expr), AVG(expr), MIN(expr), MAX(expr))\n",
    "- **Window**: Returns a result for each row. The granularity stays the same. ```**AGGREGATE FXNS**```(COUNT(expr), SUM(expr), AVG(expr), MIN(expr), MAX(expr)), ```**RANK FXNS**```(ROW_NUMBER(), RANK(), DENSE_RANK(), CUME_DIST(), PERCENT_RANK(), NTILE(n)),```**VALUE**(Analytics) FXNS```(LEAD(expr, offset, default), LAG(expr, offset, default), FIRST_VALUE(expr), LAST_VALUE(expr))"
   ]
  },
  {
   "cell_type": "markdown",
   "id": "fecb9b55-cb85-4c09-9cc2-88cecdb44241",
   "metadata": {},
   "source": [
    "# Window Function Syntax \n",
    "| **Window Function** |     (Over Clause) | **Partition Clause** | | **Order Clause** | | **Frame Clause** |\n",
    "\n",
    "Over Clause: Partition Clause, Order Clause, Frame Clause\n",
    "\n",
    "```sql \n",
    "AVG(Sales) OVER(PARTITION BY Category ORDER BY OrderDate ROWS UNBOUNDED PRECEDING)\n",
    "```\n",
    "- The **OVER** clause tells SQL that the function used is a window function. It defines a window or subset of data\n",
    "- THE **PARTITION BY**: Divides the result set into partitions (Windows). divides the rows into groups, based on the column/s. Partition By Clause is optional  \n",
    "  Without Partition By: ```SUM(Sales) OVER()```. ==> Total Sales across all rows  \n",
    "  Partition By Single Column:  ```SUM(Sales) OVER(PARTITION BY Product)```. ==> Total sales for each product  \n",
    "  Partition By Combined-Columns:  ```SUM(Sales) OVER(PARTITION BY Product, OrderStatus)```. ==> Total sales for each combination of Product and OrderStatus\n",
    "\n",
    "Flexibility of Window: Allows aggregation of data at different granularities within the same query"
   ]
  },
  {
   "cell_type": "markdown",
   "id": "1047613d-3571-4ea4-967e-8990372d7a60",
   "metadata": {},
   "source": [
    "# Task\n",
    "\n",
    "## Task 1\n",
    "Find the total sales across all orders"
   ]
  },
  {
   "cell_type": "code",
   "execution_count": 12,
   "id": "276c9bb7-2456-4eb2-8d1e-5f2bea4d11c1",
   "metadata": {},
   "outputs": [
    {
     "name": "stdout",
     "output_type": "stream",
     "text": [
      "+------------+\n",
      "| TotalSales |\n",
      "+------------+\n",
      "|    380     |\n",
      "+------------+\n",
      "1 row returned in set: (0.004 sec)\n"
     ]
    }
   ],
   "source": [
    "select_query = \"\"\"SELECT SUM(Sales) AS TotalSales FROM tbl_orders;\"\"\"\n",
    "execute_display_query_results(select_query)"
   ]
  },
  {
   "cell_type": "markdown",
   "id": "229b584e-42e9-438c-88ab-1d7c634401c8",
   "metadata": {},
   "source": [
    "## Task 2\n",
    "Find the total sales for each product"
   ]
  },
  {
   "cell_type": "code",
   "execution_count": 13,
   "id": "ef368c19-4b23-41f1-8fe4-c1bfaddf5532",
   "metadata": {},
   "outputs": [
    {
     "name": "stdout",
     "output_type": "stream",
     "text": [
      "+-----------+------------+\n",
      "| productid | TotalSales |\n",
      "+-----------+------------+\n",
      "|    101    |    140     |\n",
      "|    102    |    105     |\n",
      "|    105    |     60     |\n",
      "|    104    |     75     |\n",
      "+-----------+------------+\n",
      "4 rows returned in set: (0.001 sec)\n"
     ]
    }
   ],
   "source": [
    "select_query = \"\"\"SELECT productid, SUM(sales) AS TotalSales FROM tbl_orders GROUP BY productid;\"\"\"\n",
    "execute_display_query_results(select_query)"
   ]
  },
  {
   "cell_type": "markdown",
   "id": "69c77e28-e539-41ac-9411-c51fe482e112",
   "metadata": {},
   "source": [
    "## Task 3\n",
    "Find the total sales for each product, addditionally provide details such as orderid and order date"
   ]
  },
  {
   "cell_type": "code",
   "execution_count": 14,
   "id": "b41882ba-aef6-4a24-88e6-d1b01e622d1b",
   "metadata": {},
   "outputs": [
    {
     "name": "stdout",
     "output_type": "stream",
     "text": [
      "+---------+------------+-----------+------------+\n",
      "| OrderID | OrderDate  | ProductID | TotalSales |\n",
      "+---------+------------+-----------+------------+\n",
      "|    1    | 2025-01-01 |    101    |     10     |\n",
      "|    2    | 2025-01-05 |    102    |     15     |\n",
      "|    3    | 2025-01-10 |    101    |     20     |\n",
      "|    4    | 2025-01-20 |    105    |     60     |\n",
      "|    5    | 2025-02-01 |    104    |     25     |\n",
      "|    6    | 2025-02-05 |    104    |     50     |\n",
      "|    7    | 2025-02-15 |    102    |     30     |\n",
      "|    8    | 2025-02-18 |    101    |     90     |\n",
      "|    9    | 2025-03-10 |    101    |     20     |\n",
      "|   10    | 2025-03-15 |    102    |     60     |\n",
      "+---------+------------+-----------+------------+\n",
      "10 rows returned in set: (0.001 sec)\n"
     ]
    }
   ],
   "source": [
    "select_query = \"\"\"SELECT OrderID, OrderDate, ProductID, SUM(Sales) AS TotalSales FROM tbl_orders GROUP BY OrderID, OrderDate, ProductID;\"\"\"\n",
    "execute_display_query_results(select_query)\n",
    "\n",
    "## Group By limits: Can't do aggregations and provide details at same time"
   ]
  },
  {
   "cell_type": "code",
   "execution_count": 15,
   "id": "c69cbb2c-0cad-4dc5-80e7-0352cde97044",
   "metadata": {},
   "outputs": [
    {
     "name": "stdout",
     "output_type": "stream",
     "text": [
      "+------------+\n",
      "| TotalSales |\n",
      "+------------+\n",
      "|    380     |\n",
      "|    380     |\n",
      "|    380     |\n",
      "|    380     |\n",
      "|    380     |\n",
      "|    380     |\n",
      "|    380     |\n",
      "|    380     |\n",
      "|    380     |\n",
      "|    380     |\n",
      "+------------+\n",
      "10 rows returned in set: (0.001 sec)\n"
     ]
    }
   ],
   "source": [
    "# Using OVER indicates that it is a window function. Window functions returns a result for each row\n",
    "select_query = \"\"\"SELECT SUM(Sales) OVER() AS TotalSales FROM tbl_orders;\"\"\"\n",
    "execute_display_query_results(select_query)"
   ]
  },
  {
   "cell_type": "code",
   "execution_count": 16,
   "id": "c2d9cfb6-54c3-41e2-bc3d-df42bf2c3ae0",
   "metadata": {},
   "outputs": [
    {
     "name": "stdout",
     "output_type": "stream",
     "text": [
      "+---------------------+\n",
      "| TotalSalesByProduct |\n",
      "+---------------------+\n",
      "|         140         |\n",
      "|         140         |\n",
      "|         140         |\n",
      "|         140         |\n",
      "|         105         |\n",
      "|         105         |\n",
      "|         105         |\n",
      "|         75          |\n",
      "|         75          |\n",
      "|         60          |\n",
      "+---------------------+\n",
      "10 rows returned in set: (0.001 sec)\n"
     ]
    }
   ],
   "source": [
    "select_query = \"\"\"SELECT SUM(Sales) OVER(PARTITION BY productid) AS TotalSalesByProduct FROM tbl_orders;\"\"\"\n",
    "execute_display_query_results(select_query)"
   ]
  },
  {
   "cell_type": "code",
   "execution_count": 17,
   "id": "d599b87c-2ae1-4811-962a-dc4f694010ef",
   "metadata": {},
   "outputs": [
    {
     "name": "stdout",
     "output_type": "stream",
     "text": [
      "+---------+------------+-----------+---------------------+\n",
      "| orderid | orderdate  | productid | TotalSalesByProduct |\n",
      "+---------+------------+-----------+---------------------+\n",
      "|    1    | 2025-01-01 |    101    |         140         |\n",
      "|    3    | 2025-01-10 |    101    |         140         |\n",
      "|    8    | 2025-02-18 |    101    |         140         |\n",
      "|    9    | 2025-03-10 |    101    |         140         |\n",
      "|    2    | 2025-01-05 |    102    |         105         |\n",
      "|    7    | 2025-02-15 |    102    |         105         |\n",
      "|   10    | 2025-03-15 |    102    |         105         |\n",
      "|    5    | 2025-02-01 |    104    |         75          |\n",
      "|    6    | 2025-02-05 |    104    |         75          |\n",
      "|    4    | 2025-01-20 |    105    |         60          |\n",
      "+---------+------------+-----------+---------------------+\n",
      "10 rows returned in set: (0.001 sec)\n"
     ]
    }
   ],
   "source": [
    "select_query = \"\"\"SELECT orderid, orderdate, productid, SUM(Sales) OVER(PARTITION BY productid) AS TotalSalesByProduct FROM tbl_orders;\"\"\"\n",
    "execute_display_query_results(select_query)"
   ]
  },
  {
   "cell_type": "markdown",
   "id": "c491a90c-a39b-4499-9466-87405d74d2a4",
   "metadata": {},
   "source": [
    "## Task 4:\n",
    "- Find the total sales across all orders\n",
    "- Find the total sales for each product\n",
    "- Find the total sales for each combination of product and order status\n",
    "- Additionally provide details such as orderid, orderdate "
   ]
  },
  {
   "cell_type": "code",
   "execution_count": 18,
   "id": "1940c369-6d79-4f55-9d32-ae550f0c3a77",
   "metadata": {},
   "outputs": [
    {
     "name": "stdout",
     "output_type": "stream",
     "text": [
      "+---------+------------+-----------+-------+-------------+------------+---------------------+-------------------------------+\n",
      "| orderid | orderdate  | productid | sales | orderstatus | TotalSales | TotalSalesByProduct | TotalSalesByProductsAndStatus |\n",
      "+---------+------------+-----------+-------+-------------+------------+---------------------+-------------------------------+\n",
      "|    1    | 2025-01-01 |    101    |  10   |  Delivered  |    380     |         140         |              30               |\n",
      "|    3    | 2025-01-10 |    101    |  20   |  Delivered  |    380     |         140         |              30               |\n",
      "|    8    | 2025-02-18 |    101    |  90   |   Shipped   |    380     |         140         |              110              |\n",
      "|    9    | 2025-03-10 |    101    |  20   |   Shipped   |    380     |         140         |              110              |\n",
      "|    7    | 2025-02-15 |    102    |  30   |  Delivered  |    380     |         105         |              30               |\n",
      "|    2    | 2025-01-05 |    102    |  15   |   Shipped   |    380     |         105         |              75               |\n",
      "|   10    | 2025-03-15 |    102    |  60   |   Shipped   |    380     |         105         |              75               |\n",
      "|    5    | 2025-02-01 |    104    |  25   |  Delivered  |    380     |         75          |              75               |\n",
      "|    6    | 2025-02-05 |    104    |  50   |  Delivered  |    380     |         75          |              75               |\n",
      "|    4    | 2025-01-20 |    105    |  60   |   Shipped   |    380     |         60          |              60               |\n",
      "+---------+------------+-----------+-------+-------------+------------+---------------------+-------------------------------+\n",
      "10 rows returned in set: (0.001 sec)\n"
     ]
    }
   ],
   "source": [
    "select_query = \"\"\"SELECT orderid, orderdate, productid, sales, orderstatus,\n",
    "SUM(sales) OVER() AS TotalSales,\n",
    "SUM(Sales) OVER(PARTITION BY productid) AS TotalSalesByProduct, \n",
    "SUM(Sales) OVER(PARTITION BY productid, orderstatus) AS TotalSalesByProductsAndStatus \n",
    "FROM tbl_orders;\"\"\"\n",
    "execute_display_query_results(select_query)"
   ]
  },
  {
   "cell_type": "code",
   "execution_count": 19,
   "id": "47642efc-89c7-49fb-a26a-b58b0ba1a2d1",
   "metadata": {},
   "outputs": [
    {
     "name": "stdout",
     "output_type": "stream",
     "text": [
      "+---------+------------+-------+-----------+-------------+-------------------------------+\n",
      "| orderid | orderdate  | sales | productid | orderstatus | TotalSalesByProductsAndStatus |\n",
      "+---------+------------+-------+-----------+-------------+-------------------------------+\n",
      "|    1    | 2025-01-01 |  10   |    101    |  Delivered  |              30               |\n",
      "|    3    | 2025-01-10 |  20   |    101    |  Delivered  |              30               |\n",
      "|    8    | 2025-02-18 |  90   |    101    |   Shipped   |              110              |\n",
      "|    9    | 2025-03-10 |  20   |    101    |   Shipped   |              110              |\n",
      "|    7    | 2025-02-15 |  30   |    102    |  Delivered  |              30               |\n",
      "|    2    | 2025-01-05 |  15   |    102    |   Shipped   |              75               |\n",
      "|   10    | 2025-03-15 |  60   |    102    |   Shipped   |              75               |\n",
      "|    5    | 2025-02-01 |  25   |    104    |  Delivered  |              75               |\n",
      "|    6    | 2025-02-05 |  50   |    104    |  Delivered  |              75               |\n",
      "|    4    | 2025-01-20 |  60   |    105    |   Shipped   |              60               |\n",
      "+---------+------------+-------+-----------+-------------+-------------------------------+\n",
      "10 rows returned in set: (0.001 sec)\n"
     ]
    }
   ],
   "source": [
    "# Find the total sales for each combination of product and order status\n",
    "select_query = \"\"\"SELECT orderid, orderdate, sales, productid, orderstatus,\n",
    "SUM(Sales) OVER(PARTITION BY productid, orderstatus) AS TotalSalesByProductsAndStatus \n",
    "FROM tbl_orders;\"\"\"\n",
    "execute_display_query_results(select_query)"
   ]
  },
  {
   "cell_type": "markdown",
   "id": "7e6c3c6e-fa7a-4884-af35-7482d0c59ea5",
   "metadata": {},
   "source": [
    "## Task 5 \n",
    "Rank each order based on their sales from highest to lowest, additionally provide details such as orderid and orderdate"
   ]
  },
  {
   "cell_type": "code",
   "execution_count": 20,
   "id": "997eeb23-c555-42d8-9ac5-884ef893154c",
   "metadata": {},
   "outputs": [
    {
     "name": "stdout",
     "output_type": "stream",
     "text": [
      "+---------+------------+-----------+-------+-------------+-----------+\n",
      "| orderid | orderdate  | productid | sales | orderstatus | RankSales |\n",
      "+---------+------------+-----------+-------+-------------+-----------+\n",
      "|    8    | 2025-02-18 |    101    |  90   |   Shipped   |     1     |\n",
      "|    4    | 2025-01-20 |    105    |  60   |   Shipped   |     2     |\n",
      "|   10    | 2025-03-15 |    102    |  60   |   Shipped   |     2     |\n",
      "|    6    | 2025-02-05 |    104    |  50   |  Delivered  |     4     |\n",
      "|    7    | 2025-02-15 |    102    |  30   |  Delivered  |     5     |\n",
      "|    5    | 2025-02-01 |    104    |  25   |  Delivered  |     6     |\n",
      "|    3    | 2025-01-10 |    101    |  20   |  Delivered  |     7     |\n",
      "|    9    | 2025-03-10 |    101    |  20   |   Shipped   |     7     |\n",
      "|    2    | 2025-01-05 |    102    |  15   |   Shipped   |     9     |\n",
      "|    1    | 2025-01-01 |    101    |  10   |  Delivered  |    10     |\n",
      "+---------+------------+-----------+-------+-------------+-----------+\n",
      "10 rows returned in set: (0.002 sec)\n"
     ]
    }
   ],
   "source": [
    "# With RANK(), we *must* use the Order By Clause\n",
    "\n",
    "select_query = \"\"\"SELECT orderid, orderdate, productid, sales, orderstatus,\n",
    "RANK() OVER(ORDER BY sales DESC) AS RankSales\n",
    "FROM tbl_orders;\"\"\"\n",
    "execute_display_query_results(select_query)"
   ]
  },
  {
   "cell_type": "markdown",
   "id": "49c07d4a-2913-4dcd-a400-a4e19e33c22a",
   "metadata": {},
   "source": [
    "# Frame Clause\n",
    " ```sql\n",
    "AVG(Sales) OVER (PARTITION BY Category ORDER BY OrderDate ROWS BETWEEN CURRENT ROW AND UNBOUNDED FOLLOWING)\n",
    " ```\n",
    " - Frame Types: ROWS, RANGE\n",
    " - Frame Boundary(Lower Value): CURRENT ROW, N PRECEDING, UNBOUNDED PRECEDING\n",
    " - Frame Boundary(Higher Value): CURRENT ROW, N FOLLOWING, UNBOUNDED FOLLOWING  \n",
    "**Frame Clause can only be used together with order by clause**  \n",
    "**Lower Value must be BEFORE the higher value**"
   ]
  },
  {
   "cell_type": "code",
   "execution_count": 21,
   "id": "4c77300d-e178-46cc-a76c-0e528e83a611",
   "metadata": {},
   "outputs": [
    {
     "name": "stdout",
     "output_type": "stream",
     "text": [
      "+---------+------------+-----------+-------+-------------+---------------------+\n",
      "| orderid | orderdate  | productid | sales | orderstatus | TotalSalesByProduct |\n",
      "+---------+------------+-----------+-------+-------------+---------------------+\n",
      "|    1    | 2025-01-01 |    101    |  10   |  Delivered  |         10          |\n",
      "|    3    | 2025-01-10 |    101    |  20   |  Delivered  |         30          |\n",
      "|    8    | 2025-02-18 |    101    |  90   |   Shipped   |         120         |\n",
      "|    9    | 2025-03-10 |    101    |  20   |   Shipped   |         140         |\n",
      "|    2    | 2025-01-05 |    102    |  15   |   Shipped   |         15          |\n",
      "|    7    | 2025-02-15 |    102    |  30   |  Delivered  |         45          |\n",
      "|   10    | 2025-03-15 |    102    |  60   |   Shipped   |         105         |\n",
      "|    5    | 2025-02-01 |    104    |  25   |  Delivered  |         25          |\n",
      "|    6    | 2025-02-05 |    104    |  50   |  Delivered  |         75          |\n",
      "|    4    | 2025-01-20 |    105    |  60   |   Shipped   |         60          |\n",
      "+---------+------------+-----------+-------+-------------+---------------------+\n",
      "10 rows returned in set: (0.001 sec)\n"
     ]
    }
   ],
   "source": [
    "select_query = \"\"\"SELECT orderid, orderdate, productid, sales, orderstatus,\n",
    "SUM(sales) OVER(PARTITION BY ProductID ORDER BY orderdate ROWS BETWEEN UNBOUNDED PRECEDING AND CURRENT ROW) AS TotalSalesByProduct\n",
    "FROM tbl_orders;\"\"\"\n",
    "execute_display_query_results(select_query)"
   ]
  },
  {
   "cell_type": "code",
   "execution_count": 22,
   "id": "361160cf-d00e-4dec-a20e-de81c9ddfc13",
   "metadata": {},
   "outputs": [
    {
     "name": "stdout",
     "output_type": "stream",
     "text": [
      "+---------+------------+-----------+-------+-------------+-------------------------+\n",
      "| orderid | orderdate  | productid | sales | orderstatus | TotalSalesByOrderStatus |\n",
      "+---------+------------+-----------+-------+-------------+-------------------------+\n",
      "|    1    | 2025-01-01 |    101    |  10   |  Delivered  |           55            |\n",
      "|    3    | 2025-01-10 |    101    |  20   |  Delivered  |           95            |\n",
      "|    5    | 2025-02-01 |    104    |  25   |  Delivered  |           105           |\n",
      "|    6    | 2025-02-05 |    104    |  50   |  Delivered  |           80            |\n",
      "|    7    | 2025-02-15 |    102    |  30   |  Delivered  |           30            |\n",
      "|    2    | 2025-01-05 |    102    |  15   |   Shipped   |           165           |\n",
      "|    4    | 2025-01-20 |    105    |  60   |   Shipped   |           170           |\n",
      "|    8    | 2025-02-18 |    101    |  90   |   Shipped   |           170           |\n",
      "|    9    | 2025-03-10 |    101    |  20   |   Shipped   |           80            |\n",
      "|   10    | 2025-03-15 |    102    |  60   |   Shipped   |           60            |\n",
      "+---------+------------+-----------+-------+-------------+-------------------------+\n",
      "10 rows returned in set: (0.001 sec)\n"
     ]
    }
   ],
   "source": [
    "select_query = \"\"\"SELECT orderid, orderdate, productid, sales, orderstatus,\n",
    "SUM(sales) OVER(PARTITION BY orderstatus ORDER BY orderdate ROWS BETWEEN CURRENT ROW AND 2 FOLLOWING) AS TotalSalesByOrderStatus\n",
    "FROM tbl_orders;\"\"\"\n",
    "execute_display_query_results(select_query)"
   ]
  },
  {
   "cell_type": "code",
   "execution_count": 23,
   "id": "aea50308-10fd-4619-bd12-ebf978cfce2e",
   "metadata": {},
   "outputs": [
    {
     "name": "stdout",
     "output_type": "stream",
     "text": [
      "+---------+------------+-----------+-------+-------------+---------------------+\n",
      "| orderid | orderdate  | productid | sales | orderstatus | TotalSalesByProduct |\n",
      "+---------+------------+-----------+-------+-------------+---------------------+\n",
      "|    1    | 2025-01-01 |    101    |  10   |  Delivered  |         140         |\n",
      "|    3    | 2025-01-10 |    101    |  20   |  Delivered  |         140         |\n",
      "|    8    | 2025-02-18 |    101    |  90   |   Shipped   |         140         |\n",
      "|    9    | 2025-03-10 |    101    |  20   |   Shipped   |         140         |\n",
      "|    2    | 2025-01-05 |    102    |  15   |   Shipped   |         105         |\n",
      "|    7    | 2025-02-15 |    102    |  30   |  Delivered  |         105         |\n",
      "|   10    | 2025-03-15 |    102    |  60   |   Shipped   |         105         |\n",
      "|    5    | 2025-02-01 |    104    |  25   |  Delivered  |         75          |\n",
      "|    6    | 2025-02-05 |    104    |  50   |  Delivered  |         75          |\n",
      "|    4    | 2025-01-20 |    105    |  60   |   Shipped   |         60          |\n",
      "+---------+------------+-----------+-------+-------------+---------------------+\n",
      "10 rows returned in set: (0.001 sec)\n"
     ]
    }
   ],
   "source": [
    "select_query = \"\"\"SELECT orderid, orderdate, productid, sales, orderstatus,\n",
    "SUM(sales) OVER(PARTITION BY ProductID ORDER BY orderdate ROWS BETWEEN UNBOUNDED PRECEDING AND UNBOUNDED FOLLOWING) AS TotalSalesByProduct\n",
    "FROM tbl_orders;\"\"\"\n",
    "execute_display_query_results(select_query)"
   ]
  },
  {
   "cell_type": "code",
   "execution_count": 24,
   "id": "0af765f5-7191-49d5-8e36-d208421399c3",
   "metadata": {},
   "outputs": [
    {
     "name": "stdout",
     "output_type": "stream",
     "text": [
      "+---------+------------+-----------+-------+-------------+------------+\n",
      "| orderid | orderdate  | productid | sales | orderstatus | TotalSales |\n",
      "+---------+------------+-----------+-------+-------------+------------+\n",
      "|    1    | 2025-01-01 |    101    |  10   |  Delivered  |     10     |\n",
      "|    3    | 2025-01-10 |    101    |  20   |  Delivered  |     30     |\n",
      "|    5    | 2025-02-01 |    104    |  25   |  Delivered  |     55     |\n",
      "|    6    | 2025-02-05 |    104    |  50   |  Delivered  |    105     |\n",
      "|    7    | 2025-02-15 |    102    |  30   |  Delivered  |    135     |\n",
      "|    2    | 2025-01-05 |    102    |  15   |   Shipped   |     15     |\n",
      "|    4    | 2025-01-20 |    105    |  60   |   Shipped   |     75     |\n",
      "|    8    | 2025-02-18 |    101    |  90   |   Shipped   |    165     |\n",
      "|    9    | 2025-03-10 |    101    |  20   |   Shipped   |    185     |\n",
      "|   10    | 2025-03-15 |    102    |  60   |   Shipped   |    245     |\n",
      "+---------+------------+-----------+-------+-------------+------------+\n",
      "10 rows returned in set: (0.001 sec)\n"
     ]
    }
   ],
   "source": [
    "select_query = \"\"\"SELECT orderid, orderdate, productid, sales, orderstatus,\n",
    "SUM(sales) OVER(PARTITION BY orderstatus ORDER BY orderdate ROWS BETWEEN UNBOUNDED PRECEDING AND CURRENT ROW) AS TotalSales\n",
    "FROM tbl_orders;\"\"\"\n",
    "execute_display_query_results(select_query)"
   ]
  },
  {
   "cell_type": "code",
   "execution_count": 25,
   "id": "b30a3732-9073-4bbb-bb6a-9738516ec6ab",
   "metadata": {},
   "outputs": [
    {
     "name": "stdout",
     "output_type": "stream",
     "text": [
      "+---------+------------+-----------+-------+-------------+------------+\n",
      "| orderid | orderdate  | productid | sales | orderstatus | TotalSales |\n",
      "+---------+------------+-----------+-------+-------------+------------+\n",
      "|    2    | 2025-01-05 |    102    |  15   |   Shipped   |     15     |\n",
      "|    4    | 2025-01-20 |    105    |  60   |   Shipped   |     75     |\n",
      "|    8    | 2025-02-18 |    101    |  90   |   Shipped   |    165     |\n",
      "|    9    | 2025-03-10 |    101    |  20   |   Shipped   |    185     |\n",
      "|   10    | 2025-03-15 |    102    |  60   |   Shipped   |    245     |\n",
      "+---------+------------+-----------+-------+-------------+------------+\n",
      "5 rows returned in set: (0.001 sec)\n",
      "\n",
      "\n",
      "+---------+------------+-----------+-------+-------------+------------+\n",
      "| orderid | orderdate  | productid | sales | orderstatus | TotalSales |\n",
      "+---------+------------+-----------+-------+-------------+------------+\n",
      "|    1    | 2025-01-01 |    101    |  10   |  Delivered  |     10     |\n",
      "|    3    | 2025-01-10 |    101    |  20   |  Delivered  |     30     |\n",
      "|    5    | 2025-02-01 |    104    |  25   |  Delivered  |     55     |\n",
      "|    6    | 2025-02-05 |    104    |  50   |  Delivered  |    105     |\n",
      "|    7    | 2025-02-15 |    102    |  30   |  Delivered  |    135     |\n",
      "+---------+------------+-----------+-------+-------------+------------+\n",
      "5 rows returned in set: (0.0 sec)\n"
     ]
    }
   ],
   "source": [
    "#filter the result for only shipped\n",
    "select_query = \"\"\"SELECT orderid, orderdate, productid, sales, orderstatus,\n",
    "SUM(sales) OVER(PARTITION BY orderstatus ORDER BY orderdate ROWS BETWEEN UNBOUNDED PRECEDING AND CURRENT ROW) AS TotalSales\n",
    "FROM tbl_orders WHERE orderstatus = 'Shipped';\"\"\"\n",
    "execute_display_query_results(select_query)\n",
    "\n",
    "print(\"\\n\")\n",
    "\n",
    "#filter the result for only delivered\n",
    "select_query = \"\"\"SELECT orderid, orderdate, productid, sales, orderstatus,\n",
    "SUM(sales) OVER(PARTITION BY orderstatus ORDER BY orderdate ROWS BETWEEN UNBOUNDED PRECEDING AND CURRENT ROW) AS TotalSales\n",
    "FROM tbl_orders WHERE orderstatus = 'Delivered';\"\"\"\n",
    "execute_display_query_results(select_query)"
   ]
  },
  {
   "cell_type": "markdown",
   "id": "291b32e2-91d2-4e10-940a-736d2a35a39e",
   "metadata": {},
   "source": [
    "# 4 Rules of Window Functions\n",
    "- Window functions can be used only in the SELECT and ORDER BY Clause\n",
    "- Nesting Window functions is not allowed!\n",
    "- SQL execute WINDOW functions after WHERE Clause\n",
    "- Window function can be úsed together with GROUP BY in the same query, ONLY if the same columns are used"
   ]
  },
  {
   "cell_type": "code",
   "execution_count": 26,
   "id": "2b271bb9-8724-444a-85b9-affaa6d87e0b",
   "metadata": {},
   "outputs": [
    {
     "name": "stdout",
     "output_type": "stream",
     "text": [
      "+---------+------------+-----------+-------+-------------+------------+\n",
      "| orderid | orderdate  | productid | sales | orderstatus | TotalSales |\n",
      "+---------+------------+-----------+-------+-------------+------------+\n",
      "|    1    | 2025-01-01 |    101    |  10   |  Delivered  |    135     |\n",
      "|    3    | 2025-01-10 |    101    |  20   |  Delivered  |    135     |\n",
      "|    5    | 2025-02-01 |    104    |  25   |  Delivered  |    135     |\n",
      "|    6    | 2025-02-05 |    104    |  50   |  Delivered  |    135     |\n",
      "|    7    | 2025-02-15 |    102    |  30   |  Delivered  |    135     |\n",
      "|    2    | 2025-01-05 |    102    |  15   |   Shipped   |    245     |\n",
      "|    4    | 2025-01-20 |    105    |  60   |   Shipped   |    245     |\n",
      "|    8    | 2025-02-18 |    101    |  90   |   Shipped   |    245     |\n",
      "|    9    | 2025-03-10 |    101    |  20   |   Shipped   |    245     |\n",
      "|   10    | 2025-03-15 |    102    |  60   |   Shipped   |    245     |\n",
      "+---------+------------+-----------+-------+-------------+------------+\n",
      "10 rows returned in set: (0.001 sec)\n"
     ]
    }
   ],
   "source": [
    "select_query = \"\"\"SELECT orderid, orderdate, productid, sales, orderstatus,\n",
    "SUM(sales) OVER(PARTITION BY orderstatus) AS TotalSales\n",
    "FROM tbl_orders\n",
    "ORDER BY SUM(sales) OVER(PARTITION BY orderstatus);\"\"\"\n",
    "execute_display_query_results(select_query)"
   ]
  },
  {
   "cell_type": "code",
   "execution_count": 27,
   "id": "d2eee93b-4f89-47bd-84e1-c7d470691d4a",
   "metadata": {},
   "outputs": [
    {
     "name": "stdout",
     "output_type": "stream",
     "text": [
      "+---------+-----------+------------+---------------+------------+------------+-------------+--------------------+---------------+----------+-------+---------------------+\n",
      "| OrderID | ProductID | CustomerID | SalesPersonID | OrderDate  |  ShipDate  | OrderStatus |    ShipAddress     |  BillAddress  | Quantity | Sales |    CreationTime     |\n",
      "+---------+-----------+------------+---------------+------------+------------+-------------+--------------------+---------------+----------+-------+---------------------+\n",
      "|    1    |    101    |     2      |       3       | 2025-01-01 | 2025-01-05 |  Delivered  | 9833 Mt. Dias Blv. | 1226 Shoe St. |    1     |  10   | 2025-01-01 12:34:56 |\n",
      "|    2    |    102    |     3      |       3       | 2025-01-05 | 2025-01-10 |   Shipped   |   250 Race Court   |     NULL      |    1     |  15   | 2025-01-05 23:22:04 |\n",
      "|    3    |    101    |     1      |       5       | 2025-01-10 | 2025-01-25 |  Delivered  |    8157 W. Book    | 8157 W. Book  |    2     |  20   | 2025-01-10 18:24:08 |\n",
      "|    4    |    105    |     1      |       3       | 2025-01-20 | 2025-01-25 |   Shipped   | 5724 Victory Lane  |               |    2     |  60   | 2025-01-20 05:50:33 |\n",
      "|    5    |    104    |     2      |       5       | 2025-02-01 | 2025-02-05 |  Delivered  |        NULL        |     NULL      |    1     |  25   | 2025-02-01 14:02:41 |\n",
      "|    6    |    104    |     3      |       5       | 2025-02-05 | 2025-02-10 |  Delivered  |  1792 Belmont Rd.  |     NULL      |    2     |  50   | 2025-02-06 15:34:57 |\n",
      "|    7    |    102    |     1      |       1       | 2025-02-15 | 2025-02-27 |  Delivered  |  136 Balboa Court  |               |    2     |  30   | 2025-02-16 06:22:01 |\n",
      "|    8    |    101    |     4      |       3       | 2025-02-18 | 2025-02-27 |   Shipped   |   2947 Vine Lane   | 4311 Clay Rd  |    3     |  90   | 2025-02-18 10:45:22 |\n",
      "|    9    |    101    |     2      |       3       | 2025-03-10 | 2025-03-15 |   Shipped   |   3768 Door Way    |               |    2     |  20   | 2025-03-10 12:59:04 |\n",
      "|   10    |    102    |     3      |       5       | 2025-03-15 | 2025-03-20 |   Shipped   |        NULL        |     NULL      |    0     |  60   | 2025-03-16 23:25:15 |\n",
      "+---------+-----------+------------+---------------+------------+------------+-------------+--------------------+---------------+----------+-------+---------------------+\n",
      "10 rows returned in set: (0.001 sec)\n"
     ]
    }
   ],
   "source": [
    "execute_display_query_results(select_all_query(\"tbl_orders\"))"
   ]
  },
  {
   "cell_type": "code",
   "execution_count": 28,
   "id": "e21af3f3-208e-4479-87d9-d7efe8ab14cf",
   "metadata": {},
   "outputs": [
    {
     "name": "stdout",
     "output_type": "stream",
     "text": [
      "+------------+----------------------+----------------------+\n",
      "| customerid | TotalSalesByCustomer | RankCustomersBySales |\n",
      "+------------+----------------------+----------------------+\n",
      "|     3      |         125          |          1           |\n",
      "|     1      |         110          |          2           |\n",
      "|     4      |          90          |          3           |\n",
      "|     2      |          55          |          4           |\n",
      "+------------+----------------------+----------------------+\n",
      "4 rows returned in set: (0.001 sec)\n"
     ]
    }
   ],
   "source": [
    "## Rank Customers based on their total sales\n",
    "# With RANK(), we *must* use the Order By Clause\n",
    "\n",
    "select_query = \"\"\"SELECT customerid, \n",
    "SUM(Sales) AS TotalSalesByCustomer,\n",
    "RANK() OVER(Order By SUM(Sales) DESC) AS RankCustomersBySales \n",
    "FROM tbl_orders\n",
    "GROUP BY customerid;\"\"\"\n",
    "execute_display_query_results(select_query)"
   ]
  },
  {
   "cell_type": "code",
   "execution_count": 29,
   "id": "47b9dc66-adaf-49e2-a9ed-71df8414cb95",
   "metadata": {},
   "outputs": [
    {
     "name": "stdout",
     "output_type": "stream",
     "text": [
      "+------------+---------+------------+-----------+-------+-------------+-----------+\n",
      "| customerid | orderid | orderdate  | productid | sales | orderstatus | RankSales |\n",
      "+------------+---------+------------+-----------+-------+-------------+-----------+\n",
      "|     4      |    8    | 2025-02-18 |    101    |  90   |   Shipped   |     1     |\n",
      "|     1      |    4    | 2025-01-20 |    105    |  60   |   Shipped   |     2     |\n",
      "|     3      |   10    | 2025-03-15 |    102    |  60   |   Shipped   |     2     |\n",
      "|     3      |    6    | 2025-02-05 |    104    |  50   |  Delivered  |     4     |\n",
      "|     1      |    7    | 2025-02-15 |    102    |  30   |  Delivered  |     5     |\n",
      "|     2      |    5    | 2025-02-01 |    104    |  25   |  Delivered  |     6     |\n",
      "|     1      |    3    | 2025-01-10 |    101    |  20   |  Delivered  |     7     |\n",
      "|     2      |    9    | 2025-03-10 |    101    |  20   |   Shipped   |     7     |\n",
      "|     3      |    2    | 2025-01-05 |    102    |  15   |   Shipped   |     9     |\n",
      "|     2      |    1    | 2025-01-01 |    101    |  10   |  Delivered  |    10     |\n",
      "+------------+---------+------------+-----------+-------+-------------+-----------+\n",
      "10 rows returned in set: (0.001 sec)\n"
     ]
    }
   ],
   "source": [
    "select_query = \"\"\"SELECT customerid, orderid, orderdate, productid, sales, orderstatus,\n",
    "RANK() OVER(ORDER BY sales DESC) AS RankSales\n",
    "FROM tbl_orders;\"\"\"\n",
    "execute_display_query_results(select_query)"
   ]
  },
  {
   "cell_type": "code",
   "execution_count": 30,
   "id": "00a5e565-5787-4225-9b25-4f5cfc193086",
   "metadata": {},
   "outputs": [
    {
     "name": "stdout",
     "output_type": "stream",
     "text": [
      "+------------+------------+----------------------+\n",
      "| customerid | SUM(sales) | RankCustomersBySales |\n",
      "+------------+------------+----------------------+\n",
      "|     3      |    125     |          1           |\n",
      "|     1      |    110     |          2           |\n",
      "|     4      |     90     |          3           |\n",
      "|     2      |     55     |          4           |\n",
      "+------------+------------+----------------------+\n",
      "4 rows returned in set: (0.001 sec)\n"
     ]
    }
   ],
   "source": [
    "select_query = \"\"\"SELECT customerid, SUM(sales),\n",
    "RANK() OVER(ORDER BY SUM(sales) DESC) AS RankCustomersBySales \n",
    "FROM tbl_orders\n",
    "GROUP BY customerid;\"\"\"\n",
    "execute_display_query_results(select_query)"
   ]
  },
  {
   "cell_type": "code",
   "execution_count": 31,
   "id": "7eddb2ad-e350-4497-be0f-2ace42381f93",
   "metadata": {},
   "outputs": [
    {
     "name": "stdout",
     "output_type": "stream",
     "text": [
      "+------------+------------+\n",
      "| customerid | SUM(sales) |\n",
      "+------------+------------+\n",
      "|     2      |     55     |\n",
      "|     3      |    125     |\n",
      "|     1      |    110     |\n",
      "|     4      |     90     |\n",
      "+------------+------------+\n",
      "4 rows returned in set: (0.001 sec)\n",
      "\n",
      "\n",
      "+------------+------------+----------------------+\n",
      "| customerid | SUM(sales) | RankCustomersBySales |\n",
      "+------------+------------+----------------------+\n",
      "|     3      |    125     |          1           |\n",
      "|     1      |    110     |          2           |\n",
      "|     4      |     90     |          3           |\n",
      "|     2      |     55     |          4           |\n",
      "+------------+------------+----------------------+\n",
      "4 rows returned in set: (0.0 sec)\n"
     ]
    }
   ],
   "source": [
    "#  Perform a group by before the ranking. Use a column in the group by to perform the rank\n",
    "select_query = \"\"\"SELECT customerid, SUM(sales)\n",
    "FROM tbl_orders\n",
    "GROUP BY customerid;\"\"\"\n",
    "execute_display_query_results(select_query)\n",
    "\n",
    "print(\"\\n\")\n",
    "\n",
    "select_query = \"\"\"SELECT customerid, SUM(sales),\n",
    "RANK() OVER(ORDER BY SUM(sales) DESC) AS RankCustomersBySales \n",
    "FROM tbl_orders\n",
    "GROUP BY customerid;\"\"\"\n",
    "execute_display_query_results(select_query)"
   ]
  },
  {
   "cell_type": "markdown",
   "id": "fe804c14-aee4-45cf-a7c6-f1d7f3915abb",
   "metadata": {},
   "source": [
    "# SQL Aggregate Window Function\n",
    "COUNT, SUM, AVG, MIN, MAX\n",
    "\n",
    "```sql\n",
    "AVG(Sales) OVER (PARTITION BY ProductID ORDER BY Sale)\n",
    "```\n",
    "Partition By and Order By are Optional\n",
    "\n",
    "## COUNT\n",
    "Use Cases\n",
    "- 1: Overall Analysis\n",
    "- 2: Category Analysis\n",
    "- 3: Quality Checks: Identify NULLS\n",
    "- 4: Quality Checks: Identify Duplicates"
   ]
  },
  {
   "cell_type": "code",
   "execution_count": 32,
   "id": "fd152941-7f24-4dcf-8af0-8300b66ec91b",
   "metadata": {},
   "outputs": [
    {
     "name": "stdout",
     "output_type": "stream",
     "text": [
      "+-------------+------------------+\n",
      "| orderstatus | CountOrderStatus |\n",
      "+-------------+------------------+\n",
      "|  Delivered  |        5         |\n",
      "|  Delivered  |        5         |\n",
      "|  Delivered  |        5         |\n",
      "|  Delivered  |        5         |\n",
      "|  Delivered  |        5         |\n",
      "|   Shipped   |        5         |\n",
      "|   Shipped   |        5         |\n",
      "|   Shipped   |        5         |\n",
      "|   Shipped   |        5         |\n",
      "|   Shipped   |        5         |\n",
      "+-------------+------------------+\n",
      "10 rows returned in set: (0.001 sec)\n",
      "\n",
      "\n",
      "+-----------+---------------+\n",
      "| productid | CountProducts |\n",
      "+-----------+---------------+\n",
      "|    101    |       4       |\n",
      "|    101    |       4       |\n",
      "|    101    |       4       |\n",
      "|    101    |       4       |\n",
      "|    102    |       3       |\n",
      "|    102    |       3       |\n",
      "|    102    |       3       |\n",
      "|    104    |       2       |\n",
      "|    104    |       2       |\n",
      "|    105    |       1       |\n",
      "+-----------+---------------+\n",
      "10 rows returned in set: (0.0 sec)\n"
     ]
    }
   ],
   "source": [
    "select_query = \"\"\"SELECT orderstatus, COUNT(orderstatus) OVER (PARTITION BY orderstatus) AS CountOrderStatus\n",
    "FROM tbl_orders;\"\"\"\n",
    "execute_display_query_results(select_query)\n",
    "\n",
    "print(\"\\n\")\n",
    "\n",
    "select_query = \"\"\"SELECT productid, COUNT(productid) OVER (PARTITION BY productid) AS CountProducts\n",
    "FROM tbl_orders;\"\"\"\n",
    "execute_display_query_results(select_query)"
   ]
  },
  {
   "cell_type": "code",
   "execution_count": 33,
   "id": "4a0188e7-1e6b-4d77-ba61-35475dc662d6",
   "metadata": {},
   "outputs": [
    {
     "name": "stdout",
     "output_type": "stream",
     "text": [
      "+-----------+---------------+\n",
      "| productid | CountProducts |\n",
      "+-----------+---------------+\n",
      "|    101    |       4       |\n",
      "|    102    |       3       |\n",
      "|    105    |       1       |\n",
      "|    104    |       2       |\n",
      "+-----------+---------------+\n",
      "4 rows returned in set: (0.001 sec)\n"
     ]
    }
   ],
   "source": [
    "select_query = \"\"\"SELECT productid, COUNT(*) AS CountProducts\n",
    "FROM tbl_orders\n",
    "GROUP BY productid;\"\"\"\n",
    "execute_display_query_results(select_query)"
   ]
  },
  {
   "cell_type": "code",
   "execution_count": 34,
   "id": "56d483cd-b8ae-48df-8faa-b7833515338a",
   "metadata": {},
   "outputs": [
    {
     "name": "stdout",
     "output_type": "stream",
     "text": [
      "+----------------+---------------+\n",
      "| CountProductID | CountProducts |\n",
      "+----------------+---------------+\n",
      "|       10       |      10       |\n",
      "+----------------+---------------+\n",
      "1 row returned in set: (0.001 sec)\n"
     ]
    }
   ],
   "source": [
    "select_query = \"\"\"SELECT count(productid) AS CountProductID, COUNT(*) AS CountProducts\n",
    "FROM tbl_orders;\"\"\"\n",
    "execute_display_query_results(select_query)"
   ]
  },
  {
   "cell_type": "code",
   "execution_count": 35,
   "id": "e82150ed-dbed-4167-97ad-6318eeb995ca",
   "metadata": {},
   "outputs": [
    {
     "name": "stdout",
     "output_type": "stream",
     "text": [
      "+---------+------------+-------------+\n",
      "| orderid | orderdate  | TotalOrders |\n",
      "+---------+------------+-------------+\n",
      "|    1    | 2025-01-01 |     10      |\n",
      "|    2    | 2025-01-05 |     10      |\n",
      "|    3    | 2025-01-10 |     10      |\n",
      "|    4    | 2025-01-20 |     10      |\n",
      "|    5    | 2025-02-01 |     10      |\n",
      "|    6    | 2025-02-05 |     10      |\n",
      "|    7    | 2025-02-15 |     10      |\n",
      "|    8    | 2025-02-18 |     10      |\n",
      "|    9    | 2025-03-10 |     10      |\n",
      "|   10    | 2025-03-15 |     10      |\n",
      "+---------+------------+-------------+\n",
      "10 rows returned in set: (0.001 sec)\n"
     ]
    }
   ],
   "source": [
    "select_query = \"\"\"SELECT orderid, orderdate, COUNT(*) OVER() AS TotalOrders\n",
    "FROM tbl_orders;\"\"\"\n",
    "execute_display_query_results(select_query)"
   ]
  },
  {
   "cell_type": "code",
   "execution_count": 36,
   "id": "563eea77-a032-413d-9ec5-86225f61f618",
   "metadata": {},
   "outputs": [
    {
     "name": "stdout",
     "output_type": "stream",
     "text": [
      "+---------+------------+-------------+------------+------------------------+\n",
      "| orderid | orderdate  | TotalOrders | customerid | TotalOrdersByCustomers |\n",
      "+---------+------------+-------------+------------+------------------------+\n",
      "|    3    | 2025-01-10 |     10      |     1      |           3            |\n",
      "|    4    | 2025-01-20 |     10      |     1      |           3            |\n",
      "|    7    | 2025-02-15 |     10      |     1      |           3            |\n",
      "|    1    | 2025-01-01 |     10      |     2      |           3            |\n",
      "|    5    | 2025-02-01 |     10      |     2      |           3            |\n",
      "|    9    | 2025-03-10 |     10      |     2      |           3            |\n",
      "|    2    | 2025-01-05 |     10      |     3      |           3            |\n",
      "|    6    | 2025-02-05 |     10      |     3      |           3            |\n",
      "|   10    | 2025-03-15 |     10      |     3      |           3            |\n",
      "|    8    | 2025-02-18 |     10      |     4      |           1            |\n",
      "+---------+------------+-------------+------------+------------------------+\n",
      "10 rows returned in set: (0.001 sec)\n"
     ]
    }
   ],
   "source": [
    "## Find the total orders for each customers\n",
    "select_query = \"\"\"SELECT orderid, orderdate,\n",
    "COUNT(*) OVER() AS TotalOrders,\n",
    "customerid,\n",
    "COUNT(*) OVER(PARTITION BY customerid) AS TotalOrdersByCustomers\n",
    "FROM tbl_orders;\"\"\"\n",
    "execute_display_query_results(select_query)"
   ]
  },
  {
   "cell_type": "code",
   "execution_count": 37,
   "id": "1aab8d42-a70d-4b32-8b4b-8704d38c6876",
   "metadata": {},
   "outputs": [
    {
     "name": "stdout",
     "output_type": "stream",
     "text": [
      "+------------+-----------+----------+---------+-------+\n",
      "| CustomerID | FirstName | LastName | Country | Score |\n",
      "+------------+-----------+----------+---------+-------+\n",
      "|     1      |  Jossef   | Goldberg | Germany |  350  |\n",
      "|     2      |   Kevin   |  Brown   |   USA   |  900  |\n",
      "|     3      |   Mary    |   NULL   |   USA   |  750  |\n",
      "|     4      |   Mark    | Schwarz  | Germany |  500  |\n",
      "|     5      |   Anna    |  Adams   |   USA   | NULL  |\n",
      "+------------+-----------+----------+---------+-------+\n",
      "5 rows returned in set: (0.0 sec)\n",
      "\n",
      "\n",
      "+------------+-----------+----------+---------+-------+----------------+\n",
      "| CustomerID | FirstName | LastName | Country | Score | TotalCustomers |\n",
      "+------------+-----------+----------+---------+-------+----------------+\n",
      "|     1      |  Jossef   | Goldberg | Germany |  350  |       5        |\n",
      "|     2      |   Kevin   |  Brown   |   USA   |  900  |       5        |\n",
      "|     3      |   Mary    |   NULL   |   USA   |  750  |       5        |\n",
      "|     4      |   Mark    | Schwarz  | Germany |  500  |       5        |\n",
      "|     5      |   Anna    |  Adams   |   USA   | NULL  |       5        |\n",
      "+------------+-----------+----------+---------+-------+----------------+\n",
      "5 rows returned in set: (0.0 sec)\n",
      "\n",
      "\n",
      "+------------+-----------+----------+---------+-------+----------------+-------------+\n",
      "| CustomerID | FirstName | LastName | Country | Score | TotalCustomers | TotalScores |\n",
      "+------------+-----------+----------+---------+-------+----------------+-------------+\n",
      "|     1      |  Jossef   | Goldberg | Germany |  350  |       5        |      4      |\n",
      "|     2      |   Kevin   |  Brown   |   USA   |  900  |       5        |      4      |\n",
      "|     3      |   Mary    |   NULL   |   USA   |  750  |       5        |      4      |\n",
      "|     4      |   Mark    | Schwarz  | Germany |  500  |       5        |      4      |\n",
      "|     5      |   Anna    |  Adams   |   USA   | NULL  |       5        |      4      |\n",
      "+------------+-----------+----------+---------+-------+----------------+-------------+\n",
      "5 rows returned in set: (0.0 sec)\n"
     ]
    }
   ],
   "source": [
    "## Find the total number of customers, additionally provide all customer details\n",
    "select_query = \"\"\"SELECT *\n",
    "FROM tbl_customers;\"\"\"\n",
    "execute_display_query_results(select_query)\n",
    "\n",
    "print(\"\\n\")\n",
    "\n",
    "select_query = \"\"\"SELECT *, COUNT(*) OVER() AS TotalCustomers\n",
    "FROM tbl_customers;\"\"\"\n",
    "execute_display_query_results(select_query)\n",
    "\n",
    "print(\"\\n\")\n",
    "#Find the total number of scores for the customers. Here we need to ignore the null value hence the count would be performed on the score column\n",
    "#Can used to check for nulls\n",
    "select_query = \"\"\"SELECT *, \n",
    "COUNT(*) OVER() AS TotalCustomers,\n",
    "COUNT(score) OVER() AS TotalScores\n",
    "FROM tbl_customers;\"\"\"\n",
    "execute_display_query_results(select_query)"
   ]
  },
  {
   "cell_type": "code",
   "execution_count": 38,
   "id": "c196ad1d-4275-409d-9bf2-d99e6eb7f1e0",
   "metadata": {},
   "outputs": [
    {
     "name": "stdout",
     "output_type": "stream",
     "text": [
      "+---------+-----------------+\n",
      "| orderid | CheckPrimaryKey |\n",
      "+---------+-----------------+\n",
      "|    1    |        1        |\n",
      "|    2    |        1        |\n",
      "|    3    |        1        |\n",
      "|    4    |        1        |\n",
      "|    5    |        1        |\n",
      "|    6    |        1        |\n",
      "|    7    |        1        |\n",
      "|    8    |        1        |\n",
      "|    9    |        1        |\n",
      "|   10    |        1        |\n",
      "+---------+-----------------+\n",
      "10 rows returned in set: (0.001 sec)\n"
     ]
    }
   ],
   "source": [
    "## Data Quality Issue. Duplicates leads to inaccuracies in analysis\n",
    "# COUNT() can be used to identify duplicates\n",
    "# Check whether the table 'Orders' contains any duplicate\n",
    "\n",
    "select_query = \"\"\"SELECT orderid, \n",
    "COUNT(orderid) OVER(PARTITION BY orderid) AS CheckPrimaryKey\n",
    "FROM tbl_orders;\"\"\"\n",
    "execute_display_query_results(select_query)"
   ]
  },
  {
   "cell_type": "code",
   "execution_count": 39,
   "id": "fad18b3d-45b1-4294-88f3-ec41fb458754",
   "metadata": {},
   "outputs": [
    {
     "name": "stdout",
     "output_type": "stream",
     "text": [
      "+---------+-----------------+\n",
      "| orderid | CheckPrimaryKey |\n",
      "+---------+-----------------+\n",
      "|    1    |        1        |\n",
      "|    2    |        1        |\n",
      "|    3    |        1        |\n",
      "|    4    |        2        |\n",
      "|    4    |        2        |\n",
      "|    5    |        1        |\n",
      "|    6    |        3        |\n",
      "|    6    |        3        |\n",
      "|    6    |        3        |\n",
      "|    7    |        1        |\n",
      "+---------+-----------------+\n",
      "10 rows returned in set: (0.001 sec)\n",
      "\n",
      "\n",
      "+---------+-----------------+\n",
      "| orderid | CheckPrimaryKey |\n",
      "+---------+-----------------+\n",
      "|    4    |        2        |\n",
      "|    4    |        2        |\n",
      "|    6    |        3        |\n",
      "|    6    |        3        |\n",
      "|    6    |        3        |\n",
      "+---------+-----------------+\n",
      "5 rows returned in set: (0.0 sec)\n"
     ]
    }
   ],
   "source": [
    "select_query = \"\"\"SELECT orderid, \n",
    "COUNT(orderid) OVER(PARTITION BY orderid) AS CheckPrimaryKey\n",
    "FROM tbl_orders_archive;\"\"\"\n",
    "execute_display_query_results(select_query)\n",
    "\n",
    "print(\"\\n\")\n",
    "\n",
    "select_query = \"\"\"\n",
    "SELECT * FROM \n",
    "(SELECT orderid, \n",
    "COUNT(orderid) OVER(PARTITION BY orderid) AS CheckPrimaryKey\n",
    "FROM tbl_orders_archive) AS T\n",
    "WHERE CheckPrimaryKey > 1;\"\"\"\n",
    "execute_display_query_results(select_query)"
   ]
  },
  {
   "cell_type": "markdown",
   "id": "4d659393-2d9e-4c9c-9c65-3725acf20789",
   "metadata": {},
   "source": [
    "## SUM"
   ]
  },
  {
   "cell_type": "code",
   "execution_count": 40,
   "id": "1f24b6c5-7e69-4829-9a65-eefcce62805a",
   "metadata": {},
   "outputs": [
    {
     "name": "stdout",
     "output_type": "stream",
     "text": [
      "+---------+------------+-------+-----------+-------------+---------------------+-----------------------------------+------------+\n",
      "| orderid | orderdate  | sales | productid | orderstatus | TotalSalesByProduct | TotalSalesByProductAndOrderStatus | TotalSales |\n",
      "+---------+------------+-------+-----------+-------------+---------------------+-----------------------------------+------------+\n",
      "|    1    | 2025-01-01 |  10   |    101    |  Delivered  |         140         |                30                 |    380     |\n",
      "|    3    | 2025-01-10 |  20   |    101    |  Delivered  |         140         |                30                 |    380     |\n",
      "|    8    | 2025-02-18 |  90   |    101    |   Shipped   |         140         |                110                |    380     |\n",
      "|    9    | 2025-03-10 |  20   |    101    |   Shipped   |         140         |                110                |    380     |\n",
      "|    7    | 2025-02-15 |  30   |    102    |  Delivered  |         105         |                30                 |    380     |\n",
      "|    2    | 2025-01-05 |  15   |    102    |   Shipped   |         105         |                75                 |    380     |\n",
      "|   10    | 2025-03-15 |  60   |    102    |   Shipped   |         105         |                75                 |    380     |\n",
      "|    5    | 2025-02-01 |  25   |    104    |  Delivered  |         75          |                75                 |    380     |\n",
      "|    6    | 2025-02-05 |  50   |    104    |  Delivered  |         75          |                75                 |    380     |\n",
      "|    4    | 2025-01-20 |  60   |    105    |   Shipped   |         60          |                60                 |    380     |\n",
      "+---------+------------+-------+-----------+-------------+---------------------+-----------------------------------+------------+\n",
      "10 rows returned in set: (0.001 sec)\n"
     ]
    }
   ],
   "source": [
    "# Find the total sales across all orders\n",
    "# And the total sales for each product. Provide additional details such as orderid, orderdate\n",
    "\n",
    "select_query = \"\"\"SELECT orderid, orderdate, sales, productid, orderstatus,\n",
    "SUM(sales) OVER(PARTITION BY productid) AS TotalSalesByProduct,\n",
    "SUM(sales) OVER(PARTITION BY productid, orderstatus) AS TotalSalesByProductAndOrderStatus,\n",
    "SUM(sales) OVER() AS TotalSales\n",
    "FROM tbl_orders;\"\"\"\n",
    "execute_display_query_results(select_query)"
   ]
  },
  {
   "cell_type": "code",
   "execution_count": 41,
   "id": "6dc08492-d97d-4ab4-bd05-b0f53ab73419",
   "metadata": {},
   "outputs": [
    {
     "name": "stdout",
     "output_type": "stream",
     "text": [
      "+---------+------------+-------+-----------+-------------+---------------------+-----------------------------------+------------+------------------------+\n",
      "| orderid | orderdate  | sales | productid | orderstatus | TotalSalesByProduct | TotalSalesByProductAndOrderStatus | TotalSales | PercentageContribution |\n",
      "+---------+------------+-------+-----------+-------------+---------------------+-----------------------------------+------------+------------------------+\n",
      "|    8    | 2025-02-18 |  90   |    101    |   Shipped   |         140         |                110                |    380     |        23.6842         |\n",
      "|   10    | 2025-03-15 |  60   |    102    |   Shipped   |         105         |                75                 |    380     |        15.7895         |\n",
      "|    4    | 2025-01-20 |  60   |    105    |   Shipped   |         60          |                60                 |    380     |        15.7895         |\n",
      "|    6    | 2025-02-05 |  50   |    104    |  Delivered  |         75          |                75                 |    380     |        13.1579         |\n",
      "|    7    | 2025-02-15 |  30   |    102    |  Delivered  |         105         |                30                 |    380     |         7.8947         |\n",
      "|    5    | 2025-02-01 |  25   |    104    |  Delivered  |         75          |                75                 |    380     |         6.5789         |\n",
      "|    3    | 2025-01-10 |  20   |    101    |  Delivered  |         140         |                30                 |    380     |         5.2632         |\n",
      "|    9    | 2025-03-10 |  20   |    101    |   Shipped   |         140         |                110                |    380     |         5.2632         |\n",
      "|    2    | 2025-01-05 |  15   |    102    |   Shipped   |         105         |                75                 |    380     |         3.9474         |\n",
      "|    1    | 2025-01-01 |  10   |    101    |  Delivered  |         140         |                30                 |    380     |         2.6316         |\n",
      "+---------+------------+-------+-----------+-------------+---------------------+-----------------------------------+------------+------------------------+\n",
      "10 rows returned in set: (0.001 sec)\n"
     ]
    }
   ],
   "source": [
    "# Find the percentage contribution of each order to the total sales\n",
    "select_query = \"\"\"SELECT orderid, orderdate, sales, productid, orderstatus,\n",
    "SUM(sales) OVER(PARTITION BY productid) AS TotalSalesByProduct,\n",
    "SUM(sales) OVER(PARTITION BY productid, orderstatus) AS TotalSalesByProductAndOrderStatus,\n",
    "SUM(sales) OVER() AS TotalSales,\n",
    "(sales / SUM(sales) OVER()) * 100 AS PercentageContribution\n",
    "FROM tbl_orders\n",
    "ORDER BY PercentageContribution DESC;\"\"\"\n",
    "execute_display_query_results(select_query)"
   ]
  },
  {
   "cell_type": "markdown",
   "id": "dfaf61eb-fc1b-402c-808f-465f17f3c8e6",
   "metadata": {},
   "source": [
    "## AVERAGE"
   ]
  },
  {
   "cell_type": "code",
   "execution_count": 42,
   "id": "5155307d-9530-478f-8038-d271c932e585",
   "metadata": {},
   "outputs": [
    {
     "name": "stdout",
     "output_type": "stream",
     "text": [
      "+---------+------------+-------+-----------+-------------+--------------+-----------------------+\n",
      "| orderid | orderdate  | sales | productid | orderstatus | AverageSales | AverageSalesByProduct |\n",
      "+---------+------------+-------+-----------+-------------+--------------+-----------------------+\n",
      "|    1    | 2025-01-01 |  10   |    101    |  Delivered  |    38.00     |         35.00         |\n",
      "|    3    | 2025-01-10 |  20   |    101    |  Delivered  |    38.00     |         35.00         |\n",
      "|    8    | 2025-02-18 |  90   |    101    |   Shipped   |    38.00     |         35.00         |\n",
      "|    9    | 2025-03-10 |  20   |    101    |   Shipped   |    38.00     |         35.00         |\n",
      "|    2    | 2025-01-05 |  15   |    102    |   Shipped   |    38.00     |         35.00         |\n",
      "|    7    | 2025-02-15 |  30   |    102    |  Delivered  |    38.00     |         35.00         |\n",
      "|   10    | 2025-03-15 |  60   |    102    |   Shipped   |    38.00     |         35.00         |\n",
      "|    5    | 2025-02-01 |  25   |    104    |  Delivered  |    38.00     |         37.50         |\n",
      "|    6    | 2025-02-05 |  50   |    104    |  Delivered  |    38.00     |         37.50         |\n",
      "|    4    | 2025-01-20 |  60   |    105    |   Shipped   |    38.00     |         60.00         |\n",
      "+---------+------------+-------+-----------+-------------+--------------+-----------------------+\n",
      "10 rows returned in set: (0.001 sec)\n"
     ]
    }
   ],
   "source": [
    "# Find the average sales for each product\n",
    "select_query = \"\"\"SELECT orderid, orderdate, sales, productid, orderstatus,\n",
    "ROUND(AVG(sales) OVER(), 2) AS AverageSales, \n",
    "ROUND(AVG(sales) OVER(PARTITION BY productid), 2) AS AverageSalesByProduct\n",
    "FROM tbl_orders;\"\"\"\n",
    "execute_display_query_results(select_query)"
   ]
  },
  {
   "cell_type": "code",
   "execution_count": 43,
   "id": "8e6a0cb9-a44a-46ff-aaa2-ada40c47985c",
   "metadata": {},
   "outputs": [
    {
     "name": "stdout",
     "output_type": "stream",
     "text": [
      "+---------+------------+-------+-----------+-------------+-----------------------+\n",
      "| orderid | orderdate  | sales | productid | orderstatus | AverageSalesByProduct |\n",
      "+---------+------------+-------+-----------+-------------+-----------------------+\n",
      "|    1    | 2025-01-01 |  10   |    101    |  Delivered  |         35.00         |\n",
      "|    3    | 2025-01-10 |  20   |    101    |  Delivered  |         35.00         |\n",
      "|    8    | 2025-02-18 |  90   |    101    |   Shipped   |         35.00         |\n",
      "|    9    | 2025-03-10 |  20   |    101    |   Shipped   |         35.00         |\n",
      "|    2    | 2025-01-05 |  15   |    102    |   Shipped   |         35.00         |\n",
      "|    7    | 2025-02-15 |  30   |    102    |  Delivered  |         35.00         |\n",
      "|   10    | 2025-03-15 |  60   |    102    |   Shipped   |         35.00         |\n",
      "|    5    | 2025-02-01 |  25   |    104    |  Delivered  |         37.50         |\n",
      "|    6    | 2025-02-05 |  50   |    104    |  Delivered  |         37.50         |\n",
      "|    4    | 2025-01-20 |  60   |    105    |   Shipped   |         60.00         |\n",
      "+---------+------------+-------+-----------+-------------+-----------------------+\n",
      "10 rows returned in set: (0.001 sec)\n"
     ]
    }
   ],
   "source": [
    "#AVG(COALESCE(Sales, 0)) OVER(PARTITION BY productid) --> This is to handle the case of null values\n",
    "# Find the average sales for each product\n",
    "select_query = \"\"\"SELECT orderid, orderdate, sales, productid, orderstatus,\n",
    "ROUND(AVG(COALESCE(sales, 0)) OVER(PARTITION BY productid), 2) AS AverageSalesByProduct\n",
    "FROM tbl_orders;\"\"\"\n",
    "execute_display_query_results(select_query)"
   ]
  },
  {
   "cell_type": "code",
   "execution_count": 44,
   "id": "5d0a64ba-0764-418c-a425-59d111adec59",
   "metadata": {},
   "outputs": [
    {
     "name": "stdout",
     "output_type": "stream",
     "text": [
      "+------------+-----------+----------+---------+-------+------------+------------------------+----------------------+--------------+\n",
      "| CustomerID | FirstName | LastName | Country | Score | TotalScore | CalculatedAverageScore | AverageScoreWithNull | AverageScore |\n",
      "+------------+-----------+----------+---------+-------+------------+------------------------+----------------------+--------------+\n",
      "|     1      |  Jossef   | Goldberg | Germany |  350  |    2500    |        500.0000        |        625.00        |    500.00    |\n",
      "|     2      |   Kevin   |  Brown   |   USA   |  900  |    2500    |        500.0000        |        625.00        |    500.00    |\n",
      "|     3      |   Mary    |   NULL   |   USA   |  750  |    2500    |        500.0000        |        625.00        |    500.00    |\n",
      "|     4      |   Mark    | Schwarz  | Germany |  500  |    2500    |        500.0000        |        625.00        |    500.00    |\n",
      "|     5      |   Anna    |  Adams   |   USA   | NULL  |    2500    |        500.0000        |        625.00        |    500.00    |\n",
      "+------------+-----------+----------+---------+-------+------------+------------------------+----------------------+--------------+\n",
      "5 rows returned in set: (0.001 sec)\n"
     ]
    }
   ],
   "source": [
    "# Find the average score for customers. Provide additional details.\n",
    "select_query = \"\"\"SELECT *,\n",
    "SUM(score) OVER() AS TotalScore,\n",
    "(SUM(score) OVER()) / COUNT(customerid) OVER() AS CalculatedAverageScore,\n",
    "ROUND(AVG(score) OVER(), 2) AS AverageScoreWithNull,\n",
    "ROUND(AVG(COALESCE(score, 0)) OVER(), 2) AS AverageScore\n",
    "FROM tbl_customers;\"\"\"\n",
    "execute_display_query_results(select_query)"
   ]
  },
  {
   "cell_type": "code",
   "execution_count": 45,
   "id": "754e97bf-9bbd-4c01-9e75-563ca88f46a2",
   "metadata": {},
   "outputs": [
    {
     "name": "stdout",
     "output_type": "stream",
     "text": [
      "+---------+-------+-----------+----------+\n",
      "| orderid | sales | productid | quantity |\n",
      "+---------+-------+-----------+----------+\n",
      "|    4    |  60   |    105    |    2     |\n",
      "|    6    |  50   |    104    |    2     |\n",
      "|    8    |  90   |    101    |    3     |\n",
      "|   10    |  60   |    102    |    0     |\n",
      "+---------+-------+-----------+----------+\n",
      "4 rows returned in set: (0.001 sec)\n",
      "\n",
      "\n",
      "+---------+-------+-----------+----------+-------------+\n",
      "| orderid | sales | productid | quantity | AverageSale |\n",
      "+---------+-------+-----------+----------+-------------+\n",
      "|    4    |  60   |    105    |    2     |    38.00    |\n",
      "|    6    |  50   |    104    |    2     |    38.00    |\n",
      "|    8    |  90   |    101    |    3     |    38.00    |\n",
      "|   10    |  60   |    102    |    0     |    38.00    |\n",
      "+---------+-------+-----------+----------+-------------+\n",
      "4 rows returned in set: (0.0 sec)\n"
     ]
    }
   ],
   "source": [
    "## Find all orders where sales are higher than the average sales across all orders\n",
    "select_query = \"\"\"SELECT orderid, sales, productid, quantity FROM \n",
    "tbl_orders WHERE Sales > \n",
    "(SELECT ROUND(AVG(COALESCE(sales, 0)), 2) AS AverageSale FROM tbl_orders);\"\"\"\n",
    "execute_display_query_results(select_query)\n",
    "\n",
    "print(\"\\n\")\n",
    "\n",
    "select_query = \"\"\"SELECT * FROM \n",
    "(SELECT orderid, sales, productid, quantity, ROUND(AVG(COALESCE(sales, 0)) OVER(), 2) AS AverageSale \n",
    "FROM tbl_orders) AS T\n",
    "WHERE Sales > AverageSale;\"\"\"\n",
    "execute_display_query_results(select_query)"
   ]
  },
  {
   "cell_type": "markdown",
   "id": "8f404f7c-1852-47ad-9bf8-664f3e6911e7",
   "metadata": {},
   "source": [
    "## MIN AND MAX"
   ]
  },
  {
   "cell_type": "code",
   "execution_count": 46,
   "id": "0664d134-00ed-4621-8f34-0850e9fbc03a",
   "metadata": {},
   "outputs": [
    {
     "name": "stdout",
     "output_type": "stream",
     "text": [
      "+---------+------------+-------------+-----------+----------+-------+------------+-------------+-------------------+--------------------+\n",
      "| orderid | orderdate  | orderstatus | productid | quantity | sales | LowestSale | HighestSale | LowestProductSale | HighestProductSale |\n",
      "+---------+------------+-------------+-----------+----------+-------+------------+-------------+-------------------+--------------------+\n",
      "|    1    | 2025-01-01 |  Delivered  |    101    |    1     |  10   |     10     |     90      |        10         |         90         |\n",
      "|    3    | 2025-01-10 |  Delivered  |    101    |    2     |  20   |     10     |     90      |        10         |         90         |\n",
      "|    8    | 2025-02-18 |   Shipped   |    101    |    3     |  90   |     10     |     90      |        10         |         90         |\n",
      "|    9    | 2025-03-10 |   Shipped   |    101    |    2     |  20   |     10     |     90      |        10         |         90         |\n",
      "|    2    | 2025-01-05 |   Shipped   |    102    |    1     |  15   |     10     |     90      |        15         |         60         |\n",
      "|    7    | 2025-02-15 |  Delivered  |    102    |    2     |  30   |     10     |     90      |        15         |         60         |\n",
      "|   10    | 2025-03-15 |   Shipped   |    102    |    0     |  60   |     10     |     90      |        15         |         60         |\n",
      "|    5    | 2025-02-01 |  Delivered  |    104    |    1     |  25   |     10     |     90      |        25         |         50         |\n",
      "|    6    | 2025-02-05 |  Delivered  |    104    |    2     |  50   |     10     |     90      |        25         |         50         |\n",
      "|    4    | 2025-01-20 |   Shipped   |    105    |    2     |  60   |     10     |     90      |        60         |         60         |\n",
      "+---------+------------+-------------+-----------+----------+-------+------------+-------------+-------------------+--------------------+\n",
      "10 rows returned in set: (0.001 sec)\n"
     ]
    }
   ],
   "source": [
    "# Find the highest and lowest sales across all orders and the highest & lowest sales for each product. Additionally provide details such as order íd and order date\n",
    "select_query = \"\"\"SELECT orderid, orderdate, orderstatus, productid, quantity,sales,\n",
    "MIN(Sales) OVER() AS LowestSale,\n",
    "MAX(Sales) OVER() AS HighestSale,\n",
    "MIN(Sales) OVER(PARTITION BY productid) AS LowestProductSale,\n",
    "MAX(Sales) OVER(PARTITION BY productid) AS HighestProductSale\n",
    "FROM tbl_orders;\"\"\"\n",
    "execute_display_query_results(select_query)"
   ]
  },
  {
   "cell_type": "code",
   "execution_count": 47,
   "id": "59594dc1-5fe0-49b0-b0fc-ed371469b328",
   "metadata": {},
   "outputs": [
    {
     "name": "stdout",
     "output_type": "stream",
     "text": [
      "+------------+-----------+----------+------------+------------+--------+--------+-----------+---------------+\n",
      "| EmployeeID | FirstName | LastName | Department | BirthDate  | Gender | Salary | ManagerID | HighestSalary |\n",
      "+------------+-----------+----------+------------+------------+--------+--------+-----------+---------------+\n",
      "|     1      |   Frank   |   Lee    | Marketing  | 1988-12-05 |   M    | 55000  |   NULL    |     90000     |\n",
      "|     2      |   Kevin   |  Brown   | Marketing  | 1972-11-25 |   M    | 65000  |     1     |     90000     |\n",
      "|     3      |   Mary    |   NULL   |   Sales    | 1986-01-05 |   F    | 75000  |     1     |     90000     |\n",
      "|     4      |  Michael  |   Ray    |   Sales    | 1977-02-10 |   M    | 90000  |     2     |     90000     |\n",
      "|     5      |   Carol   |  Baker   |   Sales    | 1982-02-11 |   F    | 55000  |     3     |     90000     |\n",
      "+------------+-----------+----------+------------+------------+--------+--------+-----------+---------------+\n",
      "5 rows returned in set: (0.001 sec)\n"
     ]
    }
   ],
   "source": [
    "# Find the employees with the highest salaries\n",
    "select_query = \"\"\"SELECT *, \n",
    "MAX(salary) OVER() AS HighestSalary\n",
    "FROM tbl_employees;\"\"\"\n",
    "execute_display_query_results(select_query)"
   ]
  },
  {
   "cell_type": "code",
   "execution_count": 48,
   "id": "1b6de5fb-8802-4924-af10-995626ee1684",
   "metadata": {},
   "outputs": [
    {
     "name": "stdout",
     "output_type": "stream",
     "text": [
      "+------------+-----------+----------+------------+------------+--------+--------+-----------+\n",
      "| EmployeeID | FirstName | LastName | Department | BirthDate  | Gender | Salary | ManagerID |\n",
      "+------------+-----------+----------+------------+------------+--------+--------+-----------+\n",
      "|     4      |  Michael  |   Ray    |   Sales    | 1977-02-10 |   M    | 90000  |     2     |\n",
      "+------------+-----------+----------+------------+------------+--------+--------+-----------+\n",
      "1 row returned in set: (0.001 sec)\n"
     ]
    }
   ],
   "source": [
    "select_query = \"\"\"SELECT * FROM \n",
    "tbl_employees\n",
    "WHERE Salary = (SELECT MAX(salary) FROM tbl_employees);\"\"\"\n",
    "execute_display_query_results(select_query)"
   ]
  },
  {
   "cell_type": "code",
   "execution_count": 49,
   "id": "1272e427-3292-4112-9f3f-cea1d2bb9eae",
   "metadata": {},
   "outputs": [
    {
     "name": "stdout",
     "output_type": "stream",
     "text": [
      "+------------+-----------+----------+------------+------------+--------+--------+-----------+---------------+\n",
      "| EmployeeID | FirstName | LastName | Department | BirthDate  | Gender | Salary | ManagerID | HighestSalary |\n",
      "+------------+-----------+----------+------------+------------+--------+--------+-----------+---------------+\n",
      "|     4      |  Michael  |   Ray    |   Sales    | 1977-02-10 |   M    | 90000  |     2     |     90000     |\n",
      "+------------+-----------+----------+------------+------------+--------+--------+-----------+---------------+\n",
      "1 row returned in set: (0.001 sec)\n"
     ]
    }
   ],
   "source": [
    "# Find the employees with the highest salaries\n",
    "select_query = \"\"\"SELECT * FROM \n",
    "(SELECT *, MAX(salary) OVER() AS HighestSalary\n",
    "FROM tbl_employees) AS T\n",
    "WHERE salary = highestsalary;\"\"\"\n",
    "execute_display_query_results(select_query)"
   ]
  },
  {
   "cell_type": "code",
   "execution_count": 50,
   "id": "408f356b-593d-48b7-adae-e829b177fe73",
   "metadata": {},
   "outputs": [
    {
     "name": "stdout",
     "output_type": "stream",
     "text": [
      "+---------+------------+-------------+-----------+----------+-------+------------+-------------+------------------+------------------+\n",
      "| orderid | orderdate  | orderstatus | productid | quantity | sales | LowestSale | HighestSale | DeviationFromMin | DeviationFromMax |\n",
      "+---------+------------+-------------+-----------+----------+-------+------------+-------------+------------------+------------------+\n",
      "|    1    | 2025-01-01 |  Delivered  |    101    |    1     |  10   |     10     |     90      |        0         |        80        |\n",
      "|    2    | 2025-01-05 |   Shipped   |    102    |    1     |  15   |     10     |     90      |        5         |        75        |\n",
      "|    3    | 2025-01-10 |  Delivered  |    101    |    2     |  20   |     10     |     90      |        10        |        70        |\n",
      "|    4    | 2025-01-20 |   Shipped   |    105    |    2     |  60   |     10     |     90      |        50        |        30        |\n",
      "|    5    | 2025-02-01 |  Delivered  |    104    |    1     |  25   |     10     |     90      |        15        |        65        |\n",
      "|    6    | 2025-02-05 |  Delivered  |    104    |    2     |  50   |     10     |     90      |        40        |        40        |\n",
      "|    7    | 2025-02-15 |  Delivered  |    102    |    2     |  30   |     10     |     90      |        20        |        60        |\n",
      "|    8    | 2025-02-18 |   Shipped   |    101    |    3     |  90   |     10     |     90      |        80        |        0         |\n",
      "|    9    | 2025-03-10 |   Shipped   |    101    |    2     |  20   |     10     |     90      |        10        |        70        |\n",
      "|   10    | 2025-03-15 |   Shipped   |    102    |    0     |  60   |     10     |     90      |        50        |        30        |\n",
      "+---------+------------+-------------+-----------+----------+-------+------------+-------------+------------------+------------------+\n",
      "10 rows returned in set: (0.002 sec)\n"
     ]
    }
   ],
   "source": [
    "## Find the deviation of each sales from the minimum and maximum sales amount\n",
    "select_query = \"\"\"SELECT orderid, orderdate, orderstatus, productid, quantity,sales,\n",
    "MIN(Sales) OVER() AS LowestSale,\n",
    "MAX(Sales) OVER() AS HighestSale,\n",
    "Sales - MIN(Sales) OVER() AS DeviationFromMin,\n",
    "MAX(Sales) OVER() - Sales AS DeviationFromMax\n",
    "FROM tbl_orders;\"\"\"\n",
    "execute_display_query_results(select_query)"
   ]
  },
  {
   "cell_type": "markdown",
   "id": "a04bee89-3189-4630-b622-e177415e9750",
   "metadata": {},
   "source": [
    "# Running & Rolling Total\n",
    "They aggregate sequence of members, and the aggregation is updated each time a new member is added\n",
    "- Running Total: Aggregate all values from the beginning up to the current point without dropping off older data. ```SUM(sales) OVER(ORDER BY MONTH)    default:ROWS BETWEEN UNBOUNDED PRECEDING AND CURRENT ROW```  \n",
    "- Rolling Rotal: Aggregate all values within a fixed time window(e.g. 30 days). As new data is added, the oldest data point will be dropped. ```SUM(sales) OVER(ORDER BY MONTH ROWS BETWEEN 2 PRECEDING AND CURRENT ROW)```"
   ]
  },
  {
   "cell_type": "code",
   "execution_count": 56,
   "id": "0254fc07-4c98-40ce-b361-ae18cadd0ff6",
   "metadata": {},
   "outputs": [
    {
     "name": "stdout",
     "output_type": "stream",
     "text": [
      "+---------+------------+-------------+-----------+----------+-------+-----------------------+---------------+\n",
      "| orderid | orderdate  | orderstatus | productid | quantity | sales | AverageSalesByProduct | MovingAverage |\n",
      "+---------+------------+-------------+-----------+----------+-------+-----------------------+---------------+\n",
      "|    1    | 2025-01-01 |  Delivered  |    101    |    1     |  10   |         35.00         |     10.00     |\n",
      "|    3    | 2025-01-10 |  Delivered  |    101    |    2     |  20   |         35.00         |     15.00     |\n",
      "|    8    | 2025-02-18 |   Shipped   |    101    |    3     |  90   |         35.00         |     40.00     |\n",
      "|    9    | 2025-03-10 |   Shipped   |    101    |    2     |  20   |         35.00         |     35.00     |\n",
      "|    2    | 2025-01-05 |   Shipped   |    102    |    1     |  15   |         35.00         |     15.00     |\n",
      "|    7    | 2025-02-15 |  Delivered  |    102    |    2     |  30   |         35.00         |     22.50     |\n",
      "|   10    | 2025-03-15 |   Shipped   |    102    |    0     |  60   |         35.00         |     35.00     |\n",
      "|    5    | 2025-02-01 |  Delivered  |    104    |    1     |  25   |         37.50         |     25.00     |\n",
      "|    6    | 2025-02-05 |  Delivered  |    104    |    2     |  50   |         37.50         |     37.50     |\n",
      "|    4    | 2025-01-20 |   Shipped   |    105    |    2     |  60   |         60.00         |     60.00     |\n",
      "+---------+------------+-------------+-----------+----------+-------+-----------------------+---------------+\n",
      "10 rows returned in set: (0.001 sec)\n"
     ]
    }
   ],
   "source": [
    "## Calculate the moving average of sales for each product over time\n",
    "select_query = \"\"\"SELECT orderid, orderdate, orderstatus, productid, quantity,sales,\n",
    "ROUND(AVG(Sales) OVER(PARTITION BY productid), 2) AS AverageSalesByProduct,\n",
    "ROUND(AVG(Sales) OVER(PARTITION BY productid ORDER BY orderdate ASC), 2) AS MovingAverage\n",
    "FROM tbl_orders;\"\"\"\n",
    "execute_display_query_results(select_query)"
   ]
  },
  {
   "cell_type": "code",
   "execution_count": 58,
   "id": "4451161e-bf3b-4a0a-96c0-e654c9d22526",
   "metadata": {},
   "outputs": [
    {
     "name": "stdout",
     "output_type": "stream",
     "text": [
      "+---------+------------+-------------+-----------+----------+-------+-----------------------+----------------+\n",
      "| orderid | orderdate  | orderstatus | productid | quantity | sales | AverageSalesByProduct | RollingAverage |\n",
      "+---------+------------+-------------+-----------+----------+-------+-----------------------+----------------+\n",
      "|    1    | 2025-01-01 |  Delivered  |    101    |    1     |  10   |         35.00         |     15.00      |\n",
      "|    3    | 2025-01-10 |  Delivered  |    101    |    2     |  20   |         35.00         |     55.00      |\n",
      "|    8    | 2025-02-18 |   Shipped   |    101    |    3     |  90   |         35.00         |     55.00      |\n",
      "|    9    | 2025-03-10 |   Shipped   |    101    |    2     |  20   |         35.00         |     20.00      |\n",
      "|    2    | 2025-01-05 |   Shipped   |    102    |    1     |  15   |         35.00         |     22.50      |\n",
      "|    7    | 2025-02-15 |  Delivered  |    102    |    2     |  30   |         35.00         |     45.00      |\n",
      "|   10    | 2025-03-15 |   Shipped   |    102    |    0     |  60   |         35.00         |     60.00      |\n",
      "|    5    | 2025-02-01 |  Delivered  |    104    |    1     |  25   |         37.50         |     37.50      |\n",
      "|    6    | 2025-02-05 |  Delivered  |    104    |    2     |  50   |         37.50         |     50.00      |\n",
      "|    4    | 2025-01-20 |   Shipped   |    105    |    2     |  60   |         60.00         |     60.00      |\n",
      "+---------+------------+-------------+-----------+----------+-------+-----------------------+----------------+\n",
      "10 rows returned in set: (0.001 sec)\n"
     ]
    }
   ],
   "source": [
    "## Calculate the moving average of sales for each product over time, including only the next order\n",
    "select_query = \"\"\"SELECT orderid, orderdate, orderstatus, productid, quantity,sales,\n",
    "ROUND(AVG(Sales) OVER(PARTITION BY productid), 2) AS AverageSalesByProduct,\n",
    "ROUND(AVG(Sales) OVER(PARTITION BY productid ORDER BY orderdate ASC ROWS BETWEEN CURRENT ROW AND 1 FOLLOWING), 2) AS RollingAverage\n",
    "FROM tbl_orders;\"\"\"\n",
    "execute_display_query_results(select_query)"
   ]
  },
  {
   "cell_type": "code",
   "execution_count": null,
   "id": "12f33373-3527-4db3-9f8a-478557c6345a",
   "metadata": {},
   "outputs": [],
   "source": []
  }
 ],
 "metadata": {
  "kernelspec": {
   "display_name": "Python 3 (ipykernel)",
   "language": "python",
   "name": "python3"
  },
  "language_info": {
   "codemirror_mode": {
    "name": "ipython",
    "version": 3
   },
   "file_extension": ".py",
   "mimetype": "text/x-python",
   "name": "python",
   "nbconvert_exporter": "python",
   "pygments_lexer": "ipython3",
   "version": "3.11.7"
  }
 },
 "nbformat": 4,
 "nbformat_minor": 5
}
