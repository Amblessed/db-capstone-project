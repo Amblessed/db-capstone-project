{
 "cells": [
  {
   "cell_type": "code",
   "execution_count": 1,
   "id": "7481abca-2eb4-4c4a-a8a5-d739aaca2000",
   "metadata": {},
   "outputs": [],
   "source": [
    "import os\n",
    "import mysql.connector as connector\n",
    "import logging"
   ]
  },
  {
   "cell_type": "code",
   "execution_count": 2,
   "id": "5e19f373-9dfa-4b5a-a678-6da8591d4d3c",
   "metadata": {},
   "outputs": [],
   "source": [
    "logger = logging.getLogger(\"[Views MySQL]\")\n",
    "if os.path.exists(\"../log/views-mysql.log\"):\n",
    "  os.remove(\"../log/views-mysql.log\")\n",
    "logging.basicConfig(filename='../log/views-mysql.log', encoding='utf-8', level=logging.DEBUG, format='%(asctime)s ==> %(message)s', datefmt='%m/%d/%Y %I:%M:%S')"
   ]
  },
  {
   "cell_type": "code",
   "execution_count": 3,
   "id": "ec26b2fd-855f-4b2d-baec-79dc9fe343b8",
   "metadata": {},
   "outputs": [
    {
     "name": "stdout",
     "output_type": "stream",
     "text": [
      "Connection established between MySQL and Python\n"
     ]
    }
   ],
   "source": [
    "logger.info(\"Creating a connection between MySQL and Python\")\n",
    "dbconfig={\"user\":\"root\", \"password\":os.environ[\"MYSQL_PASSWORD\"], \"port\":33061, \"host\":\"localhost\"}\n",
    "connection=connector.connect(**dbconfig)\n",
    "print(\"Connection established between MySQL and Python\")\n",
    "logger.info(\"Connection established between MySQL and Python\")"
   ]
  },
  {
   "cell_type": "code",
   "execution_count": 4,
   "id": "36973388-a94c-42d3-9613-c383c491efeb",
   "metadata": {},
   "outputs": [
    {
     "name": "stdout",
     "output_type": "stream",
     "text": [
      "Creating cursor object from connection\n",
      "Cursor object created to communicate with MySQL using Python.\n"
     ]
    }
   ],
   "source": [
    "print(\"Creating cursor object from connection\")\n",
    "logger.info(\"Creating first cursor object from connection\")\n",
    "cursor = connection.cursor()\n",
    "print(\"Cursor object created to communicate with MySQL using Python.\")\n",
    "logger.info(\"Cursor object created to communicate with MySQL using Python.\")"
   ]
  },
  {
   "cell_type": "code",
   "execution_count": 5,
   "id": "b86e37bf-1208-4764-beac-7315ef304c97",
   "metadata": {},
   "outputs": [
    {
     "name": "stdout",
     "output_type": "stream",
     "text": [
      "Creating Database.\n",
      "Database created.\n"
     ]
    }
   ],
   "source": [
    "# Get a cursor object from the cursor pool\n",
    "database_name: str = \"db_views\"\n",
    "drop_database_query: str = f\"\"\"DROP DATABASE IF EXISTS {database_name}\"\"\"\n",
    "cursor.execute(drop_database_query)\n",
    "logger.info(\"Dropping Database if it already exists.\")\n",
    "\n",
    "create_database_query: str = f\"\"\"CREATE DATABASE IF NOT EXISTS {database_name}\"\"\"\n",
    "print(\"Creating Database.\")\n",
    "logger.info(\"Creating Database.\")\n",
    "cursor.execute(create_database_query)\n",
    "logger.info(\"Database created.\")\n",
    "print(\"Database created.\")"
   ]
  },
  {
   "cell_type": "code",
   "execution_count": 6,
   "id": "51ea4889-c4d2-4ad8-bc09-7bce507b0aaf",
   "metadata": {},
   "outputs": [
    {
     "name": "stdout",
     "output_type": "stream",
     "text": [
      "Database 'db_views' was successfully created\n",
      "Database 'db_views' set for use.\n"
     ]
    }
   ],
   "source": [
    "# Check to see that the database was created\n",
    "list_of_databases: list = []\n",
    "cursor.execute(\"SHOW DATABASES;\")\n",
    "databases = cursor.fetchall()\n",
    "for database in databases:\n",
    "    db_name: str = database[0]\n",
    "    list_of_databases.append(db_name)\n",
    "    if db_name == database_name:\n",
    "        print(f\"Database '{database_name}' was successfully created\")\n",
    "        logger.info(f\"Database '{database_name}' was successfully created.\")\n",
    "        break\n",
    "\n",
    "# Set the new created database as the database to use\n",
    "cursor.execute(f\"USE {database_name}\")\n",
    "print(f\"Database '{database_name}' set for use.\")\n",
    "logger.info(f\"Database '{database_name}' set for use.\")"
   ]
  },
  {
   "cell_type": "code",
   "execution_count": 7,
   "id": "26b96b8b-d62c-496e-9250-0f0216b26f86",
   "metadata": {},
   "outputs": [],
   "source": [
    "create_orders_query = \"\"\"CREATE TABLE IF NOT EXISTS tbl_orders (OrderID INT NOT NULL PRIMARY KEY, ProductID INT, CustomerID INT, SalesPersonID INT, OrderDate Date, ShipDate DATE, OrderStatus VARCHAR(50), ShipAddress VARCHAR(255), BillAddress VARCHAR(255), \n",
    "Quantity INT, Sales INT, CreationTime TimeStamp);\"\"\"\n",
    "cursor.execute(create_orders_query)\n",
    "logger.info(\"tbl_orders table created.\")\n",
    "\n",
    "create_products_query = \"\"\"CREATE TABLE IF NOT EXISTS tbl_products (ProductID INT NOT NULL PRIMARY KEY, Product VARCHAR(50), Category VARCHAR(50), Price INT);\"\"\"\n",
    "cursor.execute(create_products_query)\n",
    "logger.info(\"tbl_products table created.\")\n",
    "\n",
    "create_customers_query = \"\"\"CREATE TABLE IF NOT EXISTS tbl_customers (CustomerID INT NOT NULL PRIMARY KEY, FirstName VARCHAR(50), LastName VARCHAR(50), Country VARCHAR(50), Score INT);\"\"\"\n",
    "cursor.execute(create_customers_query)\n",
    "logger.info(\"tbl_customers table created.\")\n",
    "\n",
    "create_employees_query = \"\"\"CREATE TABLE IF NOT EXISTS tbl_employees (EmployeeID INT NOT NULL PRIMARY KEY, FirstName VARCHAR(50), LastName VARCHAR(50), Department VARCHAR(50), BirthDate Date, Gender CHAR(1), Salary INT, ManagerID INT);\"\"\"\n",
    "cursor.execute(create_employees_query)\n",
    "logger.info(\"tbl_employees table created.\")"
   ]
  },
  {
   "cell_type": "code",
   "execution_count": 8,
   "id": "2df56108-9c55-4611-916a-057b48105cf5",
   "metadata": {},
   "outputs": [],
   "source": [
    "insert_into_orders_query = \"\"\"INSERT INTO tbl_orders(OrderID, ProductID, CustomerID, SalesPersonID, OrderDate, ShipDate, OrderStatus, ShipAddress, BillAddress, Quantity, Sales, CreationTime) VALUES\n",
    "(1, 101, 2, 3, '2025-01-01', '2025-01-05', 'Delivered', '9833 Mt. Dias Blv.', '1226 Shoe St.', 1, 10, '2025-01-01 12:34:56.0000000'),  \n",
    "(2, 102, 3,\t3, '2025-01-05', '2025-01-10', 'Shipped', '250 Race Court', NULL, 1, 15, '2025-01-05 23:22:04.0000000'),\n",
    "(3, 101, 1,\t5, '2025-01-10', '2025-01-25', 'Delivered', '8157 W. Book', '8157 W. Book', 2, 20, '2025-01-10 18:24:08.0000000'),\n",
    "(4, 105, 1, 3, '2025-01-20', '2025-01-25', 'Shipped', '5724 Victory Lane', '',\t2, 60, '2025-01-20 05:50:33.0000000'),\n",
    "(5, 104, 2, 5, '2025-02-01', '2025-02-05', 'Delivered', NULL , NULL , 1, 25, '2025-02-01 14:02:41.0000000'),\n",
    "(6, 104, 3, 5, '2025-02-05', '2025-02-10', 'Delivered', '1792 Belmont Rd.',NULL , 2, 50, '2025-02-06 15:34:57.0000000'),\n",
    "(7, 102, 1, 1, '2025-02-15', '2025-02-27', 'Delivered', '136 Balboa Court', '' , 2, 30, '2025-02-16 06:22:01.0000000'),\n",
    "(8, 101, 4, 3, '2025-02-18', '2025-02-27', 'Shipped', '2947 Vine Lane', '4311 Clay Rd', 3, 90, '2025-02-18 10:45:22.0000000'),\n",
    "(9, 101, 2, 3, '2025-03-10', '2025-03-15', 'Shipped', '3768 Door Way', '', 2, 20, '2025-03-10 12:59:04.0000000'),\n",
    "(10, 102, 3, 5, '2025-03-15', '2025-03-20', 'Shipped', NULL , NULL, 0, 60, '2025-03-16 23:25:15.0000000');\"\"\"\n",
    "\n",
    "cursor.execute(insert_into_orders_query)\n",
    "connection.commit()\n",
    "\n",
    "insert_into_products_query = \"\"\"INSERT INTO tbl_products(ProductID, Product, Category, Price) VALUES\n",
    "(101, 'Bottle', 'Accessories', 10),  \n",
    "(102, 'Tire', 'Accessories', 15),\n",
    "(103, 'Socks', 'Clothing', 20),  \n",
    "(104, 'Caps', 'Clothing', 25),\n",
    "(105, 'Gloves', 'Clothing', 30);\"\"\"\n",
    "\n",
    "value = None\n",
    "\n",
    "cursor.execute(insert_into_products_query)\n",
    "connection.commit()\n",
    "\n",
    "\n",
    "insert_into_customers_query = \"\"\"INSERT INTO tbl_customers(CustomerID, FirstName, LastName, Country, Score) VALUES\n",
    "(1, 'Jossef', 'Goldberg', 'Germany', 350),\n",
    "(2, 'Kevin', 'Brown', 'USA', 900),\n",
    "(3, 'Mary', NULL, 'USA', 750),\n",
    "(4, 'Mark', 'Schwarz', 'Germany', 500),\n",
    "(5, 'Anna', 'Adams', 'USA', NULL);\"\"\"\n",
    "\n",
    "cursor.execute(insert_into_customers_query)\n",
    "connection.commit()\n",
    "\n",
    "insert_into_employees_query = \"\"\"INSERT INTO tbl_employees(EmployeeID, FirstName, LastName, Department, BirthDate, Gender, Salary, ManagerID) VALUES\n",
    "(1, 'Frank', 'Lee', 'Marketing', '1988-12-05', 'M', 55000, NULL),\n",
    "(2, 'Kevin', 'Brown', 'Marketing', '1972-11-25', 'M', 65000, 1),\n",
    "(3, 'Mary', NULL, 'Sales', '1986-01-05', 'F', 75000, 1), \n",
    "(4, 'Michael', 'Ray', 'Sales', '1977-02-10', 'M', 90000, 2), \n",
    "(5, 'Carol', 'Baker', 'Sales', '1982-02-11', 'F', 55000, 3);\"\"\"\n",
    "\n",
    "cursor.execute(insert_into_employees_query)\n",
    "connection.commit()"
   ]
  },
  {
   "cell_type": "markdown",
   "id": "d6db7100-065b-4637-855a-b0be973edbb8",
   "metadata": {},
   "source": [
    "## Function to display results in a table format (like the command line)"
   ]
  },
  {
   "cell_type": "code",
   "execution_count": 9,
   "id": "52fa0f3e-71a7-42cc-8361-174ea272ec41",
   "metadata": {},
   "outputs": [],
   "source": [
    "def select_all_query(table_name: str):\n",
    "    query = f\"\"\"SELECT * FROM {table_name};\"\"\"\n",
    "    return query\n",
    "\n",
    "\n",
    "def display_results(table_column_names: list, results: list):\n",
    "    table_columns_length = [len(x) for x in table_column_names]\n",
    "    for result in results:\n",
    "        for value in range(len(result)):\n",
    "            row_data = result[value]\n",
    "            if row_data:\n",
    "                row_data = str(row_data)\n",
    "                if len(row_data) > table_columns_length[value]:\n",
    "                    table_columns_length[value] = len(row_data)\n",
    "    dashes_plus = \"\"\n",
    "    for num in range(len(table_columns_length)):\n",
    "        dashes_plus = dashes_plus + \"+\" + '-'*(table_columns_length[num]+2)\n",
    "    dashes_plus = dashes_plus + \"+\"\n",
    "    \n",
    "    print(dashes_plus)\n",
    "    \n",
    "    table_headers = \"\"\n",
    "    for num in range(len(table_column_names)):\n",
    "        table_headers = table_headers + f\"| {table_column_names[num]:^{table_columns_length[num]}} \"\n",
    "    table_headers = table_headers + \"|\"\n",
    "    print(table_headers)\n",
    "    \n",
    "    print(dashes_plus)\n",
    "    \n",
    "    for result in results:\n",
    "        table_row = \"\"\n",
    "        for value in range(len(result)):\n",
    "            row_data = result[value]\n",
    "            if row_data is None:\n",
    "                row_data = \"NULL\"            \n",
    "                #if \"Field\" in table_column_names or \"select_type\" in table_column_names:\n",
    "                    #row_data = None\n",
    "                #else:\n",
    "                    #row_data = None\n",
    "            table_row = table_row + \"|\" + f\"{str(row_data):^{table_columns_length[value]+2}}\"\n",
    "        print(table_row + \"|\")\n",
    "    print(dashes_plus)\n",
    "    print(f\"{len(results)} rows returned\")\n",
    "\n",
    "def execute_display_query_results(query: str = \"\", table_column_names: list = [], results: list = []): \n",
    "    if query:\n",
    "        logger.info(f\"Executing the query: {query}\")\n",
    "    if len(query) > 2 and (table_column_names or results):\n",
    "        print(\"You can only pass in the query alone or the table_column_names and results list\")\n",
    "        assert False\n",
    "    if query and not table_column_names and not results:\n",
    "        cursor.execute(query)\n",
    "        results = cursor.fetchall()    \n",
    "        table_column_names = cursor.column_names\n",
    "    \n",
    "    display_results(table_column_names, results)"
   ]
  },
  {
   "cell_type": "code",
   "execution_count": 10,
   "id": "b7107fa8-d3a5-4128-bd80-6cf263e2a01a",
   "metadata": {},
   "outputs": [
    {
     "name": "stdout",
     "output_type": "stream",
     "text": [
      "+---------+-----------+------------+---------------+------------+------------+-------------+--------------------+---------------+----------+-------+---------------------+\n",
      "| OrderID | ProductID | CustomerID | SalesPersonID | OrderDate  |  ShipDate  | OrderStatus |    ShipAddress     |  BillAddress  | Quantity | Sales |    CreationTime     |\n",
      "+---------+-----------+------------+---------------+------------+------------+-------------+--------------------+---------------+----------+-------+---------------------+\n",
      "|    1    |    101    |     2      |       3       | 2025-01-01 | 2025-01-05 |  Delivered  | 9833 Mt. Dias Blv. | 1226 Shoe St. |    1     |  10   | 2025-01-01 12:34:56 |\n",
      "|    2    |    102    |     3      |       3       | 2025-01-05 | 2025-01-10 |   Shipped   |   250 Race Court   |     NULL      |    1     |  15   | 2025-01-05 23:22:04 |\n",
      "|    3    |    101    |     1      |       5       | 2025-01-10 | 2025-01-25 |  Delivered  |    8157 W. Book    | 8157 W. Book  |    2     |  20   | 2025-01-10 18:24:08 |\n",
      "|    4    |    105    |     1      |       3       | 2025-01-20 | 2025-01-25 |   Shipped   | 5724 Victory Lane  |               |    2     |  60   | 2025-01-20 05:50:33 |\n",
      "|    5    |    104    |     2      |       5       | 2025-02-01 | 2025-02-05 |  Delivered  |        NULL        |     NULL      |    1     |  25   | 2025-02-01 14:02:41 |\n",
      "|    6    |    104    |     3      |       5       | 2025-02-05 | 2025-02-10 |  Delivered  |  1792 Belmont Rd.  |     NULL      |    2     |  50   | 2025-02-06 15:34:57 |\n",
      "|    7    |    102    |     1      |       1       | 2025-02-15 | 2025-02-27 |  Delivered  |  136 Balboa Court  |               |    2     |  30   | 2025-02-16 06:22:01 |\n",
      "|    8    |    101    |     4      |       3       | 2025-02-18 | 2025-02-27 |   Shipped   |   2947 Vine Lane   | 4311 Clay Rd  |    3     |  90   | 2025-02-18 10:45:22 |\n",
      "|    9    |    101    |     2      |       3       | 2025-03-10 | 2025-03-15 |   Shipped   |   3768 Door Way    |               |    2     |  20   | 2025-03-10 12:59:04 |\n",
      "|   10    |    102    |     3      |       5       | 2025-03-15 | 2025-03-20 |   Shipped   |        NULL        |     NULL      |    0     |  60   | 2025-03-16 23:25:15 |\n",
      "+---------+-----------+------------+---------------+------------+------------+-------------+--------------------+---------------+----------+-------+---------------------+\n",
      "10 rows returned\n",
      "\n",
      "\n",
      "+-----------+---------+-------------+-------+\n",
      "| ProductID | Product |  Category   | Price |\n",
      "+-----------+---------+-------------+-------+\n",
      "|    101    | Bottle  | Accessories |  10   |\n",
      "|    102    |  Tire   | Accessories |  15   |\n",
      "|    103    |  Socks  |  Clothing   |  20   |\n",
      "|    104    |  Caps   |  Clothing   |  25   |\n",
      "|    105    | Gloves  |  Clothing   |  30   |\n",
      "+-----------+---------+-------------+-------+\n",
      "5 rows returned\n",
      "\n",
      "\n",
      "+------------+-----------+----------+---------+-------+\n",
      "| CustomerID | FirstName | LastName | Country | Score |\n",
      "+------------+-----------+----------+---------+-------+\n",
      "|     1      |  Jossef   | Goldberg | Germany |  350  |\n",
      "|     2      |   Kevin   |  Brown   |   USA   |  900  |\n",
      "|     3      |   Mary    |   NULL   |   USA   |  750  |\n",
      "|     4      |   Mark    | Schwarz  | Germany |  500  |\n",
      "|     5      |   Anna    |  Adams   |   USA   | NULL  |\n",
      "+------------+-----------+----------+---------+-------+\n",
      "5 rows returned\n"
     ]
    }
   ],
   "source": [
    "execute_display_query_results(select_all_query(\"tbl_orders\"))\n",
    "print(\"\\n\")\n",
    "execute_display_query_results(select_all_query(\"tbl_products\"))\n",
    "print(\"\\n\")\n",
    "execute_display_query_results(select_all_query(\"tbl_customers\"))"
   ]
  },
  {
   "cell_type": "markdown",
   "id": "b8a588d9-02a4-48b2-8f8b-258cd037be9d",
   "metadata": {},
   "source": [
    "# Database Server\n",
    "This stores, manages, and provides access to databases for users or applications\n",
    "\n",
    "## Table\n",
    "This a place where data is stored and organized into rows and columns\n",
    "\n",
    "## Views \n",
    "This is a virtual table that shows data without storing it physically. It is based on the result set of a query. Views are persisted SQL queries in the database\n",
    "They are used to store central, complex query logic in the database for access by multiple queries, reducing project complexity\n",
    "\n",
    "## DDL - Data Definition Language\n",
    "A set of commands that allows us to define and manage the structure of a database. **CREATE**, **ALTER**, **DROP**\n",
    "\n",
    "## Physical Level\n",
    "Lowest level. This stores Data Files, Partitions, Logs, Catalog, Blocks, Caches\n",
    "\n",
    "\n"
   ]
  },
  {
   "cell_type": "markdown",
   "id": "cc7b009e-9fbe-46ee-8160-55cf710f06d4",
   "metadata": {},
   "source": [
    "# Views"
   ]
  },
  {
   "cell_type": "markdown",
   "id": "8e2983d6-795c-4a30-a149-a826640d557f",
   "metadata": {},
   "source": [
    "## Task 1\n",
    "Find the running total of sales for each month"
   ]
  },
  {
   "cell_type": "code",
   "execution_count": 19,
   "id": "6ebba08d-88bd-4b62-ac74-a156a200f7e9",
   "metadata": {},
   "outputs": [
    {
     "name": "stdout",
     "output_type": "stream",
     "text": [
      "+------------+------------+-------------+---------------+\n",
      "| OrderMonth | TotalSales | TotalOrders | TotalQuantity |\n",
      "+------------+------------+-------------+---------------+\n",
      "| 2025-01-01 |    105     |      4      |       6       |\n",
      "| 2025-02-01 |    195     |      4      |       8       |\n",
      "| 2025-03-01 |     80     |      2      |       2       |\n",
      "+------------+------------+-------------+---------------+\n",
      "3 rows returned\n"
     ]
    }
   ],
   "source": [
    "select_query = \"\"\"SELECT DATE_FORMAT(OrderDate, '%Y-%m-01') AS OrderMonth, \n",
    "SUM(Sales) AS TotalSales,\n",
    "COUNT(OrderID) AS TotalOrders,\n",
    "SUM(Quantity) AS TotalQuantity\n",
    "FROM tbl_orders\n",
    "GROUP BY DATE_FORMAT(OrderDate, '%Y-%m-01')\n",
    "\"\"\"\n",
    "execute_display_query_results(select_query)"
   ]
  },
  {
   "cell_type": "code",
   "execution_count": 15,
   "id": "94ba35d0-2f7a-4232-b941-31b3a9f1da5b",
   "metadata": {},
   "outputs": [
    {
     "name": "stdout",
     "output_type": "stream",
     "text": [
      "+------------+------------+--------------+\n",
      "| OrderMonth | TotalSales | RunningTotal |\n",
      "+------------+------------+--------------+\n",
      "| 2025-01-01 |    105     |     105      |\n",
      "| 2025-02-01 |    195     |     300      |\n",
      "| 2025-03-01 |     80     |     380      |\n",
      "+------------+------------+--------------+\n",
      "3 rows returned\n"
     ]
    }
   ],
   "source": [
    "select_query = \"\"\"WITH CTE_Monthly_Summary AS (SELECT DATE_FORMAT(OrderDate, '%Y-%m-01') AS OrderMonth, SUM(Sales) AS TotalSales\n",
    "FROM tbl_orders\n",
    "GROUP BY DATE_FORMAT(OrderDate, '%Y-%m-01'))\n",
    "\n",
    "SELECT OrderMonth, TotalSales,\n",
    "SUM(TotalSales) OVER (ORDER BY OrderMonth) AS RunningTotal\n",
    "FROM CTE_Monthly_Summary\n",
    "\"\"\"\n",
    "execute_display_query_results(select_query)"
   ]
  },
  {
   "cell_type": "code",
   "execution_count": 20,
   "id": "83be55cb-ee48-43f9-9d11-8aa18a5773c8",
   "metadata": {},
   "outputs": [],
   "source": [
    "create_view_query = \"\"\"CREATE VIEW Monthly_Summary AS \n",
    "(SELECT DATE_FORMAT(OrderDate, '%Y-%m-01') AS OrderMonth, SUM(Sales) AS TotalSales\n",
    "FROM tbl_orders\n",
    "GROUP BY DATE_FORMAT(OrderDate, '%Y-%m-01'))\n",
    "\"\"\"\n",
    "cursor.execute(create_view_query)"
   ]
  },
  {
   "cell_type": "code",
   "execution_count": 21,
   "id": "696678f0-9e47-4631-9519-5ea48290049b",
   "metadata": {},
   "outputs": [
    {
     "name": "stdout",
     "output_type": "stream",
     "text": [
      "+------------+------------+\n",
      "| OrderMonth | TotalSales |\n",
      "+------------+------------+\n",
      "| 2025-01-01 |    105     |\n",
      "| 2025-02-01 |    195     |\n",
      "| 2025-03-01 |     80     |\n",
      "+------------+------------+\n",
      "3 rows returned\n"
     ]
    }
   ],
   "source": [
    "execute_display_query_results(\"SELECT * FROM Monthly_Summary\")"
   ]
  },
  {
   "cell_type": "code",
   "execution_count": 22,
   "id": "d1f5ceab-b0d4-4763-8210-9062d6cfd243",
   "metadata": {},
   "outputs": [
    {
     "name": "stdout",
     "output_type": "stream",
     "text": [
      "+------------+------------+--------------+\n",
      "| OrderMonth | TotalSales | RunningTotal |\n",
      "+------------+------------+--------------+\n",
      "| 2025-01-01 |    105     |     105      |\n",
      "| 2025-02-01 |    195     |     300      |\n",
      "| 2025-03-01 |     80     |     380      |\n",
      "+------------+------------+--------------+\n",
      "3 rows returned\n"
     ]
    }
   ],
   "source": [
    "select_query = \"\"\"SELECT OrderMonth, TotalSales,\n",
    "SUM(TotalSales) OVER (ORDER BY OrderMonth) AS RunningTotal\n",
    "FROM Monthly_Summary\n",
    "\"\"\"\n",
    "execute_display_query_results(select_query)"
   ]
  },
  {
   "cell_type": "markdown",
   "id": "fdc9cd25-f8aa-4c80-9f00-2cd0e3d5c478",
   "metadata": {},
   "source": [
    "## Alter View"
   ]
  },
  {
   "cell_type": "code",
   "execution_count": 25,
   "id": "7b90484d-bea6-41ef-927a-81644ba0b1e8",
   "metadata": {},
   "outputs": [],
   "source": [
    "create_view_query = \"\"\"ALTER ALGORITHM=MERGE VIEW Monthly_Summary AS \n",
    "(SELECT DATE_FORMAT(OrderDate, '%Y-%m-01') AS OrderMonth, \n",
    "SUM(Sales) AS TotalSales,\n",
    "SUM(Quantity) AS TotalQuantity\n",
    "FROM tbl_orders\n",
    "GROUP BY DATE_FORMAT(OrderDate, '%Y-%m-01'))\n",
    "\"\"\"\n",
    "cursor.execute(create_view_query)"
   ]
  },
  {
   "cell_type": "code",
   "execution_count": 29,
   "id": "b280443c-a5ca-40e9-8b91-867e863ab636",
   "metadata": {},
   "outputs": [
    {
     "name": "stdout",
     "output_type": "stream",
     "text": [
      "+------------+------------+---------------+--------------+\n",
      "| OrderMonth | TotalSales | TotalQuantity | RunningTotal |\n",
      "+------------+------------+---------------+--------------+\n",
      "| 2025-01-01 |    105     |       6       |     380      |\n",
      "| 2025-02-01 |    195     |       8       |     380      |\n",
      "| 2025-03-01 |     80     |       2       |     380      |\n",
      "+------------+------------+---------------+--------------+\n",
      "3 rows returned\n"
     ]
    }
   ],
   "source": [
    "select_query = \"\"\"SELECT *, SUM(TotalSales) OVER () AS RunningTotal\n",
    "FROM Monthly_Summary\n",
    "\"\"\"\n",
    "execute_display_query_results(select_query)"
   ]
  },
  {
   "cell_type": "code",
   "execution_count": 30,
   "id": "7dbd9564-482b-4b09-8e5b-489060286d5f",
   "metadata": {},
   "outputs": [
    {
     "name": "stdout",
     "output_type": "stream",
     "text": [
      "+------------+------------+---------------+--------------+\n",
      "| OrderMonth | TotalSales | TotalQuantity | RunningTotal |\n",
      "+------------+------------+---------------+--------------+\n",
      "| 2025-01-01 |    105     |       6       |     105      |\n",
      "| 2025-02-01 |    195     |       8       |     300      |\n",
      "| 2025-03-01 |     80     |       2       |     380      |\n",
      "+------------+------------+---------------+--------------+\n",
      "3 rows returned\n"
     ]
    }
   ],
   "source": [
    "select_query = \"\"\"SELECT *, SUM(TotalSales) OVER (ORDER BY OrderMonth) AS RunningTotal\n",
    "FROM Monthly_Summary\n",
    "\"\"\"\n",
    "execute_display_query_results(select_query)"
   ]
  },
  {
   "cell_type": "code",
   "execution_count": 31,
   "id": "27a0b599-cbd2-4514-baec-29cd0a2251c1",
   "metadata": {},
   "outputs": [],
   "source": [
    "create_view_query = \"\"\"CREATE OR REPLACE VIEW Monthly_Summary AS \n",
    "(SELECT DATE_FORMAT(OrderDate, '%Y-%m-01') AS OrderMonth, \n",
    "SUM(Sales) AS TotalSales,\n",
    "SUM(Quantity) AS TotalSalesQuantity\n",
    "FROM tbl_orders\n",
    "GROUP BY DATE_FORMAT(OrderDate, '%Y-%m-01'))\n",
    "\"\"\"\n",
    "cursor.execute(create_view_query)"
   ]
  },
  {
   "cell_type": "code",
   "execution_count": 32,
   "id": "de6cf505-63cf-475c-b406-bf792e5f1b58",
   "metadata": {},
   "outputs": [
    {
     "name": "stdout",
     "output_type": "stream",
     "text": [
      "+------------+------------+--------------------+--------------+\n",
      "| OrderMonth | TotalSales | TotalSalesQuantity | RunningTotal |\n",
      "+------------+------------+--------------------+--------------+\n",
      "| 2025-01-01 |    105     |         6          |     105      |\n",
      "| 2025-02-01 |    195     |         8          |     300      |\n",
      "| 2025-03-01 |     80     |         2          |     380      |\n",
      "+------------+------------+--------------------+--------------+\n",
      "3 rows returned\n"
     ]
    }
   ],
   "source": [
    "select_query = \"\"\"SELECT *, SUM(TotalSales) OVER (ORDER BY OrderMonth) AS RunningTotal\n",
    "FROM Monthly_Summary\n",
    "\"\"\"\n",
    "execute_display_query_results(select_query)"
   ]
  },
  {
   "cell_type": "markdown",
   "id": "169b6ed5-c49a-407a-a754-c309a88a1535",
   "metadata": {},
   "source": [
    "## Views Use Case\n",
    "- Views can be used to hide the complexity of database tables and offers users more friendly and easy-to-consume objects.\n",
    "- Use views to enforce security and protect sensitive data, by hiding columns and/or rows from tables"
   ]
  },
  {
   "cell_type": "markdown",
   "id": "95d559d4-bf4f-4c46-835e-30164e57d6e6",
   "metadata": {},
   "source": [
    "## Task 2\n",
    "Provide a view that combines details from orders, products, customers, and employees."
   ]
  },
  {
   "cell_type": "code",
   "execution_count": 51,
   "id": "eb4d6f69-695f-478d-b495-d02207408e9d",
   "metadata": {},
   "outputs": [
    {
     "name": "stdout",
     "output_type": "stream",
     "text": [
      "+---------+------------+-------+----------+---------+-------------+-------+-----------------+--------------+------------+\n",
      "| OrderID | OrderDate  | Sales | Quantity | Product |  Category   | Price |  CustomerName   | EmployeeName | Department |\n",
      "+---------+------------+-------+----------+---------+-------------+-------+-----------------+--------------+------------+\n",
      "|    1    | 2025-01-01 |  10   |    1     | Bottle  | Accessories |  10   |   Kevin Brown   |    Mary      |   Sales    |\n",
      "|    2    | 2025-01-05 |  15   |    1     |  Tire   | Accessories |  15   |      Mary       |    Mary      |   Sales    |\n",
      "|    3    | 2025-01-10 |  20   |    2     | Bottle  | Accessories |  10   | Jossef Goldberg | Carol Baker  |   Sales    |\n",
      "|    4    | 2025-01-20 |  60   |    2     | Gloves  |  Clothing   |  30   | Jossef Goldberg |    Mary      |   Sales    |\n",
      "|    5    | 2025-02-01 |  25   |    1     |  Caps   |  Clothing   |  25   |   Kevin Brown   | Carol Baker  |   Sales    |\n",
      "|    6    | 2025-02-05 |  50   |    2     |  Caps   |  Clothing   |  25   |      Mary       | Carol Baker  |   Sales    |\n",
      "|    7    | 2025-02-15 |  30   |    2     |  Tire   | Accessories |  15   | Jossef Goldberg |  Frank Lee   | Marketing  |\n",
      "|    8    | 2025-02-18 |  90   |    3     | Bottle  | Accessories |  10   |  Mark Schwarz   |    Mary      |   Sales    |\n",
      "|    9    | 2025-03-10 |  20   |    2     | Bottle  | Accessories |  10   |   Kevin Brown   |    Mary      |   Sales    |\n",
      "|   10    | 2025-03-15 |  60   |    0     |  Tire   | Accessories |  15   |      Mary       | Carol Baker  |   Sales    |\n",
      "+---------+------------+-------+----------+---------+-------------+-------+-----------------+--------------+------------+\n",
      "10 rows returned\n"
     ]
    }
   ],
   "source": [
    "# COALESCE() Function: Return the first non-null value in a list:\n",
    "#-- CONCAT(COALESCE(e.FirstName, ''), ' ', COALESCE(e.LastName, '')) AS EmployeeName,\n",
    "select_query = \"\"\"SELECT OrderID, OrderDate, Sales, Quantity, Product, Category, Price, \n",
    "CONCAT(COALESCE(c.FirstName, ''), ' ', COALESCE(c.LastName, '')) AS CustomerName,\n",
    "CONCAT(COALESCE(e.FirstName, ''), ' ', COALESCE(e.LastName, '')) AS EmployeeName,\n",
    "Department\n",
    "FROM tbl_orders o\n",
    "LEFT JOIN tbl_products USING(ProductID)\n",
    "LEFT JOIN tbl_customers c USING(CustomerID)\n",
    "LEFT JOIN tbl_employees e ON e.EmployeeID = o.SalesPersonID\n",
    "\"\"\"\n",
    "execute_display_query_results(select_query)"
   ]
  },
  {
   "cell_type": "code",
   "execution_count": 54,
   "id": "c7f408b8-d611-4a0b-8116-e2db538e5c0c",
   "metadata": {},
   "outputs": [],
   "source": [
    "create_view_query = \"\"\"CREATE OR REPLACE VIEW View_OrderDetails AS (SELECT OrderID, OrderDate, Sales, Quantity, Product, Category, Price, \n",
    "CONCAT(COALESCE(c.FirstName, ''), ' ', COALESCE(c.LastName, '')) AS CustomerName,\n",
    "CONCAT(COALESCE(e.FirstName, ''), ' ', COALESCE(e.LastName, '')) AS EmployeeName,\n",
    "Department\n",
    "FROM tbl_orders o\n",
    "LEFT JOIN tbl_products USING(ProductID)\n",
    "LEFT JOIN tbl_customers c USING(CustomerID)\n",
    "LEFT JOIN tbl_employees e ON e.EmployeeID = o.SalesPersonID);\n",
    "\"\"\"\n",
    "cursor.execute(create_view_query)"
   ]
  },
  {
   "cell_type": "code",
   "execution_count": 55,
   "id": "5365bb18-483d-491b-b3b5-d489efd7c3fe",
   "metadata": {},
   "outputs": [
    {
     "name": "stdout",
     "output_type": "stream",
     "text": [
      "+---------+------------+-------+----------+---------+-------------+-------+-----------------+--------------+------------+\n",
      "| OrderID | OrderDate  | Sales | Quantity | Product |  Category   | Price |  CustomerName   | EmployeeName | Department |\n",
      "+---------+------------+-------+----------+---------+-------------+-------+-----------------+--------------+------------+\n",
      "|    1    | 2025-01-01 |  10   |    1     | Bottle  | Accessories |  10   |   Kevin Brown   |    Mary      |   Sales    |\n",
      "|    2    | 2025-01-05 |  15   |    1     |  Tire   | Accessories |  15   |      Mary       |    Mary      |   Sales    |\n",
      "|    3    | 2025-01-10 |  20   |    2     | Bottle  | Accessories |  10   | Jossef Goldberg | Carol Baker  |   Sales    |\n",
      "|    4    | 2025-01-20 |  60   |    2     | Gloves  |  Clothing   |  30   | Jossef Goldberg |    Mary      |   Sales    |\n",
      "|    5    | 2025-02-01 |  25   |    1     |  Caps   |  Clothing   |  25   |   Kevin Brown   | Carol Baker  |   Sales    |\n",
      "|    6    | 2025-02-05 |  50   |    2     |  Caps   |  Clothing   |  25   |      Mary       | Carol Baker  |   Sales    |\n",
      "|    7    | 2025-02-15 |  30   |    2     |  Tire   | Accessories |  15   | Jossef Goldberg |  Frank Lee   | Marketing  |\n",
      "|    8    | 2025-02-18 |  90   |    3     | Bottle  | Accessories |  10   |  Mark Schwarz   |    Mary      |   Sales    |\n",
      "|    9    | 2025-03-10 |  20   |    2     | Bottle  | Accessories |  10   |   Kevin Brown   |    Mary      |   Sales    |\n",
      "|   10    | 2025-03-15 |  60   |    0     |  Tire   | Accessories |  15   |      Mary       | Carol Baker  |   Sales    |\n",
      "+---------+------------+-------+----------+---------+-------------+-------+-----------------+--------------+------------+\n",
      "10 rows returned\n"
     ]
    }
   ],
   "source": [
    "select_query = \"\"\"SELECT * FROM View_OrderDetails\n",
    "\"\"\"\n",
    "execute_display_query_results(select_query)"
   ]
  },
  {
   "cell_type": "markdown",
   "id": "0369e1fa-4425-49e3-8f3a-6524451569d8",
   "metadata": {},
   "source": [
    "## Task 3\n",
    "Provide a view for the EU Sales Team that combines details from all tables and excludes data related to the USA. "
   ]
  },
  {
   "cell_type": "code",
   "execution_count": 56,
   "id": "9fdcf668-097c-4702-8926-e972abdb919f",
   "metadata": {},
   "outputs": [
    {
     "name": "stdout",
     "output_type": "stream",
     "text": [
      "+------------+-----------+----------+---------+-------+\n",
      "| CustomerID | FirstName | LastName | Country | Score |\n",
      "+------------+-----------+----------+---------+-------+\n",
      "|     1      |  Jossef   | Goldberg | Germany |  350  |\n",
      "|     2      |   Kevin   |  Brown   |   USA   |  900  |\n",
      "|     3      |   Mary    |   NULL   |   USA   |  750  |\n",
      "|     4      |   Mark    | Schwarz  | Germany |  500  |\n",
      "|     5      |   Anna    |  Adams   |   USA   | NULL  |\n",
      "+------------+-----------+----------+---------+-------+\n",
      "5 rows returned\n"
     ]
    }
   ],
   "source": [
    "select_query = \"\"\"SELECT * FROM tbl_customers;\"\"\"\n",
    "execute_display_query_results(select_query)"
   ]
  },
  {
   "cell_type": "code",
   "execution_count": 60,
   "id": "43287cce-553a-4613-a4fb-42b4dabb98b8",
   "metadata": {},
   "outputs": [],
   "source": [
    "create_view_query = \"\"\"CREATE OR REPLACE VIEW View_EU_OrderDetails AS (SELECT OrderID, OrderDate, Sales, Quantity, Product, Category, Price, \n",
    "CONCAT(COALESCE(c.FirstName, ''), ' ', COALESCE(c.LastName, '')) AS CustomerName,\n",
    "CONCAT(COALESCE(e.FirstName, ''), ' ', COALESCE(e.LastName, '')) AS EmployeeName,\n",
    "Department\n",
    "FROM tbl_orders o\n",
    "LEFT JOIN tbl_products USING(ProductID)\n",
    "LEFT JOIN tbl_customers c USING(CustomerID)\n",
    "LEFT JOIN tbl_employees e ON e.EmployeeID = o.SalesPersonID\n",
    "WHERE c.Country != 'USA');\n",
    "\"\"\"\n",
    "cursor.execute(create_view_query)"
   ]
  },
  {
   "cell_type": "code",
   "execution_count": 61,
   "id": "c53242a2-8a5e-407c-89df-43347d149ba9",
   "metadata": {},
   "outputs": [
    {
     "name": "stdout",
     "output_type": "stream",
     "text": [
      "+---------+------------+-------+----------+---------+-------------+-------+-----------------+--------------+------------+\n",
      "| OrderID | OrderDate  | Sales | Quantity | Product |  Category   | Price |  CustomerName   | EmployeeName | Department |\n",
      "+---------+------------+-------+----------+---------+-------------+-------+-----------------+--------------+------------+\n",
      "|    3    | 2025-01-10 |  20   |    2     | Bottle  | Accessories |  10   | Jossef Goldberg | Carol Baker  |   Sales    |\n",
      "|    4    | 2025-01-20 |  60   |    2     | Gloves  |  Clothing   |  30   | Jossef Goldberg |    Mary      |   Sales    |\n",
      "|    7    | 2025-02-15 |  30   |    2     |  Tire   | Accessories |  15   | Jossef Goldberg |  Frank Lee   | Marketing  |\n",
      "|    8    | 2025-02-18 |  90   |    3     | Bottle  | Accessories |  10   |  Mark Schwarz   |    Mary      |   Sales    |\n",
      "+---------+------------+-------+----------+---------+-------------+-------+-----------------+--------------+------------+\n",
      "4 rows returned\n"
     ]
    }
   ],
   "source": [
    "select_query = \"\"\"SELECT * FROM View_EU_OrderDetails\n",
    "\"\"\"\n",
    "execute_display_query_results(select_query)"
   ]
  },
  {
   "cell_type": "code",
   "execution_count": 63,
   "id": "61ba2964-8835-4dab-89ef-0a5ca6597eda",
   "metadata": {},
   "outputs": [],
   "source": [
    "create_view_query = \"\"\"CREATE OR REPLACE VIEW View_Germany_OrderDetails AS (SELECT OrderID AS BestellNr, OrderDate AS Bestelldatum, Sales AS Umstaz, Quantity AS Menge, Product AS Produkt, Category AS Kategorie, Price AS Kosten, \n",
    "CONCAT(COALESCE(c.FirstName, ''), ' ', COALESCE(c.LastName, '')) AS KundenName,\n",
    "CONCAT(COALESCE(e.FirstName, ''), ' ', COALESCE(e.LastName, '')) AS MitarbeiterName,\n",
    "Department AS Abteilung\n",
    "FROM tbl_orders o\n",
    "LEFT JOIN tbl_products USING(ProductID)\n",
    "LEFT JOIN tbl_customers c USING(CustomerID)\n",
    "LEFT JOIN tbl_employees e ON e.EmployeeID = o.SalesPersonID\n",
    "WHERE c.Country = 'Germany');\n",
    "\"\"\"\n",
    "cursor.execute(create_view_query)"
   ]
  },
  {
   "cell_type": "code",
   "execution_count": 64,
   "id": "6ec57d1f-281a-4336-888b-f147e8b8b74c",
   "metadata": {},
   "outputs": [
    {
     "name": "stdout",
     "output_type": "stream",
     "text": [
      "+-----------+--------------+--------+-------+---------+-------------+--------+-----------------+-----------------+-----------+\n",
      "| BestellNr | Bestelldatum | Umstaz | Menge | Produkt |  Kategorie  | Kosten |   KundenName    | MitarbeiterName | Abteilung |\n",
      "+-----------+--------------+--------+-------+---------+-------------+--------+-----------------+-----------------+-----------+\n",
      "|     3     |  2025-01-10  |   20   |   2   | Bottle  | Accessories |   10   | Jossef Goldberg |   Carol Baker   |   Sales   |\n",
      "|     4     |  2025-01-20  |   60   |   2   | Gloves  |  Clothing   |   30   | Jossef Goldberg |      Mary       |   Sales   |\n",
      "|     7     |  2025-02-15  |   30   |   2   |  Tire   | Accessories |   15   | Jossef Goldberg |    Frank Lee    | Marketing |\n",
      "|     8     |  2025-02-18  |   90   |   3   | Bottle  | Accessories |   10   |  Mark Schwarz   |      Mary       |   Sales   |\n",
      "+-----------+--------------+--------+-------+---------+-------------+--------+-----------------+-----------------+-----------+\n",
      "4 rows returned\n"
     ]
    }
   ],
   "source": [
    "select_query = \"\"\"SELECT * FROM View_Germany_OrderDetails\n",
    "\"\"\"\n",
    "execute_display_query_results(select_query)"
   ]
  },
  {
   "cell_type": "code",
   "execution_count": 66,
   "id": "32afa9d5-6dc5-47c4-bb7b-1ded17dcde85",
   "metadata": {},
   "outputs": [
    {
     "name": "stdout",
     "output_type": "stream",
     "text": [
      "+-----------+---------+----------------+---------------+-------------+------------+\n",
      "| BookingID | TableNo | GuestFirstName | GuestLastName | BookingSlot | EmployeeID |\n",
      "+-----------+---------+----------------+---------------+-------------+------------+\n",
      "|     1     |   12    |      Anna      |    Iversen    |  19:00:00   |     1      |\n",
      "|     2     |   12    |     Joakim     |    Iversen    |  19:00:00   |     1      |\n",
      "|     3     |   19    |    Vanessa     |   McCarthy    |  15:00:00   |     3      |\n",
      "|     4     |   15    |     Marcos     |    Romero     |  17:30:00   |     4      |\n",
      "|     5     |    5    |     Hiroki     |    Yamane     |  18:30:00   |     2      |\n",
      "|     6     |    8    |     Diana      |     Pinto     |  20:00:00   |     5      |\n",
      "+-----------+---------+----------------+---------------+-------------+------------+\n",
      "6 rows returned\n"
     ]
    }
   ],
   "source": [
    "select_query = \"SELECT * FROM db_Exercise.Bookings;\"\n",
    "execute_display_query_results(select_query)"
   ]
  },
  {
   "cell_type": "code",
   "execution_count": 67,
   "id": "762f976d-c0ca-40f4-8774-dba6e7be9382",
   "metadata": {},
   "outputs": [
    {
     "name": "stdout",
     "output_type": "stream",
     "text": [
      "+-----------------------+\n",
      "| Tables_in_db_Exercise |\n",
      "+-----------------------+\n",
      "|       Bookings        |\n",
      "|       Customers       |\n",
      "|      FoodOrders       |\n",
      "|   LowCostMenuItems    |\n",
      "|       MenuItems       |\n",
      "|         Menus         |\n",
      "|         Staff         |\n",
      "|      TableOrders      |\n",
      "+-----------------------+\n",
      "8 rows returned\n"
     ]
    }
   ],
   "source": [
    "select_query = \"SHOW TABLES FROM db_Exercise;\"\n",
    "execute_display_query_results(select_query)"
   ]
  },
  {
   "cell_type": "code",
   "execution_count": 68,
   "id": "066342aa-2cbb-47b7-a7aa-1ea8898bd090",
   "metadata": {},
   "outputs": [
    {
     "name": "stdout",
     "output_type": "stream",
     "text": [
      "+------------------------+\n",
      "|        Database        |\n",
      "+------------------------+\n",
      "|          CVD           |\n",
      "|     LittleLemonDB      |\n",
      "|           PC           |\n",
      "|    STAFF_LOCATIONS     |\n",
      "|     classicmodels      |\n",
      "|      db_Exercise       |\n",
      "|         db_hr          |\n",
      "|       db_learner       |\n",
      "|    db_little_lemon     |\n",
      "|        db_meta         |\n",
      "| db_meta_advanced_mysql |\n",
      "|   db_meta_dsm_mysql    |\n",
      "|     db_mysqladmin      |\n",
      "|     db_subqueries      |\n",
      "|        db_views        |\n",
      "|        db_world        |\n",
      "|   global_super_store   |\n",
      "|   information_schema   |\n",
      "|      little_lemon      |\n",
      "|    little_lemon_db     |\n",
      "|      lucky_Shrub       |\n",
      "|     mangata_gallo      |\n",
      "|     mangata_jw_db      |\n",
      "|        meta_db         |\n",
      "|       mg_schema        |\n",
      "|         mysql          |\n",
      "|   performance_schema   |\n",
      "|         sakila         |\n",
      "|          sys           |\n",
      "+------------------------+\n",
      "29 rows returned\n"
     ]
    }
   ],
   "source": [
    "select_query = \"SHOW databases;\"\n",
    "execute_display_query_results(select_query)"
   ]
  },
  {
   "cell_type": "code",
   "execution_count": null,
   "id": "63aa205b-32ea-440a-8ec4-88a544084b1d",
   "metadata": {},
   "outputs": [],
   "source": []
  }
 ],
 "metadata": {
  "kernelspec": {
   "display_name": "Python 3 (ipykernel)",
   "language": "python",
   "name": "python3"
  },
  "language_info": {
   "codemirror_mode": {
    "name": "ipython",
    "version": 3
   },
   "file_extension": ".py",
   "mimetype": "text/x-python",
   "name": "python",
   "nbconvert_exporter": "python",
   "pygments_lexer": "ipython3",
   "version": "3.11.7"
  }
 },
 "nbformat": 4,
 "nbformat_minor": 5
}
