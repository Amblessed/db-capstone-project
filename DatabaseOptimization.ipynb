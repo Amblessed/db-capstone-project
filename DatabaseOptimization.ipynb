{
 "cells": [
  {
   "cell_type": "markdown",
   "id": "8705d037-1f94-486f-ab6f-417f90e41064",
   "metadata": {},
   "source": [
    "## Database Optimization: \n",
    "Improving database performance to reduce the execution of a query"
   ]
  },
  {
   "cell_type": "code",
   "execution_count": null,
   "id": "41c99cf9-a852-4e5e-8612-0cd20cabbb28",
   "metadata": {},
   "outputs": [],
   "source": []
  }
 ],
 "metadata": {
  "kernelspec": {
   "display_name": "Python 3 (ipykernel)",
   "language": "python",
   "name": "python3"
  },
  "language_info": {
   "codemirror_mode": {
    "name": "ipython",
    "version": 3
   },
   "file_extension": ".py",
   "mimetype": "text/x-python",
   "name": "python",
   "nbconvert_exporter": "python",
   "pygments_lexer": "ipython3",
   "version": "3.11.7"
  }
 },
 "nbformat": 4,
 "nbformat_minor": 5
}
