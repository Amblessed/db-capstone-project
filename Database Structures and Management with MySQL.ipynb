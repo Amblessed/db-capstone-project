{
 "cells": [
  {
   "cell_type": "markdown",
   "id": "a650d078-6298-4b9b-b187-e56fe70752fc",
   "metadata": {},
   "source": [
    "## Import the necessary modules"
   ]
  },
  {
   "cell_type": "code",
   "execution_count": 10,
   "id": "8310d2c5-d0a7-44bd-ac1e-57be9f99402a",
   "metadata": {},
   "outputs": [],
   "source": [
    "import mysql.connector as connector\n",
    "import os\n",
    "from mysql.connector.pooling import MySQLConnectionPool\n",
    "from mysql.connector import Error\n",
    "import logging\n",
    "import datetime\n",
    "from mysql.connector import FieldType"
   ]
  },
  {
   "cell_type": "markdown",
   "id": "b1761947-9191-4aaf-8262-e067852df0de",
   "metadata": {},
   "source": [
    "## Create a logger"
   ]
  },
  {
   "cell_type": "code",
   "execution_count": 11,
   "id": "0285f71f-f321-4f39-a276-26f90cb14fc5",
   "metadata": {},
   "outputs": [],
   "source": [
    "logger = logging.getLogger(\"[Database Structures and Management with MySQL]\")\n",
    "logging.basicConfig(filename='management-with-mysql.log', encoding='utf-8', level=logging.DEBUG, format='%(asctime)s ==> %(message)s', datefmt='%m/%d/%Y %I:%M:%S')"
   ]
  },
  {
   "cell_type": "markdown",
   "id": "5ef611b0-b132-4ae6-9fa6-88800c9292b1",
   "metadata": {},
   "source": [
    "## Establish a connection using MySQlConnectionPool "
   ]
  },
  {
   "cell_type": "code",
   "execution_count": 12,
   "id": "0349d826-9ba7-403f-82bc-838f30549b95",
   "metadata": {},
   "outputs": [
    {
     "name": "stdout",
     "output_type": "stream",
     "text": [
      "The connection pool is created with a name: pool_b\n",
      "The pool size is: 4\n"
     ]
    }
   ],
   "source": [
    "dbconfig={\"user\":\"root\", \"password\":os.environ[\"MYSQL_PASSWORD\"], \"port\":33061, \"host\":\"localhost\"}\n",
    "try:\n",
    "    logger.info(\"Creating connection pools\")\n",
    "    pool = MySQLConnectionPool(pool_size=4, pool_name=\"pool_b\", **dbconfig)\n",
    "    print(f\"The connection pool is created with a name: {pool.pool_name}\")\n",
    "    logger.info(f\"The connection pool is created with a name: {pool.pool_name}\")\n",
    "    print(f\"The pool size is: {pool.pool_size}\")\n",
    "    logger.info(f\"The pool size is: {pool.pool_size}\")\n",
    "except Error as err:\n",
    "    print(f\"Error code: {err.errno}\")\n",
    "    logger.info(f\"Error code: {err.errno}\")\n",
    "    print(f\"Error message: {err.msg}\")\n",
    "    logger.info(f\"Error message: {err.msg}\")"
   ]
  },
  {
   "cell_type": "markdown",
   "id": "194a55bd-8baf-4966-9880-6ffdd19af8f6",
   "metadata": {},
   "source": [
    "## Creating a connection from the connection pool"
   ]
  },
  {
   "cell_type": "code",
   "execution_count": 13,
   "id": "4d4a9c2e-825b-4b74-86d3-085d16d08253",
   "metadata": {},
   "outputs": [
    {
     "name": "stdout",
     "output_type": "stream",
     "text": [
      "First connections established between MySQL and Python\n"
     ]
    }
   ],
   "source": [
    "first_connection = pool.get_connection()\n",
    "print(\"First connections established between MySQL and Python\")\n",
    "logger.info(\"First connections established between MySQL and Python\")"
   ]
  },
  {
   "cell_type": "markdown",
   "id": "1d1321c1-9e25-4dd1-866e-9129ce847940",
   "metadata": {},
   "source": [
    "## Create a cursor objects"
   ]
  },
  {
   "cell_type": "code",
   "execution_count": 14,
   "id": "c822cb1f-1521-4809-9daa-9603c1aa4daf",
   "metadata": {},
   "outputs": [
    {
     "name": "stdout",
     "output_type": "stream",
     "text": [
      "Creating first cursor object from the first connection\n",
      "First Cursor object created to communicate with MySQL using Python.\n"
     ]
    }
   ],
   "source": [
    "print(\"Creating first cursor object from the first connection\")\n",
    "logger.info(\"Creating first cursor object from the first connection\")\n",
    "first_cursor = first_connection.cursor(buffered=True)\n",
    "print(\"First Cursor object created to communicate with MySQL using Python.\")\n",
    "logger.info(\"First Cursor object created to communicate with MySQL using Python.\")"
   ]
  },
  {
   "cell_type": "markdown",
   "id": "d197aa7f-4a61-4b87-a75f-36cb7284886c",
   "metadata": {},
   "source": [
    "## Create Database "
   ]
  },
  {
   "cell_type": "code",
   "execution_count": 15,
   "id": "04c0b856-36ab-4c06-8ad5-e32e9e87441d",
   "metadata": {},
   "outputs": [
    {
     "name": "stdout",
     "output_type": "stream",
     "text": [
      "Creating Database.\n",
      "Database created.\n"
     ]
    }
   ],
   "source": [
    "# Get a cursor object from the cursor pool\n",
    "database_name = \"db_meta_dsm_mysql\"\n",
    "drop_database_query = f\"\"\"DROP DATABASE IF EXISTS {database_name}\"\"\"\n",
    "first_cursor.execute(drop_database_query)\n",
    "logger.info(\"Dropping Database if it already exists.\")\n",
    "\n",
    "create_database_query: str = f\"\"\"CREATE DATABASE IF NOT EXISTS {database_name}\"\"\"\n",
    "print(\"Creating Database.\")\n",
    "logger.info(\"Creating Database.\")\n",
    "first_cursor.execute(create_database_query)\n",
    "logger.info(\"Database created.\")\n",
    "print(\"Database created.\")"
   ]
  },
  {
   "cell_type": "code",
   "execution_count": 16,
   "id": "b50b68f8-ad72-4346-ad88-93cc7a267b9c",
   "metadata": {},
   "outputs": [
    {
     "name": "stdout",
     "output_type": "stream",
     "text": [
      "Database 'db_meta_dsm_mysql' was successfully created\n",
      "['CVD', 'LittleLemonDB', 'PC', 'STAFF_LOCATIONS', 'db_Exercise', 'db_hr', 'db_learner', 'db_little_lemon', 'db_meta', 'db_meta_dsm_mysql']\n"
     ]
    }
   ],
   "source": [
    "# Check to see that the database was created\n",
    "list_of_databases: list = []\n",
    "first_cursor.execute(\"SHOW DATABASES;\")\n",
    "databases = first_cursor.fetchall()\n",
    "for database in databases:\n",
    "    db_name: str = database[0]\n",
    "    list_of_databases.append(db_name)\n",
    "    if db_name == database_name:\n",
    "        print(f\"Database '{database_name}' was successfully created\")\n",
    "        logger.info(f\"Database '{database_name}' was successfully created.\")\n",
    "        break\n",
    "print(list_of_databases)\n",
    "logger.info(list_of_databases)"
   ]
  },
  {
   "cell_type": "code",
   "execution_count": 17,
   "id": "71d5c5dc-e2c5-412b-917f-7ee5179c066a",
   "metadata": {},
   "outputs": [
    {
     "name": "stdout",
     "output_type": "stream",
     "text": [
      "Database 'db_meta_dsm_mysql' is set for use.\n"
     ]
    }
   ],
   "source": [
    "# Set the new created database as the database to use\n",
    "first_cursor.execute(f\"USE {database_name}\")\n",
    "print(f\"Database '{database_name}' is set for use.\")\n",
    "logger.info(f\"Database '{database_name}' is set for use.\")"
   ]
  },
  {
   "cell_type": "markdown",
   "id": "a34e4b84-be69-4bf1-8a92-6e7319134848",
   "metadata": {},
   "source": [
    "## Assert Database contains no Tables"
   ]
  },
  {
   "cell_type": "code",
   "execution_count": 18,
   "id": "aca462d1-c795-4092-ae3e-8697215fdbbf",
   "metadata": {},
   "outputs": [],
   "source": [
    "## Expect an empty list to be returned \n",
    "first_cursor.execute(\"SHOW TABLES;\")\n",
    "results = first_cursor.rowcount\n",
    "assert results == 0"
   ]
  },
  {
   "cell_type": "markdown",
   "id": "88ce950d-f34b-4b66-a3e9-8d57c49d570a",
   "metadata": {},
   "source": [
    "## Create Table"
   ]
  },
  {
   "cell_type": "code",
   "execution_count": 19,
   "id": "66094b15-7e35-4563-a10d-ae5033f69051",
   "metadata": {},
   "outputs": [
    {
     "name": "stdout",
     "output_type": "stream",
     "text": [
      "Table tbl_orders successfully created\n"
     ]
    }
   ],
   "source": [
    "create_table_query = \"\"\"CREATE TABLE IF NOT EXISTS tbl_orders (OrderID INT NOT NULL PRIMARY KEY, ClientID VARCHAR(10),  ProductID VARCHAR(10),  Quantity INT, Cost DECIMAL(6,2));\"\"\"\n",
    "first_cursor.execute(create_table_query)\n",
    "print(\"Table tbl_orders successfully created\")\n",
    "logger.info(\"Table tbl_orders successfully created\")"
   ]
  },
  {
   "cell_type": "markdown",
   "id": "3b246ef8-dd37-4773-abae-6678995cdead",
   "metadata": {},
   "source": [
    "## Populate the table with data"
   ]
  },
  {
   "cell_type": "code",
   "execution_count": 20,
   "id": "2a6f8f02-0b3c-4465-bc17-6498296b5a3a",
   "metadata": {},
   "outputs": [
    {
     "name": "stdout",
     "output_type": "stream",
     "text": [
      "Inserting records into the tbl_orders table\n"
     ]
    }
   ],
   "source": [
    "insert_into_tbl_order_query = \"\"\"INSERT INTO tbl_orders (OrderID, ClientID, ProductID , Quantity, Cost) VALUES (1, \"Cl1\", \"P1\", 10, 500), (2, \"Cl2\", \"P2\", 5, 100), (3, \"Cl3\", \"P3\", 20, 800), (4, \"Cl4\", \"P4\", 15, 150),\n",
    "(5, \"Cl3\", \"P3\", 10, 450), (6, \"Cl2\", \"P2\", 5, 800), (7, \"Cl1\", \"P4\", 22, 1200), (8, \"Cl3\", \"P1\", 15, 150), (9, \"Cl1\", \"P1\", 10, 500), (10, \"Cl2\", \"P2\", 5, 100);\"\"\"\n",
    "\n",
    "# Populate Menu table\n",
    "print(\"Inserting records into the tbl_orders table\")\n",
    "logger.info(\"Inserting records into the tbl_orders table\")\n",
    "first_cursor.execute(insert_into_tbl_order_query)\n",
    "first_connection.commit()"
   ]
  },
  {
   "cell_type": "markdown",
   "id": "b1d8382c-7fcc-4e33-96b3-3fe3eb402a18",
   "metadata": {},
   "source": [
    "## Create a function to display results"
   ]
  },
  {
   "cell_type": "code",
   "execution_count": 21,
   "id": "ff704c5e-259b-4ebf-bf85-e3ec8f26e159",
   "metadata": {},
   "outputs": [],
   "source": [
    "# This function allows us to display the results in the mysql command line format\n",
    "\n",
    "def get_max_number_from_columns(query: str):\n",
    "    max_number_column = 0\n",
    "    tables_in_query = []\n",
    "    second_connection = pool.get_connection()\n",
    "    second_cursor = second_connection.cursor()\n",
    "    second_cursor.execute(f\"USE {database_name}\") \n",
    "    second_cursor.execute(\"SHOW TABLES;\")\n",
    "    tables = second_cursor.fetchall()\n",
    "    for table in tables:\n",
    "        tbl_name = table[0]\n",
    "        if tbl_name in query:\n",
    "            second_cursor.execute(f\"SHOW COLUMNS FROM {tbl_name}\")\n",
    "            columns = second_cursor.fetchall()\n",
    "            if \"*\" in query:\n",
    "                for column in columns:\n",
    "                    column_name = column[0]\n",
    "                    max_query = f\"SELECT MAX(LENGTH({column_name})) FROM {tbl_name}\"\n",
    "                    try:\n",
    "                        second_cursor.execute(max_query)\n",
    "                        result = second_cursor.fetchone()\n",
    "                        if result[0] > max_number_column:\n",
    "                            max_number_column = result[0]\n",
    "                    except Error as err:\n",
    "                        continue\n",
    "            else:\n",
    "                for column in columns:\n",
    "                    column_name = column[0]\n",
    "                    if column_name in query:\n",
    "                        max_query = f\"SELECT MAX(LENGTH({column_name})) FROM {tbl_name}\"\n",
    "                        try:\n",
    "                            second_cursor.execute(max_query)\n",
    "                            result = second_cursor.fetchone()\n",
    "                            if result[0] > max_number_column:\n",
    "                                max_number_column = result[0]\n",
    "                        except Error as err:\n",
    "                            continue\n",
    "    second_cursor.close()\n",
    "    second_connection.close()\n",
    "    return max_number_column\n",
    "\n",
    "\n",
    "def display_query_results(query: str): \n",
    "    logger.info(f\"Executing the query: {query}\")\n",
    "    max_number_column = get_max_number_from_columns(query)\n",
    "    first_cursor.execute(query)\n",
    "    results = first_cursor.fetchall()\n",
    "    table_column_names = first_cursor.column_names\n",
    "    length = [len(x) for x in table_column_names]\n",
    "    max_number_values =  max(length)\n",
    "    max_number = max_number_column if max_number_column > max_number_values else max_number_values\n",
    "    message = \"\"\n",
    "    for _ in length:\n",
    "        message = message + \"+\" + '-'*(max_number+2)\n",
    "    message = message + \"+\"\n",
    "    print(message)\n",
    "    output = \"\"\n",
    "    for column in table_column_names:\n",
    "        output = output + f\"| {column:^{max_number}} \"\n",
    "    output = output + \"|\"\n",
    "    print(output)\n",
    "    print(message)\n",
    "\n",
    "    for result in results:\n",
    "        display = \"\"\n",
    "        for value in range(len(result)):\n",
    "            text = result[value]\n",
    "            if isinstance(text, datetime.date):\n",
    "                text = str(text)\n",
    "            if not text:\n",
    "                text = \"None\"\n",
    "            display = display + \"|\" + f\"{text:^{max_number+2}}\"\n",
    "        print(display + \"|\")\n",
    "    print(message)"
   ]
  },
  {
   "cell_type": "code",
   "execution_count": 22,
   "id": "aee2a78a-8e4e-4599-925a-8fff00cea0ea",
   "metadata": {},
   "outputs": [
    {
     "name": "stdout",
     "output_type": "stream",
     "text": [
      "+-----------+-----------+-----------+-----------+-----------+\n",
      "|  OrderID  | ClientID  | ProductID | Quantity  |   Cost    |\n",
      "+-----------+-----------+-----------+-----------+-----------+\n",
      "|     1     |    Cl1    |    P1     |    10     |  500.00   |\n",
      "|     2     |    Cl2    |    P2     |     5     |  100.00   |\n",
      "|     3     |    Cl3    |    P3     |    20     |  800.00   |\n",
      "|     4     |    Cl4    |    P4     |    15     |  150.00   |\n",
      "|     5     |    Cl3    |    P3     |    10     |  450.00   |\n",
      "|     6     |    Cl2    |    P2     |     5     |  800.00   |\n",
      "|     7     |    Cl1    |    P4     |    22     |  1200.00  |\n",
      "|     8     |    Cl3    |    P1     |    15     |  150.00   |\n",
      "|     9     |    Cl1    |    P1     |    10     |  500.00   |\n",
      "|    10     |    Cl2    |    P2     |     5     |  100.00   |\n",
      "+-----------+-----------+-----------+-----------+-----------+\n"
     ]
    }
   ],
   "source": [
    "## Show all the records in the table\n",
    "select_query = \"SELECT * FROM tbl_orders;\"\n",
    "display_query_results(select_query)"
   ]
  },
  {
   "cell_type": "markdown",
   "id": "ad64cfcf-7daf-483b-b499-532a26b0b1c9",
   "metadata": {},
   "source": [
    "# Filtering Task"
   ]
  },
  {
   "cell_type": "markdown",
   "id": "f39b9b6c-8a05-4320-b46d-f62e84066595",
   "metadata": {},
   "source": [
    "## Task 1\n",
    "Write a SQL statement to print all records of orders where the cost is $250 or less."
   ]
  },
  {
   "cell_type": "code",
   "execution_count": 23,
   "id": "52fd154c-0765-45a9-a462-74d4048641d1",
   "metadata": {},
   "outputs": [
    {
     "name": "stdout",
     "output_type": "stream",
     "text": [
      "+-----------+-----------+-----------+-----------+-----------+\n",
      "|  OrderID  | ClientID  | ProductID | Quantity  |   Cost    |\n",
      "+-----------+-----------+-----------+-----------+-----------+\n",
      "|     2     |    Cl2    |    P2     |     5     |  100.00   |\n",
      "|     4     |    Cl4    |    P4     |    15     |  150.00   |\n",
      "|     8     |    Cl3    |    P1     |    15     |  150.00   |\n",
      "|    10     |    Cl2    |    P2     |     5     |  100.00   |\n",
      "+-----------+-----------+-----------+-----------+-----------+\n"
     ]
    }
   ],
   "source": [
    "select_query = \"SELECT * FROM tbl_orders WHERE Cost <= 250;\"\n",
    "display_query_results(select_query)"
   ]
  },
  {
   "cell_type": "markdown",
   "id": "6ae88d89-10e0-4d6b-9c06-f8063aac634e",
   "metadata": {},
   "source": [
    "## Task 2\n",
    "Write a SQL statement to print all records of orders where the cost is between \\\\$50 and \\\\$750."
   ]
  },
  {
   "cell_type": "code",
   "execution_count": 24,
   "id": "9f617bd9-7379-4354-a074-5fcbe41e9acd",
   "metadata": {},
   "outputs": [
    {
     "name": "stdout",
     "output_type": "stream",
     "text": [
      "+-----------+-----------+-----------+-----------+-----------+\n",
      "|  OrderID  | ClientID  | ProductID | Quantity  |   Cost    |\n",
      "+-----------+-----------+-----------+-----------+-----------+\n",
      "|     1     |    Cl1    |    P1     |    10     |  500.00   |\n",
      "|     2     |    Cl2    |    P2     |     5     |  100.00   |\n",
      "|     4     |    Cl4    |    P4     |    15     |  150.00   |\n",
      "|     5     |    Cl3    |    P3     |    10     |  450.00   |\n",
      "|     8     |    Cl3    |    P1     |    15     |  150.00   |\n",
      "|     9     |    Cl1    |    P1     |    10     |  500.00   |\n",
      "|    10     |    Cl2    |    P2     |     5     |  100.00   |\n",
      "+-----------+-----------+-----------+-----------+-----------+\n"
     ]
    }
   ],
   "source": [
    "select_query = \"SELECT * FROM tbl_orders WHERE Cost BETWEEN 50 and 750;\"\n",
    "display_query_results(select_query)"
   ]
  },
  {
   "cell_type": "markdown",
   "id": "409e881a-0b74-4be1-afd3-bd864b29a7cb",
   "metadata": {},
   "source": [
    "## Task 3\n",
    "Write a SQL statement to print all records of orders that have been placed by the client with the id of Cl3 and where the cost of the order is more than $100."
   ]
  },
  {
   "cell_type": "code",
   "execution_count": 25,
   "id": "4b1f2a87-168a-4d53-b5aa-0e4e3bed830d",
   "metadata": {},
   "outputs": [
    {
     "name": "stdout",
     "output_type": "stream",
     "text": [
      "+-----------+-----------+-----------+-----------+-----------+\n",
      "|  OrderID  | ClientID  | ProductID | Quantity  |   Cost    |\n",
      "+-----------+-----------+-----------+-----------+-----------+\n",
      "|     3     |    Cl3    |    P3     |    20     |  800.00   |\n",
      "|     5     |    Cl3    |    P3     |    10     |  450.00   |\n",
      "|     8     |    Cl3    |    P1     |    15     |  150.00   |\n",
      "+-----------+-----------+-----------+-----------+-----------+\n"
     ]
    }
   ],
   "source": [
    "select_query = \"SELECT * FROM tbl_orders WHERE ClientID = 'Cl3' AND Cost > 100;\"\n",
    "display_query_results(select_query)"
   ]
  },
  {
   "cell_type": "markdown",
   "id": "89bd1932-62da-4bce-a1c9-33e86a251d15",
   "metadata": {},
   "source": [
    "## Task 4\n",
    "Write a SQL statement to print all records of orders that have a product id of p1 or p2 and the order quantity is more than 2. "
   ]
  },
  {
   "cell_type": "code",
   "execution_count": 26,
   "id": "ade674a1-8c5a-4bca-9a4f-b06b84b5fecf",
   "metadata": {},
   "outputs": [
    {
     "name": "stdout",
     "output_type": "stream",
     "text": [
      "+-----------+-----------+-----------+-----------+-----------+\n",
      "|  OrderID  | ClientID  | ProductID | Quantity  |   Cost    |\n",
      "+-----------+-----------+-----------+-----------+-----------+\n",
      "|     1     |    Cl1    |    P1     |    10     |  500.00   |\n",
      "|     2     |    Cl2    |    P2     |     5     |  100.00   |\n",
      "|     6     |    Cl2    |    P2     |     5     |  800.00   |\n",
      "|     8     |    Cl3    |    P1     |    15     |  150.00   |\n",
      "|     9     |    Cl1    |    P1     |    10     |  500.00   |\n",
      "|    10     |    Cl2    |    P2     |     5     |  100.00   |\n",
      "+-----------+-----------+-----------+-----------+-----------+\n"
     ]
    }
   ],
   "source": [
    "select_query = \"SELECT * FROM tbl_orders WHERE ProductID IN ('P1', 'P2') AND Quantity > 2;\"\n",
    "display_query_results(select_query)"
   ]
  },
  {
   "cell_type": "markdown",
   "id": "d72b16e5-cbbb-471b-93f0-ad051c4ae9ae",
   "metadata": {},
   "source": [
    "# Joins"
   ]
  },
  {
   "cell_type": "code",
   "execution_count": 27,
   "id": "c53b1338-a5ba-4aca-8105-654a62237d2d",
   "metadata": {},
   "outputs": [
    {
     "name": "stdout",
     "output_type": "stream",
     "text": [
      "Table tbl_customers successfully created\n",
      "Table tbl_bookings successfully created\n"
     ]
    }
   ],
   "source": [
    "## Create additional tables\n",
    "create_table_customers_query = \"\"\"CREATE TABLE IF NOT EXISTS tbl_customers(CustomerID INT NOT NULL PRIMARY KEY, FullName VARCHAR(100) NOT NULL, PhoneNumber INT NOT NULL UNIQUE);\"\"\"\n",
    "create_table_bookings_query = \"\"\"CREATE TABLE IF NOT EXISTS tbl_bookings (BookingID INT NOT NULL PRIMARY KEY,  BookingDate DATE NOT NULL, TableNumber INT NOT NULL, NumberOfGuests INT NOT NULL CHECK (NumberOfGuests <= 8), \n",
    "CustomerID INT NOT NULL, FOREIGN KEY (CustomerID) REFERENCES tbl_customers (CustomerID) ON DELETE CASCADE ON UPDATE CASCADE); \"\"\"\n",
    "\n",
    "first_cursor.execute(create_table_customers_query)\n",
    "print(\"Table tbl_customers successfully created\")\n",
    "logger.info(\"Table tbl_customers successfully created\")\n",
    "first_cursor.execute(create_table_bookings_query)\n",
    "print(\"Table tbl_bookings successfully created\")\n",
    "logger.info(\"Table tbl_bookings successfully created\")"
   ]
  },
  {
   "cell_type": "code",
   "execution_count": 28,
   "id": "c00b1d62-169a-4d76-9fe5-fad891cbbecf",
   "metadata": {},
   "outputs": [
    {
     "name": "stdout",
     "output_type": "stream",
     "text": [
      "tbl_bookings\n",
      "tbl_customers\n",
      "tbl_orders\n"
     ]
    }
   ],
   "source": [
    "# Check to that the two additional tables were created in the database\n",
    "first_cursor.execute(\"SHOW TABLES;\")\n",
    "results = first_cursor.fetchall()\n",
    "assert len(results) == 3\n",
    "for table in results:\n",
    "    print(table[0]) "
   ]
  },
  {
   "cell_type": "code",
   "execution_count": 29,
   "id": "6dfda026-5111-407e-8254-89a0e7ca73e6",
   "metadata": {},
   "outputs": [],
   "source": [
    "## Populate the tables with Data\n",
    "insert_into_tbl_customers = \"\"\"INSERT INTO tbl_customers(CustomerID, FullName, PhoneNumber) VALUES (1, \"Vanessa McCarthy\", 0757536378), (2, \"Marcos Romero\", 0757536379), (3, \"Hiroki Yamane\", 0757536376), (4, \"Anna Iversen\", 0757536375), \n",
    "(5, \"Diana Pinto\", 0757536374);\"\"\"\n",
    "logger.info(\"Inserting records into the tbl_customers table\")\n",
    "first_cursor.execute(insert_into_tbl_customers)\n",
    "first_connection.commit()\n",
    "\n",
    "insert_into_tbl_bookings = \"\"\"INSERT INTO tbl_bookings (BookingID, BookingDate, TableNumber, NumberOfGuests, CustomerID) VALUES (10, '2021-11-11', 7, 5, 1), (11, '2021-11-10', 5, 2, 2), (12, '2021-11-10', 3, 2, 4);\"\"\"\n",
    "logger.info(\"Inserting records into the tbl_bookings table\")\n",
    "first_cursor.execute(insert_into_tbl_bookings)\n",
    "first_connection.commit()"
   ]
  },
  {
   "cell_type": "markdown",
   "id": "28f3df8e-33bb-4a1b-98e4-d8d3b9cd10d6",
   "metadata": {},
   "source": [
    "## Task 1\n",
    "Write an INNER JOIN SQL statement to combine the full name and the phone number of each customer from the Customers table with the related booking date and 'number of guests' from the Bookings table. "
   ]
  },
  {
   "cell_type": "code",
   "execution_count": 30,
   "id": "21c8c433-92a8-4aa1-8f44-6493185d69f5",
   "metadata": {},
   "outputs": [
    {
     "name": "stdout",
     "output_type": "stream",
     "text": [
      "+------------------+------------------+------------------+------------------+\n",
      "|     FullName     |   PhoneNumber    |   BookingDate    |  NumberOfGuests  |\n",
      "+------------------+------------------+------------------+------------------+\n",
      "| Vanessa McCarthy |    757536378     |    2021-11-11    |        5         |\n",
      "|  Marcos Romero   |    757536379     |    2021-11-10    |        2         |\n",
      "|   Anna Iversen   |    757536375     |    2021-11-10    |        2         |\n",
      "+------------------+------------------+------------------+------------------+\n"
     ]
    }
   ],
   "source": [
    "inner_join_query = \"\"\"SELECT FullName, PhoneNumber, BookingDate, NumberOfGuests FROM tbl_customers\n",
    "INNER JOIN tbl_bookings ON tbl_customers.CustomerID = tbl_bookings.CustomerID;\"\"\"\n",
    "display_query_results(inner_join_query)"
   ]
  },
  {
   "cell_type": "markdown",
   "id": "b808b6e3-7369-444d-bac9-9f490ddab83b",
   "metadata": {},
   "source": [
    "## Task 2\n",
    "Write a LEFT JOIN SQL statement to view the customer id from Customers table and the related booking id from the Bookings table."
   ]
  },
  {
   "cell_type": "code",
   "execution_count": 31,
   "id": "1d8aa1e1-45e9-43d0-8ddb-27c64d1cc5f9",
   "metadata": {},
   "outputs": [
    {
     "name": "stdout",
     "output_type": "stream",
     "text": [
      "+------------+------------+\n",
      "| CustomerID | BookingID  |\n",
      "+------------+------------+\n",
      "|     5      |    None    |\n",
      "|     4      |     12     |\n",
      "|     3      |    None    |\n",
      "|     1      |     10     |\n",
      "|     2      |     11     |\n",
      "+------------+------------+\n"
     ]
    }
   ],
   "source": [
    "left_join_query = \"\"\"SELECT tbl_customers.CustomerID, BookingID FROM tbl_customers\n",
    "LEFT JOIN tbl_bookings ON tbl_customers.CustomerID = tbl_bookings.CustomerID;\"\"\"\n",
    "display_query_results(left_join_query)"
   ]
  },
  {
   "cell_type": "markdown",
   "id": "a6ef1a6c-e5da-4bd1-a59d-f2e85fe4cde0",
   "metadata": {},
   "source": [
    "# Group By"
   ]
  },
  {
   "cell_type": "code",
   "execution_count": 32,
   "id": "323d40c1-4779-420d-a840-b1c11dd6c344",
   "metadata": {},
   "outputs": [
    {
     "name": "stdout",
     "output_type": "stream",
     "text": [
      "Table orders_tbl successfully created\n"
     ]
    }
   ],
   "source": [
    "create_new_order_table = \"\"\"CREATE TABLE orders_tbl(OrderID INT, Department VARCHAR(100), OrderDate DATE, OrderQty INT, OrderTotal INT, PRIMARY KEY(OrderID));\"\"\"\n",
    "first_cursor.execute(create_new_order_table)\n",
    "print(\"Table orders_tbl successfully created\")\n",
    "logger.info(\"Table orders_tbl successfully created\")"
   ]
  },
  {
   "cell_type": "code",
   "execution_count": 33,
   "id": "31a443fa-1ef3-45de-93af-64ad1680abdf",
   "metadata": {},
   "outputs": [],
   "source": [
    "insert_into_new_table = \"\"\"INSERT INTO orders_tbl VALUES(1,'Lawn Care','2022-05-05',12,500),(2,'Decking','2022-05-22',150,1450),(3,'Compost and Stones','2022-05-27',20,780),(4,'Trees and Shrubs','2022-06-01',15,400),(5,'Garden Decor','2022-06-10',2,1250),\n",
    "(6,'Lawn Care','2022-06-10',12,500),(7,'Decking','2022-06-25',150,1450),(8,'Compost and Stones','2022-05-29',20,780),(9,'Trees and Shrubs','2022-06-10',15,400),(10,'Garden Decor','2022-06-10',2,1250),(11,'Lawn Care','2022-06-25',10,400), \n",
    "(12,'Decking','2022-06-25',100,1400),(13,'Compost and Stones','2022-05-30',15,700),(14,'Trees and Shrubs','2022-06-15',10,300),(15,'Garden Decor','2022-06-11',2,1250),(16,'Lawn Care','2022-06-10',12,500),\n",
    "(17,'Decking','2022-06-25',150,1450),(18,'Trees and Shrubs','2022-06-10',15,400),(19,'Lawn Care','2022-06-10',12,500),(20,'Decking','2022-06-25',150,1450),(21,'Decking','2022-06-25',150,1450);\"\"\"\n",
    "\n",
    "\n",
    "logger.info(\"Inserting records into the orders_tbl table\")\n",
    "first_cursor.execute(insert_into_new_table)\n",
    "first_connection.commit()"
   ]
  },
  {
   "cell_type": "code",
   "execution_count": 34,
   "id": "f07e5d56-8342-404f-9df3-03009f81834c",
   "metadata": {},
   "outputs": [
    {
     "name": "stdout",
     "output_type": "stream",
     "text": [
      "+--------------------+--------------------+--------------------+--------------------+--------------------+\n",
      "|      OrderID       |     Department     |     OrderDate      |      OrderQty      |     OrderTotal     |\n",
      "+--------------------+--------------------+--------------------+--------------------+--------------------+\n",
      "|         1          |     Lawn Care      |     2022-05-05     |         12         |        500         |\n",
      "|         2          |      Decking       |     2022-05-22     |        150         |        1450        |\n",
      "|         3          | Compost and Stones |     2022-05-27     |         20         |        780         |\n",
      "|         4          |  Trees and Shrubs  |     2022-06-01     |         15         |        400         |\n",
      "|         5          |    Garden Decor    |     2022-06-10     |         2          |        1250        |\n",
      "|         6          |     Lawn Care      |     2022-06-10     |         12         |        500         |\n",
      "|         7          |      Decking       |     2022-06-25     |        150         |        1450        |\n",
      "|         8          | Compost and Stones |     2022-05-29     |         20         |        780         |\n",
      "|         9          |  Trees and Shrubs  |     2022-06-10     |         15         |        400         |\n",
      "|         10         |    Garden Decor    |     2022-06-10     |         2          |        1250        |\n",
      "|         11         |     Lawn Care      |     2022-06-25     |         10         |        400         |\n",
      "|         12         |      Decking       |     2022-06-25     |        100         |        1400        |\n",
      "|         13         | Compost and Stones |     2022-05-30     |         15         |        700         |\n",
      "|         14         |  Trees and Shrubs  |     2022-06-15     |         10         |        300         |\n",
      "|         15         |    Garden Decor    |     2022-06-11     |         2          |        1250        |\n",
      "|         16         |     Lawn Care      |     2022-06-10     |         12         |        500         |\n",
      "|         17         |      Decking       |     2022-06-25     |        150         |        1450        |\n",
      "|         18         |  Trees and Shrubs  |     2022-06-10     |         15         |        400         |\n",
      "|         19         |     Lawn Care      |     2022-06-10     |         12         |        500         |\n",
      "|         20         |      Decking       |     2022-06-25     |        150         |        1450        |\n",
      "|         21         |      Decking       |     2022-06-25     |        150         |        1450        |\n",
      "+--------------------+--------------------+--------------------+--------------------+--------------------+\n"
     ]
    }
   ],
   "source": [
    "select_query = \"SELECT * FROM orders_tbl\"\n",
    "display_query_results(select_query)"
   ]
  },
  {
   "cell_type": "markdown",
   "id": "697e914d-07f8-4d2e-9bce-d190f5d480fb",
   "metadata": {},
   "source": [
    "## Task 1\n",
    "Write a SQL SELECT statement to group all records that have the same order date."
   ]
  },
  {
   "cell_type": "code",
   "execution_count": 35,
   "id": "26ddfe37-f43b-4f75-b75e-b69be41a9012",
   "metadata": {},
   "outputs": [
    {
     "name": "stdout",
     "output_type": "stream",
     "text": [
      "+------------+\n",
      "| OrderDate  |\n",
      "+------------+\n",
      "| 2022-05-05 |\n",
      "| 2022-05-22 |\n",
      "| 2022-05-27 |\n",
      "| 2022-06-01 |\n",
      "| 2022-06-10 |\n",
      "| 2022-06-25 |\n",
      "| 2022-05-29 |\n",
      "| 2022-05-30 |\n",
      "| 2022-06-15 |\n",
      "| 2022-06-11 |\n",
      "+------------+\n"
     ]
    }
   ],
   "source": [
    "select_query = \"SELECT OrderDate FROM orders_tbl GROUP BY OrderDate\"\n",
    "display_query_results(select_query)"
   ]
  },
  {
   "cell_type": "markdown",
   "id": "946a2300-19e4-44f3-a19d-deaf8530a007",
   "metadata": {},
   "source": [
    "## Task 2\n",
    "Write a SQL SELECT statement to retrieve the number of orders placed on the same day."
   ]
  },
  {
   "cell_type": "code",
   "execution_count": 36,
   "id": "6c32afdf-4503-4af1-9c3c-eefebdadaaef",
   "metadata": {},
   "outputs": [
    {
     "name": "stdout",
     "output_type": "stream",
     "text": [
      "+---------------+---------------+\n",
      "|   OrderDate   | OrderQuantity |\n",
      "+---------------+---------------+\n",
      "|  2022-05-05   |       1       |\n",
      "|  2022-05-22   |       1       |\n",
      "|  2022-05-27   |       1       |\n",
      "|  2022-06-01   |       1       |\n",
      "|  2022-06-10   |       7       |\n",
      "|  2022-06-25   |       6       |\n",
      "|  2022-05-29   |       1       |\n",
      "|  2022-05-30   |       1       |\n",
      "|  2022-06-15   |       1       |\n",
      "|  2022-06-11   |       1       |\n",
      "+---------------+---------------+\n"
     ]
    }
   ],
   "source": [
    "select_query = \"SELECT OrderDate, Count(OrderQty) AS OrderQuantity FROM orders_tbl GROUP BY OrderDate\"\n",
    "display_query_results(select_query)"
   ]
  },
  {
   "cell_type": "markdown",
   "id": "aaf8e67b-f5a9-47d7-83f2-d79ae18acce7",
   "metadata": {},
   "source": [
    "## Task 3\n",
    "Write a SQL SELECT statement to retrieve the total order quantities placed by each department."
   ]
  },
  {
   "cell_type": "code",
   "execution_count": 37,
   "id": "a678bba5-b25d-44be-a36c-bfc4ae7c1d81",
   "metadata": {},
   "outputs": [
    {
     "name": "stdout",
     "output_type": "stream",
     "text": [
      "+--------------------+--------------------+\n",
      "|     Department     |   OrderQuantity    |\n",
      "+--------------------+--------------------+\n",
      "|     Lawn Care      |         58         |\n",
      "|      Decking       |        850         |\n",
      "| Compost and Stones |         55         |\n",
      "|  Trees and Shrubs  |         55         |\n",
      "|    Garden Decor    |         6          |\n",
      "+--------------------+--------------------+\n"
     ]
    }
   ],
   "source": [
    "select_query = \"SELECT Department, Sum(OrderQty) AS OrderQuantity FROM orders_tbl GROUP BY Department\"\n",
    "display_query_results(select_query)"
   ]
  },
  {
   "cell_type": "markdown",
   "id": "015db161-0d40-416f-a280-897d4a4661da",
   "metadata": {},
   "source": [
    "## Task 4\n",
    "Write a SQL SELECT statement to retrieve the number of orders placed on the same day between the following dates: 1st June 2022 and 30th June 2022."
   ]
  },
  {
   "cell_type": "code",
   "execution_count": 38,
   "id": "7870d14e-9455-4ff0-a0cd-f1accd37bad7",
   "metadata": {},
   "outputs": [
    {
     "name": "stdout",
     "output_type": "stream",
     "text": [
      "+---------------+---------------+\n",
      "|   OrderDate   | OrderQuantity |\n",
      "+---------------+---------------+\n",
      "|  2022-06-01   |       1       |\n",
      "|  2022-06-10   |       7       |\n",
      "|  2022-06-25   |       6       |\n",
      "|  2022-06-15   |       1       |\n",
      "|  2022-06-11   |       1       |\n",
      "+---------------+---------------+\n"
     ]
    }
   ],
   "source": [
    "select_query = \"SELECT OrderDate, Count(OrderQty) AS OrderQuantity FROM orders_tbl WHERE OrderDate BETWEEN '2022-06-01' AND '2022-06-30' GROUP BY OrderDate\"\n",
    "display_query_results(select_query)"
   ]
  },
  {
   "cell_type": "markdown",
   "id": "052b0257-baa0-4536-81b6-18e3b55d6f0c",
   "metadata": {},
   "source": [
    "# Replace Into\n",
    "How the REPLACE INTO statement works\n",
    "The REPLACE statement checks whether the intended data record's unique key value already exists in the table before inserting it as a new record or updating it. \n",
    "\n",
    "The REPLACE INTO statement attempts to insert a new record or modify an existing record. In both cases, it checks whether the unique key of the proposed record already exists in the table. Suppose a value of NO or FALSE is returned. In that case, the REPLACE statement inserts the record similar to the INSERT INTO statement.\n",
    "\n",
    "Suppose the key value already exists in the table (in other words, a duplicate key). In that case, the REPLACE statement deletes the existing record of data and replaces it with a new record of data. This happens regardless of whether you use the first or the second REPLACE statement syntax.\n",
    "\n",
    "```sql\n",
    "REPLACE INTO table_name (column1name, column2name, ...) \n",
    "VALUES (value1, value2, ...);\n",
    "```\n",
    "\n",
    "\n",
    "```sql\n",
    "REPLACE INTO table_name SET column1name = value, column2name = value, ... ;\n",
    "```"
   ]
  },
  {
   "cell_type": "code",
   "execution_count": 39,
   "id": "931c4093-4fbc-48a5-899a-910be033821f",
   "metadata": {},
   "outputs": [
    {
     "name": "stdout",
     "output_type": "stream",
     "text": [
      "+-----------+-----------+-----------+-----------+-----------+\n",
      "|  OrderID  | ClientID  | ProductID | Quantity  |   Cost    |\n",
      "+-----------+-----------+-----------+-----------+-----------+\n",
      "|     1     |    Cl1    |    P1     |    10     |  500.00   |\n",
      "|     2     |    Cl2    |    P2     |     5     |  100.00   |\n",
      "|     3     |    Cl3    |    P3     |    20     |  800.00   |\n",
      "|     4     |    Cl4    |    P4     |    15     |  150.00   |\n",
      "|     5     |    Cl3    |    P3     |    10     |  450.00   |\n",
      "|     6     |    Cl2    |    P2     |     5     |  800.00   |\n",
      "|     7     |    Cl1    |    P4     |    22     |  1200.00  |\n",
      "|     8     |    Cl3    |    P1     |    15     |  150.00   |\n",
      "|     9     |    Cl1    |    P1     |    10     |  500.00   |\n",
      "|    10     |    Cl2    |    P2     |     5     |  100.00   |\n",
      "+-----------+-----------+-----------+-----------+-----------+\n"
     ]
    }
   ],
   "source": [
    "select_query = \"SELECT * FROM tbl_orders\"\n",
    "display_query_results(select_query)"
   ]
  },
  {
   "cell_type": "markdown",
   "id": "3a1f3362-4ba6-43d7-846a-6b3f1c8c7925",
   "metadata": {},
   "source": [
    "## Task 1\n",
    "Write a SQL REPLACE statement that inserts two new orders with the following details:\n",
    "\n",
    "Order 11 data:\n",
    "- OrderID = 11, \n",
    "- ClientID = \"Cl2\", \n",
    "- ProductID = \"P3\", \n",
    "- Quantity = 50, \n",
    "- Cost = 5000\n",
    "\n",
    "Order 12 data:\n",
    "- OrderID = 12, \n",
    "- ClientID = \"Cl2\", \n",
    "- ProductID = \"P2\", \n",
    "- Quantity = 25, \n",
    "- Cost = 1000"
   ]
  },
  {
   "cell_type": "code",
   "execution_count": 40,
   "id": "1b1bc481-14ff-407f-bfe5-ed018a605d70",
   "metadata": {},
   "outputs": [],
   "source": [
    "replace_query = \"\"\"REPLACE INTO tbl_orders (OrderID, ClientID, ProductID, Quantity, Cost) \n",
    "VALUES (11, 'Cl2', 'P3', 50, 5000), (12, 'Cl2', 'P2', 25, 1000);\"\"\"\n",
    "\n",
    "first_cursor.execute(replace_query)\n",
    "first_connection.commit()"
   ]
  },
  {
   "cell_type": "code",
   "execution_count": 41,
   "id": "2e89491e-e988-40cb-83fc-1f700298db80",
   "metadata": {},
   "outputs": [
    {
     "name": "stdout",
     "output_type": "stream",
     "text": [
      "+-----------+-----------+-----------+-----------+-----------+\n",
      "|  OrderID  | ClientID  | ProductID | Quantity  |   Cost    |\n",
      "+-----------+-----------+-----------+-----------+-----------+\n",
      "|     1     |    Cl1    |    P1     |    10     |  500.00   |\n",
      "|     2     |    Cl2    |    P2     |     5     |  100.00   |\n",
      "|     3     |    Cl3    |    P3     |    20     |  800.00   |\n",
      "|     4     |    Cl4    |    P4     |    15     |  150.00   |\n",
      "|     5     |    Cl3    |    P3     |    10     |  450.00   |\n",
      "|     6     |    Cl2    |    P2     |     5     |  800.00   |\n",
      "|     7     |    Cl1    |    P4     |    22     |  1200.00  |\n",
      "|     8     |    Cl3    |    P1     |    15     |  150.00   |\n",
      "|     9     |    Cl1    |    P1     |    10     |  500.00   |\n",
      "|    10     |    Cl2    |    P2     |     5     |  100.00   |\n",
      "|    11     |    Cl2    |    P3     |    50     |  5000.00  |\n",
      "|    12     |    Cl2    |    P2     |    25     |  1000.00  |\n",
      "+-----------+-----------+-----------+-----------+-----------+\n"
     ]
    }
   ],
   "source": [
    "select_query = \"SELECT * FROM tbl_orders\"\n",
    "display_query_results(select_query)"
   ]
  },
  {
   "cell_type": "markdown",
   "id": "1ff297be-8beb-4480-89fe-ba707f5029fe",
   "metadata": {},
   "source": [
    "## Task 2\n",
    "It was noticed that the cost of order number 11 is \\\\\\$5000. This is a mistake. The order must cost \\\\$500. You must help them to change it to \\\\$500 by writing a relevant REPLACE statement. "
   ]
  },
  {
   "cell_type": "code",
   "execution_count": 42,
   "id": "255ad013-02c2-4227-927f-38f6a537e08d",
   "metadata": {},
   "outputs": [],
   "source": [
    "replace_query_set = \"\"\"REPLACE INTO tbl_orders SET OrderID = 11, ClientID = 'Cl2', ProductID = 'P3', Quantity = 50, Cost = 500;\"\"\"\n",
    "first_cursor.execute(replace_query_set)\n",
    "first_connection.commit()"
   ]
  },
  {
   "cell_type": "code",
   "execution_count": 43,
   "id": "5d88e9f0-c038-4a39-964a-0152b0c5f543",
   "metadata": {},
   "outputs": [
    {
     "name": "stdout",
     "output_type": "stream",
     "text": [
      "+-----------+-----------+-----------+-----------+-----------+\n",
      "|  OrderID  | ClientID  | ProductID | Quantity  |   Cost    |\n",
      "+-----------+-----------+-----------+-----------+-----------+\n",
      "|     1     |    Cl1    |    P1     |    10     |  500.00   |\n",
      "|     2     |    Cl2    |    P2     |     5     |  100.00   |\n",
      "|     3     |    Cl3    |    P3     |    20     |  800.00   |\n",
      "|     4     |    Cl4    |    P4     |    15     |  150.00   |\n",
      "|     5     |    Cl3    |    P3     |    10     |  450.00   |\n",
      "|     6     |    Cl2    |    P2     |     5     |  800.00   |\n",
      "|     7     |    Cl1    |    P4     |    22     |  1200.00  |\n",
      "|     8     |    Cl3    |    P1     |    15     |  150.00   |\n",
      "|     9     |    Cl1    |    P1     |    10     |  500.00   |\n",
      "|    10     |    Cl2    |    P2     |     5     |  100.00   |\n",
      "|    11     |    Cl2    |    P3     |    50     |  500.00   |\n",
      "|    12     |    Cl2    |    P2     |    25     |  1000.00  |\n",
      "+-----------+-----------+-----------+-----------+-----------+\n"
     ]
    }
   ],
   "source": [
    "select_query = \"SELECT * FROM tbl_orders\"\n",
    "display_query_results(select_query)"
   ]
  },
  {
   "cell_type": "code",
   "execution_count": 44,
   "id": "f9a9ef0b-7504-4f91-b1d5-5f817d87dde1",
   "metadata": {},
   "outputs": [],
   "source": [
    "first_cursor.close()\n",
    "first_connection.close()"
   ]
  }
 ],
 "metadata": {
  "kernelspec": {
   "display_name": "Python 3 (ipykernel)",
   "language": "python",
   "name": "python3"
  },
  "language_info": {
   "codemirror_mode": {
    "name": "ipython",
    "version": 3
   },
   "file_extension": ".py",
   "mimetype": "text/x-python",
   "name": "python",
   "nbconvert_exporter": "python",
   "pygments_lexer": "ipython3",
   "version": "3.11.7"
  }
 },
 "nbformat": 4,
 "nbformat_minor": 5
}
